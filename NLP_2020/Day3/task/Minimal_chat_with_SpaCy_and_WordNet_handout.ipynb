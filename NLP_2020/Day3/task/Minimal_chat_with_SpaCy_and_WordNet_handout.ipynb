{
 "cells": [
  {
   "cell_type": "markdown",
   "metadata": {},
   "source": [
    "# Building basic chatbots with rules, syntax and semantic nets\n",
    "\n",
    "It is increasingly often, that companies would like to automate internal or customer facing tasks via a chat interface. Though there are mature frameworks (like [RASA](https://rasa.com/)) or services (like [Microsoft Bot Framework](https://dev.botframework.com/) or [Chatfuel](https://chatfuel.com/)), we will attempt to set up a basic analysis pipeline based on SpaCy and WordNet, that can give us some coverage in a basic banking scenario.   \n",
    "\n",
    "We will use SpaCy for our basic analysis (including syntax), as well as a simple addon, that connects it to WordNet called unsurprisingly [SpaCy-WordNet](https://spacy.io/universe/project/spacy-wordnet).\n",
    "\n",
    "Let's take the following texts as a problem:"
   ]
  },
  {
   "cell_type": "code",
   "execution_count": 1,
   "metadata": {
    "ExecuteTime": {
     "end_time": "2019-11-11T11:45:51.229539Z",
     "start_time": "2019-11-11T11:45:51.225013Z"
    }
   },
   "outputs": [],
   "source": [
    "test_texts = [\n",
    "    \"I would like to deposit 5000 euros.\",\n",
    "    \"I would like to put in 5000 euros.\",\n",
    "    \"I would like to pay in 5000 euros.\",\n",
    "    \"I would like to pay up 5000EUR.\",\n",
    "    \"Can I pay in 5000 euros, please?\",\n",
    "    \n",
    "    \n",
    "    \"I would like to deposit money.\",\n",
    "    \n",
    "\n",
    "    \"I am about to take out 5000 euros.\",\n",
    "    \"I am about to get out 5000 euros.\",\n",
    "    \"I am about to withdraw 5000 euros.\",\n",
    "    \"I want to withdraw 5000 USD.\",\n",
    "    \"Can I withdraw $5000.\",\n",
    "\n",
    "    \n",
    "    \"Can I check my account, please?\",\n",
    "    \"May I see my balance, please?\",\n",
    "    \"Could I query my account, please?\",\n",
    "    \"I would like to see my account balance.\"\n",
    "]"
   ]
  },
  {
   "cell_type": "markdown",
   "metadata": {},
   "source": [
    "## Let's try some syntactic analysis!\n",
    "\n",
    "The first goal is to see, if we can filter out, based on some common POS / Dependency structure the \"main message\", the things that people would like to say with the sentences above.\n",
    "\n",
    "The expected output based on our analysis would be something like:"
   ]
  },
  {
   "cell_type": "markdown",
   "metadata": {},
   "source": [
    "```\n",
    "[deposit, 5000, euros]\n",
    "[put, in, 5000, euros]\n",
    "[pay, in, 5000, euros]\n",
    "[pay, up, 5000EUR]\n",
    "[pay, in, 5000, euros]\n",
    "[deposit, money]\n",
    "[take, out, 5000, euros]\n",
    "----- No success in parsing. Original: I am about to get out 5000 euros.\n",
    "[withdraw, 5000, euros]\n",
    "[withdraw, 5000, USD]\n",
    "[withdraw, $, 5000]\n",
    "[check, my, account]\n",
    "[see, my, balance]\n",
    "[query, my, account]\n",
    "[see, my, account, balance]\n",
    "```"
   ]
  },
  {
   "cell_type": "code",
   "execution_count": null,
   "metadata": {},
   "outputs": [],
   "source": [
    "%%capture\n",
    "import nltk\n",
    "nltk.download('wordnet')"
   ]
  },
  {
   "cell_type": "markdown",
   "metadata": {},
   "source": [
    "### Preliminaries: install SpaCy and initialize model"
   ]
  },
  {
   "cell_type": "code",
   "execution_count": 2,
   "metadata": {
    "ExecuteTime": {
     "end_time": "2019-11-11T11:45:54.885571Z",
     "start_time": "2019-11-11T11:45:51.232265Z"
    }
   },
   "outputs": [],
   "source": [
    "...."
   ]
  },
  {
   "cell_type": "code",
   "execution_count": 3,
   "metadata": {
    "ExecuteTime": {
     "end_time": "2019-11-11T11:45:55.737042Z",
     "start_time": "2019-11-11T11:45:54.894640Z"
    }
   },
   "outputs": [],
   "source": [
    "import ....\n",
    "\n",
    "nlp = ...."
   ]
  },
  {
   "cell_type": "code",
   "execution_count": 4,
   "metadata": {
    "ExecuteTime": {
     "end_time": "2019-11-11T11:45:55.759307Z",
     "start_time": "2019-11-11T11:45:55.738655Z"
    }
   },
   "outputs": [],
   "source": [
    "# We create one document out of the array of sentences for convenience.\n",
    "long_text = \" \".join(test_texts)\n",
    "\n",
    "doc = nlp(long_text ) "
   ]
  },
  {
   "cell_type": "markdown",
   "metadata": {},
   "source": [
    "### Try some syntactic matching on the texts!\n",
    "\n",
    "Let us use the syntactic analysis of SpaCy to get to the \"core\" of the sentences!\n",
    "\n",
    "Let us assume, that we are interested in **verbs** and their **minimal subtrees**!\n",
    "\n",
    "Please\n",
    "\n",
    "1. look for the verbs in the sentences, \n",
    "2. get their subtrees,\n",
    "3. delete every token from the \"left\" of the verb\n",
    "4. from the \"right\" subtree, filter interjections and punctuations,\n",
    "5. keep the shortest such subtree from the sentence and print it out!\n",
    "\n",
    "For the visualization of the sentence tree use [DisplaCy](https://spacy.io/usage/visualizers)."
   ]
  },
  {
   "cell_type": "code",
   "execution_count": 5,
   "metadata": {
    "ExecuteTime": {
     "end_time": "2019-11-11T11:45:55.767176Z",
     "start_time": "2019-11-11T11:45:55.760799Z"
    }
   },
   "outputs": [
    {
     "name": "stdout",
     "output_type": "stream",
     "text": [
      "[deposit, 5000, euros]\n",
      "[put, in, 5000, euros]\n",
      "[pay, in, 5000, euros]\n",
      "[pay, up, 5000EUR]\n",
      "[pay, in, 5000, euros]\n",
      "[deposit, money]\n",
      "[take, out, 5000, euros]\n",
      "----- No success in parsing. Original: I am about to get out 5000 euros.\n",
      "[withdraw, 5000, euros]\n",
      "[withdraw, 5000, USD]\n",
      "[withdraw, $, 5000]\n",
      "[check, my, account]\n",
      "[see, my, balance]\n",
      "[query, my, account]\n",
      "[see, my, account, balance]\n"
     ]
    }
   ],
   "source": [
    "for sentence in doc.sents:\n",
    "    sentence_subtree = []\n",
    "        \n",
    "    for token in sentence:\n",
    "    \n",
    "        ....\n",
    "    \n",
    "    if sentence_subtree:\n",
    "        print(sentence_subtree)\n",
    "    else:\n",
    "        print(\"----- No success in parsing. Original:\",sentence)\n"
   ]
  },
  {
   "cell_type": "markdown",
   "metadata": {},
   "source": [
    "As we can see, even in this simple case, some noise remains, that is: with our method we can not achieve success by sentence 8. Please observe, and let's discuss, why!"
   ]
  },
  {
   "cell_type": "code",
   "execution_count": 6,
   "metadata": {
    "ExecuteTime": {
     "end_time": "2019-11-11T11:45:55.786989Z",
     "start_time": "2019-11-11T11:45:55.769377Z"
    }
   },
   "outputs": [
    {
     "data": {
      "text/html": [
       "<svg xmlns=\"http://www.w3.org/2000/svg\" xmlns:xlink=\"http://www.w3.org/1999/xlink\" xml:lang=\"en\" id=\"23140aa94c3c49feba715b07c80398f3-0\" class=\"displacy\" width=\"1450\" height=\"399.5\" direction=\"ltr\" style=\"max-width: none; height: 399.5px; color: #000000; background: #ffffff; font-family: Arial; direction: ltr\">\n",
       "<text class=\"displacy-token\" fill=\"currentColor\" text-anchor=\"middle\" y=\"309.5\">\n",
       "    <tspan class=\"displacy-word\" fill=\"currentColor\" x=\"50\">I</tspan>\n",
       "    <tspan class=\"displacy-tag\" dy=\"2em\" fill=\"currentColor\" x=\"50\">PRON</tspan>\n",
       "</text>\n",
       "\n",
       "<text class=\"displacy-token\" fill=\"currentColor\" text-anchor=\"middle\" y=\"309.5\">\n",
       "    <tspan class=\"displacy-word\" fill=\"currentColor\" x=\"225\">am</tspan>\n",
       "    <tspan class=\"displacy-tag\" dy=\"2em\" fill=\"currentColor\" x=\"225\">AUX</tspan>\n",
       "</text>\n",
       "\n",
       "<text class=\"displacy-token\" fill=\"currentColor\" text-anchor=\"middle\" y=\"309.5\">\n",
       "    <tspan class=\"displacy-word\" fill=\"currentColor\" x=\"400\">about</tspan>\n",
       "    <tspan class=\"displacy-tag\" dy=\"2em\" fill=\"currentColor\" x=\"400\">ADJ</tspan>\n",
       "</text>\n",
       "\n",
       "<text class=\"displacy-token\" fill=\"currentColor\" text-anchor=\"middle\" y=\"309.5\">\n",
       "    <tspan class=\"displacy-word\" fill=\"currentColor\" x=\"575\">to</tspan>\n",
       "    <tspan class=\"displacy-tag\" dy=\"2em\" fill=\"currentColor\" x=\"575\">PART</tspan>\n",
       "</text>\n",
       "\n",
       "<text class=\"displacy-token\" fill=\"currentColor\" text-anchor=\"middle\" y=\"309.5\">\n",
       "    <tspan class=\"displacy-word\" fill=\"currentColor\" x=\"750\">get</tspan>\n",
       "    <tspan class=\"displacy-tag\" dy=\"2em\" fill=\"currentColor\" x=\"750\">AUX</tspan>\n",
       "</text>\n",
       "\n",
       "<text class=\"displacy-token\" fill=\"currentColor\" text-anchor=\"middle\" y=\"309.5\">\n",
       "    <tspan class=\"displacy-word\" fill=\"currentColor\" x=\"925\">out</tspan>\n",
       "    <tspan class=\"displacy-tag\" dy=\"2em\" fill=\"currentColor\" x=\"925\">ADP</tspan>\n",
       "</text>\n",
       "\n",
       "<text class=\"displacy-token\" fill=\"currentColor\" text-anchor=\"middle\" y=\"309.5\">\n",
       "    <tspan class=\"displacy-word\" fill=\"currentColor\" x=\"1100\">5000</tspan>\n",
       "    <tspan class=\"displacy-tag\" dy=\"2em\" fill=\"currentColor\" x=\"1100\">NUM</tspan>\n",
       "</text>\n",
       "\n",
       "<text class=\"displacy-token\" fill=\"currentColor\" text-anchor=\"middle\" y=\"309.5\">\n",
       "    <tspan class=\"displacy-word\" fill=\"currentColor\" x=\"1275\">euros.</tspan>\n",
       "    <tspan class=\"displacy-tag\" dy=\"2em\" fill=\"currentColor\" x=\"1275\">NOUN</tspan>\n",
       "</text>\n",
       "\n",
       "<g class=\"displacy-arrow\">\n",
       "    <path class=\"displacy-arc\" id=\"arrow-23140aa94c3c49feba715b07c80398f3-0-0\" stroke-width=\"2px\" d=\"M70,264.5 C70,177.0 215.0,177.0 215.0,264.5\" fill=\"none\" stroke=\"currentColor\"/>\n",
       "    <text dy=\"1.25em\" style=\"font-size: 0.8em; letter-spacing: 1px\">\n",
       "        <textPath xlink:href=\"#arrow-23140aa94c3c49feba715b07c80398f3-0-0\" class=\"displacy-label\" startOffset=\"50%\" side=\"left\" fill=\"currentColor\" text-anchor=\"middle\">nsubj</textPath>\n",
       "    </text>\n",
       "    <path class=\"displacy-arrowhead\" d=\"M70,266.5 L62,254.5 78,254.5\" fill=\"currentColor\"/>\n",
       "</g>\n",
       "\n",
       "<g class=\"displacy-arrow\">\n",
       "    <path class=\"displacy-arc\" id=\"arrow-23140aa94c3c49feba715b07c80398f3-0-1\" stroke-width=\"2px\" d=\"M245,264.5 C245,177.0 390.0,177.0 390.0,264.5\" fill=\"none\" stroke=\"currentColor\"/>\n",
       "    <text dy=\"1.25em\" style=\"font-size: 0.8em; letter-spacing: 1px\">\n",
       "        <textPath xlink:href=\"#arrow-23140aa94c3c49feba715b07c80398f3-0-1\" class=\"displacy-label\" startOffset=\"50%\" side=\"left\" fill=\"currentColor\" text-anchor=\"middle\">acomp</textPath>\n",
       "    </text>\n",
       "    <path class=\"displacy-arrowhead\" d=\"M390.0,266.5 L398.0,254.5 382.0,254.5\" fill=\"currentColor\"/>\n",
       "</g>\n",
       "\n",
       "<g class=\"displacy-arrow\">\n",
       "    <path class=\"displacy-arc\" id=\"arrow-23140aa94c3c49feba715b07c80398f3-0-2\" stroke-width=\"2px\" d=\"M595,264.5 C595,177.0 740.0,177.0 740.0,264.5\" fill=\"none\" stroke=\"currentColor\"/>\n",
       "    <text dy=\"1.25em\" style=\"font-size: 0.8em; letter-spacing: 1px\">\n",
       "        <textPath xlink:href=\"#arrow-23140aa94c3c49feba715b07c80398f3-0-2\" class=\"displacy-label\" startOffset=\"50%\" side=\"left\" fill=\"currentColor\" text-anchor=\"middle\">aux</textPath>\n",
       "    </text>\n",
       "    <path class=\"displacy-arrowhead\" d=\"M595,266.5 L587,254.5 603,254.5\" fill=\"currentColor\"/>\n",
       "</g>\n",
       "\n",
       "<g class=\"displacy-arrow\">\n",
       "    <path class=\"displacy-arc\" id=\"arrow-23140aa94c3c49feba715b07c80398f3-0-3\" stroke-width=\"2px\" d=\"M420,264.5 C420,89.5 745.0,89.5 745.0,264.5\" fill=\"none\" stroke=\"currentColor\"/>\n",
       "    <text dy=\"1.25em\" style=\"font-size: 0.8em; letter-spacing: 1px\">\n",
       "        <textPath xlink:href=\"#arrow-23140aa94c3c49feba715b07c80398f3-0-3\" class=\"displacy-label\" startOffset=\"50%\" side=\"left\" fill=\"currentColor\" text-anchor=\"middle\">xcomp</textPath>\n",
       "    </text>\n",
       "    <path class=\"displacy-arrowhead\" d=\"M745.0,266.5 L753.0,254.5 737.0,254.5\" fill=\"currentColor\"/>\n",
       "</g>\n",
       "\n",
       "<g class=\"displacy-arrow\">\n",
       "    <path class=\"displacy-arc\" id=\"arrow-23140aa94c3c49feba715b07c80398f3-0-4\" stroke-width=\"2px\" d=\"M770,264.5 C770,177.0 915.0,177.0 915.0,264.5\" fill=\"none\" stroke=\"currentColor\"/>\n",
       "    <text dy=\"1.25em\" style=\"font-size: 0.8em; letter-spacing: 1px\">\n",
       "        <textPath xlink:href=\"#arrow-23140aa94c3c49feba715b07c80398f3-0-4\" class=\"displacy-label\" startOffset=\"50%\" side=\"left\" fill=\"currentColor\" text-anchor=\"middle\">prt</textPath>\n",
       "    </text>\n",
       "    <path class=\"displacy-arrowhead\" d=\"M915.0,266.5 L923.0,254.5 907.0,254.5\" fill=\"currentColor\"/>\n",
       "</g>\n",
       "\n",
       "<g class=\"displacy-arrow\">\n",
       "    <path class=\"displacy-arc\" id=\"arrow-23140aa94c3c49feba715b07c80398f3-0-5\" stroke-width=\"2px\" d=\"M1120,264.5 C1120,177.0 1265.0,177.0 1265.0,264.5\" fill=\"none\" stroke=\"currentColor\"/>\n",
       "    <text dy=\"1.25em\" style=\"font-size: 0.8em; letter-spacing: 1px\">\n",
       "        <textPath xlink:href=\"#arrow-23140aa94c3c49feba715b07c80398f3-0-5\" class=\"displacy-label\" startOffset=\"50%\" side=\"left\" fill=\"currentColor\" text-anchor=\"middle\">nummod</textPath>\n",
       "    </text>\n",
       "    <path class=\"displacy-arrowhead\" d=\"M1120,266.5 L1112,254.5 1128,254.5\" fill=\"currentColor\"/>\n",
       "</g>\n",
       "\n",
       "<g class=\"displacy-arrow\">\n",
       "    <path class=\"displacy-arc\" id=\"arrow-23140aa94c3c49feba715b07c80398f3-0-6\" stroke-width=\"2px\" d=\"M770,264.5 C770,2.0 1275.0,2.0 1275.0,264.5\" fill=\"none\" stroke=\"currentColor\"/>\n",
       "    <text dy=\"1.25em\" style=\"font-size: 0.8em; letter-spacing: 1px\">\n",
       "        <textPath xlink:href=\"#arrow-23140aa94c3c49feba715b07c80398f3-0-6\" class=\"displacy-label\" startOffset=\"50%\" side=\"left\" fill=\"currentColor\" text-anchor=\"middle\">dobj</textPath>\n",
       "    </text>\n",
       "    <path class=\"displacy-arrowhead\" d=\"M1275.0,266.5 L1283.0,254.5 1267.0,254.5\" fill=\"currentColor\"/>\n",
       "</g>\n",
       "</svg>"
      ],
      "text/plain": [
       "<IPython.core.display.HTML object>"
      ]
     },
     "metadata": {},
     "output_type": "display_data"
    }
   ],
   "source": [
    "from spacy import displacy\n",
    "\n",
    "doc=nlp(test_texts[7])\n",
    "\n",
    "displacy.render(doc, style=\"dep\", jupyter=True)\n"
   ]
  },
  {
   "cell_type": "markdown",
   "metadata": {},
   "source": [
    "It is worth noting, that some addon libraries, like [Textacy](https://spacy.io/universe/project/textacy) have built in functions that can come in handy in these topics.\n",
    "\n",
    "Like:\n",
    "\n",
    "`textacy.spacier.utils.get_main_verbs_of_sent(sent)`\n",
    "Return the main (non-auxiliary) verbs in a sentence.\n",
    "\n",
    "`textacy.spacier.utils.get_subjects_of_verb(verb)`\n",
    "Return all subjects of a verb according to the dependency parse.\n",
    "\n",
    "`textacy.spacier.utils.get_objects_of_verb(verb)`\n",
    "Return all objects of a verb according to the dependency parse, including open clausal complements.\n",
    "\n",
    "`textacy.spacier.utils.get_span_for_compound_noun(noun)`\n",
    "Return document indexes spanning all (adjacent) tokens in a compound noun.\n",
    "\n",
    "`textacy.spacier.utils.get_span_for_verb_auxiliaries(verb)`\n",
    "Return document indexes spanning all (adjacent) tokens around a verb that are auxiliary verbs or negations.\n",
    "\n",
    "None the less, if we want to carry out some definite actions for these sentences, we have to try another route."
   ]
  },
  {
   "cell_type": "markdown",
   "metadata": {},
   "source": [
    "## Second try: detecting \"intents\" and \"entities\" with the help of WordNet\n",
    "\n",
    "In processing chat utterances, the two common tasks are to:\n",
    "\n",
    "1. Detect the overall intent of the given utterance\n",
    "2. Extract some key parameters needed for action.\n",
    "\n",
    "The first is called **\"intent detection\"** the second **\"entity extraction\"**.\n",
    "\n",
    "More on this can be found in the Theory section on chatbots, discussed later.\n",
    "\n",
    "Though the standard practice for the first step is to build up a sentence classifier, and the second is done usually with some token level classifier / matching, now we will utilize the same rule based matching mechanism of SpaCy that we did before, albeit with a twist.\n",
    "\n",
    "One of the main problems, as we saw before is the **variety of utterances**, that is, people tend to formulate the same intent in myriad ways. We will intend to mitigate this by **increasing coverage with WorNet synonyms**.\n",
    "\n",
    "For this we need a connection between our analysis pipeline and WordNet. Luckily, we have it as an extension.\n"
   ]
  },
  {
   "cell_type": "markdown",
   "metadata": {},
   "source": [
    "### Install extension and register it to the pipeline"
   ]
  },
  {
   "cell_type": "code",
   "execution_count": 7,
   "metadata": {
    "ExecuteTime": {
     "end_time": "2019-11-11T11:45:56.816094Z",
     "start_time": "2019-11-11T11:45:55.788687Z"
    }
   },
   "outputs": [],
   "source": [
    "!pip install spacy-wordnet"
   ]
  },
  {
   "cell_type": "code",
   "execution_count": 8,
   "metadata": {
    "ExecuteTime": {
     "end_time": "2019-11-11T11:45:57.312343Z",
     "start_time": "2019-11-11T11:45:56.822682Z"
    }
   },
   "outputs": [],
   "source": [
    "from ....\n",
    "\n",
    ".... #Register to the pipeline"
   ]
  },
  {
   "cell_type": "markdown",
   "metadata": {},
   "source": [
    "### Setting up a custom detector for intents\n",
    "\n",
    "As said, we will hijack the entity detector capability of SpaCy to classify intents.\n",
    "\n",
    "For this, we need to define custom rules with `EntityRuler`, and some patterns that match our intents.\n",
    "\n",
    "We have all in all 3 intents in mind:\n",
    "\n",
    "`INTENTS = [\"TAKEOUT_INTENT\",\"PAYIN_INTENT\",\"BALANCE_INTENT\"]`\n",
    "\n",
    "First define patterns **one for each**, register it, try to run the pipeline, and see the result.\n",
    "\n",
    "After it, you will have to **get back to this cell and iteratively refine the pattern** based on the results of WordNet enrichment below.\n",
    "\n",
    "First make it run through, then refine!\n",
    "All in all 7 patterns are enough in total to detect the three intents in all their forms seen here with the help of WordNet synsets.\n",
    "\n",
    "#### Set up EntityRuler"
   ]
  },
  {
   "cell_type": "code",
   "execution_count": 9,
   "metadata": {
    "ExecuteTime": {
     "end_time": "2019-11-11T11:45:58.608620Z",
     "start_time": "2019-11-11T11:45:57.315205Z"
    }
   },
   "outputs": [],
   "source": [
    "from spacy....\n",
    "\n",
    "INTENTS = [\"TAKEOUT_INTENT\",\"PAYIN_INTENT\",\"BALANCE_INTENT\"]\n",
    "\n",
    "ruler = ....\n",
    "\n",
    "patterns = [....]\n",
    "\n",
    "# Add the patterns to the ruler\n",
    "....\n",
    "# Add the ruler to the pipeline\n",
    "...."
   ]
  },
  {
   "cell_type": "markdown",
   "metadata": {},
   "source": [
    "#### Define a `detect_intent` function\n",
    "\n",
    "The function takes in as an input an analysed sentence (`Doc`), a list on intents (eg. `INTENTS`), ad gives back the found intent or `None`."
   ]
  },
  {
   "cell_type": "code",
   "execution_count": 10,
   "metadata": {
    "ExecuteTime": {
     "end_time": "2019-11-11T11:45:58.613673Z",
     "start_time": "2019-11-11T11:45:58.610722Z"
    }
   },
   "outputs": [],
   "source": [
    "def detect_intent(analysed_sentence, intents):\n",
    "    # In this case, we do not do proper intent detection,\n",
    "    # which would be a whole sentence classification task, based on it's semantics,\n",
    "    # but we do an intelligent entity matching based on our rules,\n",
    "    # where we treat intents as special entities.\n",
    "    \n",
    "    found=None\n",
    "    \n",
    "    ....\n",
    "    \n",
    "    return found"
   ]
  },
  {
   "cell_type": "markdown",
   "metadata": {},
   "source": [
    "### Setitng up a function for detecting \"real\" entities\n",
    "\n",
    "In SpaCy's world, monetary units and numbers are considered to be entities by default, thus the built in Named Entity Recognizer (`ner` in the pipeline) detects and tags those.\n",
    "\n",
    "In our case we are only interested in the monetary entities. **Please bear in mind that MULTIPLE categories can mean money, so some times normal numbers, sometimes formal money, etc. Use multiple numeric categories for detection!**\n",
    "\n",
    "More on this [here](https://spacy.io/usage/linguistic-features/#named-entities) and [here](https://spacy.io/api/annotation#named-entities)."
   ]
  },
  {
   "cell_type": "code",
   "execution_count": 11,
   "metadata": {
    "ExecuteTime": {
     "end_time": "2019-11-11T11:45:58.622131Z",
     "start_time": "2019-11-11T11:45:58.614805Z"
    }
   },
   "outputs": [],
   "source": [
    "MONEY = [\"MONEY\", \"CARDINAL\", \"QUANTITY\"]\n",
    "\n",
    "def detect_money(analysed_sentence, money):\n",
    "    \n",
    "    found_money = None\n",
    "    only_numbers = None\n",
    "    \n",
    "    ....\n",
    "    \n",
    "    # Please return only the numbers from the money!!!\n",
    "    \n",
    "    return only_numbers "
   ]
  },
  {
   "cell_type": "markdown",
   "metadata": {},
   "source": [
    "### Enriching intent detection with WordNet\n",
    "\n",
    "As we well saw, if we don't want to manually set up the patterns that match all test cases - which is unsustainable for a much bigger corpus than this - we need some semantic help.\n",
    "\n",
    "Let's define a super crude `enrich_sentence` function, that generates sentence variants from the input. It takes in an analysed sentence (`doc`), a set of domains (in our case eg. `ECONOMY_DOMAINS`), and **for each token in the sentence searches for the sysnonyms inside our domains, then replaces the token with it's synonym, and appends the new sentence to a list.**\n",
    "\n",
    "**Finally we expect to get back a set of sentence variants as texts in a list.**"
   ]
  },
  {
   "cell_type": "code",
   "execution_count": 12,
   "metadata": {
    "ExecuteTime": {
     "end_time": "2019-11-11T11:45:58.626815Z",
     "start_time": "2019-11-11T11:45:58.623370Z"
    }
   },
   "outputs": [],
   "source": [
    "ECONOMY_DOMAINS = ['finance', 'banking']\n",
    "\n",
    "\n",
    "def enrich_sentence(analysed_sentence, domains):\n",
    "\n",
    "    enriched_sentences = []\n",
    "\n",
    "    ....\n",
    "    \n",
    "    #Please bear in mind that WordNet lemmas can be of multiple words, thus containing a \"_\" which we don't need.\n",
    "    \n",
    "    return enriched_sentences"
   ]
  },
  {
   "cell_type": "markdown",
   "metadata": {},
   "source": [
    "#### Full search for intents\n",
    "\n",
    "Based on the `detect_intent` and `enrich_sentence` functions we set up the full logic that searches for intents.\n",
    "\n",
    "The function has to accept an analysed sentence (`Doc`), the list of intents and the list of domains as above, and then **try to find the intent in the default sentence. If not found, try to enrich the sentence, then search in the enriched ones. Return an intent if found.**"
   ]
  },
  {
   "cell_type": "code",
   "execution_count": 13,
   "metadata": {
    "ExecuteTime": {
     "end_time": "2019-11-11T11:45:58.632646Z",
     "start_time": "2019-11-11T11:45:58.628020Z"
    }
   },
   "outputs": [],
   "source": [
    "def search_for_intents(analysed_sentence, intents, domains):\n",
    "\n",
    "    found_intent = None\n",
    "        \n",
    "    ....\n",
    "    \n",
    "    return found_intent"
   ]
  },
  {
   "cell_type": "markdown",
   "metadata": {},
   "source": [
    "#### Let's try this out!"
   ]
  },
  {
   "cell_type": "code",
   "execution_count": 14,
   "metadata": {
    "ExecuteTime": {
     "end_time": "2019-11-11T11:45:58.694647Z",
     "start_time": "2019-11-11T11:45:58.634052Z"
    }
   },
   "outputs": [
    {
     "name": "stdout",
     "output_type": "stream",
     "text": [
      "TAKEOUT_INTENT\n"
     ]
    }
   ],
   "source": [
    "sentence = nlp(\"I would like to withdraw 5000 euros.\")\n",
    "\n",
    "found_intent = search_for_intents(sentence,INTENTS,ECONOMY_DOMAINS)\n",
    "\n",
    "print(found_intent)"
   ]
  },
  {
   "cell_type": "markdown",
   "metadata": {},
   "source": [
    "## Finally: parse the full query\n",
    "\n",
    "Refine the original patterns and all the functions until the tests pass at the end of the notebook. Use **the least amount of handmade patterns possible!**"
   ]
  },
  {
   "cell_type": "code",
   "execution_count": 15,
   "metadata": {
    "ExecuteTime": {
     "end_time": "2019-11-11T11:45:58.700317Z",
     "start_time": "2019-11-11T11:45:58.696151Z"
    }
   },
   "outputs": [],
   "source": [
    "def parse_query(query, intents, domains, money):\n",
    "    \n",
    "    analysed_sentence = nlp(query)\n",
    "    found_intent = search_for_intents(analysed_sentence,intents, domains)\n",
    "    if found_intent == intents[0] or found_intent == intents[1]:\n",
    "        amount = detect_money(analysed_sentence,money)\n",
    "        if amount:\n",
    "            print(\"Executing\",found_intent,\"with\",amount)\n",
    "            return (found_intent, amount)\n",
    "        else:\n",
    "            print(\"No amount was given, please add one!\")\n",
    "            return (found_intent, None)\n",
    "    elif found_intent == intents[-1]:\n",
    "        print(\"Getting you your account balance, one moment...\")\n",
    "        return (found_intent, None)\n",
    "    else:\n",
    "        print(\"Can't parse what you are asking for, sorry!\")\n",
    "        return (None, None)"
   ]
  },
  {
   "cell_type": "code",
   "execution_count": 16,
   "metadata": {
    "ExecuteTime": {
     "end_time": "2019-11-11T11:45:58.757534Z",
     "start_time": "2019-11-11T11:45:58.701701Z"
    }
   },
   "outputs": [
    {
     "name": "stdout",
     "output_type": "stream",
     "text": [
      "Executing TAKEOUT_INTENT with 5000\n"
     ]
    },
    {
     "data": {
      "text/plain": [
       "('TAKEOUT_INTENT', '5000')"
      ]
     },
     "execution_count": 16,
     "metadata": {},
     "output_type": "execute_result"
    }
   ],
   "source": [
    "parse_query(\"I would like to withdraw 5000.\",INTENTS, ECONOMY_DOMAINS, MONEY)"
   ]
  },
  {
   "cell_type": "code",
   "execution_count": 17,
   "metadata": {
    "ExecuteTime": {
     "end_time": "2019-11-11T11:45:58.763117Z",
     "start_time": "2019-11-11T11:45:58.758974Z"
    }
   },
   "outputs": [],
   "source": [
    "tests = [\n",
    "    (\"I would like to deposit 5000 euros.\",(\"PAYIN_INTENT\",\"5000\")),\n",
    "    (\"I would like to put in 5000 euros.\",(\"PAYIN_INTENT\",\"5000\")),\n",
    "    (\"I would like to pay in 5000 euros.\",(\"PAYIN_INTENT\",\"5000\")),\n",
    "    (\"I would like to pay up 5000EUR.\",(\"PAYIN_INTENT\",\"5000\")),\n",
    "    (\"Can I pay in 5000 euros, please?\",(\"PAYIN_INTENT\",\"5000\")),\n",
    "    \n",
    "    \n",
    "    (\"I would like to deposit money.\",(\"PAYIN_INTENT\",None)),\n",
    "    \n",
    "\n",
    "    (\"I am about to take out 5000 euros.\",(\"TAKEOUT_INTENT\",\"5000\")),\n",
    "    (\"I am about to get out 5000 euros.\",(\"TAKEOUT_INTENT\",\"5000\")),\n",
    "    (\"I am about to withdraw 5000 euros.\",(\"TAKEOUT_INTENT\",\"5000\")),\n",
    "    (\"I want to withdraw 5000 USD.\",(\"TAKEOUT_INTENT\",\"5000\")),\n",
    "    (\"Can I withdraw $5000.\",(\"TAKEOUT_INTENT\",\"5000\")),\n",
    "\n",
    "    \n",
    "    (\"Can I check my account, please?\",(\"BALANCE_INTENT\",None)),\n",
    "    (\"May I see my balance, please?\",(\"BALANCE_INTENT\",None)),\n",
    "    (\"Could I query my account, please?\",(\"BALANCE_INTENT\",None)),\n",
    "    (\"I would like to see my account balance.\",(\"BALANCE_INTENT\",None)),\n",
    "\n",
    "]"
   ]
  },
  {
   "cell_type": "code",
   "execution_count": 18,
   "metadata": {
    "ExecuteTime": {
     "end_time": "2019-11-11T11:45:59.303171Z",
     "start_time": "2019-11-11T11:45:58.764596Z"
    }
   },
   "outputs": [
    {
     "name": "stdout",
     "output_type": "stream",
     "text": [
      "Executing PAYIN_INTENT with 5000\n",
      "Executing PAYIN_INTENT with 5000\n",
      "Executing PAYIN_INTENT with 5000\n",
      "Executing PAYIN_INTENT with 5000\n",
      "Executing PAYIN_INTENT with 5000\n",
      "No amount was given, please add one!\n",
      "Executing TAKEOUT_INTENT with 5000\n",
      "Executing TAKEOUT_INTENT with 5000\n",
      "Executing TAKEOUT_INTENT with 5000\n",
      "Executing TAKEOUT_INTENT with 5000\n",
      "Executing TAKEOUT_INTENT with 5000\n",
      "Getting you your account balance, one moment...\n",
      "Getting you your account balance, one moment...\n",
      "Getting you your account balance, one moment...\n",
      "Getting you your account balance, one moment...\n"
     ]
    }
   ],
   "source": [
    "for test in tests:\n",
    "    try:\n",
    "        assert parse_query(test[0],INTENTS, ECONOMY_DOMAINS, MONEY) == test[1]\n",
    "    except:\n",
    "        print(\"---ERROR: \",parse_query(test[0],INTENTS, ECONOMY_DOMAINS, MONEY))\n",
    "        raise"
   ]
  },
  {
   "cell_type": "markdown",
   "metadata": {},
   "source": [
    "A more elaborate and very nice example on the power of rule based matching and it's combination with machine learning models can be found [here](https://github.com/pmbaumgartner/binder-notebooks/blob/master/rule-based-matching-with-spacy-matcher.ipynb)"
   ]
  }
 ],
 "metadata": {
  "kernelspec": {
   "display_name": "Python 3",
   "language": "python",
   "name": "python3"
  },
  "language_info": {
   "codemirror_mode": {
    "name": "ipython",
    "version": 3
   },
   "file_extension": ".py",
   "mimetype": "text/x-python",
   "name": "python",
   "nbconvert_exporter": "python",
   "pygments_lexer": "ipython3",
   "version": "3.7.3"
  },
  "toc": {
   "base_numbering": 1,
   "nav_menu": {},
   "number_sections": true,
   "sideBar": true,
   "skip_h1_title": false,
   "title_cell": "Table of Contents",
   "title_sidebar": "Contents",
   "toc_cell": false,
   "toc_position": {},
   "toc_section_display": true,
   "toc_window_display": false
  },
  "varInspector": {
   "cols": {
    "lenName": 16,
    "lenType": 16,
    "lenVar": 40
   },
   "kernels_config": {
    "python": {
     "delete_cmd_postfix": "",
     "delete_cmd_prefix": "del ",
     "library": "var_list.py",
     "varRefreshCmd": "print(var_dic_list())"
    },
    "r": {
     "delete_cmd_postfix": ") ",
     "delete_cmd_prefix": "rm(",
     "library": "var_list.r",
     "varRefreshCmd": "cat(var_dic_list()) "
    }
   },
   "types_to_exclude": [
    "module",
    "function",
    "builtin_function_or_method",
    "instance",
    "_Feature"
   ],
   "window_display": false
  }
 },
 "nbformat": 4,
 "nbformat_minor": 4
}
