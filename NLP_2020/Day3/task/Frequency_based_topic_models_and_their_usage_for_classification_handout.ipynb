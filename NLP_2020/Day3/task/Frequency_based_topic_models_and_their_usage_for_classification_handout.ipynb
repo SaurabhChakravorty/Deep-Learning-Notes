{
 "cells": [
  {
   "cell_type": "markdown",
   "metadata": {
    "colab_type": "text",
    "id": "LJVjZcS0nbxe"
   },
   "source": [
    "# Constructing an LDA model with spaCy and Gensim"
   ]
  },
  {
   "cell_type": "code",
   "execution_count": 1,
   "metadata": {
    "ExecuteTime": {
     "end_time": "2019-11-26T07:57:56.805869Z",
     "start_time": "2019-11-26T07:57:51.932585Z"
    },
    "colab": {},
    "colab_type": "code",
    "id": "OiQBAJ-Qnbxl"
   },
   "outputs": [],
   "source": [
    "%%capture\n",
    "!pip install spacy gensim pprint\n",
    "!python -m spacy download en_core_web_sm\n",
    "!pip install pyldavis wordcloud bokeh"
   ]
  },
  {
   "cell_type": "markdown",
   "metadata": {
    "colab_type": "text",
    "id": "Lh_VJC7cDpDb"
   },
   "source": [
    "Initial imports"
   ]
  },
  {
   "cell_type": "code",
   "execution_count": 2,
   "metadata": {
    "ExecuteTime": {
     "end_time": "2019-11-26T07:57:57.882444Z",
     "start_time": "2019-11-26T07:57:56.813496Z"
    },
    "colab": {
     "base_uri": "https://localhost:8080/",
     "height": 73
    },
    "colab_type": "code",
    "id": "k_vaMzMYnbx1",
    "outputId": "52de960f-81db-4475-fd4c-51369e0b7aad"
   },
   "outputs": [],
   "source": [
    "import pandas as pd\n",
    "import numpy as np \n",
    "from pprint import pprint\n",
    "\n",
    "import gensim, spacy, logging, warnings\n",
    "from gensim import corpora\n",
    "import pyLDAvis\n",
    "\n",
    "%matplotlib inline\n",
    "warnings.filterwarnings(\"ignore\",category=DeprecationWarning)\n",
    "logging.basicConfig(format='%(asctime)s : %(levelname)s : %(message)s', level=logging.ERROR)"
   ]
  },
  {
   "cell_type": "markdown",
   "metadata": {
    "colab_type": "text",
    "id": "1sJgp-1KSJ7k"
   },
   "source": [
    "We start with importing our data set into a Pandas dataframe"
   ]
  },
  {
   "cell_type": "code",
   "execution_count": 3,
   "metadata": {
    "ExecuteTime": {
     "end_time": "2019-11-26T07:58:00.286317Z",
     "start_time": "2019-11-26T07:57:57.883701Z"
    },
    "colab": {
     "base_uri": "https://localhost:8080/",
     "height": 206
    },
    "colab_type": "code",
    "id": "JgvI5qWEnbyI",
    "outputId": "ca033a5a-3c52-4b28-c473-1cf084b14015"
   },
   "outputs": [
    {
     "data": {
      "text/html": [
       "<div>\n",
       "<style scoped>\n",
       "    .dataframe tbody tr th:only-of-type {\n",
       "        vertical-align: middle;\n",
       "    }\n",
       "\n",
       "    .dataframe tbody tr th {\n",
       "        vertical-align: top;\n",
       "    }\n",
       "\n",
       "    .dataframe thead th {\n",
       "        text-align: right;\n",
       "    }\n",
       "</style>\n",
       "<table border=\"1\" class=\"dataframe\">\n",
       "  <thead>\n",
       "    <tr style=\"text-align: right;\">\n",
       "      <th></th>\n",
       "      <th>content</th>\n",
       "      <th>target</th>\n",
       "      <th>target_names</th>\n",
       "    </tr>\n",
       "  </thead>\n",
       "  <tbody>\n",
       "    <tr>\n",
       "      <th>0</th>\n",
       "      <td>From: lerxst@wam.umd.edu (where's my thing)\\nS...</td>\n",
       "      <td>7</td>\n",
       "      <td>rec.autos</td>\n",
       "    </tr>\n",
       "    <tr>\n",
       "      <th>1</th>\n",
       "      <td>From: guykuo@carson.u.washington.edu (Guy Kuo)...</td>\n",
       "      <td>4</td>\n",
       "      <td>comp.sys.mac.hardware</td>\n",
       "    </tr>\n",
       "    <tr>\n",
       "      <th>2</th>\n",
       "      <td>From: twillis@ec.ecn.purdue.edu (Thomas E Will...</td>\n",
       "      <td>4</td>\n",
       "      <td>comp.sys.mac.hardware</td>\n",
       "    </tr>\n",
       "    <tr>\n",
       "      <th>3</th>\n",
       "      <td>From: jgreen@amber (Joe Green)\\nSubject: Re: W...</td>\n",
       "      <td>1</td>\n",
       "      <td>comp.graphics</td>\n",
       "    </tr>\n",
       "    <tr>\n",
       "      <th>4</th>\n",
       "      <td>From: jcm@head-cfa.harvard.edu (Jonathan McDow...</td>\n",
       "      <td>14</td>\n",
       "      <td>sci.space</td>\n",
       "    </tr>\n",
       "  </tbody>\n",
       "</table>\n",
       "</div>"
      ],
      "text/plain": [
       "                                             content  target  \\\n",
       "0  From: lerxst@wam.umd.edu (where's my thing)\\nS...       7   \n",
       "1  From: guykuo@carson.u.washington.edu (Guy Kuo)...       4   \n",
       "2  From: twillis@ec.ecn.purdue.edu (Thomas E Will...       4   \n",
       "3  From: jgreen@amber (Joe Green)\\nSubject: Re: W...       1   \n",
       "4  From: jcm@head-cfa.harvard.edu (Jonathan McDow...      14   \n",
       "\n",
       "            target_names  \n",
       "0              rec.autos  \n",
       "1  comp.sys.mac.hardware  \n",
       "2  comp.sys.mac.hardware  \n",
       "3          comp.graphics  \n",
       "4              sci.space  "
      ]
     },
     "execution_count": 3,
     "metadata": {},
     "output_type": "execute_result"
    }
   ],
   "source": [
    "# Import Dataset\n",
    "df = pd.read_json('https://raw.githubusercontent.com/selva86/datasets/master/newsgroups.json')\n",
    "df.head()"
   ]
  },
  {
   "cell_type": "code",
   "execution_count": 4,
   "metadata": {
    "ExecuteTime": {
     "end_time": "2019-11-26T07:58:00.291252Z",
     "start_time": "2019-11-26T07:58:00.288358Z"
    },
    "colab": {
     "base_uri": "https://localhost:8080/",
     "height": 35
    },
    "colab_type": "code",
    "id": "zeO9ZwLlnbyU",
    "outputId": "0dea8277-449a-4fc7-b9d1-243698c97955"
   },
   "outputs": [
    {
     "data": {
      "text/plain": [
       "(11314, 3)"
      ]
     },
     "execution_count": 4,
     "metadata": {},
     "output_type": "execute_result"
    }
   ],
   "source": [
    "df.shape"
   ]
  },
  {
   "cell_type": "code",
   "execution_count": 5,
   "metadata": {
    "ExecuteTime": {
     "end_time": "2019-11-26T07:58:00.308971Z",
     "start_time": "2019-11-26T07:58:00.293222Z"
    },
    "colab": {
     "base_uri": "https://localhost:8080/",
     "height": 224
    },
    "colab_type": "code",
    "id": "rwI9a57xnbye",
    "outputId": "66f1c780-5f1e-4d47-8cd3-4f7d4d79b8b7"
   },
   "outputs": [
    {
     "name": "stdout",
     "output_type": "stream",
     "text": [
      "(2361, 3)\n"
     ]
    },
    {
     "data": {
      "text/html": [
       "<div>\n",
       "<style scoped>\n",
       "    .dataframe tbody tr th:only-of-type {\n",
       "        vertical-align: middle;\n",
       "    }\n",
       "\n",
       "    .dataframe tbody tr th {\n",
       "        vertical-align: top;\n",
       "    }\n",
       "\n",
       "    .dataframe thead th {\n",
       "        text-align: right;\n",
       "    }\n",
       "</style>\n",
       "<table border=\"1\" class=\"dataframe\">\n",
       "  <thead>\n",
       "    <tr style=\"text-align: right;\">\n",
       "      <th></th>\n",
       "      <th>index</th>\n",
       "      <th>content</th>\n",
       "      <th>target_names</th>\n",
       "    </tr>\n",
       "  </thead>\n",
       "  <tbody>\n",
       "    <tr>\n",
       "      <th>0</th>\n",
       "      <td>10</td>\n",
       "      <td>From: irwin@cmptrc.lonestar.org (Irwin Arnstei...</td>\n",
       "      <td>rec.motorcycles</td>\n",
       "    </tr>\n",
       "    <tr>\n",
       "      <th>1</th>\n",
       "      <td>21</td>\n",
       "      <td>From: leunggm@odin.control.utoronto.ca (Gary L...</td>\n",
       "      <td>rec.sport.hockey</td>\n",
       "    </tr>\n",
       "    <tr>\n",
       "      <th>2</th>\n",
       "      <td>28</td>\n",
       "      <td>From: jonh@david.wheaton.edu (Jonathan Hayward...</td>\n",
       "      <td>soc.religion.christian</td>\n",
       "    </tr>\n",
       "    <tr>\n",
       "      <th>3</th>\n",
       "      <td>33</td>\n",
       "      <td>From: ayr1@cunixa.cc.columbia.edu (Amir Y Rose...</td>\n",
       "      <td>talk.politics.mideast</td>\n",
       "    </tr>\n",
       "    <tr>\n",
       "      <th>4</th>\n",
       "      <td>35</td>\n",
       "      <td>From: dchhabra@stpl.ists.ca (Deepak Chhabra)\\n...</td>\n",
       "      <td>rec.sport.hockey</td>\n",
       "    </tr>\n",
       "  </tbody>\n",
       "</table>\n",
       "</div>"
      ],
      "text/plain": [
       "   index                                            content  \\\n",
       "0     10  From: irwin@cmptrc.lonestar.org (Irwin Arnstei...   \n",
       "1     21  From: leunggm@odin.control.utoronto.ca (Gary L...   \n",
       "2     28  From: jonh@david.wheaton.edu (Jonathan Hayward...   \n",
       "3     33  From: ayr1@cunixa.cc.columbia.edu (Amir Y Rose...   \n",
       "4     35  From: dchhabra@stpl.ists.ca (Deepak Chhabra)\\n...   \n",
       "\n",
       "             target_names  \n",
       "0         rec.motorcycles  \n",
       "1        rec.sport.hockey  \n",
       "2  soc.religion.christian  \n",
       "3   talk.politics.mideast  \n",
       "4        rec.sport.hockey  "
      ]
     },
     "execution_count": 5,
     "metadata": {},
     "output_type": "execute_result"
    }
   ],
   "source": [
    "df.drop(columns=[\"target\"], inplace=True)\n",
    "df = df.loc[df.target_names.isin(['soc.religion.christian', 'rec.sport.hockey', 'talk.politics.mideast', 'rec.motorcycles']) , :].reset_index()\n",
    "print(df.shape)\n",
    "df.head()"
   ]
  },
  {
   "cell_type": "markdown",
   "metadata": {
    "colab_type": "text",
    "id": "BzXNoE92S2bK"
   },
   "source": [
    "Before starting, we extend the stopword list of the English spaCy model with some domain-specific ones."
   ]
  },
  {
   "cell_type": "code",
   "execution_count": 6,
   "metadata": {
    "ExecuteTime": {
     "end_time": "2019-11-26T07:58:00.814756Z",
     "start_time": "2019-11-26T07:58:00.311910Z"
    },
    "colab": {},
    "colab_type": "code",
    "id": "MI6JzQOwnbx_"
   },
   "outputs": [],
   "source": [
    "nlp = spacy.load(\"en_core_web_sm\", disable=['parser', 'ner'])\n",
    "\n",
    "nlp.Defaults.stop_words.update(['from', 'subject', 're', 'edu', 'use', 'not', \n",
    "                               'would', 'say', 'could', '_', 'be', 'know', 'good', \n",
    "                               'go', 'get', 'do', 'done', 'try', 'many', 'some',\n",
    "                               'nice', 'thank', 'think', 'see', 'rather', 'easy', 'easily',\n",
    "                               'lot', 'lack', 'make', 'want', 'seem', 'run', 'need', 'even',\n",
    "                               'right', 'line', 'even', 'also', 'may', 'take', 'come'])"
   ]
  },
  {
   "cell_type": "markdown",
   "metadata": {
    "colab_type": "text",
    "id": "Jzl2DqR1TTcM"
   },
   "source": [
    "First processing round: we tokenize, filter out non-alphabetic and too short or long tokens and lowercase.\n"
   ]
  },
  {
   "cell_type": "code",
   "execution_count": 7,
   "metadata": {
    "ExecuteTime": {
     "end_time": "2019-11-26T07:58:47.926013Z",
     "start_time": "2019-11-26T07:58:00.816184Z"
    },
    "colab": {
     "base_uri": "https://localhost:8080/",
     "height": 90
    },
    "colab_type": "code",
    "id": "gDchxfWvnbyk",
    "outputId": "99e64afa-8830-4422-cdbb-f7e7f1455922"
   },
   "outputs": [
    {
     "name": "stdout",
     "output_type": "stream",
     "text": [
      "[['from', 'irwin', 'arnstein', 'subject', 're', 'recommendation', 'on', 'duc', 'summary', 'what', 'it', 'worth', 'distribution', 'usa', 'expires', 'sat', 'may', 'gmt', 'organization', 'computrac', 'richardson', 'tx', 'keywords', 'ducati', 'gts', 'how', 'much', 'lines', 'have', 'line', 'on', 'ducati', 'model', 'with', 'on', 'the', 'clock', 'runs', 'very', 'well', 'paint', 'is', 'the', 'bronze', 'brown', 'orange', 'faded', 'out', 'leaks', 'bit', 'of', 'oil', 'and', 'pops', 'out', 'of', 'with', 'hard', 'accel', 'the', 'shop', 'will', 'fix', 'trans', 'and', 'oil', 'leak', 'they', 'sold', 'the', 'bike', 'to', 'the', 'and', 'only', 'owner', 'they', 'want', 'and', 'am', 'thinking', 'more', 'like', 'any', 'opinions', 'out', 'there', 'please', 'email', 'me', 'thanks', 'it', 'would', 'be', 'nice', 'stable', 'mate', 'to', 'the', 'beemer', 'then', 'get', 'jap', 'bike', 'and', 'call', 'myself', 'axis', 'motors', 'tuba', 'irwin', 'honk', 'therefore', 'am', 'computrac', 'richardson', 'tx', 'dod']]\n",
      "CPU times: user 1min 14s, sys: 90.3 ms, total: 1min 14s\n",
      "Wall time: 47.1 s\n"
     ]
    }
   ],
   "source": [
    "%%time\n",
    "MIN_WORD_LEN = 2\n",
    "MAX_WORD_LEN = 15\n",
    "\n",
    "def text_to_words(text):\n",
    "    \"\"\"Tokenize a text and do some prefiltering for n-gram processing.\n",
    "    Please take the lowercased form of a token (after spacy analysis of text), \n",
    "    if it is not a number (consists of only letters), and it's character length is between the min and the max\n",
    "    \"\"\"\n",
    "    ....\n",
    "    \n",
    "    return ....\n",
    "\n",
    "texts = df.content.values.tolist()\n",
    "texts_words = [text_to_words(text) for text in texts]\n",
    "print(texts_words[:1])"
   ]
  },
  {
   "cell_type": "markdown",
   "metadata": {
    "colab_type": "text",
    "id": "bjHxNuOYgKy-"
   },
   "source": [
    "Merge bi-, tri- and four-gram collocations with Gensim"
   ]
  },
  {
   "cell_type": "code",
   "execution_count": 8,
   "metadata": {
    "ExecuteTime": {
     "end_time": "2019-11-26T07:59:02.175610Z",
     "start_time": "2019-11-26T07:58:47.928632Z"
    },
    "colab": {
     "base_uri": "https://localhost:8080/",
     "height": 108
    },
    "colab_type": "code",
    "id": "_Ali9tuGnbys",
    "outputId": "ac83476a-9665-41ca-b763-6aeb1df79fd9"
   },
   "outputs": [
    {
     "name": "stdout",
     "output_type": "stream",
     "text": [
      "CPU times: user 14.2 s, sys: 32 ms, total: 14.2 s\n",
      "Wall time: 14.2 s\n"
     ]
    }
   ],
   "source": [
    "%%time\n",
    "# Build the bigram and trigram models\n",
    "# The minimum occurency of a bigram phrase should be 5\n",
    "# Both the bigram and trigram phrases should have the threshold 100\n",
    "bigram_phrases = .... #You should operate on text_phrases here\n",
    "trigram_phrases = .... # You should use the previously defined bigram_phrases to \"look up\" text_phrases again\n",
    "\n",
    "# This is a kind of technical pruning only.\n",
    "bigram_phraser = gensim.models.phrases.Phraser(bigram_phrases)\n",
    "trigram_phraser = gensim.models.phrases.Phraser(trigram_phrases)"
   ]
  },
  {
   "cell_type": "code",
   "execution_count": 9,
   "metadata": {
    "ExecuteTime": {
     "end_time": "2019-11-26T07:59:06.227070Z",
     "start_time": "2019-11-26T07:59:02.177359Z"
    },
    "colab": {},
    "colab_type": "code",
    "id": "x4uc0Ng1nbyz"
   },
   "outputs": [],
   "source": [
    "# Apply the n-gram models to the data\n",
    "texts_words = [trigram_phraser[bigram_phraser[words]] for words in texts_words]"
   ]
  },
  {
   "cell_type": "markdown",
   "metadata": {
    "colab_type": "text",
    "id": "YlrStopXgpaG"
   },
   "source": [
    "Having merged the collocations, we do another (final) round of filtering on the basis of stopwords and POS-tags, and lemmatize all tokens."
   ]
  },
  {
   "cell_type": "code",
   "execution_count": 10,
   "metadata": {
    "ExecuteTime": {
     "end_time": "2019-11-26T07:59:33.598159Z",
     "start_time": "2019-11-26T07:59:06.229025Z"
    },
    "colab": {
     "base_uri": "https://localhost:8080/",
     "height": 90
    },
    "colab_type": "code",
    "id": "17UZacVLnby6",
    "outputId": "f9f54daa-9b94-45d8-d178-50213378220e"
   },
   "outputs": [
    {
     "name": "stdout",
     "output_type": "stream",
     "text": [
      "['recommendation', 'duc', 'summary', 'worth', 'expire', 'gmt', 'ducati', 'line', 'ducati', 'model', 'clock', 'run', 'paint', 'bronze', 'orange', 'fade', 'leak', 'bit', 'oil', 'pop', 'hard', 'accel', 'shop', 'fix', 'tran', 'oil', 'leak', 'sell', 'bike', 'owner', 'think', 'opinion', 'email', 'thank', 'stable', 'mate', 'beemer', 'bike', 'motor', 'computrac_richardson_tx']\n",
      "CPU times: user 36.1 s, sys: 7.97 ms, total: 36.1 s\n",
      "Wall time: 27.4 s\n"
     ]
    }
   ],
   "source": [
    "%%time\n",
    "# Now we use spacy to filter based on stopwords, POS-tags and lemmatize\n",
    "\n",
    "filtered_texts_lemmas = []\n",
    "\n",
    "for words in texts_words:\n",
    "    doc = spacy.tokens.Doc(nlp.vocab, words=words)\n",
    "    tagged = nlp.get_pipe(\"tagger\")(doc)\n",
    "    \n",
    "    # Please filter again, and keep only the lemma of tokens which are non stopwords and are either 'NOUN', 'ADJ', 'VERB' or 'ADV\n",
    "    # with regards to their part of speech tags\n",
    "    lemmas = .... # you can do  this with a list comprehension or a for cycle, up to you\n",
    "    filtered_texts_lemmas.append(lemmas)\n",
    "\n",
    "print(filtered_texts_lemmas[0])"
   ]
  },
  {
   "cell_type": "markdown",
   "metadata": {
    "colab_type": "text",
    "id": "eAjPzzC1iLk0"
   },
   "source": [
    "Time to build the LDA model!"
   ]
  },
  {
   "cell_type": "code",
   "execution_count": 11,
   "metadata": {
    "ExecuteTime": {
     "end_time": "2019-11-26T08:00:01.294724Z",
     "start_time": "2019-11-26T07:59:33.600945Z"
    },
    "colab": {},
    "colab_type": "code",
    "id": "JJUfx2_ZnbzD"
   },
   "outputs": [],
   "source": [
    "%%capture\n",
    "# Create Dictionary\n",
    "id2word = .... #create a Gensim dictionary from the final \"filtered_texts_lemmas\"\n",
    "\n",
    "id2word.... # use a function of the dictionary to filter out the \"extremes\", meaning: keep only 5000 elements.\n",
    "\n",
    "# Create Corpus: Term Document Frequency\n",
    "corpus = [id2word.doc2bow(words) for words in filtered_texts_lemmas]\n",
    "\n",
    "# Build LDA model with the corpus, the dictionary mapping and 4 topics! (All other parameters we have given...)\n",
    "lda_model = gensim.models.ldamodel.LdaModel(...., \n",
    "                                           random_state=100,\n",
    "                                           update_every=1,\n",
    "                                           chunksize=100,\n",
    "                                           passes=20,\n",
    "                                           alpha='auto',\n",
    "                                           iterations=400,\n",
    "                                           per_word_topics=True)"
   ]
  },
  {
   "cell_type": "code",
   "execution_count": 12,
   "metadata": {
    "ExecuteTime": {
     "end_time": "2019-11-26T08:00:01.302542Z",
     "start_time": "2019-11-26T08:00:01.296856Z"
    },
    "colab": {
     "base_uri": "https://localhost:8080/",
     "height": 302
    },
    "colab_type": "code",
    "id": "DrKjqaOkhZfd",
    "outputId": "2dccace2-b2ca-4038-d8fd-3781dd89e72a"
   },
   "outputs": [
    {
     "name": "stdout",
     "output_type": "stream",
     "text": [
      "[(0,\n",
      "  '0.012*\"people\" + 0.010*\"israeli\" + 0.009*\"state\" + 0.006*\"law\" + '\n",
      "  '0.006*\"government\" + 0.006*\"jewish\" + 0.005*\"war\" + 0.005*\"turkish\" + '\n",
      "  '0.005*\"attack\" + 0.005*\"armenian\"'),\n",
      " (1,\n",
      "  '0.024*\"team\" + 0.020*\"game\" + 0.013*\"play\" + 0.012*\"year\" + 0.012*\"player\" '\n",
      "  '+ 0.009*\"win\" + 0.009*\"hockey\" + 0.007*\"organization\" + 0.007*\"time\" + '\n",
      "  '0.007*\"season\"'),\n",
      " (2,\n",
      "  '0.013*\"believe\" + 0.013*\"people\" + 0.010*\"question\" + 0.008*\"thing\" + '\n",
      "  '0.008*\"reason\" + 0.008*\"church\" + 0.007*\"say\" + 0.007*\"faith\" + '\n",
      "  '0.007*\"mean\" + 0.006*\"time\"'),\n",
      " (3,\n",
      "  '0.017*\"go\" + 0.016*\"say\" + 0.015*\"bike\" + 0.009*\"time\" + 0.009*\"tell\" + '\n",
      "  '0.008*\"ride\" + 0.008*\"people\" + 0.007*\"get\" + 0.007*\"look\" + 0.007*\"see\"')]\n"
     ]
    }
   ],
   "source": [
    "pprint(lda_model.print_topics())"
   ]
  },
  {
   "cell_type": "markdown",
   "metadata": {
    "colab_type": "text",
    "id": "oUJJJF2rirHK"
   },
   "source": [
    "# Inference and visualizations"
   ]
  },
  {
   "cell_type": "markdown",
   "metadata": {
    "colab_type": "text",
    "id": "x0Dk_eM2nbzM"
   },
   "source": [
    "### Dominant topic and its percentage in documents"
   ]
  },
  {
   "cell_type": "code",
   "execution_count": 13,
   "metadata": {
    "ExecuteTime": {
     "end_time": "2019-11-26T08:00:10.758116Z",
     "start_time": "2019-11-26T08:00:01.305054Z"
    },
    "colab": {
     "base_uri": "https://localhost:8080/",
     "height": 363
    },
    "colab_type": "code",
    "id": "HxxmULaEnbzP",
    "outputId": "19cf6dc1-d621-41c1-b3f6-f776b7dfb82a"
   },
   "outputs": [
    {
     "data": {
      "text/html": [
       "<div>\n",
       "<style scoped>\n",
       "    .dataframe tbody tr th:only-of-type {\n",
       "        vertical-align: middle;\n",
       "    }\n",
       "\n",
       "    .dataframe tbody tr th {\n",
       "        vertical-align: top;\n",
       "    }\n",
       "\n",
       "    .dataframe thead th {\n",
       "        text-align: right;\n",
       "    }\n",
       "</style>\n",
       "<table border=\"1\" class=\"dataframe\">\n",
       "  <thead>\n",
       "    <tr style=\"text-align: right;\">\n",
       "      <th></th>\n",
       "      <th>topic_no</th>\n",
       "      <th>topic_ratio</th>\n",
       "      <th>keywords</th>\n",
       "      <th>text</th>\n",
       "    </tr>\n",
       "  </thead>\n",
       "  <tbody>\n",
       "    <tr>\n",
       "      <th>0</th>\n",
       "      <td>1</td>\n",
       "      <td>0.6725</td>\n",
       "      <td>team, game, play, year, player, win, hockey, o...</td>\n",
       "      <td>[recommendation, duc, summary, worth, expire, ...</td>\n",
       "    </tr>\n",
       "    <tr>\n",
       "      <th>1</th>\n",
       "      <td>1</td>\n",
       "      <td>0.8181</td>\n",
       "      <td>team, game, play, year, player, win, hockey, o...</td>\n",
       "      <td>[group, line, article, write, course, time, ca...</td>\n",
       "    </tr>\n",
       "    <tr>\n",
       "      <th>2</th>\n",
       "      <td>2</td>\n",
       "      <td>0.7073</td>\n",
       "      <td>believe, people, question, thing, reason, chur...</td>\n",
       "      <td>[article, write, new, group, maybe, cover, cur...</td>\n",
       "    </tr>\n",
       "    <tr>\n",
       "      <th>3</th>\n",
       "      <td>0</td>\n",
       "      <td>0.6796</td>\n",
       "      <td>people, israeli, state, law, government, jewis...</td>\n",
       "      <td>[nntp_posting_host, reply, amir_rosenblatt, or...</td>\n",
       "    </tr>\n",
       "    <tr>\n",
       "      <th>4</th>\n",
       "      <td>1</td>\n",
       "      <td>0.7660</td>\n",
       "      <td>team, game, play, year, player, win, hockey, o...</td>\n",
       "      <td>[goalie_mask, organization, solar_terresterial...</td>\n",
       "    </tr>\n",
       "    <tr>\n",
       "      <th>5</th>\n",
       "      <td>1</td>\n",
       "      <td>0.5396</td>\n",
       "      <td>team, game, play, year, player, win, hockey, o...</td>\n",
       "      <td>[bmw_moa_member, read, organization, national,...</td>\n",
       "    </tr>\n",
       "    <tr>\n",
       "      <th>6</th>\n",
       "      <td>1</td>\n",
       "      <td>0.5880</td>\n",
       "      <td>team, game, play, year, player, win, hockey, o...</td>\n",
       "      <td>[should_liability_insurance, require, organiza...</td>\n",
       "    </tr>\n",
       "    <tr>\n",
       "      <th>7</th>\n",
       "      <td>1</td>\n",
       "      <td>0.5377</td>\n",
       "      <td>team, game, play, year, player, win, hockey, o...</td>\n",
       "      <td>[look, movie, university, line, summary, bike,...</td>\n",
       "    </tr>\n",
       "    <tr>\n",
       "      <th>8</th>\n",
       "      <td>2</td>\n",
       "      <td>0.7364</td>\n",
       "      <td>believe, people, question, thing, reason, chur...</td>\n",
       "      <td>[university, line, follow, thread, study, inte...</td>\n",
       "    </tr>\n",
       "    <tr>\n",
       "      <th>9</th>\n",
       "      <td>0</td>\n",
       "      <td>0.8026</td>\n",
       "      <td>people, israeli, state, law, government, jewis...</td>\n",
       "      <td>[uucp_serdar_argic, day, night, round, male, i...</td>\n",
       "    </tr>\n",
       "  </tbody>\n",
       "</table>\n",
       "</div>"
      ],
      "text/plain": [
       "   topic_no  topic_ratio                                           keywords  \\\n",
       "0         1       0.6725  team, game, play, year, player, win, hockey, o...   \n",
       "1         1       0.8181  team, game, play, year, player, win, hockey, o...   \n",
       "2         2       0.7073  believe, people, question, thing, reason, chur...   \n",
       "3         0       0.6796  people, israeli, state, law, government, jewis...   \n",
       "4         1       0.7660  team, game, play, year, player, win, hockey, o...   \n",
       "5         1       0.5396  team, game, play, year, player, win, hockey, o...   \n",
       "6         1       0.5880  team, game, play, year, player, win, hockey, o...   \n",
       "7         1       0.5377  team, game, play, year, player, win, hockey, o...   \n",
       "8         2       0.7364  believe, people, question, thing, reason, chur...   \n",
       "9         0       0.8026  people, israeli, state, law, government, jewis...   \n",
       "\n",
       "                                                text  \n",
       "0  [recommendation, duc, summary, worth, expire, ...  \n",
       "1  [group, line, article, write, course, time, ca...  \n",
       "2  [article, write, new, group, maybe, cover, cur...  \n",
       "3  [nntp_posting_host, reply, amir_rosenblatt, or...  \n",
       "4  [goalie_mask, organization, solar_terresterial...  \n",
       "5  [bmw_moa_member, read, organization, national,...  \n",
       "6  [should_liability_insurance, require, organiza...  \n",
       "7  [look, movie, university, line, summary, bike,...  \n",
       "8  [university, line, follow, thread, study, inte...  \n",
       "9  [uucp_serdar_argic, day, night, round, male, i...  "
      ]
     },
     "execution_count": 13,
     "metadata": {},
     "output_type": "execute_result"
    }
   ],
   "source": [
    "texts_topics_df = pd.DataFrame()\n",
    "\n",
    "# Get main topic in each document\n",
    "for topic_probs, text in zip(lda_model.get_document_topics(corpus), filtered_texts_lemmas):\n",
    "    topic_num, topic_prob = max(topic_probs, key=lambda x: x[1])\n",
    "    wp = lda_model.show_topic(topic_num)\n",
    "    topic_keywords = \", \".join([word for word, _ in wp])\n",
    "    texts_topics_df = texts_topics_df.append(pd.Series([topic_num, round(topic_prob,4), topic_keywords, text]), ignore_index=True)\n",
    "\n",
    "texts_topics_df.columns = [\"topic_no\", \"topic_ratio\", \"keywords\", \"text\"]\n",
    "texts_topics_df[\"topic_no\"]=texts_topics_df.topic_no.astype(\"int\")\n",
    "texts_topics_df.head(10)"
   ]
  },
  {
   "cell_type": "markdown",
   "metadata": {
    "colab_type": "text",
    "id": "fONOESC5nbzr"
   },
   "source": [
    "### Wordcloud of the most important keywords in each topic"
   ]
  },
  {
   "cell_type": "code",
   "execution_count": 14,
   "metadata": {
    "ExecuteTime": {
     "end_time": "2019-11-26T08:00:15.517750Z",
     "start_time": "2019-11-26T08:00:10.760991Z"
    },
    "colab": {
     "base_uri": "https://localhost:8080/",
     "height": 625
    },
    "colab_type": "code",
    "id": "qRGLGQMUnbzu",
    "outputId": "0e87ff63-43ec-4ea9-a7e1-9fa5b9273c3c"
   },
   "outputs": [
    {
     "data": {
      "image/png": "[encoded data removed]",
      "text/plain": [
       "<Figure size 720x720 with 4 Axes>"
      ]
     },
     "metadata": {
      "needs_background": "light"
     },
     "output_type": "display_data"
    }
   ],
   "source": [
    "# 1. Wordcloud of Top N words in each topic\n",
    "from matplotlib import pyplot as plt\n",
    "from wordcloud import WordCloud\n",
    "import matplotlib.colors as mcolors\n",
    "\n",
    "cols = [color for name, color in mcolors.TABLEAU_COLORS.items()]  # more colors: 'mcolors.XKCD_COLORS'\n",
    "\n",
    "cloud = WordCloud(stopwords=nlp.Defaults.stop_words,\n",
    "                  background_color='white',\n",
    "                  width=2500,\n",
    "                  height=1800,\n",
    "                  max_words=10,\n",
    "                  colormap='tab10',\n",
    "                  color_func=lambda *args, **kwargs: cols[i],\n",
    "                  prefer_horizontal=1.0)\n",
    "\n",
    "topics = lda_model.show_topics(formatted=False, num_words=10)\n",
    "\n",
    "fig, axes = plt.subplots(2, 2, figsize=(10,10), sharex=True, sharey=True)\n",
    "\n",
    "for i, ax in enumerate(axes.flatten()):\n",
    "    fig.add_subplot(ax)\n",
    "    topic_words = dict(topics[i][1])\n",
    "    cloud.generate_from_frequencies(topic_words, max_font_size=300)\n",
    "    plt.gca().imshow(cloud)\n",
    "    plt.gca().set_title('Topic ' + str(i), fontdict=dict(size=16))\n",
    "    plt.gca().axis('off')\n",
    "\n",
    "\n",
    "plt.subplots_adjust(wspace=0, hspace=0)\n",
    "plt.axis('off')\n",
    "plt.margins(x=0, y=0)\n",
    "plt.tight_layout()\n",
    "plt.show()"
   ]
  },
  {
   "cell_type": "markdown",
   "metadata": {},
   "source": [
    "**Important:**\n",
    "\n",
    "Please bear in mind, that topics can come up in random order, so a mapping between the original labels and LDA's topic numbers is non-trivial! **You have to observe the topics, and try to come up with a mapping / interpretation of them!!** \n",
    "\n",
    "(Naturally, in a \"normal\", unlabeled dataset this in itself is a question, since you do not know the topics upfront.)"
   ]
  },
  {
   "cell_type": "code",
   "execution_count": null,
   "metadata": {},
   "outputs": [],
   "source": [
    "# Assign numbers to the topics!\n",
    "\n",
    "topic_to_label_mapping={\n",
    "                        \"rec.motorcycles\": ...., \n",
    "                        \"talk.politics.mideast\": ...., \n",
    "                        \"soc.religion.christian\": ...., \n",
    "                        \"rec.sport.hockey\": ....\n",
    "                        }\n",
    "\n",
    ".... #Just put this line here to halt the notebook, so you don't skip this. Remove if done! "
   ]
  },
  {
   "cell_type": "markdown",
   "metadata": {
    "ExecuteTime": {
     "end_time": "2019-11-08T13:47:50.285933Z",
     "start_time": "2019-11-08T13:47:50.283938Z"
    },
    "colab_type": "text",
    "id": "SBBuza1znbz9"
   },
   "source": [
    "### Sentence and word coloring by topic\n",
    "\n",
    "Please observe the results!"
   ]
  },
  {
   "cell_type": "code",
   "execution_count": 15,
   "metadata": {
    "ExecuteTime": {
     "end_time": "2019-11-26T08:00:17.532818Z",
     "start_time": "2019-11-26T08:00:15.520443Z"
    },
    "colab": {
     "base_uri": "https://localhost:8080/",
     "height": 1000
    },
    "colab_type": "code",
    "id": "Qeh3vOVPnbz_",
    "outputId": "1a0acf2d-88e9-4a9a-c7aa-6b8fb7f6708d"
   },
   "outputs": [
    {
     "data": {
      "image/png": "[encoded data removed]",
      "text/plain": [
       "<Figure size 1440x1248 with 13 Axes>"
      ]
     },
     "metadata": {
      "needs_background": "light"
     },
     "output_type": "display_data"
    }
   ],
   "source": [
    "# Sentence Coloring of N Sentences\n",
    "# For simplicity\n",
    "from matplotlib.patches import Rectangle\n",
    "\n",
    "def sentences_chart(lda_model=lda_model, corpus=corpus, start = 0, end = 13):\n",
    "    corp = corpus[start:end]\n",
    "    mycolors = [color for _, color in mcolors.TABLEAU_COLORS.items()]\n",
    "\n",
    "    fig, axes = plt.subplots(end-start, 1, figsize=(9, (end-start)*0.6), dpi=160)       \n",
    "    axes[0].axis('off')\n",
    "    for i, ax in enumerate(axes):\n",
    "        if i > 0:\n",
    "            corp_cur = corp[i-1] \n",
    "            topic_percs, wordid_topics, wordid_phivalues = lda_model.get_document_topics(corp_cur, per_word_topics=True)\n",
    "            word_dominanttopic = [(lda_model.id2word[wd], topic[0]) for wd, topic in wordid_topics]\n",
    "            ax.text(0.01, 0.5, \"Doc \" + str(i-1) + \": \", verticalalignment='center',\n",
    "                    fontsize=6, color='black', transform=ax.transAxes, fontweight=300)\n",
    "\n",
    "            # Draw Rectange\n",
    "            topic_percs_sorted = sorted(topic_percs, key=lambda x: (x[1]), reverse=True)\n",
    "            ax.add_patch(Rectangle((0.0, 0.05), 0.98, 0.9, fill=None, alpha=1, \n",
    "                                   color=mycolors[topic_percs_sorted[0][0]], linewidth=2))\n",
    "\n",
    "            word_pos = 0.06\n",
    "            for j, (word, topics) in enumerate(word_dominanttopic):\n",
    "                if j < 14:\n",
    "                    ax.text(word_pos, 0.5, word,\n",
    "                            horizontalalignment='left',\n",
    "                            verticalalignment='center',\n",
    "                            fontsize=7, color=mycolors[topics],\n",
    "                            transform=ax.transAxes, fontweight=300)\n",
    "                    word_pos += .009 * len(word)  # to move the word for the next iter\n",
    "                    ax.axis('off')\n",
    "            ax.text(word_pos, 0.5, '. . .',\n",
    "                    horizontalalignment='left',\n",
    "                    verticalalignment='center',\n",
    "                    fontsize=7, color='black',\n",
    "                    transform=ax.transAxes)       \n",
    "\n",
    "    plt.subplots_adjust(wspace=0, hspace=0)\n",
    "    plt.suptitle('Sentence topic coloring for documents ' + str(start) + ' to ' + str(end-2), fontsize=16, y=0.95, fontweight=300)\n",
    "    plt.tight_layout()\n",
    "    plt.show()\n",
    "\n",
    "sentences_chart()    "
   ]
  },
  {
   "cell_type": "markdown",
   "metadata": {
    "colab_type": "text",
    "id": "4-5ivymrnb0a"
   },
   "source": [
    "### t-SNE visualisation of the documents\n"
   ]
  },
  {
   "cell_type": "code",
   "execution_count": 16,
   "metadata": {
    "ExecuteTime": {
     "end_time": "2019-11-26T08:00:30.212417Z",
     "start_time": "2019-11-26T08:00:17.535880Z"
    },
    "colab": {
     "base_uri": "https://localhost:8080/",
     "height": 877
    },
    "colab_type": "code",
    "id": "Sr9uG3Menb0c",
    "outputId": "57ad9462-4362-455b-d5ec-caa12cc3884a"
   },
   "outputs": [
    {
     "name": "stdout",
     "output_type": "stream",
     "text": [
      "[t-SNE] Computing 91 nearest neighbors...\n",
      "[t-SNE] Indexed 2361 samples in 0.007s...\n",
      "[t-SNE] Computed neighbors for 2361 samples in 0.069s...\n",
      "[t-SNE] Computed conditional probabilities for sample 1000 / 2361\n",
      "[t-SNE] Computed conditional probabilities for sample 2000 / 2361\n",
      "[t-SNE] Computed conditional probabilities for sample 2361 / 2361\n",
      "[t-SNE] Mean sigma: 0.032811\n",
      "[t-SNE] KL divergence after 250 iterations with early exaggeration: 62.133514\n",
      "[t-SNE] KL divergence after 1000 iterations: 0.663872\n"
     ]
    },
    {
     "data": {
      "text/html": [
       "\n",
       "    <div class=\"bk-root\">\n",
       "        <a href=\"https://bokeh.org\" target=\"_blank\" class=\"bk-logo bk-logo-small bk-logo-notebook\"></a>\n",
       "        <span id=\"1001\">Loading BokehJS ...</span>\n",
       "    </div>"
      ]
     },
     "metadata": {},
     "output_type": "display_data"
    },
    {
     "data": {
      "application/javascript": [
       "\n",
       "(function(root) {\n",
       "  function now() {\n",
       "    return new Date();\n",
       "  }\n",
       "\n",
       "  var force = true;\n",
       "\n",
       "  if (typeof root._bokeh_onload_callbacks === \"undefined\" || force === true) {\n",
       "    root._bokeh_onload_callbacks = [];\n",
       "    root._bokeh_is_loading = undefined;\n",
       "  }\n",
       "\n",
       "  var JS_MIME_TYPE = 'application/javascript';\n",
       "  var HTML_MIME_TYPE = 'text/html';\n",
       "  var EXEC_MIME_TYPE = 'application/vnd.bokehjs_exec.v0+json';\n",
       "  var CLASS_NAME = 'output_bokeh rendered_html';\n",
       "\n",
       "  /**\n",
       "   * Render data to the DOM node\n",
       "   */\n",
       "  function render(props, node) {\n",
       "    var script = document.createElement(\"script\");\n",
       "    node.appendChild(script);\n",
       "  }\n",
       "\n",
       "  /**\n",
       "   * Handle when an output is cleared or removed\n",
       "   */\n",
       "  function handleClearOutput(event, handle) {\n",
       "    var cell = handle.cell;\n",
       "\n",
       "    var id = cell.output_area._bokeh_element_id;\n",
       "    var server_id = cell.output_area._bokeh_server_id;\n",
       "    // Clean up Bokeh references\n",
       "    if (id != null && id in Bokeh.index) {\n",
       "      Bokeh.index[id].model.document.clear();\n",
       "      delete Bokeh.index[id];\n",
       "    }\n",
       "\n",
       "    if (server_id !== undefined) {\n",
       "      // Clean up Bokeh references\n",
       "      var cmd = \"from bokeh.io.state import curstate; print(curstate().uuid_to_server['\" + server_id + \"'].get_sessions()[0].document.roots[0]._id)\";\n",
       "      cell.notebook.kernel.execute(cmd, {\n",
       "        iopub: {\n",
       "          output: function(msg) {\n",
       "            var id = msg.content.text.trim();\n",
       "            if (id in Bokeh.index) {\n",
       "              Bokeh.index[id].model.document.clear();\n",
       "              delete Bokeh.index[id];\n",
       "            }\n",
       "          }\n",
       "        }\n",
       "      });\n",
       "      // Destroy server and session\n",
       "      var cmd = \"import bokeh.io.notebook as ion; ion.destroy_server('\" + server_id + \"')\";\n",
       "      cell.notebook.kernel.execute(cmd);\n",
       "    }\n",
       "  }\n",
       "\n",
       "  /**\n",
       "   * Handle when a new output is added\n",
       "   */\n",
       "  function handleAddOutput(event, handle) {\n",
       "    var output_area = handle.output_area;\n",
       "    var output = handle.output;\n",
       "\n",
       "    // limit handleAddOutput to display_data with EXEC_MIME_TYPE content only\n",
       "    if ((output.output_type != \"display_data\") || (!output.data.hasOwnProperty(EXEC_MIME_TYPE))) {\n",
       "      return\n",
       "    }\n",
       "\n",
       "    var toinsert = output_area.element.find(\".\" + CLASS_NAME.split(' ')[0]);\n",
       "\n",
       "    if (output.metadata[EXEC_MIME_TYPE][\"id\"] !== undefined) {\n",
       "      toinsert[toinsert.length - 1].firstChild.textContent = output.data[JS_MIME_TYPE];\n",
       "      // store reference to embed id on output_area\n",
       "      output_area._bokeh_element_id = output.metadata[EXEC_MIME_TYPE][\"id\"];\n",
       "    }\n",
       "    if (output.metadata[EXEC_MIME_TYPE][\"server_id\"] !== undefined) {\n",
       "      var bk_div = document.createElement(\"div\");\n",
       "      bk_div.innerHTML = output.data[HTML_MIME_TYPE];\n",
       "      var script_attrs = bk_div.children[0].attributes;\n",
       "      for (var i = 0; i < script_attrs.length; i++) {\n",
       "        toinsert[toinsert.length - 1].firstChild.setAttribute(script_attrs[i].name, script_attrs[i].value);\n",
       "      }\n",
       "      // store reference to server id on output_area\n",
       "      output_area._bokeh_server_id = output.metadata[EXEC_MIME_TYPE][\"server_id\"];\n",
       "    }\n",
       "  }\n",
       "\n",
       "  function register_renderer(events, OutputArea) {\n",
       "\n",
       "    function append_mime(data, metadata, element) {\n",
       "      // create a DOM node to render to\n",
       "      var toinsert = this.create_output_subarea(\n",
       "        metadata,\n",
       "        CLASS_NAME,\n",
       "        EXEC_MIME_TYPE\n",
       "      );\n",
       "      this.keyboard_manager.register_events(toinsert);\n",
       "      // Render to node\n",
       "      var props = {data: data, metadata: metadata[EXEC_MIME_TYPE]};\n",
       "      render(props, toinsert[toinsert.length - 1]);\n",
       "      element.append(toinsert);\n",
       "      return toinsert\n",
       "    }\n",
       "\n",
       "    /* Handle when an output is cleared or removed */\n",
       "    events.on('clear_output.CodeCell', handleClearOutput);\n",
       "    events.on('delete.Cell', handleClearOutput);\n",
       "\n",
       "    /* Handle when a new output is added */\n",
       "    events.on('output_added.OutputArea', handleAddOutput);\n",
       "\n",
       "    /**\n",
       "     * Register the mime type and append_mime function with output_area\n",
       "     */\n",
       "    OutputArea.prototype.register_mime_type(EXEC_MIME_TYPE, append_mime, {\n",
       "      /* Is output safe? */\n",
       "      safe: true,\n",
       "      /* Index of renderer in `output_area.display_order` */\n",
       "      index: 0\n",
       "    });\n",
       "  }\n",
       "\n",
       "  // register the mime type if in Jupyter Notebook environment and previously unregistered\n",
       "  if (root.Jupyter !== undefined) {\n",
       "    var events = require('base/js/events');\n",
       "    var OutputArea = require('notebook/js/outputarea').OutputArea;\n",
       "\n",
       "    if (OutputArea.prototype.mime_types().indexOf(EXEC_MIME_TYPE) == -1) {\n",
       "      register_renderer(events, OutputArea);\n",
       "    }\n",
       "  }\n",
       "\n",
       "  \n",
       "  if (typeof (root._bokeh_timeout) === \"undefined\" || force === true) {\n",
       "    root._bokeh_timeout = Date.now() + 5000;\n",
       "    root._bokeh_failed_load = false;\n",
       "  }\n",
       "\n",
       "  var NB_LOAD_WARNING = {'data': {'text/html':\n",
       "     \"<div style='background-color: #fdd'>\\n\"+\n",
       "     \"<p>\\n\"+\n",
       "     \"BokehJS does not appear to have successfully loaded. If loading BokehJS from CDN, this \\n\"+\n",
       "     \"may be due to a slow or bad network connection. Possible fixes:\\n\"+\n",
       "     \"</p>\\n\"+\n",
       "     \"<ul>\\n\"+\n",
       "     \"<li>re-rerun `output_notebook()` to attempt to load from CDN again, or</li>\\n\"+\n",
       "     \"<li>use INLINE resources instead, as so:</li>\\n\"+\n",
       "     \"</ul>\\n\"+\n",
       "     \"<code>\\n\"+\n",
       "     \"from bokeh.resources import INLINE\\n\"+\n",
       "     \"output_notebook(resources=INLINE)\\n\"+\n",
       "     \"</code>\\n\"+\n",
       "     \"</div>\"}};\n",
       "\n",
       "  function display_loaded() {\n",
       "    var el = document.getElementById(\"1001\");\n",
       "    if (el != null) {\n",
       "      el.textContent = \"BokehJS is loading...\";\n",
       "    }\n",
       "    if (root.Bokeh !== undefined) {\n",
       "      if (el != null) {\n",
       "        el.textContent = \"BokehJS \" + root.Bokeh.version + \" successfully loaded.\";\n",
       "      }\n",
       "    } else if (Date.now() < root._bokeh_timeout) {\n",
       "      setTimeout(display_loaded, 100)\n",
       "    }\n",
       "  }\n",
       "\n",
       "\n",
       "  function run_callbacks() {\n",
       "    try {\n",
       "      root._bokeh_onload_callbacks.forEach(function(callback) {\n",
       "        if (callback != null)\n",
       "          callback();\n",
       "      });\n",
       "    } finally {\n",
       "      delete root._bokeh_onload_callbacks\n",
       "    }\n",
       "    console.debug(\"Bokeh: all callbacks have finished\");\n",
       "  }\n",
       "\n",
       "  function load_libs(css_urls, js_urls, callback) {\n",
       "    if (css_urls == null) css_urls = [];\n",
       "    if (js_urls == null) js_urls = [];\n",
       "\n",
       "    root._bokeh_onload_callbacks.push(callback);\n",
       "    if (root._bokeh_is_loading > 0) {\n",
       "      console.debug(\"Bokeh: BokehJS is being loaded, scheduling callback at\", now());\n",
       "      return null;\n",
       "    }\n",
       "    if (js_urls == null || js_urls.length === 0) {\n",
       "      run_callbacks();\n",
       "      return null;\n",
       "    }\n",
       "    console.debug(\"Bokeh: BokehJS not loaded, scheduling load and callback at\", now());\n",
       "    root._bokeh_is_loading = css_urls.length + js_urls.length;\n",
       "\n",
       "    function on_load() {\n",
       "      root._bokeh_is_loading--;\n",
       "      if (root._bokeh_is_loading === 0) {\n",
       "        console.debug(\"Bokeh: all BokehJS libraries/stylesheets loaded\");\n",
       "        run_callbacks()\n",
       "      }\n",
       "    }\n",
       "\n",
       "    function on_error() {\n",
       "      console.error(\"failed to load \" + url);\n",
       "    }\n",
       "\n",
       "    for (var i = 0; i < css_urls.length; i++) {\n",
       "      var url = css_urls[i];\n",
       "      const element = document.createElement(\"link\");\n",
       "      element.onload = on_load;\n",
       "      element.onerror = on_error;\n",
       "      element.rel = \"stylesheet\";\n",
       "      element.type = \"text/css\";\n",
       "      element.href = url;\n",
       "      console.debug(\"Bokeh: injecting link tag for BokehJS stylesheet: \", url);\n",
       "      document.body.appendChild(element);\n",
       "    }\n",
       "\n",
       "    for (var i = 0; i < js_urls.length; i++) {\n",
       "      var url = js_urls[i];\n",
       "      var element = document.createElement('script');\n",
       "      element.onload = on_load;\n",
       "      element.onerror = on_error;\n",
       "      element.async = false;\n",
       "      element.src = url;\n",
       "      console.debug(\"Bokeh: injecting script tag for BokehJS library: \", url);\n",
       "      document.head.appendChild(element);\n",
       "    }\n",
       "  };var element = document.getElementById(\"1001\");\n",
       "  if (element == null) {\n",
       "    console.error(\"Bokeh: ERROR: autoload.js configured with elementid '1001' but no matching script tag was found. \")\n",
       "    return false;\n",
       "  }\n",
       "\n",
       "  function inject_raw_css(css) {\n",
       "    const element = document.createElement(\"style\");\n",
       "    element.appendChild(document.createTextNode(css));\n",
       "    document.body.appendChild(element);\n",
       "  }\n",
       "\n",
       "  \n",
       "  var js_urls = [\"https://cdn.pydata.org/bokeh/release/bokeh-1.4.0.min.js\", \"https://cdn.pydata.org/bokeh/release/bokeh-widgets-1.4.0.min.js\", \"https://cdn.pydata.org/bokeh/release/bokeh-tables-1.4.0.min.js\", \"https://cdn.pydata.org/bokeh/release/bokeh-gl-1.4.0.min.js\"];\n",
       "  var css_urls = [];\n",
       "  \n",
       "\n",
       "  var inline_js = [\n",
       "    function(Bokeh) {\n",
       "      Bokeh.set_log_level(\"info\");\n",
       "    },\n",
       "    function(Bokeh) {\n",
       "    \n",
       "    \n",
       "    }\n",
       "  ];\n",
       "\n",
       "  function run_inline_js() {\n",
       "    \n",
       "    if (root.Bokeh !== undefined || force === true) {\n",
       "      \n",
       "    for (var i = 0; i < inline_js.length; i++) {\n",
       "      inline_js[i].call(root, root.Bokeh);\n",
       "    }\n",
       "    if (force === true) {\n",
       "        display_loaded();\n",
       "      }} else if (Date.now() < root._bokeh_timeout) {\n",
       "      setTimeout(run_inline_js, 100);\n",
       "    } else if (!root._bokeh_failed_load) {\n",
       "      console.log(\"Bokeh: BokehJS failed to load within specified timeout.\");\n",
       "      root._bokeh_failed_load = true;\n",
       "    } else if (force !== true) {\n",
       "      var cell = $(document.getElementById(\"1001\")).parents('.cell').data().cell;\n",
       "      cell.output_area.append_execute_result(NB_LOAD_WARNING)\n",
       "    }\n",
       "\n",
       "  }\n",
       "\n",
       "  if (root._bokeh_is_loading === 0) {\n",
       "    console.debug(\"Bokeh: BokehJS loaded, going straight to plotting\");\n",
       "    run_inline_js();\n",
       "  } else {\n",
       "    load_libs(css_urls, js_urls, function() {\n",
       "      console.debug(\"Bokeh: BokehJS plotting callback run at\", now());\n",
       "      run_inline_js();\n",
       "    });\n",
       "  }\n",
       "}(window));"
      ],
      "application/vnd.bokehjs_load.v0+json": "\n(function(root) {\n  function now() {\n    return new Date();\n  }\n\n  var force = true;\n\n  if (typeof root._bokeh_onload_callbacks === \"undefined\" || force === true) {\n    root._bokeh_onload_callbacks = [];\n    root._bokeh_is_loading = undefined;\n  }\n\n  \n\n  \n  if (typeof (root._bokeh_timeout) === \"undefined\" || force === true) {\n    root._bokeh_timeout = Date.now() + 5000;\n    root._bokeh_failed_load = false;\n  }\n\n  var NB_LOAD_WARNING = {'data': {'text/html':\n     \"<div style='background-color: #fdd'>\\n\"+\n     \"<p>\\n\"+\n     \"BokehJS does not appear to have successfully loaded. If loading BokehJS from CDN, this \\n\"+\n     \"may be due to a slow or bad network connection. Possible fixes:\\n\"+\n     \"</p>\\n\"+\n     \"<ul>\\n\"+\n     \"<li>re-rerun `output_notebook()` to attempt to load from CDN again, or</li>\\n\"+\n     \"<li>use INLINE resources instead, as so:</li>\\n\"+\n     \"</ul>\\n\"+\n     \"<code>\\n\"+\n     \"from bokeh.resources import INLINE\\n\"+\n     \"output_notebook(resources=INLINE)\\n\"+\n     \"</code>\\n\"+\n     \"</div>\"}};\n\n  function display_loaded() {\n    var el = document.getElementById(\"1001\");\n    if (el != null) {\n      el.textContent = \"BokehJS is loading...\";\n    }\n    if (root.Bokeh !== undefined) {\n      if (el != null) {\n        el.textContent = \"BokehJS \" + root.Bokeh.version + \" successfully loaded.\";\n      }\n    } else if (Date.now() < root._bokeh_timeout) {\n      setTimeout(display_loaded, 100)\n    }\n  }\n\n\n  function run_callbacks() {\n    try {\n      root._bokeh_onload_callbacks.forEach(function(callback) {\n        if (callback != null)\n          callback();\n      });\n    } finally {\n      delete root._bokeh_onload_callbacks\n    }\n    console.debug(\"Bokeh: all callbacks have finished\");\n  }\n\n  function load_libs(css_urls, js_urls, callback) {\n    if (css_urls == null) css_urls = [];\n    if (js_urls == null) js_urls = [];\n\n    root._bokeh_onload_callbacks.push(callback);\n    if (root._bokeh_is_loading > 0) {\n      console.debug(\"Bokeh: BokehJS is being loaded, scheduling callback at\", now());\n      return null;\n    }\n    if (js_urls == null || js_urls.length === 0) {\n      run_callbacks();\n      return null;\n    }\n    console.debug(\"Bokeh: BokehJS not loaded, scheduling load and callback at\", now());\n    root._bokeh_is_loading = css_urls.length + js_urls.length;\n\n    function on_load() {\n      root._bokeh_is_loading--;\n      if (root._bokeh_is_loading === 0) {\n        console.debug(\"Bokeh: all BokehJS libraries/stylesheets loaded\");\n        run_callbacks()\n      }\n    }\n\n    function on_error() {\n      console.error(\"failed to load \" + url);\n    }\n\n    for (var i = 0; i < css_urls.length; i++) {\n      var url = css_urls[i];\n      const element = document.createElement(\"link\");\n      element.onload = on_load;\n      element.onerror = on_error;\n      element.rel = \"stylesheet\";\n      element.type = \"text/css\";\n      element.href = url;\n      console.debug(\"Bokeh: injecting link tag for BokehJS stylesheet: \", url);\n      document.body.appendChild(element);\n    }\n\n    for (var i = 0; i < js_urls.length; i++) {\n      var url = js_urls[i];\n      var element = document.createElement('script');\n      element.onload = on_load;\n      element.onerror = on_error;\n      element.async = false;\n      element.src = url;\n      console.debug(\"Bokeh: injecting script tag for BokehJS library: \", url);\n      document.head.appendChild(element);\n    }\n  };var element = document.getElementById(\"1001\");\n  if (element == null) {\n    console.error(\"Bokeh: ERROR: autoload.js configured with elementid '1001' but no matching script tag was found. \")\n    return false;\n  }\n\n  function inject_raw_css(css) {\n    const element = document.createElement(\"style\");\n    element.appendChild(document.createTextNode(css));\n    document.body.appendChild(element);\n  }\n\n  \n  var js_urls = [\"https://cdn.pydata.org/bokeh/release/bokeh-1.4.0.min.js\", \"https://cdn.pydata.org/bokeh/release/bokeh-widgets-1.4.0.min.js\", \"https://cdn.pydata.org/bokeh/release/bokeh-tables-1.4.0.min.js\", \"https://cdn.pydata.org/bokeh/release/bokeh-gl-1.4.0.min.js\"];\n  var css_urls = [];\n  \n\n  var inline_js = [\n    function(Bokeh) {\n      Bokeh.set_log_level(\"info\");\n    },\n    function(Bokeh) {\n    \n    \n    }\n  ];\n\n  function run_inline_js() {\n    \n    if (root.Bokeh !== undefined || force === true) {\n      \n    for (var i = 0; i < inline_js.length; i++) {\n      inline_js[i].call(root, root.Bokeh);\n    }\n    if (force === true) {\n        display_loaded();\n      }} else if (Date.now() < root._bokeh_timeout) {\n      setTimeout(run_inline_js, 100);\n    } else if (!root._bokeh_failed_load) {\n      console.log(\"Bokeh: BokehJS failed to load within specified timeout.\");\n      root._bokeh_failed_load = true;\n    } else if (force !== true) {\n      var cell = $(document.getElementById(\"1001\")).parents('.cell').data().cell;\n      cell.output_area.append_execute_result(NB_LOAD_WARNING)\n    }\n\n  }\n\n  if (root._bokeh_is_loading === 0) {\n    console.debug(\"Bokeh: BokehJS loaded, going straight to plotting\");\n    run_inline_js();\n  } else {\n    load_libs(css_urls, js_urls, function() {\n      console.debug(\"Bokeh: BokehJS plotting callback run at\", now());\n      run_inline_js();\n    });\n  }\n}(window));"
     },
     "metadata": {},
     "output_type": "display_data"
    },
    {
     "data": {
      "text/html": [
       "\n",
       "\n",
       "\n",
       "\n",
       "\n",
       "\n",
       "  <div class=\"bk-root\" id=\"a625127c-a932-43e1-97fd-ae143b529e91\" data-root-id=\"1002\"></div>\n"
      ]
     },
     "metadata": {},
     "output_type": "display_data"
    },
    {
     "data": {
      "application/javascript": [
       "(function(root) {\n",
       "  function embed_document(root) {\n",
       "    \n",
       "  var docs_json = {\"09b1f54f-f673-4f17-a605-391ef9b89e84\":{\"roots\":{\"references\":[{\"attributes\":{\"below\":[{\"id\":\"1013\",\"type\":\"LinearAxis\"}],\"center\":[{\"id\":\"1017\",\"type\":\"Grid\"},{\"id\":\"1022\",\"type\":\"Grid\"}],\"left\":[{\"id\":\"1018\",\"type\":\"LinearAxis\"}],\"plot_height\":700,\"plot_width\":900,\"renderers\":[{\"id\":\"1039\",\"type\":\"GlyphRenderer\"}],\"title\":{\"id\":\"1003\",\"type\":\"Title\"},\"toolbar\":{\"id\":\"1029\",\"type\":\"Toolbar\"},\"x_range\":{\"id\":\"1005\",\"type\":\"DataRange1d\"},\"x_scale\":{\"id\":\"1009\",\"type\":\"LinearScale\"},\"y_range\":{\"id\":\"1007\",\"type\":\"DataRange1d\"},\"y_scale\":{\"id\":\"1011\",\"type\":\"LinearScale\"}},\"id\":\"1002\",\"subtype\":\"Figure\",\"type\":\"Plot\"},{\"attributes\":{\"fill_alpha\":{\"value\":0.1},\"fill_color\":{\"value\":\"#1f77b4\"},\"line_alpha\":{\"value\":0.1},\"line_color\":{\"value\":\"#1f77b4\"},\"x\":{\"field\":\"x\"},\"y\":{\"field\":\"y\"}},\"id\":\"1038\",\"type\":\"Scatter\"},{\"attributes\":{\"callback\":null},\"id\":\"1005\",\"type\":\"DataRange1d\"},{\"attributes\":{\"source\":{\"id\":\"1036\",\"type\":\"ColumnDataSource\"}},\"id\":\"1040\",\"type\":\"CDSView\"},{\"attributes\":{\"formatter\":{\"id\":\"1043\",\"type\":\"BasicTickFormatter\"},\"ticker\":{\"id\":\"1014\",\"type\":\"BasicTicker\"}},\"id\":\"1013\",\"type\":\"LinearAxis\"},{\"attributes\":{},\"id\":\"1043\",\"type\":\"BasicTickFormatter\"},{\"attributes\":{},\"id\":\"1014\",\"type\":\"BasicTicker\"},{\"attributes\":{},\"id\":\"1045\",\"type\":\"BasicTickFormatter\"},{\"attributes\":{\"bottom_units\":\"screen\",\"fill_alpha\":{\"value\":0.5},\"fill_color\":{\"value\":\"lightgrey\"},\"left_units\":\"screen\",\"level\":\"overlay\",\"line_alpha\":{\"value\":1.0},\"line_color\":{\"value\":\"black\"},\"line_dash\":[4,4],\"line_width\":{\"value\":2},\"render_mode\":\"css\",\"right_units\":\"screen\",\"top_units\":\"screen\"},\"id\":\"1046\",\"type\":\"BoxAnnotation\"},{\"attributes\":{\"formatter\":{\"id\":\"1045\",\"type\":\"BasicTickFormatter\"},\"ticker\":{\"id\":\"1019\",\"type\":\"BasicTicker\"}},\"id\":\"1018\",\"type\":\"LinearAxis\"},{\"attributes\":{},\"id\":\"1047\",\"type\":\"Selection\"},{\"attributes\":{},\"id\":\"1019\",\"type\":\"BasicTicker\"},{\"attributes\":{\"ticker\":{\"id\":\"1014\",\"type\":\"BasicTicker\"}},\"id\":\"1017\",\"type\":\"Grid\"},{\"attributes\":{},\"id\":\"1048\",\"type\":\"UnionRenderers\"},{\"attributes\":{\"dimension\":1,\"ticker\":{\"id\":\"1019\",\"type\":\"BasicTicker\"}},\"id\":\"1022\",\"type\":\"Grid\"},{\"attributes\":{\"active_drag\":\"auto\",\"active_inspect\":\"auto\",\"active_multi\":null,\"active_scroll\":\"auto\",\"active_tap\":\"auto\",\"tools\":[{\"id\":\"1023\",\"type\":\"PanTool\"},{\"id\":\"1024\",\"type\":\"WheelZoomTool\"},{\"id\":\"1025\",\"type\":\"BoxZoomTool\"},{\"id\":\"1026\",\"type\":\"SaveTool\"},{\"id\":\"1027\",\"type\":\"ResetTool\"},{\"id\":\"1028\",\"type\":\"HelpTool\"}]},\"id\":\"1029\",\"type\":\"Toolbar\"},{\"attributes\":{\"callback\":null,\"data\":{\"fill_color\":[\"#ff7f0e\",\"#ff7f0e\",\"#2ca02c\",\"#1f77b4\",\"#ff7f0e\",\"#ff7f0e\",\"#ff7f0e\",\"#ff7f0e\",\"#2ca02c\",\"#1f77b4\",\"#ff7f0e\",\"#1f77b4\",\"#ff7f0e\",\"#1f77b4\",\"#ff7f0e\",\"#d62728\",\"#d62728\",\"#1f77b4\",\"#ff7f0e\",\"#2ca02c\",\"#d62728\",\"#2ca02c\",\"#2ca02c\",\"#d62728\",\"#1f77b4\",\"#2ca02c\",\"#d62728\",\"#2ca02c\",\"#1f77b4\",\"#2ca02c\",\"#d62728\",\"#2ca02c\",\"#ff7f0e\",\"#ff7f0e\",\"#2ca02c\",\"#ff7f0e\",\"#2ca02c\",\"#ff7f0e\",\"#2ca02c\",\"#d62728\",\"#2ca02c\",\"#2ca02c\",\"#2ca02c\",\"#1f77b4\",\"#ff7f0e\",\"#ff7f0e\",\"#2ca02c\",\"#1f77b4\",\"#ff7f0e\",\"#1f77b4\",\"#ff7f0e\",\"#2ca02c\",\"#2ca02c\",\"#ff7f0e\",\"#d62728\",\"#1f77b4\",\"#d62728\",\"#ff7f0e\",\"#1f77b4\",\"#ff7f0e\",\"#ff7f0e\",\"#2ca02c\",\"#d62728\",\"#ff7f0e\",\"#ff7f0e\",\"#2ca02c\",\"#2ca02c\",\"#ff7f0e\",\"#2ca02c\",\"#ff7f0e\",\"#2ca02c\",\"#1f77b4\",\"#2ca02c\",\"#d62728\",\"#1f77b4\",\"#d62728\",\"#2ca02c\",\"#d62728\",\"#2ca02c\",\"#ff7f0e\",\"#ff7f0e\",\"#d62728\",\"#1f77b4\",\"#1f77b4\",\"#ff7f0e\",\"#ff7f0e\",\"#2ca02c\",\"#ff7f0e\",\"#2ca02c\",\"#2ca02c\",\"#d62728\",\"#2ca02c\",\"#d62728\",\"#1f77b4\",\"#2ca02c\",\"#d62728\",\"#2ca02c\",\"#d62728\",\"#d62728\",\"#2ca02c\",\"#1f77b4\",\"#ff7f0e\",\"#ff7f0e\",\"#ff7f0e\",\"#1f77b4\",\"#2ca02c\",\"#2ca02c\",\"#ff7f0e\",\"#ff7f0e\",\"#ff7f0e\",\"#ff7f0e\",\"#ff7f0e\",\"#1f77b4\",\"#1f77b4\",\"#1f77b4\",\"#2ca02c\",\"#1f77b4\",\"#d62728\",\"#1f77b4\",\"#2ca02c\",\"#ff7f0e\",\"#ff7f0e\",\"#2ca02c\",\"#1f77b4\",\"#1f77b4\",\"#2ca02c\",\"#d62728\",\"#2ca02c\",\"#d62728\",\"#d62728\",\"#ff7f0e\",\"#2ca02c\",\"#ff7f0e\",\"#2ca02c\",\"#d62728\",\"#d62728\",\"#ff7f0e\",\"#2ca02c\",\"#2ca02c\",\"#1f77b4\",\"#2ca02c\",\"#1f77b4\",\"#1f77b4\",\"#ff7f0e\",\"#2ca02c\",\"#ff7f0e\",\"#1f77b4\",\"#2ca02c\",\"#1f77b4\",\"#1f77b4\",\"#d62728\",\"#2ca02c\",\"#ff7f0e\",\"#2ca02c\",\"#2ca02c\",\"#2ca02c\",\"#2ca02c\",\"#ff7f0e\",\"#2ca02c\",\"#d62728\",\"#2ca02c\",\"#1f77b4\",\"#2ca02c\",\"#2ca02c\",\"#1f77b4\",\"#d62728\",\"#2ca02c\",\"#1f77b4\",\"#2ca02c\",\"#2ca02c\",\"#2ca02c\",\"#ff7f0e\",\"#ff7f0e\",\"#ff7f0e\",\"#2ca02c\",\"#1f77b4\",\"#d62728\",\"#d62728\",\"#ff7f0e\",\"#1f77b4\",\"#1f77b4\",\"#ff7f0e\",\"#ff7f0e\",\"#ff7f0e\",\"#1f77b4\",\"#2ca02c\",\"#2ca02c\",\"#2ca02c\",\"#1f77b4\",\"#1f77b4\",\"#ff7f0e\",\"#d62728\",\"#1f77b4\",\"#1f77b4\",\"#2ca02c\",\"#1f77b4\",\"#ff7f0e\",\"#ff7f0e\",\"#ff7f0e\",\"#d62728\",\"#ff7f0e\",\"#ff7f0e\",\"#1f77b4\",\"#1f77b4\",\"#ff7f0e\",\"#d62728\",\"#2ca02c\",\"#2ca02c\",\"#ff7f0e\",\"#ff7f0e\",\"#ff7f0e\",\"#2ca02c\",\"#d62728\",\"#1f77b4\",\"#ff7f0e\",\"#d62728\",\"#ff7f0e\",\"#ff7f0e\",\"#1f77b4\",\"#d62728\",\"#2ca02c\",\"#d62728\",\"#2ca02c\",\"#2ca02c\",\"#1f77b4\",\"#ff7f0e\",\"#1f77b4\",\"#1f77b4\",\"#2ca02c\",\"#1f77b4\",\"#2ca02c\",\"#d62728\",\"#d62728\",\"#1f77b4\",\"#1f77b4\",\"#d62728\",\"#1f77b4\",\"#ff7f0e\",\"#ff7f0e\",\"#d62728\",\"#ff7f0e\",\"#d62728\",\"#2ca02c\",\"#d62728\",\"#ff7f0e\",\"#2ca02c\",\"#2ca02c\",\"#ff7f0e\",\"#1f77b4\",\"#1f77b4\",\"#ff7f0e\",\"#2ca02c\",\"#2ca02c\",\"#ff7f0e\",\"#ff7f0e\",\"#ff7f0e\",\"#2ca02c\",\"#ff7f0e\",\"#ff7f0e\",\"#1f77b4\",\"#d62728\",\"#2ca02c\",\"#ff7f0e\",\"#ff7f0e\",\"#ff7f0e\",\"#2ca02c\",\"#d62728\",\"#ff7f0e\",\"#d62728\",\"#ff7f0e\",\"#ff7f0e\",\"#ff7f0e\",\"#ff7f0e\",\"#2ca02c\",\"#ff7f0e\",\"#d62728\",\"#2ca02c\",\"#ff7f0e\",\"#ff7f0e\",\"#2ca02c\",\"#d62728\",\"#2ca02c\",\"#ff7f0e\",\"#1f77b4\",\"#2ca02c\",\"#d62728\",\"#ff7f0e\",\"#2ca02c\",\"#1f77b4\",\"#2ca02c\",\"#ff7f0e\",\"#d62728\",\"#d62728\",\"#ff7f0e\",\"#ff7f0e\",\"#d62728\",\"#d62728\",\"#1f77b4\",\"#1f77b4\",\"#2ca02c\",\"#ff7f0e\",\"#1f77b4\",\"#d62728\",\"#2ca02c\",\"#1f77b4\",\"#d62728\",\"#ff7f0e\",\"#2ca02c\",\"#d62728\",\"#1f77b4\",\"#1f77b4\",\"#1f77b4\",\"#2ca02c\",\"#d62728\",\"#ff7f0e\",\"#ff7f0e\",\"#1f77b4\",\"#ff7f0e\",\"#d62728\",\"#ff7f0e\",\"#ff7f0e\",\"#1f77b4\",\"#1f77b4\",\"#ff7f0e\",\"#d62728\",\"#2ca02c\",\"#ff7f0e\",\"#d62728\",\"#1f77b4\",\"#ff7f0e\",\"#1f77b4\",\"#ff7f0e\",\"#2ca02c\",\"#d62728\",\"#1f77b4\",\"#1f77b4\",\"#ff7f0e\",\"#2ca02c\",\"#2ca02c\",\"#d62728\",\"#2ca02c\",\"#ff7f0e\",\"#1f77b4\",\"#1f77b4\",\"#ff7f0e\",\"#1f77b4\",\"#ff7f0e\",\"#1f77b4\",\"#2ca02c\",\"#d62728\",\"#2ca02c\",\"#d62728\",\"#ff7f0e\",\"#ff7f0e\",\"#ff7f0e\",\"#d62728\",\"#2ca02c\",\"#ff7f0e\",\"#ff7f0e\",\"#2ca02c\",\"#d62728\",\"#2ca02c\",\"#2ca02c\",\"#d62728\",\"#2ca02c\",\"#ff7f0e\",\"#1f77b4\",\"#ff7f0e\",\"#1f77b4\",\"#d62728\",\"#1f77b4\",\"#d62728\",\"#ff7f0e\",\"#ff7f0e\",\"#d62728\",\"#d62728\",\"#2ca02c\",\"#d62728\",\"#d62728\",\"#ff7f0e\",\"#ff7f0e\",\"#d62728\",\"#ff7f0e\",\"#1f77b4\",\"#d62728\",\"#1f77b4\",\"#d62728\",\"#ff7f0e\",\"#d62728\",\"#d62728\",\"#2ca02c\",\"#1f77b4\",\"#d62728\",\"#d62728\",\"#2ca02c\",\"#d62728\",\"#d62728\",\"#ff7f0e\",\"#d62728\",\"#ff7f0e\",\"#d62728\",\"#d62728\",\"#1f77b4\",\"#ff7f0e\",\"#ff7f0e\",\"#d62728\",\"#ff7f0e\",\"#ff7f0e\",\"#1f77b4\",\"#2ca02c\",\"#ff7f0e\",\"#2ca02c\",\"#d62728\",\"#1f77b4\",\"#1f77b4\",\"#2ca02c\",\"#ff7f0e\",\"#1f77b4\",\"#ff7f0e\",\"#ff7f0e\",\"#1f77b4\",\"#ff7f0e\",\"#1f77b4\",\"#ff7f0e\",\"#d62728\",\"#d62728\",\"#ff7f0e\",\"#2ca02c\",\"#ff7f0e\",\"#ff7f0e\",\"#2ca02c\",\"#2ca02c\",\"#ff7f0e\",\"#ff7f0e\",\"#ff7f0e\",\"#1f77b4\",\"#1f77b4\",\"#1f77b4\",\"#2ca02c\",\"#d62728\",\"#2ca02c\",\"#2ca02c\",\"#2ca02c\",\"#1f77b4\",\"#ff7f0e\",\"#1f77b4\",\"#ff7f0e\",\"#ff7f0e\",\"#2ca02c\",\"#d62728\",\"#ff7f0e\",\"#1f77b4\",\"#d62728\",\"#2ca02c\",\"#d62728\",\"#1f77b4\",\"#ff7f0e\",\"#2ca02c\",\"#2ca02c\",\"#d62728\",\"#ff7f0e\",\"#2ca02c\",\"#1f77b4\",\"#ff7f0e\",\"#ff7f0e\",\"#1f77b4\",\"#d62728\",\"#d62728\",\"#d62728\",\"#d62728\",\"#ff7f0e\",\"#2ca02c\",\"#d62728\",\"#2ca02c\",\"#1f77b4\",\"#1f77b4\",\"#2ca02c\",\"#1f77b4\",\"#1f77b4\",\"#2ca02c\",\"#d62728\",\"#2ca02c\",\"#2ca02c\",\"#2ca02c\",\"#2ca02c\",\"#1f77b4\",\"#d62728\",\"#1f77b4\",\"#1f77b4\",\"#ff7f0e\",\"#2ca02c\",\"#ff7f0e\",\"#d62728\",\"#2ca02c\",\"#ff7f0e\",\"#2ca02c\",\"#ff7f0e\",\"#d62728\",\"#ff7f0e\",\"#1f77b4\",\"#2ca02c\",\"#d62728\",\"#1f77b4\",\"#2ca02c\",\"#d62728\",\"#ff7f0e\",\"#ff7f0e\",\"#ff7f0e\",\"#1f77b4\",\"#ff7f0e\",\"#2ca02c\",\"#2ca02c\",\"#1f77b4\",\"#1f77b4\",\"#ff7f0e\",\"#ff7f0e\",\"#2ca02c\",\"#1f77b4\",\"#ff7f0e\",\"#d62728\",\"#1f77b4\",\"#ff7f0e\",\"#1f77b4\",\"#ff7f0e\",\"#d62728\",\"#2ca02c\",\"#2ca02c\",\"#d62728\",\"#2ca02c\",\"#d62728\",\"#2ca02c\",\"#ff7f0e\",\"#d62728\",\"#d62728\",\"#1f77b4\",\"#d62728\",\"#1f77b4\",\"#1f77b4\",\"#1f77b4\",\"#ff7f0e\",\"#1f77b4\",\"#1f77b4\",\"#ff7f0e\",\"#ff7f0e\",\"#2ca02c\",\"#ff7f0e\",\"#d62728\",\"#ff7f0e\",\"#d62728\",\"#ff7f0e\",\"#ff7f0e\",\"#2ca02c\",\"#d62728\",\"#1f77b4\",\"#d62728\",\"#ff7f0e\",\"#2ca02c\",\"#d62728\",\"#2ca02c\",\"#2ca02c\",\"#ff7f0e\",\"#2ca02c\",\"#ff7f0e\",\"#1f77b4\",\"#d62728\",\"#ff7f0e\",\"#2ca02c\",\"#2ca02c\",\"#d62728\",\"#ff7f0e\",\"#ff7f0e\",\"#1f77b4\",\"#ff7f0e\",\"#ff7f0e\",\"#1f77b4\",\"#2ca02c\",\"#1f77b4\",\"#d62728\",\"#ff7f0e\",\"#1f77b4\",\"#2ca02c\",\"#ff7f0e\",\"#1f77b4\",\"#d62728\",\"#ff7f0e\",\"#2ca02c\",\"#1f77b4\",\"#2ca02c\",\"#d62728\",\"#ff7f0e\",\"#2ca02c\",\"#ff7f0e\",\"#ff7f0e\",\"#2ca02c\",\"#1f77b4\",\"#ff7f0e\",\"#ff7f0e\",\"#d62728\",\"#ff7f0e\",\"#ff7f0e\",\"#2ca02c\",\"#ff7f0e\",\"#ff7f0e\",\"#2ca02c\",\"#1f77b4\",\"#d62728\",\"#d62728\",\"#ff7f0e\",\"#ff7f0e\",\"#1f77b4\",\"#d62728\",\"#d62728\",\"#ff7f0e\",\"#ff7f0e\",\"#1f77b4\",\"#ff7f0e\",\"#ff7f0e\",\"#d62728\",\"#d62728\",\"#d62728\",\"#d62728\",\"#d62728\",\"#1f77b4\",\"#ff7f0e\",\"#2ca02c\",\"#ff7f0e\",\"#2ca02c\",\"#1f77b4\",\"#ff7f0e\",\"#2ca02c\",\"#1f77b4\",\"#1f77b4\",\"#1f77b4\",\"#2ca02c\",\"#2ca02c\",\"#2ca02c\",\"#2ca02c\",\"#1f77b4\",\"#2ca02c\",\"#1f77b4\",\"#2ca02c\",\"#ff7f0e\",\"#ff7f0e\",\"#ff7f0e\",\"#2ca02c\",\"#d62728\",\"#2ca02c\",\"#1f77b4\",\"#ff7f0e\",\"#2ca02c\",\"#2ca02c\",\"#1f77b4\",\"#1f77b4\",\"#d62728\",\"#1f77b4\",\"#ff7f0e\",\"#ff7f0e\",\"#2ca02c\",\"#1f77b4\",\"#1f77b4\",\"#1f77b4\",\"#1f77b4\",\"#ff7f0e\",\"#d62728\",\"#ff7f0e\",\"#1f77b4\",\"#1f77b4\",\"#ff7f0e\",\"#d62728\",\"#ff7f0e\",\"#2ca02c\",\"#2ca02c\",\"#2ca02c\",\"#1f77b4\",\"#d62728\",\"#2ca02c\",\"#ff7f0e\",\"#2ca02c\",\"#2ca02c\",\"#2ca02c\",\"#ff7f0e\",\"#2ca02c\",\"#2ca02c\",\"#2ca02c\",\"#d62728\",\"#2ca02c\",\"#1f77b4\",\"#2ca02c\",\"#1f77b4\",\"#ff7f0e\",\"#ff7f0e\",\"#d62728\",\"#2ca02c\",\"#d62728\",\"#d62728\",\"#2ca02c\",\"#ff7f0e\",\"#d62728\",\"#d62728\",\"#d62728\",\"#d62728\",\"#ff7f0e\",\"#ff7f0e\",\"#1f77b4\",\"#d62728\",\"#d62728\",\"#2ca02c\",\"#2ca02c\",\"#d62728\",\"#ff7f0e\",\"#1f77b4\",\"#1f77b4\",\"#ff7f0e\",\"#1f77b4\",\"#ff7f0e\",\"#2ca02c\",\"#2ca02c\",\"#1f77b4\",\"#1f77b4\",\"#ff7f0e\",\"#1f77b4\",\"#ff7f0e\",\"#d62728\",\"#ff7f0e\",\"#ff7f0e\",\"#2ca02c\",\"#2ca02c\",\"#d62728\",\"#2ca02c\",\"#1f77b4\",\"#d62728\",\"#ff7f0e\",\"#1f77b4\",\"#ff7f0e\",\"#2ca02c\",\"#ff7f0e\",\"#ff7f0e\",\"#d62728\",\"#ff7f0e\",\"#1f77b4\",\"#d62728\",\"#ff7f0e\",\"#2ca02c\",\"#1f77b4\",\"#d62728\",\"#d62728\",\"#ff7f0e\",\"#ff7f0e\",\"#ff7f0e\",\"#1f77b4\",\"#ff7f0e\",\"#d62728\",\"#d62728\",\"#2ca02c\",\"#ff7f0e\",\"#2ca02c\",\"#2ca02c\",\"#2ca02c\",\"#ff7f0e\",\"#2ca02c\",\"#1f77b4\",\"#d62728\",\"#ff7f0e\",\"#d62728\",\"#2ca02c\",\"#1f77b4\",\"#ff7f0e\",\"#ff7f0e\",\"#d62728\",\"#ff7f0e\",\"#ff7f0e\",\"#2ca02c\",\"#2ca02c\",\"#2ca02c\",\"#d62728\",\"#ff7f0e\",\"#d62728\",\"#ff7f0e\",\"#2ca02c\",\"#ff7f0e\",\"#2ca02c\",\"#ff7f0e\",\"#d62728\",\"#1f77b4\",\"#2ca02c\",\"#1f77b4\",\"#ff7f0e\",\"#ff7f0e\",\"#ff7f0e\",\"#d62728\",\"#ff7f0e\",\"#ff7f0e\",\"#d62728\",\"#2ca02c\",\"#ff7f0e\",\"#1f77b4\",\"#ff7f0e\",\"#ff7f0e\",\"#2ca02c\",\"#1f77b4\",\"#d62728\",\"#2ca02c\",\"#ff7f0e\",\"#1f77b4\",\"#ff7f0e\",\"#2ca02c\",\"#ff7f0e\",\"#d62728\",\"#1f77b4\",\"#ff7f0e\",\"#ff7f0e\",\"#2ca02c\",\"#d62728\",\"#ff7f0e\",\"#d62728\",\"#d62728\",\"#2ca02c\",\"#d62728\",\"#ff7f0e\",\"#ff7f0e\",\"#2ca02c\",\"#d62728\",\"#ff7f0e\",\"#d62728\",\"#2ca02c\",\"#2ca02c\",\"#d62728\",\"#1f77b4\",\"#ff7f0e\",\"#2ca02c\",\"#1f77b4\",\"#d62728\",\"#d62728\",\"#ff7f0e\",\"#d62728\",\"#ff7f0e\",\"#2ca02c\",\"#ff7f0e\",\"#ff7f0e\",\"#2ca02c\",\"#d62728\",\"#ff7f0e\",\"#2ca02c\",\"#1f77b4\",\"#d62728\",\"#ff7f0e\",\"#1f77b4\",\"#ff7f0e\",\"#1f77b4\",\"#ff7f0e\",\"#2ca02c\",\"#d62728\",\"#ff7f0e\",\"#2ca02c\",\"#1f77b4\",\"#d62728\",\"#d62728\",\"#ff7f0e\",\"#ff7f0e\",\"#2ca02c\",\"#ff7f0e\",\"#d62728\",\"#ff7f0e\",\"#d62728\",\"#2ca02c\",\"#d62728\",\"#1f77b4\",\"#2ca02c\",\"#ff7f0e\",\"#ff7f0e\",\"#ff7f0e\",\"#d62728\",\"#d62728\",\"#2ca02c\",\"#1f77b4\",\"#d62728\",\"#1f77b4\",\"#ff7f0e\",\"#ff7f0e\",\"#ff7f0e\",\"#d62728\",\"#ff7f0e\",\"#1f77b4\",\"#d62728\",\"#d62728\",\"#ff7f0e\",\"#d62728\",\"#ff7f0e\",\"#1f77b4\",\"#1f77b4\",\"#ff7f0e\",\"#d62728\",\"#ff7f0e\",\"#d62728\",\"#1f77b4\",\"#d62728\",\"#d62728\",\"#d62728\",\"#d62728\",\"#ff7f0e\",\"#2ca02c\",\"#ff7f0e\",\"#d62728\",\"#2ca02c\",\"#d62728\",\"#2ca02c\",\"#ff7f0e\",\"#1f77b4\",\"#2ca02c\",\"#2ca02c\",\"#ff7f0e\",\"#1f77b4\",\"#2ca02c\",\"#1f77b4\",\"#d62728\",\"#d62728\",\"#1f77b4\",\"#1f77b4\",\"#2ca02c\",\"#1f77b4\",\"#2ca02c\",\"#1f77b4\",\"#d62728\",\"#d62728\",\"#d62728\",\"#d62728\",\"#1f77b4\",\"#d62728\",\"#ff7f0e\",\"#2ca02c\",\"#2ca02c\",\"#2ca02c\",\"#2ca02c\",\"#d62728\",\"#1f77b4\",\"#d62728\",\"#d62728\",\"#ff7f0e\",\"#1f77b4\",\"#ff7f0e\",\"#1f77b4\",\"#d62728\",\"#2ca02c\",\"#ff7f0e\",\"#ff7f0e\",\"#d62728\",\"#d62728\",\"#d62728\",\"#d62728\",\"#1f77b4\",\"#2ca02c\",\"#d62728\",\"#ff7f0e\",\"#1f77b4\",\"#ff7f0e\",\"#d62728\",\"#d62728\",\"#ff7f0e\",\"#ff7f0e\",\"#1f77b4\",\"#d62728\",\"#1f77b4\",\"#d62728\",\"#1f77b4\",\"#ff7f0e\",\"#d62728\",\"#1f77b4\",\"#1f77b4\",\"#ff7f0e\",\"#2ca02c\",\"#1f77b4\",\"#2ca02c\",\"#ff7f0e\",\"#d62728\",\"#ff7f0e\",\"#1f77b4\",\"#2ca02c\",\"#1f77b4\",\"#2ca02c\",\"#ff7f0e\",\"#1f77b4\",\"#1f77b4\",\"#d62728\",\"#ff7f0e\",\"#ff7f0e\",\"#ff7f0e\",\"#2ca02c\",\"#ff7f0e\",\"#ff7f0e\",\"#1f77b4\",\"#ff7f0e\",\"#ff7f0e\",\"#1f77b4\",\"#2ca02c\",\"#2ca02c\",\"#2ca02c\",\"#ff7f0e\",\"#1f77b4\",\"#1f77b4\",\"#ff7f0e\",\"#ff7f0e\",\"#d62728\",\"#ff7f0e\",\"#1f77b4\",\"#ff7f0e\",\"#ff7f0e\",\"#2ca02c\",\"#2ca02c\",\"#2ca02c\",\"#ff7f0e\",\"#ff7f0e\",\"#2ca02c\",\"#2ca02c\",\"#1f77b4\",\"#ff7f0e\",\"#d62728\",\"#d62728\",\"#2ca02c\",\"#1f77b4\",\"#1f77b4\",\"#2ca02c\",\"#2ca02c\",\"#2ca02c\",\"#ff7f0e\",\"#ff7f0e\",\"#2ca02c\",\"#1f77b4\",\"#ff7f0e\",\"#ff7f0e\",\"#d62728\",\"#ff7f0e\",\"#ff7f0e\",\"#ff7f0e\",\"#d62728\",\"#1f77b4\",\"#d62728\",\"#d62728\",\"#1f77b4\",\"#1f77b4\",\"#d62728\",\"#2ca02c\",\"#2ca02c\",\"#ff7f0e\",\"#1f77b4\",\"#1f77b4\",\"#1f77b4\",\"#1f77b4\",\"#ff7f0e\",\"#ff7f0e\",\"#1f77b4\",\"#d62728\",\"#ff7f0e\",\"#d62728\",\"#ff7f0e\",\"#1f77b4\",\"#ff7f0e\",\"#ff7f0e\",\"#1f77b4\",\"#2ca02c\",\"#2ca02c\",\"#1f77b4\",\"#ff7f0e\",\"#1f77b4\",\"#1f77b4\",\"#ff7f0e\",\"#2ca02c\",\"#d62728\",\"#2ca02c\",\"#1f77b4\",\"#ff7f0e\",\"#ff7f0e\",\"#1f77b4\",\"#d62728\",\"#ff7f0e\",\"#ff7f0e\",\"#d62728\",\"#2ca02c\",\"#ff7f0e\",\"#ff7f0e\",\"#d62728\",\"#ff7f0e\",\"#1f77b4\",\"#ff7f0e\",\"#d62728\",\"#d62728\",\"#ff7f0e\",\"#d62728\",\"#d62728\",\"#ff7f0e\",\"#2ca02c\",\"#2ca02c\",\"#1f77b4\",\"#2ca02c\",\"#1f77b4\",\"#ff7f0e\",\"#2ca02c\",\"#d62728\",\"#d62728\",\"#d62728\",\"#2ca02c\",\"#d62728\",\"#d62728\",\"#d62728\",\"#1f77b4\",\"#ff7f0e\",\"#d62728\",\"#1f77b4\",\"#d62728\",\"#1f77b4\",\"#d62728\",\"#1f77b4\",\"#ff7f0e\",\"#ff7f0e\",\"#d62728\",\"#1f77b4\",\"#ff7f0e\",\"#ff7f0e\",\"#1f77b4\",\"#2ca02c\",\"#ff7f0e\",\"#2ca02c\",\"#2ca02c\",\"#1f77b4\",\"#1f77b4\",\"#1f77b4\",\"#ff7f0e\",\"#ff7f0e\",\"#1f77b4\",\"#d62728\",\"#1f77b4\",\"#ff7f0e\",\"#2ca02c\",\"#ff7f0e\",\"#2ca02c\",\"#2ca02c\",\"#ff7f0e\",\"#1f77b4\",\"#d62728\",\"#d62728\",\"#ff7f0e\",\"#1f77b4\",\"#1f77b4\",\"#d62728\",\"#d62728\",\"#1f77b4\",\"#ff7f0e\",\"#d62728\",\"#2ca02c\",\"#d62728\",\"#ff7f0e\",\"#2ca02c\",\"#ff7f0e\",\"#1f77b4\",\"#d62728\",\"#2ca02c\",\"#1f77b4\",\"#2ca02c\",\"#2ca02c\",\"#1f77b4\",\"#ff7f0e\",\"#ff7f0e\",\"#2ca02c\",\"#2ca02c\",\"#1f77b4\",\"#2ca02c\",\"#2ca02c\",\"#d62728\",\"#d62728\",\"#d62728\",\"#1f77b4\",\"#2ca02c\",\"#1f77b4\",\"#2ca02c\",\"#1f77b4\",\"#2ca02c\",\"#2ca02c\",\"#d62728\",\"#d62728\",\"#d62728\",\"#ff7f0e\",\"#2ca02c\",\"#ff7f0e\",\"#ff7f0e\",\"#d62728\",\"#d62728\",\"#2ca02c\",\"#1f77b4\",\"#d62728\",\"#ff7f0e\",\"#1f77b4\",\"#ff7f0e\",\"#2ca02c\",\"#ff7f0e\",\"#d62728\",\"#2ca02c\",\"#1f77b4\",\"#2ca02c\",\"#ff7f0e\",\"#1f77b4\",\"#ff7f0e\",\"#ff7f0e\",\"#2ca02c\",\"#2ca02c\",\"#d62728\",\"#1f77b4\",\"#ff7f0e\",\"#ff7f0e\",\"#2ca02c\",\"#ff7f0e\",\"#ff7f0e\",\"#1f77b4\",\"#1f77b4\",\"#2ca02c\",\"#d62728\",\"#1f77b4\",\"#1f77b4\",\"#2ca02c\",\"#1f77b4\",\"#ff7f0e\",\"#ff7f0e\",\"#ff7f0e\",\"#d62728\",\"#ff7f0e\",\"#1f77b4\",\"#ff7f0e\",\"#2ca02c\",\"#2ca02c\",\"#1f77b4\",\"#d62728\",\"#d62728\",\"#2ca02c\",\"#2ca02c\",\"#2ca02c\",\"#1f77b4\",\"#d62728\",\"#2ca02c\",\"#1f77b4\",\"#2ca02c\",\"#ff7f0e\",\"#d62728\",\"#d62728\",\"#2ca02c\",\"#d62728\",\"#1f77b4\",\"#ff7f0e\",\"#2ca02c\",\"#1f77b4\",\"#1f77b4\",\"#1f77b4\",\"#1f77b4\",\"#1f77b4\",\"#2ca02c\",\"#2ca02c\",\"#d62728\",\"#ff7f0e\",\"#2ca02c\",\"#ff7f0e\",\"#1f77b4\",\"#1f77b4\",\"#1f77b4\",\"#2ca02c\",\"#ff7f0e\",\"#ff7f0e\",\"#ff7f0e\",\"#ff7f0e\",\"#d62728\",\"#ff7f0e\",\"#2ca02c\",\"#2ca02c\",\"#2ca02c\",\"#ff7f0e\",\"#d62728\",\"#2ca02c\",\"#1f77b4\",\"#2ca02c\",\"#ff7f0e\",\"#ff7f0e\",\"#1f77b4\",\"#2ca02c\",\"#ff7f0e\",\"#d62728\",\"#d62728\",\"#2ca02c\",\"#d62728\",\"#ff7f0e\",\"#2ca02c\",\"#ff7f0e\",\"#2ca02c\",\"#ff7f0e\",\"#d62728\",\"#1f77b4\",\"#ff7f0e\",\"#ff7f0e\",\"#ff7f0e\",\"#2ca02c\",\"#1f77b4\",\"#ff7f0e\",\"#ff7f0e\",\"#2ca02c\",\"#2ca02c\",\"#d62728\",\"#1f77b4\",\"#ff7f0e\",\"#d62728\",\"#d62728\",\"#ff7f0e\",\"#d62728\",\"#2ca02c\",\"#ff7f0e\",\"#2ca02c\",\"#2ca02c\",\"#2ca02c\",\"#2ca02c\",\"#ff7f0e\",\"#d62728\",\"#d62728\",\"#1f77b4\",\"#1f77b4\",\"#d62728\",\"#2ca02c\",\"#2ca02c\",\"#1f77b4\",\"#1f77b4\",\"#ff7f0e\",\"#ff7f0e\",\"#1f77b4\",\"#d62728\",\"#1f77b4\",\"#ff7f0e\",\"#2ca02c\",\"#1f77b4\",\"#2ca02c\",\"#2ca02c\",\"#ff7f0e\",\"#2ca02c\",\"#ff7f0e\",\"#ff7f0e\",\"#1f77b4\",\"#2ca02c\",\"#ff7f0e\",\"#2ca02c\",\"#ff7f0e\",\"#ff7f0e\",\"#2ca02c\",\"#ff7f0e\",\"#d62728\",\"#ff7f0e\",\"#2ca02c\",\"#2ca02c\",\"#d62728\",\"#2ca02c\",\"#ff7f0e\",\"#d62728\",\"#1f77b4\",\"#ff7f0e\",\"#d62728\",\"#2ca02c\",\"#1f77b4\",\"#d62728\",\"#1f77b4\",\"#2ca02c\",\"#d62728\",\"#d62728\",\"#ff7f0e\",\"#2ca02c\",\"#1f77b4\",\"#ff7f0e\",\"#2ca02c\",\"#ff7f0e\",\"#ff7f0e\",\"#1f77b4\",\"#2ca02c\",\"#d62728\",\"#2ca02c\",\"#d62728\",\"#ff7f0e\",\"#2ca02c\",\"#d62728\",\"#2ca02c\",\"#2ca02c\",\"#2ca02c\",\"#1f77b4\",\"#ff7f0e\",\"#d62728\",\"#1f77b4\",\"#1f77b4\",\"#d62728\",\"#ff7f0e\",\"#2ca02c\",\"#1f77b4\",\"#ff7f0e\",\"#ff7f0e\",\"#ff7f0e\",\"#1f77b4\",\"#d62728\",\"#2ca02c\",\"#1f77b4\",\"#ff7f0e\",\"#1f77b4\",\"#d62728\",\"#2ca02c\",\"#ff7f0e\",\"#2ca02c\",\"#d62728\",\"#1f77b4\",\"#d62728\",\"#2ca02c\",\"#1f77b4\",\"#2ca02c\",\"#1f77b4\",\"#2ca02c\",\"#d62728\",\"#ff7f0e\",\"#ff7f0e\",\"#2ca02c\",\"#1f77b4\",\"#ff7f0e\",\"#d62728\",\"#d62728\",\"#2ca02c\",\"#2ca02c\",\"#2ca02c\",\"#ff7f0e\",\"#ff7f0e\",\"#2ca02c\",\"#d62728\",\"#ff7f0e\",\"#d62728\",\"#ff7f0e\",\"#1f77b4\",\"#ff7f0e\",\"#ff7f0e\",\"#d62728\",\"#ff7f0e\",\"#2ca02c\",\"#ff7f0e\",\"#d62728\",\"#1f77b4\",\"#d62728\",\"#ff7f0e\",\"#1f77b4\",\"#d62728\",\"#2ca02c\",\"#d62728\",\"#1f77b4\",\"#d62728\",\"#2ca02c\",\"#ff7f0e\",\"#ff7f0e\",\"#ff7f0e\",\"#1f77b4\",\"#ff7f0e\",\"#1f77b4\",\"#1f77b4\",\"#1f77b4\",\"#2ca02c\",\"#ff7f0e\",\"#ff7f0e\",\"#1f77b4\",\"#ff7f0e\",\"#ff7f0e\",\"#1f77b4\",\"#ff7f0e\",\"#2ca02c\",\"#ff7f0e\",\"#2ca02c\",\"#d62728\",\"#2ca02c\",\"#2ca02c\",\"#d62728\",\"#ff7f0e\",\"#2ca02c\",\"#ff7f0e\",\"#ff7f0e\",\"#2ca02c\",\"#2ca02c\",\"#d62728\",\"#d62728\",\"#ff7f0e\",\"#2ca02c\",\"#ff7f0e\",\"#ff7f0e\",\"#2ca02c\",\"#1f77b4\",\"#ff7f0e\",\"#2ca02c\",\"#ff7f0e\",\"#d62728\",\"#d62728\",\"#d62728\",\"#d62728\",\"#2ca02c\",\"#1f77b4\",\"#ff7f0e\",\"#2ca02c\",\"#1f77b4\",\"#2ca02c\",\"#ff7f0e\",\"#2ca02c\",\"#d62728\",\"#1f77b4\",\"#1f77b4\",\"#1f77b4\",\"#d62728\",\"#1f77b4\",\"#ff7f0e\",\"#2ca02c\",\"#1f77b4\",\"#ff7f0e\",\"#1f77b4\",\"#d62728\",\"#ff7f0e\",\"#ff7f0e\",\"#ff7f0e\",\"#ff7f0e\",\"#d62728\",\"#1f77b4\",\"#1f77b4\",\"#ff7f0e\",\"#d62728\",\"#1f77b4\",\"#1f77b4\",\"#d62728\",\"#ff7f0e\",\"#ff7f0e\",\"#d62728\",\"#d62728\",\"#ff7f0e\",\"#2ca02c\",\"#d62728\",\"#1f77b4\",\"#d62728\",\"#2ca02c\",\"#2ca02c\",\"#d62728\",\"#1f77b4\",\"#2ca02c\",\"#ff7f0e\",\"#ff7f0e\",\"#1f77b4\",\"#ff7f0e\",\"#d62728\",\"#2ca02c\",\"#ff7f0e\",\"#2ca02c\",\"#1f77b4\",\"#2ca02c\",\"#1f77b4\",\"#ff7f0e\",\"#d62728\",\"#1f77b4\",\"#d62728\",\"#1f77b4\",\"#2ca02c\",\"#d62728\",\"#1f77b4\",\"#ff7f0e\",\"#ff7f0e\",\"#2ca02c\",\"#2ca02c\",\"#2ca02c\",\"#d62728\",\"#d62728\",\"#ff7f0e\",\"#2ca02c\",\"#ff7f0e\",\"#d62728\",\"#2ca02c\",\"#d62728\",\"#ff7f0e\",\"#ff7f0e\",\"#d62728\",\"#1f77b4\",\"#1f77b4\",\"#d62728\",\"#1f77b4\",\"#1f77b4\",\"#ff7f0e\",\"#2ca02c\",\"#2ca02c\",\"#1f77b4\",\"#ff7f0e\",\"#ff7f0e\",\"#1f77b4\",\"#2ca02c\",\"#ff7f0e\",\"#d62728\",\"#d62728\",\"#d62728\",\"#ff7f0e\",\"#d62728\",\"#d62728\",\"#ff7f0e\",\"#d62728\",\"#ff7f0e\",\"#ff7f0e\",\"#ff7f0e\",\"#2ca02c\",\"#ff7f0e\",\"#1f77b4\",\"#ff7f0e\",\"#1f77b4\",\"#2ca02c\",\"#ff7f0e\",\"#2ca02c\",\"#d62728\",\"#2ca02c\",\"#1f77b4\",\"#ff7f0e\",\"#d62728\",\"#d62728\",\"#d62728\",\"#d62728\",\"#d62728\",\"#1f77b4\",\"#d62728\",\"#d62728\",\"#2ca02c\",\"#1f77b4\",\"#ff7f0e\",\"#2ca02c\",\"#ff7f0e\",\"#1f77b4\",\"#1f77b4\",\"#ff7f0e\",\"#d62728\",\"#1f77b4\",\"#d62728\",\"#d62728\",\"#ff7f0e\",\"#1f77b4\",\"#ff7f0e\",\"#2ca02c\",\"#ff7f0e\",\"#d62728\",\"#ff7f0e\",\"#ff7f0e\",\"#ff7f0e\",\"#1f77b4\",\"#d62728\",\"#2ca02c\",\"#2ca02c\",\"#2ca02c\",\"#ff7f0e\",\"#2ca02c\",\"#2ca02c\",\"#ff7f0e\",\"#2ca02c\",\"#2ca02c\",\"#ff7f0e\",\"#2ca02c\",\"#ff7f0e\",\"#ff7f0e\",\"#d62728\",\"#d62728\",\"#d62728\",\"#ff7f0e\",\"#1f77b4\",\"#ff7f0e\",\"#d62728\",\"#1f77b4\",\"#d62728\",\"#2ca02c\",\"#d62728\",\"#2ca02c\",\"#ff7f0e\",\"#2ca02c\",\"#2ca02c\",\"#1f77b4\",\"#ff7f0e\",\"#ff7f0e\",\"#1f77b4\",\"#ff7f0e\",\"#ff7f0e\",\"#d62728\",\"#2ca02c\",\"#2ca02c\",\"#d62728\",\"#2ca02c\",\"#ff7f0e\",\"#2ca02c\",\"#ff7f0e\",\"#1f77b4\",\"#1f77b4\",\"#d62728\",\"#2ca02c\",\"#d62728\",\"#ff7f0e\",\"#2ca02c\",\"#1f77b4\",\"#ff7f0e\",\"#2ca02c\",\"#2ca02c\",\"#ff7f0e\",\"#d62728\",\"#1f77b4\",\"#ff7f0e\",\"#d62728\",\"#ff7f0e\",\"#1f77b4\",\"#ff7f0e\",\"#2ca02c\",\"#1f77b4\",\"#d62728\",\"#ff7f0e\",\"#ff7f0e\",\"#d62728\",\"#2ca02c\",\"#ff7f0e\",\"#1f77b4\",\"#1f77b4\",\"#1f77b4\",\"#d62728\",\"#2ca02c\",\"#ff7f0e\",\"#1f77b4\",\"#1f77b4\",\"#2ca02c\",\"#2ca02c\",\"#ff7f0e\",\"#1f77b4\",\"#1f77b4\",\"#2ca02c\",\"#d62728\",\"#1f77b4\",\"#2ca02c\",\"#2ca02c\",\"#1f77b4\",\"#ff7f0e\",\"#ff7f0e\",\"#1f77b4\",\"#2ca02c\",\"#2ca02c\",\"#ff7f0e\",\"#1f77b4\",\"#2ca02c\",\"#d62728\",\"#1f77b4\",\"#d62728\",\"#ff7f0e\",\"#2ca02c\",\"#d62728\",\"#2ca02c\",\"#ff7f0e\",\"#ff7f0e\",\"#ff7f0e\",\"#ff7f0e\",\"#2ca02c\",\"#ff7f0e\",\"#d62728\",\"#1f77b4\",\"#ff7f0e\",\"#1f77b4\",\"#2ca02c\",\"#1f77b4\",\"#ff7f0e\",\"#ff7f0e\",\"#ff7f0e\",\"#d62728\",\"#ff7f0e\",\"#ff7f0e\",\"#d62728\",\"#ff7f0e\",\"#1f77b4\",\"#2ca02c\",\"#ff7f0e\",\"#2ca02c\",\"#ff7f0e\",\"#2ca02c\",\"#1f77b4\",\"#1f77b4\",\"#1f77b4\",\"#ff7f0e\",\"#ff7f0e\",\"#d62728\",\"#d62728\",\"#d62728\",\"#2ca02c\",\"#ff7f0e\",\"#d62728\",\"#2ca02c\",\"#1f77b4\",\"#ff7f0e\",\"#ff7f0e\",\"#1f77b4\",\"#1f77b4\",\"#ff7f0e\",\"#ff7f0e\",\"#ff7f0e\",\"#ff7f0e\",\"#1f77b4\",\"#d62728\",\"#ff7f0e\",\"#1f77b4\",\"#d62728\",\"#d62728\",\"#ff7f0e\",\"#1f77b4\",\"#ff7f0e\",\"#2ca02c\",\"#2ca02c\",\"#2ca02c\",\"#1f77b4\",\"#2ca02c\",\"#ff7f0e\",\"#d62728\",\"#ff7f0e\",\"#ff7f0e\",\"#1f77b4\",\"#1f77b4\",\"#d62728\",\"#2ca02c\",\"#2ca02c\",\"#d62728\",\"#2ca02c\",\"#ff7f0e\",\"#d62728\",\"#ff7f0e\",\"#ff7f0e\",\"#1f77b4\",\"#d62728\",\"#2ca02c\",\"#d62728\",\"#d62728\",\"#2ca02c\",\"#ff7f0e\",\"#1f77b4\",\"#2ca02c\",\"#1f77b4\",\"#2ca02c\",\"#1f77b4\",\"#ff7f0e\",\"#d62728\",\"#d62728\",\"#ff7f0e\",\"#1f77b4\",\"#1f77b4\",\"#d62728\",\"#1f77b4\",\"#2ca02c\",\"#ff7f0e\",\"#d62728\",\"#2ca02c\",\"#2ca02c\",\"#1f77b4\",\"#1f77b4\",\"#ff7f0e\",\"#1f77b4\",\"#d62728\",\"#d62728\",\"#ff7f0e\",\"#d62728\",\"#1f77b4\",\"#1f77b4\",\"#ff7f0e\",\"#ff7f0e\",\"#d62728\",\"#d62728\",\"#d62728\",\"#ff7f0e\",\"#2ca02c\",\"#1f77b4\",\"#ff7f0e\",\"#2ca02c\",\"#2ca02c\",\"#ff7f0e\",\"#1f77b4\",\"#1f77b4\",\"#ff7f0e\",\"#1f77b4\",\"#d62728\",\"#ff7f0e\",\"#2ca02c\",\"#d62728\",\"#2ca02c\",\"#ff7f0e\",\"#d62728\",\"#ff7f0e\",\"#2ca02c\",\"#1f77b4\",\"#ff7f0e\",\"#2ca02c\",\"#d62728\",\"#ff7f0e\",\"#1f77b4\",\"#ff7f0e\",\"#2ca02c\",\"#ff7f0e\",\"#ff7f0e\",\"#ff7f0e\",\"#2ca02c\",\"#d62728\",\"#ff7f0e\",\"#1f77b4\",\"#1f77b4\",\"#ff7f0e\",\"#d62728\",\"#2ca02c\",\"#ff7f0e\",\"#ff7f0e\",\"#ff7f0e\",\"#2ca02c\",\"#d62728\",\"#ff7f0e\",\"#1f77b4\",\"#d62728\",\"#2ca02c\",\"#d62728\",\"#ff7f0e\",\"#ff7f0e\",\"#ff7f0e\",\"#1f77b4\",\"#ff7f0e\",\"#1f77b4\",\"#ff7f0e\",\"#d62728\",\"#1f77b4\",\"#1f77b4\",\"#ff7f0e\",\"#d62728\",\"#d62728\",\"#d62728\",\"#ff7f0e\",\"#ff7f0e\",\"#1f77b4\",\"#2ca02c\",\"#d62728\",\"#d62728\",\"#2ca02c\",\"#1f77b4\",\"#ff7f0e\",\"#1f77b4\",\"#d62728\",\"#2ca02c\",\"#2ca02c\",\"#ff7f0e\",\"#ff7f0e\",\"#1f77b4\",\"#1f77b4\",\"#ff7f0e\",\"#d62728\",\"#ff7f0e\",\"#ff7f0e\",\"#ff7f0e\",\"#2ca02c\",\"#2ca02c\",\"#ff7f0e\",\"#ff7f0e\",\"#ff7f0e\",\"#ff7f0e\",\"#2ca02c\",\"#ff7f0e\",\"#d62728\",\"#1f77b4\",\"#1f77b4\",\"#ff7f0e\",\"#ff7f0e\",\"#d62728\",\"#2ca02c\",\"#1f77b4\",\"#d62728\",\"#1f77b4\",\"#1f77b4\",\"#2ca02c\",\"#d62728\",\"#ff7f0e\",\"#ff7f0e\",\"#2ca02c\",\"#2ca02c\",\"#ff7f0e\",\"#2ca02c\",\"#2ca02c\",\"#ff7f0e\",\"#d62728\",\"#ff7f0e\",\"#ff7f0e\",\"#ff7f0e\",\"#2ca02c\",\"#d62728\",\"#1f77b4\",\"#1f77b4\",\"#ff7f0e\",\"#2ca02c\",\"#ff7f0e\",\"#2ca02c\",\"#2ca02c\",\"#d62728\",\"#ff7f0e\",\"#ff7f0e\",\"#ff7f0e\",\"#d62728\",\"#ff7f0e\",\"#1f77b4\",\"#2ca02c\",\"#2ca02c\",\"#1f77b4\",\"#d62728\",\"#2ca02c\",\"#ff7f0e\",\"#2ca02c\",\"#1f77b4\",\"#ff7f0e\",\"#ff7f0e\",\"#1f77b4\",\"#d62728\",\"#d62728\",\"#2ca02c\",\"#ff7f0e\",\"#1f77b4\",\"#ff7f0e\",\"#d62728\",\"#d62728\",\"#ff7f0e\",\"#2ca02c\",\"#ff7f0e\",\"#1f77b4\",\"#d62728\",\"#1f77b4\",\"#2ca02c\",\"#2ca02c\",\"#ff7f0e\",\"#1f77b4\",\"#d62728\",\"#d62728\",\"#ff7f0e\",\"#2ca02c\",\"#2ca02c\",\"#1f77b4\",\"#1f77b4\",\"#ff7f0e\",\"#ff7f0e\",\"#ff7f0e\",\"#d62728\",\"#1f77b4\",\"#ff7f0e\",\"#2ca02c\",\"#1f77b4\",\"#ff7f0e\",\"#1f77b4\",\"#ff7f0e\",\"#1f77b4\",\"#2ca02c\",\"#ff7f0e\",\"#ff7f0e\",\"#ff7f0e\",\"#d62728\",\"#d62728\",\"#1f77b4\",\"#1f77b4\",\"#d62728\",\"#ff7f0e\",\"#ff7f0e\",\"#ff7f0e\",\"#1f77b4\",\"#d62728\",\"#1f77b4\",\"#1f77b4\",\"#ff7f0e\",\"#d62728\",\"#d62728\",\"#d62728\",\"#2ca02c\",\"#1f77b4\",\"#ff7f0e\",\"#d62728\",\"#ff7f0e\",\"#1f77b4\",\"#2ca02c\",\"#2ca02c\",\"#1f77b4\",\"#2ca02c\",\"#2ca02c\",\"#ff7f0e\",\"#2ca02c\",\"#2ca02c\",\"#2ca02c\",\"#1f77b4\",\"#1f77b4\",\"#1f77b4\",\"#2ca02c\",\"#d62728\",\"#ff7f0e\",\"#d62728\",\"#2ca02c\",\"#1f77b4\",\"#ff7f0e\",\"#d62728\",\"#d62728\",\"#ff7f0e\",\"#ff7f0e\",\"#d62728\",\"#ff7f0e\",\"#1f77b4\",\"#2ca02c\",\"#d62728\",\"#d62728\",\"#2ca02c\",\"#ff7f0e\",\"#ff7f0e\",\"#d62728\",\"#1f77b4\",\"#d62728\",\"#d62728\",\"#2ca02c\",\"#d62728\",\"#ff7f0e\",\"#d62728\",\"#2ca02c\",\"#ff7f0e\",\"#2ca02c\",\"#ff7f0e\",\"#ff7f0e\",\"#ff7f0e\",\"#d62728\",\"#ff7f0e\",\"#2ca02c\",\"#2ca02c\",\"#ff7f0e\",\"#ff7f0e\",\"#ff7f0e\",\"#ff7f0e\",\"#d62728\",\"#ff7f0e\",\"#ff7f0e\",\"#2ca02c\",\"#2ca02c\",\"#1f77b4\",\"#ff7f0e\",\"#1f77b4\",\"#ff7f0e\",\"#ff7f0e\",\"#1f77b4\",\"#2ca02c\",\"#1f77b4\",\"#1f77b4\",\"#ff7f0e\",\"#1f77b4\",\"#d62728\",\"#1f77b4\",\"#ff7f0e\",\"#ff7f0e\",\"#2ca02c\",\"#1f77b4\",\"#2ca02c\",\"#ff7f0e\",\"#ff7f0e\",\"#d62728\",\"#2ca02c\",\"#2ca02c\",\"#1f77b4\",\"#ff7f0e\",\"#2ca02c\",\"#d62728\",\"#ff7f0e\",\"#1f77b4\",\"#2ca02c\",\"#1f77b4\",\"#2ca02c\",\"#d62728\",\"#1f77b4\",\"#2ca02c\",\"#1f77b4\",\"#ff7f0e\",\"#ff7f0e\",\"#ff7f0e\",\"#ff7f0e\",\"#d62728\",\"#ff7f0e\",\"#ff7f0e\",\"#ff7f0e\",\"#ff7f0e\",\"#ff7f0e\",\"#d62728\",\"#ff7f0e\",\"#2ca02c\",\"#2ca02c\",\"#d62728\",\"#ff7f0e\",\"#ff7f0e\",\"#ff7f0e\",\"#2ca02c\",\"#2ca02c\",\"#ff7f0e\",\"#ff7f0e\",\"#d62728\",\"#d62728\",\"#2ca02c\",\"#1f77b4\",\"#ff7f0e\",\"#1f77b4\",\"#2ca02c\",\"#ff7f0e\",\"#1f77b4\",\"#ff7f0e\",\"#2ca02c\",\"#ff7f0e\",\"#d62728\",\"#1f77b4\",\"#2ca02c\",\"#1f77b4\",\"#d62728\",\"#ff7f0e\",\"#d62728\",\"#d62728\",\"#1f77b4\",\"#ff7f0e\",\"#ff7f0e\",\"#2ca02c\",\"#d62728\",\"#d62728\",\"#2ca02c\",\"#1f77b4\",\"#ff7f0e\",\"#ff7f0e\",\"#2ca02c\",\"#2ca02c\",\"#2ca02c\",\"#d62728\",\"#2ca02c\",\"#2ca02c\",\"#2ca02c\",\"#1f77b4\",\"#1f77b4\",\"#ff7f0e\",\"#d62728\",\"#1f77b4\",\"#2ca02c\",\"#2ca02c\",\"#2ca02c\",\"#ff7f0e\",\"#ff7f0e\",\"#2ca02c\",\"#d62728\",\"#d62728\",\"#2ca02c\",\"#1f77b4\",\"#1f77b4\",\"#ff7f0e\",\"#d62728\",\"#1f77b4\",\"#d62728\",\"#2ca02c\",\"#ff7f0e\",\"#d62728\",\"#1f77b4\",\"#d62728\",\"#1f77b4\",\"#d62728\",\"#2ca02c\",\"#1f77b4\",\"#d62728\",\"#1f77b4\",\"#2ca02c\",\"#2ca02c\",\"#2ca02c\",\"#2ca02c\",\"#d62728\",\"#ff7f0e\",\"#2ca02c\",\"#1f77b4\",\"#1f77b4\",\"#1f77b4\",\"#1f77b4\",\"#2ca02c\",\"#1f77b4\",\"#1f77b4\",\"#2ca02c\",\"#d62728\",\"#2ca02c\",\"#1f77b4\",\"#ff7f0e\",\"#d62728\",\"#2ca02c\",\"#ff7f0e\",\"#1f77b4\",\"#d62728\",\"#2ca02c\",\"#ff7f0e\",\"#2ca02c\",\"#d62728\",\"#d62728\",\"#2ca02c\",\"#d62728\",\"#d62728\",\"#ff7f0e\",\"#ff7f0e\",\"#2ca02c\",\"#1f77b4\",\"#2ca02c\",\"#1f77b4\",\"#ff7f0e\",\"#ff7f0e\",\"#2ca02c\",\"#2ca02c\",\"#1f77b4\",\"#d62728\",\"#2ca02c\",\"#ff7f0e\",\"#d62728\",\"#ff7f0e\",\"#ff7f0e\",\"#ff7f0e\",\"#d62728\",\"#d62728\",\"#1f77b4\",\"#1f77b4\",\"#ff7f0e\",\"#ff7f0e\",\"#2ca02c\",\"#d62728\",\"#2ca02c\",\"#ff7f0e\",\"#2ca02c\",\"#2ca02c\",\"#2ca02c\",\"#1f77b4\",\"#2ca02c\",\"#ff7f0e\",\"#ff7f0e\",\"#ff7f0e\",\"#1f77b4\",\"#d62728\",\"#d62728\",\"#1f77b4\",\"#ff7f0e\",\"#1f77b4\",\"#d62728\",\"#ff7f0e\",\"#d62728\",\"#2ca02c\",\"#d62728\",\"#d62728\",\"#ff7f0e\",\"#ff7f0e\",\"#2ca02c\",\"#1f77b4\",\"#ff7f0e\",\"#ff7f0e\",\"#ff7f0e\",\"#ff7f0e\",\"#ff7f0e\",\"#ff7f0e\",\"#2ca02c\",\"#2ca02c\",\"#d62728\",\"#ff7f0e\",\"#2ca02c\",\"#d62728\",\"#1f77b4\",\"#2ca02c\",\"#1f77b4\",\"#2ca02c\",\"#1f77b4\",\"#ff7f0e\",\"#ff7f0e\",\"#ff7f0e\",\"#ff7f0e\",\"#1f77b4\",\"#2ca02c\",\"#1f77b4\",\"#d62728\"],\"line_color\":[\"#ff7f0e\",\"#ff7f0e\",\"#2ca02c\",\"#1f77b4\",\"#ff7f0e\",\"#ff7f0e\",\"#ff7f0e\",\"#ff7f0e\",\"#2ca02c\",\"#1f77b4\",\"#ff7f0e\",\"#1f77b4\",\"#ff7f0e\",\"#1f77b4\",\"#ff7f0e\",\"#d62728\",\"#d62728\",\"#1f77b4\",\"#ff7f0e\",\"#2ca02c\",\"#d62728\",\"#2ca02c\",\"#2ca02c\",\"#d62728\",\"#1f77b4\",\"#2ca02c\",\"#d62728\",\"#2ca02c\",\"#1f77b4\",\"#2ca02c\",\"#d62728\",\"#2ca02c\",\"#ff7f0e\",\"#ff7f0e\",\"#2ca02c\",\"#ff7f0e\",\"#2ca02c\",\"#ff7f0e\",\"#2ca02c\",\"#d62728\",\"#2ca02c\",\"#2ca02c\",\"#2ca02c\",\"#1f77b4\",\"#ff7f0e\",\"#ff7f0e\",\"#2ca02c\",\"#1f77b4\",\"#ff7f0e\",\"#1f77b4\",\"#ff7f0e\",\"#2ca02c\",\"#2ca02c\",\"#ff7f0e\",\"#d62728\",\"#1f77b4\",\"#d62728\",\"#ff7f0e\",\"#1f77b4\",\"#ff7f0e\",\"#ff7f0e\",\"#2ca02c\",\"#d62728\",\"#ff7f0e\",\"#ff7f0e\",\"#2ca02c\",\"#2ca02c\",\"#ff7f0e\",\"#2ca02c\",\"#ff7f0e\",\"#2ca02c\",\"#1f77b4\",\"#2ca02c\",\"#d62728\",\"#1f77b4\",\"#d62728\",\"#2ca02c\",\"#d62728\",\"#2ca02c\",\"#ff7f0e\",\"#ff7f0e\",\"#d62728\",\"#1f77b4\",\"#1f77b4\",\"#ff7f0e\",\"#ff7f0e\",\"#2ca02c\",\"#ff7f0e\",\"#2ca02c\",\"#2ca02c\",\"#d62728\",\"#2ca02c\",\"#d62728\",\"#1f77b4\",\"#2ca02c\",\"#d62728\",\"#2ca02c\",\"#d62728\",\"#d62728\",\"#2ca02c\",\"#1f77b4\",\"#ff7f0e\",\"#ff7f0e\",\"#ff7f0e\",\"#1f77b4\",\"#2ca02c\",\"#2ca02c\",\"#ff7f0e\",\"#ff7f0e\",\"#ff7f0e\",\"#ff7f0e\",\"#ff7f0e\",\"#1f77b4\",\"#1f77b4\",\"#1f77b4\",\"#2ca02c\",\"#1f77b4\",\"#d62728\",\"#1f77b4\",\"#2ca02c\",\"#ff7f0e\",\"#ff7f0e\",\"#2ca02c\",\"#1f77b4\",\"#1f77b4\",\"#2ca02c\",\"#d62728\",\"#2ca02c\",\"#d62728\",\"#d62728\",\"#ff7f0e\",\"#2ca02c\",\"#ff7f0e\",\"#2ca02c\",\"#d62728\",\"#d62728\",\"#ff7f0e\",\"#2ca02c\",\"#2ca02c\",\"#1f77b4\",\"#2ca02c\",\"#1f77b4\",\"#1f77b4\",\"#ff7f0e\",\"#2ca02c\",\"#ff7f0e\",\"#1f77b4\",\"#2ca02c\",\"#1f77b4\",\"#1f77b4\",\"#d62728\",\"#2ca02c\",\"#ff7f0e\",\"#2ca02c\",\"#2ca02c\",\"#2ca02c\",\"#2ca02c\",\"#ff7f0e\",\"#2ca02c\",\"#d62728\",\"#2ca02c\",\"#1f77b4\",\"#2ca02c\",\"#2ca02c\",\"#1f77b4\",\"#d62728\",\"#2ca02c\",\"#1f77b4\",\"#2ca02c\",\"#2ca02c\",\"#2ca02c\",\"#ff7f0e\",\"#ff7f0e\",\"#ff7f0e\",\"#2ca02c\",\"#1f77b4\",\"#d62728\",\"#d62728\",\"#ff7f0e\",\"#1f77b4\",\"#1f77b4\",\"#ff7f0e\",\"#ff7f0e\",\"#ff7f0e\",\"#1f77b4\",\"#2ca02c\",\"#2ca02c\",\"#2ca02c\",\"#1f77b4\",\"#1f77b4\",\"#ff7f0e\",\"#d62728\",\"#1f77b4\",\"#1f77b4\",\"#2ca02c\",\"#1f77b4\",\"#ff7f0e\",\"#ff7f0e\",\"#ff7f0e\",\"#d62728\",\"#ff7f0e\",\"#ff7f0e\",\"#1f77b4\",\"#1f77b4\",\"#ff7f0e\",\"#d62728\",\"#2ca02c\",\"#2ca02c\",\"#ff7f0e\",\"#ff7f0e\",\"#ff7f0e\",\"#2ca02c\",\"#d62728\",\"#1f77b4\",\"#ff7f0e\",\"#d62728\",\"#ff7f0e\",\"#ff7f0e\",\"#1f77b4\",\"#d62728\",\"#2ca02c\",\"#d62728\",\"#2ca02c\",\"#2ca02c\",\"#1f77b4\",\"#ff7f0e\",\"#1f77b4\",\"#1f77b4\",\"#2ca02c\",\"#1f77b4\",\"#2ca02c\",\"#d62728\",\"#d62728\",\"#1f77b4\",\"#1f77b4\",\"#d62728\",\"#1f77b4\",\"#ff7f0e\",\"#ff7f0e\",\"#d62728\",\"#ff7f0e\",\"#d62728\",\"#2ca02c\",\"#d62728\",\"#ff7f0e\",\"#2ca02c\",\"#2ca02c\",\"#ff7f0e\",\"#1f77b4\",\"#1f77b4\",\"#ff7f0e\",\"#2ca02c\",\"#2ca02c\",\"#ff7f0e\",\"#ff7f0e\",\"#ff7f0e\",\"#2ca02c\",\"#ff7f0e\",\"#ff7f0e\",\"#1f77b4\",\"#d62728\",\"#2ca02c\",\"#ff7f0e\",\"#ff7f0e\",\"#ff7f0e\",\"#2ca02c\",\"#d62728\",\"#ff7f0e\",\"#d62728\",\"#ff7f0e\",\"#ff7f0e\",\"#ff7f0e\",\"#ff7f0e\",\"#2ca02c\",\"#ff7f0e\",\"#d62728\",\"#2ca02c\",\"#ff7f0e\",\"#ff7f0e\",\"#2ca02c\",\"#d62728\",\"#2ca02c\",\"#ff7f0e\",\"#1f77b4\",\"#2ca02c\",\"#d62728\",\"#ff7f0e\",\"#2ca02c\",\"#1f77b4\",\"#2ca02c\",\"#ff7f0e\",\"#d62728\",\"#d62728\",\"#ff7f0e\",\"#ff7f0e\",\"#d62728\",\"#d62728\",\"#1f77b4\",\"#1f77b4\",\"#2ca02c\",\"#ff7f0e\",\"#1f77b4\",\"#d62728\",\"#2ca02c\",\"#1f77b4\",\"#d62728\",\"#ff7f0e\",\"#2ca02c\",\"#d62728\",\"#1f77b4\",\"#1f77b4\",\"#1f77b4\",\"#2ca02c\",\"#d62728\",\"#ff7f0e\",\"#ff7f0e\",\"#1f77b4\",\"#ff7f0e\",\"#d62728\",\"#ff7f0e\",\"#ff7f0e\",\"#1f77b4\",\"#1f77b4\",\"#ff7f0e\",\"#d62728\",\"#2ca02c\",\"#ff7f0e\",\"#d62728\",\"#1f77b4\",\"#ff7f0e\",\"#1f77b4\",\"#ff7f0e\",\"#2ca02c\",\"#d62728\",\"#1f77b4\",\"#1f77b4\",\"#ff7f0e\",\"#2ca02c\",\"#2ca02c\",\"#d62728\",\"#2ca02c\",\"#ff7f0e\",\"#1f77b4\",\"#1f77b4\",\"#ff7f0e\",\"#1f77b4\",\"#ff7f0e\",\"#1f77b4\",\"#2ca02c\",\"#d62728\",\"#2ca02c\",\"#d62728\",\"#ff7f0e\",\"#ff7f0e\",\"#ff7f0e\",\"#d62728\",\"#2ca02c\",\"#ff7f0e\",\"#ff7f0e\",\"#2ca02c\",\"#d62728\",\"#2ca02c\",\"#2ca02c\",\"#d62728\",\"#2ca02c\",\"#ff7f0e\",\"#1f77b4\",\"#ff7f0e\",\"#1f77b4\",\"#d62728\",\"#1f77b4\",\"#d62728\",\"#ff7f0e\",\"#ff7f0e\",\"#d62728\",\"#d62728\",\"#2ca02c\",\"#d62728\",\"#d62728\",\"#ff7f0e\",\"#ff7f0e\",\"#d62728\",\"#ff7f0e\",\"#1f77b4\",\"#d62728\",\"#1f77b4\",\"#d62728\",\"#ff7f0e\",\"#d62728\",\"#d62728\",\"#2ca02c\",\"#1f77b4\",\"#d62728\",\"#d62728\",\"#2ca02c\",\"#d62728\",\"#d62728\",\"#ff7f0e\",\"#d62728\",\"#ff7f0e\",\"#d62728\",\"#d62728\",\"#1f77b4\",\"#ff7f0e\",\"#ff7f0e\",\"#d62728\",\"#ff7f0e\",\"#ff7f0e\",\"#1f77b4\",\"#2ca02c\",\"#ff7f0e\",\"#2ca02c\",\"#d62728\",\"#1f77b4\",\"#1f77b4\",\"#2ca02c\",\"#ff7f0e\",\"#1f77b4\",\"#ff7f0e\",\"#ff7f0e\",\"#1f77b4\",\"#ff7f0e\",\"#1f77b4\",\"#ff7f0e\",\"#d62728\",\"#d62728\",\"#ff7f0e\",\"#2ca02c\",\"#ff7f0e\",\"#ff7f0e\",\"#2ca02c\",\"#2ca02c\",\"#ff7f0e\",\"#ff7f0e\",\"#ff7f0e\",\"#1f77b4\",\"#1f77b4\",\"#1f77b4\",\"#2ca02c\",\"#d62728\",\"#2ca02c\",\"#2ca02c\",\"#2ca02c\",\"#1f77b4\",\"#ff7f0e\",\"#1f77b4\",\"#ff7f0e\",\"#ff7f0e\",\"#2ca02c\",\"#d62728\",\"#ff7f0e\",\"#1f77b4\",\"#d62728\",\"#2ca02c\",\"#d62728\",\"#1f77b4\",\"#ff7f0e\",\"#2ca02c\",\"#2ca02c\",\"#d62728\",\"#ff7f0e\",\"#2ca02c\",\"#1f77b4\",\"#ff7f0e\",\"#ff7f0e\",\"#1f77b4\",\"#d62728\",\"#d62728\",\"#d62728\",\"#d62728\",\"#ff7f0e\",\"#2ca02c\",\"#d62728\",\"#2ca02c\",\"#1f77b4\",\"#1f77b4\",\"#2ca02c\",\"#1f77b4\",\"#1f77b4\",\"#2ca02c\",\"#d62728\",\"#2ca02c\",\"#2ca02c\",\"#2ca02c\",\"#2ca02c\",\"#1f77b4\",\"#d62728\",\"#1f77b4\",\"#1f77b4\",\"#ff7f0e\",\"#2ca02c\",\"#ff7f0e\",\"#d62728\",\"#2ca02c\",\"#ff7f0e\",\"#2ca02c\",\"#ff7f0e\",\"#d62728\",\"#ff7f0e\",\"#1f77b4\",\"#2ca02c\",\"#d62728\",\"#1f77b4\",\"#2ca02c\",\"#d62728\",\"#ff7f0e\",\"#ff7f0e\",\"#ff7f0e\",\"#1f77b4\",\"#ff7f0e\",\"#2ca02c\",\"#2ca02c\",\"#1f77b4\",\"#1f77b4\",\"#ff7f0e\",\"#ff7f0e\",\"#2ca02c\",\"#1f77b4\",\"#ff7f0e\",\"#d62728\",\"#1f77b4\",\"#ff7f0e\",\"#1f77b4\",\"#ff7f0e\",\"#d62728\",\"#2ca02c\",\"#2ca02c\",\"#d62728\",\"#2ca02c\",\"#d62728\",\"#2ca02c\",\"#ff7f0e\",\"#d62728\",\"#d62728\",\"#1f77b4\",\"#d62728\",\"#1f77b4\",\"#1f77b4\",\"#1f77b4\",\"#ff7f0e\",\"#1f77b4\",\"#1f77b4\",\"#ff7f0e\",\"#ff7f0e\",\"#2ca02c\",\"#ff7f0e\",\"#d62728\",\"#ff7f0e\",\"#d62728\",\"#ff7f0e\",\"#ff7f0e\",\"#2ca02c\",\"#d62728\",\"#1f77b4\",\"#d62728\",\"#ff7f0e\",\"#2ca02c\",\"#d62728\",\"#2ca02c\",\"#2ca02c\",\"#ff7f0e\",\"#2ca02c\",\"#ff7f0e\",\"#1f77b4\",\"#d62728\",\"#ff7f0e\",\"#2ca02c\",\"#2ca02c\",\"#d62728\",\"#ff7f0e\",\"#ff7f0e\",\"#1f77b4\",\"#ff7f0e\",\"#ff7f0e\",\"#1f77b4\",\"#2ca02c\",\"#1f77b4\",\"#d62728\",\"#ff7f0e\",\"#1f77b4\",\"#2ca02c\",\"#ff7f0e\",\"#1f77b4\",\"#d62728\",\"#ff7f0e\",\"#2ca02c\",\"#1f77b4\",\"#2ca02c\",\"#d62728\",\"#ff7f0e\",\"#2ca02c\",\"#ff7f0e\",\"#ff7f0e\",\"#2ca02c\",\"#1f77b4\",\"#ff7f0e\",\"#ff7f0e\",\"#d62728\",\"#ff7f0e\",\"#ff7f0e\",\"#2ca02c\",\"#ff7f0e\",\"#ff7f0e\",\"#2ca02c\",\"#1f77b4\",\"#d62728\",\"#d62728\",\"#ff7f0e\",\"#ff7f0e\",\"#1f77b4\",\"#d62728\",\"#d62728\",\"#ff7f0e\",\"#ff7f0e\",\"#1f77b4\",\"#ff7f0e\",\"#ff7f0e\",\"#d62728\",\"#d62728\",\"#d62728\",\"#d62728\",\"#d62728\",\"#1f77b4\",\"#ff7f0e\",\"#2ca02c\",\"#ff7f0e\",\"#2ca02c\",\"#1f77b4\",\"#ff7f0e\",\"#2ca02c\",\"#1f77b4\",\"#1f77b4\",\"#1f77b4\",\"#2ca02c\",\"#2ca02c\",\"#2ca02c\",\"#2ca02c\",\"#1f77b4\",\"#2ca02c\",\"#1f77b4\",\"#2ca02c\",\"#ff7f0e\",\"#ff7f0e\",\"#ff7f0e\",\"#2ca02c\",\"#d62728\",\"#2ca02c\",\"#1f77b4\",\"#ff7f0e\",\"#2ca02c\",\"#2ca02c\",\"#1f77b4\",\"#1f77b4\",\"#d62728\",\"#1f77b4\",\"#ff7f0e\",\"#ff7f0e\",\"#2ca02c\",\"#1f77b4\",\"#1f77b4\",\"#1f77b4\",\"#1f77b4\",\"#ff7f0e\",\"#d62728\",\"#ff7f0e\",\"#1f77b4\",\"#1f77b4\",\"#ff7f0e\",\"#d62728\",\"#ff7f0e\",\"#2ca02c\",\"#2ca02c\",\"#2ca02c\",\"#1f77b4\",\"#d62728\",\"#2ca02c\",\"#ff7f0e\",\"#2ca02c\",\"#2ca02c\",\"#2ca02c\",\"#ff7f0e\",\"#2ca02c\",\"#2ca02c\",\"#2ca02c\",\"#d62728\",\"#2ca02c\",\"#1f77b4\",\"#2ca02c\",\"#1f77b4\",\"#ff7f0e\",\"#ff7f0e\",\"#d62728\",\"#2ca02c\",\"#d62728\",\"#d62728\",\"#2ca02c\",\"#ff7f0e\",\"#d62728\",\"#d62728\",\"#d62728\",\"#d62728\",\"#ff7f0e\",\"#ff7f0e\",\"#1f77b4\",\"#d62728\",\"#d62728\",\"#2ca02c\",\"#2ca02c\",\"#d62728\",\"#ff7f0e\",\"#1f77b4\",\"#1f77b4\",\"#ff7f0e\",\"#1f77b4\",\"#ff7f0e\",\"#2ca02c\",\"#2ca02c\",\"#1f77b4\",\"#1f77b4\",\"#ff7f0e\",\"#1f77b4\",\"#ff7f0e\",\"#d62728\",\"#ff7f0e\",\"#ff7f0e\",\"#2ca02c\",\"#2ca02c\",\"#d62728\",\"#2ca02c\",\"#1f77b4\",\"#d62728\",\"#ff7f0e\",\"#1f77b4\",\"#ff7f0e\",\"#2ca02c\",\"#ff7f0e\",\"#ff7f0e\",\"#d62728\",\"#ff7f0e\",\"#1f77b4\",\"#d62728\",\"#ff7f0e\",\"#2ca02c\",\"#1f77b4\",\"#d62728\",\"#d62728\",\"#ff7f0e\",\"#ff7f0e\",\"#ff7f0e\",\"#1f77b4\",\"#ff7f0e\",\"#d62728\",\"#d62728\",\"#2ca02c\",\"#ff7f0e\",\"#2ca02c\",\"#2ca02c\",\"#2ca02c\",\"#ff7f0e\",\"#2ca02c\",\"#1f77b4\",\"#d62728\",\"#ff7f0e\",\"#d62728\",\"#2ca02c\",\"#1f77b4\",\"#ff7f0e\",\"#ff7f0e\",\"#d62728\",\"#ff7f0e\",\"#ff7f0e\",\"#2ca02c\",\"#2ca02c\",\"#2ca02c\",\"#d62728\",\"#ff7f0e\",\"#d62728\",\"#ff7f0e\",\"#2ca02c\",\"#ff7f0e\",\"#2ca02c\",\"#ff7f0e\",\"#d62728\",\"#1f77b4\",\"#2ca02c\",\"#1f77b4\",\"#ff7f0e\",\"#ff7f0e\",\"#ff7f0e\",\"#d62728\",\"#ff7f0e\",\"#ff7f0e\",\"#d62728\",\"#2ca02c\",\"#ff7f0e\",\"#1f77b4\",\"#ff7f0e\",\"#ff7f0e\",\"#2ca02c\",\"#1f77b4\",\"#d62728\",\"#2ca02c\",\"#ff7f0e\",\"#1f77b4\",\"#ff7f0e\",\"#2ca02c\",\"#ff7f0e\",\"#d62728\",\"#1f77b4\",\"#ff7f0e\",\"#ff7f0e\",\"#2ca02c\",\"#d62728\",\"#ff7f0e\",\"#d62728\",\"#d62728\",\"#2ca02c\",\"#d62728\",\"#ff7f0e\",\"#ff7f0e\",\"#2ca02c\",\"#d62728\",\"#ff7f0e\",\"#d62728\",\"#2ca02c\",\"#2ca02c\",\"#d62728\",\"#1f77b4\",\"#ff7f0e\",\"#2ca02c\",\"#1f77b4\",\"#d62728\",\"#d62728\",\"#ff7f0e\",\"#d62728\",\"#ff7f0e\",\"#2ca02c\",\"#ff7f0e\",\"#ff7f0e\",\"#2ca02c\",\"#d62728\",\"#ff7f0e\",\"#2ca02c\",\"#1f77b4\",\"#d62728\",\"#ff7f0e\",\"#1f77b4\",\"#ff7f0e\",\"#1f77b4\",\"#ff7f0e\",\"#2ca02c\",\"#d62728\",\"#ff7f0e\",\"#2ca02c\",\"#1f77b4\",\"#d62728\",\"#d62728\",\"#ff7f0e\",\"#ff7f0e\",\"#2ca02c\",\"#ff7f0e\",\"#d62728\",\"#ff7f0e\",\"#d62728\",\"#2ca02c\",\"#d62728\",\"#1f77b4\",\"#2ca02c\",\"#ff7f0e\",\"#ff7f0e\",\"#ff7f0e\",\"#d62728\",\"#d62728\",\"#2ca02c\",\"#1f77b4\",\"#d62728\",\"#1f77b4\",\"#ff7f0e\",\"#ff7f0e\",\"#ff7f0e\",\"#d62728\",\"#ff7f0e\",\"#1f77b4\",\"#d62728\",\"#d62728\",\"#ff7f0e\",\"#d62728\",\"#ff7f0e\",\"#1f77b4\",\"#1f77b4\",\"#ff7f0e\",\"#d62728\",\"#ff7f0e\",\"#d62728\",\"#1f77b4\",\"#d62728\",\"#d62728\",\"#d62728\",\"#d62728\",\"#ff7f0e\",\"#2ca02c\",\"#ff7f0e\",\"#d62728\",\"#2ca02c\",\"#d62728\",\"#2ca02c\",\"#ff7f0e\",\"#1f77b4\",\"#2ca02c\",\"#2ca02c\",\"#ff7f0e\",\"#1f77b4\",\"#2ca02c\",\"#1f77b4\",\"#d62728\",\"#d62728\",\"#1f77b4\",\"#1f77b4\",\"#2ca02c\",\"#1f77b4\",\"#2ca02c\",\"#1f77b4\",\"#d62728\",\"#d62728\",\"#d62728\",\"#d62728\",\"#1f77b4\",\"#d62728\",\"#ff7f0e\",\"#2ca02c\",\"#2ca02c\",\"#2ca02c\",\"#2ca02c\",\"#d62728\",\"#1f77b4\",\"#d62728\",\"#d62728\",\"#ff7f0e\",\"#1f77b4\",\"#ff7f0e\",\"#1f77b4\",\"#d62728\",\"#2ca02c\",\"#ff7f0e\",\"#ff7f0e\",\"#d62728\",\"#d62728\",\"#d62728\",\"#d62728\",\"#1f77b4\",\"#2ca02c\",\"#d62728\",\"#ff7f0e\",\"#1f77b4\",\"#ff7f0e\",\"#d62728\",\"#d62728\",\"#ff7f0e\",\"#ff7f0e\",\"#1f77b4\",\"#d62728\",\"#1f77b4\",\"#d62728\",\"#1f77b4\",\"#ff7f0e\",\"#d62728\",\"#1f77b4\",\"#1f77b4\",\"#ff7f0e\",\"#2ca02c\",\"#1f77b4\",\"#2ca02c\",\"#ff7f0e\",\"#d62728\",\"#ff7f0e\",\"#1f77b4\",\"#2ca02c\",\"#1f77b4\",\"#2ca02c\",\"#ff7f0e\",\"#1f77b4\",\"#1f77b4\",\"#d62728\",\"#ff7f0e\",\"#ff7f0e\",\"#ff7f0e\",\"#2ca02c\",\"#ff7f0e\",\"#ff7f0e\",\"#1f77b4\",\"#ff7f0e\",\"#ff7f0e\",\"#1f77b4\",\"#2ca02c\",\"#2ca02c\",\"#2ca02c\",\"#ff7f0e\",\"#1f77b4\",\"#1f77b4\",\"#ff7f0e\",\"#ff7f0e\",\"#d62728\",\"#ff7f0e\",\"#1f77b4\",\"#ff7f0e\",\"#ff7f0e\",\"#2ca02c\",\"#2ca02c\",\"#2ca02c\",\"#ff7f0e\",\"#ff7f0e\",\"#2ca02c\",\"#2ca02c\",\"#1f77b4\",\"#ff7f0e\",\"#d62728\",\"#d62728\",\"#2ca02c\",\"#1f77b4\",\"#1f77b4\",\"#2ca02c\",\"#2ca02c\",\"#2ca02c\",\"#ff7f0e\",\"#ff7f0e\",\"#2ca02c\",\"#1f77b4\",\"#ff7f0e\",\"#ff7f0e\",\"#d62728\",\"#ff7f0e\",\"#ff7f0e\",\"#ff7f0e\",\"#d62728\",\"#1f77b4\",\"#d62728\",\"#d62728\",\"#1f77b4\",\"#1f77b4\",\"#d62728\",\"#2ca02c\",\"#2ca02c\",\"#ff7f0e\",\"#1f77b4\",\"#1f77b4\",\"#1f77b4\",\"#1f77b4\",\"#ff7f0e\",\"#ff7f0e\",\"#1f77b4\",\"#d62728\",\"#ff7f0e\",\"#d62728\",\"#ff7f0e\",\"#1f77b4\",\"#ff7f0e\",\"#ff7f0e\",\"#1f77b4\",\"#2ca02c\",\"#2ca02c\",\"#1f77b4\",\"#ff7f0e\",\"#1f77b4\",\"#1f77b4\",\"#ff7f0e\",\"#2ca02c\",\"#d62728\",\"#2ca02c\",\"#1f77b4\",\"#ff7f0e\",\"#ff7f0e\",\"#1f77b4\",\"#d62728\",\"#ff7f0e\",\"#ff7f0e\",\"#d62728\",\"#2ca02c\",\"#ff7f0e\",\"#ff7f0e\",\"#d62728\",\"#ff7f0e\",\"#1f77b4\",\"#ff7f0e\",\"#d62728\",\"#d62728\",\"#ff7f0e\",\"#d62728\",\"#d62728\",\"#ff7f0e\",\"#2ca02c\",\"#2ca02c\",\"#1f77b4\",\"#2ca02c\",\"#1f77b4\",\"#ff7f0e\",\"#2ca02c\",\"#d62728\",\"#d62728\",\"#d62728\",\"#2ca02c\",\"#d62728\",\"#d62728\",\"#d62728\",\"#1f77b4\",\"#ff7f0e\",\"#d62728\",\"#1f77b4\",\"#d62728\",\"#1f77b4\",\"#d62728\",\"#1f77b4\",\"#ff7f0e\",\"#ff7f0e\",\"#d62728\",\"#1f77b4\",\"#ff7f0e\",\"#ff7f0e\",\"#1f77b4\",\"#2ca02c\",\"#ff7f0e\",\"#2ca02c\",\"#2ca02c\",\"#1f77b4\",\"#1f77b4\",\"#1f77b4\",\"#ff7f0e\",\"#ff7f0e\",\"#1f77b4\",\"#d62728\",\"#1f77b4\",\"#ff7f0e\",\"#2ca02c\",\"#ff7f0e\",\"#2ca02c\",\"#2ca02c\",\"#ff7f0e\",\"#1f77b4\",\"#d62728\",\"#d62728\",\"#ff7f0e\",\"#1f77b4\",\"#1f77b4\",\"#d62728\",\"#d62728\",\"#1f77b4\",\"#ff7f0e\",\"#d62728\",\"#2ca02c\",\"#d62728\",\"#ff7f0e\",\"#2ca02c\",\"#ff7f0e\",\"#1f77b4\",\"#d62728\",\"#2ca02c\",\"#1f77b4\",\"#2ca02c\",\"#2ca02c\",\"#1f77b4\",\"#ff7f0e\",\"#ff7f0e\",\"#2ca02c\",\"#2ca02c\",\"#1f77b4\",\"#2ca02c\",\"#2ca02c\",\"#d62728\",\"#d62728\",\"#d62728\",\"#1f77b4\",\"#2ca02c\",\"#1f77b4\",\"#2ca02c\",\"#1f77b4\",\"#2ca02c\",\"#2ca02c\",\"#d62728\",\"#d62728\",\"#d62728\",\"#ff7f0e\",\"#2ca02c\",\"#ff7f0e\",\"#ff7f0e\",\"#d62728\",\"#d62728\",\"#2ca02c\",\"#1f77b4\",\"#d62728\",\"#ff7f0e\",\"#1f77b4\",\"#ff7f0e\",\"#2ca02c\",\"#ff7f0e\",\"#d62728\",\"#2ca02c\",\"#1f77b4\",\"#2ca02c\",\"#ff7f0e\",\"#1f77b4\",\"#ff7f0e\",\"#ff7f0e\",\"#2ca02c\",\"#2ca02c\",\"#d62728\",\"#1f77b4\",\"#ff7f0e\",\"#ff7f0e\",\"#2ca02c\",\"#ff7f0e\",\"#ff7f0e\",\"#1f77b4\",\"#1f77b4\",\"#2ca02c\",\"#d62728\",\"#1f77b4\",\"#1f77b4\",\"#2ca02c\",\"#1f77b4\",\"#ff7f0e\",\"#ff7f0e\",\"#ff7f0e\",\"#d62728\",\"#ff7f0e\",\"#1f77b4\",\"#ff7f0e\",\"#2ca02c\",\"#2ca02c\",\"#1f77b4\",\"#d62728\",\"#d62728\",\"#2ca02c\",\"#2ca02c\",\"#2ca02c\",\"#1f77b4\",\"#d62728\",\"#2ca02c\",\"#1f77b4\",\"#2ca02c\",\"#ff7f0e\",\"#d62728\",\"#d62728\",\"#2ca02c\",\"#d62728\",\"#1f77b4\",\"#ff7f0e\",\"#2ca02c\",\"#1f77b4\",\"#1f77b4\",\"#1f77b4\",\"#1f77b4\",\"#1f77b4\",\"#2ca02c\",\"#2ca02c\",\"#d62728\",\"#ff7f0e\",\"#2ca02c\",\"#ff7f0e\",\"#1f77b4\",\"#1f77b4\",\"#1f77b4\",\"#2ca02c\",\"#ff7f0e\",\"#ff7f0e\",\"#ff7f0e\",\"#ff7f0e\",\"#d62728\",\"#ff7f0e\",\"#2ca02c\",\"#2ca02c\",\"#2ca02c\",\"#ff7f0e\",\"#d62728\",\"#2ca02c\",\"#1f77b4\",\"#2ca02c\",\"#ff7f0e\",\"#ff7f0e\",\"#1f77b4\",\"#2ca02c\",\"#ff7f0e\",\"#d62728\",\"#d62728\",\"#2ca02c\",\"#d62728\",\"#ff7f0e\",\"#2ca02c\",\"#ff7f0e\",\"#2ca02c\",\"#ff7f0e\",\"#d62728\",\"#1f77b4\",\"#ff7f0e\",\"#ff7f0e\",\"#ff7f0e\",\"#2ca02c\",\"#1f77b4\",\"#ff7f0e\",\"#ff7f0e\",\"#2ca02c\",\"#2ca02c\",\"#d62728\",\"#1f77b4\",\"#ff7f0e\",\"#d62728\",\"#d62728\",\"#ff7f0e\",\"#d62728\",\"#2ca02c\",\"#ff7f0e\",\"#2ca02c\",\"#2ca02c\",\"#2ca02c\",\"#2ca02c\",\"#ff7f0e\",\"#d62728\",\"#d62728\",\"#1f77b4\",\"#1f77b4\",\"#d62728\",\"#2ca02c\",\"#2ca02c\",\"#1f77b4\",\"#1f77b4\",\"#ff7f0e\",\"#ff7f0e\",\"#1f77b4\",\"#d62728\",\"#1f77b4\",\"#ff7f0e\",\"#2ca02c\",\"#1f77b4\",\"#2ca02c\",\"#2ca02c\",\"#ff7f0e\",\"#2ca02c\",\"#ff7f0e\",\"#ff7f0e\",\"#1f77b4\",\"#2ca02c\",\"#ff7f0e\",\"#2ca02c\",\"#ff7f0e\",\"#ff7f0e\",\"#2ca02c\",\"#ff7f0e\",\"#d62728\",\"#ff7f0e\",\"#2ca02c\",\"#2ca02c\",\"#d62728\",\"#2ca02c\",\"#ff7f0e\",\"#d62728\",\"#1f77b4\",\"#ff7f0e\",\"#d62728\",\"#2ca02c\",\"#1f77b4\",\"#d62728\",\"#1f77b4\",\"#2ca02c\",\"#d62728\",\"#d62728\",\"#ff7f0e\",\"#2ca02c\",\"#1f77b4\",\"#ff7f0e\",\"#2ca02c\",\"#ff7f0e\",\"#ff7f0e\",\"#1f77b4\",\"#2ca02c\",\"#d62728\",\"#2ca02c\",\"#d62728\",\"#ff7f0e\",\"#2ca02c\",\"#d62728\",\"#2ca02c\",\"#2ca02c\",\"#2ca02c\",\"#1f77b4\",\"#ff7f0e\",\"#d62728\",\"#1f77b4\",\"#1f77b4\",\"#d62728\",\"#ff7f0e\",\"#2ca02c\",\"#1f77b4\",\"#ff7f0e\",\"#ff7f0e\",\"#ff7f0e\",\"#1f77b4\",\"#d62728\",\"#2ca02c\",\"#1f77b4\",\"#ff7f0e\",\"#1f77b4\",\"#d62728\",\"#2ca02c\",\"#ff7f0e\",\"#2ca02c\",\"#d62728\",\"#1f77b4\",\"#d62728\",\"#2ca02c\",\"#1f77b4\",\"#2ca02c\",\"#1f77b4\",\"#2ca02c\",\"#d62728\",\"#ff7f0e\",\"#ff7f0e\",\"#2ca02c\",\"#1f77b4\",\"#ff7f0e\",\"#d62728\",\"#d62728\",\"#2ca02c\",\"#2ca02c\",\"#2ca02c\",\"#ff7f0e\",\"#ff7f0e\",\"#2ca02c\",\"#d62728\",\"#ff7f0e\",\"#d62728\",\"#ff7f0e\",\"#1f77b4\",\"#ff7f0e\",\"#ff7f0e\",\"#d62728\",\"#ff7f0e\",\"#2ca02c\",\"#ff7f0e\",\"#d62728\",\"#1f77b4\",\"#d62728\",\"#ff7f0e\",\"#1f77b4\",\"#d62728\",\"#2ca02c\",\"#d62728\",\"#1f77b4\",\"#d62728\",\"#2ca02c\",\"#ff7f0e\",\"#ff7f0e\",\"#ff7f0e\",\"#1f77b4\",\"#ff7f0e\",\"#1f77b4\",\"#1f77b4\",\"#1f77b4\",\"#2ca02c\",\"#ff7f0e\",\"#ff7f0e\",\"#1f77b4\",\"#ff7f0e\",\"#ff7f0e\",\"#1f77b4\",\"#ff7f0e\",\"#2ca02c\",\"#ff7f0e\",\"#2ca02c\",\"#d62728\",\"#2ca02c\",\"#2ca02c\",\"#d62728\",\"#ff7f0e\",\"#2ca02c\",\"#ff7f0e\",\"#ff7f0e\",\"#2ca02c\",\"#2ca02c\",\"#d62728\",\"#d62728\",\"#ff7f0e\",\"#2ca02c\",\"#ff7f0e\",\"#ff7f0e\",\"#2ca02c\",\"#1f77b4\",\"#ff7f0e\",\"#2ca02c\",\"#ff7f0e\",\"#d62728\",\"#d62728\",\"#d62728\",\"#d62728\",\"#2ca02c\",\"#1f77b4\",\"#ff7f0e\",\"#2ca02c\",\"#1f77b4\",\"#2ca02c\",\"#ff7f0e\",\"#2ca02c\",\"#d62728\",\"#1f77b4\",\"#1f77b4\",\"#1f77b4\",\"#d62728\",\"#1f77b4\",\"#ff7f0e\",\"#2ca02c\",\"#1f77b4\",\"#ff7f0e\",\"#1f77b4\",\"#d62728\",\"#ff7f0e\",\"#ff7f0e\",\"#ff7f0e\",\"#ff7f0e\",\"#d62728\",\"#1f77b4\",\"#1f77b4\",\"#ff7f0e\",\"#d62728\",\"#1f77b4\",\"#1f77b4\",\"#d62728\",\"#ff7f0e\",\"#ff7f0e\",\"#d62728\",\"#d62728\",\"#ff7f0e\",\"#2ca02c\",\"#d62728\",\"#1f77b4\",\"#d62728\",\"#2ca02c\",\"#2ca02c\",\"#d62728\",\"#1f77b4\",\"#2ca02c\",\"#ff7f0e\",\"#ff7f0e\",\"#1f77b4\",\"#ff7f0e\",\"#d62728\",\"#2ca02c\",\"#ff7f0e\",\"#2ca02c\",\"#1f77b4\",\"#2ca02c\",\"#1f77b4\",\"#ff7f0e\",\"#d62728\",\"#1f77b4\",\"#d62728\",\"#1f77b4\",\"#2ca02c\",\"#d62728\",\"#1f77b4\",\"#ff7f0e\",\"#ff7f0e\",\"#2ca02c\",\"#2ca02c\",\"#2ca02c\",\"#d62728\",\"#d62728\",\"#ff7f0e\",\"#2ca02c\",\"#ff7f0e\",\"#d62728\",\"#2ca02c\",\"#d62728\",\"#ff7f0e\",\"#ff7f0e\",\"#d62728\",\"#1f77b4\",\"#1f77b4\",\"#d62728\",\"#1f77b4\",\"#1f77b4\",\"#ff7f0e\",\"#2ca02c\",\"#2ca02c\",\"#1f77b4\",\"#ff7f0e\",\"#ff7f0e\",\"#1f77b4\",\"#2ca02c\",\"#ff7f0e\",\"#d62728\",\"#d62728\",\"#d62728\",\"#ff7f0e\",\"#d62728\",\"#d62728\",\"#ff7f0e\",\"#d62728\",\"#ff7f0e\",\"#ff7f0e\",\"#ff7f0e\",\"#2ca02c\",\"#ff7f0e\",\"#1f77b4\",\"#ff7f0e\",\"#1f77b4\",\"#2ca02c\",\"#ff7f0e\",\"#2ca02c\",\"#d62728\",\"#2ca02c\",\"#1f77b4\",\"#ff7f0e\",\"#d62728\",\"#d62728\",\"#d62728\",\"#d62728\",\"#d62728\",\"#1f77b4\",\"#d62728\",\"#d62728\",\"#2ca02c\",\"#1f77b4\",\"#ff7f0e\",\"#2ca02c\",\"#ff7f0e\",\"#1f77b4\",\"#1f77b4\",\"#ff7f0e\",\"#d62728\",\"#1f77b4\",\"#d62728\",\"#d62728\",\"#ff7f0e\",\"#1f77b4\",\"#ff7f0e\",\"#2ca02c\",\"#ff7f0e\",\"#d62728\",\"#ff7f0e\",\"#ff7f0e\",\"#ff7f0e\",\"#1f77b4\",\"#d62728\",\"#2ca02c\",\"#2ca02c\",\"#2ca02c\",\"#ff7f0e\",\"#2ca02c\",\"#2ca02c\",\"#ff7f0e\",\"#2ca02c\",\"#2ca02c\",\"#ff7f0e\",\"#2ca02c\",\"#ff7f0e\",\"#ff7f0e\",\"#d62728\",\"#d62728\",\"#d62728\",\"#ff7f0e\",\"#1f77b4\",\"#ff7f0e\",\"#d62728\",\"#1f77b4\",\"#d62728\",\"#2ca02c\",\"#d62728\",\"#2ca02c\",\"#ff7f0e\",\"#2ca02c\",\"#2ca02c\",\"#1f77b4\",\"#ff7f0e\",\"#ff7f0e\",\"#1f77b4\",\"#ff7f0e\",\"#ff7f0e\",\"#d62728\",\"#2ca02c\",\"#2ca02c\",\"#d62728\",\"#2ca02c\",\"#ff7f0e\",\"#2ca02c\",\"#ff7f0e\",\"#1f77b4\",\"#1f77b4\",\"#d62728\",\"#2ca02c\",\"#d62728\",\"#ff7f0e\",\"#2ca02c\",\"#1f77b4\",\"#ff7f0e\",\"#2ca02c\",\"#2ca02c\",\"#ff7f0e\",\"#d62728\",\"#1f77b4\",\"#ff7f0e\",\"#d62728\",\"#ff7f0e\",\"#1f77b4\",\"#ff7f0e\",\"#2ca02c\",\"#1f77b4\",\"#d62728\",\"#ff7f0e\",\"#ff7f0e\",\"#d62728\",\"#2ca02c\",\"#ff7f0e\",\"#1f77b4\",\"#1f77b4\",\"#1f77b4\",\"#d62728\",\"#2ca02c\",\"#ff7f0e\",\"#1f77b4\",\"#1f77b4\",\"#2ca02c\",\"#2ca02c\",\"#ff7f0e\",\"#1f77b4\",\"#1f77b4\",\"#2ca02c\",\"#d62728\",\"#1f77b4\",\"#2ca02c\",\"#2ca02c\",\"#1f77b4\",\"#ff7f0e\",\"#ff7f0e\",\"#1f77b4\",\"#2ca02c\",\"#2ca02c\",\"#ff7f0e\",\"#1f77b4\",\"#2ca02c\",\"#d62728\",\"#1f77b4\",\"#d62728\",\"#ff7f0e\",\"#2ca02c\",\"#d62728\",\"#2ca02c\",\"#ff7f0e\",\"#ff7f0e\",\"#ff7f0e\",\"#ff7f0e\",\"#2ca02c\",\"#ff7f0e\",\"#d62728\",\"#1f77b4\",\"#ff7f0e\",\"#1f77b4\",\"#2ca02c\",\"#1f77b4\",\"#ff7f0e\",\"#ff7f0e\",\"#ff7f0e\",\"#d62728\",\"#ff7f0e\",\"#ff7f0e\",\"#d62728\",\"#ff7f0e\",\"#1f77b4\",\"#2ca02c\",\"#ff7f0e\",\"#2ca02c\",\"#ff7f0e\",\"#2ca02c\",\"#1f77b4\",\"#1f77b4\",\"#1f77b4\",\"#ff7f0e\",\"#ff7f0e\",\"#d62728\",\"#d62728\",\"#d62728\",\"#2ca02c\",\"#ff7f0e\",\"#d62728\",\"#2ca02c\",\"#1f77b4\",\"#ff7f0e\",\"#ff7f0e\",\"#1f77b4\",\"#1f77b4\",\"#ff7f0e\",\"#ff7f0e\",\"#ff7f0e\",\"#ff7f0e\",\"#1f77b4\",\"#d62728\",\"#ff7f0e\",\"#1f77b4\",\"#d62728\",\"#d62728\",\"#ff7f0e\",\"#1f77b4\",\"#ff7f0e\",\"#2ca02c\",\"#2ca02c\",\"#2ca02c\",\"#1f77b4\",\"#2ca02c\",\"#ff7f0e\",\"#d62728\",\"#ff7f0e\",\"#ff7f0e\",\"#1f77b4\",\"#1f77b4\",\"#d62728\",\"#2ca02c\",\"#2ca02c\",\"#d62728\",\"#2ca02c\",\"#ff7f0e\",\"#d62728\",\"#ff7f0e\",\"#ff7f0e\",\"#1f77b4\",\"#d62728\",\"#2ca02c\",\"#d62728\",\"#d62728\",\"#2ca02c\",\"#ff7f0e\",\"#1f77b4\",\"#2ca02c\",\"#1f77b4\",\"#2ca02c\",\"#1f77b4\",\"#ff7f0e\",\"#d62728\",\"#d62728\",\"#ff7f0e\",\"#1f77b4\",\"#1f77b4\",\"#d62728\",\"#1f77b4\",\"#2ca02c\",\"#ff7f0e\",\"#d62728\",\"#2ca02c\",\"#2ca02c\",\"#1f77b4\",\"#1f77b4\",\"#ff7f0e\",\"#1f77b4\",\"#d62728\",\"#d62728\",\"#ff7f0e\",\"#d62728\",\"#1f77b4\",\"#1f77b4\",\"#ff7f0e\",\"#ff7f0e\",\"#d62728\",\"#d62728\",\"#d62728\",\"#ff7f0e\",\"#2ca02c\",\"#1f77b4\",\"#ff7f0e\",\"#2ca02c\",\"#2ca02c\",\"#ff7f0e\",\"#1f77b4\",\"#1f77b4\",\"#ff7f0e\",\"#1f77b4\",\"#d62728\",\"#ff7f0e\",\"#2ca02c\",\"#d62728\",\"#2ca02c\",\"#ff7f0e\",\"#d62728\",\"#ff7f0e\",\"#2ca02c\",\"#1f77b4\",\"#ff7f0e\",\"#2ca02c\",\"#d62728\",\"#ff7f0e\",\"#1f77b4\",\"#ff7f0e\",\"#2ca02c\",\"#ff7f0e\",\"#ff7f0e\",\"#ff7f0e\",\"#2ca02c\",\"#d62728\",\"#ff7f0e\",\"#1f77b4\",\"#1f77b4\",\"#ff7f0e\",\"#d62728\",\"#2ca02c\",\"#ff7f0e\",\"#ff7f0e\",\"#ff7f0e\",\"#2ca02c\",\"#d62728\",\"#ff7f0e\",\"#1f77b4\",\"#d62728\",\"#2ca02c\",\"#d62728\",\"#ff7f0e\",\"#ff7f0e\",\"#ff7f0e\",\"#1f77b4\",\"#ff7f0e\",\"#1f77b4\",\"#ff7f0e\",\"#d62728\",\"#1f77b4\",\"#1f77b4\",\"#ff7f0e\",\"#d62728\",\"#d62728\",\"#d62728\",\"#ff7f0e\",\"#ff7f0e\",\"#1f77b4\",\"#2ca02c\",\"#d62728\",\"#d62728\",\"#2ca02c\",\"#1f77b4\",\"#ff7f0e\",\"#1f77b4\",\"#d62728\",\"#2ca02c\",\"#2ca02c\",\"#ff7f0e\",\"#ff7f0e\",\"#1f77b4\",\"#1f77b4\",\"#ff7f0e\",\"#d62728\",\"#ff7f0e\",\"#ff7f0e\",\"#ff7f0e\",\"#2ca02c\",\"#2ca02c\",\"#ff7f0e\",\"#ff7f0e\",\"#ff7f0e\",\"#ff7f0e\",\"#2ca02c\",\"#ff7f0e\",\"#d62728\",\"#1f77b4\",\"#1f77b4\",\"#ff7f0e\",\"#ff7f0e\",\"#d62728\",\"#2ca02c\",\"#1f77b4\",\"#d62728\",\"#1f77b4\",\"#1f77b4\",\"#2ca02c\",\"#d62728\",\"#ff7f0e\",\"#ff7f0e\",\"#2ca02c\",\"#2ca02c\",\"#ff7f0e\",\"#2ca02c\",\"#2ca02c\",\"#ff7f0e\",\"#d62728\",\"#ff7f0e\",\"#ff7f0e\",\"#ff7f0e\",\"#2ca02c\",\"#d62728\",\"#1f77b4\",\"#1f77b4\",\"#ff7f0e\",\"#2ca02c\",\"#ff7f0e\",\"#2ca02c\",\"#2ca02c\",\"#d62728\",\"#ff7f0e\",\"#ff7f0e\",\"#ff7f0e\",\"#d62728\",\"#ff7f0e\",\"#1f77b4\",\"#2ca02c\",\"#2ca02c\",\"#1f77b4\",\"#d62728\",\"#2ca02c\",\"#ff7f0e\",\"#2ca02c\",\"#1f77b4\",\"#ff7f0e\",\"#ff7f0e\",\"#1f77b4\",\"#d62728\",\"#d62728\",\"#2ca02c\",\"#ff7f0e\",\"#1f77b4\",\"#ff7f0e\",\"#d62728\",\"#d62728\",\"#ff7f0e\",\"#2ca02c\",\"#ff7f0e\",\"#1f77b4\",\"#d62728\",\"#1f77b4\",\"#2ca02c\",\"#2ca02c\",\"#ff7f0e\",\"#1f77b4\",\"#d62728\",\"#d62728\",\"#ff7f0e\",\"#2ca02c\",\"#2ca02c\",\"#1f77b4\",\"#1f77b4\",\"#ff7f0e\",\"#ff7f0e\",\"#ff7f0e\",\"#d62728\",\"#1f77b4\",\"#ff7f0e\",\"#2ca02c\",\"#1f77b4\",\"#ff7f0e\",\"#1f77b4\",\"#ff7f0e\",\"#1f77b4\",\"#2ca02c\",\"#ff7f0e\",\"#ff7f0e\",\"#ff7f0e\",\"#d62728\",\"#d62728\",\"#1f77b4\",\"#1f77b4\",\"#d62728\",\"#ff7f0e\",\"#ff7f0e\",\"#ff7f0e\",\"#1f77b4\",\"#d62728\",\"#1f77b4\",\"#1f77b4\",\"#ff7f0e\",\"#d62728\",\"#d62728\",\"#d62728\",\"#2ca02c\",\"#1f77b4\",\"#ff7f0e\",\"#d62728\",\"#ff7f0e\",\"#1f77b4\",\"#2ca02c\",\"#2ca02c\",\"#1f77b4\",\"#2ca02c\",\"#2ca02c\",\"#ff7f0e\",\"#2ca02c\",\"#2ca02c\",\"#2ca02c\",\"#1f77b4\",\"#1f77b4\",\"#1f77b4\",\"#2ca02c\",\"#d62728\",\"#ff7f0e\",\"#d62728\",\"#2ca02c\",\"#1f77b4\",\"#ff7f0e\",\"#d62728\",\"#d62728\",\"#ff7f0e\",\"#ff7f0e\",\"#d62728\",\"#ff7f0e\",\"#1f77b4\",\"#2ca02c\",\"#d62728\",\"#d62728\",\"#2ca02c\",\"#ff7f0e\",\"#ff7f0e\",\"#d62728\",\"#1f77b4\",\"#d62728\",\"#d62728\",\"#2ca02c\",\"#d62728\",\"#ff7f0e\",\"#d62728\",\"#2ca02c\",\"#ff7f0e\",\"#2ca02c\",\"#ff7f0e\",\"#ff7f0e\",\"#ff7f0e\",\"#d62728\",\"#ff7f0e\",\"#2ca02c\",\"#2ca02c\",\"#ff7f0e\",\"#ff7f0e\",\"#ff7f0e\",\"#ff7f0e\",\"#d62728\",\"#ff7f0e\",\"#ff7f0e\",\"#2ca02c\",\"#2ca02c\",\"#1f77b4\",\"#ff7f0e\",\"#1f77b4\",\"#ff7f0e\",\"#ff7f0e\",\"#1f77b4\",\"#2ca02c\",\"#1f77b4\",\"#1f77b4\",\"#ff7f0e\",\"#1f77b4\",\"#d62728\",\"#1f77b4\",\"#ff7f0e\",\"#ff7f0e\",\"#2ca02c\",\"#1f77b4\",\"#2ca02c\",\"#ff7f0e\",\"#ff7f0e\",\"#d62728\",\"#2ca02c\",\"#2ca02c\",\"#1f77b4\",\"#ff7f0e\",\"#2ca02c\",\"#d62728\",\"#ff7f0e\",\"#1f77b4\",\"#2ca02c\",\"#1f77b4\",\"#2ca02c\",\"#d62728\",\"#1f77b4\",\"#2ca02c\",\"#1f77b4\",\"#ff7f0e\",\"#ff7f0e\",\"#ff7f0e\",\"#ff7f0e\",\"#d62728\",\"#ff7f0e\",\"#ff7f0e\",\"#ff7f0e\",\"#ff7f0e\",\"#ff7f0e\",\"#d62728\",\"#ff7f0e\",\"#2ca02c\",\"#2ca02c\",\"#d62728\",\"#ff7f0e\",\"#ff7f0e\",\"#ff7f0e\",\"#2ca02c\",\"#2ca02c\",\"#ff7f0e\",\"#ff7f0e\",\"#d62728\",\"#d62728\",\"#2ca02c\",\"#1f77b4\",\"#ff7f0e\",\"#1f77b4\",\"#2ca02c\",\"#ff7f0e\",\"#1f77b4\",\"#ff7f0e\",\"#2ca02c\",\"#ff7f0e\",\"#d62728\",\"#1f77b4\",\"#2ca02c\",\"#1f77b4\",\"#d62728\",\"#ff7f0e\",\"#d62728\",\"#d62728\",\"#1f77b4\",\"#ff7f0e\",\"#ff7f0e\",\"#2ca02c\",\"#d62728\",\"#d62728\",\"#2ca02c\",\"#1f77b4\",\"#ff7f0e\",\"#ff7f0e\",\"#2ca02c\",\"#2ca02c\",\"#2ca02c\",\"#d62728\",\"#2ca02c\",\"#2ca02c\",\"#2ca02c\",\"#1f77b4\",\"#1f77b4\",\"#ff7f0e\",\"#d62728\",\"#1f77b4\",\"#2ca02c\",\"#2ca02c\",\"#2ca02c\",\"#ff7f0e\",\"#ff7f0e\",\"#2ca02c\",\"#d62728\",\"#d62728\",\"#2ca02c\",\"#1f77b4\",\"#1f77b4\",\"#ff7f0e\",\"#d62728\",\"#1f77b4\",\"#d62728\",\"#2ca02c\",\"#ff7f0e\",\"#d62728\",\"#1f77b4\",\"#d62728\",\"#1f77b4\",\"#d62728\",\"#2ca02c\",\"#1f77b4\",\"#d62728\",\"#1f77b4\",\"#2ca02c\",\"#2ca02c\",\"#2ca02c\",\"#2ca02c\",\"#d62728\",\"#ff7f0e\",\"#2ca02c\",\"#1f77b4\",\"#1f77b4\",\"#1f77b4\",\"#1f77b4\",\"#2ca02c\",\"#1f77b4\",\"#1f77b4\",\"#2ca02c\",\"#d62728\",\"#2ca02c\",\"#1f77b4\",\"#ff7f0e\",\"#d62728\",\"#2ca02c\",\"#ff7f0e\",\"#1f77b4\",\"#d62728\",\"#2ca02c\",\"#ff7f0e\",\"#2ca02c\",\"#d62728\",\"#d62728\",\"#2ca02c\",\"#d62728\",\"#d62728\",\"#ff7f0e\",\"#ff7f0e\",\"#2ca02c\",\"#1f77b4\",\"#2ca02c\",\"#1f77b4\",\"#ff7f0e\",\"#ff7f0e\",\"#2ca02c\",\"#2ca02c\",\"#1f77b4\",\"#d62728\",\"#2ca02c\",\"#ff7f0e\",\"#d62728\",\"#ff7f0e\",\"#ff7f0e\",\"#ff7f0e\",\"#d62728\",\"#d62728\",\"#1f77b4\",\"#1f77b4\",\"#ff7f0e\",\"#ff7f0e\",\"#2ca02c\",\"#d62728\",\"#2ca02c\",\"#ff7f0e\",\"#2ca02c\",\"#2ca02c\",\"#2ca02c\",\"#1f77b4\",\"#2ca02c\",\"#ff7f0e\",\"#ff7f0e\",\"#ff7f0e\",\"#1f77b4\",\"#d62728\",\"#d62728\",\"#1f77b4\",\"#ff7f0e\",\"#1f77b4\",\"#d62728\",\"#ff7f0e\",\"#d62728\",\"#2ca02c\",\"#d62728\",\"#d62728\",\"#ff7f0e\",\"#ff7f0e\",\"#2ca02c\",\"#1f77b4\",\"#ff7f0e\",\"#ff7f0e\",\"#ff7f0e\",\"#ff7f0e\",\"#ff7f0e\",\"#ff7f0e\",\"#2ca02c\",\"#2ca02c\",\"#d62728\",\"#ff7f0e\",\"#2ca02c\",\"#d62728\",\"#1f77b4\",\"#2ca02c\",\"#1f77b4\",\"#2ca02c\",\"#1f77b4\",\"#ff7f0e\",\"#ff7f0e\",\"#ff7f0e\",\"#ff7f0e\",\"#1f77b4\",\"#2ca02c\",\"#1f77b4\",\"#d62728\"],\"x\":{\"__ndarray__\":\"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\",\"dtype\":\"float32\",\"shape\":[2361]},\"y\":{\"__ndarray__\":\"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\",\"dtype\":\"float32\",\"shape\":[2361]}},\"selected\":{\"id\":\"1047\",\"type\":\"Selection\"},\"selection_policy\":{\"id\":\"1048\",\"type\":\"UnionRenderers\"}},\"id\":\"1036\",\"type\":\"ColumnDataSource\"},{\"attributes\":{},\"id\":\"1023\",\"type\":\"PanTool\"},{\"attributes\":{\"fill_color\":{\"field\":\"fill_color\"},\"line_color\":{\"field\":\"line_color\"},\"x\":{\"field\":\"x\"},\"y\":{\"field\":\"y\"}},\"id\":\"1037\",\"type\":\"Scatter\"},{\"attributes\":{},\"id\":\"1009\",\"type\":\"LinearScale\"},{\"attributes\":{},\"id\":\"1024\",\"type\":\"WheelZoomTool\"},{\"attributes\":{},\"id\":\"1011\",\"type\":\"LinearScale\"},{\"attributes\":{\"overlay\":{\"id\":\"1046\",\"type\":\"BoxAnnotation\"}},\"id\":\"1025\",\"type\":\"BoxZoomTool\"},{\"attributes\":{},\"id\":\"1026\",\"type\":\"SaveTool\"},{\"attributes\":{},\"id\":\"1027\",\"type\":\"ResetTool\"},{\"attributes\":{\"callback\":null},\"id\":\"1007\",\"type\":\"DataRange1d\"},{\"attributes\":{},\"id\":\"1028\",\"type\":\"HelpTool\"},{\"attributes\":{\"text\":\"t-SNE Clustering of 4 LDA Topics\"},\"id\":\"1003\",\"type\":\"Title\"},{\"attributes\":{\"data_source\":{\"id\":\"1036\",\"type\":\"ColumnDataSource\"},\"glyph\":{\"id\":\"1037\",\"type\":\"Scatter\"},\"hover_glyph\":null,\"muted_glyph\":null,\"nonselection_glyph\":{\"id\":\"1038\",\"type\":\"Scatter\"},\"selection_glyph\":null,\"view\":{\"id\":\"1040\",\"type\":\"CDSView\"}},\"id\":\"1039\",\"type\":\"GlyphRenderer\"}],\"root_ids\":[\"1002\"]},\"title\":\"Bokeh Application\",\"version\":\"1.4.0\"}};\n",
       "  var render_items = [{\"docid\":\"09b1f54f-f673-4f17-a605-391ef9b89e84\",\"roots\":{\"1002\":\"a625127c-a932-43e1-97fd-ae143b529e91\"}}];\n",
       "  root.Bokeh.embed.embed_items_notebook(docs_json, render_items);\n",
       "\n",
       "  }\n",
       "  if (root.Bokeh !== undefined) {\n",
       "    embed_document(root);\n",
       "  } else {\n",
       "    var attempts = 0;\n",
       "    var timer = setInterval(function(root) {\n",
       "      if (root.Bokeh !== undefined) {\n",
       "        clearInterval(timer);\n",
       "        embed_document(root);\n",
       "      } else {\n",
       "        attempts++;\n",
       "        if (attempts > 100) {\n",
       "          clearInterval(timer);\n",
       "          console.log(\"Bokeh: ERROR: Unable to run BokehJS code because BokehJS library is missing\");\n",
       "        }\n",
       "      }\n",
       "    }, 10, root)\n",
       "  }\n",
       "})(window);"
      ],
      "application/vnd.bokehjs_exec.v0+json": ""
     },
     "metadata": {
      "application/vnd.bokehjs_exec.v0+json": {
       "id": "1002"
      }
     },
     "output_type": "display_data"
    }
   ],
   "source": [
    "from sklearn.manifold import TSNE\n",
    "from bokeh.plotting import figure, output_file, show\n",
    "from bokeh.models import Label\n",
    "from bokeh.io import output_notebook\n",
    "\n",
    "topic_probs = []\n",
    "\n",
    "# Get the topic probabilities for the whole corpus from the model\n",
    "for probs in lda_model.get_document_topics(corpus, minimum_probability=-1): # minimum_probability=-1 to always get all probs\n",
    "    topic_probs.append([prob for _, prob in probs])\n",
    "\n",
    "# Topic probs df\n",
    "df_topic_probs = pd.DataFrame(topic_probs, columns=[\"topic_0_prob\", \"topic_1_prob\", \"topic_2_prob\", \"topic_3_prob\"])\n",
    "\n",
    "# Topic weights NumPy array\n",
    "arr = df_topic_probs.values\n",
    "\n",
    "# Keep the well separated points (optional)\n",
    "# arr = arr[np.amax(arr, axis=1) > 0.35]\n",
    "\n",
    "# Dominant topic number in each doc\n",
    "topic_num = np.argmax(arr, axis=1)\n",
    "\n",
    "# Fit a tSNE model\n",
    "tsne_model = TSNE(n_components=2, verbose=1, random_state=0, angle=.99, init='pca')\n",
    "tsne_lda = tsne_model.fit_transform(arr)\n",
    "\n",
    "# Plot the Topic Clusters using Bokeh\n",
    "output_notebook()\n",
    "n_topics = 4\n",
    "mycolors = np.array([color for name, color in mcolors.TABLEAU_COLORS.items()])\n",
    "plot = figure(title=\"t-SNE Clustering of {} LDA Topics\".format(n_topics), \n",
    "              plot_width=900, plot_height=700)\n",
    "plot.scatter(x=tsne_lda[:,0], y=tsne_lda[:,1], color=mycolors[topic_num])\n",
    "show(plot);"
   ]
  },
  {
   "cell_type": "markdown",
   "metadata": {
    "colab_type": "text",
    "id": "nL19T1JNnb0i"
   },
   "source": [
    "### pyLDAvis\n",
    "pyLDAvis is a nice off-the-shelve solution for visualising the found topics and keywords."
   ]
  },
  {
   "cell_type": "code",
   "execution_count": 17,
   "metadata": {
    "ExecuteTime": {
     "end_time": "2019-11-26T08:02:57.449727Z",
     "start_time": "2019-11-26T08:00:30.214449Z"
    },
    "colab": {},
    "colab_type": "code",
    "id": "vqPaF-XBnb0j"
   },
   "outputs": [
    {
     "name": "stderr",
     "output_type": "stream",
     "text": [
      "/home/alatus/anaconda3/envs/nlp_course/lib/python3.6/site-packages/pyLDAvis/_prepare.py:257: FutureWarning: Sorting because non-concatenation axis is not aligned. A future version\n",
      "of pandas will change to not sort by default.\n",
      "\n",
      "To accept the future behavior, pass 'sort=False'.\n",
      "\n",
      "To retain the current behavior and silence the warning, pass 'sort=True'.\n",
      "\n",
      "  return pd.concat([default_term_info] + list(topic_dfs))\n"
     ]
    },
    {
     "data": {
      "text/html": [
       "\n",
       "<link rel=\"stylesheet\" type=\"text/css\" href=\"https://cdn.rawgit.com/bmabey/pyLDAvis/files/ldavis.v1.0.0.css\">\n",
       "\n",
       "\n",
       "<div id=\"ldavis_el298931396652702382088560122843\"></div>\n",
       "<script type=\"text/javascript\">\n",
       "\n",
       "var ldavis_el298931396652702382088560122843_data = {\"mdsDat\": {\"x\": [0.22353261053929693, 0.12654259740068352, -0.23721627942349519, -0.11285892851648519], \"y\": [0.11022067137291357, -0.22765081253870995, -0.11650441403247123, 0.23393455519826756], \"topics\": [1, 2, 3, 4], \"cluster\": [1, 1, 1, 1], \"Freq\": [29.074695587158203, 26.91148567199707, 22.73682975769043, 21.276992797851562]}, \"tinfo\": {\"Category\": [\"Default\", \"Default\", \"Default\", \"Default\", \"Default\", \"Default\", \"Default\", \"Default\", \"Default\", \"Default\", \"Default\", \"Default\", \"Default\", \"Default\", \"Default\", \"Default\", \"Default\", \"Default\", \"Default\", \"Default\", \"Default\", \"Default\", \"Default\", \"Default\", \"Default\", \"Default\", \"Default\", \"Default\", \"Default\", \"Default\", \"Topic1\", \"Topic1\", \"Topic1\", \"Topic1\", \"Topic1\", \"Topic1\", \"Topic1\", \"Topic1\", \"Topic1\", \"Topic1\", \"Topic1\", \"Topic1\", \"Topic1\", \"Topic1\", \"Topic1\", \"Topic1\", \"Topic1\", \"Topic1\", \"Topic1\", \"Topic1\", \"Topic1\", \"Topic1\", \"Topic1\", \"Topic1\", \"Topic1\", \"Topic1\", \"Topic1\", \"Topic1\", \"Topic1\", \"Topic1\", \"Topic1\", \"Topic1\", \"Topic1\", \"Topic1\", \"Topic1\", \"Topic1\", \"Topic1\", \"Topic1\", \"Topic1\", \"Topic1\", \"Topic1\", \"Topic1\", \"Topic1\", \"Topic1\", \"Topic1\", \"Topic1\", \"Topic1\", \"Topic1\", \"Topic1\", \"Topic1\", \"Topic1\", \"Topic2\", \"Topic2\", \"Topic2\", \"Topic2\", \"Topic2\", \"Topic2\", \"Topic2\", \"Topic2\", \"Topic2\", \"Topic2\", \"Topic2\", \"Topic2\", \"Topic2\", \"Topic2\", \"Topic2\", \"Topic2\", \"Topic2\", \"Topic2\", \"Topic2\", \"Topic2\", \"Topic2\", \"Topic2\", \"Topic2\", \"Topic2\", \"Topic2\", \"Topic2\", \"Topic2\", \"Topic2\", \"Topic2\", \"Topic2\", \"Topic2\", \"Topic2\", \"Topic2\", \"Topic2\", \"Topic2\", \"Topic2\", \"Topic2\", \"Topic2\", \"Topic2\", \"Topic2\", \"Topic2\", \"Topic2\", \"Topic2\", \"Topic2\", \"Topic2\", \"Topic2\", \"Topic2\", \"Topic2\", \"Topic2\", \"Topic2\", \"Topic2\", \"Topic2\", \"Topic2\", \"Topic2\", \"Topic2\", \"Topic2\", \"Topic2\", \"Topic2\", \"Topic2\", \"Topic2\", \"Topic2\", \"Topic2\", \"Topic3\", \"Topic3\", \"Topic3\", \"Topic3\", \"Topic3\", \"Topic3\", \"Topic3\", \"Topic3\", \"Topic3\", \"Topic3\", \"Topic3\", \"Topic3\", \"Topic3\", \"Topic3\", \"Topic3\", \"Topic3\", \"Topic3\", \"Topic3\", \"Topic3\", \"Topic3\", \"Topic3\", \"Topic3\", \"Topic3\", \"Topic3\", \"Topic3\", \"Topic3\", \"Topic3\", \"Topic3\", \"Topic3\", \"Topic3\", \"Topic3\", \"Topic3\", \"Topic3\", \"Topic3\", \"Topic3\", \"Topic3\", \"Topic3\", \"Topic3\", \"Topic3\", \"Topic3\", \"Topic3\", \"Topic3\", \"Topic3\", \"Topic3\", \"Topic3\", \"Topic3\", \"Topic3\", \"Topic3\", \"Topic3\", \"Topic3\", \"Topic3\", \"Topic3\", \"Topic3\", \"Topic3\", \"Topic3\", \"Topic3\", \"Topic3\", \"Topic3\", \"Topic3\", \"Topic3\", \"Topic3\", \"Topic3\", \"Topic3\", \"Topic4\", \"Topic4\", \"Topic4\", \"Topic4\", \"Topic4\", \"Topic4\", \"Topic4\", \"Topic4\", \"Topic4\", \"Topic4\", \"Topic4\", \"Topic4\", \"Topic4\", \"Topic4\", \"Topic4\", \"Topic4\", \"Topic4\", \"Topic4\", \"Topic4\", \"Topic4\", \"Topic4\", \"Topic4\", \"Topic4\", \"Topic4\", \"Topic4\", \"Topic4\", \"Topic4\", \"Topic4\", \"Topic4\", \"Topic4\", \"Topic4\", \"Topic4\", \"Topic4\", \"Topic4\", \"Topic4\", \"Topic4\", \"Topic4\", \"Topic4\", \"Topic4\", \"Topic4\", \"Topic4\", \"Topic4\", \"Topic4\", \"Topic4\", \"Topic4\", \"Topic4\", \"Topic4\", \"Topic4\", \"Topic4\", \"Topic4\"], \"Freq\": [1066.0, 888.0, 730.0, 609.0, 805.0, 524.0, 1182.0, 591.0, 407.0, 398.0, 397.0, 430.0, 957.0, 593.0, 694.0, 378.0, 401.0, 313.0, 294.0, 364.0, 362.0, 287.0, 283.0, 318.0, 664.0, 333.0, 803.0, 261.0, 1565.0, 326.0, 591.1787109375, 363.7500915527344, 361.65032958984375, 325.5318603515625, 332.7210388183594, 400.00433349609375, 254.23658752441406, 232.7632598876953, 221.68252563476562, 215.15745544433594, 199.32284545898438, 195.5872344970703, 189.8241729736328, 275.870361328125, 143.9118194580078, 143.28921508789062, 152.755126953125, 140.46815490722656, 139.2692108154297, 127.8897476196289, 128.48410034179688, 127.69864654541016, 121.91024780273438, 119.44355773925781, 118.37579345703125, 117.09349822998047, 116.82268524169922, 117.70658111572266, 111.63319396972656, 107.79409790039062, 109.64580535888672, 547.2891235351562, 168.58721923828125, 318.4558410644531, 200.01016235351562, 312.7146911621094, 197.68365478515625, 214.19085693359375, 185.10887145996094, 729.2242431640625, 217.41197204589844, 300.87689208984375, 212.87950134277344, 270.8704528808594, 250.34263610839844, 190.81085205078125, 280.5893859863281, 300.7703552246094, 257.08819580078125, 216.4288787841797, 212.8519287109375, 429.56756591796875, 377.80328369140625, 317.76922607421875, 291.9300231933594, 248.80569458007812, 223.91261291503906, 194.04176330566406, 187.69357299804688, 144.78123474121094, 134.72218322753906, 129.0816650390625, 131.44387817382812, 119.1391372680664, 118.59989166259766, 107.84356689453125, 111.38871765136719, 108.6028823852539, 99.45252990722656, 96.0241470336914, 89.3291244506836, 94.33878326416016, 89.98646545410156, 86.5558853149414, 99.95752716064453, 85.71575927734375, 85.73301696777344, 90.31172943115234, 86.8255615234375, 81.66500091552734, 82.32463073730469, 769.1613159179688, 317.6974182128906, 115.3675537109375, 588.2393188476562, 322.4615478515625, 348.0358581542969, 446.60186767578125, 250.06846618652344, 220.0555419921875, 280.4909973144531, 188.48800659179688, 188.32142639160156, 204.61338806152344, 373.4010009765625, 318.3716125488281, 449.83306884765625, 295.6658630371094, 285.6951904296875, 296.95263671875, 718.0359497070312, 289.4014892578125, 357.5666809082031, 197.10568237304688, 213.93553161621094, 273.1432189941406, 405.5330810546875, 325.9356689453125, 367.75244140625, 278.8562316894531, 217.89276123046875, 256.45294189453125, 221.07008361816406, 729.5966796875, 396.4841613769531, 206.56617736816406, 202.99440002441406, 185.95809936523438, 188.31695556640625, 165.3137664794922, 162.2480010986328, 133.8450469970703, 132.01370239257812, 129.4712371826172, 125.93380737304688, 113.99331665039062, 103.51516723632812, 106.21388244628906, 98.7434310913086, 93.28995513916016, 109.32086944580078, 88.20565032958984, 86.51152801513672, 78.39981842041016, 75.31591796875, 75.32988739013672, 76.95120239257812, 69.37007141113281, 68.86189270019531, 67.1190414428711, 69.47164916992188, 74.0316390991211, 67.76802062988281, 77.15203094482422, 72.36058807373047, 81.31443786621094, 805.2242431640625, 248.1679229736328, 111.71966552734375, 211.41754150390625, 341.0426330566406, 131.3367462158203, 769.4539184570312, 423.4003601074219, 343.5787048339844, 358.1868591308594, 334.1232604980469, 335.306884765625, 272.8160400390625, 268.91619873046875, 255.9799041748047, 207.86685180664062, 201.96351623535156, 187.98565673828125, 294.19219970703125, 424.41644287109375, 304.53717041015625, 187.66880798339844, 396.09808349609375, 248.0843048095703, 224.20033264160156, 231.83010864257812, 221.5395965576172, 216.70034790039062, 197.2744140625, 194.79153442382812, 1065.718017578125, 887.6192626953125, 609.0614013671875, 523.2515869140625, 406.94622802734375, 397.88262939453125, 312.2664794921875, 282.4863586425781, 293.28155517578125, 286.73779296875, 260.8277893066406, 177.77842712402344, 188.7726593017578, 176.46949768066406, 161.05674743652344, 153.66519165039062, 153.5394287109375, 153.72305297851562, 132.39309692382812, 121.44126892089844, 125.65906524658203, 123.4423828125, 117.36225891113281, 115.24183654785156, 105.78956604003906, 105.02099609375, 107.01171112060547, 117.4470443725586, 100.44282531738281, 90.23275756835938, 121.16108703613281, 110.21634674072266, 178.96746826171875, 559.8588256835938, 166.33563232421875, 156.744140625, 212.68002319335938, 138.0347137451172, 174.0382537841797, 333.6468200683594, 299.31854248046875, 220.8266143798828, 169.08152770996094, 253.4993133544922, 330.49560546875, 176.69520568847656, 237.69091796875, 188.895751953125, 183.9987030029297, 175.4528350830078], \"Term\": [\"team\", \"game\", \"bike\", \"play\", \"believe\", \"player\", \"go\", \"israeli\", \"win\", \"hockey\", \"ride\", \"church\", \"year\", \"state\", \"question\", \"faith\", \"law\", \"season\", \"goal\", \"government\", \"jewish\", \"nntp_posting_host\", \"playoff\", \"love\", \"get\", \"war\", \"thing\", \"score\", \"say\", \"turkish\", \"israeli\", \"government\", \"jewish\", \"turkish\", \"war\", \"law\", \"greek\", \"peace\", \"arab\", \"member\", \"village\", \"land\", \"public\", \"country\", \"civilian\", \"population\", \"murder\", \"citizen\", \"marriage\", \"palestinian\", \"occupy\", \"massacre\", \"policy\", \"political\", \"genocide\", \"escape\", \"freedom\", \"community\", \"border\", \"military\", \"weapon\", \"state\", \"action\", \"attack\", \"situation\", \"armenian\", \"history\", \"force\", \"power\", \"people\", \"center\", \"world\", \"soldier\", \"kill\", \"fact\", \"child\", \"year\", \"say\", \"way\", \"live\", \"time\", \"church\", \"faith\", \"love\", \"christian\", \"sin\", \"belief\", \"scripture\", \"argument\", \"prayer\", \"revelation\", \"atheist\", \"physical\", \"nature\", \"knowledge\", \"doctrine\", \"earth\", \"teach\", \"evil\", \"particular\", \"arrogance\", \"valid\", \"translation\", \"resurrection\", \"proof\", \"christianity\", \"absolute\", \"pray\", \"understanding\", \"gospel\", \"believer\", \"believe\", \"truth\", \"language\", \"question\", \"evidence\", \"word\", \"reason\", \"exist\", \"hell\", \"answer\", \"idea\", \"example\", \"sense\", \"mean\", \"life\", \"thing\", \"claim\", \"true\", \"read\", \"people\", \"man\", \"find\", \"view\", \"different\", \"ask\", \"say\", \"way\", \"time\", \"point\", \"speak\", \"tell\", \"need\", \"bike\", \"ride\", \"buy\", \"helmet\", \"car\", \"wife\", \"rider\", \"dog\", \"apartment\", \"mile\", \"husband\", \"building\", \"wave\", \"room\", \"street\", \"daughter\", \"foot\", \"marry\", \"crowd\", \"girl\", \"hour\", \"door\", \"lock\", \"steal\", \"biker\", \"window\", \"baku\", \"afraid\", \"married\", \"block\", \"advice\", \"company\", \"boy\", \"go\", \"turn\", \"sit\", \"home\", \"see\", \"run\", \"say\", \"tell\", \"look\", \"get\", \"take\", \"come\", \"start\", \"leave\", \"happen\", \"old\", \"woman\", \"head\", \"work\", \"time\", \"thing\", \"hand\", \"people\", \"live\", \"kill\", \"day\", \"find\", \"way\", \"need\", \"hear\", \"team\", \"game\", \"play\", \"player\", \"win\", \"hockey\", \"season\", \"playoff\", \"goal\", \"nntp_posting_host\", \"score\", \"fan\", \"wing\", \"pen\", \"ice\", \"trade\", \"coach\", \"division\", \"league\", \"leafs\", \"devil\", \"star\", \"penalty\", \"sport\", \"penguin\", \"espn\", \"canadian\", \"tv\", \"draft\", \"jet\", \"chance\", \"blue\", \"final\", \"year\", \"pick\", \"mail\", \"list\", \"flame\", \"motorcycle\", \"organization\", \"point\", \"reply\", \"well\", \"get\", \"time\", \"good\", \"go\", \"post\", \"great\", \"new\"], \"Total\": [1066.0, 888.0, 730.0, 609.0, 805.0, 524.0, 1182.0, 591.0, 407.0, 398.0, 397.0, 430.0, 957.0, 593.0, 694.0, 378.0, 401.0, 313.0, 294.0, 364.0, 362.0, 287.0, 283.0, 318.0, 664.0, 333.0, 803.0, 261.0, 1565.0, 326.0, 591.9287109375, 364.50872802734375, 362.419677734375, 326.2810363769531, 333.50408935546875, 401.07611083984375, 254.997314453125, 233.54273986816406, 222.43731689453125, 215.95668029785156, 200.0775146484375, 196.36367797851562, 190.62109375, 277.2333984375, 144.66087341308594, 144.04237365722656, 153.57199096679688, 141.2468719482422, 140.0605010986328, 128.637939453125, 129.23805236816406, 128.46444702148438, 122.66758728027344, 120.19552612304688, 119.12431335449219, 117.85442352294922, 117.59345245361328, 118.48490142822266, 112.39656829833984, 108.5558090209961, 110.43212890625, 593.8715209960938, 176.01670837402344, 356.40740966796875, 219.84226989746094, 388.4466857910156, 222.50010681152344, 245.55068969726562, 228.50167846679688, 1877.3096923828125, 294.572265625, 523.885498046875, 296.9061279296875, 495.5650939941406, 537.4209594726562, 310.08807373046875, 957.6028442382812, 1565.3740234375, 954.5796508789062, 630.2566528320312, 1335.516357421875, 430.3330078125, 378.5608215332031, 318.571044921875, 292.7073059082031, 249.5660858154297, 224.67904663085938, 194.79661560058594, 188.5848846435547, 145.5546417236328, 135.4819793701172, 129.83651733398438, 132.28475952148438, 119.91548156738281, 119.38391876220703, 108.59949493408203, 112.18081665039062, 109.41270446777344, 100.24053955078125, 96.82575988769531, 90.08525085449219, 95.14598083496094, 90.765625, 87.31309509277344, 100.83515930175781, 86.4704818725586, 86.49089050292969, 91.11355590820312, 87.60276794433594, 82.42687225341797, 83.0970687866211, 805.0928955078125, 335.4555358886719, 118.42485046386719, 694.6146850585938, 366.27459716796875, 402.8782653808594, 550.2806396484375, 293.2861022949219, 255.76956176757812, 344.28326416015625, 215.70188903808594, 218.9077911376953, 245.7277374267578, 532.854248046875, 471.0603332519531, 803.2716674804688, 452.31988525390625, 431.6453552246094, 468.34246826171875, 1877.3096923828125, 474.545166015625, 682.4353637695312, 257.2857971191406, 299.6973876953125, 515.879638671875, 1565.3740234375, 954.5796508789062, 1335.516357421875, 689.6751708984375, 329.27886962890625, 795.989501953125, 549.4979248046875, 730.33349609375, 397.2272644042969, 207.3391876220703, 203.7871856689453, 186.7057342529297, 189.08642578125, 166.0592498779297, 162.98886108398438, 134.5758819580078, 132.7718048095703, 130.2454833984375, 126.69300079345703, 114.74137878417969, 104.28181457519531, 107.0125961303711, 99.49412536621094, 94.0431900024414, 110.2496109008789, 88.96348571777344, 87.27196502685547, 79.17671966552734, 76.0647964477539, 76.0960464477539, 77.74134826660156, 70.10604095458984, 69.59577178955078, 67.85275268554688, 70.23637390136719, 74.87464141845703, 68.54292297363281, 78.08733367919922, 73.21737670898438, 82.63534545898438, 1182.8155517578125, 320.1466369628906, 124.733642578125, 277.3383483886719, 531.3388671875, 155.57669067382812, 1565.3740234375, 795.989501953125, 624.046142578125, 664.5037231445312, 607.3927612304688, 628.8147583007812, 482.6467590332031, 478.81256103515625, 454.0505065917969, 326.52520751953125, 313.78912353515625, 291.5005187988281, 665.837890625, 1335.516357421875, 803.2716674804688, 311.2544860839844, 1877.3096923828125, 630.2566528320312, 495.5650939941406, 558.5407104492188, 682.4353637695312, 954.5796508789062, 549.4979248046875, 429.2086181640625, 1066.48779296875, 888.3897705078125, 609.8756103515625, 524.0205078125, 407.7261962890625, 398.64892578125, 313.0301818847656, 283.24951171875, 294.11651611328125, 287.5838928222656, 261.5975341796875, 178.54539489746094, 189.5993194580078, 177.2661895751953, 161.8246612548828, 154.4598388671875, 154.33543395996094, 154.551025390625, 133.18362426757812, 122.20417022705078, 126.45812225341797, 124.25975036621094, 118.15228271484375, 116.03954315185547, 106.5570068359375, 105.78486633300781, 107.81903076171875, 118.33341979980469, 101.28617858886719, 91.00471496582031, 122.2974853515625, 111.72120666503906, 208.7911376953125, 957.6028442382812, 197.01025390625, 187.18382263183594, 296.26409912109375, 155.90380859375, 233.146484375, 838.8861083984375, 689.6751708984375, 459.4130859375, 251.75283813476562, 664.5037231445312, 1335.516357421875, 304.1280822753906, 1182.8155517578125, 438.05548095703125, 411.517333984375, 460.15472412109375], \"loglift\": [30.0, 29.0, 28.0, 27.0, 26.0, 25.0, 24.0, 23.0, 22.0, 21.0, 20.0, 19.0, 18.0, 17.0, 16.0, 15.0, 14.0, 13.0, 12.0, 11.0, 10.0, 9.0, 8.0, 7.0, 6.0, 5.0, 4.0, 3.0, 2.0, 1.0, 1.2339999675750732, 1.233199954032898, 1.233199954032898, 1.2330000400543213, 1.2330000400543213, 1.2325999736785889, 1.232300043106079, 1.2319999933242798, 1.2318999767303467, 1.231600046157837, 1.2315000295639038, 1.2312999963760376, 1.2310999631881714, 1.2303999662399292, 1.2301000356674194, 1.2301000356674194, 1.2300000190734863, 1.2297999858856201, 1.229599952697754, 1.2295000553131104, 1.2295000553131104, 1.2293000221252441, 1.229099988937378, 1.2289999723434448, 1.2289999723434448, 1.2288000583648682, 1.228700041770935, 1.228700041770935, 1.2285000085830688, 1.2282999753952026, 1.2281999588012695, 1.1535999774932861, 1.192199945449829, 1.1226999759674072, 1.1407999992370605, 1.018399953842163, 1.1169999837875366, 1.0987000465393066, 1.0247000455856323, 0.2897000014781952, 0.9315999746322632, 0.6807000041007996, 0.9025999903678894, 0.6312000155448914, 0.4713999927043915, 0.7497000098228455, 0.007799999788403511, -0.4142000079154968, -0.07649999856948853, 0.1664000004529953, -0.6011999845504761, 1.3107999563217163, 1.3106000423431396, 1.3100999593734741, 1.309999942779541, 1.3095999956130981, 1.3092000484466553, 1.3086999654769897, 1.3078999519348145, 1.3072999715805054, 1.3070000410079956, 1.3068000078201294, 1.3062000274658203, 1.3061000108718872, 1.305999994277954, 1.3056000471115112, 1.3055000305175781, 1.3051999807357788, 1.3047000169754028, 1.3042999505996704, 1.3042000532150269, 1.3041000366210938, 1.3040000200271606, 1.3039000034332275, 1.3039000034332275, 1.3039000034332275, 1.3037999868392944, 1.3037999868392944, 1.3036999702453613, 1.3033000230789185, 1.3033000230789185, 1.2669999599456787, 1.2582000494003296, 1.2864999771118164, 1.146399974822998, 1.1851999759674072, 1.1663000583648682, 1.1038999557495117, 1.1532000303268433, 1.1621999740600586, 1.107699990272522, 1.1778000593185425, 1.1620999574661255, 1.1295000314712524, 0.9570000171661377, 0.9208999872207642, 0.7328000068664551, 0.887499988079071, 0.8999000191688538, 0.8569999933242798, 0.351500004529953, 0.8180999755859375, 0.6662999987602234, 1.0462000370025635, 0.9754999876022339, 0.6766999959945679, -0.038100000470876694, 0.23800000548362732, 0.023000000044703484, 0.40709999203681946, 0.8996999859809875, 0.18000000715255737, 0.40209999680519104, 1.4802000522613525, 1.4793000221252441, 1.4773999452590942, 1.4773000478744507, 1.4772000312805176, 1.4771000146865845, 1.476699948310852, 1.4766000509262085, 1.4757000207901, 1.4754999876022339, 1.4752000570297241, 1.4752000570297241, 1.4745999574661255, 1.4737999439239502, 1.4737000465393066, 1.4736000299453735, 1.473099946975708, 1.4726999998092651, 1.472599983215332, 1.4723999500274658, 1.4713000059127808, 1.4713000059127808, 1.4710999727249146, 1.4709999561309814, 1.4706000089645386, 1.4706000089645386, 1.4702999591827393, 1.4701999425888062, 1.4699000120162964, 1.4697999954223633, 1.469099998474121, 1.4694000482559204, 1.4651000499725342, 1.0966999530792236, 1.2265000343322754, 1.371000051498413, 1.2098000049591064, 1.0377999544143677, 1.3118000030517578, 0.7710000276565552, 0.8499000072479248, 0.8844000101089478, 0.8632000088691711, 0.8834999799728394, 0.852400004863739, 0.9107000231742859, 0.9042999744415283, 0.9081000089645386, 1.0296000242233276, 1.0405999422073364, 1.0425000190734863, 0.6643999814987183, 0.33480000495910645, 0.5113000273704529, 0.9753000140190125, -0.0746999979019165, 0.548799991607666, 0.6880000233650208, 0.6018999814987183, 0.3560999929904938, -0.0015999999595806003, 0.45680001378059387, 0.6912000179290771, 1.5468000173568726, 1.5467000007629395, 1.5462000370025635, 1.5461000204086304, 1.5456000566482544, 1.5456000566482544, 1.5450999736785889, 1.544800043106079, 1.544700026512146, 1.544600009918213, 1.544600009918213, 1.5432000160217285, 1.5432000160217285, 1.5429999828338623, 1.542799949645996, 1.5424000024795532, 1.5424000024795532, 1.542199969291687, 1.541599988937378, 1.5413000583648682, 1.541200041770935, 1.5408999919891357, 1.5407999753952026, 1.5405999422073364, 1.5403000116348267, 1.5403000116348267, 1.5399999618530273, 1.5399999618530273, 1.539199948310852, 1.5390000343322754, 1.5382000207901, 1.534000039100647, 1.393399953842163, 1.0108000040054321, 1.3782999515533447, 1.3701000213623047, 1.2160999774932861, 1.4257999658584595, 1.2552000284194946, 0.6255999803543091, 0.7128000259399414, 0.8149999976158142, 1.1495000123977661, 0.583899974822998, 0.15109999477863312, 1.0045000314712524, -0.057100001722574234, 0.7063999772071838, 0.7426000237464905, 0.5834000110626221], \"logprob\": [30.0, 29.0, 28.0, 27.0, 26.0, 25.0, 24.0, 23.0, 22.0, 21.0, 20.0, 19.0, 18.0, 17.0, 16.0, 15.0, 14.0, 13.0, 12.0, 11.0, 10.0, 9.0, 8.0, 7.0, 6.0, 5.0, 4.0, 3.0, 2.0, 1.0, -4.64739990234375, -5.1331000328063965, -5.138899803161621, -5.244100093841553, -5.2221999168396, -5.038099765777588, -5.491300106048584, -5.579500198364258, -5.628300189971924, -5.658199787139893, -5.734600067138672, -5.753499984741211, -5.7835001945495605, -5.409599781036377, -6.060400009155273, -6.064700126647949, -6.000699996948242, -6.08459997177124, -6.093100070953369, -6.178400039672852, -6.173699855804443, -6.179900169372559, -6.22629976272583, -6.246699810028076, -6.25570011138916, -6.266600131988525, -6.268899917602539, -6.26140022277832, -6.314300060272217, -6.349299907684326, -6.332300186157227, -4.724599838256836, -5.902100086212158, -5.26609992980957, -5.731200218200684, -5.284299850463867, -5.7428998947143555, -5.662700176239014, -5.808599948883057, -4.437600135803223, -5.647799968719482, -5.32289981842041, -5.668799877166748, -5.4278998374938965, -5.506700038909912, -5.778299808502197, -5.3927001953125, -5.323200225830078, -5.480100154876709, -5.652299880981445, -5.669000148773193, -4.889500141143799, -5.017899990081787, -5.190899848937988, -5.275700092315674, -5.4355998039245605, -5.540999889373779, -5.684199810028076, -5.717400074005127, -5.9770002365112305, -6.048999786376953, -6.091800212860107, -6.073699951171875, -6.171899795532227, -6.176499843597412, -6.271599769592285, -6.239200115203857, -6.264500141143799, -6.35260009765625, -6.387599945068359, -6.45989990234375, -6.405300140380859, -6.452600002288818, -6.491399765014648, -6.347499847412109, -6.501200199127197, -6.500999927520752, -6.448999881744385, -6.48829984664917, -6.549600124359131, -6.541600227355957, -4.3069000244140625, -5.191100120544434, -6.204100131988525, -4.575099945068359, -5.176300048828125, -5.099899768829346, -4.850599765777588, -5.430500030517578, -5.5584001541137695, -5.315700054168701, -5.713200092315674, -5.714099884033203, -5.631100177764893, -5.029600143432617, -5.189000129699707, -4.843400001525879, -5.263000011444092, -5.297299861907959, -5.258699893951416, -4.375699996948242, -5.28439998626709, -5.07289981842041, -5.668499946594238, -5.586599826812744, -5.342199802398682, -4.947000026702881, -5.165500164031982, -5.0447998046875, -5.321499824523926, -5.56820011138916, -5.405300140380859, -5.553800106048584, -4.191199779510498, -4.801000118255615, -5.453100204467773, -5.4704999923706055, -5.558199882507324, -5.545499801635742, -5.67579984664917, -5.694499969482422, -5.88700008392334, -5.9008002281188965, -5.920199871063232, -5.94789981842041, -6.047500133514404, -6.144000053405762, -6.118199825286865, -6.191100120544434, -6.248000144958496, -6.089399814605713, -6.303999900817871, -6.323400020599365, -6.421800136566162, -6.461999893188477, -6.4618000984191895, -6.440499782562256, -6.5441999435424805, -6.551599979400635, -6.577199935913086, -6.542799949645996, -6.4791998863220215, -6.567599773406982, -6.437900066375732, -6.501999855041504, -6.385300159454346, -4.092599868774414, -5.269599914550781, -6.067699909210205, -5.429800033569336, -4.951700210571289, -5.905900001525879, -4.138000011444092, -4.735400199890137, -4.944300174713135, -4.902599811553955, -4.9721999168396, -4.968599796295166, -5.174900054931641, -5.189300060272217, -5.23859977722168, -5.446800231933594, -5.475599765777588, -5.547299861907959, -5.099400043487549, -4.732999801635742, -5.064899921417236, -5.548999786376953, -4.802000045776367, -5.269899845123291, -5.371099948883057, -5.337699890136719, -5.3831000328063965, -5.405200004577637, -5.499100208282471, -5.51170015335083, -3.7458999156951904, -3.928800106048584, -4.3053998947143555, -4.457200050354004, -4.708600044250488, -4.731200218200684, -4.973499774932861, -5.073699951171875, -5.036200046539307, -5.058700084686279, -5.153500080108643, -5.536799907684326, -5.476799964904785, -5.5441999435424805, -5.6356000900268555, -5.682499885559082, -5.6834001541137695, -5.682199954986572, -5.831500053405762, -5.917900085449219, -5.883699893951416, -5.901500225067139, -5.952000141143799, -5.970300197601318, -6.0559000968933105, -6.063199996948242, -6.044400215148926, -5.951300144195557, -6.107699871063232, -6.214900016784668, -5.920199871063232, -6.014900207519531, -5.530099868774414, -4.389599800109863, -5.603300094604492, -5.662700176239014, -5.357500076293945, -5.78980016708374, -5.558000087738037, -4.907199859619141, -5.0157999992370605, -5.319900035858154, -5.586900234222412, -5.182000160217285, -4.9166998863220215, -5.542900085449219, -5.246300220489502, -5.476099967956543, -5.502399921417236, -5.549900054931641]}, \"token.table\": {\"Topic\": [2, 1, 4, 3, 3, 1, 2, 3, 3, 1, 2, 1, 3, 2, 1, 2, 3, 4, 2, 1, 3, 3, 2, 1, 2, 2, 3, 3, 3, 3, 4, 1, 3, 4, 3, 3, 4, 3, 1, 3, 4, 4, 1, 3, 2, 2, 2, 1, 1, 1, 2, 4, 1, 2, 3, 4, 1, 3, 1, 4, 3, 3, 1, 2, 3, 4, 4, 1, 2, 3, 4, 4, 2, 3, 3, 4, 2, 1, 4, 1, 2, 2, 1, 2, 1, 2, 1, 2, 3, 4, 2, 4, 2, 4, 1, 2, 3, 4, 2, 4, 3, 1, 3, 4, 1, 4, 1, 2, 3, 4, 3, 2, 3, 4, 4, 2, 4, 2, 1, 1, 2, 3, 4, 1, 1, 2, 3, 4, 1, 2, 3, 4, 1, 3, 4, 1, 2, 3, 4, 2, 4, 3, 1, 4, 4, 3, 4, 3, 3, 4, 1, 2, 4, 1, 4, 1, 1, 3, 2, 1, 1, 2, 1, 2, 4, 4, 1, 3, 4, 1, 2, 3, 1, 2, 3, 4, 1, 2, 3, 4, 3, 2, 3, 4, 2, 3, 4, 1, 2, 3, 1, 3, 3, 1, 1, 2, 3, 4, 1, 3, 1, 3, 4, 1, 2, 1, 2, 3, 4, 1, 2, 3, 4, 4, 1, 1, 3, 4, 1, 2, 3, 4, 1, 2, 1, 4, 4, 4, 1, 2, 3, 4, 2, 3, 4, 4, 4, 4, 1, 2, 4, 1, 1, 1, 1, 2, 4, 1, 4, 2, 2, 2, 1, 1, 2, 4, 1, 2, 4, 1, 2, 4, 1, 2, 4, 2, 2, 3, 3, 3, 3, 4, 1, 2, 3, 4, 4, 2, 4, 2, 3, 4, 1, 2, 3, 2, 3, 4, 1, 4, 1, 3, 1, 2, 3, 4, 4, 1, 3, 4, 1, 3, 4, 3, 3, 1, 2, 3, 4, 2, 4, 1, 2, 3, 4, 2, 3, 4, 1, 2, 3, 4, 4, 2, 1, 2, 4, 1, 2, 1, 2, 3, 4, 4, 2, 2, 1, 2, 1, 1, 3, 1, 2, 3, 4, 1, 1, 2, 4, 3, 4, 3, 4, 1, 3, 1, 2, 4, 1, 2, 3, 4, 1, 2, 4, 1, 3, 4], \"Freq\": [0.9943243861198425, 0.9601361155509949, 0.03976895287632942, 0.9860754013061523, 0.9823969602584839, 0.11908798664808273, 0.8132838010787964, 0.06390087306499481, 0.9957207441329956, 0.9980340003967285, 0.9968985319137573, 0.8057733774185181, 0.19307668507099152, 0.9879530668258667, 0.15507493913173676, 0.5291932225227356, 0.29270392656326294, 0.02132280357182026, 0.9935571551322937, 0.8922373652458191, 0.1038137823343277, 0.9874323010444641, 0.996977686882019, 0.043473243713378906, 0.9551692605018616, 0.9867977499961853, 0.9995433688163757, 0.9842233061790466, 0.9920790791511536, 0.008950851857662201, 0.9845937490463257, 0.9964717030525208, 0.9802101254463196, 0.01210135966539383, 0.9945300817489624, 0.9983640909194946, 0.9924036264419556, 0.996220052242279, 0.7366613149642944, 0.13579010963439941, 0.12221109867095947, 0.9893907308578491, 0.6159540414810181, 0.3837619423866272, 0.9975835680961609, 0.9945590496063232, 0.9992261528968811, 0.9911723732948303, 0.9954315423965454, 0.3448886573314667, 0.6544041037559509, 0.9978265762329102, 0.014312640763819218, 0.2942042946815491, 0.532748281955719, 0.15743905305862427, 0.9959074854850769, 0.9833731055259705, 0.9955510497093201, 0.003607068909332156, 0.9891698956489563, 0.9950336217880249, 0.10563240945339203, 0.3688182234764099, 0.41536810994148254, 0.10921316593885422, 0.9963772892951965, 0.10010097175836563, 0.7140536308288574, 0.10010097175836563, 0.08675417304039001, 0.9964346885681152, 0.994479775428772, 0.9939329624176025, 0.9860014319419861, 0.9873015284538269, 0.9894739985466003, 0.9927501678466797, 0.9925805330276489, 0.11739826202392578, 0.8791218400001526, 0.9876243472099304, 0.1370439976453781, 0.8588091135025024, 0.14661452174186707, 0.8524099588394165, 0.46518468856811523, 0.3963373601436615, 0.09861915558576584, 0.03907551243901253, 0.9985185265541077, 0.996945321559906, 0.13889478147029877, 0.8573160767555237, 0.1186925619840622, 0.5245918035507202, 0.3253055214881897, 0.03223748505115509, 0.10904159396886826, 0.8851611614227295, 0.9889073371887207, 0.8715105056762695, 0.02036239393055439, 0.10588444769382477, 0.9949533343315125, 0.9995612502098083, 0.990561842918396, 0.07975877076387405, 0.5387479066848755, 0.38073527812957764, 0.9968836903572083, 0.11836165189743042, 0.6805794835090637, 0.20121480524539948, 0.9962038397789001, 0.4175872206687927, 0.5819916129112244, 0.9948211908340454, 0.9986043572425842, 0.08748112618923187, 0.2891737222671509, 0.17496225237846375, 0.44712576270103455, 0.9960889220237732, 0.11566098034381866, 0.2602372169494629, 0.604007363319397, 0.019276831299066544, 0.24006140232086182, 0.1497630774974823, 0.5638139247894287, 0.04845276102423668, 0.14065155386924744, 0.6449388265609741, 0.21269258856773376, 0.07222595065832138, 0.3098726272583008, 0.45432451367378235, 0.16309085488319397, 0.8601492643356323, 0.13684192299842834, 0.9961372017860413, 0.8898872137069702, 0.1078651174902916, 0.9983721971511841, 0.7608035206794739, 0.23437076807022095, 0.9851380586624146, 0.990437388420105, 0.9949039816856384, 0.03708822280168533, 0.871573269367218, 0.08808453381061554, 0.9984310269355774, 0.9889597296714783, 0.9988420009613037, 0.5468504428863525, 0.4520092308521271, 0.9967841506004333, 0.9981479644775391, 0.02533252164721489, 0.97107994556427, 0.9973169565200806, 0.002493292326107621, 0.9901462197303772, 0.9911128282546997, 0.32162898778915405, 0.5618064999580383, 0.11486749351024628, 0.20167267322540283, 0.6750727891921997, 0.12312647700309753, 0.08100879937410355, 0.07425806671380997, 0.12488856911659241, 0.7189531326293945, 0.3427175283432007, 0.24593155086040497, 0.3934904932975769, 0.017453206703066826, 0.9855965375900269, 0.20511303842067719, 0.5512412786483765, 0.24357172846794128, 0.9982075095176697, 0.16027025878429413, 0.8387476801872253, 0.14961694180965424, 0.6090041995048523, 0.2402300238609314, 0.9924282431602478, 0.9883185625076294, 0.9886656403541565, 0.9963846206665039, 0.06005394458770752, 0.7000038027763367, 0.18203851580619812, 0.05817725881934166, 0.9955700635910034, 0.9941869974136353, 0.994879961013794, 0.2530597746372223, 0.7463119029998779, 0.9962754249572754, 0.9923655986785889, 0.061874665319919586, 0.402185320854187, 0.3585090935230255, 0.17834462225437164, 0.14125683903694153, 0.2890332043170929, 0.1890668421983719, 0.3803068697452545, 0.9979696869850159, 0.990420401096344, 0.20825344324111938, 0.6370105147361755, 0.1531275361776352, 0.18476882576942444, 0.24556373059749603, 0.17284825444221497, 0.39814701676368713, 0.9950408339500427, 0.9914717078208923, 0.9976760745048523, 0.9928571581840515, 0.9902474880218506, 0.9947726726531982, 0.3883216381072998, 0.38246220350265503, 0.2109401524066925, 0.01811102405190468, 0.9902878999710083, 0.15227633714675903, 0.8425957560539246, 0.9985643029212952, 0.9980525374412537, 0.9955886602401733, 0.160945326089859, 0.40453827381134033, 0.43353742361068726, 0.9945577383041382, 0.9900534749031067, 0.9927634000778198, 0.20317061245441437, 0.36525052785873413, 0.4314521849155426, 0.809622049331665, 0.18818242847919464, 0.98777836561203, 0.9961894750595093, 0.9917175769805908, 0.9967417120933533, 0.07486164569854736, 0.846512496471405, 0.07774094492197037, 0.19643744826316833, 0.6341513395309448, 0.16867998242378235, 0.11266978085041046, 0.8123127818107605, 0.0763246938586235, 0.3569771945476532, 0.16107508540153503, 0.4810485541820526, 0.9964141249656677, 0.9964424967765808, 0.9969103932380676, 0.9936212301254272, 0.9972975850105286, 0.8420284390449524, 0.15426474809646606, 0.19228631258010864, 0.25936293601989746, 0.49125638604164124, 0.05749424546957016, 0.9977158308029175, 0.9959105253219604, 0.9967089891433716, 0.17314749956130981, 0.6417750120162964, 0.1844397336244583, 0.1383645236492157, 0.834256649017334, 0.028486812487244606, 0.9977317452430725, 0.8979133367538452, 0.09620499610900879, 0.9097431302070618, 0.08642560243606567, 0.717398464679718, 0.28291770815849304, 0.11236675828695297, 0.6620528101921082, 0.22473351657390594, 0.9910414814949036, 0.9898619651794434, 0.19061559438705444, 0.565631091594696, 0.24448522925376892, 0.921074628829956, 0.07409010082483292, 0.003367731813341379, 0.99046391248703, 0.9905375838279724, 0.1564062088727951, 0.13664963841438293, 0.5498912930488586, 0.1564062088727951, 0.9962279796600342, 0.9995425939559937, 0.10427273064851761, 0.32161226868629456, 0.5314140319824219, 0.04145783185958862, 0.5602089762687683, 0.37969720363616943, 0.061000533401966095, 0.15948887169361115, 0.2755488455295563, 0.317480206489563, 0.24709543585777283, 0.9970229268074036, 0.9915648102760315, 0.21545465290546417, 0.6625809669494629, 0.12278598546981812, 0.050677355378866196, 0.9479646682739258, 0.9991386532783508, 0.17491984367370605, 0.7746450304985046, 0.049977097660303116, 0.9887316823005676, 0.9931192994117737, 0.9879555702209473, 0.2332036942243576, 0.765685498714447, 0.9946145415306091, 0.9984884858131409, 0.9935386776924133, 0.269228458404541, 0.3415115773677826, 0.2273251861333847, 0.16237513720989227, 0.9960869550704956, 0.16285814344882965, 0.16683030128479004, 0.671293318271637, 0.9942543506622314, 0.9982188940048218, 0.9914395213127136, 0.9968390464782715, 0.35374075174331665, 0.6437444090843201, 0.062053482979536057, 0.8637844920158386, 0.07446417957544327, 0.2808491289615631, 0.24330246448516846, 0.4415489137172699, 0.03304107487201691, 0.5745530128479004, 0.31877195835113525, 0.10689358413219452, 0.2934410572052002, 0.12218008935451508, 0.5847935676574707], \"Term\": [\"absolute\", \"action\", \"action\", \"advice\", \"afraid\", \"answer\", \"answer\", \"answer\", \"apartment\", \"arab\", \"argument\", \"armenian\", \"armenian\", \"arrogance\", \"ask\", \"ask\", \"ask\", \"ask\", \"atheist\", \"attack\", \"attack\", \"baku\", \"belief\", \"believe\", \"believe\", \"believer\", \"bike\", \"biker\", \"block\", \"blue\", \"blue\", \"border\", \"boy\", \"boy\", \"building\", \"buy\", \"canadian\", \"car\", \"center\", \"center\", \"center\", \"chance\", \"child\", \"child\", \"christian\", \"christianity\", \"church\", \"citizen\", \"civilian\", \"claim\", \"claim\", \"coach\", \"come\", \"come\", \"come\", \"come\", \"community\", \"company\", \"country\", \"country\", \"crowd\", \"daughter\", \"day\", \"day\", \"day\", \"day\", \"devil\", \"different\", \"different\", \"different\", \"different\", \"division\", \"doctrine\", \"dog\", \"door\", \"draft\", \"earth\", \"escape\", \"espn\", \"evidence\", \"evidence\", \"evil\", \"example\", \"example\", \"exist\", \"exist\", \"fact\", \"fact\", \"fact\", \"fact\", \"faith\", \"fan\", \"final\", \"final\", \"find\", \"find\", \"find\", \"find\", \"flame\", \"flame\", \"foot\", \"force\", \"force\", \"force\", \"freedom\", \"game\", \"genocide\", \"get\", \"get\", \"get\", \"girl\", \"go\", \"go\", \"go\", \"goal\", \"good\", \"good\", \"gospel\", \"government\", \"great\", \"great\", \"great\", \"great\", \"greek\", \"hand\", \"hand\", \"hand\", \"hand\", \"happen\", \"happen\", \"happen\", \"happen\", \"head\", \"head\", \"head\", \"hear\", \"hear\", \"hear\", \"hear\", \"hell\", \"hell\", \"helmet\", \"history\", \"history\", \"hockey\", \"home\", \"home\", \"hour\", \"husband\", \"ice\", \"idea\", \"idea\", \"idea\", \"israeli\", \"jet\", \"jewish\", \"kill\", \"kill\", \"knowledge\", \"land\", \"language\", \"language\", \"law\", \"law\", \"leafs\", \"league\", \"leave\", \"leave\", \"leave\", \"life\", \"life\", \"life\", \"list\", \"list\", \"list\", \"list\", \"live\", \"live\", \"live\", \"live\", \"lock\", \"look\", \"look\", \"look\", \"love\", \"mail\", \"mail\", \"man\", \"man\", \"man\", \"marriage\", \"married\", \"marry\", \"massacre\", \"mean\", \"mean\", \"mean\", \"mean\", \"member\", \"mile\", \"military\", \"motorcycle\", \"motorcycle\", \"murder\", \"nature\", \"need\", \"need\", \"need\", \"need\", \"new\", \"new\", \"new\", \"new\", \"nntp_posting_host\", \"occupy\", \"old\", \"old\", \"old\", \"organization\", \"organization\", \"organization\", \"organization\", \"palestinian\", \"particular\", \"peace\", \"pen\", \"penalty\", \"penguin\", \"people\", \"people\", \"people\", \"people\", \"physical\", \"pick\", \"pick\", \"play\", \"player\", \"playoff\", \"point\", \"point\", \"point\", \"policy\", \"political\", \"population\", \"post\", \"post\", \"post\", \"power\", \"power\", \"pray\", \"prayer\", \"proof\", \"public\", \"question\", \"question\", \"question\", \"read\", \"read\", \"read\", \"reason\", \"reason\", \"reason\", \"reply\", \"reply\", \"reply\", \"resurrection\", \"revelation\", \"ride\", \"rider\", \"room\", \"run\", \"run\", \"say\", \"say\", \"say\", \"say\", \"score\", \"scripture\", \"season\", \"see\", \"see\", \"see\", \"sense\", \"sense\", \"sense\", \"sin\", \"sit\", \"sit\", \"situation\", \"situation\", \"soldier\", \"soldier\", \"speak\", \"speak\", \"speak\", \"sport\", \"star\", \"start\", \"start\", \"start\", \"state\", \"state\", \"state\", \"steal\", \"street\", \"take\", \"take\", \"take\", \"take\", \"teach\", \"team\", \"tell\", \"tell\", \"tell\", \"tell\", \"thing\", \"thing\", \"thing\", \"time\", \"time\", \"time\", \"time\", \"trade\", \"translation\", \"true\", \"true\", \"true\", \"truth\", \"truth\", \"turkish\", \"turn\", \"turn\", \"turn\", \"tv\", \"understanding\", \"valid\", \"view\", \"view\", \"village\", \"war\", \"wave\", \"way\", \"way\", \"way\", \"way\", \"weapon\", \"well\", \"well\", \"well\", \"wife\", \"win\", \"window\", \"wing\", \"woman\", \"woman\", \"word\", \"word\", \"word\", \"work\", \"work\", \"work\", \"work\", \"world\", \"world\", \"world\", \"year\", \"year\", \"year\"]}, \"R\": 30, \"lambda.step\": 0.01, \"plot.opts\": {\"xlab\": \"PC1\", \"ylab\": \"PC2\"}, \"topic.order\": [1, 3, 4, 2]};\n",
       "\n",
       "function LDAvis_load_lib(url, callback){\n",
       "  var s = document.createElement('script');\n",
       "  s.src = url;\n",
       "  s.async = true;\n",
       "  s.onreadystatechange = s.onload = callback;\n",
       "  s.onerror = function(){console.warn(\"failed to load library \" + url);};\n",
       "  document.getElementsByTagName(\"head\")[0].appendChild(s);\n",
       "}\n",
       "\n",
       "if(typeof(LDAvis) !== \"undefined\"){\n",
       "   // already loaded: just create the visualization\n",
       "   !function(LDAvis){\n",
       "       new LDAvis(\"#\" + \"ldavis_el298931396652702382088560122843\", ldavis_el298931396652702382088560122843_data);\n",
       "   }(LDAvis);\n",
       "}else if(typeof define === \"function\" && define.amd){\n",
       "   // require.js is available: use it to load d3/LDAvis\n",
       "   require.config({paths: {d3: \"https://cdnjs.cloudflare.com/ajax/libs/d3/3.5.5/d3.min\"}});\n",
       "   require([\"d3\"], function(d3){\n",
       "      window.d3 = d3;\n",
       "      LDAvis_load_lib(\"https://cdn.rawgit.com/bmabey/pyLDAvis/files/ldavis.v1.0.0.js\", function(){\n",
       "        new LDAvis(\"#\" + \"ldavis_el298931396652702382088560122843\", ldavis_el298931396652702382088560122843_data);\n",
       "      });\n",
       "    });\n",
       "}else{\n",
       "    // require.js not available: dynamically load d3 & LDAvis\n",
       "    LDAvis_load_lib(\"https://cdnjs.cloudflare.com/ajax/libs/d3/3.5.5/d3.min.js\", function(){\n",
       "         LDAvis_load_lib(\"https://cdn.rawgit.com/bmabey/pyLDAvis/files/ldavis.v1.0.0.js\", function(){\n",
       "                 new LDAvis(\"#\" + \"ldavis_el298931396652702382088560122843\", ldavis_el298931396652702382088560122843_data);\n",
       "            })\n",
       "         });\n",
       "}\n",
       "</script>"
      ],
      "text/plain": [
       "PreparedData(topic_coordinates=              x         y  topics  cluster       Freq\n",
       "topic                                                \n",
       "0      0.223533  0.110221       1        1  29.074696\n",
       "2      0.126543 -0.227651       2        1  26.911486\n",
       "3     -0.237216 -0.116504       3        1  22.736830\n",
       "1     -0.112859  0.233935       4        1  21.276993, topic_info=    Category         Freq     Term        Total  loglift  logprob\n",
       "945  Default  1066.000000     team  1066.000000  30.0000  30.0000\n",
       "524  Default   888.000000     game   888.000000  29.0000  29.0000\n",
       "1    Default   730.000000     bike   730.000000  28.0000  28.0000\n",
       "45   Default   609.000000     play   609.000000  27.0000  27.0000\n",
       "30   Default   805.000000  believe   805.000000  26.0000  26.0000\n",
       "..       ...          ...      ...          ...      ...      ...\n",
       "240   Topic4   176.695206     good   304.128082   1.0045  -5.5429\n",
       "85    Topic4   237.690918       go  1182.815552  -0.0571  -5.2463\n",
       "112   Topic4   188.895752     post   438.055481   0.7064  -5.4761\n",
       "86    Topic4   183.998703    great   411.517334   0.7426  -5.5024\n",
       "105   Topic4   175.452835      new   460.154724   0.5834  -5.5499\n",
       "\n",
       "[256 rows x 6 columns], token_table=      Topic      Freq      Term\n",
       "term                           \n",
       "2643      2  0.994324  absolute\n",
       "1556      1  0.960136    action\n",
       "1556      4  0.039769    action\n",
       "1047      3  0.986075    advice\n",
       "2782      3  0.982397    afraid\n",
       "...     ...       ...       ...\n",
       "378       2  0.318772     world\n",
       "378       4  0.106894     world\n",
       "255       1  0.293441      year\n",
       "255       3  0.122180      year\n",
       "255       4  0.584794      year\n",
       "\n",
       "[368 rows x 3 columns], R=30, lambda_step=0.01, plot_opts={'xlab': 'PC1', 'ylab': 'PC2'}, topic_order=[1, 3, 4, 2])"
      ]
     },
     "execution_count": 17,
     "metadata": {},
     "output_type": "execute_result"
    }
   ],
   "source": [
    "import pyLDAvis.gensim\n",
    "pyLDAvis.enable_notebook()\n",
    "# Warning: \"prepare\" can take up to 5 minutes!\n",
    "vis = pyLDAvis.gensim.prepare(lda_model, corpus, dictionary=lda_model.id2word, mds='mmds')\n",
    "vis"
   ]
  },
  {
   "cell_type": "markdown",
   "metadata": {
    "colab_type": "text",
    "id": "QVtLbplLnb0o"
   },
   "source": [
    "# The LDA model as a classifier\n",
    "\n",
    "## Using simply the dominant topic as predicted class\n",
    "\n",
    "First we extend our original dataframe with our \"predictions\" (the dominant topic) and the ground truth."
   ]
  },
  {
   "cell_type": "code",
   "execution_count": 26,
   "metadata": {
    "ExecuteTime": {
     "end_time": "2019-11-26T08:09:45.710534Z",
     "start_time": "2019-11-26T08:09:45.670677Z"
    },
    "colab": {
     "base_uri": "https://localhost:8080/",
     "height": 206
    },
    "colab_type": "code",
    "id": "xkx-4leGnb0q",
    "outputId": "bbcce2a8-2d6c-44f4-ed7d-50ee59c5810b"
   },
   "outputs": [
    {
     "data": {
      "text/html": [
       "<div>\n",
       "<style scoped>\n",
       "    .dataframe tbody tr th:only-of-type {\n",
       "        vertical-align: middle;\n",
       "    }\n",
       "\n",
       "    .dataframe tbody tr th {\n",
       "        vertical-align: top;\n",
       "    }\n",
       "\n",
       "    .dataframe thead th {\n",
       "        text-align: right;\n",
       "    }\n",
       "</style>\n",
       "<table border=\"1\" class=\"dataframe\">\n",
       "  <thead>\n",
       "    <tr style=\"text-align: right;\">\n",
       "      <th></th>\n",
       "      <th>index</th>\n",
       "      <th>content</th>\n",
       "      <th>target_names</th>\n",
       "      <th>group_id</th>\n",
       "      <th>group_id_predicted</th>\n",
       "      <th>topic_0_prob</th>\n",
       "      <th>topic_1_prob</th>\n",
       "      <th>topic_2_prob</th>\n",
       "      <th>topic_3_prob</th>\n",
       "    </tr>\n",
       "  </thead>\n",
       "  <tbody>\n",
       "    <tr>\n",
       "      <th>0</th>\n",
       "      <td>10</td>\n",
       "      <td>From: irwin@cmptrc.lonestar.org (Irwin Arnstei...</td>\n",
       "      <td>rec.motorcycles</td>\n",
       "      <td>3</td>\n",
       "      <td>1</td>\n",
       "      <td>0.011843</td>\n",
       "      <td>0.672534</td>\n",
       "      <td>0.015680</td>\n",
       "      <td>0.299943</td>\n",
       "    </tr>\n",
       "    <tr>\n",
       "      <th>1</th>\n",
       "      <td>21</td>\n",
       "      <td>From: leunggm@odin.control.utoronto.ca (Gary L...</td>\n",
       "      <td>rec.sport.hockey</td>\n",
       "      <td>1</td>\n",
       "      <td>1</td>\n",
       "      <td>0.010380</td>\n",
       "      <td>0.818112</td>\n",
       "      <td>0.096410</td>\n",
       "      <td>0.075098</td>\n",
       "    </tr>\n",
       "    <tr>\n",
       "      <th>2</th>\n",
       "      <td>28</td>\n",
       "      <td>From: jonh@david.wheaton.edu (Jonathan Hayward...</td>\n",
       "      <td>soc.religion.christian</td>\n",
       "      <td>2</td>\n",
       "      <td>2</td>\n",
       "      <td>0.101754</td>\n",
       "      <td>0.006096</td>\n",
       "      <td>0.707328</td>\n",
       "      <td>0.184821</td>\n",
       "    </tr>\n",
       "    <tr>\n",
       "      <th>3</th>\n",
       "      <td>33</td>\n",
       "      <td>From: ayr1@cunixa.cc.columbia.edu (Amir Y Rose...</td>\n",
       "      <td>talk.politics.mideast</td>\n",
       "      <td>0</td>\n",
       "      <td>0</td>\n",
       "      <td>0.679602</td>\n",
       "      <td>0.018601</td>\n",
       "      <td>0.036611</td>\n",
       "      <td>0.265186</td>\n",
       "    </tr>\n",
       "    <tr>\n",
       "      <th>4</th>\n",
       "      <td>35</td>\n",
       "      <td>From: dchhabra@stpl.ists.ca (Deepak Chhabra)\\n...</td>\n",
       "      <td>rec.sport.hockey</td>\n",
       "      <td>1</td>\n",
       "      <td>1</td>\n",
       "      <td>0.008994</td>\n",
       "      <td>0.765950</td>\n",
       "      <td>0.011123</td>\n",
       "      <td>0.213933</td>\n",
       "    </tr>\n",
       "  </tbody>\n",
       "</table>\n",
       "</div>"
      ],
      "text/plain": [
       "   index                                            content  \\\n",
       "0     10  From: irwin@cmptrc.lonestar.org (Irwin Arnstei...   \n",
       "1     21  From: leunggm@odin.control.utoronto.ca (Gary L...   \n",
       "2     28  From: jonh@david.wheaton.edu (Jonathan Hayward...   \n",
       "3     33  From: ayr1@cunixa.cc.columbia.edu (Amir Y Rose...   \n",
       "4     35  From: dchhabra@stpl.ists.ca (Deepak Chhabra)\\n...   \n",
       "\n",
       "             target_names  group_id  group_id_predicted  topic_0_prob  \\\n",
       "0         rec.motorcycles         3                   1      0.011843   \n",
       "1        rec.sport.hockey         1                   1      0.010380   \n",
       "2  soc.religion.christian         2                   2      0.101754   \n",
       "3   talk.politics.mideast         0                   0      0.679602   \n",
       "4        rec.sport.hockey         1                   1      0.008994   \n",
       "\n",
       "   topic_1_prob  topic_2_prob  topic_3_prob  \n",
       "0      0.672534      0.015680      0.299943  \n",
       "1      0.818112      0.096410      0.075098  \n",
       "2      0.006096      0.707328      0.184821  \n",
       "3      0.018601      0.036611      0.265186  \n",
       "4      0.765950      0.011123      0.213933  "
      ]
     },
     "execution_count": 26,
     "metadata": {},
     "output_type": "execute_result"
    }
   ],
   "source": [
    "df[\"group_id\"] = df.target_names.map(topic_to_label_mapping)\n",
    "df[\"group_id_predicted\"] = texts_topics_df.topic_no\n",
    "df.head()"
   ]
  },
  {
   "cell_type": "markdown",
   "metadata": {
    "colab_type": "text",
    "id": "t7LLwn2xbLxm"
   },
   "source": [
    "Let's see how well we are doing..."
   ]
  },
  {
   "cell_type": "code",
   "execution_count": 27,
   "metadata": {
    "ExecuteTime": {
     "end_time": "2019-11-26T08:09:48.510804Z",
     "start_time": "2019-11-26T08:09:48.486262Z"
    },
    "colab": {
     "base_uri": "https://localhost:8080/",
     "height": 213
    },
    "colab_type": "code",
    "id": "JtoZf5tzbR9v",
    "outputId": "531dcada-8db3-42b8-c222-9c8edecea009"
   },
   "outputs": [
    {
     "name": "stdout",
     "output_type": "stream",
     "text": [
      "              precision    recall  f1-score   support\n",
      "\n",
      "           0       0.89      0.81      0.85       564\n",
      "           1       0.79      0.98      0.87       600\n",
      "           2       0.88      0.86      0.87       599\n",
      "           3       0.83      0.72      0.77       598\n",
      "\n",
      "    accuracy                           0.84      2361\n",
      "   macro avg       0.85      0.84      0.84      2361\n",
      "weighted avg       0.85      0.84      0.84      2361\n",
      "\n"
     ]
    }
   ],
   "source": [
    "from sklearn.metrics import classification_report, confusion_matrix\n",
    "print(classification_report(df.group_id, df.group_id_predicted))"
   ]
  },
  {
   "cell_type": "markdown",
   "metadata": {
    "colab_type": "text",
    "id": "dpliNUvS5z9L"
   },
   "source": [
    "## Using topic probabilities for training a linear classifier\n",
    "\n",
    "The topic probability distributions for documents provided by an LDA model can be useful feature vectors for document classification, e.g., for sentiment analysis. To illustrate this, we train an SVM classifier to predict the original topic of documents based on the LDA topic probabilities. First we add the whole topic distribution to our df."
   ]
  },
  {
   "cell_type": "code",
   "execution_count": 28,
   "metadata": {
    "ExecuteTime": {
     "end_time": "2019-11-26T08:09:57.719127Z",
     "start_time": "2019-11-26T08:09:57.696695Z"
    },
    "colab": {
     "base_uri": "https://localhost:8080/",
     "height": 348
    },
    "colab_type": "code",
    "id": "QaxFK_fiTZca",
    "outputId": "23c310ab-ce30-42d4-83df-bb59a0933bdb"
   },
   "outputs": [
    {
     "data": {
      "text/html": [
       "<div>\n",
       "<style scoped>\n",
       "    .dataframe tbody tr th:only-of-type {\n",
       "        vertical-align: middle;\n",
       "    }\n",
       "\n",
       "    .dataframe tbody tr th {\n",
       "        vertical-align: top;\n",
       "    }\n",
       "\n",
       "    .dataframe thead th {\n",
       "        text-align: right;\n",
       "    }\n",
       "</style>\n",
       "<table border=\"1\" class=\"dataframe\">\n",
       "  <thead>\n",
       "    <tr style=\"text-align: right;\">\n",
       "      <th></th>\n",
       "      <th>index</th>\n",
       "      <th>content</th>\n",
       "      <th>target_names</th>\n",
       "      <th>group_id</th>\n",
       "      <th>group_id_predicted</th>\n",
       "      <th>topic_0_prob</th>\n",
       "      <th>topic_1_prob</th>\n",
       "      <th>topic_2_prob</th>\n",
       "      <th>topic_3_prob</th>\n",
       "      <th>topic_0_prob</th>\n",
       "      <th>topic_1_prob</th>\n",
       "      <th>topic_2_prob</th>\n",
       "      <th>topic_3_prob</th>\n",
       "    </tr>\n",
       "  </thead>\n",
       "  <tbody>\n",
       "    <tr>\n",
       "      <th>0</th>\n",
       "      <td>10</td>\n",
       "      <td>From: irwin@cmptrc.lonestar.org (Irwin Arnstei...</td>\n",
       "      <td>rec.motorcycles</td>\n",
       "      <td>3</td>\n",
       "      <td>1</td>\n",
       "      <td>0.011843</td>\n",
       "      <td>0.672534</td>\n",
       "      <td>0.015680</td>\n",
       "      <td>0.299943</td>\n",
       "      <td>0.011843</td>\n",
       "      <td>0.672534</td>\n",
       "      <td>0.015680</td>\n",
       "      <td>0.299943</td>\n",
       "    </tr>\n",
       "    <tr>\n",
       "      <th>1</th>\n",
       "      <td>21</td>\n",
       "      <td>From: leunggm@odin.control.utoronto.ca (Gary L...</td>\n",
       "      <td>rec.sport.hockey</td>\n",
       "      <td>1</td>\n",
       "      <td>1</td>\n",
       "      <td>0.010380</td>\n",
       "      <td>0.818112</td>\n",
       "      <td>0.096410</td>\n",
       "      <td>0.075098</td>\n",
       "      <td>0.010380</td>\n",
       "      <td>0.818112</td>\n",
       "      <td>0.096410</td>\n",
       "      <td>0.075098</td>\n",
       "    </tr>\n",
       "    <tr>\n",
       "      <th>2</th>\n",
       "      <td>28</td>\n",
       "      <td>From: jonh@david.wheaton.edu (Jonathan Hayward...</td>\n",
       "      <td>soc.religion.christian</td>\n",
       "      <td>2</td>\n",
       "      <td>2</td>\n",
       "      <td>0.101754</td>\n",
       "      <td>0.006096</td>\n",
       "      <td>0.707328</td>\n",
       "      <td>0.184821</td>\n",
       "      <td>0.101754</td>\n",
       "      <td>0.006096</td>\n",
       "      <td>0.707328</td>\n",
       "      <td>0.184821</td>\n",
       "    </tr>\n",
       "    <tr>\n",
       "      <th>3</th>\n",
       "      <td>33</td>\n",
       "      <td>From: ayr1@cunixa.cc.columbia.edu (Amir Y Rose...</td>\n",
       "      <td>talk.politics.mideast</td>\n",
       "      <td>0</td>\n",
       "      <td>0</td>\n",
       "      <td>0.679602</td>\n",
       "      <td>0.018601</td>\n",
       "      <td>0.036611</td>\n",
       "      <td>0.265186</td>\n",
       "      <td>0.679602</td>\n",
       "      <td>0.018601</td>\n",
       "      <td>0.036611</td>\n",
       "      <td>0.265186</td>\n",
       "    </tr>\n",
       "    <tr>\n",
       "      <th>4</th>\n",
       "      <td>35</td>\n",
       "      <td>From: dchhabra@stpl.ists.ca (Deepak Chhabra)\\n...</td>\n",
       "      <td>rec.sport.hockey</td>\n",
       "      <td>1</td>\n",
       "      <td>1</td>\n",
       "      <td>0.008994</td>\n",
       "      <td>0.765950</td>\n",
       "      <td>0.011123</td>\n",
       "      <td>0.213933</td>\n",
       "      <td>0.008994</td>\n",
       "      <td>0.765950</td>\n",
       "      <td>0.011123</td>\n",
       "      <td>0.213933</td>\n",
       "    </tr>\n",
       "  </tbody>\n",
       "</table>\n",
       "</div>"
      ],
      "text/plain": [
       "   index                                            content  \\\n",
       "0     10  From: irwin@cmptrc.lonestar.org (Irwin Arnstei...   \n",
       "1     21  From: leunggm@odin.control.utoronto.ca (Gary L...   \n",
       "2     28  From: jonh@david.wheaton.edu (Jonathan Hayward...   \n",
       "3     33  From: ayr1@cunixa.cc.columbia.edu (Amir Y Rose...   \n",
       "4     35  From: dchhabra@stpl.ists.ca (Deepak Chhabra)\\n...   \n",
       "\n",
       "             target_names  group_id  group_id_predicted  topic_0_prob  \\\n",
       "0         rec.motorcycles         3                   1      0.011843   \n",
       "1        rec.sport.hockey         1                   1      0.010380   \n",
       "2  soc.religion.christian         2                   2      0.101754   \n",
       "3   talk.politics.mideast         0                   0      0.679602   \n",
       "4        rec.sport.hockey         1                   1      0.008994   \n",
       "\n",
       "   topic_1_prob  topic_2_prob  topic_3_prob  topic_0_prob  topic_1_prob  \\\n",
       "0      0.672534      0.015680      0.299943      0.011843      0.672534   \n",
       "1      0.818112      0.096410      0.075098      0.010380      0.818112   \n",
       "2      0.006096      0.707328      0.184821      0.101754      0.006096   \n",
       "3      0.018601      0.036611      0.265186      0.679602      0.018601   \n",
       "4      0.765950      0.011123      0.213933      0.008994      0.765950   \n",
       "\n",
       "   topic_2_prob  topic_3_prob  \n",
       "0      0.015680      0.299943  \n",
       "1      0.096410      0.075098  \n",
       "2      0.707328      0.184821  \n",
       "3      0.036611      0.265186  \n",
       "4      0.011123      0.213933  "
      ]
     },
     "execution_count": 28,
     "metadata": {},
     "output_type": "execute_result"
    }
   ],
   "source": [
    "df = pd.concat([df, df_topic_probs], axis = 1)\n",
    "df.head()"
   ]
  },
  {
   "cell_type": "markdown",
   "metadata": {
    "colab_type": "text",
    "id": "5eFCK6mgiKhR"
   },
   "source": [
    "We do a train-test split:\n"
   ]
  },
  {
   "cell_type": "code",
   "execution_count": 29,
   "metadata": {
    "ExecuteTime": {
     "end_time": "2019-11-26T08:09:57.726819Z",
     "start_time": "2019-11-26T08:09:57.721114Z"
    },
    "colab": {
     "base_uri": "https://localhost:8080/",
     "height": 53
    },
    "colab_type": "code",
    "id": "kE0vdwX7ivj2",
    "outputId": "1ae52912-4f4c-4ba5-d6d0-bf73cbe57822"
   },
   "outputs": [
    {
     "name": "stdout",
     "output_type": "stream",
     "text": [
      "df_train len: 2124\n",
      "df_valid len: 237\n"
     ]
    }
   ],
   "source": [
    "from sklearn.model_selection import train_test_split\n",
    "df_train, df_valid = train_test_split(df, test_size=0.1)\n",
    "print(\"df_train len:\", len(df_train))\n",
    "print(\"df_valid len:\", len(df_valid))"
   ]
  },
  {
   "cell_type": "markdown",
   "metadata": {
    "colab_type": "text",
    "id": "zEd5WNREgK7p"
   },
   "source": [
    "And train an SVM classifier on the data"
   ]
  },
  {
   "cell_type": "code",
   "execution_count": 30,
   "metadata": {
    "ExecuteTime": {
     "end_time": "2019-11-26T08:09:57.764038Z",
     "start_time": "2019-11-26T08:09:57.728363Z"
    },
    "colab": {
     "base_uri": "https://localhost:8080/",
     "height": 88
    },
    "colab_type": "code",
    "id": "AUGW8GcGhaAY",
    "outputId": "11031b35-1b73-403e-a99b-a1ce47f1147d"
   },
   "outputs": [
    {
     "data": {
      "text/plain": [
       "SVC(C=1.0, cache_size=200, class_weight=None, coef0=0.0,\n",
       "    decision_function_shape='ovr', degree=3, gamma='auto_deprecated',\n",
       "    kernel='linear', max_iter=-1, probability=False, random_state=None,\n",
       "    shrinking=True, tol=0.001, verbose=False)"
      ]
     },
     "execution_count": 30,
     "metadata": {},
     "output_type": "execute_result"
    }
   ],
   "source": [
    "from sklearn.svm import SVC\n",
    "\n",
    "svc = SVC(kernel=\"linear\")\n",
    "\n",
    "svc.fit(df_train[[\"topic_0_prob\", \"topic_1_prob\", \"topic_2_prob\", \"topic_3_prob\"]], df_train.group_id)"
   ]
  },
  {
   "cell_type": "code",
   "execution_count": 31,
   "metadata": {
    "ExecuteTime": {
     "end_time": "2019-11-26T08:09:57.778497Z",
     "start_time": "2019-11-26T08:09:57.766519Z"
    },
    "colab": {
     "base_uri": "https://localhost:8080/",
     "height": 213
    },
    "colab_type": "code",
    "id": "ZXyfTPqSi7f-",
    "outputId": "45d533cd-2785-4fba-a257-1bb90403837b"
   },
   "outputs": [
    {
     "name": "stdout",
     "output_type": "stream",
     "text": [
      "              precision    recall  f1-score   support\n",
      "\n",
      "           0       0.94      0.83      0.88        60\n",
      "           1       0.88      0.97      0.92        66\n",
      "           2       0.81      0.90      0.85        42\n",
      "           3       0.91      0.84      0.87        69\n",
      "\n",
      "    accuracy                           0.89       237\n",
      "   macro avg       0.88      0.89      0.88       237\n",
      "weighted avg       0.89      0.89      0.89       237\n",
      "\n"
     ]
    }
   ],
   "source": [
    "valid_predictions = svc.predict(df_valid[[\"topic_0_prob\", \"topic_1_prob\", \"topic_2_prob\", \"topic_3_prob\"]])\n",
    "\n",
    "print(classification_report(df_valid.group_id, valid_predictions))"
   ]
  },
  {
   "cell_type": "markdown",
   "metadata": {
    "colab_type": "text",
    "id": "wiAwR2xAwxtK"
   },
   "source": [
    "Looking at the results we can see that we gained 6% accuracy by switching from using simply the dominant topic to an SVM classifier trained explicitly on the original topic/newsgroup labels."
   ]
  }
 ],
 "metadata": {
  "colab": {
   "collapsed_sections": [],
   "name": "Frequency_based_topic_models_and_their_usage_for_classification.ipynb",
   "provenance": [],
   "toc_visible": true
  },
  "kernelspec": {
   "display_name": "Python 3",
   "language": "python",
   "name": "python3"
  },
  "language_info": {
   "codemirror_mode": {
    "name": "ipython",
    "version": 3
   },
   "file_extension": ".py",
   "mimetype": "text/x-python",
   "name": "python",
   "nbconvert_exporter": "python",
   "pygments_lexer": "ipython3",
   "version": "3.7.3"
  },
  "toc": {
   "base_numbering": 1,
   "nav_menu": {},
   "number_sections": true,
   "sideBar": true,
   "skip_h1_title": false,
   "title_cell": "Table of Contents",
   "title_sidebar": "Contents",
   "toc_cell": false,
   "toc_position": {},
   "toc_section_display": true,
   "toc_window_display": false
  },
  "varInspector": {
   "cols": {
    "lenName": 16,
    "lenType": 16,
    "lenVar": 40
   },
   "kernels_config": {
    "python": {
     "delete_cmd_postfix": "",
     "delete_cmd_prefix": "del ",
     "library": "var_list.py",
     "varRefreshCmd": "print(var_dic_list())"
    },
    "r": {
     "delete_cmd_postfix": ") ",
     "delete_cmd_prefix": "rm(",
     "library": "var_list.r",
     "varRefreshCmd": "cat(var_dic_list()) "
    }
   },
   "types_to_exclude": [
    "module",
    "function",
    "builtin_function_or_method",
    "instance",
    "_Feature"
   ],
   "window_display": false
  }
 },
 "nbformat": 4,
 "nbformat_minor": 4
}
