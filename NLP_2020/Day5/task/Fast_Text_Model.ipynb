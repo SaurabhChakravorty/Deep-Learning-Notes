{
 "cells": [
  {
   "cell_type": "code",
   "execution_count": null,
   "metadata": {
    "colab": {
     "base_uri": "https://localhost:8080/",
     "height": 114
    },
    "id": "aufxWYrUD3Ly",
    "outputId": "7af57ea5-6f9c-4727-c9a8-413b3cec9d8e"
   },
   "outputs": [
    {
     "data": {
      "text/html": [
       "<marquee style='width: 100%; color: red;'><b><li style=\"font-size:75px;\">Fast Text</li></b></marquee>"
      ],
      "text/plain": [
       "<IPython.core.display.HTML object>"
      ]
     },
     "metadata": {
      "tags": []
     },
     "output_type": "display_data"
    }
   ],
   "source": [
    "%%html\n",
    "<marquee style='width: 100%; color: red;'><b><li style=\"font-size:75px;\">Fast Text</li></b></marquee>"
   ]
  },
  {
   "cell_type": "markdown",
   "metadata": {
    "id": "DrM5NDzFD-hl"
   },
   "source": [
    "## Reading the data"
   ]
  },
  {
   "cell_type": "code",
   "execution_count": null,
   "metadata": {
    "id": "mnTX7UneECXv"
   },
   "outputs": [],
   "source": [
    "# Let's import libraries\n",
    "import pandas as pd\n",
    "import numpy as np\n",
    "import os\n",
    "from termcolor import colored\n",
    "import warnings"
   ]
  },
  {
   "cell_type": "code",
   "execution_count": null,
   "metadata": {
    "colab": {
     "base_uri": "https://localhost:8080/"
    },
    "id": "c0SlsnQGddNM",
    "outputId": "a108c6bd-e32a-43cc-cc3c-8f69bc98d44c"
   },
   "outputs": [
    {
     "name": "stdout",
     "output_type": "stream",
     "text": [
      "Mounted at /content/drive\n"
     ]
    }
   ],
   "source": [
    "# Mount the drive\n",
    "from google.colab import drive\n",
    "drive.mount('/content/drive')"
   ]
  },
  {
   "cell_type": "code",
   "execution_count": null,
   "metadata": {
    "id": "VM3TqGE-ddQC"
   },
   "outputs": [],
   "source": [
    "# Go to the file created in Colab and specify your path\n",
    "dir = '/content/drive/MyDrive/IMDB_Data'"
   ]
  },
  {
   "cell_type": "code",
   "execution_count": null,
   "metadata": {
    "id": "23KJOfTpdfkE"
   },
   "outputs": [],
   "source": [
    "# Reading in proper format from our mentioned file\n",
    "df_train = pd.read_pickle(dir + '/train_features.pkl')\n",
    "df_test  = pd.read_pickle(dir + '/test_features.pkl')"
   ]
  },
  {
   "cell_type": "markdown",
   "metadata": {
    "id": "9RFkQ6UKdeFY"
   },
   "source": [
    "## Loading Model\n",
    "\n",
    "- Fast text model of facebook is trained on large weight vectors with essential embeddings\n",
    "\n",
    "- The essential embeddings used are trained using CBOW methods in dimension 300 with ngram of 5 and window size varying from 5 - 10\n",
    "\n",
    "- The documentation of the following can be found [here](https://fasttext.cc/docs/en/crawl-vectors.html)"
   ]
  },
  {
   "cell_type": "code",
   "execution_count": null,
   "metadata": {
    "colab": {
     "base_uri": "https://localhost:8080/"
    },
    "id": "ESO42JVWWnk0",
    "outputId": "5e6122b5-60a0-4948-b153-cb4c21ec5b26"
   },
   "outputs": [
    {
     "name": "stdout",
     "output_type": "stream",
     "text": [
      "--2020-12-02 20:47:01--  https://github.com/facebookresearch/fastText/archive/v0.1.0.zip\n",
      "Resolving github.com (github.com)... 140.82.114.4\n",
      "Connecting to github.com (github.com)|140.82.114.4|:443... connected.\n",
      "HTTP request sent, awaiting response... 302 Found\n",
      "Location: https://codeload.github.com/facebookresearch/fastText/zip/v0.1.0 [following]\n",
      "--2020-12-02 20:47:01--  https://codeload.github.com/facebookresearch/fastText/zip/v0.1.0\n",
      "Resolving codeload.github.com (codeload.github.com)... 140.82.112.10\n",
      "Connecting to codeload.github.com (codeload.github.com)|140.82.112.10|:443... connected.\n",
      "HTTP request sent, awaiting response... 200 OK\n",
      "Length: unspecified [application/zip]\n",
      "Saving to: ‘v0.1.0.zip’\n",
      "\n",
      "v0.1.0.zip              [ <=>                ]  92.06K  --.-KB/s    in 0.01s   \n",
      "\n",
      "2020-12-02 20:47:01 (6.20 MB/s) - ‘v0.1.0.zip’ saved [94267]\n",
      "\n"
     ]
    }
   ],
   "source": [
    "# Getting the model\n",
    "!wget https://github.com/facebookresearch/fastText/archive/v0.1.0.zip"
   ]
  },
  {
   "cell_type": "code",
   "execution_count": null,
   "metadata": {
    "colab": {
     "base_uri": "https://localhost:8080/"
    },
    "id": "sXLwxa2KWnu8",
    "outputId": "fb9cfe96-68d2-4048-d137-ece0f9bfa737"
   },
   "outputs": [
    {
     "name": "stdout",
     "output_type": "stream",
     "text": [
      "Archive:  v0.1.0.zip\n",
      "431c9e2a9b5149369cc60fb9f5beba58dcf8ca17\n",
      "   creating: fastText-0.1.0/\n",
      "  inflating: fastText-0.1.0/.gitignore  \n",
      "  inflating: fastText-0.1.0/CONTRIBUTING.md  \n",
      "  inflating: fastText-0.1.0/LICENSE  \n",
      "  inflating: fastText-0.1.0/Makefile  \n",
      "  inflating: fastText-0.1.0/PATENTS  \n",
      "  inflating: fastText-0.1.0/README.md  \n",
      "  inflating: fastText-0.1.0/classification-example.sh  \n",
      "  inflating: fastText-0.1.0/classification-results.sh  \n",
      "  inflating: fastText-0.1.0/eval.py  \n",
      "  inflating: fastText-0.1.0/get-wikimedia.sh  \n",
      "  inflating: fastText-0.1.0/pretrained-vectors.md  \n",
      "  inflating: fastText-0.1.0/quantization-example.sh  \n",
      "  inflating: fastText-0.1.0/quantization-results.sh  \n",
      "   creating: fastText-0.1.0/src/\n",
      "  inflating: fastText-0.1.0/src/args.cc  \n",
      "  inflating: fastText-0.1.0/src/args.h  \n",
      "  inflating: fastText-0.1.0/src/dictionary.cc  \n",
      "  inflating: fastText-0.1.0/src/dictionary.h  \n",
      "  inflating: fastText-0.1.0/src/fasttext.cc  \n",
      "  inflating: fastText-0.1.0/src/fasttext.h  \n",
      "  inflating: fastText-0.1.0/src/main.cc  \n",
      "  inflating: fastText-0.1.0/src/matrix.cc  \n",
      "  inflating: fastText-0.1.0/src/matrix.h  \n",
      "  inflating: fastText-0.1.0/src/model.cc  \n",
      "  inflating: fastText-0.1.0/src/model.h  \n",
      "  inflating: fastText-0.1.0/src/productquantizer.cc  \n",
      "  inflating: fastText-0.1.0/src/productquantizer.h  \n",
      "  inflating: fastText-0.1.0/src/qmatrix.cc  \n",
      "  inflating: fastText-0.1.0/src/qmatrix.h  \n",
      "  inflating: fastText-0.1.0/src/real.h  \n",
      "  inflating: fastText-0.1.0/src/utils.cc  \n",
      "  inflating: fastText-0.1.0/src/utils.h  \n",
      "  inflating: fastText-0.1.0/src/vector.cc  \n",
      "  inflating: fastText-0.1.0/src/vector.h  \n",
      "   creating: fastText-0.1.0/tutorials/\n",
      "  inflating: fastText-0.1.0/tutorials/cbo_vs_skipgram.png  \n",
      "  inflating: fastText-0.1.0/tutorials/supervised-learning.md  \n",
      "  inflating: fastText-0.1.0/tutorials/unsupervised-learning.md  \n",
      "  inflating: fastText-0.1.0/wikifil.pl  \n",
      "  inflating: fastText-0.1.0/word-vector-example.sh  \n"
     ]
    }
   ],
   "source": [
    "# Unzip the files\n",
    "!unzip v0.1.0.zip"
   ]
  },
  {
   "cell_type": "code",
   "execution_count": null,
   "metadata": {
    "colab": {
     "base_uri": "https://localhost:8080/"
    },
    "id": "7H2o5P4xWnyL",
    "outputId": "c9004809-ad97-49f8-c6b6-6d6f14ed9ec1"
   },
   "outputs": [
    {
     "name": "stdout",
     "output_type": "stream",
     "text": [
      "c++ -pthread -std=c++0x -O3 -funroll-loops -c src/args.cc\n",
      "c++ -pthread -std=c++0x -O3 -funroll-loops -c src/dictionary.cc\n",
      "c++ -pthread -std=c++0x -O3 -funroll-loops -c src/productquantizer.cc\n",
      "c++ -pthread -std=c++0x -O3 -funroll-loops -c src/matrix.cc\n",
      "c++ -pthread -std=c++0x -O3 -funroll-loops -c src/qmatrix.cc\n",
      "c++ -pthread -std=c++0x -O3 -funroll-loops -c src/vector.cc\n",
      "c++ -pthread -std=c++0x -O3 -funroll-loops -c src/model.cc\n",
      "c++ -pthread -std=c++0x -O3 -funroll-loops -c src/utils.cc\n",
      "c++ -pthread -std=c++0x -O3 -funroll-loops -c src/fasttext.cc\n",
      "c++ -pthread -std=c++0x -O3 -funroll-loops args.o dictionary.o productquantizer.o matrix.o qmatrix.o vector.o model.o utils.o fasttext.o src/main.cc -o fasttext\n"
     ]
    }
   ],
   "source": [
    "#  Change the directory for fast text\n",
    "os.chdir('fastText-0.1.0')\n",
    "!make"
   ]
  },
  {
   "cell_type": "code",
   "execution_count": null,
   "metadata": {
    "colab": {
     "base_uri": "https://localhost:8080/"
    },
    "id": "SmdCR4smWn1w",
    "outputId": "d4e7d7a1-4e64-4d9a-c3c9-de11dae841e9"
   },
   "outputs": [
    {
     "name": "stdout",
     "output_type": "stream",
     "text": [
      "usage: fasttext <command> <args>\n",
      "\n",
      "The commands supported by fasttext are:\n",
      "\n",
      "  supervised              train a supervised classifier\n",
      "  quantize                quantize a model to reduce the memory usage\n",
      "  test                    evaluate a supervised classifier\n",
      "  predict                 predict most likely labels\n",
      "  predict-prob            predict most likely labels with probabilities\n",
      "  skipgram                train a skipgram model\n",
      "  cbow                    train a cbow model\n",
      "  print-word-vectors      print word vectors given a trained model\n",
      "  print-sentence-vectors  print sentence vectors given a trained model\n",
      "  nn                      query for nearest neighbors\n",
      "  analogies               query for analogies\n",
      "\n"
     ]
    }
   ],
   "source": [
    "!./fasttext"
   ]
  },
  {
   "cell_type": "markdown",
   "metadata": {
    "id": "fz9ZnHlUKqFz"
   },
   "source": [
    "## Data Preparation"
   ]
  },
  {
   "cell_type": "code",
   "execution_count": null,
   "metadata": {
    "id": "pOz9M56wbYcg"
   },
   "outputs": [],
   "source": [
    "# Selecting the columns for analysis\n",
    "df_train =  df_train[['Label','Text']]\n",
    "df_test  =  df_test[['Label','Text']]"
   ]
  },
  {
   "cell_type": "markdown",
   "metadata": {
    "id": "aELhW4SVLBGN"
   },
   "source": [
    "<div class=\"alert alert-block alert-danger\">\n",
    "<b>Note:</b> The data format to run the model is specified in the document which is being followed here\n",
    "</div>"
   ]
  },
  {
   "cell_type": "code",
   "execution_count": null,
   "metadata": {
    "id": "I6et9i-LWoAC"
   },
   "outputs": [],
   "source": [
    "# Assigning dict values in proper format for sentiment classification\n",
    "df_train['Label'] = df_train['Label'].map({0: 'negative',1:'positive'})\n",
    "df_test['Label']   = df_test['Label'].map({0: 'negative',1:'positive'})"
   ]
  },
  {
   "cell_type": "code",
   "execution_count": null,
   "metadata": {
    "id": "RYzGST-uWn5Z"
   },
   "outputs": [],
   "source": [
    "# Making into proper format for labelling positive and negative\n",
    "df_train['Label'] = ['__label__'+ str(s) for s in df_train['Label']]\n",
    "df_test['Label']  = ['__label__'+ str(s) for s in df_test['Label']]"
   ]
  },
  {
   "cell_type": "markdown",
   "metadata": {
    "id": "etQh5YkTMBvQ"
   },
   "source": [
    "<div class=\"alert alert-block alert-danger\">\n",
    "<b>Note:</b> We need to write the data in 'path' format for specifying it to the model\n",
    "</div>"
   ]
  },
  {
   "cell_type": "code",
   "execution_count": null,
   "metadata": {
    "id": "xMFu9fOeyr6m"
   },
   "outputs": [],
   "source": [
    "# Writing the data into proper format\n",
    "df_train.to_csv(r'/content/drive/MyDrive/IMDB_Data/fast_text_train.txt', index=False, sep=' ', header=False)\n",
    "df_test.to_csv(r'/content/drive/MyDrive/IMDB_Data/fast_text_test.txt',   index=False, sep=' ', header=False)"
   ]
  },
  {
   "cell_type": "markdown",
   "metadata": {
    "id": "0t_HPshKMfL5"
   },
   "source": [
    "## Model training"
   ]
  },
  {
   "cell_type": "markdown",
   "metadata": {
    "id": "M_EdJYjnNrbq"
   },
   "source": [
    "For training the model we use the model file saved  in our local directory named **\"model_fast\"**"
   ]
  },
  {
   "cell_type": "code",
   "execution_count": null,
   "metadata": {
    "colab": {
     "base_uri": "https://localhost:8080/"
    },
    "id": "wiA4d-8Tzvbp",
    "outputId": "fa464ed5-5482-4fca-f801-0cee56cfa48d"
   },
   "outputs": [
    {
     "name": "stdout",
     "output_type": "stream",
     "text": [
      "Read 2M words\n",
      "Number of words:  77346\n",
      "Number of labels: 2\n",
      "Progress: 100.0%  words/sec/thread: 3520076  lr: 0.000000  loss: 0.304932  eta: 0h0m \n",
      "CPU times: user 299 ms, sys: 112 ms, total: 410 ms\n",
      "Wall time: 26.9 s\n"
     ]
    }
   ],
   "source": [
    "%%time\n",
    "!./fasttext supervised -input '/content/drive/MyDrive/IMDB_Data/fast_text_train.txt' -output model_fast -epoch 50 -lr 0.01"
   ]
  },
  {
   "cell_type": "code",
   "execution_count": null,
   "metadata": {
    "colab": {
     "base_uri": "https://localhost:8080/"
    },
    "id": "ll3dWI9P0AuW",
    "outputId": "e05afbd8-9d2d-4340-e317-acacc5d0a9a5"
   },
   "outputs": [
    {
     "name": "stdout",
     "output_type": "stream",
     "text": [
      "args.o\t\t\t   Makefile\t\t    quantization-results.sh\n",
      "classification-example.sh  matrix.o\t\t    README.md\n",
      "classification-results.sh  model_fast.bin\t    src\n",
      "CONTRIBUTING.md\t\t   model_fast.vec\t    tutorials\n",
      "dictionary.o\t\t   model.o\t\t    utils.o\n",
      "eval.py\t\t\t   PATENTS\t\t    vector.o\n",
      "fasttext\t\t   pretrained-vectors.md    wikifil.pl\n",
      "fasttext.o\t\t   productquantizer.o\t    word-vector-example.sh\n",
      "get-wikimedia.sh\t   qmatrix.o\n",
      "LICENSE\t\t\t   quantization-example.sh\n"
     ]
    }
   ],
   "source": [
    "# Let's see the files in this directory\n",
    "# You can locate \"model_fast.bin\" in the directory\n",
    "!ls"
   ]
  },
  {
   "cell_type": "code",
   "execution_count": null,
   "metadata": {
    "colab": {
     "base_uri": "https://localhost:8080/"
    },
    "id": "pO524NUy17GH",
    "outputId": "6ce4e56d-9afc-4720-cfa8-a8373190c619"
   },
   "outputs": [
    {
     "name": "stdout",
     "output_type": "stream",
     "text": [
      "N\t25000\n",
      "P@1\t0.87\n",
      "R@1\t0.87\n",
      "Number of examples: 25000\n"
     ]
    }
   ],
   "source": [
    "#Let's test our model\n",
    "!./fasttext test model_fast.bin '/content/drive/MyDrive/IMDB_Data/fast_text_test.txt'"
   ]
  },
  {
   "cell_type": "markdown",
   "metadata": {
    "id": "vKCe7TQhMjf9"
   },
   "source": [
    "## Model Summary\n",
    "\n",
    "- The accuracy is \"F-1 score:\" of each postive and negative sentiment defined in each class.\n",
    "\n",
    "- We observe we get a decent level accuracy by training this model with very less latency and constraints computationally.\n",
    "\n",
    "- Let's now dive into the state of the model of Google BERT in this [notebook](https://colab.research.google.com/drive/1XcnZsRLV1x-bV7L4w2-RTzHbl_3OdmK4?usp=sharing)"
   ]
  }
 ],
 "metadata": {
  "accelerator": "GPU",
  "colab": {
   "collapsed_sections": [],
   "name": "Fast_Text_Model.ipynb",
   "provenance": []
  },
  "kernelspec": {
   "display_name": "Python 3",
   "language": "python",
   "name": "python3"
  },
  "language_info": {
   "codemirror_mode": {
    "name": "ipython",
    "version": 3
   },
   "file_extension": ".py",
   "mimetype": "text/x-python",
   "name": "python",
   "nbconvert_exporter": "python",
   "pygments_lexer": "ipython3",
   "version": "3.7.3"
  }
 },
 "nbformat": 4,
 "nbformat_minor": 4
}
