{
 "cells": [
  {
   "cell_type": "code",
   "execution_count": null,
   "metadata": {
    "colab": {
     "base_uri": "https://localhost:8080/",
     "height": 114
    },
    "id": "yr-n6P8AK3tN",
    "outputId": "6f328140-81a5-49db-8ea0-b62a56c32628"
   },
   "outputs": [
    {
     "data": {
      "text/html": [
       "<marquee style='width: 100%; color: red;'><b><li style=\"font-size:75px;\">Embedding + LSTM</li></b></marquee>"
      ],
      "text/plain": [
       "<IPython.core.display.HTML object>"
      ]
     },
     "metadata": {
      "tags": []
     },
     "output_type": "display_data"
    }
   ],
   "source": [
    "%%html\n",
    "<marquee style='width: 100%; color: red;'><b><li style=\"font-size:75px;\">Embedding + LSTM</li></b></marquee>"
   ]
  },
  {
   "cell_type": "markdown",
   "metadata": {
    "id": "khAoS-K0em7T"
   },
   "source": [
    "## Reading the data"
   ]
  },
  {
   "cell_type": "code",
   "execution_count": 10,
   "metadata": {
    "id": "mnTX7UneECXv"
   },
   "outputs": [],
   "source": [
    "# Pip install dependencies if missing\n",
    "# Libraries\n",
    "import pandas as pd\n",
    "import numpy as np\n",
    "import os\n",
    "from termcolor import colored\n",
    "import warnings\n",
    "warnings.filterwarnings('ignore')\n",
    "from tensorflow.keras import Sequential\n",
    "from tensorflow.keras.layers import Dense, Dropout, Embedding, LSTM, SpatialDropout1D, Bidirectional, GlobalMaxPooling1D\n",
    "from tensorflow.keras import backend as be\n",
    "from tensorflow.keras.callbacks import ModelCheckpoint, LearningRateScheduler\n",
    "from tensorflow.keras.optimizers import Adadelta, Adam\n",
    "from tensorflow.keras.regularizers import l1, l2\n",
    "from keras.utils import multi_gpu_model\n",
    "from tensorflow.python.client import device_lib\n",
    "from sklearn.preprocessing import MinMaxScaler\n",
    "from keras.preprocessing import sequence\n",
    "from keras.preprocessing.text import Tokenizer\n",
    "from keras.callbacks import EarlyStopping\n",
    "import tensorflow as tf\n",
    "# from IPython.display import SVG\n",
    "# from keras.utils.vis_utils import model_to_dot\n",
    "from keras.utils import plot_model\n",
    "import matplotlib.pyplot as plt\n",
    "%matplotlib inline"
   ]
  },
  {
   "cell_type": "markdown",
   "metadata": {
    "id": "LTvWGD5YeqeB"
   },
   "source": [
    "*It's frustating but necessary*"
   ]
  },
  {
   "cell_type": "code",
   "execution_count": 1,
   "metadata": {
    "colab": {
     "base_uri": "https://localhost:8080/"
    },
    "id": "c0SlsnQGddNM",
    "outputId": "ea3fb1d1-6690-4fed-88b2-8dcb8f3d909d"
   },
   "outputs": [
    {
     "name": "stdout",
     "output_type": "stream",
     "text": [
      "Mounted at /content/drive\n"
     ]
    }
   ],
   "source": [
    "# Mount the drive\n",
    "from google.colab import drive\n",
    "drive.mount('/content/drive')"
   ]
  },
  {
   "cell_type": "code",
   "execution_count": 2,
   "metadata": {
    "id": "VM3TqGE-ddQC"
   },
   "outputs": [],
   "source": [
    "# Go to the file created in Colab and specify your path\n",
    "dir = '/content/drive/MyDrive/IMDB_Data'\n",
    "\n",
    "# For saving the weights of model\n",
    "checkpoint_filepath = dir"
   ]
  },
  {
   "cell_type": "code",
   "execution_count": 11,
   "metadata": {
    "id": "23KJOfTpdfkE"
   },
   "outputs": [],
   "source": [
    "# Reading in proper format from our mentioned file\n",
    "df_train = pd.read_pickle(dir + '/train_features.pkl')\n",
    "df_test  = pd.read_pickle(dir + '/test_features.pkl')"
   ]
  },
  {
   "cell_type": "markdown",
   "metadata": {
    "id": "B87MP3lofKXr"
   },
   "source": [
    "## Introduction\n",
    "\n",
    "*Enter the dark world of deep learning....*\n",
    "\n",
    "1. In this appproach we extensively use LSTM and embedding approach to generate feature representation and classification\n",
    "\n",
    "2. Although for tokenising we will use Kera's **tokenizer** for feature space embedding we will use a pretrained word vectors which we can download  from listed sources\n",
    "\n",
    "3. We take 3 approaches to train our model for **sentiment classiication** task which are listed as below:\n",
    "\n",
    "\n",
    "> **Keras Word embedding + LSTM**: In this simple approach we use keras embedding layer in vector space representation and then train the model for accuracy using LSTM and dense networks.\n",
    "\n",
    "\n",
    "> **Glove based embedding + LSTM** : In this modelling, we use pretrained wrd vector embedding which we have obtained from this [stanford site](https://nlp.stanford.edu/projects/glove/). This contains words in '1B' tokens in '300d' vector space. We further use bidirectional LSTM based approach to train our model for better accuracy and score.\n",
    "\n",
    "\n",
    "> **Fast Text embedding + LSTM** : Another type of embedding use here is fast text embedding which can be found [fast text website](https://fasttext.cc/docs/en/english-vectors.html).This contains words in '6B' tokens in '1M' vector space.We aim to improve higher accuracy and less overfitting in this model using the same approach.\n",
    "\n",
    "\n",
    "\n",
    "\n",
    "\n",
    "\n"
   ]
  },
  {
   "cell_type": "markdown",
   "metadata": {
    "id": "4Dps3Mk8k80j"
   },
   "source": [
    "**Note:** Both the file size are too large the given link can be helpful for embedding purpose\n",
    "\n",
    "**GloVE :** [glove.6B.300d.txt](glove.6B.300d.txt)\n",
    "\n",
    "**Fast Text :** ['wiki-news-300d-1M.vec'](https://drive.google.com/file/d/13KbYxZGtAzJc5aUL_4opQGFITIwncgC2/view?usp=sharing)"
   ]
  },
  {
   "cell_type": "markdown",
   "metadata": {
    "id": "9RFkQ6UKdeFY"
   },
   "source": [
    "## Data Preparation"
   ]
  },
  {
   "cell_type": "markdown",
   "metadata": {
    "id": "Nz6Zrbhfe0Q3"
   },
   "source": [
    "For the data preparation purpose into we use the following function which generates embeddings as well as uses our generated features(normalized) for the purpose of modelling"
   ]
  },
  {
   "cell_type": "code",
   "execution_count": 70,
   "metadata": {
    "id": "oVtOlFAu1Hm1"
   },
   "outputs": [],
   "source": [
    "'''\n",
    "Info:\n",
    "1. Takes in train and test dataframe as input\n",
    "2. Generates tokens with the the help of keras tokenizer function with the help of vocab size\n",
    "3. Uses \"word_index\" count only if specified True in argument\n",
    "4. Tokenises and returns word_index as \"dict\" only if called else the same variable is returned as boolean vaule\n",
    "NOTE: The variable \"word_index\" is overwritten from bool to dict\n",
    "5. Tokenizes train and test on the word text\n",
    "6. Padding done to max sequence length which is by default 100 i.e we assume highest word in a sent of IMDB review is 100\n",
    "7. Generates labels in proper format \n",
    "8. Normalization is done on 'other features' which we have generated before to be added into embedding layer\n",
    "9. Returns 'X_train,y_train, X_test, y_test' in the form of numpy arrays\n",
    "'''\n",
    "\n",
    "\n",
    "def generate_lstm_features(df_train, df_test, max_features = 50000 , max_seq_length = 100, word_index = False):\n",
    "   \n",
    "    # Initialise the tokenizer with max vocab size by default 5000 and specify too\n",
    "    tokenizer = Tokenizer(nb_words=max_features, split=' ')\n",
    "    \n",
    "    ### Feature mapping into tokens for train and test###\n",
    "    # Fit into text to generate tokens\n",
    "    tokenizer.fit_on_texts(df_train['Text'].values)\n",
    "    # Generate tokens in sequences on each word of sent\n",
    "    X_train = tokenizer.texts_to_sequences(df_train['Text'].values)\n",
    "    # Generate labels into each expaded dimesnion\n",
    "    y_train =  np.expand_dims(df_train['Label'].astype(int).values, -1)\n",
    "    \n",
    "    # Word index required for pretrained word vectors like Glove and fast text\n",
    "    if word_index:\n",
    "        word_index = tokenizer.word_index\n",
    "        print('Found %s unique tokens.' % len(word_index))\n",
    "    \n",
    "    # Same for test set\n",
    "    X_test  = tokenizer.texts_to_sequences(df_test['Text'].values)\n",
    "    y_test  =  np.expand_dims(df_test['Label'].astype(int).values, -1)\n",
    "\n",
    "    # Apdding the sequnce in max sequnce length i.e snetence length which in our case we take to be default 100\n",
    "    X_train = sequence.pad_sequences(X_train, maxlen=max_seq_length)\n",
    "    X_test  = sequence.pad_sequences(X_test,  maxlen=max_seq_length)\n",
    "    \n",
    "    # Drop columns\n",
    "    X =  df_train.drop(columns = ['Label', 'Text']).values\n",
    "    y =  df_test.drop (columns = ['Label', 'Text']).values\n",
    "\n",
    "    # Normalsie the other features for bringing them into proper range                 \n",
    "    scaler  = MinMaxScaler()\n",
    "    X = scaler.fit_transform(X)\n",
    "    y = scaler.fit_transform(y)\n",
    "    \n",
    "    # Concatenate them into proper numpy format to return the values\n",
    "    X_train = np.concatenate((X,X_train), axis = 1)\n",
    "    X_test  = np.concatenate((y, X_test), axis = 1)\n",
    "    \n",
    "    return X_train,y_train, X_test, y_test,word_index"
   ]
  },
  {
   "cell_type": "code",
   "execution_count": 89,
   "metadata": {
    "id": "iQPknB3Lnzbm"
   },
   "outputs": [],
   "source": [
    "'''\n",
    "Info:\n",
    "1. This function takes in the file of embedding with the dict \"word_index\" which gives index of each word and word \n",
    "2. This function generates embedding with the help of specified embedding file in our case Glove or FastText\n",
    "3. It returns embedding matrix along with with embedding of each word in our specified vector length of 'embedding_size'\n",
    "\n",
    "'''\n",
    "def generate_embedding(dir, embedding_file, EMBEDDING_SIZE, word_index):\n",
    "    # For index dict\n",
    "    embeddings_index = {}\n",
    "\n",
    "    # Open the embedded file\n",
    "    f = open(dir + '/' + embedding_file)\n",
    "    # Iterate in each line\n",
    "    for line in f:\n",
    "        values = line.split()\n",
    "        word = values[0]\n",
    "        # Try to get the embedding\n",
    "        try:\n",
    "            coefs = np.asarray(values[1:], dtype='float32')\n",
    "            embeddings_index[word] = coefficients\n",
    "        # If not then pass\n",
    "        except:\n",
    "            pass\n",
    "    # Close the file forsaving RAM and i/o\n",
    "    f.close()\n",
    "\n",
    "    print('Found %s word vectors.' % len(embeddings_index))\n",
    "\n",
    "    # Generate embedding in our specified size\n",
    "    embedding_matrix = np.zeros((len(word_index) + 1, EMBEDDING_SIZE))\n",
    "\n",
    "    # For each word in our corpus get embeddings\n",
    "    \n",
    "    for word, i in word_index.items():\n",
    "        embedding_vector = embeddings_index.get(word)\n",
    "        # words not found in embedding index will be all-zeros.\n",
    "        if embedding_vector is not None:\n",
    "            embedding_matrix[i] = embedding_vector\n",
    "        else:\n",
    "            embedding_matrix[i] = 0\n",
    "\n",
    "    return embedding_matrix"
   ]
  },
  {
   "cell_type": "code",
   "execution_count": 6,
   "metadata": {
    "id": "HdDT6aXgCMRw"
   },
   "outputs": [],
   "source": [
    "def display_history(history):\n",
    "    \"\"\"Summarize history for accuracy and loss.\n",
    "    \"\"\"\n",
    "    plt.plot(history.history['accuracy'])\n",
    "    plt.plot(history.history['val_accuracy'])\n",
    "    plt.title('Model accuracy')\n",
    "    plt.ylabel('accuracy')\n",
    "    plt.xlabel('epoch')\n",
    "    plt.legend(['train', 'valid'], loc='upper left')\n",
    "    plt.show()\n",
    "    plt.plot(history.history['loss'])\n",
    "    plt.plot(history.history['val_loss'])\n",
    "    plt.title('Model loss')\n",
    "    plt.ylabel('loss')\n",
    "    plt.xlabel('epoch')\n",
    "    plt.legend(['train', 'valid'], loc='upper left')\n",
    "    plt.show()\n",
    "    "
   ]
  },
  {
   "cell_type": "markdown",
   "metadata": {
    "id": "ndzDnadP8oMF"
   },
   "source": [
    "For plotting confusion matrix and watching the other metrics"
   ]
  },
  {
   "cell_type": "markdown",
   "metadata": {
    "id": "pIN2ACcXOumq"
   },
   "source": [
    "## Keras Word embedding + LSTM"
   ]
  },
  {
   "cell_type": "markdown",
   "metadata": {
    "id": "lqwUu60SuE6i"
   },
   "source": [
    "*Let's define some heuristics for our neural network model*"
   ]
  },
  {
   "cell_type": "code",
   "execution_count": 115,
   "metadata": {
    "id": "bwDA07hzTBUI"
   },
   "outputs": [],
   "source": [
    "# Specify LSTM size\n",
    "LSTM_CELL_SIZE  = 64\n",
    "# Specify batch size\n",
    "BATCH_SIZE      = 512\n",
    "# LSTM tends to overfit so better for small EPOCHS\n",
    "EPOCHS          = 5\n",
    "# To avoid overfitting\n",
    "DROPOUT_RATE    = 0.5\n",
    "# Define Embedding size\n",
    "EMBEDDING_SIZE  = 64\n",
    "# This is the vocab of trained words in our network\n",
    "MAX_FEATURES    = 50000\n",
    "# Dense layer to be trained in network\n",
    "DENSE_LAYER     = 32"
   ]
  },
  {
   "cell_type": "code",
   "execution_count": 116,
   "metadata": {
    "id": "KasyEQLEney6"
   },
   "outputs": [],
   "source": [
    "# Let's generate our features accordingly\n",
    "X_train, y_train, X_test, y_test,_ = generate_lstm_features(df_train, df_test, max_features = MAX_FEATURES , max_seq_length = 200)"
   ]
  },
  {
   "cell_type": "code",
   "execution_count": 117,
   "metadata": {
    "cellView": "code",
    "colab": {
     "base_uri": "https://localhost:8080/",
     "height": 1000
    },
    "id": "BaKiAS4wTB0R",
    "outputId": "0dda549c-586d-43cc-a918-2d088c182f5c"
   },
   "outputs": [
    {
     "name": "stdout",
     "output_type": "stream",
     "text": [
      "WARNING:tensorflow:Layer lstm will not use cuDNN kernel since it doesn't meet the cuDNN kernel criteria. It will use generic GPU kernel as fallback when running on GPU\n",
      "Model: \"sequential\"\n",
      "_________________________________________________________________\n",
      "Layer (type)                 Output Shape              Param #   \n",
      "=================================================================\n",
      "embedding (Embedding)        (None, 215, 64)           3200064   \n",
      "_________________________________________________________________\n",
      "spatial_dropout1d (SpatialDr (None, 215, 64)           0         \n",
      "_________________________________________________________________\n",
      "lstm (LSTM)                  (None, 64)                33024     \n",
      "_________________________________________________________________\n",
      "dense (Dense)                (None, 32)                2080      \n",
      "_________________________________________________________________\n",
      "dropout (Dropout)            (None, 32)                0         \n",
      "_________________________________________________________________\n",
      "dense_1 (Dense)              (None, 1)                 33        \n",
      "=================================================================\n",
      "Total params: 3,235,201\n",
      "Trainable params: 3,235,201\n",
      "Non-trainable params: 0\n",
      "_________________________________________________________________\n"
     ]
    },
    {
     "data": {
      "image/png": "[encoded data removed]",
      "text/plain": [
       "<IPython.core.display.Image object>"
      ]
     },
     "execution_count": 117,
     "metadata": {
      "tags": []
     },
     "output_type": "execute_result"
    }
   ],
   "source": [
    "# Reset the graph\n",
    "be.clear_session()\n",
    "\n",
    "# NOTE: We are using sequential\n",
    "model = Sequential()\n",
    "\n",
    "# For early callback and model checkpoint\n",
    "model_checkpoint_callback = ModelCheckpoint(filepath=checkpoint_filepath, save_weights_only=True, monitor='val_loss', mode='min', save_best_only=True)\n",
    "\n",
    "### create and fit the LSTM network ###\n",
    "\n",
    "# Embedding layer with features and input length #\n",
    "model.add(Embedding(MAX_FEATURES + 1, EMBEDDING_SIZE, input_length = X_train.shape[1] ,mask_zero=True))\n",
    "\n",
    "# Spatial Dropout layer  promote independence between feature maps\n",
    "model.add(SpatialDropout1D(DROPOUT_RATE))\n",
    "\n",
    "# One layer LSTM with params and regularization and intialization\n",
    "model.add(LSTM(LSTM_CELL_SIZE,activation='tanh',kernel_regularizer=l1(0.001), recurrent_dropout=DROPOUT_RATE, dropout=DROPOUT_RATE ))\n",
    "\n",
    "# Dense layer added with dropout \n",
    "model.add(Dense(DENSE_LAYER,activation = 'tanh',kernel_regularizer=l1(0.001), bias_initializer='he_uniform'))\n",
    "model.add(Dropout(DROPOUT_RATE))\n",
    "\n",
    "# Prediction layer with 'sigmoid' activation for binary classification\n",
    "model.add(Dense(1,activation='sigmoid'))\n",
    "\n",
    "# Compliling using 'BCE'  with Adam and accuracy as metric\n",
    "model.compile(loss = 'binary_crossentropy', optimizer=Adam(lr=0.001), metrics = ['accuracy'])\n",
    "model.summary()\n",
    "plot_model(model)"
   ]
  },
  {
   "cell_type": "code",
   "execution_count": null,
   "metadata": {
    "colab": {
     "base_uri": "https://localhost:8080/"
    },
    "id": "8nxo5r1FbpKl",
    "outputId": "570cd05a-fd58-46a5-b9f9-1e4f34b15e3a"
   },
   "outputs": [
    {
     "name": "stdout",
     "output_type": "stream",
     "text": [
      "Epoch 1/5\n",
      "49/49 [==============================] - 50s 1s/step - loss: 1.6650 - accuracy: 0.5651 - val_loss: 1.1864 - val_accuracy: 0.7844\n",
      "Epoch 2/5\n",
      "49/49 [==============================] - 49s 991ms/step - loss: 0.8789 - accuracy: 0.8322 - val_loss: 0.6485 - val_accuracy: 0.8535\n",
      "Epoch 3/5\n",
      "49/49 [==============================] - 49s 1s/step - loss: 0.4999 - accuracy: 0.8926 - val_loss: 0.4719 - val_accuracy: 0.8709\n",
      "Epoch 4/5\n",
      "49/49 [==============================] - 48s 978ms/step - loss: 0.3783 - accuracy: 0.9137 - val_loss: 0.4638 - val_accuracy: 0.8637\n",
      "Epoch 5/5\n",
      "49/49 [==============================] - 48s 974ms/step - loss: 0.3165 - accuracy: 0.9260 - val_loss: 0.4182 - val_accuracy: 0.8642\n",
      "CPU times: user 5min 49s, sys: 50.9 s, total: 6min 40s\n",
      "Wall time: 4min 12s\n"
     ]
    }
   ],
   "source": [
    "%%time\n",
    "with tf.device('/gpu:0' and '/gpu:1'):\n",
    "    history = model.fit(X_train, y_train,epochs=EPOCHS, batch_size=BATCH_SIZE, verbose = 1,callbacks=[model_checkpoint_callback], validation_data = (X_test, y_test))  "
   ]
  },
  {
   "cell_type": "code",
   "execution_count": null,
   "metadata": {
    "colab": {
     "base_uri": "https://localhost:8080/",
     "height": 573
    },
    "id": "tjpGABp6Cg3x",
    "outputId": "fdc9383c-714c-4d4a-fa80-11f0b2ea2bd2"
   },
   "outputs": [
    {
     "data": {
      "image/png": "[encoded data removed]",
      "text/plain": [
       "<Figure size 432x288 with 1 Axes>"
      ]
     },
     "metadata": {
      "needs_background": "light",
      "tags": []
     },
     "output_type": "display_data"
    },
    {
     "data": {
      "image/png": "[encoded data removed]",
      "text/plain": [
       "<Figure size 432x288 with 1 Axes>"
      ]
     },
     "metadata": {
      "needs_background": "light",
      "tags": []
     },
     "output_type": "display_data"
    }
   ],
   "source": [
    "display_history(history)"
   ]
  },
  {
   "cell_type": "markdown",
   "metadata": {
    "id": "7Rl04jQwDA-Y"
   },
   "source": [
    "*Observations*\n",
    "\n",
    "<div class=\"alert alert-block alert-warning\">\n",
    "\n",
    "Here the model performs suprsingly well without pretrained vectors with proper feature selection but tends to overfit\n",
    "    \n",
    "</div>"
   ]
  },
  {
   "cell_type": "markdown",
   "metadata": {
    "id": "4jx3JNy0J_f8"
   },
   "source": [
    "## Glove based embedding + LSTM\n",
    "\n",
    "As discussed above we will be using pretrained embeddings in this case though in the architecture we use bi-directional LSTM"
   ]
  },
  {
   "cell_type": "code",
   "execution_count": 119,
   "metadata": {
    "colab": {
     "base_uri": "https://localhost:8080/"
    },
    "id": "FBnuvkc6jZkr",
    "outputId": "5968a898-0341-49c6-be28-50daa2d892ed"
   },
   "outputs": [
    {
     "name": "stdout",
     "output_type": "stream",
     "text": [
      "Found 66339 unique tokens.\n"
     ]
    }
   ],
   "source": [
    "X_train, y_train, X_test, y_test, word_index = generate_lstm_features(df_train, df_test, word_index = True)"
   ]
  },
  {
   "cell_type": "code",
   "execution_count": 120,
   "metadata": {
    "id": "oGqgJvEmniUJ"
   },
   "outputs": [],
   "source": [
    "# Same as above\n",
    "LSTM_CELL_SIZE  = 64\n",
    "BATCH_SIZE      = 1024\n",
    "EPOCHS          = 5\n",
    "DROPOUT_RATE    = 0.5\n",
    "EMBEDDING_SIZE  = 128\n",
    "# We use it as found word index in the tokenisation process\n",
    "MAX_FEATURES    = len(word_index) +  1\n",
    "DENSE_LAYER     = 256"
   ]
  },
  {
   "cell_type": "markdown",
   "metadata": {
    "id": "R-tEyb2ix00o"
   },
   "source": [
    "Time to do embedding with the found word_index in the corpus"
   ]
  },
  {
   "cell_type": "code",
   "execution_count": 121,
   "metadata": {
    "colab": {
     "base_uri": "https://localhost:8080/"
    },
    "id": "claMTrGfow7l",
    "outputId": "44907a4c-9080-4516-aab7-bbf01a403357"
   },
   "outputs": [
    {
     "name": "stdout",
     "output_type": "stream",
     "text": [
      "Found 0 word vectors.\n",
      "CPU times: user 31.2 s, sys: 506 ms, total: 31.7 s\n",
      "Wall time: 31.8 s\n"
     ]
    }
   ],
   "source": [
    "%%time\n",
    "# Let's use Glove Embedding\n",
    "embedding_matrix = generate_embedding(dir, embedding_file = 'glove.6B.300d.txt' ,EMBEDDING_SIZE  =  EMBEDDING_SIZE, word_index = word_index)"
   ]
  },
  {
   "cell_type": "code",
   "execution_count": 122,
   "metadata": {
    "colab": {
     "base_uri": "https://localhost:8080/",
     "height": 1000
    },
    "id": "Xjkh9Um5XcKI",
    "outputId": "7ad84934-d54c-4be3-8184-817607e94c4e"
   },
   "outputs": [
    {
     "name": "stdout",
     "output_type": "stream",
     "text": [
      "WARNING:tensorflow:Layer lstm will not use cuDNN kernel since it doesn't meet the cuDNN kernel criteria. It will use generic GPU kernel as fallback when running on GPU\n",
      "Model: \"sequential\"\n",
      "_________________________________________________________________\n",
      "Layer (type)                 Output Shape              Param #   \n",
      "=================================================================\n",
      "embedding (Embedding)        (None, 115, 128)          8491520   \n",
      "_________________________________________________________________\n",
      "spatial_dropout1d (SpatialDr (None, 115, 128)          0         \n",
      "_________________________________________________________________\n",
      "lstm (LSTM)                  (None, 64)                49408     \n",
      "_________________________________________________________________\n",
      "dense (Dense)                (None, 256)               16640     \n",
      "_________________________________________________________________\n",
      "dropout (Dropout)            (None, 256)               0         \n",
      "_________________________________________________________________\n",
      "dense_1 (Dense)              (None, 1)                 257       \n",
      "=================================================================\n",
      "Total params: 8,557,825\n",
      "Trainable params: 8,557,825\n",
      "Non-trainable params: 0\n",
      "_________________________________________________________________\n"
     ]
    },
    {
     "data": {
      "image/png": "[encoded data removed]",
      "text/plain": [
       "<IPython.core.display.Image object>"
      ]
     },
     "execution_count": 122,
     "metadata": {
      "tags": []
     },
     "output_type": "execute_result"
    }
   ],
   "source": [
    "# Reset the graph\n",
    "be.clear_session()\n",
    "\n",
    "# NOTE: We are using sequential\n",
    "model = Sequential()\n",
    "\n",
    "# For early callback and model checkpoint\n",
    "model_checkpoint_callback = ModelCheckpoint(filepath=checkpoint_filepath, save_weights_only=True, monitor='val_loss', mode='min', save_best_only=True)\n",
    "\n",
    "### create and fit the LSTM network ###\n",
    "\n",
    "# Embedding layer with features and input length along with embedding matrix as weights\n",
    "model.add(Embedding(MAX_FEATURES, EMBEDDING_SIZE,  weights=[embedding_matrix],  input_length = X_train.shape[1], trainable = True, mask_zero = True))\n",
    "\n",
    "# Spatial Dropout layer  promote independence between feature maps\n",
    "model.add(SpatialDropout1D(DROPOUT_RATE))\n",
    "\n",
    "# One layer Bidirectional LSTM with params and regularization and intialization\n",
    "model.add(LSTM(LSTM_CELL_SIZE,activation='tanh',kernel_regularizer=l1(0.001), recurrent_dropout=DROPOUT_RATE, dropout=DROPOUT_RATE ))\n",
    "\n",
    "# Dense layer added with dropout \n",
    "model.add(Dense(DENSE_LAYER,activation = 'tanh',kernel_regularizer=l1(0.001), bias_initializer='he_uniform'))\n",
    "model.add(Dropout(DROPOUT_RATE))\n",
    "\n",
    "# Prediction layer with 'sigmoid' activation for binary classification\n",
    "model.add(Dense(1,activation='sigmoid'))\n",
    "\n",
    "# Compliling using 'BCE'  with Adam and accuracy as metric\n",
    "model.compile(loss = 'binary_crossentropy', optimizer=Adam(lr=0.01), metrics = ['accuracy'])\n",
    "model.summary()\n",
    "plot_model(model)"
   ]
  },
  {
   "cell_type": "code",
   "execution_count": 107,
   "metadata": {
    "colab": {
     "base_uri": "https://localhost:8080/"
    },
    "id": "48VDswmKXcNt",
    "outputId": "ed10c6d0-9453-40c2-fe25-023a3269dd93"
   },
   "outputs": [
    {
     "name": "stdout",
     "output_type": "stream",
     "text": [
      "Epoch 1/5\n",
      "25/25 [==============================] - 25s 988ms/step - loss: 1.5980 - accuracy: 0.5406 - val_loss: 0.9792 - val_accuracy: 0.5000\n",
      "Epoch 2/5\n",
      "25/25 [==============================] - 25s 988ms/step - loss: 0.7593 - accuracy: 0.7696 - val_loss: 0.6598 - val_accuracy: 0.7908\n",
      "Epoch 3/5\n",
      "25/25 [==============================] - 24s 979ms/step - loss: 0.4565 - accuracy: 0.8827 - val_loss: 0.4717 - val_accuracy: 0.8469\n",
      "Epoch 4/5\n",
      "25/25 [==============================] - 24s 955ms/step - loss: 0.3558 - accuracy: 0.9180 - val_loss: 0.5133 - val_accuracy: 0.8464\n",
      "Epoch 5/5\n",
      "25/25 [==============================] - 23s 935ms/step - loss: 0.2764 - accuracy: 0.9455 - val_loss: 0.5324 - val_accuracy: 0.8491\n",
      "CPU times: user 2min 53s, sys: 22.5 s, total: 3min 15s\n",
      "Wall time: 2min 9s\n"
     ]
    }
   ],
   "source": [
    "%%time\n",
    "with tf.device('/gpu:0' and '/gpu:1'):\n",
    "    history = model.fit(X_train, y_train,epochs=EPOCHS, batch_size=BATCH_SIZE, verbose = 1,callbacks=[model_checkpoint_callback], validation_data = (X_test, y_test))  "
   ]
  },
  {
   "cell_type": "code",
   "execution_count": 108,
   "metadata": {
    "colab": {
     "base_uri": "https://localhost:8080/",
     "height": 573
    },
    "id": "9S3PzOuMCp7X",
    "outputId": "4542cdaf-5266-498b-a76a-ba0cdff97d20"
   },
   "outputs": [
    {
     "data": {
      "image/png": "[encoded data removed]",
      "text/plain": [
       "<Figure size 432x288 with 1 Axes>"
      ]
     },
     "metadata": {
      "needs_background": "light",
      "tags": []
     },
     "output_type": "display_data"
    },
    {
     "data": {
      "image/png": "[encoded data removed]",
      "text/plain": [
       "<Figure size 432x288 with 1 Axes>"
      ]
     },
     "metadata": {
      "needs_background": "light",
      "tags": []
     },
     "output_type": "display_data"
    }
   ],
   "source": [
    "display_history(history)"
   ]
  },
  {
   "cell_type": "markdown",
   "metadata": {
    "id": "WDz0pqbMCxoz"
   },
   "source": [
    "*Observations*\n",
    "\n",
    "<div class=\"alert alert-block alert-warning\">\n",
    "\n",
    "The model performs mostly similar in terms of results with trained embeddings too\n",
    "    \n",
    "</div>"
   ]
  },
  {
   "cell_type": "code",
   "execution_count": 109,
   "metadata": {
    "id": "jmVyiq9n0df1"
   },
   "outputs": [],
   "source": [
    "# Same as above\n",
    "LSTM_CELL_SIZE  = 128\n",
    "BATCH_SIZE      = 512\n",
    "EPOCHS          = 5\n",
    "DROPOUT_RATE    = 0.5\n",
    "EMBEDDING_SIZE  = 128\n",
    "# We use it as found word index in the tokenisation process\n",
    "MAX_FEATURES    = len(word_index) +  1\n",
    "DENSE_LAYER_1    = 128\n",
    "DENSE_LAYER_2    = 64"
   ]
  },
  {
   "cell_type": "code",
   "execution_count": 110,
   "metadata": {
    "colab": {
     "base_uri": "https://localhost:8080/"
    },
    "id": "i3iQ2a8vx-Kx",
    "outputId": "852503ac-2059-443f-de5c-4084c820434b"
   },
   "outputs": [
    {
     "name": "stdout",
     "output_type": "stream",
     "text": [
      "Found 0 word vectors.\n",
      "CPU times: user 1min 23s, sys: 1.94 s, total: 1min 24s\n",
      "Wall time: 1min 29s\n"
     ]
    }
   ],
   "source": [
    "%%time\n",
    "# Let's use fast text Embedding\n",
    "embedding_matrix = generate_embedding(dir, embedding_file = 'wiki-news-300d-1M.vec',EMBEDDING_SIZE  =  EMBEDDING_SIZE, word_index = word_index)"
   ]
  },
  {
   "cell_type": "markdown",
   "metadata": {
    "id": "LmiPlzIPKvCj"
   },
   "source": [
    "\n",
    "<div class=\"alert alert-block alert-warning\">\n",
    "\n",
    "Note  **different architecture** has been used here with one extra layer as embedding size is more\n",
    "    \n",
    "</div>"
   ]
  },
  {
   "cell_type": "code",
   "execution_count": 123,
   "metadata": {
    "colab": {
     "base_uri": "https://localhost:8080/",
     "height": 1000
    },
    "id": "VU6ry87Bx-Pl",
    "outputId": "f3a5c26b-f19f-4ab3-dc1b-6a67c7868488"
   },
   "outputs": [
    {
     "name": "stdout",
     "output_type": "stream",
     "text": [
      "WARNING:tensorflow:Layer lstm will not use cuDNN kernel since it doesn't meet the cuDNN kernel criteria. It will use generic GPU kernel as fallback when running on GPU\n",
      "Model: \"sequential\"\n",
      "_________________________________________________________________\n",
      "Layer (type)                 Output Shape              Param #   \n",
      "=================================================================\n",
      "embedding (Embedding)        (None, 115, 128)          8491520   \n",
      "_________________________________________________________________\n",
      "spatial_dropout1d (SpatialDr (None, 115, 128)          0         \n",
      "_________________________________________________________________\n",
      "lstm (LSTM)                  (None, 64)                49408     \n",
      "_________________________________________________________________\n",
      "dense (Dense)                (None, 256)               16640     \n",
      "_________________________________________________________________\n",
      "dropout (Dropout)            (None, 256)               0         \n",
      "_________________________________________________________________\n",
      "dense_1 (Dense)              (None, 256)               65792     \n",
      "_________________________________________________________________\n",
      "dropout_1 (Dropout)          (None, 256)               0         \n",
      "_________________________________________________________________\n",
      "dense_2 (Dense)              (None, 1)                 257       \n",
      "=================================================================\n",
      "Total params: 8,623,617\n",
      "Trainable params: 8,623,617\n",
      "Non-trainable params: 0\n",
      "_________________________________________________________________\n"
     ]
    },
    {
     "data": {
      "image/png": "[encoded data removed]",
      "text/plain": [
       "<IPython.core.display.Image object>"
      ]
     },
     "execution_count": 123,
     "metadata": {
      "tags": []
     },
     "output_type": "execute_result"
    }
   ],
   "source": [
    "# Reset the graph\n",
    "be.clear_session()\n",
    "\n",
    "# NOTE: We are using sequential\n",
    "model = Sequential()\n",
    "\n",
    "# For early callback and model checkpoint\n",
    "model_checkpoint_callback = ModelCheckpoint(filepath=checkpoint_filepath, save_weights_only=True, monitor='val_loss', mode='min', save_best_only=True)\n",
    "\n",
    "### create and fit the LSTM network ###\n",
    "\n",
    "# Embedding layer with features and input length\n",
    "model.add(Embedding(MAX_FEATURES, EMBEDDING_SIZE, weights=[embedding_matrix], input_length = X_train.shape[1] ,mask_zero=True, trainable = True))\n",
    "\n",
    "# Spatial Dropout layer  promote independence between feature maps\n",
    "model.add(SpatialDropout1D(DROPOUT_RATE))\n",
    "\n",
    "#  Bidirectional LSTM with params and regularization and intialization\n",
    "model.add(LSTM(LSTM_CELL_SIZE,activation='tanh',kernel_regularizer=l1(0.001), recurrent_dropout=DROPOUT_RATE, dropout=DROPOUT_RATE ))\n",
    "\n",
    "# Dense layer 1 added with dropout \n",
    "model.add(Dense(DENSE_LAYER,activation = 'tanh',kernel_regularizer=l1(0.001), bias_initializer='he_uniform'))\n",
    "model.add(Dropout(DROPOUT_RATE))\n",
    "\n",
    "# Dense layer 2 added with dropout\n",
    "model.add(Dense(DENSE_LAYER,activation = 'tanh',kernel_regularizer=l1(0.001), bias_initializer='he_uniform'))\n",
    "model.add(Dropout(DROPOUT_RATE))\n",
    "\n",
    "# Prediction layer with 'sigmoid' activation for binary classification\n",
    "model.add(Dense(1,activation='sigmoid'))\n",
    "\n",
    "# Compliling using 'BCE'  with Adam and accuracy as metric\n",
    "model.compile(loss = 'binary_crossentropy', optimizer=Adam(lr=0.001), metrics = ['accuracy'])\n",
    "model.summary()\n",
    "plot_model(model)"
   ]
  },
  {
   "cell_type": "code",
   "execution_count": 113,
   "metadata": {
    "colab": {
     "base_uri": "https://localhost:8080/"
    },
    "id": "7P82C80G0syW",
    "outputId": "55cac262-1475-4002-8cee-b3dd5282d1ab"
   },
   "outputs": [
    {
     "name": "stdout",
     "output_type": "stream",
     "text": [
      "Epoch 1/5\n",
      "49/49 [==============================] - 46s 937ms/step - loss: 0.5509 - accuracy: 0.9142 - val_loss: 0.5361 - val_accuracy: 0.8481\n",
      "Epoch 2/5\n",
      "49/49 [==============================] - 46s 939ms/step - loss: 0.3695 - accuracy: 0.9348 - val_loss: 0.5055 - val_accuracy: 0.8431\n",
      "Epoch 3/5\n",
      "49/49 [==============================] - 45s 928ms/step - loss: 0.3018 - accuracy: 0.9485 - val_loss: 0.6141 - val_accuracy: 0.8170\n",
      "Epoch 4/5\n",
      "49/49 [==============================] - 45s 917ms/step - loss: 0.2631 - accuracy: 0.9576 - val_loss: 0.6878 - val_accuracy: 0.8138\n",
      "Epoch 5/5\n",
      "49/49 [==============================] - 45s 925ms/step - loss: 0.2201 - accuracy: 0.9665 - val_loss: 0.6490 - val_accuracy: 0.8200\n",
      "CPU times: user 5min 20s, sys: 44.2 s, total: 6min 4s\n",
      "Wall time: 3min 52s\n"
     ]
    }
   ],
   "source": [
    "%%time\n",
    "with tf.device('/gpu:0' and '/gpu:1'):\n",
    "    history = model.fit(X_train, y_train,epochs=EPOCHS, batch_size=BATCH_SIZE, verbose = 1,callbacks=[model_checkpoint_callback], validation_data = (X_test, y_test)) "
   ]
  },
  {
   "cell_type": "code",
   "execution_count": 114,
   "metadata": {
    "colab": {
     "base_uri": "https://localhost:8080/",
     "height": 573
    },
    "id": "FghAlNCsCTJk",
    "outputId": "acfbe739-9c25-4d67-a5ef-05392b443be1"
   },
   "outputs": [
    {
     "data": {
      "image/png": "[encoded data removed]",
      "text/plain": [
       "<Figure size 432x288 with 1 Axes>"
      ]
     },
     "metadata": {
      "needs_background": "light",
      "tags": []
     },
     "output_type": "display_data"
    },
    {
     "data": {
      "image/png": "[encoded data removed]",
      "text/plain": [
       "<Figure size 432x288 with 1 Axes>"
      ]
     },
     "metadata": {
      "needs_background": "light",
      "tags": []
     },
     "output_type": "display_data"
    }
   ],
   "source": [
    "display_history(history)"
   ]
  },
  {
   "cell_type": "markdown",
   "metadata": {
    "id": "w7CZqiJYDFNJ"
   },
   "source": [
    "*Observations*\n",
    "\n",
    "<div class=\"alert alert-block alert-warning\">\n",
    "\n",
    "- Here the model performs considerably well only in training data than former two in terms of loss as well as accuracy as the embedding size is large.\n",
    "\n",
    "- But the problem, of overfitting still remains even when extensive **regularization** is used\n",
    "\n",
    "- With more computational power comes good accuracy which is always a tradeoff to decided when training a model\n",
    " \n",
    " *With great power comes great responsibilities*\n",
    "    \n",
    "</div>"
   ]
  },
  {
   "cell_type": "markdown",
   "metadata": {
    "id": "dFxSI1zoDHIc"
   },
   "source": [
    "## Conclusion\n",
    "\n",
    "- With LSTM although we acheive good accuracy there is always a bottleneck in terms of overfitting \n",
    "\n",
    "- Let's now go to some pre-trained defined models and check their performance. The first model we will see is [Fast text](https://colab.research.google.com/drive/18h3jLu03UEVc2wNPws7twBkevPKlhJ5V?usp=sharing)"
   ]
  },
  {
   "cell_type": "code",
   "execution_count": null,
   "metadata": {
    "id": "EBwYJU5IDrj7"
   },
   "outputs": [],
   "source": []
  }
 ],
 "metadata": {
  "accelerator": "GPU",
  "colab": {
   "collapsed_sections": [],
   "name": "LSTM_Models_IMDB.ipynb",
   "provenance": []
  },
  "kernelspec": {
   "display_name": "Python 3",
   "language": "python",
   "name": "python3"
  },
  "language_info": {
   "codemirror_mode": {
    "name": "ipython",
    "version": 3
   },
   "file_extension": ".py",
   "mimetype": "text/x-python",
   "name": "python",
   "nbconvert_exporter": "python",
   "pygments_lexer": "ipython3",
   "version": "3.7.3"
  }
 },
 "nbformat": 4,
 "nbformat_minor": 4
}
