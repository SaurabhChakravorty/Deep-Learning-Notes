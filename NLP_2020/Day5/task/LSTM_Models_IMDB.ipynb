{
 "cells": [
  {
   "cell_type": "code",
   "execution_count": 1,
   "metadata": {
    "colab": {
     "base_uri": "https://localhost:8080/",
     "height": 114
    },
    "executionInfo": {
     "elapsed": 931,
     "status": "ok",
     "timestamp": 1606947138453,
     "user": {
      "displayName": "Saurabh Chakravorty",
      "photoUrl": "https://lh3.googleusercontent.com/a-/AOh14Gg4i8aVesE-zqnMJttjboEDqonbdcW85GPg1Yfj5g=s64",
      "userId": "01575942328847603880"
     },
     "user_tz": -60
    },
    "id": "yr-n6P8AK3tN",
    "outputId": "6f328140-81a5-49db-8ea0-b62a56c32628"
   },
   "outputs": [
    {
     "data": {
      "text/html": [
       "<marquee style='width: 100%; color: red;'><b><li style=\"font-size:75px;\">Embedding + LSTM</li></b></marquee>"
      ],
      "text/plain": [
       "<IPython.core.display.HTML object>"
      ]
     },
     "metadata": {
      "tags": []
     },
     "output_type": "display_data"
    }
   ],
   "source": [
    "%%html\n",
    "<marquee style='width: 100%; color: red;'><b><li style=\"font-size:75px;\">Embedding + LSTM</li></b></marquee>"
   ]
  },
  {
   "cell_type": "markdown",
   "metadata": {
    "id": "khAoS-K0em7T"
   },
   "source": [
    "## Reading the data"
   ]
  },
  {
   "cell_type": "code",
   "execution_count": 2,
   "metadata": {
    "executionInfo": {
     "elapsed": 3456,
     "status": "ok",
     "timestamp": 1606947140995,
     "user": {
      "displayName": "Saurabh Chakravorty",
      "photoUrl": "https://lh3.googleusercontent.com/a-/AOh14Gg4i8aVesE-zqnMJttjboEDqonbdcW85GPg1Yfj5g=s64",
      "userId": "01575942328847603880"
     },
     "user_tz": -60
    },
    "id": "mnTX7UneECXv"
   },
   "outputs": [],
   "source": [
    "# Pip install dependencies if missing\n",
    "# Libraries\n",
    "import pandas as pd\n",
    "import numpy as np\n",
    "import os\n",
    "from termcolor import colored\n",
    "import warnings\n",
    "warnings.filterwarnings('ignore')\n",
    "from tensorflow.keras import Sequential\n",
    "from tensorflow.keras.layers import Dense, Dropout, Embedding, LSTM, SpatialDropout1D, Bidirectional, GlobalMaxPooling1D\n",
    "from tensorflow.keras import backend as be\n",
    "from tensorflow.keras.callbacks import ModelCheckpoint, LearningRateScheduler\n",
    "from tensorflow.keras.optimizers import Adadelta, Adam\n",
    "from tensorflow.keras.regularizers import l1, l2\n",
    "from keras.utils import multi_gpu_model\n",
    "from tensorflow.python.client import device_lib\n",
    "from sklearn.preprocessing import MinMaxScaler\n",
    "from keras.preprocessing import sequence\n",
    "from keras.preprocessing.text import Tokenizer\n",
    "from keras.callbacks import EarlyStopping\n",
    "import tensorflow as tf\n",
    "# from IPython.display import SVG\n",
    "# from keras.utils.vis_utils import model_to_dot\n",
    "from keras.utils import plot_model\n",
    "import matplotlib.pyplot as plt\n",
    "%matplotlib inline"
   ]
  },
  {
   "cell_type": "markdown",
   "metadata": {
    "id": "LTvWGD5YeqeB"
   },
   "source": [
    "*It's frustating but necessary*"
   ]
  },
  {
   "cell_type": "code",
   "execution_count": 3,
   "metadata": {
    "colab": {
     "base_uri": "https://localhost:8080/"
    },
    "executionInfo": {
     "elapsed": 21324,
     "status": "ok",
     "timestamp": 1606947158872,
     "user": {
      "displayName": "Saurabh Chakravorty",
      "photoUrl": "https://lh3.googleusercontent.com/a-/AOh14Gg4i8aVesE-zqnMJttjboEDqonbdcW85GPg1Yfj5g=s64",
      "userId": "01575942328847603880"
     },
     "user_tz": -60
    },
    "id": "c0SlsnQGddNM",
    "outputId": "9b7e6a2e-7ab4-4a11-c98a-626d84ba6879"
   },
   "outputs": [
    {
     "name": "stdout",
     "output_type": "stream",
     "text": [
      "Mounted at /content/drive\n"
     ]
    }
   ],
   "source": [
    "# Mount the drive\n",
    "from google.colab import drive\n",
    "drive.mount('/content/drive')"
   ]
  },
  {
   "cell_type": "code",
   "execution_count": 4,
   "metadata": {
    "executionInfo": {
     "elapsed": 21313,
     "status": "ok",
     "timestamp": 1606947158874,
     "user": {
      "displayName": "Saurabh Chakravorty",
      "photoUrl": "https://lh3.googleusercontent.com/a-/AOh14Gg4i8aVesE-zqnMJttjboEDqonbdcW85GPg1Yfj5g=s64",
      "userId": "01575942328847603880"
     },
     "user_tz": -60
    },
    "id": "VM3TqGE-ddQC"
   },
   "outputs": [],
   "source": [
    "# Go to the file created in Colab and specify your path\n",
    "dir = '/content/drive/MyDrive/IMDB_Data'\n",
    "\n",
    "# For saving the weights of model\n",
    "checkpoint_filepath = dir"
   ]
  },
  {
   "cell_type": "code",
   "execution_count": 5,
   "metadata": {
    "executionInfo": {
     "elapsed": 22578,
     "status": "ok",
     "timestamp": 1606947160148,
     "user": {
      "displayName": "Saurabh Chakravorty",
      "photoUrl": "https://lh3.googleusercontent.com/a-/AOh14Gg4i8aVesE-zqnMJttjboEDqonbdcW85GPg1Yfj5g=s64",
      "userId": "01575942328847603880"
     },
     "user_tz": -60
    },
    "id": "23KJOfTpdfkE"
   },
   "outputs": [],
   "source": [
    "# Reading in proper format from our mentioned file\n",
    "df_train = pd.read_pickle(dir + '/train_features.pkl')\n",
    "df_test  = pd.read_pickle(dir + '/test_features.pkl')"
   ]
  },
  {
   "cell_type": "markdown",
   "metadata": {
    "id": "B87MP3lofKXr"
   },
   "source": [
    "## Introduction\n",
    "\n",
    "*Enter the dark world of deep learning....*\n",
    "\n",
    "1. In this appproach we extensively use LSTM and embedding approach to generate feature representation and classification\n",
    "\n",
    "2. Although for tokenising we will use Kera's **tokenizer** for feature space embedding we will use a pretrained word vectors which we can download  from listed sources\n",
    "\n",
    "3. We take 3 approaches to train our model for **sentiment classiication** task which are listed as below:\n",
    "\n",
    "\n",
    "> **Keras Word embedding + LSTM**: In this simple approach we use keras embedding layer in vector space representation and then train the model for accuracy using LSTM and dense networks.\n",
    "\n",
    "\n",
    "> **Glove based embedding + LSTM** : In this modelling, we use pretrained wrd vector embedding which we have obtained from this [stanford site](https://nlp.stanford.edu/projects/glove/). This contains words in '1B' tokens in '300d' vector space. We further use bidirectional LSTM based approach to train our model for better accuracy and score.\n",
    "\n",
    "\n",
    "> **Fast Text embedding + LSTM** : Another type of embedding use here is fast text embedding which can be found [fast text website](https://fasttext.cc/docs/en/english-vectors.html).This contains words in '6B' tokens in '1M' vector space.We aim to improve higher accuracy and less overfitting in this model using the same approach.\n",
    "\n",
    "\n",
    "\n",
    "\n",
    "\n",
    "\n"
   ]
  },
  {
   "cell_type": "markdown",
   "metadata": {
    "id": "4Dps3Mk8k80j"
   },
   "source": [
    "**Note:** Both the file size are too large the given link can be helpful for embedding purpose\n",
    "\n",
    "**GloVE :** [glove.6B.300d.txt](glove.6B.300d.txt)\n",
    "\n",
    "**Fast Text :** ['wiki-news-300d-1M.vec'](https://drive.google.com/file/d/13KbYxZGtAzJc5aUL_4opQGFITIwncgC2/view?usp=sharing)"
   ]
  },
  {
   "cell_type": "markdown",
   "metadata": {
    "id": "9RFkQ6UKdeFY"
   },
   "source": [
    "## Data Preparation"
   ]
  },
  {
   "cell_type": "markdown",
   "metadata": {
    "id": "Nz6Zrbhfe0Q3"
   },
   "source": [
    "For the data preparation purpose into we use the following function which generates embeddings as well as uses our generated features(normalized) for the purpose of modelling"
   ]
  },
  {
   "cell_type": "code",
   "execution_count": 6,
   "metadata": {
    "executionInfo": {
     "elapsed": 22568,
     "status": "ok",
     "timestamp": 1606947160150,
     "user": {
      "displayName": "Saurabh Chakravorty",
      "photoUrl": "https://lh3.googleusercontent.com/a-/AOh14Gg4i8aVesE-zqnMJttjboEDqonbdcW85GPg1Yfj5g=s64",
      "userId": "01575942328847603880"
     },
     "user_tz": -60
    },
    "id": "oVtOlFAu1Hm1"
   },
   "outputs": [],
   "source": [
    "'''\n",
    "Info:\n",
    "1. Takes in train and test dataframe as input\n",
    "2. Generates tokens with the the help of keras tokenizer function with the help of vocab size\n",
    "3. Uses \"word_index\" count only if specified True in argument\n",
    "4. Tokenises and returns word_index as \"dict\" only if called else the same variable is returned as boolean vaule\n",
    "NOTE: The variable \"word_index\" is overwritten from bool to dict\n",
    "5. Tokenizes train and test on the word text\n",
    "6. Padding done to max sequence length which is by default 100 i.e we assume highest word in a sent of IMDB review is 100\n",
    "7. Generates labels in proper format \n",
    "8. Normalization is done on 'other features' which we have generated before to be added into embedding layer\n",
    "9. Returns 'X_train,y_train, X_test, y_test' in the form of numpy arrays\n",
    "'''\n",
    "\n",
    "\n",
    "def generate_lstm_features(df_train, df_test, max_features = 50000 , max_seq_length = 100, word_index = False):\n",
    "   \n",
    "    # Initialise the tokenizer with max vocab size by default 5000 and specify too\n",
    "    tokenizer = Tokenizer(nb_words=max_features, split=' ')\n",
    "    \n",
    "    ### Feature mapping into tokens for train and test###\n",
    "    # Fit into text to generate tokens\n",
    "    tokenizer.fit_on_texts(df_test['Text'].values)\n",
    "    # Generate tokens in sequences on each word of sent\n",
    "    X_train = tokenizer.texts_to_sequences(df_train['Text'].values)\n",
    "    # Generate labels into each expaded dimesnion\n",
    "    y_train =  np.expand_dims(df_train['Label'].astype(int).values, -1)\n",
    "    \n",
    "    # Word index required for pretrained word vectors like Glove and fast text\n",
    "    if word_index:\n",
    "        word_index = tokenizer.word_index\n",
    "        print('Found %s unique tokens.' % len(word_index))\n",
    "    \n",
    "    # Same for test set\n",
    "    X_test  = tokenizer.texts_to_sequences(df_test['Text'].values)\n",
    "    y_test  =  np.expand_dims(df_test['Label'].astype(int).values, -1)\n",
    "\n",
    "    # Apdding the sequnce in max sequnce length i.e snetence length which in our case we take to be default 100\n",
    "    X_train = sequence.pad_sequences(X_train, maxlen=max_seq_length)\n",
    "    X_test  = sequence.pad_sequences(X_test,  maxlen=max_seq_length)\n",
    "    \n",
    "    # Drop columns\n",
    "    X =  df_train.drop(columns = ['Label', 'Text']).values\n",
    "    y =  df_test.drop (columns = ['Label', 'Text']).values\n",
    "\n",
    "    # Normalsie the other features for bringing them into proper range                 \n",
    "    scaler  = MinMaxScaler()\n",
    "    X = scaler.fit_transform(X)\n",
    "    y = scaler.fit_transform(y)\n",
    "    \n",
    "    # Concatenate them into proper numpy format to return the values\n",
    "    X_train = np.concatenate((X,X_train), axis = 1)\n",
    "    X_test  = np.concatenate((y, X_test), axis = 1)\n",
    "    \n",
    "    return X_train,y_train, X_test, y_test,word_index"
   ]
  },
  {
   "cell_type": "code",
   "execution_count": 7,
   "metadata": {
    "executionInfo": {
     "elapsed": 22554,
     "status": "ok",
     "timestamp": 1606947160152,
     "user": {
      "displayName": "Saurabh Chakravorty",
      "photoUrl": "https://lh3.googleusercontent.com/a-/AOh14Gg4i8aVesE-zqnMJttjboEDqonbdcW85GPg1Yfj5g=s64",
      "userId": "01575942328847603880"
     },
     "user_tz": -60
    },
    "id": "iQPknB3Lnzbm"
   },
   "outputs": [],
   "source": [
    "'''\n",
    "Info:\n",
    "1. This function takes in the file of embedding with the dict \"word_index\" which gives index of each word and word \n",
    "2. This function generates embedding with the help of specified embedding file in our case Glove or FastText\n",
    "3. It returns embedding matrix along with with embedding of each word in our specified vector length of 'embedding_size'\n",
    "\n",
    "'''\n",
    "def generate_embedding(dir, embedding_file, EMBEDDING_SIZE, word_index):\n",
    "    # For index dict\n",
    "    embeddings_index = {}\n",
    "\n",
    "    # Open the embedded file\n",
    "    f = open(dir + '/' + embedding_file)\n",
    "    # Iterate in each line\n",
    "    for line in f:\n",
    "        values = line.split()\n",
    "        word = values[0]\n",
    "        # Try to get the embedding\n",
    "        try:\n",
    "            coefs = np.asarray(values[1:], dtype='float32')\n",
    "            embeddings_index[word] = coefficients\n",
    "        # If not then zero\n",
    "        except:\n",
    "            embeddings_index[word] = 0\n",
    "    # Close the file forsaving RAM and i/o\n",
    "    f.close()\n",
    "\n",
    "    print('Found %s word vectors.' % len(embeddings_index))\n",
    "\n",
    "    # Generate embedding in our specified size\n",
    "    embedding_matrix = np.zeros((len(word_index) + 1, EMBEDDING_SIZE))\n",
    "\n",
    "    # For each word in our corpus get embeddings\n",
    "    for word, i in word_index.items():\n",
    "        embedding_vector = embeddings_index.get(word)\n",
    "\n",
    "        # words not found in embedding index will be all-zeros.\n",
    "        if embedding_vector is not None:\n",
    "            embedding_matrix[i] = embedding_vector\n",
    "\n",
    "    return embedding_matrix"
   ]
  },
  {
   "cell_type": "code",
   "execution_count": 8,
   "metadata": {
    "executionInfo": {
     "elapsed": 22542,
     "status": "ok",
     "timestamp": 1606947160154,
     "user": {
      "displayName": "Saurabh Chakravorty",
      "photoUrl": "https://lh3.googleusercontent.com/a-/AOh14Gg4i8aVesE-zqnMJttjboEDqonbdcW85GPg1Yfj5g=s64",
      "userId": "01575942328847603880"
     },
     "user_tz": -60
    },
    "id": "HdDT6aXgCMRw"
   },
   "outputs": [],
   "source": [
    "def display_history(history):\n",
    "    \"\"\"Summarize history for accuracy and loss.\n",
    "    \"\"\"\n",
    "    plt.plot(history.history['accuracy'])\n",
    "    plt.plot(history.history['val_accuracy'])\n",
    "    plt.title('Model accuracy')\n",
    "    plt.ylabel('accuracy')\n",
    "    plt.xlabel('epoch')\n",
    "    plt.legend(['train', 'valid'], loc='upper left')\n",
    "    plt.show()\n",
    "    plt.plot(history.history['loss'])\n",
    "    plt.plot(history.history['val_loss'])\n",
    "    plt.title('Model loss')\n",
    "    plt.ylabel('loss')\n",
    "    plt.xlabel('epoch')\n",
    "    plt.legend(['train', 'valid'], loc='upper left')\n",
    "    plt.show()\n",
    "    "
   ]
  },
  {
   "cell_type": "markdown",
   "metadata": {
    "id": "ndzDnadP8oMF"
   },
   "source": [
    "For plotting confusion matrix and watching the other metrics"
   ]
  },
  {
   "cell_type": "markdown",
   "metadata": {
    "id": "pIN2ACcXOumq"
   },
   "source": [
    "## Keras Word embedding + LSTM"
   ]
  },
  {
   "cell_type": "markdown",
   "metadata": {
    "id": "lqwUu60SuE6i"
   },
   "source": [
    "*Let's define some heuristics for our neural network model*"
   ]
  },
  {
   "cell_type": "code",
   "execution_count": 9,
   "metadata": {
    "executionInfo": {
     "elapsed": 22531,
     "status": "ok",
     "timestamp": 1606947160155,
     "user": {
      "displayName": "Saurabh Chakravorty",
      "photoUrl": "https://lh3.googleusercontent.com/a-/AOh14Gg4i8aVesE-zqnMJttjboEDqonbdcW85GPg1Yfj5g=s64",
      "userId": "01575942328847603880"
     },
     "user_tz": -60
    },
    "id": "bwDA07hzTBUI"
   },
   "outputs": [],
   "source": [
    "# Specify LSTM size\n",
    "LSTM_CELL_SIZE  = 64\n",
    "# Specify batch size\n",
    "BATCH_SIZE      = 512\n",
    "# LSTM tends to overfit so better for small EPOCHS\n",
    "EPOCHS          = 5\n",
    "# To avoid overfitting\n",
    "DROPOUT_RATE    = 0.5\n",
    "# Define Embedding size\n",
    "EMBEDDING_SIZE  = 64\n",
    "# This is the vocab of trained words in our network\n",
    "MAX_FEATURES    = 50000\n",
    "# Dense layer to be trained in network\n",
    "DENSE_LAYER     = 32"
   ]
  },
  {
   "cell_type": "code",
   "execution_count": 10,
   "metadata": {
    "executionInfo": {
     "elapsed": 27589,
     "status": "ok",
     "timestamp": 1606947165222,
     "user": {
      "displayName": "Saurabh Chakravorty",
      "photoUrl": "https://lh3.googleusercontent.com/a-/AOh14Gg4i8aVesE-zqnMJttjboEDqonbdcW85GPg1Yfj5g=s64",
      "userId": "01575942328847603880"
     },
     "user_tz": -60
    },
    "id": "KasyEQLEney6"
   },
   "outputs": [],
   "source": [
    "# Let's generate our features accordingly\n",
    "X_train, y_train, X_test, y_test,_ = generate_lstm_features(df_train, df_test, max_features = MAX_FEATURES , max_seq_length = 200)"
   ]
  },
  {
   "cell_type": "code",
   "execution_count": 11,
   "metadata": {
    "cellView": "code",
    "colab": {
     "base_uri": "https://localhost:8080/"
    },
    "executionInfo": {
     "elapsed": 32985,
     "status": "ok",
     "timestamp": 1606947170628,
     "user": {
      "displayName": "Saurabh Chakravorty",
      "photoUrl": "https://lh3.googleusercontent.com/a-/AOh14Gg4i8aVesE-zqnMJttjboEDqonbdcW85GPg1Yfj5g=s64",
      "userId": "01575942328847603880"
     },
     "user_tz": -60
    },
    "id": "BaKiAS4wTB0R",
    "outputId": "2981d7a9-6ce1-495b-8cb4-e13c0c05f5ea"
   },
   "outputs": [
    {
     "name": "stdout",
     "output_type": "stream",
     "text": [
      "WARNING:tensorflow:Layer lstm will not use cuDNN kernel since it doesn't meet the cuDNN kernel criteria. It will use generic GPU kernel as fallback when running on GPU\n",
      "Model: \"sequential\"\n",
      "_________________________________________________________________\n",
      "Layer (type)                 Output Shape              Param #   \n",
      "=================================================================\n",
      "embedding (Embedding)        (None, 215, 64)           3200064   \n",
      "_________________________________________________________________\n",
      "spatial_dropout1d (SpatialDr (None, 215, 64)           0         \n",
      "_________________________________________________________________\n",
      "lstm (LSTM)                  (None, 64)                33024     \n",
      "_________________________________________________________________\n",
      "dense (Dense)                (None, 32)                2080      \n",
      "_________________________________________________________________\n",
      "dropout (Dropout)            (None, 32)                0         \n",
      "_________________________________________________________________\n",
      "dense_1 (Dense)              (None, 1)                 33        \n",
      "=================================================================\n",
      "Total params: 3,235,201\n",
      "Trainable params: 3,235,201\n",
      "Non-trainable params: 0\n",
      "_________________________________________________________________\n"
     ]
    }
   ],
   "source": [
    "# Reset the graph\n",
    "be.clear_session()\n",
    "\n",
    "# NOTE: We are using sequential\n",
    "model = Sequential()\n",
    "\n",
    "# For early callback and model checkpoint\n",
    "model_checkpoint_callback = ModelCheckpoint(filepath=checkpoint_filepath, save_weights_only=True, monitor='val_loss', mode='min', save_best_only=True)\n",
    "\n",
    "### create and fit the LSTM network ###\n",
    "\n",
    "# Embedding layer with features and input length #\n",
    "model.add(Embedding(MAX_FEATURES + 1, EMBEDDING_SIZE, input_length = X_train.shape[1] ,mask_zero=True))\n",
    "\n",
    "# Spatial Dropout layer  promote independence between feature maps\n",
    "model.add(SpatialDropout1D(DROPOUT_RATE))\n",
    "\n",
    "# One layer LSTM with params and regularization and intialization\n",
    "model.add(LSTM(LSTM_CELL_SIZE,activation='tanh',kernel_regularizer=l1(0.001), recurrent_dropout=DROPOUT_RATE, dropout=DROPOUT_RATE ))\n",
    "\n",
    "# Dense layer added with dropout \n",
    "model.add(Dense(DENSE_LAYER,activation = 'tanh',kernel_regularizer=l1(0.001), bias_initializer='he_uniform'))\n",
    "model.add(Dropout(DROPOUT_RATE))\n",
    "\n",
    "# Prediction layer with 'sigmoid' activation for binary classification\n",
    "model.add(Dense(1,activation='sigmoid'))\n",
    "\n",
    "# Compliling using 'BCE'  with Adam and accuracy as metric\n",
    "model.compile(loss = 'binary_crossentropy', optimizer=Adam(lr=0.001), metrics = ['accuracy'])\n",
    "model.summary()"
   ]
  },
  {
   "cell_type": "code",
   "execution_count": 12,
   "metadata": {
    "colab": {
     "base_uri": "https://localhost:8080/"
    },
    "executionInfo": {
     "elapsed": 286742,
     "status": "ok",
     "timestamp": 1606947424397,
     "user": {
      "displayName": "Saurabh Chakravorty",
      "photoUrl": "https://lh3.googleusercontent.com/a-/AOh14Gg4i8aVesE-zqnMJttjboEDqonbdcW85GPg1Yfj5g=s64",
      "userId": "01575942328847603880"
     },
     "user_tz": -60
    },
    "id": "8nxo5r1FbpKl",
    "outputId": "570cd05a-fd58-46a5-b9f9-1e4f34b15e3a"
   },
   "outputs": [
    {
     "name": "stdout",
     "output_type": "stream",
     "text": [
      "Epoch 1/5\n",
      "49/49 [==============================] - 50s 1s/step - loss: 1.6650 - accuracy: 0.5651 - val_loss: 1.1864 - val_accuracy: 0.7844\n",
      "Epoch 2/5\n",
      "49/49 [==============================] - 49s 991ms/step - loss: 0.8789 - accuracy: 0.8322 - val_loss: 0.6485 - val_accuracy: 0.8535\n",
      "Epoch 3/5\n",
      "49/49 [==============================] - 49s 1s/step - loss: 0.4999 - accuracy: 0.8926 - val_loss: 0.4719 - val_accuracy: 0.8709\n",
      "Epoch 4/5\n",
      "49/49 [==============================] - 48s 978ms/step - loss: 0.3783 - accuracy: 0.9137 - val_loss: 0.4638 - val_accuracy: 0.8637\n",
      "Epoch 5/5\n",
      "49/49 [==============================] - 48s 974ms/step - loss: 0.3165 - accuracy: 0.9260 - val_loss: 0.4182 - val_accuracy: 0.8642\n",
      "CPU times: user 5min 49s, sys: 50.9 s, total: 6min 40s\n",
      "Wall time: 4min 12s\n"
     ]
    }
   ],
   "source": [
    "%%time\n",
    "with tf.device('/gpu:0' and '/gpu:1'):\n",
    "    history = model.fit(X_train, y_train,epochs=EPOCHS, batch_size=BATCH_SIZE, verbose = 1,callbacks=[model_checkpoint_callback], validation_data = (X_test, y_test))  "
   ]
  },
  {
   "cell_type": "code",
   "execution_count": 13,
   "metadata": {
    "colab": {
     "base_uri": "https://localhost:8080/",
     "height": 573
    },
    "executionInfo": {
     "elapsed": 286739,
     "status": "ok",
     "timestamp": 1606947424407,
     "user": {
      "displayName": "Saurabh Chakravorty",
      "photoUrl": "https://lh3.googleusercontent.com/a-/AOh14Gg4i8aVesE-zqnMJttjboEDqonbdcW85GPg1Yfj5g=s64",
      "userId": "01575942328847603880"
     },
     "user_tz": -60
    },
    "id": "tjpGABp6Cg3x",
    "outputId": "fdc9383c-714c-4d4a-fa80-11f0b2ea2bd2"
   },
   "outputs": [
    {
     "data": {
      "image/png": "[encoded data removed]",
      "text/plain": [
       "<Figure size 432x288 with 1 Axes>"
      ]
     },
     "metadata": {
      "needs_background": "light",
      "tags": []
     },
     "output_type": "display_data"
    },
    {
     "data": {
      "image/png": "[encoded data removed]",
      "text/plain": [
       "<Figure size 432x288 with 1 Axes>"
      ]
     },
     "metadata": {
      "needs_background": "light",
      "tags": []
     },
     "output_type": "display_data"
    }
   ],
   "source": [
    "display_history(history)"
   ]
  },
  {
   "cell_type": "markdown",
   "metadata": {
    "id": "7Rl04jQwDA-Y"
   },
   "source": [
    "*Observations*\n",
    "\n",
    "<div class=\"alert alert-block alert-warning\">\n",
    "\n",
    "Here the model performs suprsingly well without pretrained vectors with proper feature selection but tends to overfit\n",
    "    \n",
    "</div>"
   ]
  },
  {
   "cell_type": "markdown",
   "metadata": {
    "id": "4jx3JNy0J_f8"
   },
   "source": [
    "## Glove based embedding + LSTM\n",
    "\n",
    "As discussed above we will be using pretrained embeddings in this case though in the architecture we use bi-directional LSTM"
   ]
  },
  {
   "cell_type": "code",
   "execution_count": 14,
   "metadata": {
    "colab": {
     "base_uri": "https://localhost:8080/"
    },
    "executionInfo": {
     "elapsed": 290789,
     "status": "ok",
     "timestamp": 1606947428468,
     "user": {
      "displayName": "Saurabh Chakravorty",
      "photoUrl": "https://lh3.googleusercontent.com/a-/AOh14Gg4i8aVesE-zqnMJttjboEDqonbdcW85GPg1Yfj5g=s64",
      "userId": "01575942328847603880"
     },
     "user_tz": -60
    },
    "id": "FBnuvkc6jZkr",
    "outputId": "a2183352-4eb7-4435-bbd4-d2493c5abd25"
   },
   "outputs": [
    {
     "name": "stdout",
     "output_type": "stream",
     "text": [
      "Found 67413 unique tokens.\n"
     ]
    }
   ],
   "source": [
    "X_train, y_train, X_test, y_test, word_index = generate_lstm_features(df_train, df_test, word_index = True)"
   ]
  },
  {
   "cell_type": "code",
   "execution_count": 15,
   "metadata": {
    "executionInfo": {
     "elapsed": 290780,
     "status": "ok",
     "timestamp": 1606947428471,
     "user": {
      "displayName": "Saurabh Chakravorty",
      "photoUrl": "https://lh3.googleusercontent.com/a-/AOh14Gg4i8aVesE-zqnMJttjboEDqonbdcW85GPg1Yfj5g=s64",
      "userId": "01575942328847603880"
     },
     "user_tz": -60
    },
    "id": "oGqgJvEmniUJ"
   },
   "outputs": [],
   "source": [
    "# Same as above\n",
    "LSTM_CELL_SIZE  = 128\n",
    "BATCH_SIZE      = 512\n",
    "EPOCHS          = 5\n",
    "DROPOUT_RATE    = 0.5\n",
    "EMBEDDING_SIZE  = 64\n",
    "# We use it as found word index in the tokenisation process\n",
    "MAX_FEATURES    = len(word_index) +  1\n",
    "DENSE_LAYER     = 256"
   ]
  },
  {
   "cell_type": "markdown",
   "metadata": {
    "id": "R-tEyb2ix00o"
   },
   "source": [
    "Time to do embedding with the found word_index in the corpus"
   ]
  },
  {
   "cell_type": "code",
   "execution_count": 16,
   "metadata": {
    "colab": {
     "base_uri": "https://localhost:8080/"
    },
    "executionInfo": {
     "elapsed": 320920,
     "status": "ok",
     "timestamp": 1606947458620,
     "user": {
      "displayName": "Saurabh Chakravorty",
      "photoUrl": "https://lh3.googleusercontent.com/a-/AOh14Gg4i8aVesE-zqnMJttjboEDqonbdcW85GPg1Yfj5g=s64",
      "userId": "01575942328847603880"
     },
     "user_tz": -60
    },
    "id": "claMTrGfow7l",
    "outputId": "df1f3cb6-3141-4671-d45b-514979d88ab1"
   },
   "outputs": [
    {
     "name": "stdout",
     "output_type": "stream",
     "text": [
      "Found 400000 word vectors.\n",
      "CPU times: user 28 s, sys: 566 ms, total: 28.5 s\n",
      "Wall time: 30.1 s\n"
     ]
    }
   ],
   "source": [
    "%%time\n",
    "# Let's use Glove Embedding\n",
    "embedding_matrix = generate_embedding(dir, embedding_file = 'glove.6B.300d.txt' ,EMBEDDING_SIZE  =  EMBEDDING_SIZE, word_index = word_index)"
   ]
  },
  {
   "cell_type": "code",
   "execution_count": 17,
   "metadata": {
    "colab": {
     "base_uri": "https://localhost:8080/"
    },
    "executionInfo": {
     "elapsed": 321230,
     "status": "ok",
     "timestamp": 1606947458941,
     "user": {
      "displayName": "Saurabh Chakravorty",
      "photoUrl": "https://lh3.googleusercontent.com/a-/AOh14Gg4i8aVesE-zqnMJttjboEDqonbdcW85GPg1Yfj5g=s64",
      "userId": "01575942328847603880"
     },
     "user_tz": -60
    },
    "id": "Xjkh9Um5XcKI",
    "outputId": "5ea94f59-1984-4320-82ed-01a3a02b45be"
   },
   "outputs": [
    {
     "name": "stdout",
     "output_type": "stream",
     "text": [
      "WARNING:tensorflow:Layer lstm will not use cuDNN kernel since it doesn't meet the cuDNN kernel criteria. It will use generic GPU kernel as fallback when running on GPU\n",
      "Model: \"sequential\"\n",
      "_________________________________________________________________\n",
      "Layer (type)                 Output Shape              Param #   \n",
      "=================================================================\n",
      "embedding (Embedding)        (None, 115, 64)           4314560   \n",
      "_________________________________________________________________\n",
      "spatial_dropout1d (SpatialDr (None, 115, 64)           0         \n",
      "_________________________________________________________________\n",
      "lstm (LSTM)                  (None, 128)               98816     \n",
      "_________________________________________________________________\n",
      "dense (Dense)                (None, 256)               33024     \n",
      "_________________________________________________________________\n",
      "dropout (Dropout)            (None, 256)               0         \n",
      "_________________________________________________________________\n",
      "dense_1 (Dense)              (None, 1)                 257       \n",
      "=================================================================\n",
      "Total params: 4,446,657\n",
      "Trainable params: 4,446,657\n",
      "Non-trainable params: 0\n",
      "_________________________________________________________________\n"
     ]
    }
   ],
   "source": [
    "\n",
    "# Reset the graph\n",
    "be.clear_session()\n",
    "\n",
    "# NOTE: We are using sequential\n",
    "model = Sequential()\n",
    "\n",
    "# For early callback and model checkpoint\n",
    "model_checkpoint_callback = ModelCheckpoint(filepath=checkpoint_filepath, save_weights_only=True, monitor='val_loss', mode='min', save_best_only=True)\n",
    "\n",
    "### create and fit the LSTM network ###\n",
    "\n",
    "# Embedding layer with features and input length #\n",
    "model.add(Embedding(MAX_FEATURES + 1, EMBEDDING_SIZE, input_length = X_train.shape[1] ,mask_zero=True))\n",
    "\n",
    "# Spatial Dropout layer  promote independence between feature maps\n",
    "model.add(SpatialDropout1D(DROPOUT_RATE))\n",
    "\n",
    "# One layer Bidirectional LSTM with params and regularization and intialization\n",
    "model.add(LSTM(LSTM_CELL_SIZE,activation='tanh',kernel_regularizer=l1(0.001), recurrent_dropout=DROPOUT_RATE, dropout=DROPOUT_RATE ))\n",
    "\n",
    "# Dense layer added with dropout \n",
    "model.add(Dense(DENSE_LAYER,activation = 'tanh',kernel_regularizer=l1(0.001), bias_initializer='he_uniform'))\n",
    "model.add(Dropout(DROPOUT_RATE))\n",
    "\n",
    "# Prediction layer with 'sigmoid' activation for binary classification\n",
    "model.add(Dense(1,activation='sigmoid'))\n",
    "\n",
    "# Compliling using 'BCE'  with Adam and accuracy as metric\n",
    "model.compile(loss = 'binary_crossentropy', optimizer=Adam(lr=0.001), metrics = ['accuracy'])\n",
    "model.summary()"
   ]
  },
  {
   "cell_type": "code",
   "execution_count": 18,
   "metadata": {
    "colab": {
     "base_uri": "https://localhost:8080/"
    },
    "executionInfo": {
     "elapsed": 461116,
     "status": "ok",
     "timestamp": 1606947598841,
     "user": {
      "displayName": "Saurabh Chakravorty",
      "photoUrl": "https://lh3.googleusercontent.com/a-/AOh14Gg4i8aVesE-zqnMJttjboEDqonbdcW85GPg1Yfj5g=s64",
      "userId": "01575942328847603880"
     },
     "user_tz": -60
    },
    "id": "48VDswmKXcNt",
    "outputId": "23a12341-716d-4f9e-cb77-d0bc933105bb"
   },
   "outputs": [
    {
     "name": "stdout",
     "output_type": "stream",
     "text": [
      "Epoch 1/5\n",
      "49/49 [==============================] - 27s 554ms/step - loss: 3.0652 - accuracy: 0.5262 - val_loss: 1.9318 - val_accuracy: 0.5067\n",
      "Epoch 2/5\n",
      "49/49 [==============================] - 27s 556ms/step - loss: 1.1545 - accuracy: 0.7758 - val_loss: 0.6211 - val_accuracy: 0.8452\n",
      "Epoch 3/5\n",
      "49/49 [==============================] - 27s 544ms/step - loss: 0.4708 - accuracy: 0.8767 - val_loss: 0.4742 - val_accuracy: 0.8473\n",
      "Epoch 4/5\n",
      "49/49 [==============================] - 27s 551ms/step - loss: 0.3567 - accuracy: 0.9028 - val_loss: 0.4355 - val_accuracy: 0.8531\n",
      "Epoch 5/5\n",
      "49/49 [==============================] - 27s 544ms/step - loss: 0.3001 - accuracy: 0.9204 - val_loss: 0.4482 - val_accuracy: 0.8487\n",
      "CPU times: user 3min 14s, sys: 26 s, total: 3min 40s\n",
      "Wall time: 2min 19s\n"
     ]
    }
   ],
   "source": [
    "%%time\n",
    "with tf.device('/gpu:0' and '/gpu:1'):\n",
    "    history = model.fit(X_train, y_train,epochs=EPOCHS, batch_size=BATCH_SIZE, verbose = 1,callbacks=[model_checkpoint_callback], validation_data = (X_test, y_test))  "
   ]
  },
  {
   "cell_type": "code",
   "execution_count": 19,
   "metadata": {
    "colab": {
     "base_uri": "https://localhost:8080/",
     "height": 573
    },
    "executionInfo": {
     "elapsed": 461322,
     "status": "ok",
     "timestamp": 1606947599062,
     "user": {
      "displayName": "Saurabh Chakravorty",
      "photoUrl": "https://lh3.googleusercontent.com/a-/AOh14Gg4i8aVesE-zqnMJttjboEDqonbdcW85GPg1Yfj5g=s64",
      "userId": "01575942328847603880"
     },
     "user_tz": -60
    },
    "id": "9S3PzOuMCp7X",
    "outputId": "512eb8b4-e66d-472d-eae5-7a85d9dfdc09"
   },
   "outputs": [
    {
     "data": {
      "image/png": "[encoded data removed]",
      "text/plain": [
       "<Figure size 432x288 with 1 Axes>"
      ]
     },
     "metadata": {
      "needs_background": "light",
      "tags": []
     },
     "output_type": "display_data"
    },
    {
     "data": {
      "image/png": "[encoded data removed]",
      "text/plain": [
       "<Figure size 432x288 with 1 Axes>"
      ]
     },
     "metadata": {
      "needs_background": "light",
      "tags": []
     },
     "output_type": "display_data"
    }
   ],
   "source": [
    "display_history(history)"
   ]
  },
  {
   "cell_type": "markdown",
   "metadata": {
    "id": "WDz0pqbMCxoz"
   },
   "source": [
    "*Observations*\n",
    "\n",
    "<div class=\"alert alert-block alert-warning\">\n",
    "\n",
    "The model performs mostly similar in terms of results with trained embeddings too\n",
    "    \n",
    "</div>"
   ]
  },
  {
   "cell_type": "code",
   "execution_count": 20,
   "metadata": {
    "executionInfo": {
     "elapsed": 461312,
     "status": "ok",
     "timestamp": 1606947599063,
     "user": {
      "displayName": "Saurabh Chakravorty",
      "photoUrl": "https://lh3.googleusercontent.com/a-/AOh14Gg4i8aVesE-zqnMJttjboEDqonbdcW85GPg1Yfj5g=s64",
      "userId": "01575942328847603880"
     },
     "user_tz": -60
    },
    "id": "jmVyiq9n0df1"
   },
   "outputs": [],
   "source": [
    "# Same as above\n",
    "LSTM_CELL_SIZE  = 128\n",
    "BATCH_SIZE      = 512\n",
    "EPOCHS          = 5\n",
    "DROPOUT_RATE    = 0.5\n",
    "EMBEDDING_SIZE  = 128\n",
    "# We use it as found word index in the tokenisation process\n",
    "MAX_FEATURES    = len(word_index) +  1\n",
    "DENSE_LAYER_1    = 128\n",
    "DENSE_LAYER_2    = 64"
   ]
  },
  {
   "cell_type": "code",
   "execution_count": 21,
   "metadata": {
    "colab": {
     "base_uri": "https://localhost:8080/"
    },
    "executionInfo": {
     "elapsed": 538290,
     "status": "ok",
     "timestamp": 1606947676053,
     "user": {
      "displayName": "Saurabh Chakravorty",
      "photoUrl": "https://lh3.googleusercontent.com/a-/AOh14Gg4i8aVesE-zqnMJttjboEDqonbdcW85GPg1Yfj5g=s64",
      "userId": "01575942328847603880"
     },
     "user_tz": -60
    },
    "id": "i3iQ2a8vx-Kx",
    "outputId": "eeffd903-0a28-425c-cc53-dde4a5558529"
   },
   "outputs": [
    {
     "name": "stdout",
     "output_type": "stream",
     "text": [
      "Found 999995 word vectors.\n",
      "CPU times: user 1min 7s, sys: 1.06 s, total: 1min 8s\n",
      "Wall time: 1min 17s\n"
     ]
    }
   ],
   "source": [
    "%%time\n",
    "# Let's use fast text Embedding\n",
    "embedding_matrix = generate_embedding(dir, embedding_file = 'wiki-news-300d-1M.vec',EMBEDDING_SIZE  =  EMBEDDING_SIZE, word_index = word_index)"
   ]
  },
  {
   "cell_type": "code",
   "execution_count": 22,
   "metadata": {
    "colab": {
     "base_uri": "https://localhost:8080/"
    },
    "executionInfo": {
     "elapsed": 538520,
     "status": "ok",
     "timestamp": 1606947676295,
     "user": {
      "displayName": "Saurabh Chakravorty",
      "photoUrl": "https://lh3.googleusercontent.com/a-/AOh14Gg4i8aVesE-zqnMJttjboEDqonbdcW85GPg1Yfj5g=s64",
      "userId": "01575942328847603880"
     },
     "user_tz": -60
    },
    "id": "VU6ry87Bx-Pl",
    "outputId": "a6f5c369-47fd-4e1a-8b7e-79366455c72b"
   },
   "outputs": [
    {
     "name": "stdout",
     "output_type": "stream",
     "text": [
      "WARNING:tensorflow:Layer lstm will not use cuDNN kernel since it doesn't meet the cuDNN kernel criteria. It will use generic GPU kernel as fallback when running on GPU\n",
      "Model: \"sequential\"\n",
      "_________________________________________________________________\n",
      "Layer (type)                 Output Shape              Param #   \n",
      "=================================================================\n",
      "embedding (Embedding)        (None, 115, 128)          8629120   \n",
      "_________________________________________________________________\n",
      "spatial_dropout1d (SpatialDr (None, 115, 128)          0         \n",
      "_________________________________________________________________\n",
      "lstm (LSTM)                  (None, 128)               131584    \n",
      "_________________________________________________________________\n",
      "dense (Dense)                (None, 256)               33024     \n",
      "_________________________________________________________________\n",
      "dropout (Dropout)            (None, 256)               0         \n",
      "_________________________________________________________________\n",
      "dense_1 (Dense)              (None, 256)               65792     \n",
      "_________________________________________________________________\n",
      "dropout_1 (Dropout)          (None, 256)               0         \n",
      "_________________________________________________________________\n",
      "dense_2 (Dense)              (None, 1)                 257       \n",
      "=================================================================\n",
      "Total params: 8,859,777\n",
      "Trainable params: 8,859,777\n",
      "Non-trainable params: 0\n",
      "_________________________________________________________________\n"
     ]
    }
   ],
   "source": [
    "# Reset the graph\n",
    "be.clear_session()\n",
    "\n",
    "# NOTE: We are using sequential\n",
    "model = Sequential()\n",
    "\n",
    "# For early callback and model checkpoint\n",
    "model_checkpoint_callback = ModelCheckpoint(filepath=checkpoint_filepath, save_weights_only=True, monitor='val_loss', mode='min', save_best_only=True)\n",
    "\n",
    "### create and fit the LSTM network ###\n",
    "\n",
    "# Embedding layer with features and input length\n",
    "model.add(Embedding(MAX_FEATURES + 1, EMBEDDING_SIZE, input_length = X_train.shape[1] ,mask_zero=True))\n",
    "\n",
    "# Spatial Dropout layer  promote independence between feature maps\n",
    "model.add(SpatialDropout1D(DROPOUT_RATE))\n",
    "\n",
    "#  Bidirectional LSTM with params and regularization and intialization\n",
    "model.add(LSTM(LSTM_CELL_SIZE,activation='tanh',kernel_regularizer=l1(0.001), recurrent_dropout=DROPOUT_RATE, dropout=DROPOUT_RATE ))\n",
    "\n",
    "# Dense layer 1 added with dropout \n",
    "model.add(Dense(DENSE_LAYER,activation = 'tanh',kernel_regularizer=l1(0.001), bias_initializer='he_uniform'))\n",
    "model.add(Dropout(DROPOUT_RATE))\n",
    "\n",
    "# Dense layer 2 added with dropout\n",
    "model.add(Dense(DENSE_LAYER,activation = 'tanh',kernel_regularizer=l1(0.001), bias_initializer='he_uniform'))\n",
    "model.add(Dropout(DROPOUT_RATE))\n",
    "\n",
    "# Prediction layer with 'sigmoid' activation for binary classification\n",
    "model.add(Dense(1,activation='sigmoid'))\n",
    "\n",
    "# Compliling using 'BCE'  with Adam and accuracy as metric\n",
    "model.compile(loss = 'binary_crossentropy', optimizer=Adam(lr=0.001), metrics = ['accuracy'])\n",
    "model.summary()"
   ]
  },
  {
   "cell_type": "code",
   "execution_count": 23,
   "metadata": {
    "colab": {
     "base_uri": "https://localhost:8080/"
    },
    "executionInfo": {
     "elapsed": 693734,
     "status": "ok",
     "timestamp": 1606947831564,
     "user": {
      "displayName": "Saurabh Chakravorty",
      "photoUrl": "https://lh3.googleusercontent.com/a-/AOh14Gg4i8aVesE-zqnMJttjboEDqonbdcW85GPg1Yfj5g=s64",
      "userId": "01575942328847603880"
     },
     "user_tz": -60
    },
    "id": "7P82C80G0syW",
    "outputId": "25791a43-d5df-4572-cbbe-85e3eaa778d9"
   },
   "outputs": [
    {
     "name": "stdout",
     "output_type": "stream",
     "text": [
      "Epoch 1/5\n",
      "49/49 [==============================] - 30s 613ms/step - loss: 6.2622 - accuracy: 0.5511 - val_loss: 3.4107 - val_accuracy: 0.7708\n",
      "Epoch 2/5\n",
      "49/49 [==============================] - 30s 611ms/step - loss: 1.8860 - accuracy: 0.8137 - val_loss: 0.8533 - val_accuracy: 0.8516\n",
      "Epoch 3/5\n",
      "49/49 [==============================] - 30s 612ms/step - loss: 0.5899 - accuracy: 0.8862 - val_loss: 0.5378 - val_accuracy: 0.8492\n",
      "Epoch 4/5\n",
      "49/49 [==============================] - 30s 611ms/step - loss: 0.4096 - accuracy: 0.9141 - val_loss: 0.5027 - val_accuracy: 0.8471\n",
      "Epoch 5/5\n",
      "49/49 [==============================] - 29s 599ms/step - loss: 0.3671 - accuracy: 0.9227 - val_loss: 0.5246 - val_accuracy: 0.8451\n",
      "CPU times: user 3min 36s, sys: 26.8 s, total: 4min 2s\n",
      "Wall time: 2min 34s\n"
     ]
    }
   ],
   "source": [
    "%%time\n",
    "with tf.device('/gpu:0' and '/gpu:1'):\n",
    "    history = model.fit(X_train, y_train,epochs=EPOCHS, batch_size=BATCH_SIZE, verbose = 1,callbacks=[model_checkpoint_callback], validation_data = (X_test, y_test)) "
   ]
  },
  {
   "cell_type": "code",
   "execution_count": 24,
   "metadata": {
    "colab": {
     "base_uri": "https://localhost:8080/",
     "height": 0
    },
    "executionInfo": {
     "elapsed": 693694,
     "status": "ok",
     "timestamp": 1606947831573,
     "user": {
      "displayName": "Saurabh Chakravorty",
      "photoUrl": "https://lh3.googleusercontent.com/a-/AOh14Gg4i8aVesE-zqnMJttjboEDqonbdcW85GPg1Yfj5g=s64",
      "userId": "01575942328847603880"
     },
     "user_tz": -60
    },
    "id": "FghAlNCsCTJk",
    "outputId": "a710e8d6-7b00-41a5-e933-a5254515731f"
   },
   "outputs": [
    {
     "data": {
      "image/png": "[encoded data removed]",
      "text/plain": [
       "<Figure size 432x288 with 1 Axes>"
      ]
     },
     "metadata": {
      "needs_background": "light",
      "tags": []
     },
     "output_type": "display_data"
    },
    {
     "data": {
      "image/png": "[encoded data removed]",
      "text/plain": [
       "<Figure size 432x288 with 1 Axes>"
      ]
     },
     "metadata": {
      "needs_background": "light",
      "tags": []
     },
     "output_type": "display_data"
    }
   ],
   "source": [
    "display_history(history)"
   ]
  },
  {
   "cell_type": "markdown",
   "metadata": {
    "id": "w7CZqiJYDFNJ"
   },
   "source": [
    "*Observations*\n",
    "\n",
    "<div class=\"alert alert-block alert-warning\">\n",
    "\n",
    "- Here the model performs considerably well than other former two in terms of loss as well as accuracy as the embedding size is large.\n",
    "\n",
    "- With more computational power comes good accuracy which is always a tradeoff to decided when training a model\n",
    " \n",
    " *With great power comes great responsibilities*\n",
    "    \n",
    "</div>"
   ]
  },
  {
   "cell_type": "markdown",
   "metadata": {
    "id": "dFxSI1zoDHIc"
   },
   "source": [
    "## Conclusion\n",
    "\n",
    "- With LSTM although we acheive good accuracy there is always a bottleneck in terms of overfitting \n",
    "\n",
    "- Let's now go to some pre-trained defined models and check their performance. The first model we will see is [Fast text](https://colab.research.google.com/drive/18h3jLu03UEVc2wNPws7twBkevPKlhJ5V?usp=sharing)"
   ]
  },
  {
   "cell_type": "code",
   "execution_count": 24,
   "metadata": {
    "executionInfo": {
     "elapsed": 693662,
     "status": "ok",
     "timestamp": 1606947831576,
     "user": {
      "displayName": "Saurabh Chakravorty",
      "photoUrl": "https://lh3.googleusercontent.com/a-/AOh14Gg4i8aVesE-zqnMJttjboEDqonbdcW85GPg1Yfj5g=s64",
      "userId": "01575942328847603880"
     },
     "user_tz": -60
    },
    "id": "EBwYJU5IDrj7"
   },
   "outputs": [],
   "source": []
  }
 ],
 "metadata": {
  "accelerator": "GPU",
  "colab": {
   "authorship_tag": "ABX9TyPw3YXdOTy4JQemggb44dlG",
   "collapsed_sections": [],
   "name": "LSTM_Models_IMDB.ipynb",
   "provenance": []
  },
  "kernelspec": {
   "display_name": "Python 3",
   "language": "python",
   "name": "python3"
  },
  "language_info": {
   "codemirror_mode": {
    "name": "ipython",
    "version": 3
   },
   "file_extension": ".py",
   "mimetype": "text/x-python",
   "name": "python",
   "nbconvert_exporter": "python",
   "pygments_lexer": "ipython3",
   "version": "3.7.3"
  }
 },
 "nbformat": 4,
 "nbformat_minor": 4
}
