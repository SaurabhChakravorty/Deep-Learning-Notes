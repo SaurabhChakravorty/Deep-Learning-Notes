{
 "cells": [
  {
   "cell_type": "markdown",
   "metadata": {
    "id": "g_wM75MwAoEn"
   },
   "source": [
    "# Sentiment classification - close to the state of the art\n",
    "\n",
    "The task of classifying sentiments of texts (for example movie or product reviews) has high practical significance in online marketing as well as financial prediction. This is a non-trivial task, since the concept of sentiment is not easily captured.\n",
    "\n",
    "For this assignment you have to use the larger [IMDB sentiment](https://ai.stanford.edu/~amaas/data/sentiment/aclImdb_v1.tar.gz) benchmark dataset from Stanford, an achieve close to state of the art results.\n",
    "\n",
    "The task is to try out multiple models in ascending complexity, namely:\n",
    "\n",
    "1. TFIDF + classical statistical model (eg. RandomForest)\n",
    "2. LSTM classification model\n",
    "3. LSTM model, where the embeddings are initialized with pre-trained word vectors\n",
    "4. fastText model\n",
    "5. BERT based model (you are advised to use a pre-trained one and finetune, since the resource consumption is considerable!)\n",
    "\n",
    "You should get over 90% validation accuracy (though nearly 94 is achievable).\n",
    "\n",
    "You are allowed to use any library or tool, though the Keras environment, and some wrappers on top (ie. Ktrain) make your life easier.\n",
    "\n",
    "\n",
    "\n"
   ]
  },
  {
   "cell_type": "markdown",
   "metadata": {
    "id": "2QADQva7AoEq"
   },
   "source": [
    "__Groups__\n",
    "This assignment is to be completed individually, two weeks after the class has finished. For the precise deadline please see canvas.\n",
    "\n",
    "__Format of submission__\n",
    "You need to submit a pdf of your Google Collab notebooks.\n",
    "\n",
    "__Due date__\n",
    "Two weeks after the class has finished. For the precise deadline please see canvas.\n",
    "\n",
    "Grade distribution:\n",
    "1. TFIDF + classical statistical model (eg. RandomForest) (25% of the final grade)\n",
    "2. LSTM classification model (15% of the final grade)\n",
    "3. LSTM model, where the embeddings are initialized with pre-trained word vectors, e.g. fastText, GloVe etc. (15% of the final grade)\n",
    "4. fastText model (15% of the final grade)\n",
    "5. BERT based model (you are advised to use a pre-trained one and finetune it, since the resource consumption is considerable!) (30% of the final grade). For BERT you should get over 90% validation accuracy (though nearly 94% is achievable).\n",
    "\n",
    "\n",
    "__For each of the models, the marks will be awarded according to the following three criteria__:\n",
    "\n",
    "(1) The (appropriately measured) accuracy of your prediction for the task. The more accurate the prediction is, the better. Note that you need to validate the predictive accuracy of your model on a hold-out of unseen data that the model has not been trained with.\n",
    "\n",
    "(2) How well you motivate the use of the model - what in this model's structure makes it suited for representing sentiment? After using the model for the task how well you evaluate the accuracy you got for each model and discuss the main advantages and disadvantages the model has in the particular modelling task. At best you take part of the modelling to support your arguments.\n",
    "\n",
    "(3) The consistency of your take-aways, i.e. what you have learned from your analyses. Also, analyze when the model is good and when and where it does not predict well.\n",
    "\n",
    "Please make sure that you comment with # on the separates steps of the code you have produced. For the verbal description and analyses plesae insert markdown cells.\n",
    "\n",
    "\n",
    "__Plagiarism__: The Frankfurt School does not accept any plagiarism. Data science is a collaborative exercise and you can discuss the research question with your classmates from other groups, if you like. You must not copy any code or text though. Plagiarism will be prosecuted and will result in a mark of 0 and you failing this class.\n",
    "\n",
    "After carefully reading this document and having had a look at the data you may still have questions. Please submit those question to the public Q&A board in canvas and we will answer each question, so "
   ]
  },
  {
   "cell_type": "markdown",
   "metadata": {
    "id": "QpCsyyH2AoEu"
   },
   "source": [
    "# Data download"
   ]
  },
  {
   "cell_type": "code",
   "execution_count": 19,
   "metadata": {
    "colab": {
     "base_uri": "https://localhost:8080/"
    },
    "executionInfo": {
     "elapsed": 15960,
     "status": "ok",
     "timestamp": 1606940550550,
     "user": {
      "displayName": "Saurabh Chakravorty",
      "photoUrl": "https://lh3.googleusercontent.com/a-/AOh14Gg4i8aVesE-zqnMJttjboEDqonbdcW85GPg1Yfj5g=s64",
      "userId": "01575942328847603880"
     },
     "user_tz": -60
    },
    "id": "gEwjTzd8rqjR",
    "outputId": "c6994a6e-de1e-4a79-81fb-6a5a2b5f05fe"
   },
   "outputs": [
    {
     "name": "stdout",
     "output_type": "stream",
     "text": [
      "--2020-12-02 20:22:16--  https://ai.stanford.edu/~amaas/data/sentiment/aclImdb_v1.tar.gz\n",
      "Resolving ai.stanford.edu (ai.stanford.edu)... 171.64.68.10\n",
      "Connecting to ai.stanford.edu (ai.stanford.edu)|171.64.68.10|:443... connected.\n",
      "HTTP request sent, awaiting response... 200 OK\n",
      "Length: 84125825 (80M) [application/x-gzip]\n",
      "Saving to: ‘aclImdb_v1.tar.gz.2’\n",
      "\n",
      "aclImdb_v1.tar.gz.2 100%[===================>]  80.23M  22.1MB/s    in 5.4s    \n",
      "\n",
      "2020-12-02 20:22:21 (14.9 MB/s) - ‘aclImdb_v1.tar.gz.2’ saved [84125825/84125825]\n",
      "\n",
      "aclImdb\t\t   aclImdb_v1.tar.gz.1\tdrive\t   sample_data\n",
      "aclImdb_v1.tar.gz  aclImdb_v1.tar.gz.2\tIMDB_Data\n"
     ]
    }
   ],
   "source": [
    "!wget https://ai.stanford.edu/~amaas/data/sentiment/aclImdb_v1.tar.gz\n",
    "!tar -xzf aclImdb_v1.tar.gz\n",
    "!ls"
   ]
  },
  {
   "cell_type": "markdown",
   "metadata": {
    "id": "x1yn618mAoFH"
   },
   "source": [
    "# Alternative with tf.datasets"
   ]
  },
  {
   "cell_type": "code",
   "execution_count": 20,
   "metadata": {
    "executionInfo": {
     "elapsed": 18646,
     "status": "ok",
     "timestamp": 1606940553249,
     "user": {
      "displayName": "Saurabh Chakravorty",
      "photoUrl": "https://lh3.googleusercontent.com/a-/AOh14Gg4i8aVesE-zqnMJttjboEDqonbdcW85GPg1Yfj5g=s64",
      "userId": "01575942328847603880"
     },
     "user_tz": -60
    },
    "id": "UXx_Pj_7AoFJ"
   },
   "outputs": [],
   "source": [
    "!pip install tensorflow-datasets > /dev/null"
   ]
  },
  {
   "cell_type": "code",
   "execution_count": 21,
   "metadata": {
    "executionInfo": {
     "elapsed": 18638,
     "status": "ok",
     "timestamp": 1606940553251,
     "user": {
      "displayName": "Saurabh Chakravorty",
      "photoUrl": "https://lh3.googleusercontent.com/a-/AOh14Gg4i8aVesE-zqnMJttjboEDqonbdcW85GPg1Yfj5g=s64",
      "userId": "01575942328847603880"
     },
     "user_tz": -60
    },
    "id": "bhG1CnaSAoFU"
   },
   "outputs": [],
   "source": [
    "import tensorflow_datasets as tfds\n",
    "import pandas as pd\n",
    "import os"
   ]
  },
  {
   "cell_type": "code",
   "execution_count": 22,
   "metadata": {
    "executionInfo": {
     "elapsed": 18624,
     "status": "ok",
     "timestamp": 1606940553253,
     "user": {
      "displayName": "Saurabh Chakravorty",
      "photoUrl": "https://lh3.googleusercontent.com/a-/AOh14Gg4i8aVesE-zqnMJttjboEDqonbdcW85GPg1Yfj5g=s64",
      "userId": "01575942328847603880"
     },
     "user_tz": -60
    },
    "id": "oFk-Bh1xAoFc"
   },
   "outputs": [],
   "source": [
    "(ds_train,ds_test),ds_info = tfds.load(\n",
    "    name=\"imdb_reviews\",\n",
    "    split=[\"train\",\"test\"],\n",
    "    shuffle_files=True,\n",
    "    as_supervised=True,\n",
    "    with_info=True   \n",
    ")"
   ]
  },
  {
   "cell_type": "markdown",
   "metadata": {
    "id": "WPKYroYs4G_c"
   },
   "source": [
    "# Storing the files\n",
    "\n",
    "1. Out of all the files created we make the data ready in the form of .pkl files keeping in mind we work in Colaboratory.\n",
    "\n",
    "2. However you can specify the directory (dir) in your specified file"
   ]
  },
  {
   "cell_type": "code",
   "execution_count": 23,
   "metadata": {
    "colab": {
     "base_uri": "https://localhost:8080/"
    },
    "executionInfo": {
     "elapsed": 18613,
     "status": "ok",
     "timestamp": 1606940553257,
     "user": {
      "displayName": "Saurabh Chakravorty",
      "photoUrl": "https://lh3.googleusercontent.com/a-/AOh14Gg4i8aVesE-zqnMJttjboEDqonbdcW85GPg1Yfj5g=s64",
      "userId": "01575942328847603880"
     },
     "user_tz": -60
    },
    "id": "66uksyi21jWy",
    "outputId": "3b214657-6411-4f75-e1a8-797a51cdda34"
   },
   "outputs": [
    {
     "name": "stdout",
     "output_type": "stream",
     "text": [
      "Drive already mounted at /content/drive; to attempt to forcibly remount, call drive.mount(\"/content/drive\", force_remount=True).\n"
     ]
    }
   ],
   "source": [
    "from google.colab import drive\n",
    "drive.mount('/content/drive')"
   ]
  },
  {
   "cell_type": "code",
   "execution_count": 24,
   "metadata": {
    "executionInfo": {
     "elapsed": 18603,
     "status": "ok",
     "timestamp": 1606940553258,
     "user": {
      "displayName": "Saurabh Chakravorty",
      "photoUrl": "https://lh3.googleusercontent.com/a-/AOh14Gg4i8aVesE-zqnMJttjboEDqonbdcW85GPg1Yfj5g=s64",
      "userId": "01575942328847603880"
     },
     "user_tz": -60
    },
    "id": "0QHp0wuGMsq0"
   },
   "outputs": [],
   "source": [
    "# Go to the file created in Colab and specify your path\n",
    "dir = '/content'"
   ]
  },
  {
   "cell_type": "markdown",
   "metadata": {
    "id": "DkiK2T-Qjjgn"
   },
   "source": [
    "The command will try to make a directory in your personal drive to store all files and embedding \".txt\" files which will be used to train in Deep Learning"
   ]
  },
  {
   "cell_type": "code",
   "execution_count": 25,
   "metadata": {
    "colab": {
     "base_uri": "https://localhost:8080/"
    },
    "executionInfo": {
     "elapsed": 18595,
     "status": "ok",
     "timestamp": 1606940553259,
     "user": {
      "displayName": "Saurabh Chakravorty",
      "photoUrl": "https://lh3.googleusercontent.com/a-/AOh14Gg4i8aVesE-zqnMJttjboEDqonbdcW85GPg1Yfj5g=s64",
      "userId": "01575942328847603880"
     },
     "user_tz": -60
    },
    "id": "YF4EPOsi9PVv",
    "outputId": "79600a95-eb71-4409-ea7c-33ad6e69a5aa"
   },
   "outputs": [
    {
     "name": "stdout",
     "output_type": "stream",
     "text": [
      "File exists in your personal drive\n"
     ]
    }
   ],
   "source": [
    "# Make directory \"IMDB\" to store all types of files\n",
    "try:\n",
    "   os.mkdir(dir + \"/IMDB_Data\")\n",
    "except:\n",
    "    print(\"File exists in your personal drive\")"
   ]
  },
  {
   "cell_type": "code",
   "execution_count": 26,
   "metadata": {
    "executionInfo": {
     "elapsed": 18591,
     "status": "ok",
     "timestamp": 1606940553264,
     "user": {
      "displayName": "Saurabh Chakravorty",
      "photoUrl": "https://lh3.googleusercontent.com/a-/AOh14Gg4i8aVesE-zqnMJttjboEDqonbdcW85GPg1Yfj5g=s64",
      "userId": "01575942328847603880"
     },
     "user_tz": -60
    },
    "id": "z3tcIieZC0qd"
   },
   "outputs": [],
   "source": [
    "# Go to the file created in Colab\n",
    "dir = \"/content/IMDB_Data\""
   ]
  },
  {
   "cell_type": "markdown",
   "metadata": {},
   "source": [
    "<div class=\"alert alert-block alert-danger\">\n",
    "<b>Ratio:</b> Data is strictly prepared on test and validation split of 50 %\n",
    "</div>"
   ]
  },
  {
   "cell_type": "markdown",
   "metadata": {
    "id": "KpKQ4sb-3sHR"
   },
   "source": [
    "Train data is stored in the form of .pkl files in data directory"
   ]
  },
  {
   "cell_type": "code",
   "execution_count": 27,
   "metadata": {
    "executionInfo": {
     "elapsed": 104712,
     "status": "ok",
     "timestamp": 1606940639394,
     "user": {
      "displayName": "Saurabh Chakravorty",
      "photoUrl": "https://lh3.googleusercontent.com/a-/AOh14Gg4i8aVesE-zqnMJttjboEDqonbdcW85GPg1Yfj5g=s64",
      "userId": "01575942328847603880"
     },
     "user_tz": -60
    },
    "id": "uoaPqoF_t_RO"
   },
   "outputs": [],
   "source": [
    "df = pd.DataFrame()\n",
    "# Making a dataframe and storing the \"text\" and \"label\" of train\n",
    "for i in ds_train.as_numpy_iterator():\n",
    "      new_row = {'Text':i[0], 'Label':int(i[1])}\n",
    "      df = df.append(new_row, ignore_index=True)"
   ]
  },
  {
   "cell_type": "code",
   "execution_count": 28,
   "metadata": {
    "colab": {
     "base_uri": "https://localhost:8080/"
    },
    "executionInfo": {
     "elapsed": 104702,
     "status": "ok",
     "timestamp": 1606940639396,
     "user": {
      "displayName": "Saurabh Chakravorty",
      "photoUrl": "https://lh3.googleusercontent.com/a-/AOh14Gg4i8aVesE-zqnMJttjboEDqonbdcW85GPg1Yfj5g=s64",
      "userId": "01575942328847603880"
     },
     "user_tz": -60
    },
    "id": "KJVDtDRCu5ev",
    "outputId": "e8f8f138-8cf6-4fb8-c59f-cfa2cc74a90d"
   },
   "outputs": [
    {
     "name": "stdout",
     "output_type": "stream",
     "text": [
      "(25000, 2)\n"
     ]
    }
   ],
   "source": [
    "df.head(5)\n",
    "print(df.shape)"
   ]
  },
  {
   "cell_type": "code",
   "execution_count": 29,
   "metadata": {
    "executionInfo": {
     "elapsed": 104693,
     "status": "ok",
     "timestamp": 1606940639399,
     "user": {
      "displayName": "Saurabh Chakravorty",
      "photoUrl": "https://lh3.googleusercontent.com/a-/AOh14Gg4i8aVesE-zqnMJttjboEDqonbdcW85GPg1Yfj5g=s64",
      "userId": "01575942328847603880"
     },
     "user_tz": -60
    },
    "id": "cC-m-inakGO_"
   },
   "outputs": [],
   "source": [
    "df = df.to_pickle(dir + \"/train.pkl\")"
   ]
  },
  {
   "cell_type": "markdown",
   "metadata": {
    "id": "TU0ofeJI3WaM"
   },
   "source": [
    "Test data is stored in the form of .pkl files in test directory"
   ]
  },
  {
   "cell_type": "code",
   "execution_count": 30,
   "metadata": {
    "executionInfo": {
     "elapsed": 192920,
     "status": "ok",
     "timestamp": 1606940727635,
     "user": {
      "displayName": "Saurabh Chakravorty",
      "photoUrl": "https://lh3.googleusercontent.com/a-/AOh14Gg4i8aVesE-zqnMJttjboEDqonbdcW85GPg1Yfj5g=s64",
      "userId": "01575942328847603880"
     },
     "user_tz": -60
    },
    "id": "wecm1hRCkKUo"
   },
   "outputs": [],
   "source": [
    "df = pd.DataFrame()\n",
    "# Making a dataframe and storing the \"text\" and \"label\" of test\n",
    "for i in ds_test.as_numpy_iterator():\n",
    "      new_row = {'Text':i[0], 'Label':int(i[1])}\n",
    "      df = df.append(new_row, ignore_index=True)"
   ]
  },
  {
   "cell_type": "code",
   "execution_count": 31,
   "metadata": {
    "executionInfo": {
     "elapsed": 192913,
     "status": "ok",
     "timestamp": 1606940727638,
     "user": {
      "displayName": "Saurabh Chakravorty",
      "photoUrl": "https://lh3.googleusercontent.com/a-/AOh14Gg4i8aVesE-zqnMJttjboEDqonbdcW85GPg1Yfj5g=s64",
      "userId": "01575942328847603880"
     },
     "user_tz": -60
    },
    "id": "1uWSwUA33HWs"
   },
   "outputs": [],
   "source": [
    "df = df.to_pickle(dir + \"/test.pkl\")"
   ]
  },
  {
   "cell_type": "markdown",
   "metadata": {
    "id": "-mW1QmnaHEUe"
   },
   "source": [
    "Store the data in personal drive folder to make sure you can access the data in multiple Colab notebooks"
   ]
  },
  {
   "cell_type": "code",
   "execution_count": 32,
   "metadata": {
    "colab": {
     "base_uri": "https://localhost:8080/"
    },
    "executionInfo": {
     "elapsed": 192899,
     "status": "ok",
     "timestamp": 1606940727639,
     "user": {
      "displayName": "Saurabh Chakravorty",
      "photoUrl": "https://lh3.googleusercontent.com/a-/AOh14Gg4i8aVesE-zqnMJttjboEDqonbdcW85GPg1Yfj5g=s64",
      "userId": "01575942328847603880"
     },
     "user_tz": -60
    },
    "id": "ltFwsHvX5Qx2",
    "outputId": "e5b25cc9-7fe9-4d48-8576-3d71c20d3e60"
   },
   "outputs": [
    {
     "name": "stdout",
     "output_type": "stream",
     "text": [
      "/content/drive/MyDrive\n",
      "'/content/IMDB_Data' -> 'IMDB_Data/IMDB_Data'\n",
      "'/content/IMDB_Data/train.pkl' -> 'IMDB_Data/IMDB_Data/train.pkl'\n",
      "'/content/IMDB_Data/test.pkl' -> 'IMDB_Data/IMDB_Data/test.pkl'\n"
     ]
    }
   ],
   "source": [
    "%cd /content/drive/MyDrive/\n",
    "%cp -av /content/IMDB_Data IMDB_Data"
   ]
  },
  {
   "cell_type": "markdown",
   "metadata": {
    "id": "j9PFmmCOkRVO"
   },
   "source": [
    "Let's go now to this [Notebook](https://colab.research.google.com/drive/13DGUFAMrwbvbsYJdp5cN0eMkaAuGkZIY?usp=sharing) to prepare the data"
   ]
  }
 ],
 "metadata": {
  "colab": {
   "collapsed_sections": [],
   "name": "Data_IMDB_with_multiple_models_handout.ipynb",
   "provenance": []
  },
  "kernelspec": {
   "display_name": "Python 3",
   "language": "python",
   "name": "python3"
  },
  "language_info": {
   "codemirror_mode": {
    "name": "ipython",
    "version": 3
   },
   "file_extension": ".py",
   "mimetype": "text/x-python",
   "name": "python",
   "nbconvert_exporter": "python",
   "pygments_lexer": "ipython3",
   "version": "3.7.3"
  },
  "toc": {
   "base_numbering": 1,
   "nav_menu": {},
   "number_sections": true,
   "sideBar": true,
   "skip_h1_title": false,
   "title_cell": "Table of Contents",
   "title_sidebar": "Contents",
   "toc_cell": false,
   "toc_position": {},
   "toc_section_display": true,
   "toc_window_display": false
  },
  "varInspector": {
   "cols": {
    "lenName": 16,
    "lenType": 16,
    "lenVar": 40
   },
   "kernels_config": {
    "python": {
     "delete_cmd_postfix": "",
     "delete_cmd_prefix": "del ",
     "library": "var_list.py",
     "varRefreshCmd": "print(var_dic_list())"
    },
    "r": {
     "delete_cmd_postfix": ") ",
     "delete_cmd_prefix": "rm(",
     "library": "var_list.r",
     "varRefreshCmd": "cat(var_dic_list()) "
    }
   },
   "types_to_exclude": [
    "module",
    "function",
    "builtin_function_or_method",
    "instance",
    "_Feature"
   ],
   "window_display": false
  }
 },
 "nbformat": 4,
 "nbformat_minor": 4
}
