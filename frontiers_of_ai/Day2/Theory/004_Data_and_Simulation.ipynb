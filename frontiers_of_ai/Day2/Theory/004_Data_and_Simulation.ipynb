{
 "cells": [
  {
   "cell_type": "markdown",
   "metadata": {},
   "source": [
    "# Evaluating Causal Models\n",
    "\n",
    "\n",
    "- **Main difficulty:** No ground truth available. \n",
    "- Thus many **synthetic** and **partially snythetic** data-sets \n",
    "- Partially synthetic: Use **existing data** and **synthetically** create outcomes for which we **know the individual treatment effect** by construction\n",
    "\n"
   ]
  },
  {
   "cell_type": "markdown",
   "metadata": {},
   "source": [
    "**Main draw-backs of synthetic data:** \n",
    "- **Data generating process** often quite **simplistic**- questionable representation of reality\n",
    "- The **DGPs** introduce **assumptions** as to the **structure** of the **problem**: e.g. **confounders** or function used to determine the treatment effect based on covariates (not clear whether results generalize)\n",
    "- Reference data-sets and synthetic outcomes within them have been produced in many ways"
   ]
  },
  {
   "cell_type": "markdown",
   "metadata": {},
   "source": [
    "## 1 Data Generating Processes \n",
    "\n",
    "The following dimensions have an influence on the data-generating process\n",
    "\n"
   ]
  },
  {
   "cell_type": "markdown",
   "metadata": {},
   "source": [
    "### 1.1 Covariates\n",
    "- Two main parameters: \n",
    "\n",
    "(1) Dimsionality, $k=|X_i|$, \n",
    "\n",
    "(2) Correlation between the covariates\n",
    "\n",
    "- More covariates (that are in some way really relevant), higher dimensional problem, more difficult setting /(ceteris paribus), if sample size remains fixed\n",
    "- Strong correlation or even multi-colinearity between covariates makes it harder to chose right features and correctly estimate effects \n"
   ]
  },
  {
   "cell_type": "markdown",
   "metadata": {},
   "source": [
    "### 1.2 Heterogeneity\n",
    "\n",
    "- With the homogeneity and heterogeneity of a data generating process we refer to the **structure of the treatment effect**\n",
    "- A **homogeneous treatment effect** means, that the **ITE for all instances is the same**, i.e. $τ(X_i) = τ, i = 1, ...., n$\n",
    "- When we use a homogeneous treatment effect, we also **remove all dependencies** of the **covariates on the treatment effect** and thus **remove** significant part of **confounding by design**.\n",
    "-  **Heterogeneous treatment effect**, is **harder to estimate** for most methods, because it introduces complexity in the function to estimate and also introduces possible confounding. \n",
    "- **Strength of heterogeneity** can be expressed by the variance of the effect minus the variance of the error $Var(τ(x)) − Var(\\epsilon_i)$.\n"
   ]
  },
  {
   "cell_type": "markdown",
   "metadata": {},
   "source": [
    "### 1.3 Distribution of treatment effects\n",
    "\n",
    "- Often assume **normal distribution**\n",
    "- **Non-normal** distribution can significantly **increase difficulty**\n",
    "- **Particularly** for **methods** that **cannot capture heterogenous treatment effects**, e.g. S-Learner with linear regression\n",
    "- Can even be **multi-modal distribution**, where these methods will fail predictably\n"
   ]
  },
  {
   "cell_type": "markdown",
   "metadata": {},
   "source": [
    "### 1.4 Size of treatment effects\n",
    "\n",
    "- Smaller size of treatment effect relative to to total outcome makes it more difficult to detect\n",
    "\n",
    "$$τ_{rel}(x_i) = \\frac{τ(x_i)}{Y_i(0)}$$"
   ]
  },
  {
   "cell_type": "markdown",
   "metadata": {},
   "source": [
    "### 1.5 Confounding\n",
    "\n",
    "- The **bigger** the **confounding effects** and the number of confounders the **more difficult** it is to **estimate** effect sizes\n",
    "- In practice by choosing the same **covariates** to **determine treatment and outcome** (in an artificial data-set) we can introduce confounding\n",
    "- **Hidden confounders**, that is covariates that **influence both treatment and outcome**, but are **not observed** in the data, are a particularly difficult problem\n",
    "-\n"
   ]
  },
  {
   "cell_type": "markdown",
   "metadata": {},
   "source": [
    "### 1.6 Treatment Assignment \n",
    "\n",
    "- The treatment assignment is just as essential and **closely related to the design of confounding**. \n",
    "- What **separates a randomized trial form a observational study** is the treatment assignment mechanism\n",
    "- With the **treatment assignment** we also control the **overlap condition**\n",
    "- That is to say, we control whether the **treatment and control groups** are **similar or completely different**.\n",
    "- Also, we control the **respective sizes** of the **two groups**, thus also heavily influencing the difficulty of our DGP\n",
    "- In general, we can say that **less overlap** makes the **problem more difficult**\n",
    "- We denote the treatment assignment as a function of the covariates that maps to the probability of the instances described by the covariates receiving treatment. In other words, we manually fabricate the propensity score p(x)."
   ]
  },
  {
   "cell_type": "markdown",
   "metadata": {},
   "source": [
    "### 1.7 Functional Form \n",
    "\n",
    "- For the relationship of covariates on treatment, outcome and effect, we have the freedom to choose any functional form\n",
    "- That is to say, we can map the features using linear functions, polynomials, exponential functions, logits or any other form we can think of.."
   ]
  },
  {
   "cell_type": "markdown",
   "metadata": {},
   "source": [
    "### 1.8 Noise\n",
    "\n",
    "Lastly, we can determine the distribution of the error term. From a simple additive\n",
    "normal to interactive measurment errors, biasing the results, there is a wide range\n",
    "of possibilites."
   ]
  },
  {
   "cell_type": "markdown",
   "metadata": {},
   "source": [
    "### 1.9 Sample size"
   ]
  },
  {
   "cell_type": "markdown",
   "metadata": {},
   "source": [
    "<img src=\"http://drive.google.com/uc?export=view&id=1JWYcmYWZxpRPHiPUqWrNWvJGROQsd8Rl\" width=75%>\n",
    "\n",
    "Source: Franz (2019) **\"A Systematic Review of Machine Learning Estimators for Causal Effect\"**, [here](https://justcause.readthedocs.io/en/latest/_downloads/e054f7a0fc9cf9e680173600cb4b4350/thesis-mfranz.pdf). "
   ]
  },
  {
   "cell_type": "markdown",
   "metadata": {},
   "source": [
    "## 2 Existing Benchmark data-sets\n",
    "\n",
    "### 2.1. Infant Health Development Program\n",
    "- Original study  constructed to study the effect of special child care for **low birth weight** of **premature** infants \n",
    "- In total, **six continuous and 19 binary pretreatment** variables\n",
    "- Using the covariates of all instances in both treatment groups, the potential outcomes are generated synthetically \n",
    "- Finally, manipulation of observational study by omitting a non-random set of samples from the treatment group \n",
    "- The way the subset is generated from the experimental data does not ensure complete overlap \n",
    "- Specifically, the observational subset is created by throwing away the set of all children with nonwhite mothers from the treatment group\n",
    "- Following data generation process used for potential outcomes\n",
    "\n",
    "$$    Y(0) \\sim \\mathcal{N}(exp(X+W)\\beta_B, 1) $$\n",
    "\n",
    "$$    Y(1) \\sim \\mathcal{N}(X\\beta_B-\\omega_B^s, 1) $$\n",
    "\n",
    "\n",
    "where $X$ represents the standardized covariate matrix, $W$ is an offset matrix with the dimensions of $X$ and all values set to 0.5 and finally $\\omega_B^s$ is chosen such that the mean CATE is 4. The entries of the coefficient vector $β_B$ are sampled from the values (0; 0:1; 0:2; 0:3; 0:4) with probabilities (0:6; 0:2; 0:1; 0:1; 0:1) respectively. This\n",
    "results in a nonlinear response with heterogeneous treatment effect.\n",
    "\n",
    "After the adaptions from Hill, we are left with **139 instances in the treated group**\n",
    "and **608 instances in the control group**."
   ]
  },
  {
   "cell_type": "markdown",
   "metadata": {},
   "source": [
    "### 2.2. Twins Dataset\n",
    "The Twins dataset is derived from birth data collected in the US between 1989 and 1991. The original data is compiled and analyzed by Almond et al. [3]. From all these births, only the twins are considered, because these allow us to perform a special kind of synthetic generation. Namely, we only consider twins with a low\n",
    "birth weight and then define treatment T = 1 as being the heavier twin. In doing so, we follow other authors that have used the Twins dataset for comparisons.\n",
    "\n",
    "This construction means that we know the outcome, mortality in this case, for both\n",
    "treatments The only synthetic part in the data is the assignment of treatment.\n",
    "From the full data containing both potential outcomes, we want to generate data\n",
    "that resemble an observational study. As mentioned above, this is done via different\n",
    "functional relationships in different papers. For our purposes we present the process\n",
    "described in First, we only use low birth weight twin pairs for which all 30 features are available.\n",
    "That leaves us with 8215 samples. Since we know the mortality for both twins, we\n",
    "know the ground truth. To generate a observational study we now assign treatment\n",
    "by defining\n",
    "\n",
    "\n",
    "$$    P(T|X) \\sim Bern(\\sigma (W^TX+n))) $$ , with\n",
    "\n",
    "$$    W^T \\sim \\mathcal{U}((-0.1,0.1)^{30*1} $$ and\n",
    "\n",
    "$$    n \\sim \\mathcal{N}(0,0.1) $$\n",
    "\n",
    "where $\\sigma$ is the sigmoid function, $Bern$ refers to the Bernoulli distribution, $\\mathcal{U}$ to the uniform distribution and $\\mathcal{N}(0,0.1)$ to a normal distribution with mean 0 and standard deviation 0.1"
   ]
  },
  {
   "cell_type": "markdown",
   "metadata": {},
   "source": [
    "### 2.3. Atlantic Causal Inference Challenge - ACIC\n",
    "-  based on the Linked Births and Infant Deaths Database (LBIDD)\n",
    "- Use real covariates to generate synthetic data-set\n",
    "- Exact data generation process not known"
   ]
  },
  {
   "cell_type": "markdown",
   "metadata": {},
   "source": [
    "## 3. Measuring Model Performance (Error)"
   ]
  },
  {
   "cell_type": "markdown",
   "metadata": {},
   "source": [
    "### 3.1 Average Treatment Effect (ATE)\n",
    "\n",
    "$$ \\epsilon_{ATE}=|τ-\\hat{τ}|$$\n",
    "\n",
    "where $\\hat{τ}$ is often calculated as the average of individual effect estimations $\\hat{τ}=n^{-1} \\sum_{i=1}^{n}\\hat{τ}x_i$"
   ]
  },
  {
   "cell_type": "markdown",
   "metadata": {},
   "source": [
    "### 3.2 Precision in Estimation of Heterogeneous Effects\n",
    "\n",
    "$$ \\epsilon_{PEHE} = n^{-1} \\sum_{i=1}^{n}\\bigg( [ Y_i (1)-Y_i (0) ] -[\\hat{Y}_i(1)-\\hat{Y}_i(0)] \\bigg)^2$$\n",
    "\n",
    "$$ = n^{-1} \\sum_{i=1}^{n}(\\hat{τ}(x_i)-τ(x_i) )^2 $$\n",
    "\n",
    "Often, instead of reporting $\\epsilon_{PEHE}$ directly, the root $\\sqrt{\\epsilon_{PEHE}}$ is listed, thus making\n",
    "the PEHE score a Root Means Squared Error (RMSE) on individual treatment\n",
    "effects"
   ]
  },
  {
   "cell_type": "markdown",
   "metadata": {},
   "source": [
    "### 3.3 Bias\n",
    "\n",
    "ATE is agnostic to direction of error. Method bias allows to take account of the direction:\n",
    "\n",
    "$$ \\epsilon_{BIAS}= n^{-1} \\sum_{i=1}^{n}(\\hat{τ}(x_i)-τ(x_i) )$$"
   ]
  },
  {
   "cell_type": "code",
   "execution_count": null,
   "metadata": {},
   "outputs": [],
   "source": []
  }
 ],
 "metadata": {
  "kernelspec": {
   "display_name": "Python 3",
   "language": "python",
   "name": "python3"
  },
  "language_info": {
   "codemirror_mode": {
    "name": "ipython",
    "version": 3
   },
   "file_extension": ".py",
   "mimetype": "text/x-python",
   "name": "python",
   "nbconvert_exporter": "python",
   "pygments_lexer": "ipython3",
   "version": "3.7.3"
  }
 },
 "nbformat": 4,
 "nbformat_minor": 4
}
