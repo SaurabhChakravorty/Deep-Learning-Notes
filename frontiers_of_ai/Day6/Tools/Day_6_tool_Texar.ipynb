{
 "cells": [
  {
   "cell_type": "markdown",
   "metadata": {},
   "source": [
    "<img src=\"https://raw.githubusercontent.com/asyml/texar/master/docs/_static/img/logo_h_035.png\">\n",
    "\n",
    "\n",
    "[Texar](https://github.com/asyml/texar) is a toolkit from Carnegie Mellon University for building and training text generating machine learning models, especially neural models. Originally it was built on top of TensorFlow, but now a [PyTorch version](https://github.com/asyml/texar-pytorch) is also in active development, which aims at providing an identical API.\n",
    "\n",
    "# Some supported model structures\n",
    "\n",
    "As described in the [paper introducing the framework](https://www.aclweb.org/anthology/W18-2503.pdf), \n",
    "the library has a modular structure that is based on a careful analysis of structure of state of the art text generator models:"
   ]
  },
  {
   "cell_type": "markdown",
   "metadata": {},
   "source": [
    "<img src=\"https://storage.googleapis.com/groundai-web-prod/media/users/user_212132/project_381756/images/x1.png\" width=\"800px\">"
   ]
  },
  {
   "cell_type": "markdown",
   "metadata": {},
   "source": [
    "E = encoder, D = decoder, C = classifier, A = Attention, M = Memory\n",
    "\n",
    "+ (a): The canonical encoder-decoder, sometimes with attention A \n",
    "+ (b): Variational encoder-decoder \n",
    "+ (c): Encoder-decoder augmented with external memory\n",
    "+ (d): Adversarial model using a binary discriminator C, with or without reinforcement learning \n",
    "+ (e): Multi-task learning with multiple encoders and/or decoders \n",
    "+ (f): Augmenting with cyclic loss \n",
    "+ (g): Learning to align with adversary, either on samples y or hidden states \n",
    "\n",
    "(Image and description from the [Texar paper](https://www.aclweb.org/anthology/W18-2503.pdf))"
   ]
  },
  {
   "cell_type": "markdown",
   "metadata": {},
   "source": [
    "# Modules\n",
    "\n",
    "The library has a modular API which contains\n",
    "+ general infrastructure to define and train models, such as\n",
    "    - data set handling (built on the TensorFlow dataset API)\n",
    "    - frequently used special losses and activation functions\n",
    "    - training utilities\n",
    "+ classes for defining the typical building blocks of text generation models, e.g., encoders, decoders, etc:\n",
    "\n",
    "<img src=\"https://raw.githubusercontent.com/asyml/texar/master/docs/_static/img/texar_stack.png\" width=\"800px\">\n",
    "\n",
    "(Image from the [Texar github repo](https://github.com/asyml/texar))"
   ]
  },
  {
   "cell_type": "markdown",
   "metadata": {},
   "source": [
    "# Support for (b)leading edge model features\n",
    "\n",
    "A few noteworthy cases:\n",
    "\n",
    "+  Policy Gradient agent for sequence prediction.\n",
    "+  Adversarial loss\n",
    "+  Gumbel softmax support "
   ]
  }
 ],
 "metadata": {
  "kernelspec": {
   "display_name": "Python 3",
   "language": "python",
   "name": "python3"
  },
  "language_info": {
   "codemirror_mode": {
    "name": "ipython",
    "version": 3
   },
   "file_extension": ".py",
   "mimetype": "text/x-python",
   "name": "python",
   "nbconvert_exporter": "python",
   "pygments_lexer": "ipython3",
   "version": "3.7.3"
  },
  "toc": {
   "base_numbering": 1,
   "nav_menu": {},
   "number_sections": true,
   "sideBar": true,
   "skip_h1_title": false,
   "title_cell": "Table of Contents",
   "title_sidebar": "Contents",
   "toc_cell": false,
   "toc_position": {},
   "toc_section_display": true,
   "toc_window_display": false
  },
  "varInspector": {
   "cols": {
    "lenName": 16,
    "lenType": 16,
    "lenVar": 40
   },
   "kernels_config": {
    "python": {
     "delete_cmd_postfix": "",
     "delete_cmd_prefix": "del ",
     "library": "var_list.py",
     "varRefreshCmd": "print(var_dic_list())"
    },
    "r": {
     "delete_cmd_postfix": ") ",
     "delete_cmd_prefix": "rm(",
     "library": "var_list.r",
     "varRefreshCmd": "cat(var_dic_list()) "
    }
   },
   "types_to_exclude": [
    "module",
    "function",
    "builtin_function_or_method",
    "instance",
    "_Feature"
   ],
   "window_display": false
  }
 },
 "nbformat": 4,
 "nbformat_minor": 4
}
