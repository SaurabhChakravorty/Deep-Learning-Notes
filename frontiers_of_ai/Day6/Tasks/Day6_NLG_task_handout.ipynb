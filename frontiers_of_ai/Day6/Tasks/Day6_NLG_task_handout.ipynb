{
 "cells": [
  {
   "cell_type": "markdown",
   "metadata": {
    "colab_type": "text",
    "id": "rYZcjkVRxmXN"
   },
   "source": [
    "# Task: MLE and Policy Gradient trained sequence to sequence model in Texar\n",
    "\n",
    "We build two versions of a simple (but attention using) sequence-to-sequence model:\n",
    "\n",
    "- The first version will be trained only with an MLE objective,\n",
    "- The second will be trained both with MLE as a pretraining, and then Policy Gradient.\n",
    "\n",
    "The goal of the task is simply to get to know Texar a bit, nothing else -- the dataset is a toy dataset from Google which simply reverses the input, and without proper hyperparameter tuning (which we won't do) Policy Gradient quickly collapses, even after the MLE pretraining.\n",
    "\n",
    "Consequently, the task is simply to build the models and get the training running, there is no target performance which you'd have to achieve. In addition, almost all code that is needed can be found by looking at the Texar documentation..."
   ]
  },
  {
   "cell_type": "markdown",
   "metadata": {
    "colab_type": "text",
    "id": "PuXRvWgdicfJ"
   },
   "source": [
    "# Texar prerequisites"
   ]
  },
  {
   "cell_type": "code",
   "execution_count": null,
   "metadata": {
    "colab": {
     "base_uri": "https://localhost:8080/",
     "height": 809
    },
    "colab_type": "code",
    "id": "UzsX_RkyftLG",
    "outputId": "4dace688-b001-4630-ae4d-7113dad75920"
   },
   "outputs": [],
   "source": [
    "%tensorflow_version 1.x # Texar needs TF 1.x!!!\n",
    "! pip install texar"
   ]
  },
  {
   "cell_type": "code",
   "execution_count": 2,
   "metadata": {
    "colab": {
     "base_uri": "https://localhost:8080/",
     "height": 65
    },
    "colab_type": "code",
    "id": "q3uOKU7Kgxfi",
    "outputId": "c35adff4-5c05-443f-bec9-7248f43181d2"
   },
   "outputs": [
    {
     "data": {
      "text/html": [
       "<p style=\"color: red;\">\n",
       "The default version of TensorFlow in Colab will soon switch to TensorFlow 2.x.<br>\n",
       "We recommend you <a href=\"https://www.tensorflow.org/guide/migrate\" target=\"_blank\">upgrade</a> now \n",
       "or ensure your notebook will continue to use TensorFlow 1.x via the <code>%tensorflow_version 1.x</code> magic:\n",
       "<a href=\"https://colab.research.google.com/notebooks/tensorflow_version.ipynb\" target=\"_blank\">more info</a>.</p>\n"
      ],
      "text/plain": [
       "<IPython.core.display.HTML object>"
      ]
     },
     "metadata": {
      "tags": []
     },
     "output_type": "display_data"
    }
   ],
   "source": [
    "import texar.tf as tx\n",
    "import tensorflow as tf\n",
    "import numpy as np"
   ]
  },
  {
   "cell_type": "markdown",
   "metadata": {
    "colab_type": "text",
    "id": "_J6Mn2JhQIFI"
   },
   "source": [
    "# Downloading the data\n",
    "We download and extract the toy dataset with Texar's download utility function:"
   ]
  },
  {
   "cell_type": "code",
   "execution_count": 3,
   "metadata": {
    "colab": {
     "base_uri": "https://localhost:8080/",
     "height": 54
    },
    "colab_type": "code",
    "id": "fhhQOSmRjWIF",
    "outputId": "207db77d-90f1-476f-de57-497e7494d40b"
   },
   "outputs": [
    {
     "name": "stdout",
     "output_type": "stream",
     "text": [
      "Successfully downloaded toy_copy.zip.\n"
     ]
    },
    {
     "data": {
      "text/plain": [
       "['./toy_copy.zip']"
      ]
     },
     "execution_count": 3,
     "metadata": {
      "tags": []
     },
     "output_type": "execute_result"
    }
   ],
   "source": [
    "tx.data.maybe_download(\n",
    "            urls='https://drive.google.com/file/d/'\n",
    "                 '1fENE2rakm8vJ8d3voWBgW4hGlS6-KORW/view?usp=sharing',\n",
    "            path='./',\n",
    "            filenames='toy_copy.zip',\n",
    "            extract=True)"
   ]
  },
  {
   "cell_type": "markdown",
   "metadata": {
    "colab_type": "text",
    "id": "CSGSsLRU6E_t"
   },
   "source": [
    "After extraction this will already be in the format needed for Texar's data readers."
   ]
  },
  {
   "cell_type": "markdown",
   "metadata": {
    "colab_type": "text",
    "id": "5_ufSlPcqfPn"
   },
   "source": [
    "# The basic model: RNN Seq2seq with attention trained with MLE"
   ]
  },
  {
   "cell_type": "markdown",
   "metadata": {
    "colab_type": "text",
    "id": "hlFYiXU7m5XC"
   },
   "source": [
    "## Model parameters\n",
    "\n",
    "In Texar, hyperparameters are typically represented by multi-level dictionaries (or  dictionary-like texar.HParams intstances). Before building the model, we define a minimal set of hyperparameter dictionaries for the embedding, encoder, decoder and attention."
   ]
  },
  {
   "cell_type": "code",
   "execution_count": 2,
   "metadata": {
    "colab": {},
    "colab_type": "code",
    "id": "Z6pTkpWkUBse"
   },
   "outputs": [],
   "source": [
    "# We want to use the same dimensionality (\"number of units\") for the embedding, and the encoder and decoder RNNs\n",
    "num_units = ... # Please, specify a reasonable number\n",
    "\n",
    "# For inference, the model will use beam search\n",
    "beam_width = ... # Specify a reasonable number (remember that the search time is not \n",
    "                 # linear with respect to this parameter!)\n",
    "\n",
    "embedder_hparams = {\"dim\": num_units}\n",
    "encoder_hparams = {\n",
    "    'rnn_cell_fw': {\n",
    "        'kwargs': {\n",
    "            'num_units': num_units\n",
    "        }\n",
    "    }\n",
    "}\n",
    "decoder_hparams = {\n",
    "    'rnn_cell': {\n",
    "        'kwargs': {\n",
    "            'num_units': num_units\n",
    "        },\n",
    "    },\n",
    "    'attention': {\n",
    "        'kwargs': {\n",
    "            'num_units': num_units,\n",
    "        },\n",
    "        'attention_layer_size': num_units\n",
    "    }\n",
    "}"
   ]
  },
  {
   "cell_type": "markdown",
   "metadata": {
    "colab_type": "text",
    "id": "33QyQ3ZoQXnR"
   },
   "source": [
    "## Building the model\n",
    "\n",
    "First we build a simple seq2seq model with attention."
   ]
  },
  {
   "cell_type": "code",
   "execution_count": null,
   "metadata": {
    "colab": {},
    "colab_type": "code",
    "id": "YrA46wqeRRNK"
   },
   "outputs": [],
   "source": [
    "def build_mle_model(batch, train_data):\n",
    "    \"\"\"Build a basic seq2seq model with attention for MLE training.\n",
    "    \"\"\"\n",
    "    \n",
    "    # Please define a word embedding layer for the Encoder using Texar's API.\n",
    "    # For hyperparameters, use the embedder hparams defined in the previous cell.\n",
    "    source_embedder = ...(\n",
    "        vocab_size=train_data.source_vocab.size, hparams=...)\n",
    "    \n",
    "    # For encoder, use a Bidirectional RNN encoder from the Texar API.\n",
    "    # hparams were defined above.\n",
    "    encoder = ...(\n",
    "        hparams=...)\n",
    "\n",
    "    enc_outputs, _ = encoder(source_embedder(batch['source_text_ids']))\n",
    "    \n",
    "    # Please define a word embedding layer for the Decoder using Texar's API.\n",
    "    # For hyperparameters, use the embedder hparams defined in the previous cell.\n",
    "    target_embedder = ...(\n",
    "        vocab_size=train_data.target_vocab.size, hparams=...)\n",
    "\n",
    "    # The decoder should be a Texar Attention RNN decoder with the hyperparameters \n",
    "    # defined above\n",
    "    decoder = ...(\n",
    "        memory=tf.concat(enc_outputs, axis=2),\n",
    "        memory_sequence_length=batch['source_length'],\n",
    "        vocab_size=train_data.target_vocab.size,\n",
    "        hparams=...)\n",
    "\n",
    "    # For MLE training, we use greedy decoding and teacher forcing, \n",
    "    # this is why the input is coming from the target text\n",
    "    mle_training_outputs, _, _ = decoder(\n",
    "        decoding_strategy=..., # Please specify greedy training decoding here \n",
    "                               # see the possible values in the Texar \"Decoders\" documentation section\n",
    "        inputs=target_embedder(batch['target_text_ids'][:, :-1]),\n",
    "        sequence_length=batch['target_length'] - 1)\n",
    "\n",
    "    # The loss for MLE training is the familiar sparse softmax cross entropy\n",
    "    # Please use the Texar version of it here!\n",
    "    mle_loss = ...(\n",
    "        labels=batch['target_text_ids'][:, 1:],\n",
    "        logits=mle_training_outputs.logits,\n",
    "        sequence_length=batch['target_length'] - 1)\n",
    "\n",
    "    # Texar produces a train op from the loss for us:\n",
    "    mle_train_op = tx.core.get_train_op(mle_loss)\n",
    "\n",
    "    # For inference (text generation), we need the start (bos) tokens from the data set\n",
    "    # and we produce here a whole vector of them, for the entire batch.\n",
    "    start_tokens = tf.ones_like(batch['target_length']) * train_data.target_vocab.bos_token_id\n",
    "\n",
    "    # Inference (text generation) by beam search -- nothing to do here, just observe!\n",
    "    beam_search_outputs, _, _ = \\\n",
    "        tx.modules.beam_search_decode(\n",
    "            decoder_or_cell=decoder,\n",
    "            embedding=target_embedder,\n",
    "            start_tokens=start_tokens,\n",
    "            end_token=train_data.target_vocab.eos_token_id,\n",
    "            beam_width=beam_width,\n",
    "            max_decoding_length=60)\n",
    "\n",
    "    # Having built the model, we need to return two things that will be needed for the training\n",
    "    # and evaluation of the model: the mle training op  and the beam search output \n",
    "    # please add these in the next line (in this order)!!\n",
    "    return ..., ..."
   ]
  },
  {
   "cell_type": "markdown",
   "metadata": {
    "colab_type": "text",
    "id": "YopoVmiVqtl4"
   },
   "source": [
    "## Data sets and training parameters"
   ]
  },
  {
   "cell_type": "code",
   "execution_count": null,
   "metadata": {
    "colab": {},
    "colab_type": "code",
    "id": "WzgvL-Dgm9X4"
   },
   "outputs": [],
   "source": [
    "source_vocab_file = './data/toy_copy/train/vocab.sources.txt'\n",
    "target_vocab_file = './data/toy_copy/train/vocab.targets.txt'\n",
    "\n",
    "mle_training_num_epochs  = ... # Please specify the number of training epochs\n",
    "steps_per_train_epochs = 312 # Don't touch this, this is the correct value for the toy dataset\n",
    "batch_size = ... # Please specify a batch size\n",
    "\n",
    "display = 50\n",
    "\n",
    "# Texar hparams for the toy dataset\n",
    "\n",
    "train_hparams = {\n",
    "    'num_epochs': 500, # We set this to an unexhaustible number bec. of a Texar bug!!\n",
    "    'batch_size': batch_size,\n",
    "    'allow_smaller_final_batch': False,\n",
    "    'source_dataset': {\n",
    "        \"files\": './data/toy_copy/train/sources.txt',\n",
    "        'vocab_file': source_vocab_file\n",
    "    },\n",
    "    'target_dataset': {\n",
    "        'files': './data/toy_copy/train/targets.txt',\n",
    "        'vocab_file': target_vocab_file\n",
    "    }\n",
    "}\n",
    "val_hparams = {\n",
    "    'batch_size': batch_size,\n",
    "    'allow_smaller_final_batch': False,\n",
    "    'source_dataset': {\n",
    "        \"files\": './data/toy_copy/dev/sources.txt',\n",
    "        'vocab_file': source_vocab_file\n",
    "    },\n",
    "    'target_dataset': {\n",
    "        \"files\": './data/toy_copy/dev/targets.txt',\n",
    "        'vocab_file': target_vocab_file\n",
    "    }\n",
    "}\n",
    "test_hparams = {\n",
    "    'batch_size': batch_size,\n",
    "    'allow_smaller_final_batch': False,\n",
    "    'source_dataset': {\n",
    "        \"files\": './data/toy_copy/test/sources.txt',\n",
    "        'vocab_file': source_vocab_file\n",
    "    },\n",
    "    'target_dataset': {\n",
    "        \"files\": './data/toy_copy/test/targets.txt',\n",
    "        'vocab_file': target_vocab_file\n",
    "    }\n",
    "}\n",
    "\n"
   ]
  },
  {
   "cell_type": "code",
   "execution_count": null,
   "metadata": {
    "colab": {},
    "colab_type": "code",
    "id": "G8k1wKtP4xX9"
   },
   "outputs": [],
   "source": [
    "# All of our data sets consist of paired texts -- please specify the correct\n",
    "# Texar data class in the next three lines:\n",
    "\n",
    "train_data = ...(hparams=train_hparams)\n",
    "val_data = ...(hparams=val_hparams)\n",
    "test_data = ...(hparams=test_hparams)\n",
    "\n",
    "# Texar's data iterators are thin wrappers around the Tensorflow Dataset API\n",
    "# Please put Texar's data iterator here which can switch between train, test and validation data\n",
    "iterator = ...(train=train_data, val=val_data, test=test_data)\n",
    "batch = iterator.get_next()\n",
    "train_op, infer_outputs = build_mle_model(batch, train_data) # build the model, get train and inference outputs"
   ]
  },
  {
   "cell_type": "markdown",
   "metadata": {
    "colab_type": "text",
    "id": "1kGOUcw5sJlu"
   },
   "source": [
    "## MLE training"
   ]
  },
  {
   "cell_type": "code",
   "execution_count": null,
   "metadata": {
    "colab": {
     "base_uri": "https://localhost:8080/",
     "height": 384
    },
    "colab_type": "code",
    "id": "9M2cVhBYpOZb",
    "outputId": "7b5308c7-043a-4393-eac2-889bb0177c5b"
   },
   "outputs": [],
   "source": [
    "# Now we manually write the training loops...\n",
    "# not as cosy as Keras, for sure..\n",
    "# Nothing to do in this cell, just observe\n",
    "\n",
    "def mle_train_epoch(sess, iterator, train_op):\n",
    "    \"\"\"Train the Seq2Seq model for an epoch.\n",
    "    sess is a TF session to use, \n",
    "    iterator is a TrainTestDataIterator with the data,\n",
    "    train_op is training op in the model's graph.\n",
    "    \"\"\"\n",
    "    iterator.switch_to_train_data(sess)\n",
    "    for step in range(steps_per_train_epochs):\n",
    "        try:\n",
    "            loss = sess.run(train_op) # Run graph until the train op\n",
    "            if step % display == 0:\n",
    "                print(\"step={}, loss={:.4f}\".format(step, loss))\n",
    "        except tf.errors.OutOfRangeError:\n",
    "            break\n",
    "\n",
    "\n",
    "def eval_epoch(sess, mode, iterator, batch):\n",
    "    \"\"\" Evaluate an epoch. Mode is 'test' or 'val'.\n",
    "    \"\"\"\n",
    "    if mode == 'val':\n",
    "        iterator.switch_to_val_data(sess)\n",
    "    else:\n",
    "        iterator.switch_to_test_data(sess)\n",
    "\n",
    "    refs, hypos = [], []\n",
    "    while True:\n",
    "        try:\n",
    "            # fetches are what we want to get back from the session\n",
    "            # in this case the target texts and the predicted texts\n",
    "            fetches = [\n",
    "                batch['target_text'][:, 1:],\n",
    "                infer_outputs.predicted_ids[:, :, 0]\n",
    "            ]\n",
    "            feed_dict = {\n",
    "                tx.global_mode(): tf.estimator.ModeKeys.PREDICT,\n",
    "            }\n",
    "            target_texts, output_ids = \\\n",
    "                sess.run(fetches, feed_dict=feed_dict)\n",
    "\n",
    "            target_texts = tx.utils.strip_special_tokens(target_texts)\n",
    "            output_texts = tx.utils.map_ids_to_strs(\n",
    "                ids=output_ids, vocab=val_data.target_vocab)\n",
    "\n",
    "            for hypo, ref in zip(output_texts, target_texts):\n",
    "                hypos.append(hypo)\n",
    "                refs.append([ref])\n",
    "        except tf.errors.OutOfRangeError:\n",
    "            break\n",
    "    # For evaluation we want to use a BLEU variant:\n",
    "    # please put here Texar's \"moses\" corpus BLEU variant.\n",
    "    return ...(list_of_references=refs,\n",
    "                                        hypotheses=hypos)\n",
    "\n",
    "\n",
    "def mle_train_and_eval(sess, iterator, batch, train_op):\n",
    "    \"\"\"Train the model with MLE and eval.\n",
    "    \"\"\"\n",
    "    best_val_bleu = -1.\n",
    "    for i in range(mle_training_num_epochs):\n",
    "        mle_train_epoch(sess, iterator, train_op)\n",
    "\n",
    "        val_bleu = eval_epoch(sess, 'val', iterator, batch)\n",
    "        best_val_bleu = max(best_val_bleu, val_bleu)\n",
    "        print('val epoch={}, BLEU={:.4f}; best-ever={:.4f}'.format(\n",
    "            i, val_bleu, best_val_bleu))\n",
    "\n",
    "        test_bleu = eval_epoch(sess, 'test', iterator, batch)\n",
    "        print('test epoch={}, BLEU={:.4f}'.format(i, test_bleu))\n",
    "\n",
    "        print('=' * 50)\n",
    "\n",
    "\n",
    "# The only thing left is to run the training and evaluation:\n",
    "with tf.Session() as sess:\n",
    "    sess.run(tf.global_variables_initializer())\n",
    "    sess.run(tf.local_variables_initializer())\n",
    "    sess.run(tf.tables_initializer())\n",
    "    mle_train_and_eval(sess, iterator, batch, train_op)\n",
    "   "
   ]
  },
  {
   "cell_type": "markdown",
   "metadata": {
    "colab_type": "text",
    "id": "cdi8ep_6J88v"
   },
   "source": [
    "# Attention Seq2Seq with Policy gradient"
   ]
  },
  {
   "cell_type": "markdown",
   "metadata": {
    "colab_type": "text",
    "id": "hdvW_Y9oxb-l"
   },
   "source": [
    "## Building the model"
   ]
  },
  {
   "cell_type": "code",
   "execution_count": null,
   "metadata": {
    "colab": {},
    "colab_type": "code",
    "id": "6pQD8DO2Vju1"
   },
   "outputs": [],
   "source": [
    "def build_rl_model(batch, train_data):\n",
    "    \"\"\"Build a seq2seq model trained with Policy Gradient.\n",
    "    \"\"\"\n",
    "    \n",
    "    # Our RL-trained model will be almost totally the same as the previous one,\n",
    "    # except that we add sampled outputs for Policy Gradient.\n",
    "    # So, please repeat here the missing elements of the previous model. (Copy & paste...)\n",
    "    \n",
    "    source_embedder = ...\n",
    "    \n",
    "    encoder = ...\n",
    "    \n",
    "    enc_outputs, _ = encoder(source_embedder(batch['source_text_ids']))\n",
    "\n",
    "    target_embedder = ...\n",
    "\n",
    "    decoder = ...\n",
    "\n",
    "    # MLE pretraining\n",
    "\n",
    "    mle_training_outputs, _, _ = ...\n",
    "    \n",
    "    mle_loss = ...\n",
    "\n",
    "    mle_train_op = tx.core.get_train_op(mle_loss)\n",
    "\n",
    "    start_tokens = tf.ones_like(batch['target_length']) * train_data.target_vocab.bos_token_id\n",
    "\n",
    "    beam_search_outputs, _, _ = \\\n",
    "        tx.modules.beam_search_decode(\n",
    "            decoder_or_cell=decoder,\n",
    "            embedding=target_embedder,\n",
    "            start_tokens=start_tokens,\n",
    "            end_token=train_data.target_vocab.eos_token_id,\n",
    "            beam_width=beam_width,\n",
    "            max_decoding_length=60)    \n",
    "    \n",
    "    # Here comes the novelty...\n",
    "    # We need random sampling for Policy Gradient\n",
    "    sampled_outputs, _, sequence_length = decoder(\n",
    "        decoding_strategy= ..., # Please add here the correct 'decoding strategy' for random sampling\n",
    "        start_tokens=start_tokens,\n",
    "        end_token=train_data.target_vocab.eos_token_id,\n",
    "        embedding=target_embedder,\n",
    "        max_decoding_length=30)\n",
    "\n",
    "    # We need to return a bit more things from the graph for Policy Gradient\n",
    "    return sampled_outputs, mle_train_op, sequence_length, beam_search_outputs"
   ]
  },
  {
   "cell_type": "markdown",
   "metadata": {
    "colab_type": "text",
    "id": "riMzhKObyC-j"
   },
   "source": [
    "## Data sets and iterator"
   ]
  },
  {
   "cell_type": "code",
   "execution_count": null,
   "metadata": {
    "colab": {},
    "colab_type": "code",
    "id": "52KC7jzajrQs"
   },
   "outputs": [],
   "source": [
    "tf.reset_default_graph()\n",
    "\n",
    "# Please repeat here the previous definitions for our data sets and iterator!\n",
    "\n",
    "train_data = \n",
    "val_data = \n",
    "test_data = \n",
    "\n",
    "iterator = \n",
    "\n",
    "batch = iterator.get_next()\n",
    "\n",
    "# We build the model:\n",
    "sampled_outputs, mle_train_op, sequence_length, infer_outputs = build_rl_model(batch, train_data)\n"
   ]
  },
  {
   "cell_type": "markdown",
   "metadata": {
    "colab_type": "text",
    "id": "hoezIYR9hFHo"
   },
   "source": [
    "## Agent definition"
   ]
  },
  {
   "cell_type": "code",
   "execution_count": null,
   "metadata": {
    "colab": {},
    "colab_type": "code",
    "id": "PPWbxLrvhEPT"
   },
   "outputs": [],
   "source": [
    "# Now a crucial point: we need te create a Texar Sequence Policy Gradient Agent\n",
    "# Please specify the correct Texar class!\n",
    "agent = ...(\n",
    "    samples=sampled_outputs.sample_id,\n",
    "    logits=sampled_outputs.logits,\n",
    "    sequence_length=sequence_length,\n",
    "    hparams={'discount_factor': 0.95, 'entropy_weight': 0.5})"
   ]
  },
  {
   "cell_type": "markdown",
   "metadata": {
    "colab_type": "text",
    "id": "1iL-E0xg0baR"
   },
   "source": [
    "## Policy gradient training"
   ]
  },
  {
   "cell_type": "code",
   "execution_count": null,
   "metadata": {
    "colab": {},
    "colab_type": "code",
    "id": "P9uDJwtFaKg5"
   },
   "outputs": [],
   "source": [
    "# PG training and evaluation function\n",
    "def pg_train_and_eval_epoch(sess, agent, iterator, batch):\n",
    "    best_val_bleu = -1.\n",
    "    for step in range(steps_per_train_epochs):\n",
    "        iterator.switch_to_train_data(sess)\n",
    "\n",
    "        \n",
    "        extra_fetches = {\n",
    "            'truth': batch['target_text_ids'],\n",
    "        }\n",
    "\n",
    "        # The agent needs to get the samples with the current policy.\n",
    "        # Please add the the correct agent method in the next line!!\n",
    "        # to be clear: you will need something like \n",
    "        # fetches = agent.<METHOD_NAME>(extra_fetches=extra_fetches) \n",
    "        # here.\n",
    "        fetches = agent....(extra_fetches=extra_fetches)\n",
    "\n",
    "        sample_text = tx.utils.map_ids_to_strs(\n",
    "            fetches['samples'], train_data.target_vocab,\n",
    "            strip_eos=False, join=False)\n",
    "        truth_text = tx.utils.map_ids_to_strs(\n",
    "            fetches['truth'], train_data.target_vocab,\n",
    "            strip_eos=False, join=False)    \n",
    "\n",
    "        # Compute the rewards\n",
    "        reward = []\n",
    "        for ref, hyp in zip(truth_text, sample_text):\n",
    "            r = tx.evals.sentence_bleu([ref], hyp, smooth=True)\n",
    "            reward.append(r)\n",
    "\n",
    "        # Now we need to do the actual weight updates with the policy gradient,\n",
    "        # in the Texar API this is called \"observing\".\n",
    "        # Please add, again, the correct method name in the next line!\n",
    "        loss = agent....(reward=reward)\n",
    "\n",
    "        # Displays & evaluates\n",
    "        if step == 1 or step % display == 0:\n",
    "            print(\"step={}, loss={:.4f}, reward={:.4f}\".format(\n",
    "                step, loss, np.mean(reward)))\n",
    "\n",
    "        if step % display == 0:\n",
    "            val_bleu = eval_epoch(sess, 'val', iterator, batch)\n",
    "            best_val_bleu = max(best_val_bleu, val_bleu)\n",
    "            print('val step={}, BLEU={:.4f}; best-ever={:.4f}'.format(\n",
    "                step, val_bleu, best_val_bleu))\n",
    "\n",
    "            test_bleu = eval_epoch(sess, 'test', iterator, batch)\n",
    "            print('test step={}, BLEU={:.4f}'.format(step, test_bleu))\n",
    "            print('=' * 50)\n",
    "\n"
   ]
  },
  {
   "cell_type": "markdown",
   "metadata": {
    "colab_type": "text",
    "id": "7c3twV451aAH"
   },
   "source": [
    "## Running it"
   ]
  },
  {
   "cell_type": "code",
   "execution_count": null,
   "metadata": {
    "colab": {
     "base_uri": "https://localhost:8080/",
     "height": 1000
    },
    "colab_type": "code",
    "id": "v6aQAZQl1LUl",
    "outputId": "b4aaac93-7b3d-4b85-e481-30649d9e2172"
   },
   "outputs": [],
   "source": [
    "mle_training_num_epochs = ... # Specify the number of MLE training epochs!\n",
    "pg_train_num_epochs = ... # Specify the number of PG training epochs!\n",
    "\n",
    "# Now we can run the training and see how the (untuned) Policy Gradient training quickly ruins \n",
    "# the MLE results...\n",
    "with tf.Session() as sess:\n",
    "    sess.run(tf.global_variables_initializer())\n",
    "    sess.run(tf.local_variables_initializer())\n",
    "    sess.run(tf.tables_initializer())\n",
    "\n",
    "    print(\"== Starting MLE pretraining ==\")\n",
    "\n",
    "    mle_train_and_eval(sess, iterator, batch, mle_train_op)\n",
    "\n",
    "    print(\"== Starting PG training ==\")\n",
    "\n",
    "    agent.sess = sess\n",
    "\n",
    "    for epoch in range(pg_train_num_epochs):\n",
    "        print('=' * 50)\n",
    "        print('== EPOCH NO', epoch, '==')\n",
    "        print('=' * 50)\n",
    "        pg_train_and_eval_epoch(sess, agent, iterator, batch)\n",
    "        "
   ]
  }
 ],
 "metadata": {
  "accelerator": "GPU",
  "colab": {
   "collapsed_sections": [],
   "machine_shape": "hm",
   "name": "nlg.ipynb",
   "provenance": [],
   "toc_visible": true
  },
  "kernelspec": {
   "display_name": "Python 3",
   "language": "python",
   "name": "python3"
  },
  "language_info": {
   "codemirror_mode": {
    "name": "ipython",
    "version": 3
   },
   "file_extension": ".py",
   "mimetype": "text/x-python",
   "name": "python",
   "nbconvert_exporter": "python",
   "pygments_lexer": "ipython3",
   "version": "3.7.3"
  },
  "toc": {
   "base_numbering": 1,
   "nav_menu": {},
   "number_sections": true,
   "sideBar": true,
   "skip_h1_title": false,
   "title_cell": "Table of Contents",
   "title_sidebar": "Contents",
   "toc_cell": false,
   "toc_position": {},
   "toc_section_display": true,
   "toc_window_display": true
  },
  "varInspector": {
   "cols": {
    "lenName": 16,
    "lenType": 16,
    "lenVar": 40
   },
   "kernels_config": {
    "python": {
     "delete_cmd_postfix": "",
     "delete_cmd_prefix": "del ",
     "library": "var_list.py",
     "varRefreshCmd": "print(var_dic_list())"
    },
    "r": {
     "delete_cmd_postfix": ") ",
     "delete_cmd_prefix": "rm(",
     "library": "var_list.r",
     "varRefreshCmd": "cat(var_dic_list()) "
    }
   },
   "types_to_exclude": [
    "module",
    "function",
    "builtin_function_or_method",
    "instance",
    "_Feature"
   ],
   "window_display": false
  }
 },
 "nbformat": 4,
 "nbformat_minor": 4
}
