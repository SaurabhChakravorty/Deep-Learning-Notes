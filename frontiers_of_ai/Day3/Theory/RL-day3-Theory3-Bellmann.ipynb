{
 "cells": [
  {
   "cell_type": "markdown",
   "metadata": {},
   "source": [
    "# Bellman-equation"
   ]
  },
  {
   "cell_type": "markdown",
   "metadata": {
    "slideshow": {
     "slide_type": "slide"
    }
   },
   "source": [
    "## State-value, action-value\n",
    "\n",
    "**V - state-value function**\n",
    "\n",
    "**Q - action-value function**\n"
   ]
  },
  {
   "cell_type": "markdown",
   "metadata": {
    "slideshow": {
     "slide_type": "slide"
    }
   },
   "source": [
    "### State-value function (shortly: value-function)\n",
    "\n",
    "The $\\pi$ policy generates trajectories ($\\tau$) until the end of the episode, starting from $s_0$.\n",
    "$\\tau = [s_0, a_0, r_0, s_1, a_1, r_1, ..., s_i, a_i, r_i, ..., s_T, a_T, r_T]$ \n",
    "\n",
    "$$V^\\pi(s) = E_\\tau \\left[ G(\\tau) | s_0 = s, \\pi \\right]$$\n",
    "\n",
    "Where $G$ is the return. If the discounted return is used:\n",
    "\n",
    "$$V^\\pi(s) = E_\\tau \\left[ \\sum_i{\\gamma^i r_i} | s_0 = s, \\pi, r_i \\in \\tau \\right].$$"
   ]
  },
  {
   "cell_type": "markdown",
   "metadata": {
    "slideshow": {
     "slide_type": "slide"
    }
   },
   "source": [
    "### Action-value function\n",
    "\n",
    "The $\\pi$ policy generates trajectories ($\\tau$) until the end of the episode, starting from $s_0$.\n",
    "$\\tau = [s_0, a_0, r_0, s_1, a_1, r_1, ..., s_i, a_i, r_i, ..., s_T, a_T, r_T]$ \n",
    "\n",
    "$$Q^\\pi(s, a) = E_\\tau \\left[ G(\\tau) | s_0 = s, a_0 = a, \\pi \\right]$$\n",
    "\n",
    "Where $G$ is the return. If the discounted return is used ($\\gamma < 1$):\n",
    "\n",
    "$$Q^\\pi(s, a) = E_\\tau \\left[ \\sum_i{\\gamma^i r_i} | s_0 = s, a_0 = a, \\pi, r_i \\in \\tau \\right].$$"
   ]
  },
  {
   "cell_type": "markdown",
   "metadata": {
    "slideshow": {
     "slide_type": "slide"
    }
   },
   "source": [
    "## Monte Carlo solution"
   ]
  },
  {
   "cell_type": "markdown",
   "metadata": {
    "slideshow": {
     "slide_type": "slide"
    }
   },
   "source": [
    "The most naiv approach would be sampling trajectories and calculate the returns for each of them. Then it is possible to average them out and find the value function for each state:\n",
    "\n",
    "$$V(s) = \\frac{\\sum_i^n{G(\\tau_i)}}{n}$$\n",
    "\n",
    "However, we can use a trajectory for sampling return for all the states encountered during the trajectory.\n",
    "There are two strategies how to do that: first visit and every visit.\n",
    "\n",
    "First visit means, if a state encountered several times during a trajectory, the return is calculated for only the first visit.\n",
    "\n",
    "Every visit means, if a state encountered several times, the returns are calculated for each of them."
   ]
  },
  {
   "cell_type": "markdown",
   "metadata": {
    "slideshow": {
     "slide_type": "slide"
    }
   },
   "source": [
    "\n",
    "<img src=\"http://drive.google.com/uc?export=view&id=1uboWLi-NoQ1GMUZtrF1DBsc4Rxqx1BTU\" width=65%>"
   ]
  },
  {
   "cell_type": "markdown",
   "metadata": {
    "slideshow": {
     "slide_type": "slide"
    }
   },
   "source": [
    "The $s_i$ and $s_j$ is the same state but encountered after $i$ and $j$ steps.\n",
    "The return gathered after state $s_i$:\n",
    "\n",
    "$$G_i = \\sum_{k=i}^T{ r(s_k) }$$\n",
    "\n",
    "$$G_j = \\sum_{k=j}^T{ r(s_k) }$$\n",
    "\n",
    "For the first-visit MC, only $G_i$ is considered while for every-visit MC both $G_i$ and $G_j$ is considered."
   ]
  },
  {
   "cell_type": "markdown",
   "metadata": {
    "slideshow": {
     "slide_type": "slide"
    }
   },
   "source": [
    "## Dynamic programming solution"
   ]
  },
  {
   "cell_type": "markdown",
   "metadata": {
    "slideshow": {
     "slide_type": "slide"
    }
   },
   "source": [
    "The Bellman-equation was named after Richard E. Bellman who applied this approach for engineering control problems.\n",
    "\n",
    "*Almost any problem that can be solved using optimal control theory can also be solved by analyzing the appropriate Bellman equation. However, the term 'Bellman equation' usually refers to the dynamic programming equation associated with discrete-time optimization problems. In continuous-time optimization problems, the analogous equation is a partial differential equation that is usually called the Hamilton–Jacobi–Bellman equation.* (See [Wikipedia](https://en.wikipedia.org/wiki/Bellman_equation))"
   ]
  },
  {
   "cell_type": "markdown",
   "metadata": {
    "slideshow": {
     "slide_type": "slide"
    }
   },
   "source": [
    "### Bellman-equation"
   ]
  },
  {
   "cell_type": "markdown",
   "metadata": {
    "slideshow": {
     "slide_type": "slide"
    }
   },
   "source": [
    "Derivation of the Bellman-equation (mathematical version):\n",
    "\n",
    "$$V^\\pi(s) = E_\\tau \\left[ G(\\tau) | s_0 = s, \\pi \\right]$$\n",
    "$$V^\\pi(s) = E_\\tau \\left[ r_1 + \\gamma r_2 + \\gamma^2 r_3 + ... | s_0 = s, \\pi \\right]$$\n",
    "$$V^\\pi(s) = E_\\tau \\left[ r_1 + \\gamma (r_2 + \\gamma r_3 + ...) | s_0 = s, \\pi \\right]$$\n",
    "$$V^\\pi(s) = E_\\tau \\left[ r_1 + \\gamma G(\\tau / s_0) | s_0 = s, \\pi \\right]$$\n",
    "The expectation is an affine operation:\n",
    "$$V^\\pi(s) = E_\\tau \\left[ r_1 \\right] + \\gamma E_\\tau \\left[ G(\\tau / s_0) | s_0 = s, \\pi \\right]$$\n",
    "The expected value of a scalar is the scalar itself:\n",
    "$$V^\\pi(s) = E_\\tau \\left[ r_1 + \\gamma E_\\tau \\left[ E_\\tau G(\\tau / s_0) | s_0 = s, \\pi \\right] \\right]$$\n",
    "$$V^\\pi(s) = E_\\tau \\left[ r_1 + \\gamma V^\\pi(s_1) | s_0 = s, \\pi \\right]$$"
   ]
  },
  {
   "cell_type": "markdown",
   "metadata": {
    "slideshow": {
     "slide_type": "slide"
    }
   },
   "source": [
    "Understanding the Bellmann-equation:\n",
    "\n",
    "<img src=\"http://drive.google.com/uc?export=view&id=1J-jj-LQLnKIMFy9KV6cdKONtXQlMHhWI\" width=70%>"
   ]
  },
  {
   "cell_type": "markdown",
   "metadata": {
    "slideshow": {
     "slide_type": "slide"
    }
   },
   "source": [
    "Understanding the Bellman-equation:\n",
    "\n",
    "The Bellman-equation is the result of the dynamic programming description of the trajectory. In a nutshell, we can think of dynamic programming as recursion: in order to get the current value, we can rely on the previous results. If we have a well defined initial value, base, then we can calculate the actual value. E.g.:\n",
    "\n",
    "$H(k+1) = f(H(k))$\n",
    "\n",
    "and $H(0)$ is known or trivial. $f$ is a function which is the connection between the current and the previous result. $H$ is the function of interest we would like to calculate. \n",
    "\n",
    "Of course, this is not a general description of dynamic programming, just a short example."
   ]
  },
  {
   "cell_type": "markdown",
   "metadata": {
    "slideshow": {
     "slide_type": "slide"
    }
   },
   "source": [
    "How does this look like for the RL setting?\n",
    "\n",
    "Relying on the previous example, we can write:\n",
    "\n",
    "$$V^\\pi(s) = f(V^\\pi(N(s)))$$\n",
    "\n",
    "where $N(s)$ is the set of states which is the neighborhood of the state $s$. Neighborhood means, the states available directly (with higher probability than 0) from state $s$."
   ]
  },
  {
   "cell_type": "markdown",
   "metadata": {
    "slideshow": {
     "slide_type": "slide"
    }
   },
   "source": [
    "What is the $f$ function?\n",
    "\n",
    "For the trajectory of an agent, the Markov-property is true as we discussed earlier. Therefore it is not required to know the whole sequence to calculate the current state's value.\n",
    "\n",
    "It is enough to know the current state and the transition probabilities to make one step forward.\n",
    "\n",
    "Instead of using the recursion (backward direction), we can use a forward view. We can ask, if I know the value of all the neighboring states (possible next states), then what is the value of the current state."
   ]
  },
  {
   "cell_type": "markdown",
   "metadata": {
    "slideshow": {
     "slide_type": "slide"
    }
   },
   "source": [
    "<img src=\"http://drive.google.com/uc?export=view&id=16RAhhRENpOgFv_F6MgVdECrP63Bw0HRx\" width=70%>"
   ]
  },
  {
   "cell_type": "markdown",
   "metadata": {
    "slideshow": {
     "slide_type": "slide"
    }
   },
   "source": [
    "Formalizing the Bellman-equation (intuitive version):\n",
    "\n",
    "* Current state: $s$\n",
    "* A next state: $s' \\in N(s)$\n",
    "* Next action: $a$\n",
    "* Immediate reward when moving from s with a: $r(s, a)$\n",
    "\n",
    "For a single transition, $s \\rightarrow a \\rightarrow r \\rightarrow s'$:\n",
    "\n",
    "$$v(s) = r(s, a) + \\gamma V(s')$$\n",
    "\n",
    "$v(s)$ is for showing this is for only one path. Then we need the expected value of the $v(s)$ values.\n",
    "Therefore we want to know the probability of the transition, shown above:\n",
    "\n",
    "$$p(s, a, s') = \\pi(s, a) \\cdot T(s, a, s')$$"
   ]
  },
  {
   "cell_type": "markdown",
   "metadata": {
    "slideshow": {
     "slide_type": "slide"
    }
   },
   "source": [
    "Formalizing the Bellman-equation (intuitive version):\n",
    "\n",
    "Then the expected value:\n",
    "\n",
    "$$V^\\pi(s) = \\sum_{a \\in A}{\\sum_{s'\\in N(s)}{ p(s, a, s') \\cdot v(s)}}$$\n",
    "\n",
    "After putting them together:\n",
    "$$V^\\pi(s) = \\sum_{a \\in A}{\\sum_{s'\\in N(s)}{ \\pi(s, a) T(s, a, s') \\cdot \\left[ r(s, a) + \\gamma V^\\pi(s') \\right]}}$$"
   ]
  },
  {
   "cell_type": "markdown",
   "metadata": {
    "slideshow": {
     "slide_type": "slide"
    }
   },
   "source": [
    "The previous formulation is true for:\n",
    "* state-value function\n",
    "* stochastic policy (known, or fixed)\n",
    "\n",
    "As a consequence, there are several forms of the Bellman-equation. Let's go through them!"
   ]
  },
  {
   "cell_type": "markdown",
   "metadata": {
    "slideshow": {
     "slide_type": "slide"
    }
   },
   "source": [
    "**What is the Bellman-equation for the state-value function with a determinstic policy?**"
   ]
  },
  {
   "cell_type": "markdown",
   "metadata": {
    "slideshow": {
     "slide_type": "slide"
    }
   },
   "source": [
    "State-value, deterministic, fixed policy:\n",
    "\n",
    "$$V^\\pi(s) = \\sum_{s'\\in N(s)}{T(s, \\pi(s), s') \\cdot \\left[ r(s, \\pi(s)) + \\gamma V^\\pi(s') \\right]}$$"
   ]
  },
  {
   "cell_type": "markdown",
   "metadata": {
    "slideshow": {
     "slide_type": "slide"
    }
   },
   "source": [
    "**What is the Bellman-equation for the action-value function with a stochastic policy?**"
   ]
  },
  {
   "cell_type": "markdown",
   "metadata": {
    "slideshow": {
     "slide_type": "slide"
    }
   },
   "source": [
    "$$Q^\\pi(s, a) = \\sum_{s', a'}{\\pi(s', a') \\cdot T(s, a, s') \\cdot \\left[ r(s, a) + \\gamma \\cdot Q^\\pi(s', a') \\right]}$$"
   ]
  },
  {
   "cell_type": "markdown",
   "metadata": {
    "slideshow": {
     "slide_type": "slide"
    }
   },
   "source": [
    "**What is the Bellman-equation for the action-value function with a determinstic policy?**"
   ]
  },
  {
   "cell_type": "markdown",
   "metadata": {
    "slideshow": {
     "slide_type": "slide"
    }
   },
   "source": [
    "$$Q^\\pi(s, a) = \\sum_{s'}{T(s, a, s') \\cdot \\left[ r(s, a) + \\gamma \\cdot Q^\\pi(s', \\pi(s')) \\right]}$$"
   ]
  },
  {
   "cell_type": "markdown",
   "metadata": {
    "slideshow": {
     "slide_type": "slide"
    }
   },
   "source": [
    "### Examples\n",
    "\n",
    "Calculate the $V$ and $Q$ values for states, marked with question mark. The rewards are recieved when the agent enters to the state. There are two actions, according to which state the agent wants to go. The transition probabilities are the shown beside the arrows and it is the probability of the transition if the action triggers move to that state. The policy is the random policy. $\\gamma = 0.8$."
   ]
  },
  {
   "cell_type": "markdown",
   "metadata": {
    "slideshow": {
     "slide_type": "slide"
    }
   },
   "source": [
    "**Example 1**\n",
    "\n",
    "<img src=\"http://drive.google.com/uc?export=view&id=1kyp0TwU3OsCoRWI7gnd56AlFhkDFqkM9\" width=65%>"
   ]
  },
  {
   "cell_type": "markdown",
   "metadata": {
    "slideshow": {
     "slide_type": "slide"
    }
   },
   "source": [
    "**Example 2**\n",
    "\n",
    "<img src=\"http://drive.google.com/uc?export=view&id=1hRJHlGQgCZy42170feEWALHyWBcJuC0G\" width=65%>"
   ]
  },
  {
   "cell_type": "markdown",
   "metadata": {
    "slideshow": {
     "slide_type": "slide"
    }
   },
   "source": [
    "**Example 3**\n",
    "\n",
    "<img src=\"http://drive.google.com/uc?export=view&id=1sMXIbM7969JquYXrIB7kmMrX0U6RhqUI\" width=65%>"
   ]
  },
  {
   "cell_type": "markdown",
   "metadata": {
    "slideshow": {
     "slide_type": "slide"
    }
   },
   "source": [
    "**What is the connection between $Q$ and $V$?**\n",
    "\n",
    "Try to answer this!"
   ]
  },
  {
   "cell_type": "markdown",
   "metadata": {
    "slideshow": {
     "slide_type": "slide"
    }
   },
   "source": [
    "**What is the connection between $Q$ and $V$?**\n",
    "\n",
    "$$V^\\pi(s) = \\sum_a{\\pi(s, a) \\cdot Q^\\pi(s, a)}$$\n",
    "\n",
    "and\n",
    "\n",
    "$$Q^\\pi(s, a) = \\sum_{s'}{ T(s, a, s') \\cdot \\left[ r(s, a) + \\gamma V^\\pi(s') \\right] }$$"
   ]
  },
  {
   "cell_type": "markdown",
   "metadata": {
    "slideshow": {
     "slide_type": "slide"
    }
   },
   "source": [
    "**Calculating the policy**\n",
    "\n",
    "If the state-value function is known (**requires the transition matrix**):\n",
    "\n",
    "$$\\pi'(s) = \\arg\\max_a\\left( \\sum_{s'}T(s, a, s') \\cdot \\left[ r(s, a) + \\gamma V^\\pi(s') \\right]\\right)$$\n",
    "\n",
    "If the action-value function is known:\n",
    "\n",
    "$$\\pi'(s) = \\arg\\max_a\\left( Q^\\pi(s, a) \\right)$$\n",
    "\n",
    "As you can see, only deterministic policies can be calculated from the value-functions. $\\pi' = \\pi$ if the Q-function (and V) is the optimal one."
   ]
  },
  {
   "cell_type": "markdown",
   "metadata": {
    "slideshow": {
     "slide_type": "slide"
    }
   },
   "source": [
    "### Solution analysis\n",
    "\n",
    "So far we have discussed a dynamic programming relation among states for the state-value and action-value functions.\n",
    "The next two question we would like to address is, how to find:\n",
    "\n",
    "* the solution (V or Q) for a given policy\n",
    "* how to improve the policy\n",
    "* how to find the optimal policy\n",
    "\n",
    "We will answer this questions later on. Regarding the first point, the natural question is: Is the solution unique?"
   ]
  },
  {
   "cell_type": "markdown",
   "metadata": {
    "slideshow": {
     "slide_type": "slide"
    }
   },
   "source": [
    "Banach's fix-point theorem (brief):\n",
    "\n",
    "<img src=\"http://drive.google.com/uc?export=view&id=1drPT32Y6HKG1r8k11LFMOYUbX0AWWimw\" width=65%>"
   ]
  },
  {
   "cell_type": "markdown",
   "metadata": {
    "slideshow": {
     "slide_type": "slide"
    }
   },
   "source": [
    "Assume we have a vector space ($Z$) and we have a defined distance metric $d$ (e.g. euclidian-distance). The operation $F$ is a contraction if the following holds:\n",
    "\n",
    "$$d(F(s), F(t)) < d(s, t)\\ \\forall s, t \\in Z$$\n",
    "\n",
    "For such an $F$ contraction operator, there exists **exactly one point** (fix point):\n",
    "\n",
    "$$x = F(x)$$"
   ]
  },
  {
   "cell_type": "markdown",
   "metadata": {
    "slideshow": {
     "slide_type": "slide"
    }
   },
   "source": [
    "If we would have two fix points:\n",
    "\n",
    "$$x_1 = F(x_1)$$\n",
    "and\n",
    "$$x_2 = F(x_2)$$\n",
    "\n",
    "Then:\n",
    "\n",
    "$$d(F(x_1), F(x_2)) < d(x_1, x_2)$$\n",
    "\n",
    "Beacuse the inequality is strict, this is a contradiction, $x_1$ and $x_2$ can not be different."
   ]
  },
  {
   "cell_type": "markdown",
   "metadata": {
    "slideshow": {
     "slide_type": "slide"
    }
   },
   "source": [
    "How does this connect to the Bellman-equation?\n",
    "\n",
    "Take the V(s) function as a vector (discrete states and finite). Then one can reformalize the Bellman-equation:\n",
    "\n",
    "$$\\overline{V} = \\overline{R} + \\gamma P \\overline{V} = F^\\pi_\\gamma\\left( \\overline{V} \\right)$$\n",
    "\n",
    "It can be proven, that $F^\\pi_\\gamma$, $\\gamma < 1$ is a contraction (L2-norm). Therefore there is only one, unique $V$ for solution. The same is true for $Q$. $P$ contains the $\\pi$ and $T$."
   ]
  },
  {
   "cell_type": "markdown",
   "metadata": {
    "slideshow": {
     "slide_type": "slide"
    }
   },
   "source": [
    "### Matrix solution"
   ]
  },
  {
   "cell_type": "markdown",
   "metadata": {
    "slideshow": {
     "slide_type": "slide"
    }
   },
   "source": [
    "The Bellman-equation in a matrix form:\n",
    "\n",
    "$$\\overline{V} = \\overline{R} + \\gamma P \\overline{V}$$\n",
    "\n",
    "Then, we can solve this directly:\n",
    "\n",
    "$$\\overline{V} = \\left( I - \\gamma P \\right)^{-1}\\overline{R}$$"
   ]
  },
  {
   "cell_type": "markdown",
   "metadata": {
    "slideshow": {
     "slide_type": "slide"
    }
   },
   "source": [
    "This is a really appealing solution. Seems easy. But it has $O(n^3)$ computational complexity if the state space contains $n$ states. Therefore it is only useful, if:\n",
    "\n",
    "* the state space is small enough\n",
    "* the reward function is known\n",
    "* the transition probability (the dynamics of the environemnt) is known.\n",
    "\n",
    "Furthermore this method, still not answeres how to find the optimal policy. This is just the calculation of the V (or Q) functions."
   ]
  },
  {
   "cell_type": "markdown",
   "metadata": {
    "slideshow": {
     "slide_type": "slide"
    }
   },
   "source": [
    "### Iterative solution"
   ]
  },
  {
   "cell_type": "markdown",
   "metadata": {
    "slideshow": {
     "slide_type": "slide"
    }
   },
   "source": [
    "The solution has the following phases:\n",
    "1. Initialize the policy $\\pi$ and value table $V$\n",
    "2. Calculate $V^\\pi$ for the current $\\pi$\n",
    "3. Improve the policy according to $V^\\pi$\n",
    "4. Repeat until convergence\n",
    "\n",
    "This can be used to find the solution. Below we will focus on step 2 and 3. For step 2, the matrix solution can be used as well. This method is similar for $Q$."
   ]
  },
  {
   "cell_type": "markdown",
   "metadata": {
    "slideshow": {
     "slide_type": "slide"
    }
   },
   "source": [
    "**Policy evaluation**\n",
    "\n",
    "Due to the fact that the Bellmann-equation can be considered as a contraction operation, the repeated use of the operator will get the value of $V$ closer to the solution (the fix point), step-by-step.\n",
    "\n",
    "Therefore, the following equation should be evaluated several times, until the $V$ does not change significantly:\n",
    "\n",
    "$$V^\\pi_{t+1}(s) = \\sum_{a \\in A}{\\sum_{s'\\in N(s)}{ \\pi(s, a) T(s, a, s') \\cdot \\left[ r(s, a) + \\gamma V^\\pi_t(s') \\right]}}$$"
   ]
  },
  {
   "cell_type": "markdown",
   "metadata": {
    "slideshow": {
     "slide_type": "slide"
    }
   },
   "source": [
    "**Policy improvement (policy improvement theorem)**\n",
    "\n",
    "After knowing the $V$ or $Q$, calculate the best policies suggested by $V$:\n",
    "\n",
    "$$\\pi'(s) = \\arg\\max_a\\left( \\sum_{s'\\in N(s)}{ T(s, a, s') \\cdot \\left[ r(s, a) + \\gamma V^\\pi(s') \\right]}\\right)$$\n",
    "\n",
    "Then:\n",
    "\n",
    "$$\\pi \\leftarrow \\pi'$$"
   ]
  },
  {
   "cell_type": "markdown",
   "metadata": {
    "slideshow": {
     "slide_type": "slide"
    }
   },
   "source": [
    "**Policy improvement**\n",
    "\n",
    "The key question is whether the policy $\\pi'$ is better than $\\pi$. The **policy improvement theorem** answers this:\n",
    "\n",
    "*Let $\\pi$ and $\\pi'$ be any pair of deterministic policies such that, for all $s \\in S$*,\n",
    "\n",
    "$$Q^\\pi(s, \\pi'(s)) \\geq V^\\pi(s)$$\n",
    "\n",
    "*Then the policy $\\pi'$ must be as good as, or better than, $\\pi$:*\n",
    "\n",
    "$$V^{\\pi'}(s) \\geq V^\\pi(s)$$"
   ]
  },
  {
   "cell_type": "markdown",
   "metadata": {
    "slideshow": {
     "slide_type": "slide"
    }
   },
   "source": [
    "**Proof of policy improvement**\n",
    "\n",
    "Keep expanding the $Q^\\pi(s, \\pi'(s))$:\n",
    "\n",
    "$$V^\\pi(s) \\leq Q^\\pi(s, \\pi'(s))$$\n",
    "$$V^\\pi(s) \\leq E_\\pi\\left[ r(s, a) + \\gamma V^\\pi(s_1) | s = s_0, a = \\pi'(s) \\right]$$\n",
    "$$V^\\pi(s) \\leq E_{\\pi'}\\left[ r(s, a) + \\gamma V^\\pi(s_1) | s = s_0 \\right]$$\n",
    "$$V^\\pi(s) \\leq E_{\\pi'}\\left[ r(s, a) + \\gamma Q^\\pi(s_1, \\pi'(s_1)) | s = s_0 \\right]$$\n",
    "$$V^\\pi(s) \\leq E_{\\pi'}\\left[ r(s, a) + \\gamma E_{\\pi'}\\left[ r(s_1, a_1) + \\gamma V^\\pi(s_2) \\right] | s = s_0 \\right]$$\n",
    "$$V^\\pi(s) \\leq E_{\\pi'}\\left[ r(s, a) + \\gamma r(s_1, a_1) + \\gamma^2 V^\\pi(s_2) | s = s_0 \\right]$$\n",
    "$$V^\\pi(s) \\leq E_{\\pi'}\\left[ r(s, a) + \\gamma r(s_1, a_1) + \\gamma^2 r(s_2, a_2)  + \\gamma^3 V^\\pi(s_2) | s = s_0 \\right]$$\n",
    "$$V^\\pi(s) \\leq E_{\\pi'}\\left[ r(s, a) + \\gamma r(s_1, a_1) + \\gamma^2 r(s_2, a_2)  + \\gamma^3 r(s_3, a_3) + ... | s = s_0 \\right]$$\n",
    "$$V^\\pi(s) \\leq V^{\\pi'}(s)$$"
   ]
  },
  {
   "cell_type": "markdown",
   "metadata": {
    "slideshow": {
     "slide_type": "slide"
    }
   },
   "source": [
    "**Policy iteration**\n",
    "\n",
    "<img src=\"http://drive.google.com/uc?export=view&id=1CupNVaOMh5H3ikPIV9rllXkKdoasBzPb\" width=75%>"
   ]
  },
  {
   "cell_type": "markdown",
   "metadata": {
    "slideshow": {
     "slide_type": "slide"
    }
   },
   "source": [
    "**Value iteration**\n",
    "\n",
    "It is possible to fuse the policy evaluation and policy improvement and apply only one operation at a time:\n",
    "\n",
    "$$V^*_{t+1}(s) = \\max_a{\\sum_{s'\\in N(s)}{T(s, a, s') \\cdot \\left[ r(s, a) + \\gamma V^*_t(s') \\right]}}$$"
   ]
  },
  {
   "cell_type": "markdown",
   "metadata": {
    "slideshow": {
     "slide_type": "slide"
    }
   },
   "source": [
    "**Value iteration**\n",
    "\n",
    "<img src=\"http://drive.google.com/uc?export=view&id=1NdOv59iJULMNDv8yt7itaNLSV8OIVWfG\" width=75%>"
   ]
  },
  {
   "cell_type": "markdown",
   "metadata": {
    "slideshow": {
     "slide_type": "slide"
    }
   },
   "source": [
    "### Efficiency of dynamic programming\n",
    "\n",
    "For large problems (many states and many actions) this method is still not efficient.\n",
    "However it is more efficient than the Monte Carlo method.\n",
    "\n",
    "Lets note the number of states with $n_s$ and the number of actions with $n_a$.\n",
    "The dynamic programming method is guaranteed to find the optimal policy in **polynomial time** (of $n_s$ and $n_a$).\n",
    "The total number of possible policies are $n_a^{n_s}$. Therefore the dynamic programming approach is **exponentially faster than any direct search** in policy space.\n",
    "\n",
    "In practice, the dynamic programming approach can solve MDP problems with **millions of states**. This is important because if you manage to formalize  a problem in a tabular setting than it can be solved by dynamic programming and you can take advantage of its good convergence properties."
   ]
  },
  {
   "cell_type": "markdown",
   "metadata": {
    "slideshow": {
     "slide_type": "slide"
    }
   },
   "source": [
    "**Grid world DEMO with visualization**"
   ]
  },
  {
   "cell_type": "markdown",
   "metadata": {
    "slideshow": {
     "slide_type": "slide"
    }
   },
   "source": [
    "## Bellman-equation summary/recap"
   ]
  },
  {
   "cell_type": "markdown",
   "metadata": {
    "slideshow": {
     "slide_type": "slide"
    }
   },
   "source": [
    "<img src=\"http://drive.google.com/uc?export=view&id=1J-jj-LQLnKIMFy9KV6cdKONtXQlMHhWI\" width=75%>"
   ]
  },
  {
   "cell_type": "markdown",
   "metadata": {
    "slideshow": {
     "slide_type": "slide"
    }
   },
   "source": [
    "Value-function, fixed stochastic policy\n",
    "$$V^\\pi(s) = \\sum_{s', a}{\\pi(s, a) \\cdot T(s, a, s') \\cdot \\left[ r(s, a) + \\gamma \\cdot V^\\pi(s') \\right]}$$\n",
    "\n",
    "Value-function, fixed deterministic policy\n",
    "$$V^\\pi(s) = \\sum_{s'}{T(s, \\pi(s), s') \\cdot \\left[ r(s, \\pi(s)) + \\gamma \\cdot V^\\pi(s') \\right]}$$"
   ]
  },
  {
   "cell_type": "markdown",
   "metadata": {
    "slideshow": {
     "slide_type": "slide"
    }
   },
   "source": [
    "Action value-function, fixed stochastic policy\n",
    "$$Q^\\pi(s, a) = \\sum_{s', a'}{\\pi(s', a') \\cdot T(s, a, s') \\cdot \\left[ r(s, a) + \\gamma \\cdot Q^\\pi(s', a') \\right]}$$\n",
    "\n",
    "Action value-function, fixed deterministic policy\n",
    "$$Q^\\pi(s, a) = \\sum_{s'}{T(s, a, s') \\cdot \\left[ r(s, a) + \\gamma \\cdot Q^\\pi(s', \\pi(s')) \\right]}$$"
   ]
  },
  {
   "cell_type": "markdown",
   "metadata": {
    "slideshow": {
     "slide_type": "slide"
    }
   },
   "source": [
    "Optimal value-function\n",
    "$$\\tilde{V}(s) = \\max_a \\sum_{s'}{T(s, a, s') \\cdot \\left[ r(s, a, s') + \\gamma \\cdot \\tilde{V}(s') \\right]}$$\n",
    "\n",
    "Optimal action value-function\n",
    "$$\\tilde{Q}(s, a) = \\sum_{s'}{T(s, a, s') \\cdot \\left[ r(s, a, s') + \\gamma \\cdot \\max_{a'} \\tilde{Q}(s', a') \\right]}$$"
   ]
  }
 ],
 "metadata": {
  "celltoolbar": "Slideshow",
  "kernelspec": {
   "display_name": "Python 3",
   "language": "python",
   "name": "python3"
  },
  "language_info": {
   "codemirror_mode": {
    "name": "ipython",
    "version": 3
   },
   "file_extension": ".py",
   "mimetype": "text/x-python",
   "name": "python",
   "nbconvert_exporter": "python",
   "pygments_lexer": "ipython3",
   "version": "3.7.3"
  }
 },
 "nbformat": 4,
 "nbformat_minor": 4
}
