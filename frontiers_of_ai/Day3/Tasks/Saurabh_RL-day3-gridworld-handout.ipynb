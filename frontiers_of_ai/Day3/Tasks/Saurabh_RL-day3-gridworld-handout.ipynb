{
 "cells": [
  {
   "cell_type": "code",
   "execution_count": 298,
   "metadata": {
    "executionInfo": {
     "elapsed": 584,
     "status": "ok",
     "timestamp": 1608223930984,
     "user": {
      "displayName": "Saurabh Chakravorty",
      "photoUrl": "https://lh3.googleusercontent.com/a-/AOh14Gg4i8aVesE-zqnMJttjboEDqonbdcW85GPg1Yfj5g=s64",
      "userId": "01575942328847603880"
     },
     "user_tz": -60
    },
    "id": "MlubAHuEf_Sc"
   },
   "outputs": [],
   "source": [
    "# importing the necessary libraries\n",
    "from matplotlib import pyplot as plt\n",
    "from matplotlib import cm\n",
    "import numpy as np"
   ]
  },
  {
   "cell_type": "markdown",
   "metadata": {
    "id": "0lBz_WAPf_Sm"
   },
   "source": [
    "<img src=\"http://drive.google.com/uc?export=view&id=18q7KL4aV6McMtaid_1Let2aGkw6d4QYn\" width=45%>"
   ]
  },
  {
   "cell_type": "code",
   "execution_count": 299,
   "metadata": {
    "executionInfo": {
     "elapsed": 792,
     "status": "ok",
     "timestamp": 1608223931225,
     "user": {
      "displayName": "Saurabh Chakravorty",
      "photoUrl": "https://lh3.googleusercontent.com/a-/AOh14Gg4i8aVesE-zqnMJttjboEDqonbdcW85GPg1Yfj5g=s64",
      "userId": "01575942328847603880"
     },
     "user_tz": -60
    },
    "id": "1VtOsSryf_Sn"
   },
   "outputs": [],
   "source": [
    "class GridWorld:\n",
    "    \"\"\"\n",
    "    The gridworls is a frequently used demo environment in reinforcement learning\n",
    "    to try and test ideas.\n",
    "    Today, we will use it to understand the concepts so far.\n",
    "    \n",
    "    The environment: (see image)\n",
    "    * cells: the agent can step on a cell. There is exactly one cell to start from.\n",
    "    This is the top left corner. There is one terminal cell where the walking ends, \n",
    "    the agent can not leave it (blue).\n",
    "    * obstacles: there are cells where the agent can not step. (gray)\n",
    "    * agent: it can move from one cell to an other neighboring cell. \n",
    "    Possible directions: up, down, left, right. Each transition happens with probability 1.\n",
    "    * reward: after each transition the agent receives -1 point. In the terminal cell, no reward\n",
    "    received anymore.\n",
    "    \n",
    "    Implement the environment below!\n",
    "    \"\"\"\n",
    "    def __init__(self, size, start_cell, obstacles, terminating_state):\n",
    "        self.size = size\n",
    "        self.start = start_cell\n",
    "        self.obstacles = obstacles\n",
    "        self.termin = terminating_state\n",
    "        self.current_cell = self.start\n",
    "    \n",
    "    def reset(self):\n",
    "        # ----- reset the current cell to the start cell to start again -----\n",
    "        self.current_cell = self.start\n",
    "    \n",
    "    def transition(self, cell, action):\n",
    "        # ----- IMPLEMENT FUNCTION -----\n",
    "        # cell = (row, column) indices\n",
    "        # action: 0 left, 1 up, 2 right, 3 down\n",
    "        # returns: What will be the next state\n",
    "        # Take care of the borders of the grid!\n",
    "        \n",
    "        # Checking for typical edge cases of terminal\n",
    "        if cell == self.termin:\n",
    "            self.current_cell = cell\n",
    "            return cell\n",
    "        \n",
    "        # If not then let's go...\n",
    "        r_next, c_next = cell[0], cell[1]  # Getting cell states in vars\n",
    "        \n",
    "        # if action is \"left\"\n",
    "        if action == 0:\n",
    "            if c_next != 0 :                 # Considering corner case\n",
    "                c_next = c_next - 1\n",
    "                \n",
    "        # if action is \"up\"\n",
    "        elif action == 1:\n",
    "             if r_next != 0:                 # Considering corner case\n",
    "                r_next = r_next - 1\n",
    "                \n",
    "        # if action is \"right\"\n",
    "        elif action == 2:\n",
    "             if c_next != self.size[1] - 1:  # Considering corner case\n",
    "                c_next = c_next + 1\n",
    "                \n",
    "                \n",
    "        # if action is \"down\"\n",
    "        elif action == 3:\n",
    "             if r_next != self.size[0] - 1:  # Considering corner case\n",
    "                r_next = r_next + 1\n",
    "                \n",
    "        # Check after transition there is an obstacle we will not move\n",
    "        if (r_next, c_next) in self.obstacles:\n",
    "                self.current_cell = cell\n",
    "                return cell\n",
    "                \n",
    "        self.current_cell = (r_next, c_next)\n",
    "        return (r_next, c_next) # Return the states\n",
    "\n",
    "    def reward(self, cell, action):\n",
    "        # ----- RETURN REWARD -----\n",
    "        # -1 if not in the terminal state\n",
    "        \n",
    "        # As specified reward is \"-1\" in all the cases except terminal state\n",
    "        if cell != self.termin:\n",
    "            return -1\n",
    "        else:\n",
    "            return 0\n",
    "    \n",
    "    def in_terminal(self):\n",
    "        return self.current_cell == self.termin"
   ]
  },
  {
   "cell_type": "code",
   "execution_count": 300,
   "metadata": {
    "executionInfo": {
     "elapsed": 777,
     "status": "ok",
     "timestamp": 1608223931227,
     "user": {
      "displayName": "Saurabh Chakravorty",
      "photoUrl": "https://lh3.googleusercontent.com/a-/AOh14Gg4i8aVesE-zqnMJttjboEDqonbdcW85GPg1Yfj5g=s64",
      "userId": "01575942328847603880"
     },
     "user_tz": -60
    },
    "id": "z-6zSlyYf_So"
   },
   "outputs": [],
   "source": [
    "class DPsolver:\n",
    "    \"\"\"\n",
    "    This solver is based on the Bellman-equation and it is \n",
    "    solved by iteratively.\n",
    "    The action-value is used to represent the utility of the \n",
    "    actions and states.\n",
    "    \"\"\"\n",
    "\n",
    "    def __init__(self, gridworld, gamma, iterations):\n",
    "        # setting parametes according to the input parameters\n",
    "        self.gridworld = gridworld\n",
    "        self.gamma = gamma\n",
    "        self.iterations = iterations\n",
    "        size = gridworld.size\n",
    "        # initialize accumulaters\n",
    "        self.cntr = 0\n",
    "        self.sum_rewards = []\n",
    "        self.path = []\n",
    "        # ----- initialize the table for Q-function -----\n",
    "        self.q_table = np.zeros((4, size[0], size[1]), dtype=np.float32)\n",
    "        # Defining states which are actually 4\n",
    "        self.state = [0,1,2,3]\n",
    "    \n",
    "    \n",
    "    def step(self):\n",
    "        # ----- WRITE THE CODE BELOW -----\n",
    "        # implement one step in the value iteration\n",
    "        rows, cols = self.gridworld.size  # ask for the size of the grid\n",
    "        # ----- cycle over the rows -----\n",
    "        for r in range(rows):\n",
    "            # ----- cycle over the columns -----\n",
    "            for c in range(cols):\n",
    "                # ----- cycle over the actions -----\n",
    "                for act in self.state:\n",
    "                    # ----- get the reward -----\n",
    "                    reward = self.gridworld.reward((r,c), act)\n",
    "                    # ----- calculate the corresponding next step (what would happen) -----\n",
    "                    cell_next = self.gridworld.transition((r,c), act) #passing it into next function defined\n",
    "                    #print(cell_next)\n",
    "                    # Let's get the next state values\n",
    "                    r2, c2 = cell_next[0], cell_next[1]\n",
    "                    # ----- update the q-table -----\n",
    "                    self.q_table[act, r, c] = reward + self.gamma * np.max(self.q_table[:, r2, c2]) # updating q table with reward and max value over row and cols\n",
    "                    \n",
    "        # increase the counter\n",
    "        self.cntr = self.cntr +  1\n",
    "        # add the return to the sum_rewards list\n",
    "        self.sum_rewards.append(self.trajectory())\n",
    "\n",
    "    def trajectory(self):\n",
    "        # ----- IMPLEMENT THE FUNCTION -----\n",
    "        # reset the gridworld\n",
    "        self.gridworld.reset()\n",
    "\n",
    "        # calculate the return along a trajectory followed by the current policy\n",
    "        # when started from the start_cell\n",
    "\n",
    "        # TODO\n",
    "        sum_rewards = 0\n",
    "        # This is taken for termination of the loop in order to stop iterations\n",
    "        step = 0\n",
    "        while not self.gridworld.in_terminal() and step < 10: # only 10 taken in steps\n",
    "            r, c = self.gridworld.current_cell         # get the current cell\n",
    "            action = np.argmax(self.q_table[:, r, c])  # update with argmax\n",
    "            self.gridworld.transition((r, c), action)  # get the transition\n",
    "            sum_rewards = sum_rewards +  self.gridworld.reward((r, c), action)  # Get the reward\n",
    "            self.path.append((r, c))\n",
    "            step = step + 1\n",
    "#             if self.gridworld.in_terminal():\n",
    "#                 print('terminal')\n",
    "        return sum_rewards\n",
    "\n",
    "    def is_learning_finished(self):\n",
    "        # ----- IMPLEMENT THIS FUNCTION -----\n",
    "        # check whether learning has finished, return it\n",
    "        return self.cntr > self.iterations"
   ]
  },
  {
   "cell_type": "code",
   "execution_count": 301,
   "metadata": {
    "executionInfo": {
     "elapsed": 1025,
     "status": "ok",
     "timestamp": 1608223931490,
     "user": {
      "displayName": "Saurabh Chakravorty",
      "photoUrl": "https://lh3.googleusercontent.com/a-/AOh14Gg4i8aVesE-zqnMJttjboEDqonbdcW85GPg1Yfj5g=s64",
      "userId": "01575942328847603880"
     },
     "user_tz": -60
    },
    "id": "0HsN0ig4f_Sp"
   },
   "outputs": [],
   "source": [
    "def plot_learning_curve(ql):\n",
    "    values = ql.sum_rewards\n",
    "    x = list(range(len(values)))\n",
    "    y = values\n",
    "    plt.plot(x, y, 'ro')\n",
    "    plt.show()"
   ]
  },
  {
   "cell_type": "code",
   "execution_count": 302,
   "metadata": {
    "colab": {
     "base_uri": "https://localhost:8080/",
     "height": 283
    },
    "executionInfo": {
     "elapsed": 1376,
     "status": "ok",
     "timestamp": 1608223931872,
     "user": {
      "displayName": "Saurabh Chakravorty",
      "photoUrl": "https://lh3.googleusercontent.com/a-/AOh14Gg4i8aVesE-zqnMJttjboEDqonbdcW85GPg1Yfj5g=s64",
      "userId": "01575942328847603880"
     },
     "user_tz": -60
    },
    "id": "lQ_Ie6_rf_Sq",
    "outputId": "f345ae47-93c1-4c32-cd49-b2df54bfea61"
   },
   "outputs": [
    {
     "name": "stdout",
     "output_type": "stream",
     "text": [
      "-8\n"
     ]
    },
    {
     "data": {
      "image/png": "[encoded data removed]",
      "text/plain": [
       "<Figure size 432x288 with 1 Axes>"
      ]
     },
     "metadata": {
      "needs_background": "light"
     },
     "output_type": "display_data"
    }
   ],
   "source": [
    "# grid world parameters\n",
    "size = (6, 6)\n",
    "start_cell = (0, 0)\n",
    "obstacles = [(3, 3)]\n",
    "terminating_state = (3, 5)\n",
    "# q learning parameters\n",
    "gamma = 0.9\n",
    "# ----- What is the minimum required number of iterations? -----\n",
    "\"\"\"\n",
    "Since we see the reward is converging after some count we don't need much iterations \n",
    "\n",
    "\"\"\"\n",
    "iterations = 8\n",
    "\n",
    "gw = GridWorld(size, start_cell, obstacles, terminating_state)\n",
    "solver = DPsolver(gw, gamma, iterations)\n",
    "\n",
    "while not solver.is_learning_finished():\n",
    "    solver.step()\n",
    "    sum_rewards = solver.sum_rewards[-1]\n",
    "   # print(sum_rewards)\n",
    "\n",
    "sum_rewards = solver.trajectory()\n",
    "print(sum_rewards)\n",
    "plot_learning_curve(solver)"
   ]
  },
  {
   "cell_type": "markdown",
   "metadata": {},
   "source": [
    "<div class=\"alert alert-block alert-success\">\n",
    "<b>Success:</b> The following has converged after 7 iterations which is minimal required to complete"
   ]
  },
  {
   "cell_type": "markdown",
   "metadata": {},
   "source": [
    "*Let's see with more iterations*"
   ]
  },
  {
   "cell_type": "code",
   "execution_count": 303,
   "metadata": {},
   "outputs": [
    {
     "name": "stdout",
     "output_type": "stream",
     "text": [
      "-8\n"
     ]
    },
    {
     "data": {
      "image/png": "[encoded data removed]",
      "text/plain": [
       "<Figure size 432x288 with 1 Axes>"
      ]
     },
     "metadata": {
      "needs_background": "light"
     },
     "output_type": "display_data"
    }
   ],
   "source": [
    "# grid world parameters\n",
    "size = (6, 6)\n",
    "start_cell = (0, 0)\n",
    "obstacles = [(1,1), (3, 3)]\n",
    "terminating_state = (3, 5)\n",
    "# q learning parameters\n",
    "gamma = 0.9\n",
    "# ----- What is the minimum required number of iterations? -----\n",
    "\"\"\"\n",
    "Since we see the reward is converging after some count we don't need much iterations \n",
    "\n",
    "\"\"\"\n",
    "iterations = 20\n",
    "\n",
    "gw = GridWorld(size, start_cell, obstacles, terminating_state)\n",
    "solver = DPsolver(gw, gamma, iterations)\n",
    "\n",
    "while not solver.is_learning_finished():\n",
    "    solver.step()\n",
    "    sum_rewards = solver.sum_rewards[-1]\n",
    "   # print(sum_rewards)\n",
    "\n",
    "sum_rewards = solver.trajectory()\n",
    "print(sum_rewards)\n",
    "plot_learning_curve(solver)"
   ]
  },
  {
   "cell_type": "markdown",
   "metadata": {
    "id": "UunwzKxyf_Sr"
   },
   "source": [
    "**OBSERVATIONS**\n",
    "<div class=\"alert alert-block alert-warning\">\n",
    "\n",
    "We see after terminal state is reached there is no effect on reward and it becomes constant\n",
    "\n",
    "</div>"
   ]
  },
  {
   "cell_type": "code",
   "execution_count": null,
   "metadata": {
    "executionInfo": {
     "elapsed": 1355,
     "status": "ok",
     "timestamp": 1608223931875,
     "user": {
      "displayName": "Saurabh Chakravorty",
      "photoUrl": "https://lh3.googleusercontent.com/a-/AOh14Gg4i8aVesE-zqnMJttjboEDqonbdcW85GPg1Yfj5g=s64",
      "userId": "01575942328847603880"
     },
     "user_tz": -60
    },
    "id": "YfbEraxgf_Ss"
   },
   "outputs": [],
   "source": []
  },
  {
   "cell_type": "code",
   "execution_count": null,
   "metadata": {},
   "outputs": [],
   "source": []
  }
 ],
 "metadata": {
  "colab": {
   "name": "RL-day3-gridworld-handout.ipynb",
   "provenance": []
  },
  "kernelspec": {
   "display_name": "Python 3",
   "language": "python",
   "name": "python3"
  },
  "language_info": {
   "codemirror_mode": {
    "name": "ipython",
    "version": 3
   },
   "file_extension": ".py",
   "mimetype": "text/x-python",
   "name": "python",
   "nbconvert_exporter": "python",
   "pygments_lexer": "ipython3",
   "version": "3.7.3"
  }
 },
 "nbformat": 4,
 "nbformat_minor": 4
}
