{
 "cells": [
  {
   "cell_type": "markdown",
   "metadata": {
    "slideshow": {
     "slide_type": "slide"
    }
   },
   "source": [
    "# Reinfocement Learning and Causality - Structural Causal Models (SCM)\n",
    "\n"
   ]
  },
  {
   "cell_type": "markdown",
   "metadata": {},
   "source": [
    "__Notation:__ As a general rule throughout, we refer to a random variable with a capital letter (e.g., $X$ ), the value it obtains as a lowercase letter $(\\mathrm{e} \\cdot \\mathrm{g} ., X=x),$ and a set of random variables with boldface font (e.g., $\\left.\\mathbf{X}=\\left\\{X_{1}, \\ldots, X_{n}\\right\\}\\right)$ Consistent with Peters et al. (2017) and Buesing et al. (2019) we write $P_{X}$ for the distribution of a variable $X,$ and $p_{x}$ for the density function."
   ]
  },
  {
   "cell_type": "markdown",
   "metadata": {},
   "source": [
    "__Definition 1 (Structural Causal Model (SCM)).__ A structural causal model $\\mathcal{M}$ consists of a set of independent random variables $\\mathbf{U}=\\left\\{U_{1}, \\ldots, U_{n}\\right\\}$ with distribution $P(\\mathbf{U})$ a set of functions $\\mathbf{F}=\\left\\{f_{1}, \\ldots, f_{n}\\right\\},$ and a set of variables $\\mathbf{X}=\\left\\{X_{1}, \\ldots, X_{n}\\right\\}$ such that $X_{i}=f_{i}\\left(\\mathbf{P} \\mathbf{A}_{i}, U_{i}\\right), \\forall i$\n",
    "where $\\mathbf{P A}_{i} \\subseteq \\mathbf{X} \\backslash X_{i}$ is the subset of $\\mathbf{X}$ which are parents of $X_{i}$ in the causal DAG $\\mathcal{G}$. As a result, the prior distribution $P(\\mathbf{U})$ and functions $\\mathbf{F}$ determine the distribution $P^{\\mathcal{M}}$"
   ]
  },
  {
   "cell_type": "markdown",
   "metadata": {},
   "source": [
    "The SCM $\\mathcal{M}$ defines a complete data-generating processes, which entails the observational distribution $P(\\mathbf{X}, Y, T) .$ It also defines interventional distributions. For example, the estimate of CATE is given by $\\tau_{x}=\\mathbb{E}[Y \\mid X, d o(T=1)]-$ $\\mathbb{E}[Y \\mid X, d o(T=0)],$ where the $d o$ -operator $($ Pearl, 2009$)$ is used to signify an intervention."
   ]
  },
  {
   "cell_type": "markdown",
   "metadata": {},
   "source": [
    "Hence $\\mathbb{E}[Y \\mid  T=0, T=1 ],$ in our previous notation is equivalent to the do operator"
   ]
  },
  {
   "cell_type": "markdown",
   "metadata": {},
   "source": [
    "__Definition 2 (Interventional Distribution)__. Given an SCM $\\mathcal{M},$ an intervention $I=d o\\left(X_{i}:=\\tilde{f}\\left(\\mathbf{P} \\mathbf{A}_{i}, \\tilde{U}_{i}\\right)\\right)$ corre-\n",
    "sponds to replacing the structural mechanism $f_{i}\\left(\\mathbf{P A}_{i}, U_{i}\\right)$ with $\\tilde{f}_{i}\\left(\\mathbf{P A}_{i}, U_{i}\\right) .$ This includes the concept of atomic interventions, where we may write more simply $d o\\left(X_{i}=x\\right)$. The resulting $\\mathrm{SCM}$ is denoted $\\mathcal{M}^{I}$, and the resulting interventional distribution is denoted $P^{\\mathcal{M} ; I}$"
   ]
  },
  {
   "cell_type": "markdown",
   "metadata": {},
   "source": [
    "For instance, suppose that $Y$ corresponds to a favorable binary outcome, such as 5-year survival, and $T$ corresponds to a treatment. Then several quantities of interest in causal effect estimation, such as $p^{T=1}:=\\mathbb{E}[Y \\mid X, d o(T=1)]$, $p^{T=0}:=\\mathbb{E}[Y \\mid X, d o(T=0)],$ and $\\tau_{x}=p^{T=1}-p^{T=0}$\n",
    "are all defined by the interventional distribution, which is forward-looking, telling us what might be expected to occur if we applied an intervention."
   ]
  },
  {
   "cell_type": "markdown",
   "metadata": {},
   "source": [
    "However, we can also define the counterfactual distribution which is retrospective, telling us what might have happened had we acted differently. For instance, we might ask: Having given the drug and observed that $Y=1$ (survival), what would have happened if we had instead withheld the drug?\n"
   ]
  },
  {
   "cell_type": "markdown",
   "metadata": {},
   "source": [
    "__Definition 3 (Counterfactual Distribution).__ Given an SCM $\\mathcal{M}$ and an observed assignment $\\mathbf{X}=\\mathbf{x}$ over any set of observed variables, the counterfactual distribution $P^{\\mathcal{M} \\mid} \\mathbf{X}=\\mathbf{x} ; I$ corresponds to the distribution entailed by the $\\operatorname{SCM} \\mathcal{M}^{I}$ using the posterior distribution $P(\\mathbf{U} \\mid \\mathbf{X}=\\mathbf{x})$.\n",
    "\n",
    "Explicitly, given an $\\mathrm{SCM} \\mathcal{M},$ the counterfactual distribution can be estimated by first inferring the posterior over latent variables, e.g., $P(\\mathbf{U} \\mid \\mathbf{X}=\\mathbf{x}, T=1, Y=1)$ in our running example, and then passing that distribution through the structural mechanisms in a modified $\\mathcal{M}^{I}$ (e.g., $I=\\operatorname{do}(T=0$ ) $)$ to obtain a counterfactual distribution over any variable ${ }^{1}$."
   ]
  },
  {
   "cell_type": "markdown",
   "metadata": {},
   "source": [
    "__(Non)-Identifiability of Counterfactuals__\n",
    "Given an SCM $\\mathcal{M}$, we can compute an answer to our counterfactual question: Having given the drug and observed that $Y=1$ (survival), what would have happened if we had instead withheld the drug? In the binary case, this corresponds to the Probability of Necessity (PN) (Pearl, $2009 ;$ Dawid et al., 2015 ), because it represents the probability that the exposure $T=1$ was necessary for the outcome.\n",
    "However, the answer to this question is not identifiable without further assumptions: That is, there are multiple SCMs which are all consistent with the interventional distribution, but which produce different counterfactual estimates of quantities like the Probability of Necessity (Pearl, 2009 )."
   ]
  },
  {
   "cell_type": "markdown",
   "metadata": {},
   "source": [
    "__Definition 4 (Monotonicity).__ An SCM of a binary variable $Y$ is monotonic relative to a binary variable $T$ if and only if it has the following property $^{2,3}: \\mathbb{E}[Y \\mid d o(T=t)] \\geq$ $\\mathbb{E}\\left[Y \\mid d o\\left(T=t^{\\prime}\\right)\\right] \\Longrightarrow f_{y}(t, u) \\geq f_{y}\\left(t^{\\prime}, u\\right), \\forall u .$ "
   ]
  },
  {
   "cell_type": "markdown",
   "metadata": {},
   "source": [
    "We can write equivalently that the following event never occurs, in the case where $\\mathbb{E}[Y \\mid d o(T=1)] \\geq \\mathbb{E}[Y \\mid d o(T=0)]:$\n",
    "$Y_{d o(T=1)}=0 \\wedge Y_{d o(T=0)}=1 .$ Conversely for $\\mathbb{E}[Y \\mid d o(T=$\n",
    "1) $] \\leq \\mathbb{E}[Y \\mid d o(T=0)]$, the following event never occurs:\n",
    "$Y_{d o(T=1)}=1 \\wedge Y_{d o(T=0)}=0$\n",
    "This assumption restricts the class of possible SCMs to those which all yield equivalent counterfactual distributions over $Y$. For instance, the following SCM exhibits the monotonicity property, and replicates any interventional distribution where $g(x, t)=\\mathbb{E}[Y \\mid X=x, d o(T=t)]$\n",
    "$$\n",
    "Y=\\mathbb{1}\\left[U_{y} \\leq g(x, t)\\right], \\quad U \\sim \\operatorname{Unif}(0,1)\n",
    "$$\n",
    "More importantly, the monotonicity assumption identifies several counterfactual quantities, such as the Probability of Necessity mentioned earlier."
   ]
  },
  {
   "cell_type": "markdown",
   "metadata": {},
   "source": [
    "\n",
    "\n",
    "\n",
    "<img src=\"http://drive.google.com/uc?export=view&id=1lRvbGYBApQLNoJnm7xMwzdsF0hG7o1dQ\" width=60%>\n"
   ]
  },
  {
   "cell_type": "markdown",
   "metadata": {},
   "source": [
    "__Relationship to POMDPs__\n",
    "As noted in Buesing et al. (2019), we can view an episodic Partially Observable Markov Decision Process (POMDP) as an SCM, as shown in Figure $2,$ where $S_{t}$ corresponds to states, $A_{t}$ corresponds to actions, $O_{t}$ corresponds to observable quantities (including reward $R_{t}$ ), $H_{t}$ contains history up to time $t,$ i.e., $H_{t}=\\left\\{O_{1}, A_{1}, \\ldots A_{t-1}, O_{t}\\right\\},$ and stochastic policies are given by $\\pi\\left(a_{t} \\mid h_{t}\\right)$"
   ]
  },
  {
   "cell_type": "markdown",
   "metadata": {},
   "source": [
    "The above is based on:\n",
    "\n",
    "**Obest & Sontag (2019) Counterfactual Off-Policy Evaluation with Gumbel-Max Structural Causal Models**, [here](http://proceedings.mlr.press/v97/oberst19a/oberst19a.pdf). \n"
   ]
  },
  {
   "cell_type": "code",
   "execution_count": null,
   "metadata": {},
   "outputs": [],
   "source": []
  }
 ],
 "metadata": {
  "celltoolbar": "Slideshow",
  "kernelspec": {
   "display_name": "Python 3",
   "language": "python",
   "name": "python3"
  },
  "language_info": {
   "codemirror_mode": {
    "name": "ipython",
    "version": 3
   },
   "file_extension": ".py",
   "mimetype": "text/x-python",
   "name": "python",
   "nbconvert_exporter": "python",
   "pygments_lexer": "ipython3",
   "version": "3.7.3"
  }
 },
 "nbformat": 4,
 "nbformat_minor": 4
}
