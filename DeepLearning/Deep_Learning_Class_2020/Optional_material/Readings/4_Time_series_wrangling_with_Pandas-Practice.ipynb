{
 "cells": [
  {
   "cell_type": "markdown",
   "metadata": {},
   "source": [
    "# How Pandas plays along with time series?\n",
    "\n",
    "Generally speaking _very nicely_.\n",
    "\n",
    "Let's see!\n",
    "\n",
    "(Credits go to: [EarthPy](http://earthpy.org/pandas-basics.html))"
   ]
  },
  {
   "cell_type": "code",
   "execution_count": 1,
   "metadata": {
    "ExecuteTime": {
     "end_time": "2019-02-12T13:45:52.289398Z",
     "start_time": "2019-02-12T13:45:52.283133Z"
    }
   },
   "outputs": [],
   "source": [
    "import warnings\n",
    "warnings.filterwarnings('ignore')\n",
    "\n",
    "# Ok, this is _really_ unhealthy practice, but honestly, do YOU want to do the demo for the C level \n",
    "# with big orangish blobs on the screen? \n",
    "# Exactly. Neither do I. :-P\n",
    "\n",
    "# Don't tell me I didn't WARN you! :-P\n"
   ]
  },
  {
   "cell_type": "code",
   "execution_count": 2,
   "metadata": {
    "ExecuteTime": {
     "end_time": "2019-02-12T13:45:52.588875Z",
     "start_time": "2019-02-12T13:45:52.291846Z"
    }
   },
   "outputs": [],
   "source": [
    "# First things first...\n",
    "import pandas as pd "
   ]
  },
  {
   "cell_type": "markdown",
   "metadata": {},
   "source": [
    "## Load troubles"
   ]
  },
  {
   "cell_type": "code",
   "execution_count": 3,
   "metadata": {
    "ExecuteTime": {
     "end_time": "2019-02-12T13:45:52.592989Z",
     "start_time": "2019-02-12T13:45:52.590571Z"
    }
   },
   "outputs": [
    {
     "name": "stdout",
     "output_type": "stream",
     "text": [
      "Let's not forget, we are in Colab, so we are forced to use ssome bash magic to get the file for this VM also!\n"
     ]
    }
   ],
   "source": [
    "print(\"Let's not forget, we are in Colab, so we are forced to use some bash magic to get the file for this VM also!\")\n",
    "!wget https://gitlab.com/andras.simonyi/10_days_AI_training_data/raw/master/AirPassangers.csv"
   ]
  },
  {
   "cell_type": "code",
   "execution_count": 4,
   "metadata": {
    "ExecuteTime": {
     "end_time": "2019-02-12T13:45:52.602796Z",
     "start_time": "2019-02-12T13:45:52.594540Z"
    }
   },
   "outputs": [],
   "source": [
    "# Load\n",
    "df = pd.read_csv(\"AirPassengers.csv\",header=0)\n"
   ]
  },
  {
   "cell_type": "code",
   "execution_count": 5,
   "metadata": {
    "ExecuteTime": {
     "end_time": "2019-02-12T13:45:52.621519Z",
     "start_time": "2019-02-12T13:45:52.604698Z"
    }
   },
   "outputs": [
    {
     "name": "stdout",
     "output_type": "stream",
     "text": [
      "Month          object\n",
      "#Passengers     int64\n",
      "dtype: object\n"
     ]
    },
    {
     "data": {
      "text/html": [
       "<div>\n",
       "<style scoped>\n",
       "    .dataframe tbody tr th:only-of-type {\n",
       "        vertical-align: middle;\n",
       "    }\n",
       "\n",
       "    .dataframe tbody tr th {\n",
       "        vertical-align: top;\n",
       "    }\n",
       "\n",
       "    .dataframe thead th {\n",
       "        text-align: right;\n",
       "    }\n",
       "</style>\n",
       "<table border=\"1\" class=\"dataframe\">\n",
       "  <thead>\n",
       "    <tr style=\"text-align: right;\">\n",
       "      <th></th>\n",
       "      <th>Month</th>\n",
       "      <th>#Passengers</th>\n",
       "    </tr>\n",
       "  </thead>\n",
       "  <tbody>\n",
       "    <tr>\n",
       "      <th>0</th>\n",
       "      <td>1949-01</td>\n",
       "      <td>112</td>\n",
       "    </tr>\n",
       "    <tr>\n",
       "      <th>1</th>\n",
       "      <td>1949-02</td>\n",
       "      <td>118</td>\n",
       "    </tr>\n",
       "    <tr>\n",
       "      <th>2</th>\n",
       "      <td>1949-03</td>\n",
       "      <td>132</td>\n",
       "    </tr>\n",
       "    <tr>\n",
       "      <th>3</th>\n",
       "      <td>1949-04</td>\n",
       "      <td>129</td>\n",
       "    </tr>\n",
       "    <tr>\n",
       "      <th>4</th>\n",
       "      <td>1949-05</td>\n",
       "      <td>121</td>\n",
       "    </tr>\n",
       "  </tbody>\n",
       "</table>\n",
       "</div>"
      ],
      "text/plain": [
       "     Month  #Passengers\n",
       "0  1949-01          112\n",
       "1  1949-02          118\n",
       "2  1949-03          132\n",
       "3  1949-04          129\n",
       "4  1949-05          121"
      ]
     },
     "execution_count": 5,
     "metadata": {},
     "output_type": "execute_result"
    }
   ],
   "source": [
    "# Let's just check the type and content of the columns for safety:\n",
    "\n",
    "print(df.dtypes)\n",
    "df.head()"
   ]
  },
  {
   "cell_type": "markdown",
   "metadata": {},
   "source": [
    "Oops! Do we see any suspicious with the `Month` column? "
   ]
  },
  {
   "cell_type": "code",
   "execution_count": 6,
   "metadata": {
    "ExecuteTime": {
     "end_time": "2019-02-12T13:45:52.631371Z",
     "start_time": "2019-02-12T13:45:52.623875Z"
    }
   },
   "outputs": [
    {
     "name": "stdout",
     "output_type": "stream",
     "text": [
      "Ok, what is dtypes returning?\n",
      "<class 'numpy.dtype'>\n",
      "Lemme guess! Numpy?\n",
      "In numpy we have:  object\n",
      "Yeah, we're right. It's the same. :-)\n",
      "\n",
      "Takeaway: If Pandas does not recognize the data, it uses Numpy's 'WTF?' class.\n"
     ]
    }
   ],
   "source": [
    "\n",
    "print(\"Ok, what is dtypes returning?\")\n",
    "print(type(df.dtypes[0]))\n",
    "\n",
    "print(\"Lemme guess! Numpy?\")\n",
    "\n",
    "import numpy as np\n",
    "\n",
    "print(\"In numpy we have: \",np.dtype(object))\n",
    "\n",
    "assert df.dtypes[0] == np.dtype(object)\n",
    "print(\"Yeah, we're right. It's the same. :-)\\n\")\n",
    "\n",
    "print(\"Takeaway: If Pandas does not recognize the data, it uses Numpy's 'WTF?' class.\")"
   ]
  },
  {
   "cell_type": "markdown",
   "metadata": {},
   "source": [
    "## Let us convert to proper dates!"
   ]
  },
  {
   "cell_type": "code",
   "execution_count": 7,
   "metadata": {
    "ExecuteTime": {
     "end_time": "2019-02-12T13:45:52.643224Z",
     "start_time": "2019-02-12T13:45:52.633868Z"
    }
   },
   "outputs": [
    {
     "name": "stdout",
     "output_type": "stream",
     "text": [
      "Converting the easy way...\n",
      "\n",
      "By the way, can we write this more properly?\n",
      "0   1949-01-01\n",
      "1   1949-02-01\n",
      "2   1949-03-01\n",
      "3   1949-04-01\n",
      "4   1949-05-01\n",
      "Name: Month, dtype: datetime64[ns]\n",
      "Looks good!\n",
      "\n",
      "And happily, this seems to be the same! :-)\n"
     ]
    }
   ],
   "source": [
    "print(\"Converting the easy way...\\n\")\n",
    "\n",
    "reindexed_df = df.copy()\n",
    "reindexed_df.Month = reindexed_df.Month.astype('datetime64[ns]')\n",
    "\n",
    "print(\"By the way, can we write this more properly?\")\n",
    "print(pd.to_datetime(df['Month'], format='%Y-%m').head())\n",
    "print(\"Looks good!\\n\")\n",
    "\n",
    "print(\"And happily, this seems to be the same! :-)\")\n",
    "assert reindexed_df.Month.dtype==pd.to_datetime(df['Month'], format='%Y-%m')\n",
    "\n",
    "reindexed_df = reindexed_df.set_index(\"Month\")\n"
   ]
  },
  {
   "cell_type": "markdown",
   "metadata": {},
   "source": [
    "More on datatime conversion and indexing can be found [here](https://towardsdatascience.com/basic-time-series-manipulation-with-pandas-4432afee64ea)."
   ]
  },
  {
   "cell_type": "code",
   "execution_count": 8,
   "metadata": {
    "ExecuteTime": {
     "end_time": "2019-02-12T13:45:52.653866Z",
     "start_time": "2019-02-12T13:45:52.645693Z"
    }
   },
   "outputs": [
    {
     "data": {
      "text/html": [
       "<div>\n",
       "<style scoped>\n",
       "    .dataframe tbody tr th:only-of-type {\n",
       "        vertical-align: middle;\n",
       "    }\n",
       "\n",
       "    .dataframe tbody tr th {\n",
       "        vertical-align: top;\n",
       "    }\n",
       "\n",
       "    .dataframe thead th {\n",
       "        text-align: right;\n",
       "    }\n",
       "</style>\n",
       "<table border=\"1\" class=\"dataframe\">\n",
       "  <thead>\n",
       "    <tr style=\"text-align: right;\">\n",
       "      <th></th>\n",
       "      <th>#Passengers</th>\n",
       "    </tr>\n",
       "    <tr>\n",
       "      <th>Month</th>\n",
       "      <th></th>\n",
       "    </tr>\n",
       "  </thead>\n",
       "  <tbody>\n",
       "    <tr>\n",
       "      <th>1949-01-01</th>\n",
       "      <td>112</td>\n",
       "    </tr>\n",
       "    <tr>\n",
       "      <th>1949-02-01</th>\n",
       "      <td>118</td>\n",
       "    </tr>\n",
       "    <tr>\n",
       "      <th>1949-03-01</th>\n",
       "      <td>132</td>\n",
       "    </tr>\n",
       "    <tr>\n",
       "      <th>1949-04-01</th>\n",
       "      <td>129</td>\n",
       "    </tr>\n",
       "    <tr>\n",
       "      <th>1949-05-01</th>\n",
       "      <td>121</td>\n",
       "    </tr>\n",
       "  </tbody>\n",
       "</table>\n",
       "</div>"
      ],
      "text/plain": [
       "            #Passengers\n",
       "Month                  \n",
       "1949-01-01          112\n",
       "1949-02-01          118\n",
       "1949-03-01          132\n",
       "1949-04-01          129\n",
       "1949-05-01          121"
      ]
     },
     "execution_count": 8,
     "metadata": {},
     "output_type": "execute_result"
    }
   ],
   "source": [
    "reindexed_df.head()"
   ]
  },
  {
   "cell_type": "code",
   "execution_count": 9,
   "metadata": {
    "ExecuteTime": {
     "end_time": "2019-02-12T13:45:52.661106Z",
     "start_time": "2019-02-12T13:45:52.655498Z"
    }
   },
   "outputs": [
    {
     "data": {
      "text/html": [
       "<div>\n",
       "<style scoped>\n",
       "    .dataframe tbody tr th:only-of-type {\n",
       "        vertical-align: middle;\n",
       "    }\n",
       "\n",
       "    .dataframe tbody tr th {\n",
       "        vertical-align: top;\n",
       "    }\n",
       "\n",
       "    .dataframe thead th {\n",
       "        text-align: right;\n",
       "    }\n",
       "</style>\n",
       "<table border=\"1\" class=\"dataframe\">\n",
       "  <thead>\n",
       "    <tr style=\"text-align: right;\">\n",
       "      <th></th>\n",
       "      <th>#Passengers</th>\n",
       "    </tr>\n",
       "    <tr>\n",
       "      <th>Month</th>\n",
       "      <th></th>\n",
       "    </tr>\n",
       "  </thead>\n",
       "  <tbody>\n",
       "    <tr>\n",
       "      <th>1960-08-01</th>\n",
       "      <td>606</td>\n",
       "    </tr>\n",
       "    <tr>\n",
       "      <th>1960-09-01</th>\n",
       "      <td>508</td>\n",
       "    </tr>\n",
       "    <tr>\n",
       "      <th>1960-10-01</th>\n",
       "      <td>461</td>\n",
       "    </tr>\n",
       "    <tr>\n",
       "      <th>1960-11-01</th>\n",
       "      <td>390</td>\n",
       "    </tr>\n",
       "    <tr>\n",
       "      <th>1960-12-01</th>\n",
       "      <td>432</td>\n",
       "    </tr>\n",
       "  </tbody>\n",
       "</table>\n",
       "</div>"
      ],
      "text/plain": [
       "            #Passengers\n",
       "Month                  \n",
       "1960-08-01          606\n",
       "1960-09-01          508\n",
       "1960-10-01          461\n",
       "1960-11-01          390\n",
       "1960-12-01          432"
      ]
     },
     "execution_count": 9,
     "metadata": {},
     "output_type": "execute_result"
    }
   ],
   "source": [
    "reindexed_df.tail()"
   ]
  },
  {
   "cell_type": "markdown",
   "metadata": {},
   "source": [
    "If we would like to recreate an index like this in the future we should use the convenient Pandas functions!\n",
    "\n",
    "Consult: [Pandas date_range](https://pandas.pydata.org/pandas-docs/stable/reference/api/pandas.date_range.html)\n"
   ]
  },
  {
   "cell_type": "code",
   "execution_count": 10,
   "metadata": {
    "ExecuteTime": {
     "end_time": "2019-02-12T13:45:52.669013Z",
     "start_time": "2019-02-12T13:45:52.662550Z"
    }
   },
   "outputs": [
    {
     "name": "stdout",
     "output_type": "stream",
     "text": [
      "DatetimeIndex(['1949-01-01', '1949-02-01', '1949-03-01', '1949-04-01',\n",
      "               '1949-05-01', '1949-06-01', '1949-07-01', '1949-08-01',\n",
      "               '1949-09-01', '1949-10-01',\n",
      "               ...\n",
      "               '1960-03-01', '1960-04-01', '1960-05-01', '1960-06-01',\n",
      "               '1960-07-01', '1960-08-01', '1960-09-01', '1960-10-01',\n",
      "               '1960-11-01', '1960-12-01'],\n",
      "              dtype='datetime64[ns]', length=144, freq='MS')\n"
     ]
    }
   ],
   "source": [
    "dates = pd.date_range('1949-01-01', periods=reindexed_df.shape[0], freq=pd.offsets.MonthBegin(1)) \n",
    "\n",
    "print(dates) "
   ]
  },
  {
   "cell_type": "markdown",
   "metadata": {},
   "source": [
    "By default, using freq='M' would result in the last day of the month. \n",
    "\n",
    "Therefor we use the nice built-in function from `pd.offsets`.\n",
    "\n",
    "In fact, great amount of convenience shortcuts are there:\n",
    "\n",
    "<img src=\"http://drive.google.com/uc?export=view&id=1PBavHbwYB1DDIizt4NN8m-ymNhxw3Bpw\" width=65%>\n",
    "\n",
    "\n",
    "We don't believe how useful it is, except when we need it. :-P"
   ]
  },
  {
   "cell_type": "markdown",
   "metadata": {},
   "source": [
    "## Plotting\n",
    "\n",
    "Happily enough, Pandas default plotting (that is Matplotlib in the background) also plays nice with dates as indices."
   ]
  },
  {
   "cell_type": "code",
   "execution_count": 11,
   "metadata": {
    "ExecuteTime": {
     "end_time": "2019-02-12T13:45:52.893183Z",
     "start_time": "2019-02-12T13:45:52.670627Z"
    }
   },
   "outputs": [
    {
     "data": {
      "text/plain": [
       "<matplotlib.axes._subplots.AxesSubplot at 0x7fce5bfc07b8>"
      ]
     },
     "execution_count": 11,
     "metadata": {},
     "output_type": "execute_result"
    }
   ],
   "source": [
    "df.plot()"
   ]
  },
  {
   "cell_type": "markdown",
   "metadata": {},
   "source": [
    "...Well except that in default Jupyter, you only get back the \"plot\" object without either importing Matplotlib and manually calling `plt.show()`, or using `%pylab inline` magic. "
   ]
  },
  {
   "cell_type": "code",
   "execution_count": 12,
   "metadata": {
    "ExecuteTime": {
     "end_time": "2019-02-12T13:45:53.083715Z",
     "start_time": "2019-02-12T13:45:52.894479Z"
    }
   },
   "outputs": [
    {
     "name": "stdout",
     "output_type": "stream",
     "text": [
      "Populating the interactive namespace from numpy and matplotlib\n"
     ]
    },
    {
     "data": {
      "text/plain": [
       "<matplotlib.axes._subplots.AxesSubplot at 0x7fce5ba62320>"
      ]
     },
     "execution_count": 12,
     "metadata": {},
     "output_type": "execute_result"
    },
    {
     "data": {
      "image/png": "[encoded data removed]",
      "text/plain": [
       "<Figure size 432x288 with 1 Axes>"
      ]
     },
     "metadata": {},
     "output_type": "display_data"
    }
   ],
   "source": [
    "%pylab inline\n",
    "reindexed_df.plot()"
   ]
  },
  {
   "cell_type": "markdown",
   "metadata": {},
   "source": [
    "Yeah, much better, thanks! :-)"
   ]
  },
  {
   "cell_type": "markdown",
   "metadata": {},
   "source": [
    "## Slice and dice\n",
    "\n",
    "We can use nice indexing syntax to access ranges of time series."
   ]
  },
  {
   "cell_type": "code",
   "execution_count": 13,
   "metadata": {
    "ExecuteTime": {
     "end_time": "2019-02-12T13:45:53.204212Z",
     "start_time": "2019-02-12T13:45:53.085465Z"
    }
   },
   "outputs": [
    {
     "name": "stdout",
     "output_type": "stream",
     "text": [
      "We can use dates.\n",
      "\n"
     ]
    },
    {
     "data": {
      "image/png": "[encoded data removed]",
      "text/plain": [
       "<Figure size 432x288 with 1 Axes>"
      ]
     },
     "metadata": {},
     "output_type": "display_data"
    }
   ],
   "source": [
    "print(\"We can use dates.\")\n",
    "reindexed_df['1950-11':'1951-4'].plot()\n",
    "print() # Just to get rid of the standard \"return value\" of the cell which would be an AxesSubplot object..."
   ]
  },
  {
   "cell_type": "code",
   "execution_count": 14,
   "metadata": {
    "ExecuteTime": {
     "end_time": "2019-02-12T13:45:53.343774Z",
     "start_time": "2019-02-12T13:45:53.205460Z"
    }
   },
   "outputs": [
    {
     "name": "stdout",
     "output_type": "stream",
     "text": [
      "But we can stil use integer index.\n",
      "\n"
     ]
    },
    {
     "data": {
      "image/png": "[encoded data removed]",
      "text/plain": [
       "<Figure size 432x288 with 1 Axes>"
      ]
     },
     "metadata": {},
     "output_type": "display_data"
    }
   ],
   "source": [
    "print(\"But we can stil use integer index.\")\n",
    "reindexed_df[30:50].plot()\n",
    "print() #Damn annoying! - More on that in Matplotlib tutorial."
   ]
  },
  {
   "cell_type": "code",
   "execution_count": 15,
   "metadata": {
    "ExecuteTime": {
     "end_time": "2019-02-12T13:45:53.348996Z",
     "start_time": "2019-02-12T13:45:53.344859Z"
    }
   },
   "outputs": [
    {
     "name": "stdout",
     "output_type": "stream",
     "text": [
      "And it even handles dates in an intelligent manner, keeping the hierarchy.\n",
      "\n",
      "            #Passengers\n",
      "Month                  \n",
      "1950-01-01          115\n",
      "1950-02-01          126\n",
      "1950-03-01          141\n",
      "1950-04-01          135\n",
      "1950-05-01          125\n",
      "1950-06-01          149\n",
      "1950-07-01          170\n",
      "1950-08-01          170\n",
      "1950-09-01          158\n",
      "1950-10-01          133\n",
      "1950-11-01          114\n",
      "1950-12-01          140\n"
     ]
    }
   ],
   "source": [
    "print(\"And it even handles dates in an intelligent manner, keeping the hierarchy.\\n\")\n",
    "print(reindexed_df[\"1950\"])"
   ]
  },
  {
   "cell_type": "code",
   "execution_count": 16,
   "metadata": {
    "ExecuteTime": {
     "end_time": "2019-02-12T13:45:53.442239Z",
     "start_time": "2019-02-12T13:45:53.350101Z"
    }
   },
   "outputs": [
    {
     "data": {
      "text/plain": [
       "<matplotlib.axes._subplots.AxesSubplot at 0x7fce5b8e4048>"
      ]
     },
     "execution_count": 16,
     "metadata": {},
     "output_type": "execute_result"
    },
    {
     "data": {
      "image/png": "[encoded data removed]",
      "text/plain": [
       "<Figure size 432x288 with 1 Axes>"
      ]
     },
     "metadata": {},
     "output_type": "display_data"
    }
   ],
   "source": [
    "import datetime\n",
    "reindexed_df.loc[(reindexed_df[\"#Passengers\"] > 100) & (reindexed_df[\"#Passengers\"] < 165) \n",
    "        & (reindexed_df.index > datetime.datetime(1951,1,1)) \n",
    "        & (reindexed_df.index < datetime.datetime(1952,1,1)),\n",
    "        '#Passengers'].plot(kind='barh')\n",
    "\n",
    "#Original even more fancy here: http://earthpy.org/pandas-basics.html"
   ]
  },
  {
   "cell_type": "markdown",
   "metadata": {},
   "source": [
    "## Let's shift (gears)\n",
    "\n",
    "It is one of the most important tasks in time series prediction is to get a time shifted value that we would use for prediction purposes.\n",
    "\n",
    "Easy!"
   ]
  },
  {
   "cell_type": "code",
   "execution_count": 17,
   "metadata": {
    "ExecuteTime": {
     "end_time": "2019-02-12T13:45:53.454293Z",
     "start_time": "2019-02-12T13:45:53.443619Z"
    }
   },
   "outputs": [
    {
     "name": "stdout",
     "output_type": "stream",
     "text": [
      "Looks awsome!\n",
      "\n",
      "Except....\n",
      "#Passengers      int64\n",
      "shifted        float64\n",
      "dtype: object \n",
      "\n",
      "WTF???\n",
      "\n",
      "Any non-numbers in there? True\n",
      "Ah, ok, NaN-s are in there, and that's why it gcant get casted to Int.\n",
      "\n",
      "Lemme' fixit!\n",
      "#Passengers      int64\n",
      "shifted        float64\n",
      "dtype: object\n",
      "WTF *2 ???\n"
     ]
    }
   ],
   "source": [
    "reindexed_df[\"shifted\"]=reindexed_df[\"#Passengers\"].shift(freq=-1*pd.offsets.MonthBegin(1))\n",
    "\n",
    "print(\"Looks awsome!\\n\")\n",
    "print(\"Except....\")\n",
    "\n",
    "print(reindexed_df.dtypes,\"\\n\\nWTF???\\n\")\n",
    "\n",
    "print(\"Any non-numbers in there?\",reindexed_df.shifted.isna().any())\n",
    "print(\"Ah, ok, NaN-s are in there, and that's why it gcant get casted to Int.\\n\")\n",
    "\n",
    "print(\"Lemme' fixit!\")\n",
    "reindexed_df[\"shifted\"]=reindexed_df[\"#Passengers\"].shift(freq=-1*pd.offsets.MonthBegin(1), fill_value=0).astype(np.int64)\n",
    "print(reindexed_df.dtypes)\n",
    "print(\"WTF *2 ???\")\n"
   ]
  },
  {
   "cell_type": "markdown",
   "metadata": {
    "ExecuteTime": {
     "end_time": "2019-02-12T11:41:59.575804Z",
     "start_time": "2019-02-12T11:41:59.568561Z"
    }
   },
   "source": [
    "What happens here?"
   ]
  },
  {
   "cell_type": "code",
   "execution_count": 18,
   "metadata": {
    "ExecuteTime": {
     "end_time": "2019-02-12T13:45:53.465977Z",
     "start_time": "2019-02-12T13:45:53.455763Z"
    }
   },
   "outputs": [
    {
     "name": "stdout",
     "output_type": "stream",
     "text": [
      "<class 'pandas.core.series.Series'>\n",
      "It's a series.\n",
      "int64\n",
      "It's dtype is right.\n",
      "False\n",
      "It has NO NaN-s!\n",
      "\n",
      "Wait, WHAT?\n",
      "\n",
      "(144,)\n",
      "(144, 2)\n",
      "Even shape looks good.\n",
      "\n",
      "Except:\n",
      "True \n",
      "\n",
      "Lemme guess!\n",
      "False\n",
      "?????????\n",
      "\n",
      "Syrsly, Guys!!!!\n",
      "\n",
      "nan\n"
     ]
    }
   ],
   "source": [
    "\n",
    "print(type(reindexed_df[\"#Passengers\"].shift(freq=-1*pd.offsets.MonthBegin(1)).astype(np.int64, copy=False)))\n",
    "print(\"It's a series.\")\n",
    "print(reindexed_df[\"#Passengers\"].shift(freq=-1*pd.offsets.MonthBegin(1)).dtype)\n",
    "print(\"It's dtype is right.\")\n",
    "print(reindexed_df[\"#Passengers\"].shift(freq=-1*pd.offsets.MonthBegin(1), fill_value=0).isna().any())\n",
    "print(\"It has NO NaN-s!\\n\")\n",
    "print(\"Wait, WHAT?\\n\")\n",
    "\n",
    "\n",
    "print(reindexed_df[\"#Passengers\"].shift(freq=-1*pd.offsets.MonthBegin(1), fill_value=0).shape)\n",
    "print(reindexed_df.shape)\n",
    "print(\"Even shape looks good.\\n\")\n",
    "\n",
    "print(\"Except:\")\n",
    "print(reindexed_df.shifted.isna().any(),\"\\n\")\n",
    "\n",
    "print(\"Lemme guess!\")\n",
    "print(reindexed_df.shifted[-1]==np.nan)\n",
    "print(\"?????????\\n\")\n",
    "\n",
    "print(\"Syrsly, Guys!!!!\\n\") \n",
    "#https://stackoverflow.com/questions/29528092/numpy-isnanvalue-not-the-same-as-value-numpy-nan\n",
    "\n",
    "print(reindexed_df.shifted[-1])\n"
   ]
  },
  {
   "cell_type": "code",
   "execution_count": 19,
   "metadata": {
    "ExecuteTime": {
     "end_time": "2019-02-12T13:45:53.472274Z",
     "start_time": "2019-02-12T13:45:53.467536Z"
    }
   },
   "outputs": [
    {
     "name": "stdout",
     "output_type": "stream",
     "text": [
      "#Passengers    int64\n",
      "shifted        int64\n",
      "dtype: object\n"
     ]
    }
   ],
   "source": [
    "reindexed_df[\"shifted\"]=reindexed_df.shifted.replace(nan,0).astype(np.int64)\n",
    "\n",
    "#Observe, if we don't put fancy characters into a column name, we can use a dotted accessor.\n",
    "#Except for value assignment :-(\n",
    "\n",
    "print(reindexed_df.dtypes)"
   ]
  },
  {
   "cell_type": "code",
   "execution_count": 20,
   "metadata": {
    "ExecuteTime": {
     "end_time": "2019-02-12T13:45:53.481917Z",
     "start_time": "2019-02-12T13:45:53.475081Z"
    }
   },
   "outputs": [
    {
     "data": {
      "text/html": [
       "<div>\n",
       "<style scoped>\n",
       "    .dataframe tbody tr th:only-of-type {\n",
       "        vertical-align: middle;\n",
       "    }\n",
       "\n",
       "    .dataframe tbody tr th {\n",
       "        vertical-align: top;\n",
       "    }\n",
       "\n",
       "    .dataframe thead th {\n",
       "        text-align: right;\n",
       "    }\n",
       "</style>\n",
       "<table border=\"1\" class=\"dataframe\">\n",
       "  <thead>\n",
       "    <tr style=\"text-align: right;\">\n",
       "      <th></th>\n",
       "      <th>#Passengers</th>\n",
       "      <th>shifted</th>\n",
       "    </tr>\n",
       "    <tr>\n",
       "      <th>Month</th>\n",
       "      <th></th>\n",
       "      <th></th>\n",
       "    </tr>\n",
       "  </thead>\n",
       "  <tbody>\n",
       "    <tr>\n",
       "      <th>1949-01-01</th>\n",
       "      <td>112</td>\n",
       "      <td>118</td>\n",
       "    </tr>\n",
       "    <tr>\n",
       "      <th>1949-02-01</th>\n",
       "      <td>118</td>\n",
       "      <td>132</td>\n",
       "    </tr>\n",
       "    <tr>\n",
       "      <th>1949-03-01</th>\n",
       "      <td>132</td>\n",
       "      <td>129</td>\n",
       "    </tr>\n",
       "    <tr>\n",
       "      <th>1949-04-01</th>\n",
       "      <td>129</td>\n",
       "      <td>121</td>\n",
       "    </tr>\n",
       "    <tr>\n",
       "      <th>1949-05-01</th>\n",
       "      <td>121</td>\n",
       "      <td>135</td>\n",
       "    </tr>\n",
       "  </tbody>\n",
       "</table>\n",
       "</div>"
      ],
      "text/plain": [
       "            #Passengers  shifted\n",
       "Month                           \n",
       "1949-01-01          112      118\n",
       "1949-02-01          118      132\n",
       "1949-03-01          132      129\n",
       "1949-04-01          129      121\n",
       "1949-05-01          121      135"
      ]
     },
     "execution_count": 20,
     "metadata": {},
     "output_type": "execute_result"
    }
   ],
   "source": [
    "reindexed_df.head()"
   ]
  },
  {
   "cell_type": "markdown",
   "metadata": {},
   "source": [
    "**Takeaways:**\n",
    "\n",
    "- NaN-s get introduced by mapping based on a datetime index\n",
    "- nan != nan (by convention??? :-(("
   ]
  },
  {
   "cell_type": "code",
   "execution_count": 21,
   "metadata": {
    "ExecuteTime": {
     "end_time": "2019-02-12T13:45:53.723682Z",
     "start_time": "2019-02-12T13:45:53.483296Z"
    }
   },
   "outputs": [
    {
     "data": {
      "image/png": "[encoded data removed]",
      "text/plain": [
       "<Figure size 432x288 with 2 Axes>"
      ]
     },
     "metadata": {},
     "output_type": "display_data"
    }
   ],
   "source": [
    "reindexed_df.plot(subplots=True) #Observe, we can get this in one nice plot!\n",
    "None #Hah! What a trick! :-P"
   ]
  },
  {
   "cell_type": "markdown",
   "metadata": {},
   "source": [
    "## What a difference?\n",
    "\n",
    "Whilst we are here, we can try to produce a difference vector from our time series."
   ]
  },
  {
   "cell_type": "code",
   "execution_count": 22,
   "metadata": {
    "ExecuteTime": {
     "end_time": "2019-02-12T13:45:53.735199Z",
     "start_time": "2019-02-12T13:45:53.725423Z"
    }
   },
   "outputs": [
    {
     "data": {
      "text/plain": [
       "Month\n",
       "1960-08-01     True\n",
       "1960-09-01     True\n",
       "1960-10-01     True\n",
       "1960-11-01     True\n",
       "1960-12-01    False\n",
       "dtype: bool"
      ]
     },
     "execution_count": 22,
     "metadata": {},
     "output_type": "execute_result"
    }
   ],
   "source": [
    "diff = reindexed_df[\"#Passengers\"].diff(-1) == reindexed_df[\"#Passengers\"]-reindexed_df.shifted\n",
    "diff[-5:]"
   ]
  },
  {
   "cell_type": "markdown",
   "metadata": {},
   "source": [
    "**Takeaway:**\n",
    "\n",
    "DataFrame.diff() \"Calculates the difference of a DataFrame element compared with another element in the DataFrame (default is the element in the same column of the previous row).\n",
    "\n",
    "periods : int, default 1\n",
    "Periods to shift for calculating difference, accepts negative values.\""
   ]
  },
  {
   "cell_type": "markdown",
   "metadata": {},
   "source": [
    "## Resampling"
   ]
  },
  {
   "cell_type": "code",
   "execution_count": 23,
   "metadata": {
    "ExecuteTime": {
     "end_time": "2019-02-12T13:45:53.879571Z",
     "start_time": "2019-02-12T13:45:53.737407Z"
    }
   },
   "outputs": [
    {
     "data": {
      "image/png": "[encoded data removed]",
      "text/plain": [
       "<Figure size 432x288 with 1 Axes>"
      ]
     },
     "metadata": {},
     "output_type": "display_data"
    }
   ],
   "source": [
    "reindexed_df.resample(\"AS\").mean().plot(style='--') #\"A\" meaning Annual, \"S\" meaning start, \"year begin\"...\n",
    "None"
   ]
  },
  {
   "cell_type": "markdown",
   "metadata": {},
   "source": [
    "We were so adept to introduce a bias there with our 0 value.\n",
    "\n",
    "This can hurt big time, so bear in mind..."
   ]
  },
  {
   "cell_type": "code",
   "execution_count": 24,
   "metadata": {
    "ExecuteTime": {
     "end_time": "2019-02-12T13:45:54.016430Z",
     "start_time": "2019-02-12T13:45:53.881044Z"
    }
   },
   "outputs": [
    {
     "data": {
      "image/png": "[encoded data removed]",
      "text/plain": [
       "<Figure size 432x288 with 1 Axes>"
      ]
     },
     "metadata": {},
     "output_type": "display_data"
    }
   ],
   "source": [
    "reindexed_df.resample(\"A\").median().plot(style='--') #\"A\" meaning Annual...\n",
    "None"
   ]
  },
  {
   "cell_type": "markdown",
   "metadata": {},
   "source": [
    "Median helps..."
   ]
  },
  {
   "cell_type": "code",
   "execution_count": 25,
   "metadata": {
    "ExecuteTime": {
     "end_time": "2019-02-12T13:45:54.274196Z",
     "start_time": "2019-02-12T13:45:54.017973Z"
    }
   },
   "outputs": [
    {
     "data": {
      "image/png": "[encoded data removed]",
      "text/plain": [
       "<Figure size 432x288 with 3 Axes>"
      ]
     },
     "metadata": {},
     "output_type": "display_data"
    }
   ],
   "source": [
    "reindexed_df[\"#Passengers\"].resample(\"A\").apply(['mean', np.min, np.max]).plot(subplots=True)\n",
    "None"
   ]
  },
  {
   "cell_type": "markdown",
   "metadata": {},
   "source": [
    "## Rolling window functions"
   ]
  },
  {
   "cell_type": "code",
   "execution_count": 26,
   "metadata": {
    "ExecuteTime": {
     "end_time": "2019-02-12T13:45:54.386656Z",
     "start_time": "2019-02-12T13:45:54.275806Z"
    }
   },
   "outputs": [
    {
     "data": {
      "image/png": "[encoded data removed]",
      "text/plain": [
       "<Figure size 432x288 with 1 Axes>"
      ]
     },
     "metadata": {},
     "output_type": "display_data"
    }
   ],
   "source": [
    "reindexed_df[\"#Passengers\"].rolling(window=24, center=False).mean().plot()\n",
    "None"
   ]
  },
  {
   "cell_type": "markdown",
   "metadata": {},
   "source": [
    "Can come in super handy for financial time series - think \"moving average\"!!!"
   ]
  },
  {
   "cell_type": "markdown",
   "metadata": {},
   "source": [
    "## Correlations"
   ]
  },
  {
   "cell_type": "code",
   "execution_count": 27,
   "metadata": {
    "ExecuteTime": {
     "end_time": "2019-02-12T13:45:54.394956Z",
     "start_time": "2019-02-12T13:45:54.387978Z"
    }
   },
   "outputs": [
    {
     "data": {
      "text/html": [
       "<div>\n",
       "<style scoped>\n",
       "    .dataframe tbody tr th:only-of-type {\n",
       "        vertical-align: middle;\n",
       "    }\n",
       "\n",
       "    .dataframe tbody tr th {\n",
       "        vertical-align: top;\n",
       "    }\n",
       "\n",
       "    .dataframe thead th {\n",
       "        text-align: right;\n",
       "    }\n",
       "</style>\n",
       "<table border=\"1\" class=\"dataframe\">\n",
       "  <thead>\n",
       "    <tr style=\"text-align: right;\">\n",
       "      <th></th>\n",
       "      <th>#Passengers</th>\n",
       "      <th>shifted</th>\n",
       "    </tr>\n",
       "  </thead>\n",
       "  <tbody>\n",
       "    <tr>\n",
       "      <th>#Passengers</th>\n",
       "      <td>1.000000</td>\n",
       "      <td>0.916288</td>\n",
       "    </tr>\n",
       "    <tr>\n",
       "      <th>shifted</th>\n",
       "      <td>0.916288</td>\n",
       "      <td>1.000000</td>\n",
       "    </tr>\n",
       "  </tbody>\n",
       "</table>\n",
       "</div>"
      ],
      "text/plain": [
       "             #Passengers   shifted\n",
       "#Passengers     1.000000  0.916288\n",
       "shifted         0.916288  1.000000"
      ]
     },
     "execution_count": 27,
     "metadata": {},
     "output_type": "execute_result"
    }
   ],
   "source": [
    "reindexed_df.corr()"
   ]
  },
  {
   "cell_type": "markdown",
   "metadata": {},
   "source": [
    "# Other useful tools \n",
    "\n",
    "For a wider range of time series tools in Python see [here](https://github.com/MaxBenChrist/awesome_time_series_in_python).\n",
    "\n"
   ]
  }
 ],
 "metadata": {
  "kernelspec": {
   "display_name": "Python 3",
   "language": "python",
   "name": "python3"
  },
  "language_info": {
   "codemirror_mode": {
    "name": "ipython",
    "version": 3
   },
   "file_extension": ".py",
   "mimetype": "text/x-python",
   "name": "python",
   "nbconvert_exporter": "python",
   "pygments_lexer": "ipython3",
   "version": "3.6.8"
  },
  "toc": {
   "base_numbering": 1,
   "nav_menu": {},
   "number_sections": true,
   "sideBar": true,
   "skip_h1_title": false,
   "title_cell": "Table of Contents",
   "title_sidebar": "Contents",
   "toc_cell": false,
   "toc_position": {},
   "toc_section_display": true,
   "toc_window_display": false
  },
  "varInspector": {
   "cols": {
    "lenName": 16,
    "lenType": 16,
    "lenVar": 40
   },
   "kernels_config": {
    "python": {
     "delete_cmd_postfix": "",
     "delete_cmd_prefix": "del ",
     "library": "var_list.py",
     "varRefreshCmd": "print(var_dic_list())"
    },
    "r": {
     "delete_cmd_postfix": ") ",
     "delete_cmd_prefix": "rm(",
     "library": "var_list.r",
     "varRefreshCmd": "cat(var_dic_list()) "
    }
   },
   "types_to_exclude": [
    "module",
    "function",
    "builtin_function_or_method",
    "instance",
    "_Feature"
   ],
   "window_display": false
  }
 },
 "nbformat": 4,
 "nbformat_minor": 2
}
