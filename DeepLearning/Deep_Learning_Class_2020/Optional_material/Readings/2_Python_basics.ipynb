{
 "cells": [
  {
   "cell_type": "markdown",
   "metadata": {},
   "source": [
    "# Python introduction\n",
    "\n",
    "Python is a high-level, general purpose programming language, which is\n",
    "\n",
    "+ interpreted (programs do not have to be compiled before running)\n",
    "+ supports multiple programming paradigms (objected oriented, functional, procedural, imperative)\n",
    "+ dynamically typed (variables do not have a declared type, they can be bound to objects of any type during execution)\n",
    "\n",
    "with a strong focus on code readability. In fact, Python's syntax is frequently compared to that of pseudocode.\n",
    "\n",
    "Python has two major versions that are rather incompatible and are still widely used, the 2.x and the 3.x version series. In this course we will use Python version 3.6.\n",
    "\n",
    "## Basic syntax"
   ]
  },
  {
   "cell_type": "code",
   "execution_count": 1,
   "metadata": {},
   "outputs": [
    {
     "name": "stdout",
     "output_type": "stream",
     "text": [
      "1\n",
      "Python\n",
      "[1, 2, 3]\n",
      "199\n",
      "Welcome to Python!\n",
      "24\n"
     ]
    }
   ],
   "source": [
    "# Comment lines start with a #\n",
    "\n",
    "\"\"\"Strings standing alone in the code (so called docstrings)\n",
    "can also be used as comments/documentation.\"\"\" # They don't effect the execution of the code\n",
    "\n",
    "print(1) # statements do not end with a semicolon and are typically single line\n",
    "print \\\n",
    "(\"Python\") # if you must, you can use a backslash to continue the statement in the following line\n",
    "\n",
    "a = 1 # assignment\n",
    "\n",
    "# Elements listed within brackets can span several lines\n",
    "l= [1, \n",
    "    2,\n",
    "    3]\n",
    "print(l)\n",
    "b = (123 +\n",
    "     32 +\n",
    "     44)\n",
    "print(b)\n",
    "print(\"Welcome\",\n",
    "     \"to\",\n",
    "     \"Python!\")\n",
    "\n",
    "# Multiple statements on a single line have to be separated by semicolons\n",
    "x = 24; print(x)"
   ]
  },
  {
   "cell_type": "markdown",
   "metadata": {},
   "source": [
    "## Code blocks are indicated with indentation\n",
    "The only really unusual (shocking?) aspect of Python's syntax is that it uses **indentation** to group together statements into blocks. Where other languages would use brackets or \"begin\"--\"end\" pairs to indicate the beginning and end of a block, and maybe indent code for aesthetic reasons, Python uses exclusively indentation level and colons after block-introducing constructs to indicate block structure.\n",
    "\n",
    "The main rule: If two statements\n",
    "+ are at the same indentation level, and\n",
    "+ there are no statements between them with lower indentation level\n",
    "then they belong to the same block.\n",
    "\n",
    "Control structures and data types will be discussed later, so the following examples are only to provide an intuitive demonstration of Python blocks:"
   ]
  },
  {
   "cell_type": "code",
   "execution_count": 2,
   "metadata": {},
   "outputs": [
    {
     "name": "stdout",
     "output_type": "stream",
     "text": [
      "a is positive\n",
      "Let's examine b as well\n",
      "b is negative\n",
      "End of program\n"
     ]
    }
   ],
   "source": [
    "a = 1 # block 0 -- unindented top level\n",
    "b = -1 # block 0 -- unindented top level\n",
    "\n",
    "if a > 0:                            # block introducing constructs end with a colon\n",
    "    print(\"a is positive\")           # block 1 starts\n",
    "    print(\"Let's examine b as well\") # block 1\n",
    "    if b < 0:                        # block 1 --  block introducing construct\n",
    "        print(\"b is negative\")       # block 2 \n",
    "    else:                            # block 1 -- block introducing construct\n",
    "        print(\"b is non-negative\")   # block 3\n",
    "    print(\"End of program\")          # block 1"
   ]
  },
  {
   "cell_type": "markdown",
   "metadata": {},
   "source": [
    "Indentation can make a huge difference to a program. Compare"
   ]
  },
  {
   "cell_type": "code",
   "execution_count": 3,
   "metadata": {
    "collapsed": true
   },
   "outputs": [],
   "source": [
    "if  a < 0:\n",
    "    print(\"a is negative\")\n",
    "    print(\"End of program\")"
   ]
  },
  {
   "cell_type": "markdown",
   "metadata": {},
   "source": [
    "with"
   ]
  },
  {
   "cell_type": "code",
   "execution_count": 4,
   "metadata": {},
   "outputs": [
    {
     "name": "stdout",
     "output_type": "stream",
     "text": [
      "End of program\n"
     ]
    }
   ],
   "source": [
    "if  a < 0:\n",
    "    print(\"a is negative\")\n",
    "print(\"End of program\")"
   ]
  },
  {
   "cell_type": "markdown",
   "metadata": {},
   "source": [
    "As for the size of indentation or the use of tabs vs spaces Python's only requirement is consistency, but it's customary to use 4 spaces per indentation level and we will stick to that."
   ]
  },
  {
   "cell_type": "markdown",
   "metadata": {
    "collapsed": true
   },
   "source": [
    "## Basic data types\n",
    "\n",
    "Python has arbitrary large) integer and float number types with the usual arithmetic operators (a 'complex' type is supported as well but we will not use it):"
   ]
  },
  {
   "cell_type": "code",
   "execution_count": 5,
   "metadata": {},
   "outputs": [
    {
     "name": "stdout",
     "output_type": "stream",
     "text": [
      "<class 'int'>\n",
      "7\n",
      "-3\n",
      "10\n",
      "25\n",
      "2\n",
      "1\n",
      "2.5\n",
      "<class 'float'>\n"
     ]
    }
   ],
   "source": [
    "# Integers\n",
    "\n",
    "a = 5; b = 2 # Variable assignment for any type of variable\n",
    "\n",
    "print(type(a))\n",
    "print(a + b) # Addition\n",
    "print(2 - 5) # Subtraction\n",
    "print(a * b) # Multiplication\n",
    "print(a ** b) # Exponentiation\n",
    "print(a // b) # Floor division \n",
    "print(a % b) # Modulus\n",
    "print(a / 2) # Division -- the result can be a float!!\n",
    "print(type(a / 2))"
   ]
  },
  {
   "cell_type": "code",
   "execution_count": 6,
   "metadata": {},
   "outputs": [
    {
     "name": "stdout",
     "output_type": "stream",
     "text": [
      "<class 'float'>\n",
      "5.5\n",
      "0.5\n",
      "10000000000000000000000000000000000000000000000000000000000000000000000000000000000000000000000000000\n",
      "1e+100\n"
     ]
    }
   ],
   "source": [
    "# Floats\n",
    "c = 2.5\n",
    "print(type(c))\n",
    "d = 3. # This is a float because of the decimal point!\n",
    "# All operators listed above for integers are supported:\n",
    "print(c + d)\n",
    "print(d % c)\n",
    "print(10 ** 100) # Arbitrary precision integer\n",
    "print(10. ** 100) # Float"
   ]
  },
  {
   "cell_type": "code",
   "execution_count": 7,
   "metadata": {},
   "outputs": [
    {
     "name": "stdout",
     "output_type": "stream",
     "text": [
      "<class 'bool'>\n",
      "False\n",
      "True\n",
      "False\n",
      "True\n"
     ]
    }
   ],
   "source": [
    "# Booleans are the the values True and False\n",
    "\n",
    "a = True; b = False\n",
    "print(type(a))\n",
    "print(a and b) # Logical and\n",
    "print(a or b) # Logical or\n",
    "print(not a) # Negation\n",
    "print(a != b) # Xor"
   ]
  },
  {
   "cell_type": "code",
   "execution_count": 8,
   "metadata": {},
   "outputs": [
    {
     "name": "stdout",
     "output_type": "stream",
     "text": [
      "False\n",
      "True\n",
      "True\n",
      "False\n",
      "True\n"
     ]
    }
   ],
   "source": [
    "# Comparisons return Boolean values\n",
    "\n",
    "a = 3; b = 4\n",
    "print(a == b) # General equality comparison, returns True if a and b have equal content\n",
    "a = \"a\"; b = \"b\"\n",
    "print(a != b) # True if a and b do not have equal content\n",
    "\n",
    "# Arithmetic comparisons\n",
    "\n",
    "a = 3; b = 4\n",
    "print(a < b)\n",
    "print(a >= b)\n",
    "\n",
    "# String comparisons\n",
    "a = \"a\"; b = \"b\"\n",
    "print(a < b) # Lexicographic comparison"
   ]
  },
  {
   "cell_type": "code",
   "execution_count": 9,
   "metadata": {},
   "outputs": [
    {
     "name": "stdout",
     "output_type": "stream",
     "text": [
      "<class 'str'>\n",
      "10\n",
      "\n",
      "Strings can be multiline as well\n",
      "when delimited by three quotes\n",
      "\n",
      "Artificial Intelligence\n",
      "Artificial Intelligence 2018\n",
      "Human Intelligence\n"
     ]
    }
   ],
   "source": [
    "# Strings\n",
    "a = \"Artificial\" # String literals can use double and\n",
    "b = 'Intelligence' # single quotes as well\n",
    "print(type(a))\n",
    "print(len(a)) # The len() function returns their length\n",
    "c = \"\"\"\n",
    "Strings can be multiline as well\n",
    "when delimited by three quotes\n",
    "\"\"\"\n",
    "print(c)\n",
    "s = \" \"\n",
    "print(a + s + b) # Concatenation\n",
    "print('%s %s %d' % (a, b, 2018.1)) # Traditional string formatting can be used\n",
    "print(f\"Human {b}\") # Starting with Python 3.6 string interpolation is also supported in 'f' prefixed strings"
   ]
  },
  {
   "cell_type": "code",
   "execution_count": 10,
   "metadata": {},
   "outputs": [
    {
     "name": "stdout",
     "output_type": "stream",
     "text": [
      "6\n",
      "36\n",
      "AI\n"
     ]
    }
   ],
   "source": [
    "# Shortcuts to apply an operator to a variable's value and assign the result\n",
    "# to the same variable are supported for most operations\n",
    "a = 1\n",
    "a += 5\n",
    "print(a)\n",
    "a **= 2\n",
    "print(a)\n",
    "b = \"A\"\n",
    "b += \"I\"\n",
    "print(b)"
   ]
  },
  {
   "cell_type": "code",
   "execution_count": 11,
   "metadata": {},
   "outputs": [
    {
     "name": "stdout",
     "output_type": "stream",
     "text": [
      "<class 'NoneType'>\n",
      "None\n",
      "None\n",
      "None\n",
      "None\n"
     ]
    }
   ],
   "source": [
    "# Although not exactly a data type, here is the best place to mention None\n",
    "# which is Python's nil/null/nothing value.\n",
    "# None appears as an (implicit) return value in many cases\n",
    "\n",
    "print(type(None))\n",
    "print(None)\n",
    "print(print(None)) # Functions with no explicit return value return None\n",
    "l = [None, print(None)] # None is a first class citizen"
   ]
  },
  {
   "cell_type": "code",
   "execution_count": 12,
   "metadata": {},
   "outputs": [
    {
     "name": "stdout",
     "output_type": "stream",
     "text": [
      "True\n",
      "2008\n",
      "3\n"
     ]
    }
   ],
   "source": [
    "# The data types we have discussed can be \"converted\" to each other \n",
    "# (where this makes sense) simply by calling their constructpors with the value\n",
    "# to be \"converted\":\n",
    "\n",
    "print(bool(1))\n",
    "print(str(2008))\n",
    "print(int(3.5))"
   ]
  },
  {
   "cell_type": "markdown",
   "metadata": {},
   "source": [
    "**Fair warning**\n",
    "\n",
    "+  '++' like operators to increment or decrement by 1 are not supported. \n",
    "+ **All listed basic data types are immutable.**"
   ]
  },
  {
   "cell_type": "markdown",
   "metadata": {},
   "source": [
    "## Containers"
   ]
  },
  {
   "cell_type": "code",
   "execution_count": 13,
   "metadata": {},
   "outputs": [
    {
     "name": "stdout",
     "output_type": "stream",
     "text": [
      "<class 'list'>\n",
      "3\n",
      "a\n",
      "True\n",
      "[2, 3]\n",
      "[3]\n",
      "[3, 4, 5]\n",
      "[0, 1, 2, 3, 4, 5, 'a', 'b']\n",
      "[0, 1, 2, 3, 4, 5, True]\n",
      "[1, 2, 3, 4, 5, True]\n"
     ]
    }
   ],
   "source": [
    "# Lists\n",
    "l = [1, \"a\", True] # are mutable arrays that can hold any type of objects\n",
    "print(type(l))\n",
    "print(len(l)) # Their length can be queried\n",
    "print(l[1]) # Elements can be accessed by their index. Indexing starts from 0.\n",
    "print(l[-1]) # # A negative index gives the position from the end. -1 is the index of the last element.\n",
    "l = [0,1,2,3,4,5]\n",
    "print(l[2:4]) # Slicing is also supported. The first index is inclusive, the second is exclusive.\n",
    "print(l[3:-2])\n",
    "print(l[3:]) # If no start/end index is given then the slice starts from the beginning/ends with the last element.\n",
    "l2 = [\"a\", \"b\"]\n",
    "print(l + l2) # Lists can be concatenated\n",
    "l.append(True) # New elements can be appended to lists\n",
    "print(l)\n",
    "del(l[0]) # Elements can be deleted by index\n",
    "print(l)"
   ]
  },
  {
   "cell_type": "code",
   "execution_count": 14,
   "metadata": {},
   "outputs": [
    {
     "name": "stdout",
     "output_type": "stream",
     "text": [
      "1991\n",
      "False\n",
      "key not in dict\n",
      "1958\n",
      "key not in dict\n"
     ]
    }
   ],
   "source": [
    "# Dictionaries\n",
    "lang_year = {\"Python\": 1991, \"Lisp\": 1958, \"Java\": 1995} # are key-value stores\n",
    "print(lang_year[\"Python\"]) # Return the value associated with the key\n",
    "print(\"C++\" in lang_year) # Whether a key has an associated value\n",
    "# lang_year[\"C++\"] would raise an exception since \"C++\" is not among the keys\n",
    "print(lang_year.get(\"C++\", \"key not in dict\")) # Returns the value for the key if there is one,\n",
    "print(lang_year.get(\"Lisp\", \"key not in dict\")) # a default value otherwise\n",
    "lang_year[\"C++\"] = 1983 # Change the value for an already existing key or add a key with a value\n",
    "del lang_year['Java'] # Remove an element from a dictionary\n",
    "print(lang_year.get(\"Java\", \"key not in dict\"))"
   ]
  },
  {
   "cell_type": "code",
   "execution_count": 15,
   "metadata": {},
   "outputs": [
    {
     "name": "stdout",
     "output_type": "stream",
     "text": [
      "<class 'set'>\n",
      "True\n",
      "{'Berlin', 'Rome', 'London'}\n"
     ]
    }
   ],
   "source": [
    "# Sets\n",
    "cities = {\"Rome\", \"Berlin\", \"Paris\"} # are mutable unordered collections of unequal and immutable (!) objects\n",
    "print(type(cities))\n",
    "print(\"Rome\" in cities) # Whether an object is in the set\n",
    "cities.add(\"London\") # Objects can be added\n",
    "cities.remove(\"Paris\") # and removed\n",
    "print(cities)"
   ]
  },
  {
   "cell_type": "code",
   "execution_count": 16,
   "metadata": {},
   "outputs": [
    {
     "name": "stdout",
     "output_type": "stream",
     "text": [
      "<class 'tuple'>\n",
      "4\n",
      "a\n",
      "('b', 'c')\n"
     ]
    }
   ],
   "source": [
    "# Tuples\n",
    "t = (\"a\", \"b\", \"c\", \"d\")  # Are immutable ordered lists. Since they are immutable, they can be\n",
    "                          # keys in dictionaries and elements in sets, unlike lists\n",
    "print(type(t))\n",
    "print(len(t))\n",
    "print(t[0]) # Elements can be accessed in the same way as that of lists\n",
    "print(t[1:-1])"
   ]
  },
  {
   "cell_type": "markdown",
   "metadata": {},
   "source": [
    "### Comprehension\n",
    "\n",
    "Python has a special syntax for defining collections based on other collections, the so called comprehension, which can be used for defining lists, sets and dictionaries that are the results of mapping and/or filtering the elements of another collection/iterable."
   ]
  },
  {
   "cell_type": "code",
   "execution_count": 17,
   "metadata": {},
   "outputs": [
    {
     "name": "stdout",
     "output_type": "stream",
     "text": [
      "[1, 9, 25, 49, 81]\n"
     ]
    }
   ],
   "source": [
    "# List comprehension\n",
    "\n",
    "nums = [1, 2, 3, 4, 5, 6, 7, 8, 9]\n",
    "squares_of_odds = [x * x for x in nums if x % 2 != 0]\n",
    "print(squares_of_odds)"
   ]
  },
  {
   "cell_type": "code",
   "execution_count": 18,
   "metadata": {},
   "outputs": [
    {
     "name": "stdout",
     "output_type": "stream",
     "text": [
      "{1: 1, 2: 4, 3: 9, 4: 16, 5: 25, 6: 36, 7: 49, 8: 64, 9: 81}\n"
     ]
    }
   ],
   "source": [
    "# Dictionary comprehension\n",
    "\n",
    "nums_with_squares = {x: x*x for x in nums}\n",
    "print(nums_with_squares)"
   ]
  },
  {
   "cell_type": "code",
   "execution_count": 19,
   "metadata": {},
   "outputs": [
    {
     "name": "stdout",
     "output_type": "stream",
     "text": [
      "{64, 1, 4, 36, 9, 16, 49, 81, 25}\n"
     ]
    }
   ],
   "source": [
    "# Set comprehension \n",
    "\n",
    "print({x * x for x in nums}) # Order will be arbitrary!\n"
   ]
  },
  {
   "cell_type": "markdown",
   "metadata": {},
   "source": [
    "### Generator expressions\n",
    "\n",
    "Iterators are Python objects that sequentially return items, one at a time. Calling the 'next' function with an iterator argument returns the next item or raises the StopIteration exception if the iterator has been exhausted.\n",
    "\n",
    "An especially easy way of creating iterators is provided by Python's generator expressions, which have the same syntax as list or set comprehension:"
   ]
  },
  {
   "cell_type": "code",
   "execution_count": 20,
   "metadata": {},
   "outputs": [
    {
     "data": {
      "text/plain": [
       "generator"
      ]
     },
     "execution_count": 20,
     "metadata": {},
     "output_type": "execute_result"
    }
   ],
   "source": [
    "g = (x + 10 for x in [1,2])\n",
    "type(g)"
   ]
  },
  {
   "cell_type": "code",
   "execution_count": 21,
   "metadata": {},
   "outputs": [
    {
     "data": {
      "text/plain": [
       "11"
      ]
     },
     "execution_count": 21,
     "metadata": {},
     "output_type": "execute_result"
    }
   ],
   "source": [
    "next(g)"
   ]
  },
  {
   "cell_type": "code",
   "execution_count": 22,
   "metadata": {},
   "outputs": [
    {
     "data": {
      "text/plain": [
       "12"
      ]
     },
     "execution_count": 22,
     "metadata": {},
     "output_type": "execute_result"
    }
   ],
   "source": [
    "next(g)"
   ]
  },
  {
   "cell_type": "code",
   "execution_count": 23,
   "metadata": {},
   "outputs": [],
   "source": [
    "# next(g) # Would raise StopIteration"
   ]
  },
  {
   "cell_type": "markdown",
   "metadata": {},
   "source": [
    "Iterators are NOT containers: in general the generated elements don't even have to exist in the memory at the same time. They can be converted into ones, of course:"
   ]
  },
  {
   "cell_type": "code",
   "execution_count": 24,
   "metadata": {},
   "outputs": [
    {
     "name": "stdout",
     "output_type": "stream",
     "text": [
      "[11, 12]\n"
     ]
    },
    {
     "data": {
      "text/plain": [
       "[]"
      ]
     },
     "execution_count": 24,
     "metadata": {},
     "output_type": "execute_result"
    }
   ],
   "source": [
    "g = (x + 10 for x in [1,2])\n",
    "print(list(g)) # This generates a list by calling 'next' until g gets exhausted\n",
    "list(g) # This will be empty because g has been exhausted"
   ]
  },
  {
   "cell_type": "markdown",
   "metadata": {},
   "source": [
    "## Control structures"
   ]
  },
  {
   "cell_type": "code",
   "execution_count": 25,
   "metadata": {},
   "outputs": [
    {
     "name": "stdout",
     "output_type": "stream",
     "text": [
      "Lisp is really ancient.\n"
     ]
    }
   ],
   "source": [
    "# Conditional -- the syntax is as can be expected, note \"elif\" though which is somewhat idiosyncratic.\n",
    "\n",
    "lisp_year = lang_year[\"Lisp\"]\n",
    "\n",
    "if lisp_year < 1960:\n",
    "    print(\"Lisp is really ancient.\")\n",
    "elif lisp_year < 2000:\n",
    "    print(\"Lisp is from the 20th century.\")\n",
    "else:\n",
    "    print(\"Lisp is recent.\")"
   ]
  },
  {
   "cell_type": "code",
   "execution_count": 26,
   "metadata": {},
   "outputs": [
    {
     "name": "stdout",
     "output_type": "stream",
     "text": [
      "0\n",
      "1\n",
      "2\n",
      "3\n",
      "4\n"
     ]
    }
   ],
   "source": [
    "# While\n",
    "\n",
    "i = 0\n",
    "while i < 5:\n",
    "    print(i)\n",
    "    i += 1"
   ]
  },
  {
   "cell_type": "code",
   "execution_count": 27,
   "metadata": {},
   "outputs": [
    {
     "name": "stdout",
     "output_type": "stream",
     "text": [
      "apple is a fruit.\n",
      "orange is a fruit.\n",
      "pear is a fruit.\n"
     ]
    }
   ],
   "source": [
    "# Iteration/For loop\n",
    "# One can iterate over the elements of containers with a for loop\n",
    "\n",
    "# Lists\n",
    "\n",
    "fruits = [\"apple\", \"orange\", \"pear\"]\n",
    "\n",
    "for fruit in fruits:\n",
    "    print(f\"{fruit} is a fruit.\")"
   ]
  },
  {
   "cell_type": "code",
   "execution_count": 28,
   "metadata": {},
   "outputs": [
    {
     "name": "stdout",
     "output_type": "stream",
     "text": [
      "<class 'generator'>\n",
      "apples\n",
      "oranges\n",
      "pears\n"
     ]
    }
   ],
   "source": [
    "# For loops can iterate over any iterator, eg. over one created using \n",
    "# a generator expression:\n",
    "\n",
    "fruits = (fruit + \"s\" for fruit in fruits) \n",
    "print(type(fruits))\n",
    "for s in fruits:\n",
    "    print(s)"
   ]
  },
  {
   "cell_type": "code",
   "execution_count": 29,
   "metadata": {},
   "outputs": [
    {
     "name": "stdout",
     "output_type": "stream",
     "text": [
      "\n"
     ]
    }
   ],
   "source": [
    "# if the indices are also needed:\n",
    "\n",
    "for idx, fruit in enumerate(fruits):\n",
    "    print(f\"Fruit {fruit} has index {idx}.\")\n",
    "    \n",
    "print()\n",
    "\n",
    "# if _only_ indices are needed, this is the idiomatic way:\n",
    "\n",
    "for i, _ in enumerate(fruits):\n",
    "    print(i)"
   ]
  },
  {
   "cell_type": "code",
   "execution_count": 30,
   "metadata": {},
   "outputs": [
    {
     "name": "stdout",
     "output_type": "stream",
     "text": [
      "Berlin\n",
      "Rome\n",
      "London\n"
     ]
    }
   ],
   "source": [
    "# For works similarly for sets and tuples, but note that the iteration order for sets is arbitrary\n",
    "# and can change\n",
    "for city in cities:\n",
    "    print(city)"
   ]
  },
  {
   "cell_type": "code",
   "execution_count": 31,
   "metadata": {},
   "outputs": [
    {
     "name": "stdout",
     "output_type": "stream",
     "text": [
      "Python\n",
      "Lisp\n",
      "C++\n"
     ]
    }
   ],
   "source": [
    "# A for loop over a dictionary iterates over the keys:\n",
    "\n",
    "for lang in lang_year:\n",
    "    print(lang)"
   ]
  },
  {
   "cell_type": "code",
   "execution_count": 32,
   "metadata": {},
   "outputs": [
    {
     "name": "stdout",
     "output_type": "stream",
     "text": [
      "The Python language is from year 1991.\n",
      "The Lisp language is from year 1958.\n",
      "The C++ language is from year 1983.\n"
     ]
    }
   ],
   "source": [
    "# If both the keys and values are needed then you should use the items method:\n",
    "\n",
    "for lang, year in lang_year.items():\n",
    "    print(f\"The {lang} language is from year {year}.\")"
   ]
  },
  {
   "cell_type": "markdown",
   "metadata": {},
   "source": [
    "## Functions"
   ]
  },
  {
   "cell_type": "code",
   "execution_count": 33,
   "metadata": {},
   "outputs": [
    {
     "name": "stdout",
     "output_type": "stream",
     "text": [
      "a b c\n",
      "time.struct_time(tm_year=2018, tm_mon=9, tm_mday=8, tm_hour=6, tm_min=29, tm_sec=29, tm_wday=5, tm_yday=251, tm_isdst=1)\n",
      "<built-in function localtime>\n",
      "[<built-in function localtime>, <built-in function localtime>]\n",
      "time.struct_time(tm_year=2018, tm_mon=9, tm_mday=8, tm_hour=6, tm_min=29, tm_sec=29, tm_wday=5, tm_yday=251, tm_isdst=1)\n"
     ]
    }
   ],
   "source": [
    "# Function calls have the syntax <fun_identifier>(<arg_1>,...,<arg_n>)\n",
    "\n",
    "print(\"a\", \"b\", \"c\")\n",
    "\n",
    "# Functions can be called only with brackets around the argument list, even if there are no arguments.\n",
    "# Without the argument list a function name always refers to the function itself:\n",
    "\n",
    "from time import localtime # Localtime has no arguments.\n",
    "\n",
    "print(localtime()) # Print the result of calling the localtime function \n",
    "print(localtime) # Print localtime, the function\n",
    "\n",
    "# Functions are \"first class citizens\" in Python: they can be arguments and return values of functions/methods \n",
    "# and elements of containers.\n",
    "\n",
    "list = [localtime, localtime]\n",
    "print(list)\n",
    "print(list[0]())"
   ]
  },
  {
   "cell_type": "code",
   "execution_count": 34,
   "metadata": {},
   "outputs": [
    {
     "name": "stdout",
     "output_type": "stream",
     "text": [
      "-1\n"
     ]
    }
   ],
   "source": [
    "# Functions are defined with the def keyword\n",
    "\n",
    "def sign(x):\n",
    "    if x < 0:\n",
    "        return -1\n",
    "    elif x == 0:\n",
    "        return 0\n",
    "    else:\n",
    "        return 1\n",
    "\n",
    "print((sign(-5)))"
   ]
  },
  {
   "cell_type": "code",
   "execution_count": 35,
   "metadata": {},
   "outputs": [
    {
     "name": "stdout",
     "output_type": "stream",
     "text": [
      "Hello Guido!\n",
      "Hello Python!\n",
      "None\n"
     ]
    }
   ],
   "source": [
    "# In the absence of an explicit 'return' functions return None\n",
    "\n",
    "def hello(x): \n",
    "    print(f\"Hello {x}!\") \n",
    "\n",
    "hello(\"Guido\") \n",
    "print(hello(\"Python\")) "
   ]
  },
  {
   "cell_type": "code",
   "execution_count": 36,
   "metadata": {},
   "outputs": [
    {
     "name": "stdout",
     "output_type": "stream",
     "text": [
      "Hello Python!\n",
      "Good morning Lisp!\n",
      "Good day Java?\n"
     ]
    }
   ],
   "source": [
    "# Arguments can have a default value, in that case they can be used as named/keyword arguments as well.\n",
    "\n",
    "def hello_defaults(name, greeting=\"Hello\", ending=\"!\"):\n",
    "    print(f\"{greeting} {name}{ending}\")\n",
    "    \n",
    "hello_defaults(\"Python\")\n",
    "hello_defaults(\"Lisp\", \"Good morning\")\n",
    "hello_defaults(\"Java\", ending=\"?\", greeting=\"Good day\") # Named args can be in any order"
   ]
  },
  {
   "cell_type": "code",
   "execution_count": 37,
   "metadata": {},
   "outputs": [
    {
     "name": "stdout",
     "output_type": "stream",
     "text": [
      "Hello Python!\n",
      "Hello to Java as well!\n",
      "Hello to Lisp as well!\n"
     ]
    }
   ],
   "source": [
    "# To define functions with a variable number of arguments\n",
    "# the last arguments in the definition can start with one or two asterisks.\n",
    "# These will contain the values of all extra positional arguments that are passed \n",
    "# but not listed explicitly in the function definition. \n",
    "\n",
    "def hello_varargs(name, *names):# the value of the _single_ asterisked argument will be a tuple \n",
    "    print(f\"Hello {name}!\")     # containing the value of passed _additional_ parguments in the function call\n",
    "    for name in names:\n",
    "        print(f\"Hello to {name} as well!\")\n",
    "        \n",
    "hello_varargs(\"Python\", \"Java\", \"Lisp\")"
   ]
  },
  {
   "cell_type": "code",
   "execution_count": 38,
   "metadata": {},
   "outputs": [
    {
     "name": "stdout",
     "output_type": "stream",
     "text": [
      "Good day Python,\n",
      "your developer is Guido van Rossum\n",
      "your year is 1995\n",
      "your popularity is skyrocketing\n"
     ]
    }
   ],
   "source": [
    "# An argument starting with a double asterisk collects all extra named/keyword arguments with their values\n",
    "# in a dictionary\n",
    "\n",
    "def hello_kwargs(name, greeting=\"Hello\", **attribs):\n",
    "    print(f\"{greeting} {name},\")\n",
    "    for attr_name, attr_value in attribs.items():\n",
    "        print(f\"your {attr_name} is {attr_value}\")\n",
    "        \n",
    "hello_kwargs(\"Python\", greeting=\"Good day\", developer=\"Guido van Rossum\", year=\"1995\", popularity=\"skyrocketing\")"
   ]
  },
  {
   "cell_type": "markdown",
   "metadata": {},
   "source": [
    "## Generator functions\n",
    "\n",
    "Generator functions are special functions that use the yield keyword instead of return, and when called return an iterator. The returned iterator, in turn, calls the generator function at the  first 'next' call, runs it until it reaches 'yield', returns the yielded object and suspends the run of the generator function until the next 'next' call, when it resumes running until reaching a 'yield' etc. If 'next' is called for the iterator and the generator function's execution ends without reaching a 'yield' then a 'StopIteration' exception is raised."
   ]
  },
  {
   "cell_type": "code",
   "execution_count": 39,
   "metadata": {},
   "outputs": [
    {
     "name": "stdout",
     "output_type": "stream",
     "text": [
      "1\n",
      "2\n",
      "4\n",
      "8\n",
      "16\n",
      "32\n",
      "64\n",
      "128\n",
      "256\n",
      "512\n"
     ]
    }
   ],
   "source": [
    "def two_powers():\n",
    "    \"\"\"Generator function yielding the powers of 2 under 1000.\n",
    "    \"\"\"\n",
    "    p = 1\n",
    "    while p < 1000:\n",
    "        yield p\n",
    "        p = p * 2\n",
    "\n",
    "g = two_powers()\n",
    "\n",
    "for p in g:\n",
    "    print(p)"
   ]
  },
  {
   "cell_type": "markdown",
   "metadata": {},
   "source": [
    "## Objects and classes\n",
    "\n",
    "All data in Python are represented by objects: all instances of the primitive data types, all containers etc.\n",
    "are objects with associated classes."
   ]
  },
  {
   "cell_type": "code",
   "execution_count": 40,
   "metadata": {},
   "outputs": [
    {
     "name": "stdout",
     "output_type": "stream",
     "text": [
      "PYTHON\n",
      "<built-in method upper of str object at 0x7f3016e0fd50>\n",
      "time.struct_time(tm_year=2018, tm_mon=9, tm_mday=8, tm_hour=6, tm_min=29, tm_sec=29, tm_wday=5, tm_yday=251, tm_isdst=1)\n",
      "2018\n"
     ]
    }
   ],
   "source": [
    "# Objects have associated methods and attributes\n",
    "# Methods can be called with the dot syntax: <object_identifier>.<method_name>(arg_1,...,arg_2)\n",
    "# All function calling conventions (named arguments etc.) apply to methods as well\n",
    "\n",
    "a = \"python\"\n",
    "a_capitalized = \"python\".upper()\n",
    "print(a_capitalized)\n",
    "\n",
    "# Similarly to functions, without brackets the method name refers to the method itself:\n",
    "print(a.upper)\n",
    "\n",
    "# Attributes, in contrast, are accessed without brackets:\n",
    "\n",
    "lt = localtime()\n",
    "print(lt)\n",
    "print(lt.tm_year)"
   ]
  },
  {
   "cell_type": "code",
   "execution_count": 41,
   "metadata": {},
   "outputs": [
    {
     "name": "stdout",
     "output_type": "stream",
     "text": [
      "<__main__.Point object at 0x7f2ff1c112b0>\n",
      "5.0\n",
      "1.0\n"
     ]
    }
   ],
   "source": [
    "# Objects are always instances of a class, and new classes can easily be defined\n",
    "# from scratch or by inheriting from an already existing class\n",
    "\n",
    "class Point: # classes to inherit from could be listed between brackets\n",
    "             # after the class name\n",
    "    \"\"\"A class representing a point on a plane.\n",
    "    \"\"\"\n",
    "    \n",
    "    # method definition syntax is the same as that of functions,\n",
    "    # but when called the first argument -- always \"self\" by convention -- is bound to\n",
    "    # the object itself.\n",
    "    \n",
    "    def __init__(self, x, y): # The method called __init__ is always the default constructor\n",
    "        \"\"\"Initialize a point with x, y coordinates.\n",
    "        \"\"\"\n",
    "        self.x = x  # we are setting the x an y attributes\n",
    "        self.y = y  # using the constructor arguments\n",
    "            \n",
    "    def distance(self, other):\n",
    "        \"\"\"Return the distance between two points.\n",
    "        \"\"\"\n",
    "        return ((self.x - other.x) ** 2 + (self.y - other.y) ** 2) ** 0.5\n",
    "        \n",
    "p1 = Point(0, 0) # The class's name with arguments calls the constructor\n",
    "print(p1)\n",
    "p2 = Point(3, 4)\n",
    "print(p1.distance(p2))\n",
    "p1.x = 3; p1.y = 3;\n",
    "print(p1.distance(p2))"
   ]
  },
  {
   "cell_type": "markdown",
   "metadata": {},
   "source": [
    "## Importing"
   ]
  },
  {
   "cell_type": "code",
   "execution_count": 42,
   "metadata": {},
   "outputs": [
    {
     "name": "stdout",
     "output_type": "stream",
     "text": [
      "5.0\n",
      "<class 'sklearn.cluster.k_means_.KMeans'>\n",
      "0.5913757129454236\n",
      "0.6993158479195861\n"
     ]
    }
   ],
   "source": [
    "# Classes, functions etc. defined in other modules have to be imported before they can be used\n",
    "\n",
    "from math import sin, sqrt # individual functions, classes etc can be imported from modules\n",
    "print(sqrt(25)) # the identifiers imported this way become avaiable in the current namespace\n",
    "from math import * # This imports the whole content of the module into the current namespace -- not recommended\n",
    "\n",
    "# Since modules are frequently organized into packages (and packages again into larger ones),\n",
    "# the from syntax can be used to import a package or module as a whole, e.g.\n",
    "from sklearn import cluster\n",
    "print(cluster.KMeans) # This makes the content of the whole package available\n",
    "\n",
    "import random # This makes available the whole content of the module\n",
    "print(random.random()) # but the module's name (path) has to be used before the imported identifiers\n",
    "\n",
    "import random as r # Makes available the whole content of the module, they can be accessed with the specified prefix\n",
    "print(r.random())"
   ]
  },
  {
   "cell_type": "markdown",
   "metadata": {},
   "source": [
    "# Pandas (Python Data Analysis Library)\n",
    "\n",
    "## Data frame basics\n",
    "\n",
    "[Pandas](https://pandas.pydata.org/) is an open source Python data analysis library. The central Pandas abstraction is that of a [data frame](https://pandas.pydata.org/pandas-docs/stable/generated/pandas.DataFrame.html): these are spreadsheet-like objects in which columns and rows are labeled with Python objects, e.g. strings or numbers. The list of row labels is called the index of the data frame."
   ]
  },
  {
   "cell_type": "code",
   "execution_count": 43,
   "metadata": {},
   "outputs": [
    {
     "data": {
      "text/html": [
       "<div>\n",
       "<style scoped>\n",
       "    .dataframe tbody tr th:only-of-type {\n",
       "        vertical-align: middle;\n",
       "    }\n",
       "\n",
       "    .dataframe tbody tr th {\n",
       "        vertical-align: top;\n",
       "    }\n",
       "\n",
       "    .dataframe thead th {\n",
       "        text-align: right;\n",
       "    }\n",
       "</style>\n",
       "<table border=\"1\" class=\"dataframe\">\n",
       "  <thead>\n",
       "    <tr style=\"text-align: right;\">\n",
       "      <th></th>\n",
       "      <th>name</th>\n",
       "      <th>paradigm</th>\n",
       "      <th>creator</th>\n",
       "      <th>year</th>\n",
       "      <th>popularity_rank</th>\n",
       "    </tr>\n",
       "  </thead>\n",
       "  <tbody>\n",
       "    <tr>\n",
       "      <th>0</th>\n",
       "      <td>Python</td>\n",
       "      <td>multi</td>\n",
       "      <td>Guido van Rossum</td>\n",
       "      <td>1995</td>\n",
       "      <td>3</td>\n",
       "    </tr>\n",
       "    <tr>\n",
       "      <th>1</th>\n",
       "      <td>Lisp</td>\n",
       "      <td>multi</td>\n",
       "      <td>John McCarthy</td>\n",
       "      <td>1958</td>\n",
       "      <td>33</td>\n",
       "    </tr>\n",
       "    <tr>\n",
       "      <th>2</th>\n",
       "      <td>C++</td>\n",
       "      <td>multi</td>\n",
       "      <td>Bjarne Stroustrup</td>\n",
       "      <td>1985</td>\n",
       "      <td>4</td>\n",
       "    </tr>\n",
       "    <tr>\n",
       "      <th>3</th>\n",
       "      <td>Java</td>\n",
       "      <td>multi</td>\n",
       "      <td>James Gosling</td>\n",
       "      <td>1996</td>\n",
       "      <td>1</td>\n",
       "    </tr>\n",
       "    <tr>\n",
       "      <th>4</th>\n",
       "      <td>Haskell</td>\n",
       "      <td>functional</td>\n",
       "      <td>Lennart Augustsson</td>\n",
       "      <td>1990</td>\n",
       "      <td>40</td>\n",
       "    </tr>\n",
       "    <tr>\n",
       "      <th>5</th>\n",
       "      <td>Prolog</td>\n",
       "      <td>logic</td>\n",
       "      <td>Alain Colmerauer</td>\n",
       "      <td>1972</td>\n",
       "      <td>36</td>\n",
       "    </tr>\n",
       "  </tbody>\n",
       "</table>\n",
       "</div>"
      ],
      "text/plain": [
       "      name    paradigm             creator  year  popularity_rank\n",
       "0   Python       multi    Guido van Rossum  1995                3\n",
       "1     Lisp       multi       John McCarthy  1958               33\n",
       "2      C++       multi   Bjarne Stroustrup  1985                4\n",
       "3     Java       multi       James Gosling  1996                1\n",
       "4  Haskell  functional  Lennart Augustsson  1990               40\n",
       "5   Prolog       logic    Alain Colmerauer  1972               36"
      ]
     },
     "execution_count": 43,
     "metadata": {},
     "output_type": "execute_result"
    }
   ],
   "source": [
    "import pandas as pd # Pandas is by convention imported as pd\n",
    "\n",
    "# Data frames can be created in several ways, and we will see methods to create \n",
    "# them from external data sets later, but for now we create them simply from lists:\n",
    "\n",
    "df = pd.DataFrame([[\"Python\",\"multi\", \"Guido van Rossum\", 1995, 3],\n",
    "                    [\"Lisp\",\"multi\", \"John McCarthy\", 1958, 33],\n",
    "                    [\"C++\", \"multi\", \"Bjarne Stroustrup\", 1985, 4],\n",
    "                    [\"Java\", \"multi\", \"James Gosling\", 1996, 1],\n",
    "                    [\"Haskell\",\"functional\", \"Lennart Augustsson\", 1990, 40],\n",
    "                    [\"Prolog\", \"logic\", \"Alain Colmerauer\", 1972,  36]], \n",
    "                  columns=[\"name\", \"paradigm\", \"creator\", \"year\", \"popularity_rank\"])\n",
    "\n",
    "df # data frames are nicely visualised in Jupyter without printing"
   ]
  },
  {
   "cell_type": "markdown",
   "metadata": {},
   "source": [
    "The first and last $n$ rows (the default is 5) of a data frame can be quickly inspected by the [head](https://pandas.pydata.org/pandas-docs/stable/generated/pandas.DataFrame.head.html) and [tail](https://pandas.pydata.org/pandas-docs/stable/generated/pandas.DataFrame.tail.html) methods:"
   ]
  },
  {
   "cell_type": "code",
   "execution_count": 44,
   "metadata": {},
   "outputs": [
    {
     "data": {
      "text/html": [
       "<div>\n",
       "<style scoped>\n",
       "    .dataframe tbody tr th:only-of-type {\n",
       "        vertical-align: middle;\n",
       "    }\n",
       "\n",
       "    .dataframe tbody tr th {\n",
       "        vertical-align: top;\n",
       "    }\n",
       "\n",
       "    .dataframe thead th {\n",
       "        text-align: right;\n",
       "    }\n",
       "</style>\n",
       "<table border=\"1\" class=\"dataframe\">\n",
       "  <thead>\n",
       "    <tr style=\"text-align: right;\">\n",
       "      <th></th>\n",
       "      <th>name</th>\n",
       "      <th>paradigm</th>\n",
       "      <th>creator</th>\n",
       "      <th>year</th>\n",
       "      <th>popularity_rank</th>\n",
       "    </tr>\n",
       "  </thead>\n",
       "  <tbody>\n",
       "    <tr>\n",
       "      <th>0</th>\n",
       "      <td>Python</td>\n",
       "      <td>multi</td>\n",
       "      <td>Guido van Rossum</td>\n",
       "      <td>1995</td>\n",
       "      <td>3</td>\n",
       "    </tr>\n",
       "    <tr>\n",
       "      <th>1</th>\n",
       "      <td>Lisp</td>\n",
       "      <td>multi</td>\n",
       "      <td>John McCarthy</td>\n",
       "      <td>1958</td>\n",
       "      <td>33</td>\n",
       "    </tr>\n",
       "  </tbody>\n",
       "</table>\n",
       "</div>"
      ],
      "text/plain": [
       "     name paradigm           creator  year  popularity_rank\n",
       "0  Python    multi  Guido van Rossum  1995                3\n",
       "1    Lisp    multi     John McCarthy  1958               33"
      ]
     },
     "execution_count": 44,
     "metadata": {},
     "output_type": "execute_result"
    }
   ],
   "source": [
    "df.head(2)"
   ]
  },
  {
   "cell_type": "markdown",
   "metadata": {},
   "source": [
    " Note that we haven't specified an index, so it is simply a numbering (starting, as usual in Python, from 0). If we use the language names as indices we get"
   ]
  },
  {
   "cell_type": "code",
   "execution_count": 45,
   "metadata": {},
   "outputs": [
    {
     "data": {
      "text/html": [
       "<div>\n",
       "<style scoped>\n",
       "    .dataframe tbody tr th:only-of-type {\n",
       "        vertical-align: middle;\n",
       "    }\n",
       "\n",
       "    .dataframe tbody tr th {\n",
       "        vertical-align: top;\n",
       "    }\n",
       "\n",
       "    .dataframe thead th {\n",
       "        text-align: right;\n",
       "    }\n",
       "</style>\n",
       "<table border=\"1\" class=\"dataframe\">\n",
       "  <thead>\n",
       "    <tr style=\"text-align: right;\">\n",
       "      <th></th>\n",
       "      <th>paradigm</th>\n",
       "      <th>creator</th>\n",
       "      <th>year</th>\n",
       "      <th>popularity_rank</th>\n",
       "    </tr>\n",
       "  </thead>\n",
       "  <tbody>\n",
       "    <tr>\n",
       "      <th>Python</th>\n",
       "      <td>multi</td>\n",
       "      <td>Guido van Rossum</td>\n",
       "      <td>1995</td>\n",
       "      <td>3</td>\n",
       "    </tr>\n",
       "    <tr>\n",
       "      <th>Lisp</th>\n",
       "      <td>multi</td>\n",
       "      <td>John McCarthy</td>\n",
       "      <td>1958</td>\n",
       "      <td>33</td>\n",
       "    </tr>\n",
       "    <tr>\n",
       "      <th>C++</th>\n",
       "      <td>multi</td>\n",
       "      <td>Bjarne Stroustrup</td>\n",
       "      <td>1985</td>\n",
       "      <td>4</td>\n",
       "    </tr>\n",
       "    <tr>\n",
       "      <th>Java</th>\n",
       "      <td>multi</td>\n",
       "      <td>James Gosling</td>\n",
       "      <td>1996</td>\n",
       "      <td>1</td>\n",
       "    </tr>\n",
       "    <tr>\n",
       "      <th>Haskell</th>\n",
       "      <td>functional</td>\n",
       "      <td>Lennart Augustsson</td>\n",
       "      <td>1990</td>\n",
       "      <td>40</td>\n",
       "    </tr>\n",
       "    <tr>\n",
       "      <th>Prolog</th>\n",
       "      <td>logic</td>\n",
       "      <td>Alain Colmerauer</td>\n",
       "      <td>1972</td>\n",
       "      <td>36</td>\n",
       "    </tr>\n",
       "  </tbody>\n",
       "</table>\n",
       "</div>"
      ],
      "text/plain": [
       "           paradigm             creator  year  popularity_rank\n",
       "Python        multi    Guido van Rossum  1995                3\n",
       "Lisp          multi       John McCarthy  1958               33\n",
       "C++           multi   Bjarne Stroustrup  1985                4\n",
       "Java          multi       James Gosling  1996                1\n",
       "Haskell  functional  Lennart Augustsson  1990               40\n",
       "Prolog        logic    Alain Colmerauer  1972               36"
      ]
     },
     "execution_count": 45,
     "metadata": {},
     "output_type": "execute_result"
    }
   ],
   "source": [
    "df = pd.DataFrame([[\"multi\", \"Guido van Rossum\", 1995, 3],\n",
    "                    [\"multi\", \"John McCarthy\", 1958, 33],\n",
    "                    [\"multi\", \"Bjarne Stroustrup\", 1985, 4],\n",
    "                    [\"multi\", \"James Gosling\", 1996, 1],\n",
    "                    [\"functional\", \"Lennart Augustsson\", 1990, 40],\n",
    "                    [\"logic\", \"Alain Colmerauer\", 1972,  36]], \n",
    "                  columns=[\"paradigm\", \"creator\", \"year\", \"popularity_rank\"], \n",
    "                  index=[\"Python\", \"Lisp\", \"C++\", \"Java\", \"Haskell\", \"Prolog\"])\n",
    "\n",
    "df"
   ]
  },
  {
   "cell_type": "markdown",
   "metadata": {},
   "source": [
    "Columns can be accessed by label:"
   ]
  },
  {
   "cell_type": "code",
   "execution_count": 46,
   "metadata": {},
   "outputs": [
    {
     "data": {
      "text/plain": [
       "Python       Guido van Rossum\n",
       "Lisp            John McCarthy\n",
       "C++         Bjarne Stroustrup\n",
       "Java            James Gosling\n",
       "Haskell    Lennart Augustsson\n",
       "Prolog       Alain Colmerauer\n",
       "Name: creator, dtype: object"
      ]
     },
     "execution_count": 46,
     "metadata": {},
     "output_type": "execute_result"
    }
   ],
   "source": [
    "df[\"creator\"]"
   ]
  },
  {
   "cell_type": "code",
   "execution_count": 47,
   "metadata": {},
   "outputs": [
    {
     "data": {
      "text/plain": [
       "Python     1995\n",
       "Lisp       1958\n",
       "C++        1985\n",
       "Java       1996\n",
       "Haskell    1990\n",
       "Prolog     1972\n",
       "Name: year, dtype: int64"
      ]
     },
     "execution_count": 47,
     "metadata": {},
     "output_type": "execute_result"
    }
   ],
   "source": [
    "# With appropriate column labels (string without spaces) a dotted syntax also works:\n",
    "df.year"
   ]
  },
  {
   "cell_type": "code",
   "execution_count": 48,
   "metadata": {},
   "outputs": [
    {
     "data": {
      "text/plain": [
       "paradigm                      multi\n",
       "creator            Guido van Rossum\n",
       "year                           1995\n",
       "popularity_rank                   3\n",
       "Name: Python, dtype: object"
      ]
     },
     "execution_count": 48,
     "metadata": {},
     "output_type": "execute_result"
    }
   ],
   "source": [
    "# Rows of can be accessed by the row index using loc:\n",
    "df.loc[\"Python\"]"
   ]
  },
  {
   "cell_type": "code",
   "execution_count": 49,
   "metadata": {},
   "outputs": [
    {
     "data": {
      "text/html": [
       "<div>\n",
       "<style scoped>\n",
       "    .dataframe tbody tr th:only-of-type {\n",
       "        vertical-align: middle;\n",
       "    }\n",
       "\n",
       "    .dataframe tbody tr th {\n",
       "        vertical-align: top;\n",
       "    }\n",
       "\n",
       "    .dataframe thead th {\n",
       "        text-align: right;\n",
       "    }\n",
       "</style>\n",
       "<table border=\"1\" class=\"dataframe\">\n",
       "  <thead>\n",
       "    <tr style=\"text-align: right;\">\n",
       "      <th></th>\n",
       "      <th>creator</th>\n",
       "      <th>year</th>\n",
       "      <th>popularity_rank</th>\n",
       "    </tr>\n",
       "  </thead>\n",
       "  <tbody>\n",
       "    <tr>\n",
       "      <th>Lisp</th>\n",
       "      <td>John McCarthy</td>\n",
       "      <td>1958</td>\n",
       "      <td>33</td>\n",
       "    </tr>\n",
       "    <tr>\n",
       "      <th>C++</th>\n",
       "      <td>Bjarne Stroustrup</td>\n",
       "      <td>1985</td>\n",
       "      <td>4</td>\n",
       "    </tr>\n",
       "    <tr>\n",
       "      <th>Java</th>\n",
       "      <td>James Gosling</td>\n",
       "      <td>1996</td>\n",
       "      <td>1</td>\n",
       "    </tr>\n",
       "  </tbody>\n",
       "</table>\n",
       "</div>"
      ],
      "text/plain": [
       "                creator  year  popularity_rank\n",
       "Lisp      John McCarthy  1958               33\n",
       "C++   Bjarne Stroustrup  1985                4\n",
       "Java      James Gosling  1996                1"
      ]
     },
     "execution_count": 49,
     "metadata": {},
     "output_type": "execute_result"
    }
   ],
   "source": [
    "# loc can also be used to access 2-dimensional ranges using Python's slicing syntax extended to\n",
    "# two dimensions:\n",
    "df.loc[\"Lisp\": \"Java\", \"creator\":\"popularity_rank\"] # SLICE INCLUDES THE CLOSING INDEX!!!!"
   ]
  },
  {
   "cell_type": "code",
   "execution_count": 50,
   "metadata": {},
   "outputs": [
    {
     "data": {
      "text/html": [
       "<div>\n",
       "<style scoped>\n",
       "    .dataframe tbody tr th:only-of-type {\n",
       "        vertical-align: middle;\n",
       "    }\n",
       "\n",
       "    .dataframe tbody tr th {\n",
       "        vertical-align: top;\n",
       "    }\n",
       "\n",
       "    .dataframe thead th {\n",
       "        text-align: right;\n",
       "    }\n",
       "</style>\n",
       "<table border=\"1\" class=\"dataframe\">\n",
       "  <thead>\n",
       "    <tr style=\"text-align: right;\">\n",
       "      <th></th>\n",
       "      <th>creator</th>\n",
       "      <th>year</th>\n",
       "    </tr>\n",
       "  </thead>\n",
       "  <tbody>\n",
       "    <tr>\n",
       "      <th>Python</th>\n",
       "      <td>Guido van Rossum</td>\n",
       "      <td>1995</td>\n",
       "    </tr>\n",
       "    <tr>\n",
       "      <th>Lisp</th>\n",
       "      <td>John McCarthy</td>\n",
       "      <td>1958</td>\n",
       "    </tr>\n",
       "    <tr>\n",
       "      <th>C++</th>\n",
       "      <td>Bjarne Stroustrup</td>\n",
       "      <td>1985</td>\n",
       "    </tr>\n",
       "  </tbody>\n",
       "</table>\n",
       "</div>"
      ],
      "text/plain": [
       "                  creator  year\n",
       "Python   Guido van Rossum  1995\n",
       "Lisp        John McCarthy  1958\n",
       "C++     Bjarne Stroustrup  1985"
      ]
     },
     "execution_count": 50,
     "metadata": {},
     "output_type": "execute_result"
    }
   ],
   "source": [
    "# iloc provides numerical index based access to dataframe ranges \n",
    "df.iloc[:3, 1:3]"
   ]
  },
  {
   "cell_type": "code",
   "execution_count": 51,
   "metadata": {},
   "outputs": [
    {
     "name": "stdout",
     "output_type": "stream",
     "text": [
      "1995\n",
      "multi\n"
     ]
    }
   ],
   "source": [
    "# Individual cells can also be accessed by loc and iloc:\n",
    "print(df.loc[\"Python\", \"year\"])\n",
    "print(df.iloc[0,0])"
   ]
  },
  {
   "cell_type": "code",
   "execution_count": 52,
   "metadata": {},
   "outputs": [
    {
     "data": {
      "text/html": [
       "<div>\n",
       "<style scoped>\n",
       "    .dataframe tbody tr th:only-of-type {\n",
       "        vertical-align: middle;\n",
       "    }\n",
       "\n",
       "    .dataframe tbody tr th {\n",
       "        vertical-align: top;\n",
       "    }\n",
       "\n",
       "    .dataframe thead th {\n",
       "        text-align: right;\n",
       "    }\n",
       "</style>\n",
       "<table border=\"1\" class=\"dataframe\">\n",
       "  <thead>\n",
       "    <tr style=\"text-align: right;\">\n",
       "      <th></th>\n",
       "      <th>paradigm</th>\n",
       "      <th>creator</th>\n",
       "      <th>year</th>\n",
       "      <th>tiobe_idx</th>\n",
       "    </tr>\n",
       "  </thead>\n",
       "  <tbody>\n",
       "    <tr>\n",
       "      <th>Python</th>\n",
       "      <td>multi</td>\n",
       "      <td>Guido van Rossum</td>\n",
       "      <td>1995</td>\n",
       "      <td>3</td>\n",
       "    </tr>\n",
       "    <tr>\n",
       "      <th>Lisp</th>\n",
       "      <td>multi</td>\n",
       "      <td>John McCarthy</td>\n",
       "      <td>1958</td>\n",
       "      <td>33</td>\n",
       "    </tr>\n",
       "    <tr>\n",
       "      <th>Cpp</th>\n",
       "      <td>multi</td>\n",
       "      <td>Bjarne Stroustrup</td>\n",
       "      <td>1985</td>\n",
       "      <td>4</td>\n",
       "    </tr>\n",
       "    <tr>\n",
       "      <th>Java</th>\n",
       "      <td>multi</td>\n",
       "      <td>James Gosling</td>\n",
       "      <td>1996</td>\n",
       "      <td>1</td>\n",
       "    </tr>\n",
       "    <tr>\n",
       "      <th>Haskell</th>\n",
       "      <td>functional</td>\n",
       "      <td>Lennart Augustsson</td>\n",
       "      <td>1990</td>\n",
       "      <td>40</td>\n",
       "    </tr>\n",
       "    <tr>\n",
       "      <th>Prolog</th>\n",
       "      <td>logic</td>\n",
       "      <td>Alain Colmerauer</td>\n",
       "      <td>1972</td>\n",
       "      <td>36</td>\n",
       "    </tr>\n",
       "  </tbody>\n",
       "</table>\n",
       "</div>"
      ],
      "text/plain": [
       "           paradigm             creator  year  tiobe_idx\n",
       "Python        multi    Guido van Rossum  1995          3\n",
       "Lisp          multi       John McCarthy  1958         33\n",
       "Cpp           multi   Bjarne Stroustrup  1985          4\n",
       "Java          multi       James Gosling  1996          1\n",
       "Haskell  functional  Lennart Augustsson  1990         40\n",
       "Prolog        logic    Alain Colmerauer  1972         36"
      ]
     },
     "execution_count": 52,
     "metadata": {},
     "output_type": "execute_result"
    }
   ],
   "source": [
    "# Columns and indexes can be renamed\n",
    "\n",
    "df.rename(columns={\"popularity_rank\":\"tiobe_idx\"}, index={\"C++\": \"Cpp\"}, inplace=True)\n",
    "df"
   ]
  },
  {
   "cell_type": "markdown",
   "metadata": {},
   "source": [
    "## Descriptives\n",
    "\n",
    "Pandas can produce a descriptive statistics summary about a data frame (the summary is itself a data frame) with the [describe method](https://pandas.pydata.org/pandas-docs/stable/generated/pandas.DataFrame.describe.html):"
   ]
  },
  {
   "cell_type": "code",
   "execution_count": 53,
   "metadata": {},
   "outputs": [
    {
     "data": {
      "text/html": [
       "<div>\n",
       "<style scoped>\n",
       "    .dataframe tbody tr th:only-of-type {\n",
       "        vertical-align: middle;\n",
       "    }\n",
       "\n",
       "    .dataframe tbody tr th {\n",
       "        vertical-align: top;\n",
       "    }\n",
       "\n",
       "    .dataframe thead th {\n",
       "        text-align: right;\n",
       "    }\n",
       "</style>\n",
       "<table border=\"1\" class=\"dataframe\">\n",
       "  <thead>\n",
       "    <tr style=\"text-align: right;\">\n",
       "      <th></th>\n",
       "      <th>year</th>\n",
       "      <th>tiobe_idx</th>\n",
       "    </tr>\n",
       "  </thead>\n",
       "  <tbody>\n",
       "    <tr>\n",
       "      <th>count</th>\n",
       "      <td>6.000000</td>\n",
       "      <td>6.000000</td>\n",
       "    </tr>\n",
       "    <tr>\n",
       "      <th>mean</th>\n",
       "      <td>1982.666667</td>\n",
       "      <td>19.500000</td>\n",
       "    </tr>\n",
       "    <tr>\n",
       "      <th>std</th>\n",
       "      <td>14.908610</td>\n",
       "      <td>18.598387</td>\n",
       "    </tr>\n",
       "    <tr>\n",
       "      <th>min</th>\n",
       "      <td>1958.000000</td>\n",
       "      <td>1.000000</td>\n",
       "    </tr>\n",
       "    <tr>\n",
       "      <th>25%</th>\n",
       "      <td>1975.250000</td>\n",
       "      <td>3.250000</td>\n",
       "    </tr>\n",
       "    <tr>\n",
       "      <th>50%</th>\n",
       "      <td>1987.500000</td>\n",
       "      <td>18.500000</td>\n",
       "    </tr>\n",
       "    <tr>\n",
       "      <th>75%</th>\n",
       "      <td>1993.750000</td>\n",
       "      <td>35.250000</td>\n",
       "    </tr>\n",
       "    <tr>\n",
       "      <th>max</th>\n",
       "      <td>1996.000000</td>\n",
       "      <td>40.000000</td>\n",
       "    </tr>\n",
       "  </tbody>\n",
       "</table>\n",
       "</div>"
      ],
      "text/plain": [
       "              year  tiobe_idx\n",
       "count     6.000000   6.000000\n",
       "mean   1982.666667  19.500000\n",
       "std      14.908610  18.598387\n",
       "min    1958.000000   1.000000\n",
       "25%    1975.250000   3.250000\n",
       "50%    1987.500000  18.500000\n",
       "75%    1993.750000  35.250000\n",
       "max    1996.000000  40.000000"
      ]
     },
     "execution_count": 53,
     "metadata": {},
     "output_type": "execute_result"
    }
   ],
   "source": [
    "df.describe()"
   ]
  },
  {
   "cell_type": "code",
   "execution_count": 54,
   "metadata": {},
   "outputs": [
    {
     "data": {
      "text/html": [
       "<div>\n",
       "<style scoped>\n",
       "    .dataframe tbody tr th:only-of-type {\n",
       "        vertical-align: middle;\n",
       "    }\n",
       "\n",
       "    .dataframe tbody tr th {\n",
       "        vertical-align: top;\n",
       "    }\n",
       "\n",
       "    .dataframe thead th {\n",
       "        text-align: right;\n",
       "    }\n",
       "</style>\n",
       "<table border=\"1\" class=\"dataframe\">\n",
       "  <thead>\n",
       "    <tr style=\"text-align: right;\">\n",
       "      <th></th>\n",
       "      <th>paradigm</th>\n",
       "      <th>creator</th>\n",
       "      <th>year</th>\n",
       "      <th>tiobe_idx</th>\n",
       "    </tr>\n",
       "  </thead>\n",
       "  <tbody>\n",
       "    <tr>\n",
       "      <th>count</th>\n",
       "      <td>6</td>\n",
       "      <td>6</td>\n",
       "      <td>6.000000</td>\n",
       "      <td>6.000000</td>\n",
       "    </tr>\n",
       "    <tr>\n",
       "      <th>unique</th>\n",
       "      <td>3</td>\n",
       "      <td>6</td>\n",
       "      <td>NaN</td>\n",
       "      <td>NaN</td>\n",
       "    </tr>\n",
       "    <tr>\n",
       "      <th>top</th>\n",
       "      <td>multi</td>\n",
       "      <td>Guido van Rossum</td>\n",
       "      <td>NaN</td>\n",
       "      <td>NaN</td>\n",
       "    </tr>\n",
       "    <tr>\n",
       "      <th>freq</th>\n",
       "      <td>4</td>\n",
       "      <td>1</td>\n",
       "      <td>NaN</td>\n",
       "      <td>NaN</td>\n",
       "    </tr>\n",
       "    <tr>\n",
       "      <th>mean</th>\n",
       "      <td>NaN</td>\n",
       "      <td>NaN</td>\n",
       "      <td>1982.666667</td>\n",
       "      <td>19.500000</td>\n",
       "    </tr>\n",
       "    <tr>\n",
       "      <th>std</th>\n",
       "      <td>NaN</td>\n",
       "      <td>NaN</td>\n",
       "      <td>14.908610</td>\n",
       "      <td>18.598387</td>\n",
       "    </tr>\n",
       "    <tr>\n",
       "      <th>min</th>\n",
       "      <td>NaN</td>\n",
       "      <td>NaN</td>\n",
       "      <td>1958.000000</td>\n",
       "      <td>1.000000</td>\n",
       "    </tr>\n",
       "    <tr>\n",
       "      <th>25%</th>\n",
       "      <td>NaN</td>\n",
       "      <td>NaN</td>\n",
       "      <td>1975.250000</td>\n",
       "      <td>3.250000</td>\n",
       "    </tr>\n",
       "    <tr>\n",
       "      <th>50%</th>\n",
       "      <td>NaN</td>\n",
       "      <td>NaN</td>\n",
       "      <td>1987.500000</td>\n",
       "      <td>18.500000</td>\n",
       "    </tr>\n",
       "    <tr>\n",
       "      <th>75%</th>\n",
       "      <td>NaN</td>\n",
       "      <td>NaN</td>\n",
       "      <td>1993.750000</td>\n",
       "      <td>35.250000</td>\n",
       "    </tr>\n",
       "    <tr>\n",
       "      <th>max</th>\n",
       "      <td>NaN</td>\n",
       "      <td>NaN</td>\n",
       "      <td>1996.000000</td>\n",
       "      <td>40.000000</td>\n",
       "    </tr>\n",
       "  </tbody>\n",
       "</table>\n",
       "</div>"
      ],
      "text/plain": [
       "       paradigm           creator         year  tiobe_idx\n",
       "count         6                 6     6.000000   6.000000\n",
       "unique        3                 6          NaN        NaN\n",
       "top       multi  Guido van Rossum          NaN        NaN\n",
       "freq          4                 1          NaN        NaN\n",
       "mean        NaN               NaN  1982.666667  19.500000\n",
       "std         NaN               NaN    14.908610  18.598387\n",
       "min         NaN               NaN  1958.000000   1.000000\n",
       "25%         NaN               NaN  1975.250000   3.250000\n",
       "50%         NaN               NaN  1987.500000  18.500000\n",
       "75%         NaN               NaN  1993.750000  35.250000\n",
       "max         NaN               NaN  1996.000000  40.000000"
      ]
     },
     "execution_count": 54,
     "metadata": {},
     "output_type": "execute_result"
    }
   ],
   "source": [
    "# If there are numerical columns then only those columns' statistics are included by default --\n",
    "# the include parameter can be used to produce all:\n",
    "df.describe(include=\"all\")"
   ]
  },
  {
   "cell_type": "markdown",
   "metadata": {},
   "source": [
    "## Cleaning the data"
   ]
  },
  {
   "cell_type": "markdown",
   "metadata": {},
   "source": [
    "### Missing data\n",
    "Many data sets have missing data in certain examples, in Pandas this is typically represented by NaN (\"not a number\") values. One way of dealing with this problem is to simply delete all problematic cases. In Pandas this can be done with the [dropna](https://pandas.pydata.org/pandas-docs/stable/generated/pandas.DataFrame.dropna.html) method of data frames, which, among others, can delete all rows with missing values."
   ]
  },
  {
   "cell_type": "code",
   "execution_count": 55,
   "metadata": {},
   "outputs": [
    {
     "data": {
      "text/html": [
       "<div>\n",
       "<style scoped>\n",
       "    .dataframe tbody tr th:only-of-type {\n",
       "        vertical-align: middle;\n",
       "    }\n",
       "\n",
       "    .dataframe tbody tr th {\n",
       "        vertical-align: top;\n",
       "    }\n",
       "\n",
       "    .dataframe thead th {\n",
       "        text-align: right;\n",
       "    }\n",
       "</style>\n",
       "<table border=\"1\" class=\"dataframe\">\n",
       "  <thead>\n",
       "    <tr style=\"text-align: right;\">\n",
       "      <th></th>\n",
       "      <th>paradigm</th>\n",
       "      <th>creator</th>\n",
       "      <th>year</th>\n",
       "      <th>tiobe_idx</th>\n",
       "    </tr>\n",
       "  </thead>\n",
       "  <tbody>\n",
       "    <tr>\n",
       "      <th>count</th>\n",
       "      <td>6</td>\n",
       "      <td>6</td>\n",
       "      <td>6.000000</td>\n",
       "      <td>6.000000</td>\n",
       "    </tr>\n",
       "    <tr>\n",
       "      <th>unique</th>\n",
       "      <td>3</td>\n",
       "      <td>6</td>\n",
       "      <td>NaN</td>\n",
       "      <td>NaN</td>\n",
       "    </tr>\n",
       "    <tr>\n",
       "      <th>top</th>\n",
       "      <td>multi</td>\n",
       "      <td>Guido van Rossum</td>\n",
       "      <td>NaN</td>\n",
       "      <td>NaN</td>\n",
       "    </tr>\n",
       "    <tr>\n",
       "      <th>freq</th>\n",
       "      <td>4</td>\n",
       "      <td>1</td>\n",
       "      <td>NaN</td>\n",
       "      <td>NaN</td>\n",
       "    </tr>\n",
       "    <tr>\n",
       "      <th>mean</th>\n",
       "      <td>NaN</td>\n",
       "      <td>NaN</td>\n",
       "      <td>1982.666667</td>\n",
       "      <td>19.500000</td>\n",
       "    </tr>\n",
       "    <tr>\n",
       "      <th>std</th>\n",
       "      <td>NaN</td>\n",
       "      <td>NaN</td>\n",
       "      <td>14.908610</td>\n",
       "      <td>18.598387</td>\n",
       "    </tr>\n",
       "    <tr>\n",
       "      <th>min</th>\n",
       "      <td>NaN</td>\n",
       "      <td>NaN</td>\n",
       "      <td>1958.000000</td>\n",
       "      <td>1.000000</td>\n",
       "    </tr>\n",
       "    <tr>\n",
       "      <th>25%</th>\n",
       "      <td>NaN</td>\n",
       "      <td>NaN</td>\n",
       "      <td>1975.250000</td>\n",
       "      <td>3.250000</td>\n",
       "    </tr>\n",
       "    <tr>\n",
       "      <th>50%</th>\n",
       "      <td>NaN</td>\n",
       "      <td>NaN</td>\n",
       "      <td>1987.500000</td>\n",
       "      <td>18.500000</td>\n",
       "    </tr>\n",
       "    <tr>\n",
       "      <th>75%</th>\n",
       "      <td>NaN</td>\n",
       "      <td>NaN</td>\n",
       "      <td>1993.750000</td>\n",
       "      <td>35.250000</td>\n",
       "    </tr>\n",
       "    <tr>\n",
       "      <th>max</th>\n",
       "      <td>NaN</td>\n",
       "      <td>NaN</td>\n",
       "      <td>1996.000000</td>\n",
       "      <td>40.000000</td>\n",
       "    </tr>\n",
       "  </tbody>\n",
       "</table>\n",
       "</div>"
      ],
      "text/plain": [
       "       paradigm           creator         year  tiobe_idx\n",
       "count         6                 6     6.000000   6.000000\n",
       "unique        3                 6          NaN        NaN\n",
       "top       multi  Guido van Rossum          NaN        NaN\n",
       "freq          4                 1          NaN        NaN\n",
       "mean        NaN               NaN  1982.666667  19.500000\n",
       "std         NaN               NaN    14.908610  18.598387\n",
       "min         NaN               NaN  1958.000000   1.000000\n",
       "25%         NaN               NaN  1975.250000   3.250000\n",
       "50%         NaN               NaN  1987.500000  18.500000\n",
       "75%         NaN               NaN  1993.750000  35.250000\n",
       "max         NaN               NaN  1996.000000  40.000000"
      ]
     },
     "execution_count": 55,
     "metadata": {},
     "output_type": "execute_result"
    }
   ],
   "source": [
    "df.describe(include=\"all\")"
   ]
  },
  {
   "cell_type": "code",
   "execution_count": 56,
   "metadata": {},
   "outputs": [
    {
     "data": {
      "text/html": [
       "<div>\n",
       "<style scoped>\n",
       "    .dataframe tbody tr th:only-of-type {\n",
       "        vertical-align: middle;\n",
       "    }\n",
       "\n",
       "    .dataframe tbody tr th {\n",
       "        vertical-align: top;\n",
       "    }\n",
       "\n",
       "    .dataframe thead th {\n",
       "        text-align: right;\n",
       "    }\n",
       "</style>\n",
       "<table border=\"1\" class=\"dataframe\">\n",
       "  <thead>\n",
       "    <tr style=\"text-align: right;\">\n",
       "      <th></th>\n",
       "      <th>paradigm</th>\n",
       "      <th>creator</th>\n",
       "      <th>year</th>\n",
       "      <th>tiobe_idx</th>\n",
       "    </tr>\n",
       "  </thead>\n",
       "  <tbody>\n",
       "    <tr>\n",
       "      <th>count</th>\n",
       "      <td>6</td>\n",
       "      <td>6</td>\n",
       "      <td>6.0</td>\n",
       "      <td>6.0</td>\n",
       "    </tr>\n",
       "  </tbody>\n",
       "</table>\n",
       "</div>"
      ],
      "text/plain": [
       "      paradigm creator  year  tiobe_idx\n",
       "count        6       6   6.0        6.0"
      ]
     },
     "execution_count": 56,
     "metadata": {},
     "output_type": "execute_result"
    }
   ],
   "source": [
    "df.describe(include=\"all\").dropna()"
   ]
  },
  {
   "cell_type": "markdown",
   "metadata": {},
   "source": [
    "Since removing all cases with missing data can distort the data set and introduce bias, methods have been developed to __impute__ missing values, and keep the problematic examples. Trivial approaches include imputing the mean or the median for numerical columns but far more sophisticated approaches exist.\n",
    "\n",
    "**For more detailed methods see [here](https://towardsdatascience.com/how-to-handle-missing-data-8646b18db0d4).**"
   ]
  },
  {
   "cell_type": "markdown",
   "metadata": {},
   "source": [
    "###  Label encoding \n",
    "In certain situations it is important to encode categorical data described by textual labels into numerical values -- this can be useful both for efficiency of representation and for certain learning algorithms.\n",
    "\n",
    "Most frequently the labels will initially be represented by strings in Pandas, so our task is to encode these textual labels into \n",
    "numbers."
   ]
  },
  {
   "cell_type": "code",
   "execution_count": 57,
   "metadata": {},
   "outputs": [
    {
     "data": {
      "text/plain": [
       "multi         4\n",
       "logic         1\n",
       "functional    1\n",
       "Name: paradigm, dtype: int64"
      ]
     },
     "execution_count": 57,
     "metadata": {},
     "output_type": "execute_result"
    }
   ],
   "source": [
    "# We try to encode the 'paradigm' labels\n",
    "df.paradigm.value_counts() # How many different values are in the column"
   ]
  },
  {
   "cell_type": "markdown",
   "metadata": {},
   "source": [
    "Two of the most simple strategies to solve the problem is to\n",
    "+ map the $k$ category values to numbers $0,\\dots,k-1$, or\n",
    "+ use a so-called one-hot (aka dummy) encoding and introduce a separate binary feature/column for each category."
   ]
  },
  {
   "cell_type": "markdown",
   "metadata": {},
   "source": [
    "Pandas ha a dedicated categorical data type for this type of data, so the first strategy can be implemented by\n",
    "converting the column into a category column:"
   ]
  },
  {
   "cell_type": "code",
   "execution_count": 58,
   "metadata": {},
   "outputs": [
    {
     "data": {
      "text/plain": [
       "Python          multi\n",
       "Lisp            multi\n",
       "Cpp             multi\n",
       "Java            multi\n",
       "Haskell    functional\n",
       "Prolog          logic\n",
       "Name: paradigm_cat, dtype: category\n",
       "Categories (3, object): [functional, logic, multi]"
      ]
     },
     "execution_count": 58,
     "metadata": {},
     "output_type": "execute_result"
    }
   ],
   "source": [
    "df.insert(1, \"paradigm_cat\", df.paradigm.astype(\"category\"))\n",
    "df.paradigm_cat"
   ]
  },
  {
   "cell_type": "markdown",
   "metadata": {},
   "source": [
    "Internally, Pandas automatically maintains a list of numeric codes for the categories, and a version of the column which is encoded with these codes is also available:"
   ]
  },
  {
   "cell_type": "code",
   "execution_count": 59,
   "metadata": {},
   "outputs": [
    {
     "data": {
      "text/plain": [
       "Python     2\n",
       "Lisp       2\n",
       "Cpp        2\n",
       "Java       2\n",
       "Haskell    0\n",
       "Prolog     1\n",
       "dtype: int8"
      ]
     },
     "execution_count": 59,
     "metadata": {},
     "output_type": "execute_result"
    }
   ],
   "source": [
    "df.paradigm_cat.cat.codes"
   ]
  },
  {
   "cell_type": "markdown",
   "metadata": {},
   "source": [
    "so we can simply add this as a new column:"
   ]
  },
  {
   "cell_type": "code",
   "execution_count": 60,
   "metadata": {},
   "outputs": [
    {
     "data": {
      "text/html": [
       "<div>\n",
       "<style scoped>\n",
       "    .dataframe tbody tr th:only-of-type {\n",
       "        vertical-align: middle;\n",
       "    }\n",
       "\n",
       "    .dataframe tbody tr th {\n",
       "        vertical-align: top;\n",
       "    }\n",
       "\n",
       "    .dataframe thead th {\n",
       "        text-align: right;\n",
       "    }\n",
       "</style>\n",
       "<table border=\"1\" class=\"dataframe\">\n",
       "  <thead>\n",
       "    <tr style=\"text-align: right;\">\n",
       "      <th></th>\n",
       "      <th>paradigm</th>\n",
       "      <th>paradigm_cat</th>\n",
       "      <th>paradigm_code</th>\n",
       "      <th>creator</th>\n",
       "      <th>year</th>\n",
       "      <th>tiobe_idx</th>\n",
       "    </tr>\n",
       "  </thead>\n",
       "  <tbody>\n",
       "    <tr>\n",
       "      <th>Python</th>\n",
       "      <td>multi</td>\n",
       "      <td>multi</td>\n",
       "      <td>2</td>\n",
       "      <td>Guido van Rossum</td>\n",
       "      <td>1995</td>\n",
       "      <td>3</td>\n",
       "    </tr>\n",
       "    <tr>\n",
       "      <th>Lisp</th>\n",
       "      <td>multi</td>\n",
       "      <td>multi</td>\n",
       "      <td>2</td>\n",
       "      <td>John McCarthy</td>\n",
       "      <td>1958</td>\n",
       "      <td>33</td>\n",
       "    </tr>\n",
       "    <tr>\n",
       "      <th>Cpp</th>\n",
       "      <td>multi</td>\n",
       "      <td>multi</td>\n",
       "      <td>2</td>\n",
       "      <td>Bjarne Stroustrup</td>\n",
       "      <td>1985</td>\n",
       "      <td>4</td>\n",
       "    </tr>\n",
       "    <tr>\n",
       "      <th>Java</th>\n",
       "      <td>multi</td>\n",
       "      <td>multi</td>\n",
       "      <td>2</td>\n",
       "      <td>James Gosling</td>\n",
       "      <td>1996</td>\n",
       "      <td>1</td>\n",
       "    </tr>\n",
       "    <tr>\n",
       "      <th>Haskell</th>\n",
       "      <td>functional</td>\n",
       "      <td>functional</td>\n",
       "      <td>0</td>\n",
       "      <td>Lennart Augustsson</td>\n",
       "      <td>1990</td>\n",
       "      <td>40</td>\n",
       "    </tr>\n",
       "    <tr>\n",
       "      <th>Prolog</th>\n",
       "      <td>logic</td>\n",
       "      <td>logic</td>\n",
       "      <td>1</td>\n",
       "      <td>Alain Colmerauer</td>\n",
       "      <td>1972</td>\n",
       "      <td>36</td>\n",
       "    </tr>\n",
       "  </tbody>\n",
       "</table>\n",
       "</div>"
      ],
      "text/plain": [
       "           paradigm paradigm_cat  paradigm_code             creator  year  \\\n",
       "Python        multi        multi              2    Guido van Rossum  1995   \n",
       "Lisp          multi        multi              2       John McCarthy  1958   \n",
       "Cpp           multi        multi              2   Bjarne Stroustrup  1985   \n",
       "Java          multi        multi              2       James Gosling  1996   \n",
       "Haskell  functional   functional              0  Lennart Augustsson  1990   \n",
       "Prolog        logic        logic              1    Alain Colmerauer  1972   \n",
       "\n",
       "         tiobe_idx  \n",
       "Python           3  \n",
       "Lisp            33  \n",
       "Cpp              4  \n",
       "Java             1  \n",
       "Haskell         40  \n",
       "Prolog          36  "
      ]
     },
     "execution_count": 60,
     "metadata": {},
     "output_type": "execute_result"
    }
   ],
   "source": [
    "df.insert(2, \"paradigm_code\", df.paradigm_cat.cat.codes)\n",
    "df"
   ]
  },
  {
   "cell_type": "markdown",
   "metadata": {},
   "source": [
    "One-hot encoding can be achieved by using the [get_dummies](http://pandas.pydata.org/pandas-docs/stable/generated/pandas.get_dummies.html) method:"
   ]
  },
  {
   "cell_type": "code",
   "execution_count": 61,
   "metadata": {},
   "outputs": [
    {
     "data": {
      "text/html": [
       "<div>\n",
       "<style scoped>\n",
       "    .dataframe tbody tr th:only-of-type {\n",
       "        vertical-align: middle;\n",
       "    }\n",
       "\n",
       "    .dataframe tbody tr th {\n",
       "        vertical-align: top;\n",
       "    }\n",
       "\n",
       "    .dataframe thead th {\n",
       "        text-align: right;\n",
       "    }\n",
       "</style>\n",
       "<table border=\"1\" class=\"dataframe\">\n",
       "  <thead>\n",
       "    <tr style=\"text-align: right;\">\n",
       "      <th></th>\n",
       "      <th>paradigm_functional</th>\n",
       "      <th>paradigm_logic</th>\n",
       "      <th>paradigm_multi</th>\n",
       "    </tr>\n",
       "  </thead>\n",
       "  <tbody>\n",
       "    <tr>\n",
       "      <th>Python</th>\n",
       "      <td>0</td>\n",
       "      <td>0</td>\n",
       "      <td>1</td>\n",
       "    </tr>\n",
       "    <tr>\n",
       "      <th>Lisp</th>\n",
       "      <td>0</td>\n",
       "      <td>0</td>\n",
       "      <td>1</td>\n",
       "    </tr>\n",
       "    <tr>\n",
       "      <th>Cpp</th>\n",
       "      <td>0</td>\n",
       "      <td>0</td>\n",
       "      <td>1</td>\n",
       "    </tr>\n",
       "    <tr>\n",
       "      <th>Java</th>\n",
       "      <td>0</td>\n",
       "      <td>0</td>\n",
       "      <td>1</td>\n",
       "    </tr>\n",
       "    <tr>\n",
       "      <th>Haskell</th>\n",
       "      <td>1</td>\n",
       "      <td>0</td>\n",
       "      <td>0</td>\n",
       "    </tr>\n",
       "    <tr>\n",
       "      <th>Prolog</th>\n",
       "      <td>0</td>\n",
       "      <td>1</td>\n",
       "      <td>0</td>\n",
       "    </tr>\n",
       "  </tbody>\n",
       "</table>\n",
       "</div>"
      ],
      "text/plain": [
       "         paradigm_functional  paradigm_logic  paradigm_multi\n",
       "Python                     0               0               1\n",
       "Lisp                       0               0               1\n",
       "Cpp                        0               0               1\n",
       "Java                       0               0               1\n",
       "Haskell                    1               0               0\n",
       "Prolog                     0               1               0"
      ]
     },
     "execution_count": 61,
     "metadata": {},
     "output_type": "execute_result"
    }
   ],
   "source": [
    "df_one_hot = pd.get_dummies(df.paradigm, prefix=\"paradigm\") # returns a new dataframe \n",
    "df_one_hot"
   ]
  },
  {
   "cell_type": "markdown",
   "metadata": {},
   "source": [
    "Merging this into the original data frame and drop the earlier paradigm columns we get"
   ]
  },
  {
   "cell_type": "code",
   "execution_count": 62,
   "metadata": {},
   "outputs": [
    {
     "data": {
      "text/html": [
       "<div>\n",
       "<style scoped>\n",
       "    .dataframe tbody tr th:only-of-type {\n",
       "        vertical-align: middle;\n",
       "    }\n",
       "\n",
       "    .dataframe tbody tr th {\n",
       "        vertical-align: top;\n",
       "    }\n",
       "\n",
       "    .dataframe thead th {\n",
       "        text-align: right;\n",
       "    }\n",
       "</style>\n",
       "<table border=\"1\" class=\"dataframe\">\n",
       "  <thead>\n",
       "    <tr style=\"text-align: right;\">\n",
       "      <th></th>\n",
       "      <th>creator</th>\n",
       "      <th>year</th>\n",
       "      <th>tiobe_idx</th>\n",
       "      <th>paradigm_functional</th>\n",
       "      <th>paradigm_logic</th>\n",
       "      <th>paradigm_multi</th>\n",
       "    </tr>\n",
       "  </thead>\n",
       "  <tbody>\n",
       "    <tr>\n",
       "      <th>Python</th>\n",
       "      <td>Guido van Rossum</td>\n",
       "      <td>1995</td>\n",
       "      <td>3</td>\n",
       "      <td>0</td>\n",
       "      <td>0</td>\n",
       "      <td>1</td>\n",
       "    </tr>\n",
       "    <tr>\n",
       "      <th>Lisp</th>\n",
       "      <td>John McCarthy</td>\n",
       "      <td>1958</td>\n",
       "      <td>33</td>\n",
       "      <td>0</td>\n",
       "      <td>0</td>\n",
       "      <td>1</td>\n",
       "    </tr>\n",
       "    <tr>\n",
       "      <th>Cpp</th>\n",
       "      <td>Bjarne Stroustrup</td>\n",
       "      <td>1985</td>\n",
       "      <td>4</td>\n",
       "      <td>0</td>\n",
       "      <td>0</td>\n",
       "      <td>1</td>\n",
       "    </tr>\n",
       "    <tr>\n",
       "      <th>Java</th>\n",
       "      <td>James Gosling</td>\n",
       "      <td>1996</td>\n",
       "      <td>1</td>\n",
       "      <td>0</td>\n",
       "      <td>0</td>\n",
       "      <td>1</td>\n",
       "    </tr>\n",
       "    <tr>\n",
       "      <th>Haskell</th>\n",
       "      <td>Lennart Augustsson</td>\n",
       "      <td>1990</td>\n",
       "      <td>40</td>\n",
       "      <td>1</td>\n",
       "      <td>0</td>\n",
       "      <td>0</td>\n",
       "    </tr>\n",
       "    <tr>\n",
       "      <th>Prolog</th>\n",
       "      <td>Alain Colmerauer</td>\n",
       "      <td>1972</td>\n",
       "      <td>36</td>\n",
       "      <td>0</td>\n",
       "      <td>1</td>\n",
       "      <td>0</td>\n",
       "    </tr>\n",
       "  </tbody>\n",
       "</table>\n",
       "</div>"
      ],
      "text/plain": [
       "                    creator  year  tiobe_idx  paradigm_functional  \\\n",
       "Python     Guido van Rossum  1995          3                    0   \n",
       "Lisp          John McCarthy  1958         33                    0   \n",
       "Cpp       Bjarne Stroustrup  1985          4                    0   \n",
       "Java          James Gosling  1996          1                    0   \n",
       "Haskell  Lennart Augustsson  1990         40                    1   \n",
       "Prolog     Alain Colmerauer  1972         36                    0   \n",
       "\n",
       "         paradigm_logic  paradigm_multi  \n",
       "Python                0               1  \n",
       "Lisp                  0               1  \n",
       "Cpp                   0               1  \n",
       "Java                  0               1  \n",
       "Haskell               0               0  \n",
       "Prolog                1               0  "
      ]
     },
     "execution_count": 62,
     "metadata": {},
     "output_type": "execute_result"
    }
   ],
   "source": [
    "df.drop(columns=[\"paradigm\", \"paradigm_cat\", \"paradigm_code\"], inplace=True)\n",
    "df = df.join(df_one_hot)\n",
    "df"
   ]
  },
  {
   "cell_type": "markdown",
   "metadata": {},
   "source": [
    "### Normalization"
   ]
  },
  {
   "cell_type": "markdown",
   "metadata": {
    "collapsed": true
   },
   "source": [
    "For certain models the scale of the input variebles is of paramount importance, so it is generally condsidered a good practice to transform the inputs towards zero mean and unit variance. Simplest approach is to use ScikitLearn's [standard scaler](http://scikit-learn.org/stable/modules/generated/sklearn.preprocessing.StandardScaler.html), but more methods exist. See [here](https://en.wikipedia.org/wiki/Feature_scaling) for details."
   ]
  }
 ],
 "metadata": {
  "kernelspec": {
   "display_name": "Python 3",
   "language": "python",
   "name": "python3"
  },
  "language_info": {
   "codemirror_mode": {
    "name": "ipython",
    "version": 3
   },
   "file_extension": ".py",
   "mimetype": "text/x-python",
   "name": "python",
   "nbconvert_exporter": "python",
   "pygments_lexer": "ipython3",
   "version": "3.6.6"
  },
  "toc": {
   "base_numbering": 1,
   "nav_menu": {},
   "number_sections": true,
   "sideBar": true,
   "skip_h1_title": false,
   "title_cell": "Table of Contents",
   "title_sidebar": "Contents",
   "toc_cell": false,
   "toc_position": {
    "height": "calc(100% - 180px)",
    "left": "10px",
    "top": "150px",
    "width": "244.667px"
   },
   "toc_section_display": true,
   "toc_window_display": true
  },
  "varInspector": {
   "cols": {
    "lenName": 16,
    "lenType": 16,
    "lenVar": 40
   },
   "kernels_config": {
    "python": {
     "delete_cmd_postfix": "",
     "delete_cmd_prefix": "del ",
     "library": "var_list.py",
     "varRefreshCmd": "print(var_dic_list())"
    },
    "r": {
     "delete_cmd_postfix": ") ",
     "delete_cmd_prefix": "rm(",
     "library": "var_list.r",
     "varRefreshCmd": "cat(var_dic_list()) "
    }
   },
   "position": {
    "height": "544px",
    "left": "1549px",
    "right": "7px",
    "top": "103px",
    "width": "362px"
   },
   "types_to_exclude": [
    "module",
    "function",
    "builtin_function_or_method",
    "instance",
    "_Feature"
   ],
   "window_display": false
  }
 },
 "nbformat": 4,
 "nbformat_minor": 2
}
