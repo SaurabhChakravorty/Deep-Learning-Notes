{
 "cells": [
  {
   "cell_type": "markdown",
   "metadata": {},
   "source": [
    "<img src=\"http://geospatialtraining.com/wp-content/uploads/2017/08/Getting-to-know-the-SciPy-stack.jpg\" width=\"400px\">\n",
    "\n",
    "Numpy and Matplotlib are two important components of the [SciPy](http://scipy.org) scientific library stack, from which we have already met Pandas and been using [iPython](http://ipython.org/) (Interactive Python) as well since it's the basis of the Jupyter notebook infrastructure.\n",
    "\n",
    "# NumPy\n",
    "\n",
    "## Constructing arrays\n",
    "\n",
    "[NumPy](www.numpy.org) is a Python library that supports n-dimensional arrays (\"ndarrays\") and provides a large number of mathematical functions to manipulate them. NumPy is used \"under the hood\" by most scientific Python libraries, e.g. Pandas, scikit-learn and Matplotlib."
   ]
  },
  {
   "cell_type": "code",
   "execution_count": 1,
   "metadata": {},
   "outputs": [],
   "source": [
    "import numpy as np # the prefix is \"np\" by convention"
   ]
  },
  {
   "cell_type": "markdown",
   "metadata": {},
   "source": [
    "NumPy ndarrays can be constructed from other array-like objects, e.g., lists, or from scratch by various types of\n",
    "constructor functions:"
   ]
  },
  {
   "cell_type": "code",
   "execution_count": 2,
   "metadata": {},
   "outputs": [
    {
     "name": "stdout",
     "output_type": "stream",
     "text": [
      "<class 'numpy.ndarray'>\n"
     ]
    },
    {
     "data": {
      "text/plain": [
       "array([[1, 2, 3],\n",
       "       [4, 5, 6],\n",
       "       [7, 8, 9]])"
      ]
     },
     "execution_count": 2,
     "metadata": {},
     "output_type": "execute_result"
    }
   ],
   "source": [
    "a = np.array([[1,2,3],[4,5,6],[7,8,9]])\n",
    "\n",
    "print(type(a))\n",
    "\n",
    "a"
   ]
  },
  {
   "cell_type": "code",
   "execution_count": 3,
   "metadata": {},
   "outputs": [
    {
     "data": {
      "text/plain": [
       "array([[1., 1., 1.],\n",
       "       [1., 1., 1.],\n",
       "       [1., 1., 1.]])"
      ]
     },
     "execution_count": 3,
     "metadata": {},
     "output_type": "execute_result"
    }
   ],
   "source": [
    "b = np.ones((3,3))\n",
    "\n",
    "b"
   ]
  },
  {
   "cell_type": "code",
   "execution_count": 4,
   "metadata": {},
   "outputs": [
    {
     "data": {
      "text/plain": [
       "array([[0., 0., 0., 0., 0., 0.],\n",
       "       [0., 0., 0., 0., 0., 0.],\n",
       "       [0., 0., 0., 0., 0., 0.],\n",
       "       [0., 0., 0., 0., 0., 0.],\n",
       "       [0., 0., 0., 0., 0., 0.],\n",
       "       [0., 0., 0., 0., 0., 0.]])"
      ]
     },
     "execution_count": 4,
     "metadata": {},
     "output_type": "execute_result"
    }
   ],
   "source": [
    "c = np.zeros((6,6))\n",
    "\n",
    "c"
   ]
  },
  {
   "cell_type": "markdown",
   "metadata": {},
   "source": [
    "If we would like to get a \"range\", that is an enumerated list of elements, we can use:"
   ]
  },
  {
   "cell_type": "code",
   "execution_count": 38,
   "metadata": {},
   "outputs": [
    {
     "data": {
      "text/plain": [
       "array([0, 1, 2, 3, 4, 5, 6, 7, 8, 9])"
      ]
     },
     "execution_count": 38,
     "metadata": {},
     "output_type": "execute_result"
    }
   ],
   "source": [
    "d = np.arange(10)\n",
    "\n",
    "d"
   ]
  },
  {
   "cell_type": "markdown",
   "metadata": {},
   "source": [
    "We can any time fill in an array with random numbers"
   ]
  },
  {
   "cell_type": "code",
   "execution_count": 35,
   "metadata": {},
   "outputs": [
    {
     "data": {
      "text/plain": [
       "array([-2.04175842, -0.28472292, -1.12523085,  1.03631071,  0.23270352,\n",
       "        1.258442  , -0.99349858,  0.44402181,  0.4572429 , -0.78849411])"
      ]
     },
     "execution_count": 35,
     "metadata": {},
     "output_type": "execute_result"
    }
   ],
   "source": [
    "# random sample from a normal distributions\n",
    "\n",
    "np.random.normal(size=10)"
   ]
  },
  {
   "cell_type": "markdown",
   "metadata": {},
   "source": [
    "## The shape\n",
    "\n",
    "Every NumPy ndarray have two crucial attributes, its **shape**, which is a tuple containing the array's dimensions, and its **dtype**, i.e. data type. The latter is common for all elements of the array, i.e. if the array's dtype is np.float64 then all elements of the array are of this type."
   ]
  },
  {
   "cell_type": "code",
   "execution_count": 5,
   "metadata": {},
   "outputs": [
    {
     "name": "stdout",
     "output_type": "stream",
     "text": [
      "(3, 3)\n",
      "int64\n",
      "float64\n"
     ]
    }
   ],
   "source": [
    "print(a.shape)\n",
    "print(a.dtype)\n",
    "print(b.dtype)"
   ]
  },
  {
   "cell_type": "markdown",
   "metadata": {},
   "source": [
    "**Important**: NumPy distinguishes (one-dimensional) vectors and 2-dimensional matrices with 1 width or height:"
   ]
  },
  {
   "cell_type": "code",
   "execution_count": 6,
   "metadata": {},
   "outputs": [
    {
     "name": "stdout",
     "output_type": "stream",
     "text": [
      "[1 2 3 4 5]\n",
      "(5,)\n",
      "[[1 2 3 4 5]]\n",
      "(1, 5)\n"
     ]
    }
   ],
   "source": [
    "v = np.array([1,2,3,4,5])\n",
    "print(v)\n",
    "print(v.shape)\n",
    "m = np.array([[1,2,3,4,5]])\n",
    "print(m)\n",
    "print(m.shape)"
   ]
  },
  {
   "cell_type": "markdown",
   "metadata": {},
   "source": [
    "**The vector and the matrix with one dimension set to one are _not_ equal!!!**"
   ]
  },
  {
   "cell_type": "markdown",
   "metadata": {},
   "source": [
    "\n",
    "## The types\n",
    "\n",
    "The most importanty NumPy types we will meet are\n",
    "\n",
    "- unsigned integer types: uint8,...,uint64\n",
    "- integer types: int8,..., int64\n",
    "- float types: float8,...,float32,\n",
    "- the boolean type: bool\n",
    "- string types for strings of various length. e.g. <U5 for unicode string shorter than 5 chars.\n",
    "- a general \"object\" type for arrays that can contain any Python object.\n",
    "\n",
    "The dtype of an array can be specified in its constructor:"
   ]
  },
  {
   "cell_type": "code",
   "execution_count": 7,
   "metadata": {},
   "outputs": [
    {
     "data": {
      "text/plain": [
       "dtype('uint8')"
      ]
     },
     "execution_count": 7,
     "metadata": {},
     "output_type": "execute_result"
    }
   ],
   "source": [
    "c = np.array([1,2,3,4], np.uint8)\n",
    "\n",
    "c.dtype"
   ]
  },
  {
   "cell_type": "markdown",
   "metadata": {},
   "source": [
    "If no bit length is specified then a default one is chosen depending on the current system, e.g. for 64bit Linux"
   ]
  },
  {
   "cell_type": "code",
   "execution_count": 8,
   "metadata": {},
   "outputs": [
    {
     "data": {
      "text/plain": [
       "dtype('int64')"
      ]
     },
     "execution_count": 8,
     "metadata": {},
     "output_type": "execute_result"
    }
   ],
   "source": [
    "d = np.array([1,2], np.int)\n",
    "\n",
    "d.dtype"
   ]
  },
  {
   "cell_type": "markdown",
   "metadata": {},
   "source": [
    "if no dtype is specified then NumPy tries to be smart and choose a narrow  dtype that covers all elements, occasionally converting elements:"
   ]
  },
  {
   "cell_type": "code",
   "execution_count": 9,
   "metadata": {},
   "outputs": [
    {
     "name": "stdout",
     "output_type": "stream",
     "text": [
      "int64\n",
      "float64\n",
      "<U2\n",
      "object\n"
     ]
    }
   ],
   "source": [
    "e = np.array([[1,2,3]])\n",
    "print(e.dtype)\n",
    "e = np.array([[1.,2,3]])\n",
    "print(e.dtype)\n",
    "e = np.array([[\"1.\",2,3]])\n",
    "print(e.dtype)\n",
    "e = np.array([[[1],2,3]])\n",
    "print(e.dtype)"
   ]
  },
  {
   "cell_type": "markdown",
   "metadata": {},
   "source": [
    "## Indexing\n",
    "\n",
    "NumPy supports the usual Python indexing and slicing syntax for ndarrays along all dimensions/axes and adds certain extensions."
   ]
  },
  {
   "cell_type": "code",
   "execution_count": 10,
   "metadata": {},
   "outputs": [
    {
     "data": {
      "text/plain": [
       "array([[1, 2, 3],\n",
       "       [4, 5, 6],\n",
       "       [7, 8, 9]])"
      ]
     },
     "execution_count": 10,
     "metadata": {},
     "output_type": "execute_result"
    }
   ],
   "source": [
    "a"
   ]
  },
  {
   "cell_type": "code",
   "execution_count": 11,
   "metadata": {},
   "outputs": [
    {
     "name": "stdout",
     "output_type": "stream",
     "text": [
      "9\n"
     ]
    },
    {
     "data": {
      "text/plain": [
       "array([3, 6, 9])"
      ]
     },
     "execution_count": 11,
     "metadata": {},
     "output_type": "execute_result"
    }
   ],
   "source": [
    "print(a[2,2])\n",
    "a[:,2]"
   ]
  },
  {
   "cell_type": "code",
   "execution_count": 12,
   "metadata": {},
   "outputs": [
    {
     "name": "stdout",
     "output_type": "stream",
     "text": [
      "[[2 3]\n",
      " [5 6]]\n"
     ]
    }
   ],
   "source": [
    "print(a[:2,1:])"
   ]
  },
  {
   "cell_type": "markdown",
   "metadata": {},
   "source": [
    "The three most important extensions:"
   ]
  },
  {
   "cell_type": "code",
   "execution_count": 13,
   "metadata": {},
   "outputs": [
    {
     "data": {
      "text/plain": [
       "array([4, 5, 6])"
      ]
     },
     "execution_count": 13,
     "metadata": {},
     "output_type": "execute_result"
    }
   ],
   "source": [
    "# If only a k<n number of index ranges are given for an n-dimensional array\n",
    "# then the ranges are assumed to apply to the first k axes/dimensions and the whole range\n",
    "# (e.g. \":\") will be used for the remaining axes/dimensions.\n",
    "a[1]"
   ]
  },
  {
   "cell_type": "code",
   "execution_count": 14,
   "metadata": {},
   "outputs": [
    {
     "data": {
      "text/plain": [
       "array([[1, 2, 3],\n",
       "       [4, 5, 6]])"
      ]
     },
     "execution_count": 14,
     "metadata": {},
     "output_type": "execute_result"
    }
   ],
   "source": [
    "a[:-1]"
   ]
  },
  {
   "cell_type": "code",
   "execution_count": 15,
   "metadata": {},
   "outputs": [
    {
     "data": {
      "text/plain": [
       "array([[1, 2, 3],\n",
       "       [7, 8, 9]])"
      ]
     },
     "execution_count": 15,
     "metadata": {},
     "output_type": "execute_result"
    }
   ],
   "source": [
    "# Index vectors/lists can also be used to select elements\n",
    "a[[0,2]]"
   ]
  },
  {
   "cell_type": "code",
   "execution_count": 16,
   "metadata": {},
   "outputs": [
    {
     "data": {
      "text/plain": [
       "[2, 4, 6, 8, 10]"
      ]
     },
     "execution_count": 16,
     "metadata": {},
     "output_type": "execute_result"
    }
   ],
   "source": [
    "# Slices can be given a 'step' parameter after a second colon:\n",
    "v = [0,1,2,3,4,5,6,7,8,9,10]\n",
    "v[2::2]"
   ]
  },
  {
   "cell_type": "markdown",
   "metadata": {},
   "source": [
    "Iteration is always along the first dimension:"
   ]
  },
  {
   "cell_type": "code",
   "execution_count": 17,
   "metadata": {},
   "outputs": [
    {
     "name": "stdout",
     "output_type": "stream",
     "text": [
      "[1 2 3]\n",
      "[4 5 6]\n",
      "[7 8 9]\n"
     ]
    }
   ],
   "source": [
    "for row in a: print(row)"
   ]
  },
  {
   "cell_type": "markdown",
   "metadata": {},
   "source": [
    "If needed, an **iterator** over all items can be accessed via the \"flat\" attribute:"
   ]
  },
  {
   "cell_type": "code",
   "execution_count": 18,
   "metadata": {},
   "outputs": [
    {
     "name": "stdout",
     "output_type": "stream",
     "text": [
      "1\n",
      "2\n",
      "3\n",
      "4\n",
      "5\n",
      "6\n",
      "7\n",
      "8\n",
      "9\n"
     ]
    }
   ],
   "source": [
    "for element in a.flat: print(element)"
   ]
  },
  {
   "cell_type": "markdown",
   "metadata": {},
   "source": [
    "If we would like to get back the real transformed matrix, we have to use `.flatten()`\n",
    "\n",
    "\"...flatten consumes more memory and cpu, as it creates a new array, while flat only creates the iterator object, which is super fast.\""
   ]
  },
  {
   "cell_type": "code",
   "execution_count": 37,
   "metadata": {},
   "outputs": [
    {
     "name": "stdout",
     "output_type": "stream",
     "text": [
      "(9,)\n"
     ]
    }
   ],
   "source": [
    "print(a.flatten().shape)"
   ]
  },
  {
   "cell_type": "markdown",
   "metadata": {},
   "source": [
    "We can also choose elements of the array randomly:"
   ]
  },
  {
   "cell_type": "code",
   "execution_count": 43,
   "metadata": {},
   "outputs": [
    {
     "name": "stdout",
     "output_type": "stream",
     "text": [
      "[2 3 8]\n"
     ]
    }
   ],
   "source": [
    "random_sample = np.random.choice(a.flatten(),3, replace=False)\n",
    "\n",
    "print(random_sample)"
   ]
  },
  {
   "cell_type": "markdown",
   "metadata": {},
   "source": [
    "## Mathematical operations\n",
    "\n",
    "NumPy provides a huge number of mathematical functions (from linear algebra, probability theory, analysis etc.) that operate on ndarrays. A few simple examples:"
   ]
  },
  {
   "cell_type": "code",
   "execution_count": 19,
   "metadata": {},
   "outputs": [
    {
     "name": "stdout",
     "output_type": "stream",
     "text": [
      "[[ 1  4]\n",
      " [ 9 16]]\n"
     ]
    }
   ],
   "source": [
    "m = np.array([[1,2],[3,4]])\n",
    "\n",
    "print(m * m) # element-wise (Hadamard-) product"
   ]
  },
  {
   "cell_type": "code",
   "execution_count": 20,
   "metadata": {},
   "outputs": [
    {
     "name": "stdout",
     "output_type": "stream",
     "text": [
      "[[ 7 10]\n",
      " [15 22]]\n"
     ]
    }
   ],
   "source": [
    "print(np.matmul(m,m)) # matrix multiplication"
   ]
  },
  {
   "cell_type": "code",
   "execution_count": 34,
   "metadata": {},
   "outputs": [
    {
     "name": "stdout",
     "output_type": "stream",
     "text": [
      "[[1 2]\n",
      " [3 4]\n",
      " [5 6]] \n",
      "\n",
      "[[1 3 5]\n",
      " [2 4 6]]\n"
     ]
    }
   ],
   "source": [
    "# Matrix transpose - which will come in handy for later on - is just .T\n",
    "q = np.array([[1,2],[3,4],[5,6]])\n",
    "\n",
    "print(q, \"\\n\")\n",
    "\n",
    "print(q.T)"
   ]
  },
  {
   "cell_type": "markdown",
   "metadata": {},
   "source": [
    "## Further reading\n",
    "\n",
    "+ A simple tutorial is provided by https://docs.scipy.org/doc/numpy/user/quickstart.html\n",
    "+ For a more in-depth introduction (combined with Matplotlib) see http://www.scipy-lectures.org/intro/numpy/numpy.html"
   ]
  },
  {
   "cell_type": "markdown",
   "metadata": {},
   "source": [
    "# Matplotlib\n",
    "\n",
    "[Matplotlib](https://matplotlib.org/) is a widely used Python plotting library which we have already been using via Pandas to plot dataset histograms, scatter diagrams etc. Since Pandas exposes only a small fragment of Matplotlib's functionality, and its plotting capabilities are limited to data held in data frames, there are many situations when a direct use of Matplotlib is unavoidable.\n",
    "\n",
    "Matplotlib has, in fact, two user-facing APIs -- a simple procedural one called Pyplot which is modeled after MATLAB's plotting functionality and a way more sophisticated and versatile object-oriented one. This short introduction concentrates on the the procedural Pyplot API -- for the object-oriented API see the [Matplotlib documentation](https://matplotlib.org/api/pyplot_summary.html#the-object-oriented-api).\n",
    "\n",
    "## Basic concepts\n",
    "\n",
    "Matplotlib is built around a few fundamental concepts:\n",
    "\n",
    "+ a **figure** is an independent container for graphical elements which can be presented in a separate GUI window/area when displayed. All Pyplot graphical elements are contained in figures. Pyplot commands either create figures or change them e.g. by adding elements (plots etc.);\n",
    "+ **axes** are rectangular areas with a corresponding coordinate system in a figure on which graphical elements can be placed;\n",
    "+ an **axis** is one of the axes (sorry...)  of an axes objects: a number-line like object with associated numerical limits;\n",
    "+ **subplots** are sets of axes arranged in a regular grid which can be accessed by their position in the grid;\n",
    "+ finally, **artists** are the graphical elements (lines, texts, images etc.) that can be placed on a figure (typically with the help of axes).\n",
    "\n",
    "<img src=\"https://matplotlib.org/1.5.1/_images/fig_map.png\">\n",
    "\n",
    "(Image source: [matplotlib.org](http://matplotlib.org/1.5.1))\n",
    "\n",
    "The Pyplot workflow in the context of Jupyter notebooks is to create a figure with one or more axes (often implicitly). place graphical elements on it at locations identified with the help of subplots/axes, and, finally, display/render the figure by calling `plt.show()`. During the process pyplot keeps track of the current figure and current axes, which can be queried by the **gcf** and **gca** functions:"
   ]
  },
  {
   "cell_type": "code",
   "execution_count": 22,
   "metadata": {},
   "outputs": [
    {
     "name": "stdout",
     "output_type": "stream",
     "text": [
      "Figure(640x480)\n",
      "AxesSubplot(0.125,0.11;0.775x0.77)\n"
     ]
    },
    {
     "data": {
      "text/plain": [
       "<Figure size 640x480 with 1 Axes>"
      ]
     },
     "metadata": {},
     "output_type": "display_data"
    }
   ],
   "source": [
    "from matplotlib import pyplot as plt # By convention\n",
    "\n",
    "plt.figure() # This creates a figure with the default settings and with associated axes\n",
    "print(plt.gcf())  # Get the current figure object and print its parameters\n",
    "print(plt.gca())  # Get the current axes object and print its parameters\n",
    "plt.show(); # Show the (in essence empty) figure"
   ]
  },
  {
   "cell_type": "markdown",
   "metadata": {},
   "source": [
    "As the above example shows axes, by default, already bring visualized axis objects with themselves, that is, the visualization of their boundaries with numbered ticks. This visualization can be configured in various ways, e.g.:"
   ]
  },
  {
   "cell_type": "code",
   "execution_count": 23,
   "metadata": {},
   "outputs": [
    {
     "data": {
      "image/png": "[encoded data removed]",
      "text/plain": [
       "<Figure size 432x288 with 1 Axes>"
      ]
     },
     "metadata": {},
     "output_type": "display_data"
    }
   ],
   "source": [
    "axes = plt.gca() # This implicitly creates a figure and axes\n",
    "axes.spines[\"top\"].set_color(\"red\") # spines are the displayed boundaries\n",
    "axes.spines[\"right\"].set_color(None)\n",
    "axes.set_xlim((10,20)) # set the horizontal limits\n",
    "axes.xaxis.set_ticks_position(\"both\") # put horizontal ticks to the top as well\n",
    "plt.show();"
   ]
  },
  {
   "cell_type": "markdown",
   "metadata": {},
   "source": [
    "Let's try to use more than one axes regions in a figure."
   ]
  },
  {
   "cell_type": "code",
   "execution_count": 24,
   "metadata": {},
   "outputs": [
    {
     "name": "stdout",
     "output_type": "stream",
     "text": [
      "Axes(0.1,0.1;0.8x0.8)\n",
      "Axes(0,0;0.5x0.5)\n"
     ]
    },
    {
     "data": {
      "image/png": "[encoded data removed]",
      "text/plain": [
       "<Figure size 432x288 with 2 Axes>"
      ]
     },
     "metadata": {},
     "output_type": "display_data"
    }
   ],
   "source": [
    "plt.axes((.1, .1, .8, .8)) # dimensions are given as left, bottom, width, height in figure-relative coordinates\n",
    "                           # and units, (0,0,1,1) would cover the entire figure\n",
    "print(plt.gca())\n",
    "plt.axes((0, 0, 0.5, 0.5))\n",
    "print(plt.gca())\n",
    "plt.show();"
   ]
  },
  {
   "cell_type": "markdown",
   "metadata": {},
   "source": [
    "Using subplots we can easily produce axes arranged in a grid:"
   ]
  },
  {
   "cell_type": "code",
   "execution_count": 25,
   "metadata": {},
   "outputs": [
    {
     "name": "stdout",
     "output_type": "stream",
     "text": [
      "AxesSubplot(0.125,0.536818;0.227941x0.343182)\n",
      "AxesSubplot(0.672059,0.125;0.227941x0.343182)\n",
      "AxesSubplot(0.125,0.125;0.227941x0.343182)\n"
     ]
    },
    {
     "data": {
      "image/png": "[encoded data removed]",
      "text/plain": [
       "<Figure size 432x288 with 3 Axes>"
      ]
     },
     "metadata": {},
     "output_type": "display_data"
    }
   ],
   "source": [
    "plt.subplot(2, 3, 1) # Axes in the 1st position of a 2 row x 3 col. grid and \n",
    "print(plt.gca())\n",
    "plt.subplot(2, 3, 6) # Axes in the 6th position of the same grid \n",
    "print(plt.gca())\n",
    "# If nrows, ncols and plot_number are all < 10 then they can be specified as a single\n",
    "# 3 digit number:\n",
    "plt.subplot(234) # Axes in the 4th position -- positions are numbered by taking the elements\n",
    "                 # of the first row first etc.\n",
    "print(plt.gca())\n",
    "plt.show();"
   ]
  },
  {
   "cell_type": "markdown",
   "metadata": {},
   "source": [
    "As we have seen so far, the procedural API is highly stateful in the sense that it has the notions of \"current figure\", \"current axes\" etc. which are often changed implicitly by Pyplot commands. This is useful for relatively simple plots but can be confusing and difficult to handle programatically in the case of complex figures consisting of a high number of subplots axes etc. In these situations it is useful to create figure(s) and axes explicitly in a more transparent, object-oriented style:"
   ]
  },
  {
   "cell_type": "code",
   "execution_count": 26,
   "metadata": {},
   "outputs": [
    {
     "name": "stdout",
     "output_type": "stream",
     "text": [
      "AxesSubplot(0.125,0.125;0.352273x0.755) AxesSubplot(0.547727,0.125;0.352273x0.755)\n"
     ]
    },
    {
     "data": {
      "image/png": "[encoded data removed]",
      "text/plain": [
       "<Figure size 432x288 with 2 Axes>"
      ]
     },
     "metadata": {},
     "output_type": "display_data"
    }
   ],
   "source": [
    "figure, axes = plt.subplots(1, 2) # 1x2 grid -- returns the figure and created axes explicitly\n",
    "ax1, ax2 = axes\n",
    "print(ax1, ax2)\n",
    "ax1.spines[\"top\"].set_color(\"red\")\n",
    "ax2.spines[\"bottom\"].set_color(\"red\")\n",
    "plt.show()"
   ]
  },
  {
   "cell_type": "markdown",
   "metadata": {},
   "source": [
    "The above \"design pattern\" is usable with a single axes object as well:"
   ]
  },
  {
   "cell_type": "code",
   "execution_count": 27,
   "metadata": {},
   "outputs": [
    {
     "data": {
      "image/png": "[encoded data removed]",
      "text/plain": [
       "<Figure size 432x288 with 1 Axes>"
      ]
     },
     "metadata": {},
     "output_type": "display_data"
    }
   ],
   "source": [
    "figure, ax = plt.subplots() # \"grid\" with a single cell\n",
    "plt.show()"
   ]
  },
  {
   "cell_type": "markdown",
   "metadata": {},
   "source": [
    "## Ready-made plot types\n",
    "\n",
    "Although Matplotlib offers a huge variety of graphical elements (\"artists\") that can be added to a figure (see the [Artist tutorial](https://matplotlib.org/users/artists.html), most daily plotting tasks can be accomplished by utilising  a few ready made plot types. The _data points_ for these plots have to bee specified in the form of one or more __iterables__ that are typically lists, NumPy ndarrays or Pandas dataframe columns. \n",
    "\n",
    "We have already met Matplotlib's scatter. histogram and box plots using Pandas:"
   ]
  },
  {
   "cell_type": "code",
   "execution_count": 28,
   "metadata": {},
   "outputs": [
    {
     "data": {
      "image/png": "[encoded data removed]",
      "text/plain": [
       "<Figure size 864x288 with 3 Axes>"
      ]
     },
     "metadata": {},
     "output_type": "display_data"
    }
   ],
   "source": [
    "xs = np.random.normal(size=100)\n",
    "ys = xs * xs\n",
    "\n",
    "plt.figure(figsize=(12, 4)) # Set figure size\n",
    "\n",
    "plt.subplot(131)\n",
    "plt.boxplot(xs)\n",
    "\n",
    "plt.subplot(132)\n",
    "plt.hist(xs)\n",
    "\n",
    "plt.subplot(133)\n",
    "plt.scatter(xs, ys)\n",
    "\n",
    "plt.show();"
   ]
  },
  {
   "cell_type": "markdown",
   "metadata": {},
   "source": [
    "Notice that the axis limits were automatically set to sensible values. In addition to these, Matplotlib also supports simple \"elementary school type\" line plots:"
   ]
  },
  {
   "cell_type": "code",
   "execution_count": 29,
   "metadata": {},
   "outputs": [
    {
     "data": {
      "image/png": "[encoded data removed]",
      "text/plain": [
       "<Figure size 432x288 with 1 Axes>"
      ]
     },
     "metadata": {},
     "output_type": "display_data"
    }
   ],
   "source": [
    "# Simple \"function plot\"\n",
    "import math\n",
    "\n",
    "xs = np.linspace(start=-2*math.pi, stop=2*math.pi, num=100) # linspace returns \"evenly spaced numbers over a specified interval.\"\n",
    "sin_vals = [math.sin(x) for x in xs]\n",
    "plt.plot(xs, sin_vals)\n",
    "plt.show();"
   ]
  },
  {
   "cell_type": "markdown",
   "metadata": {},
   "source": [
    "Legends, etc. can also be set:"
   ]
  },
  {
   "cell_type": "code",
   "execution_count": 30,
   "metadata": {},
   "outputs": [
    {
     "data": {
      "image/png": "[encoded data removed]",
      "text/plain": [
       "<Figure size 432x288 with 1 Axes>"
      ]
     },
     "metadata": {},
     "output_type": "display_data"
    }
   ],
   "source": [
    "xs = np.linspace(start=-2*math.pi, stop=2*math.pi, num=100) # linspace returns \"evenly spaced numbers over a specified interval.\"\n",
    "sin_vals = [math.sin(x) for x in xs]\n",
    "cos_vals = [math.cos(x) for x in xs]\n",
    "\n",
    "fig, ax = plt.subplots() # We will need the axes\n",
    "\n",
    "plt.plot(xs, sin_vals, label=\"Sine\")\n",
    "plt.plot(xs, cos_vals, label=\"Cosine\")\n",
    "\n",
    "# Move lower spines to the center\n",
    "ax.spines['left'].set_position('center')\n",
    "ax.spines['bottom'].set_position('center')\n",
    "# Eliminate upper and right axes\n",
    "ax.spines['right'].set_color('none')\n",
    "ax.spines['top'].set_color('none')\n",
    "\n",
    "# Print legend and title\n",
    "plt.legend()\n",
    "plt.title(\"Trigonometric functions\") # Add a label to the a axis\n",
    "\n",
    "plt.show();"
   ]
  },
  {
   "cell_type": "markdown",
   "metadata": {},
   "source": [
    "The familiar \"bar\" and \"pie charts\" are also available, e.g."
   ]
  },
  {
   "cell_type": "code",
   "execution_count": 31,
   "metadata": {},
   "outputs": [
    {
     "data": {
      "image/png": "[encoded data removed]",
      "text/plain": [
       "<Figure size 864x432 with 2 Axes>"
      ]
     },
     "metadata": {},
     "output_type": "display_data"
    }
   ],
   "source": [
    "data = [13.27, 10.16, 4.73, 3.78, 68.06] # The numerical values to chart\n",
    "labels = [\"Java\", \"C\", \"C++\", \"Python\", \"other\"]\n",
    "\n",
    "plt.figure(figsize=(12,6)) # Set fig size to have a proper circle\n",
    "\n",
    "plt.subplot(121)\n",
    "plt.pie(data, labels=labels)\n",
    "\n",
    "plt.subplot(122)\n",
    "positions = range(len(data)) # Positions of the bars\n",
    "plt.bar(positions, data)\n",
    "plt.xticks(positions, labels)\n",
    "\n",
    "plt.suptitle(\"Popularity of programming languages\") # Suptitle sets a title for the whole figure\n",
    "\n",
    "plt.show();"
   ]
  },
  {
   "cell_type": "markdown",
   "metadata": {},
   "source": [
    "## Further reading\n",
    "\n",
    "We have only scratched the surface of what Matplotlib can do. Almost every aspect of the plots is configurable, one can display images on axes, add annotations etc, and there is a complete toolkit, [mplot3d](https://matplotlib.org/tutorials/toolkits/mplot3d.html) to support 3d plotting with 3d axes.\n",
    "\n",
    "For more information see\n",
    "\n",
    "+ [Matplotlib chapter of the SciPy Lecture Notes](http://www.scipy-lectures.org/intro/matplotlib/index.html),\n",
    "+ [Matplotlub User's Guide](https://matplotlib.org/users/index.html)."
   ]
  }
 ],
 "metadata": {
  "kernelspec": {
   "display_name": "Python 3",
   "language": "python",
   "name": "python3"
  },
  "language_info": {
   "codemirror_mode": {
    "name": "ipython",
    "version": 3
   },
   "file_extension": ".py",
   "mimetype": "text/x-python",
   "name": "python",
   "nbconvert_exporter": "python",
   "pygments_lexer": "ipython3",
   "version": "3.6.6"
  },
  "toc": {
   "base_numbering": 1,
   "nav_menu": {},
   "number_sections": true,
   "sideBar": true,
   "skip_h1_title": false,
   "title_cell": "Table of Contents",
   "title_sidebar": "Contents",
   "toc_cell": false,
   "toc_position": {
    "height": "calc(100% - 180px)",
    "left": "10px",
    "top": "150px",
    "width": "226.667px"
   },
   "toc_section_display": true,
   "toc_window_display": true
  },
  "varInspector": {
   "cols": {
    "lenName": 16,
    "lenType": 16,
    "lenVar": 40
   },
   "kernels_config": {
    "python": {
     "delete_cmd_postfix": "",
     "delete_cmd_prefix": "del ",
     "library": "var_list.py",
     "varRefreshCmd": "print(var_dic_list())"
    },
    "r": {
     "delete_cmd_postfix": ") ",
     "delete_cmd_prefix": "rm(",
     "library": "var_list.r",
     "varRefreshCmd": "cat(var_dic_list()) "
    }
   },
   "types_to_exclude": [
    "module",
    "function",
    "builtin_function_or_method",
    "instance",
    "_Feature"
   ],
   "window_display": false
  }
 },
 "nbformat": 4,
 "nbformat_minor": 2
}
