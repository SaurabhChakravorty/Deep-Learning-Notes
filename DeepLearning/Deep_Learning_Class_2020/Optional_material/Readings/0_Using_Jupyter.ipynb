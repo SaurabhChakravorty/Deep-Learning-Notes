{
 "cells": [
  {
   "cell_type": "markdown",
   "metadata": {
    "colab_type": "text",
    "id": "HeTaIv98N-8W"
   },
   "source": [
    "# Interactive programming with Jupyter/Colab notebooks\n",
    "\n",
    "## What is a Jupyter notebook?\n",
    "\n",
    "The \"Notebook\" is a ducment, which:\n",
    "\n",
    "- Can contain executable script elements, and rich text, numbers, links, equations, pictures\n",
    "- It's original goal is [reproducible research](https://bitesizebio.com/37187/reproducible-research/) and is inspired by [literate programming](https://en.wikipedia.org/wiki/Literate_programming)\n",
    "- It is ideal for demonstrating data analysis together with it's results\n",
    "- Because of it'S interactivity it is an ideal presentation / communication device\n",
    "- Suitable for exploring data and algorithms\n",
    "- It can be transformed to simple script format without the textual elements (cells)\n",
    "- it is **definitely not suitable** for any kind of production or deployment of models!!!\n",
    "\n",
    "\n",
    "## What is the Jupyter Notebook/Colab App?\n",
    "\n",
    "- Server-client application \n",
    "- Enables the browsing and execution of notebooks through the browser\n",
    "- It has support for multiple backend languages with the help of interactive \"kernels\", such as: Python, R, Julia, Haskell, F#,Ruby, Perl, Javascript (>100 lanugages!)\n",
    "- Can be used locally on a machine as well as remotely via http\n",
    "- Colab is built on Jupyter, with added collaboration tools, using the resources of Google Cloud with (limited) GPU and even TPU resources (see: \"Edit -> Notebook Settings\")\n",
    "\n",
    "## What is Jupyter Lab?\n",
    "\n",
    "A complete integrated development environment (IDE) based on Jupyter with terminal, file browser, etc.\n",
    "\n",
    "## Know more...\n",
    "\n",
    "* https://www.datacamp.com/community/tutorials/tutorial-jupyter-notebook\n",
    "* https://www.dataquest.io/blog/jupyter-notebook-tutorial/\n",
    "* https://github.com/jupyter/jupyter/wiki/A-gallery-of-interesting-Jupyter-Notebooks\n",
    "* https://ipython.readthedocs.io/en/stable/interactive/magics.html\n",
    "* https://www.dataquest.io/blog/jupyter-notebook-tips-tricks-shortcuts/\n"
   ]
  },
  {
   "cell_type": "markdown",
   "metadata": {
    "colab_type": "text",
    "id": "UO-DqGvVyiKc"
   },
   "source": [
    "## Notebook is consisting of text and code cells. This is a cell..."
   ]
  },
  {
   "cell_type": "markdown",
   "metadata": {
    "colab_type": "text",
    "id": "OgrlmU0tjM5K"
   },
   "source": [
    "## Interactivity\n",
    "\n",
    "- The interpreter running in the \"kernel\" executes code cell on instruction immediately, perserving the interpreter state.\n",
    "- We can execute shell commandsby using the `!` sign before the commands eg. `!ls` or `!pip install ...` (more on shell scripting: [here](https://www.shellscript.sh))\n",
    "- \"Magic\" commands are good for changing the settings of the Notebook environment itselfeg. `%matplotlib inline`  (more on magic commands: [here](https://ipython.readthedocs.io/en/stable/interactive/magics.html))\n",
    "\n",
    "## Interpreting code:"
   ]
  },
  {
   "cell_type": "code",
   "execution_count": 1,
   "metadata": {
    "ExecuteTime": {
     "end_time": "2019-04-13T06:50:55.847995Z",
     "start_time": "2019-04-13T06:50:55.843117Z"
    },
    "colab": {
     "base_uri": "https://localhost:8080/",
     "height": 35
    },
    "colab_type": "code",
    "id": "cwdcGMCvypsu",
    "outputId": "f36d1de0-75a2-4cb9-8285-a35a2fe6ed45"
   },
   "outputs": [
    {
     "name": "stdout",
     "output_type": "stream",
     "text": [
      "9\n"
     ]
    }
   ],
   "source": [
    "a=3\n",
    "print(a*a)"
   ]
  },
  {
   "cell_type": "markdown",
   "metadata": {
    "colab_type": "text",
    "id": "QTCAJyqQkf7x"
   },
   "source": [
    "## Some shell commands"
   ]
  },
  {
   "cell_type": "code",
   "execution_count": 2,
   "metadata": {
    "ExecuteTime": {
     "end_time": "2019-04-13T06:50:57.471826Z",
     "start_time": "2019-04-13T06:50:55.853700Z"
    },
    "colab": {
     "base_uri": "https://localhost:8080/",
     "height": 17639
    },
    "colab_type": "code",
    "id": "YZ5tpJFNk3F8",
    "outputId": "3aee540c-1823-440c-c683-27ae26149859"
   },
   "outputs": [
    {
     "name": "stdout",
     "output_type": "stream",
     "text": [
      "Day1-Python_basics-Practice.ipynb\n",
      "Day1-Python_basics-Task_handout.ipynb\n",
      "Day1-Python_basics-Task.ipynb\n",
      "Day1_Using_Jupyter.ipynb\n",
      "Day1_Welcome_To_Colaboratory.ipynb\n",
      "Day2_Numpy_and_Matplotlib-Practice.ipynb\n",
      "Day2-Time_series_wrangling_with_Pandas-Practice.ipynb\n",
      "ls lement!\n",
      "---------\n",
      "absl-py==0.3.0\n",
      "alabaster==0.7.11\n",
      "appdirs==1.4.3\n",
      "asn1crypto==0.24.0\n",
      "astor==0.7.1\n",
      "attrs==18.1.0\n",
      "Automat==0.7.0\n",
      "Babel==2.6.0\n",
      "backcall==0.1.0\n",
      "beautifulsoup4==4.7.1\n",
      "blaze==0.11.3\n",
      "bleach==1.5.0\n",
      "bokeh==0.13.0\n",
      "boto==2.49.0\n",
      "boto3==1.9.4\n",
      "botocore==1.12.4\n",
      "bs4==0.0.1\n",
      "bz2file==0.98\n",
      "certifi==2019.3.9\n",
      "cffi==1.11.5\n",
      "chardet==3.0.4\n",
      "click==6.7\n",
      "cloudpickle==0.5.3\n",
      "colorama==0.3.9\n",
      "constantly==15.1.0\n",
      "cryptography==2.5\n",
      "cryptography-vectors==2.3\n",
      "cycler==0.10.0\n",
      "cymem==2.0.2\n",
      "Cython==0.28.5\n",
      "cytoolz==0.9.0.1\n",
      "dask==0.18.2\n",
      "datashape==0.5.4\n",
      "decorator==4.3.0\n",
      "dill==0.2.9\n",
      "distributed==1.22.1\n",
      "docutils==0.14\n",
      "en-core-web-sm==2.0.0\n",
      "entrypoints==0.2.3\n",
      "enum34==1.1.6\n",
      "Flask==1.0.2\n",
      "Flask-Cors==3.0.6\n",
      "gast==0.2.0\n",
      "gensim==3.6.0\n",
      "gitdb2==2.0.4\n",
      "GitPython==2.1.11\n",
      "grpcio==1.12.1\n",
      "h5py==2.8.0\n",
      "heapdict==1.0.0\n",
      "html5lib==0.9999999\n",
      "hyperlink==18.0.0\n",
      "idna==2.7\n",
      "imageio==2.4.1\n",
      "imagesize==1.1.0\n",
      "incremental==17.5.0\n",
      "ipykernel==4.8.2\n",
      "ipython==6.5.0\n",
      "ipython-genutils==0.2.0\n",
      "ipywidgets==7.4.0\n",
      "itsdangerous==0.24\n",
      "jedi==0.12.1\n",
      "Jinja2==2.10\n",
      "jmespath==0.9.3\n",
      "jsonschema==2.6.0\n",
      "jupyter==1.0.0\n",
      "jupyter-client==5.2.3\n",
      "jupyter-console==5.2.0\n",
      "jupyter-contrib-core==0.3.3\n",
      "jupyter-contrib-nbextensions==0.5.0\n",
      "jupyter-core==4.4.0\n",
      "jupyter-highlight-selected-word==0.2.0\n",
      "jupyter-latex-envs==1.4.4\n",
      "jupyter-nbextensions-configurator==0.4.0\n",
      "Keras==2.2.4\n",
      "Keras-Applications==1.0.6\n",
      "keras-pandas==3.1.0\n",
      "Keras-Preprocessing==1.0.5\n",
      "kiwisolver==1.0.1\n",
      "llvmlite==0.24.0\n",
      "locket==0.2.0\n",
      "lxml==4.2.4\n",
      "m2r==0.2.1\n",
      "Markdown==2.6.11\n",
      "MarkupSafe==1.0\n",
      "matplotlib==2.2.2\n",
      "mistune==0.8.3\n",
      "mkl-fft==1.0.4\n",
      "mkl-random==1.0.1\n",
      "msgpack==0.5.6\n",
      "msgpack-numpy==0.4.3.2\n",
      "multipledispatch==0.5.0\n",
      "murmurhash==1.0.2\n",
      "nbconvert==5.3.1\n",
      "nbdime==1.0.2\n",
      "nbformat==4.4.0\n",
      "networkx==1.11\n",
      "nltk==3.3\n",
      "notebook==5.6.0\n",
      "numba==0.39.0\n",
      "numexpr==2.6.6\n",
      "numpy==1.15.2\n",
      "odo==0.5.1\n",
      "olefile==0.45.1\n",
      "packaging==17.1\n",
      "pandas==0.23.4\n",
      "pandocfilters==1.4.2\n",
      "parso==0.3.1\n",
      "partd==0.3.8\n",
      "patsy==0.5.0\n",
      "pexpect==4.6.0\n",
      "pickleshare==0.7.4\n",
      "Pillow==5.2.0\n",
      "plac==0.9.6\n",
      "preshed==2.0.1\n",
      "progressbar2==3.38.0\n",
      "prometheus-client==0.3.1\n",
      "prompt-toolkit==1.0.15\n",
      "protobuf==3.6.0\n",
      "psutil==5.4.6\n",
      "ptyprocess==0.6.0\n",
      "pyasn1==0.4.4\n",
      "pyasn1-modules==0.2.2\n",
      "pycparser==2.18\n",
      "pydot==1.2.4\n",
      "Pygments==2.2.0\n",
      "PyHamcrest==1.9.0\n",
      "pyOpenSSL==18.0.0\n",
      "pyparsing==2.2.0\n",
      "PySocks==1.6.8\n",
      "python-dateutil==2.7.3\n",
      "python-utils==2.3.0\n",
      "pytz==2018.5\n",
      "PyWavelets==1.0.1\n",
      "PyYAML==3.13\n",
      "pyzmq==17.1.0\n",
      "qtconsole==4.3.1\n",
      "regex==2018.1.10\n",
      "requests==2.20.1\n",
      "s3transfer==0.1.13\n",
      "scikit-image==0.14.1\n",
      "scikit-learn==0.20.0\n",
      "scipy==1.1.0\n",
      "seaborn==0.9.0\n",
      "Send2Trash==1.5.0\n",
      "service-identity==17.0.0\n",
      "simplegeneric==0.8.1\n",
      "six==1.11.0\n",
      "sklearn==0.0\n",
      "sklearn-pandas==1.7.0\n",
      "smart-open==1.6.0\n",
      "smmap2==2.0.4\n",
      "snowballstemmer==1.2.1\n",
      "sortedcontainers==2.0.4\n",
      "soupsieve==1.9\n",
      "spacy==2.0.16\n",
      "Sphinx==1.7.5\n",
      "sphinx-rtd-theme==0.3.1\n",
      "sphinxcontrib-websupport==1.0.1\n",
      "SQLAlchemy==1.2.10\n",
      "statsmodels==0.9.0\n",
      "tables==3.4.4\n",
      "tblib==1.3.2\n",
      "tensorboard==1.11.0\n",
      "tensorboardcolab==0.0.19\n",
      "tensorflow==1.11.0\n",
      "tensorflow-tensorboard==0.4.0\n",
      "tensorlayer==1.10.1\n",
      "termcolor==1.1.0\n",
      "terminado==0.8.1\n",
      "testpath==0.3.1\n",
      "thinc==6.12.1\n",
      "toolz==0.9.0\n",
      "tornado==5.1\n",
      "tqdm==4.31.1\n",
      "traitlets==4.3.2\n",
      "Twisted==18.7.0\n",
      "ujson==1.35\n",
      "urllib3==1.23\n",
      "wcwidth==0.1.7\n",
      "webencodings==0.5.1\n",
      "Werkzeug==0.14.1\n",
      "widgetsnbextension==3.4.0\n",
      "wordcloud==1.5.0\n",
      "wrapt==1.10.11\n",
      "xlrd==1.1.0\n",
      "zict==0.1.3\n",
      "zope.interface==4.5.0\n",
      "\u001b[33mYou are using pip version 18.0, however version 19.0.3 is available.\n",
      "You should consider upgrading via the 'pip install --upgrade pip' command.\u001b[0m\n",
      "Reading package lists... Done\n",
      "E: Could not open lock file /var/lib/apt/lists/lock - open (13: Permission denied)\n",
      "E: Unable to lock directory /var/lib/apt/lists/\n",
      "W: Problem unlinking the file /var/cache/apt/pkgcache.bin - RemoveCaches (13: Permission denied)\n",
      "W: Problem unlinking the file /var/cache/apt/srcpkgcache.bin - RemoveCaches (13: Permission denied)\n",
      "E: Could not open lock file /var/lib/dpkg/lock-frontend - open (13: Permission denied)\n",
      "E: Unable to acquire the dpkg frontend lock (/var/lib/dpkg/lock-frontend), are you root?\n"
     ]
    }
   ],
   "source": [
    "!ls\n",
    "!echo 'ls lement!'\n",
    "!echo '---------'\n",
    "\n",
    "!pip freeze\n",
    "\n",
    "!apt-get update\n",
    "!apt-get install r-base"
   ]
  },
  {
   "cell_type": "markdown",
   "metadata": {
    "colab_type": "text",
    "id": "b2Ij4hqtyzEB"
   },
   "source": [
    "## Magic commands"
   ]
  },
  {
   "cell_type": "code",
   "execution_count": 3,
   "metadata": {
    "ExecuteTime": {
     "end_time": "2019-04-13T06:50:57.494025Z",
     "start_time": "2019-04-13T06:50:57.479972Z"
    },
    "colab": {
     "base_uri": "https://localhost:8080/",
     "height": 163
    },
    "colab_type": "code",
    "id": "CJx1UCJ5y39A",
    "outputId": "8f8c197f-f57f-4fe0-d5ed-43ccd9424b4b"
   },
   "outputs": [
    {
     "data": {
      "application/json": {
       "cell": {
        "!": "OSMagics",
        "HTML": "Other",
        "SVG": "Other",
        "bash": "Other",
        "capture": "ExecutionMagics",
        "debug": "ExecutionMagics",
        "file": "Other",
        "html": "DisplayMagics",
        "javascript": "DisplayMagics",
        "js": "DisplayMagics",
        "latex": "DisplayMagics",
        "markdown": "DisplayMagics",
        "perl": "Other",
        "prun": "ExecutionMagics",
        "pypy": "Other",
        "python": "Other",
        "python2": "Other",
        "python3": "Other",
        "ruby": "Other",
        "script": "ScriptMagics",
        "sh": "Other",
        "svg": "DisplayMagics",
        "sx": "OSMagics",
        "system": "OSMagics",
        "time": "ExecutionMagics",
        "timeit": "ExecutionMagics",
        "writefile": "OSMagics"
       },
       "line": {
        "alias": "OSMagics",
        "alias_magic": "BasicMagics",
        "autocall": "AutoMagics",
        "automagic": "AutoMagics",
        "autosave": "KernelMagics",
        "bookmark": "OSMagics",
        "cat": "Other",
        "cd": "OSMagics",
        "clear": "KernelMagics",
        "colors": "BasicMagics",
        "config": "ConfigMagics",
        "connect_info": "KernelMagics",
        "cp": "Other",
        "debug": "ExecutionMagics",
        "dhist": "OSMagics",
        "dirs": "OSMagics",
        "doctest_mode": "BasicMagics",
        "ed": "Other",
        "edit": "KernelMagics",
        "env": "OSMagics",
        "gui": "BasicMagics",
        "hist": "Other",
        "history": "HistoryMagics",
        "killbgscripts": "ScriptMagics",
        "ldir": "Other",
        "less": "KernelMagics",
        "lf": "Other",
        "lk": "Other",
        "ll": "Other",
        "load": "CodeMagics",
        "load_ext": "ExtensionMagics",
        "loadpy": "CodeMagics",
        "logoff": "LoggingMagics",
        "logon": "LoggingMagics",
        "logstart": "LoggingMagics",
        "logstate": "LoggingMagics",
        "logstop": "LoggingMagics",
        "ls": "Other",
        "lsmagic": "BasicMagics",
        "lx": "Other",
        "macro": "ExecutionMagics",
        "magic": "BasicMagics",
        "man": "KernelMagics",
        "matplotlib": "PylabMagics",
        "mkdir": "Other",
        "more": "KernelMagics",
        "mv": "Other",
        "notebook": "BasicMagics",
        "page": "BasicMagics",
        "pastebin": "CodeMagics",
        "pdb": "ExecutionMagics",
        "pdef": "NamespaceMagics",
        "pdoc": "NamespaceMagics",
        "pfile": "NamespaceMagics",
        "pinfo": "NamespaceMagics",
        "pinfo2": "NamespaceMagics",
        "pip": "BasicMagics",
        "popd": "OSMagics",
        "pprint": "BasicMagics",
        "precision": "BasicMagics",
        "profile": "BasicMagics",
        "prun": "ExecutionMagics",
        "psearch": "NamespaceMagics",
        "psource": "NamespaceMagics",
        "pushd": "OSMagics",
        "pwd": "OSMagics",
        "pycat": "OSMagics",
        "pylab": "PylabMagics",
        "qtconsole": "KernelMagics",
        "quickref": "BasicMagics",
        "recall": "HistoryMagics",
        "rehashx": "OSMagics",
        "reload_ext": "ExtensionMagics",
        "rep": "Other",
        "rerun": "HistoryMagics",
        "reset": "NamespaceMagics",
        "reset_selective": "NamespaceMagics",
        "rm": "Other",
        "rmdir": "Other",
        "run": "ExecutionMagics",
        "save": "CodeMagics",
        "sc": "OSMagics",
        "set_env": "OSMagics",
        "store": "StoreMagics",
        "sx": "OSMagics",
        "system": "OSMagics",
        "tb": "ExecutionMagics",
        "time": "ExecutionMagics",
        "timeit": "ExecutionMagics",
        "unalias": "OSMagics",
        "unload_ext": "ExtensionMagics",
        "who": "NamespaceMagics",
        "who_ls": "NamespaceMagics",
        "whos": "NamespaceMagics",
        "xdel": "NamespaceMagics",
        "xmode": "BasicMagics"
       }
      },
      "text/plain": [
       "Available line magics:\n",
       "%alias  %alias_magic  %autocall  %automagic  %autosave  %bookmark  %cat  %cd  %clear  %colors  %config  %connect_info  %cp  %debug  %dhist  %dirs  %doctest_mode  %ed  %edit  %env  %gui  %hist  %history  %killbgscripts  %ldir  %less  %lf  %lk  %ll  %load  %load_ext  %loadpy  %logoff  %logon  %logstart  %logstate  %logstop  %ls  %lsmagic  %lx  %macro  %magic  %man  %matplotlib  %mkdir  %more  %mv  %notebook  %page  %pastebin  %pdb  %pdef  %pdoc  %pfile  %pinfo  %pinfo2  %popd  %pprint  %precision  %profile  %prun  %psearch  %psource  %pushd  %pwd  %pycat  %pylab  %qtconsole  %quickref  %recall  %rehashx  %reload_ext  %rep  %rerun  %reset  %reset_selective  %rm  %rmdir  %run  %save  %sc  %set_env  %store  %sx  %system  %tb  %time  %timeit  %unalias  %unload_ext  %who  %who_ls  %whos  %xdel  %xmode\n",
       "\n",
       "Available cell magics:\n",
       "%%!  %%HTML  %%SVG  %%bash  %%capture  %%debug  %%file  %%html  %%javascript  %%js  %%latex  %%markdown  %%perl  %%prun  %%pypy  %%python  %%python2  %%python3  %%ruby  %%script  %%sh  %%svg  %%sx  %%system  %%time  %%timeit  %%writefile\n",
       "\n",
       "Automagic is ON, % prefix IS NOT needed for line magics."
      ]
     },
     "execution_count": 3,
     "metadata": {},
     "output_type": "execute_result"
    }
   ],
   "source": [
    "%lsmagic"
   ]
  },
  {
   "cell_type": "code",
   "execution_count": 4,
   "metadata": {
    "ExecuteTime": {
     "end_time": "2019-04-13T06:50:57.503228Z",
     "start_time": "2019-04-13T06:50:57.495973Z"
    },
    "colab": {
     "base_uri": "https://localhost:8080/",
     "height": 35
    },
    "colab_type": "code",
    "id": "KLYN_X2q0m25",
    "outputId": "b4b1866c-e0af-418f-c3c2-c2f5d0e9f8ab"
   },
   "outputs": [
    {
     "name": "stdout",
     "output_type": "stream",
     "text": [
      "a\t \n"
     ]
    }
   ],
   "source": [
    "%who"
   ]
  },
  {
   "cell_type": "code",
   "execution_count": 5,
   "metadata": {
    "ExecuteTime": {
     "end_time": "2019-04-13T06:51:17.904364Z",
     "start_time": "2019-04-13T06:50:57.505245Z"
    },
    "colab": {
     "base_uri": "https://localhost:8080/",
     "height": 125
    },
    "colab_type": "code",
    "id": "XQGMUox91Ac5",
    "outputId": "ed66d6ab-78c8-4725-bcca-5668740eada0"
   },
   "outputs": [
    {
     "name": "stdout",
     "output_type": "stream",
     "text": [
      "CPU times: user 49.8 ms, sys: 75.1 ms, total: 125 ms\n",
      "Wall time: 15.9 ms\n",
      "CPU times: user 3.02 ms, sys: 10.5 ms, total: 13.6 ms\n",
      "Wall time: 1.94 ms\n",
      "7.99 ms ± 414 µs per loop (mean ± std. dev. of 7 runs, 100 loops each)\n",
      "1.75 ms ± 286 µs per loop (mean ± std. dev. of 7 runs, 1000 loops each)\n"
     ]
    }
   ],
   "source": [
    "#Original code: https://towardsdatascience.com/the-top-5-magic-commands-for-jupyter-notebooks-2bf0c5ae4bb8\n",
    "\n",
    "import numpy as np\n",
    "\n",
    "# Generate one million random draws.\n",
    "def one_million_dice():\n",
    "    return np.random.randint(low=1, high=7, size=1000000)\n",
    "\n",
    "# Measure time line by line\n",
    "%time throws = one_million_dice()\n",
    "%time mean = np.mean(throws)\n",
    "\n",
    "\n",
    "# Measure the average time of multiple executions with timeit magic command\n",
    "%timeit throws = one_million_dice()\n",
    "%timeit mean = np.mean(throws)\n"
   ]
  },
  {
   "cell_type": "code",
   "execution_count": 7,
   "metadata": {
    "ExecuteTime": {
     "end_time": "2019-04-13T06:51:48.700406Z",
     "start_time": "2019-04-13T06:51:48.675787Z"
    },
    "colab": {
     "base_uri": "https://localhost:8080/",
     "height": 53
    },
    "colab_type": "code",
    "id": "mQvp3tZ03I9L",
    "outputId": "c3bbcac3-315e-4139-dc68-dc7694b31599"
   },
   "outputs": [
    {
     "name": "stdout",
     "output_type": "stream",
     "text": [
      "CPU times: user 2 µs, sys: 0 ns, total: 2 µs\n",
      "Wall time: 5.48 µs\n"
     ]
    }
   ],
   "source": [
    "# We can measure for the whole cell:\n",
    "%time\n",
    "throws = one_million_dice()\n",
    "mean = np.mean(throws)"
   ]
  },
  {
   "cell_type": "markdown",
   "metadata": {
    "colab_type": "text",
    "id": "vTqv5rVM3nyb"
   },
   "source": [
    "## Help in need:"
   ]
  },
  {
   "cell_type": "code",
   "execution_count": 8,
   "metadata": {
    "ExecuteTime": {
     "end_time": "2019-04-13T06:51:51.672379Z",
     "start_time": "2019-04-13T06:51:51.648864Z"
    },
    "colab": {},
    "colab_type": "code",
    "id": "0V-3ueZOzSxJ"
   },
   "outputs": [],
   "source": [
    "?%timeit"
   ]
  },
  {
   "cell_type": "code",
   "execution_count": 9,
   "metadata": {
    "ExecuteTime": {
     "end_time": "2019-04-13T06:51:57.214488Z",
     "start_time": "2019-04-13T06:51:57.207174Z"
    },
    "colab": {},
    "colab_type": "code",
    "id": "9O3o2O1R4DDQ"
   },
   "outputs": [],
   "source": [
    "? str.replace()"
   ]
  },
  {
   "cell_type": "code",
   "execution_count": 10,
   "metadata": {
    "ExecuteTime": {
     "end_time": "2019-04-13T06:52:01.775949Z",
     "start_time": "2019-04-13T06:52:01.771463Z"
    },
    "colab": {},
    "colab_type": "code",
    "id": "mTP-F0c03u4i"
   },
   "outputs": [],
   "source": [
    "%quickref"
   ]
  },
  {
   "cell_type": "markdown",
   "metadata": {
    "ExecuteTime": {
     "end_time": "2019-04-13T06:42:31.178341Z",
     "start_time": "2019-04-13T06:42:31.165802Z"
    }
   },
   "source": [
    "There _is_ a difference between `%cd` and `!cd`!\n"
   ]
  },
  {
   "cell_type": "code",
   "execution_count": 11,
   "metadata": {
    "ExecuteTime": {
     "end_time": "2019-04-13T06:52:07.872632Z",
     "start_time": "2019-04-13T06:52:07.519491Z"
    },
    "colab": {
     "base_uri": "https://localhost:8080/",
     "height": 53
    },
    "colab_type": "code",
    "id": "xR97FRSXEnj9",
    "outputId": "8aa16cc0-0228-48bc-9236-b925847a4d41"
   },
   "outputs": [
    {
     "name": "stdout",
     "output_type": "stream",
     "text": [
      "/home/alatus/code/10_day_AI_materials/10_day_AI_training/Optional_material\n",
      "/home/alatus/code/10_day_AI_materials/10_day_AI_training/Optional_material\n"
     ]
    }
   ],
   "source": [
    "\n",
    "!pwd\n",
    "!cd ..\n",
    "!pwd"
   ]
  },
  {
   "cell_type": "code",
   "execution_count": 12,
   "metadata": {
    "ExecuteTime": {
     "end_time": "2019-04-13T06:52:11.824222Z",
     "start_time": "2019-04-13T06:52:11.579401Z"
    },
    "colab": {
     "base_uri": "https://localhost:8080/",
     "height": 89
    },
    "colab_type": "code",
    "id": "hsw5yRbuE39j",
    "outputId": "16ec29d3-db44-4fdd-e841-529def7d6759"
   },
   "outputs": [
    {
     "name": "stdout",
     "output_type": "stream",
     "text": [
      "/home/alatus/code/10_day_AI_materials/10_day_AI_training/Optional_material\n",
      "/home/alatus/code/10_day_AI_materials/10_day_AI_training\n",
      "/home/alatus/code/10_day_AI_materials/10_day_AI_training\n",
      "[Errno 2] No such file or directory: 'content'\n",
      "/home/alatus/code/10_day_AI_materials/10_day_AI_training\n"
     ]
    }
   ],
   "source": [
    "!pwd\n",
    "%cd ..\n",
    "!pwd\n",
    "%cd content"
   ]
  },
  {
   "cell_type": "markdown",
   "metadata": {
    "colab_type": "text",
    "id": "pA2j93x2yrti"
   },
   "source": [
    "# Text cells\n",
    "\n",
    "- We can use simple formatting with Markdown\n",
    "- We can insert `html` codes directly\n",
    "- LaTex can also be used\n",
    "\n",
    "## Some examples:\n",
    "\n",
    "\n",
    "\n",
    "\n",
    "### latex\n",
    "\n",
    "\\begin{align}\n",
    "\\nabla \\cdot \\vec{\\mathbf{E}} & = 4 \\pi \\rho \\\\\n",
    "\\nabla \\times \\vec{\\mathbf{E}}\\, +\\, \\frac1c\\, \\frac{\\partial\\vec{\\mathbf{B}}}{\\partial t} & = \\vec{\\mathbf{0}} \\\\\n",
    "\\nabla \\cdot \\vec{\\mathbf{B}} & = 0\n",
    "\\end{align}\n",
    "\n",
    "### Formatted table\n",
    "\n",
    ">First column | Second column\n",
    ">--- | ---\n",
    ">1. Row 1. Column | 1. Row, 2. Column\n",
    ">2. Row, 1. Column| 2. Row, 2. Column\n",
    "\n",
    "## Horizontal separation\n",
    "\n",
    "We need 3: (\\-\\-\\-):\n",
    "\n",
    "---\n",
    "\n"
   ]
  },
  {
   "cell_type": "markdown",
   "metadata": {
    "colab_type": "text",
    "id": "HhyXadqL4mEg"
   },
   "source": [
    "# Inserting pictures"
   ]
  },
  {
   "cell_type": "markdown",
   "metadata": {
    "colab_type": "text",
    "id": "rM8E63llZnXM"
   },
   "source": [
    "![Kurt logo](https://kurtakademia.hu/img/logo.svg)\n",
    "\n",
    "---\n",
    "We can insert locally in Colab from Google Drive, but is non-trivial:\n",
    "\n",
    "https://stackoverflow.com/questions/15557392/how-do-i-display-images-from-google-drive-on-a-website\n",
    "\n",
    "eg.\n",
    "\n",
    "<img src=\"https://drive.google.com/uc?export=view&id=1Yw1NECPVDmrO2a3JoPwJVvnsNU8BU1Ul\">\n",
    "\n",
    "\n"
   ]
  },
  {
   "cell_type": "markdown",
   "metadata": {
    "colab_type": "text",
    "id": "b7jxpvyV4fQ1"
   },
   "source": [
    "# Inserting HTML"
   ]
  },
  {
   "cell_type": "code",
   "execution_count": 13,
   "metadata": {
    "ExecuteTime": {
     "end_time": "2019-04-13T06:52:18.212928Z",
     "start_time": "2019-04-13T06:52:18.201907Z"
    },
    "colab": {
     "base_uri": "https://localhost:8080/",
     "height": 222
    },
    "colab_type": "code",
    "id": "zWkG9FpN2xjm",
    "outputId": "4e1eb0f5-69eb-4142-8360-6db4e646da49"
   },
   "outputs": [
    {
     "data": {
      "text/html": [
       "<svg xmlns=\"http://www.w3.org/2000/svg\" viewBox=\"0 0 450 400\" width=\"200\" height=\"200\">\n",
       "  <rect x=\"80\" y=\"60\" width=\"250\" height=\"250\" rx=\"20\" style=\"fill:red; stroke:black; fill-opacity:0.7\" />\n",
       "  <rect x=\"180\" y=\"110\" width=\"250\" height=\"250\" rx=\"40\" style=\"fill:blue; stroke:black; fill-opacity:0.5;\" />\n",
       "</svg>\n",
       "\n",
       "<marquee style='width: 30%; color: blue;'><b>Whee!</b></marquee>"
      ],
      "text/plain": [
       "<IPython.core.display.HTML object>"
      ]
     },
     "metadata": {},
     "output_type": "display_data"
    }
   ],
   "source": [
    "%%html\n",
    "<svg xmlns=\"http://www.w3.org/2000/svg\" viewBox=\"0 0 450 400\" width=\"200\" height=\"200\">\n",
    "  <rect x=\"80\" y=\"60\" width=\"250\" height=\"250\" rx=\"20\" style=\"fill:red; stroke:black; fill-opacity:0.7\" />\n",
    "  <rect x=\"180\" y=\"110\" width=\"250\" height=\"250\" rx=\"40\" style=\"fill:blue; stroke:black; fill-opacity:0.5;\" />\n",
    "</svg>\n",
    "\n",
    "<marquee style='width: 30%; color: blue;'><b>Whee!</b></marquee>"
   ]
  },
  {
   "cell_type": "markdown",
   "metadata": {
    "colab_type": "text",
    "id": "yMqymRMwfmgT"
   },
   "source": [
    "# Plotting with Matplotlib\n",
    "\n",
    "Tips and tricks [here](https://matplotlib.org/tutorials/index.html)."
   ]
  },
  {
   "cell_type": "code",
   "execution_count": 14,
   "metadata": {
    "ExecuteTime": {
     "end_time": "2019-04-13T06:52:22.712323Z",
     "start_time": "2019-04-13T06:52:22.232186Z"
    },
    "colab": {
     "base_uri": "https://localhost:8080/",
     "height": 294
    },
    "colab_type": "code",
    "id": "WYNf9eJIdSaf",
    "outputId": "2bc77425-6bf5-4a7e-d323-0946a6dee44a"
   },
   "outputs": [
    {
     "data": {
      "image/png": "[encoded data removed]",
      "text/plain": [
       "<Figure size 432x288 with 2 Axes>"
      ]
     },
     "metadata": {},
     "output_type": "display_data"
    }
   ],
   "source": [
    "%matplotlib inline\n",
    "import numpy as np\n",
    "import matplotlib.pyplot as plt\n",
    "\n",
    "\n",
    "x1 = np.linspace(0.0, 5.0)\n",
    "x2 = np.linspace(0.0, 2.0)\n",
    "\n",
    "y1 = np.cos(2 * np.pi * x1) * np.exp(-x1)\n",
    "y2 = np.cos(2 * np.pi * x2)\n",
    "\n",
    "plt.subplot(2, 1, 1)\n",
    "plt.plot(x1, y1, 'o-')\n",
    "plt.title('Two subplots')\n",
    "plt.ylabel('Dampened oscillation')\n",
    "\n",
    "plt.subplot(2, 1, 2)\n",
    "plt.plot(x2, y2, '.-')\n",
    "plt.xlabel('Time (s)')\n",
    "plt.ylabel('Non-damped')\n",
    "\n",
    "plt.show()\n",
    "\n"
   ]
  },
  {
   "cell_type": "markdown",
   "metadata": {
    "colab_type": "text",
    "id": "YoTbk-fFIPml"
   },
   "source": []
  },
  {
   "cell_type": "code",
   "execution_count": 15,
   "metadata": {
    "ExecuteTime": {
     "end_time": "2019-04-13T06:52:26.932968Z",
     "start_time": "2019-04-13T06:52:26.828688Z"
    },
    "colab": {
     "base_uri": "https://localhost:8080/",
     "height": 248
    },
    "colab_type": "code",
    "id": "tM_WaN8egHrU",
    "outputId": "8876712c-3c28-46ae-e923-59d6dff18d4c"
   },
   "outputs": [
    {
     "data": {
      "image/png": "[encoded data removed]",
      "text/plain": [
       "<Figure size 432x288 with 1 Axes>"
      ]
     },
     "metadata": {},
     "output_type": "display_data"
    }
   ],
   "source": [
    "# Pie chart, where the slices will be ordered and plotted counter-clockwise:\n",
    "labels = 'Frogs', 'Hogs', 'Dogs', 'Logs'\n",
    "sizes = [15, 30, 45, 10]\n",
    "explode = (0, 0.1, 0, 0)  # only \"explode\" the 2nd slice (i.e. 'Hogs')\n",
    "\n",
    "fig1, ax1 = plt.subplots()\n",
    "ax1.pie(sizes, explode=explode, labels=labels, autopct='%1.1f%%',\n",
    "        shadow=True, startangle=90)\n",
    "ax1.axis('equal')  # Equal aspect ratio ensures that pie is drawn as a circle.\n",
    "\n",
    "plt.show()"
   ]
  },
  {
   "cell_type": "markdown",
   "metadata": {
    "colab_type": "text",
    "id": "HdpEdNOuIQ9c"
   },
   "source": [
    "# Interactive Visualization\n",
    "\n",
    "## Some useful links:\n",
    "\n",
    "* https://www.blog.pythonlibrary.org/2018/10/24/working-with-jupyter-notebook-widgets/\n",
    "* https://nbviewer.jupyter.org/github/ipython/ipython/blob/2.x/examples/Notebook/Display%20System.ipynb#LaTeX\n",
    "* https://ipywidgets.readthedocs.io/en/stable/examples/Lorenz%20Differential%20Equations.html"
   ]
  },
  {
   "cell_type": "code",
   "execution_count": 16,
   "metadata": {
    "ExecuteTime": {
     "end_time": "2019-04-13T06:52:29.715946Z",
     "start_time": "2019-04-13T06:52:29.700764Z"
    },
    "colab": {
     "base_uri": "https://localhost:8080/",
     "height": 76
    },
    "colab_type": "code",
    "id": "a-sOXD-uF55m",
    "outputId": "183d662d-5249-46e0-c670-eb27983b3dad"
   },
   "outputs": [
    {
     "data": {
      "text/html": [
       "\n",
       "                <audio controls=\"controls\" >\n",
       "                    <source src=\"http://www.nch.com.au/acm/8k16bitpcm.wav\" type=\"audio/x-wav\" />\n",
       "                    Your browser does not support the audio element.\n",
       "                </audio>\n",
       "              "
      ],
      "text/plain": [
       "<IPython.lib.display.Audio object>"
      ]
     },
     "execution_count": 16,
     "metadata": {},
     "output_type": "execute_result"
    }
   ],
   "source": [
    "from IPython.display import Audio\n",
    "Audio(url=\"http://www.nch.com.au/acm/8k16bitpcm.wav\")"
   ]
  },
  {
   "cell_type": "markdown",
   "metadata": {
    "colab_type": "text",
    "id": "yauAY5yzG_sa"
   },
   "source": [
    "## Lorenz-attractor demo\n",
    "\n",
    "\\begin{split}\\begin{aligned}\n",
    "\\dot{x} & = \\sigma(y-x) \\\\\n",
    "\\dot{y} & = \\rho x - y - xz \\\\\n",
    "\\dot{z} & = -\\beta z + xy\n",
    "\\end{aligned}\\end{split}"
   ]
  },
  {
   "cell_type": "code",
   "execution_count": 17,
   "metadata": {
    "ExecuteTime": {
     "end_time": "2019-04-13T06:52:33.104234Z",
     "start_time": "2019-04-13T06:52:32.286486Z"
    },
    "colab": {},
    "colab_type": "code",
    "id": "HPQMB_bgHTs8"
   },
   "outputs": [],
   "source": [
    "from ipywidgets import interact, interactive\n",
    "from IPython.display import clear_output, display, HTML\n",
    "\n",
    "import numpy as np\n",
    "from scipy import integrate\n",
    "\n",
    "from matplotlib import pyplot as plt\n",
    "from mpl_toolkits.mplot3d import Axes3D\n",
    "from matplotlib.colors import cnames\n",
    "from matplotlib import animation\n",
    "\n",
    "def solve_lorenz(N=10, angle=0.0, max_time=4.0, sigma=10.0, beta=8./3, rho=28.0):\n",
    "\n",
    "    fig = plt.figure()\n",
    "    ax = fig.add_axes([0, 0, 1, 1], projection='3d')\n",
    "    ax.axis('off')\n",
    "\n",
    "    # prepare the axes limits\n",
    "    ax.set_xlim((-25, 25))\n",
    "    ax.set_ylim((-35, 35))\n",
    "    ax.set_zlim((5, 55))\n",
    "\n",
    "    def lorenz_deriv(x_y_z, t0, sigma=sigma, beta=beta, rho=rho):\n",
    "        \"\"\"Compute the time-derivative of a Lorenz system.\"\"\"\n",
    "        x, y, z = x_y_z\n",
    "        return [sigma * (y - x), x * (rho - z) - y, x * y - beta * z]\n",
    "\n",
    "    # Choose random starting points, uniformly distributed from -15 to 15\n",
    "    np.random.seed(1)\n",
    "    x0 = -15 + 30 * np.random.random((N, 3))\n",
    "\n",
    "    # Solve for the trajectories\n",
    "    t = np.linspace(0, max_time, int(250*max_time))\n",
    "    x_t = np.asarray([integrate.odeint(lorenz_deriv, x0i, t)\n",
    "                      for x0i in x0])\n",
    "\n",
    "    # choose a different color for each trajectory\n",
    "    colors = plt.cm.viridis(np.linspace(0, 1, N))\n",
    "\n",
    "    for i in range(N):\n",
    "        x, y, z = x_t[i,:,:].T\n",
    "        lines = ax.plot(x, y, z, '-', c=colors[i])\n",
    "        plt.setp(lines, linewidth=2)\n",
    "\n",
    "    ax.view_init(30, angle)\n",
    "    plt.show()\n",
    "\n",
    "    return t, x_t\n"
   ]
  },
  {
   "cell_type": "code",
   "execution_count": 18,
   "metadata": {
    "ExecuteTime": {
     "end_time": "2019-04-13T06:52:37.472934Z",
     "start_time": "2019-04-13T06:52:37.230421Z"
    },
    "colab": {
     "base_uri": "https://localhost:8080/",
     "height": 427
    },
    "colab_type": "code",
    "id": "XpwJb8BcHnUg",
    "outputId": "a4d244f9-5616-496d-dcf2-fa3e5f967d9e"
   },
   "outputs": [
    {
     "data": {
      "application/vnd.jupyter.widget-view+json": {
       "model_id": "b5228315b76a4b80b22fe837ec7cb19b",
       "version_major": 2,
       "version_minor": 0
      },
      "text/plain": [
       "interactive(children=(IntSlider(value=10, description='N', max=50), FloatSlider(value=0.0, description='angle'…"
      ]
     },
     "metadata": {},
     "output_type": "display_data"
    }
   ],
   "source": [
    "  \n",
    "  w = interactive(solve_lorenz, angle=(0.,360.), max_time=(0.1, 4.0),\n",
    "                N=(0,50), sigma=(0.0,50.0), rho=(0.0,50.0))\n",
    "display(w)"
   ]
  },
  {
   "cell_type": "markdown",
   "metadata": {
    "colab_type": "text",
    "id": "FvGhHi4pJJyl"
   },
   "source": [
    "## Interaktive widgets **are broken** in Colab! :( "
   ]
  },
  {
   "cell_type": "markdown",
   "metadata": {
    "colab_type": "text",
    "id": "zp925_-5gmZx"
   },
   "source": [
    "# Sharing and transforming Notebooks\n",
    "\n",
    "- Same in `.ipynb` native format (JSON)\n",
    "- Convert to `.py` script without the texts\n",
    "- Offline conversion: `jupyter nbconvert` (html, pdf, Latex, etc.) [See more](https://nbconvert.readthedocs.io/en/latest/)\n",
    "- Google Colab: share\n",
    "- nbviewer for online rendering: https://nbviewer.jupyter.org/\n"
   ]
  }
 ],
 "metadata": {
  "colab": {
   "collapsed_sections": [],
   "name": "Jupyter_hasznalat.ipynb",
   "provenance": [],
   "version": "0.3.2"
  },
  "kernelspec": {
   "display_name": "Python 3",
   "language": "python",
   "name": "python3"
  },
  "language_info": {
   "codemirror_mode": {
    "name": "ipython",
    "version": 3
   },
   "file_extension": ".py",
   "mimetype": "text/x-python",
   "name": "python",
   "nbconvert_exporter": "python",
   "pygments_lexer": "ipython3",
   "version": "3.6.8"
  },
  "toc": {
   "base_numbering": 1,
   "nav_menu": {},
   "number_sections": true,
   "sideBar": true,
   "skip_h1_title": false,
   "title_cell": "Table of Contents",
   "title_sidebar": "Contents",
   "toc_cell": false,
   "toc_position": {},
   "toc_section_display": true,
   "toc_window_display": false
  },
  "varInspector": {
   "cols": {
    "lenName": 16,
    "lenType": 16,
    "lenVar": 40
   },
   "kernels_config": {
    "python": {
     "delete_cmd_postfix": "",
     "delete_cmd_prefix": "del ",
     "library": "var_list.py",
     "varRefreshCmd": "print(var_dic_list())"
    },
    "r": {
     "delete_cmd_postfix": ") ",
     "delete_cmd_prefix": "rm(",
     "library": "var_list.r",
     "varRefreshCmd": "cat(var_dic_list()) "
    }
   },
   "types_to_exclude": [
    "module",
    "function",
    "builtin_function_or_method",
    "instance",
    "_Feature"
   ],
   "window_display": false
  }
 },
 "nbformat": 4,
 "nbformat_minor": 1
}
