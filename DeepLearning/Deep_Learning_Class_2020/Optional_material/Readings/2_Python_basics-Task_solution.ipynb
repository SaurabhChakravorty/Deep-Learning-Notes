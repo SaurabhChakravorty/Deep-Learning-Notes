{
 "cells": [
  {
   "cell_type": "markdown",
   "metadata": {},
   "source": [
    "# Python functions, objects and classes"
   ]
  },
  {
   "cell_type": "markdown",
   "metadata": {},
   "source": [
    "## Task 1\n",
    "Please use the function defined below to print out the text \"Hello my friend\"!"
   ]
  },
  {
   "cell_type": "code",
   "execution_count": 4,
   "metadata": {},
   "outputs": [],
   "source": [
    "def hello(who=\"people\"):\n",
    "    print(\"Hello\",who)\n",
    "\n"
   ]
  },
  {
   "cell_type": "code",
   "execution_count": null,
   "metadata": {},
   "outputs": [],
   "source": [
    "hello(\"my friend\")"
   ]
  },
  {
   "cell_type": "markdown",
   "metadata": {},
   "source": [
    "## Task 2"
   ]
  },
  {
   "cell_type": "code",
   "execution_count": 1,
   "metadata": {
    "collapsed": true
   },
   "outputs": [],
   "source": [
    "class AbstractShape:\n",
    "    \"\"\"A class representing planar figures.\n",
    "    \"\"\"\n",
    "    \n",
    "    def __init__(self, centerx, centery, color=\"black\"):\n",
    "        \"\"\"Initialize a shape.\n",
    "        \n",
    "        Args:\n",
    "            centerx: The x coordinate of the shape's center.\n",
    "            centery: The y coordinate of the shape's center.\n",
    "            color (str): The shape's color.\n",
    "        \"\"\"\n",
    "        self.centerx = centerx\n",
    "        self.centery = centery\n",
    "        self.color = color\n",
    "        \n",
    "    def move_by(self, dx, dy):\n",
    "        \"\"\"Move the shape by the given distances.\n",
    "        \n",
    "        Args:\n",
    "            dx: Movement along the x axis.\n",
    "            dy: Movement along the y axis.\n",
    "            \n",
    "        Returns:\n",
    "            None\n",
    "        \"\"\"\n",
    "        self.centerx += dx\n",
    "        self.centery += dy\n",
    "        \n",
    "    def area(self):\n",
    "        \"\"\"Return the area of the shape\n",
    "        \"\"\"\n",
    "        raise NotImplementedError # Raise an exception if a class simply inherits without implementing"
   ]
  },
  {
   "cell_type": "code",
   "execution_count": 2,
   "metadata": {
    "collapsed": true
   },
   "outputs": [],
   "source": [
    "from math import pi # We will need pi for calculating the area\n",
    "\n",
    "class Circle(AbstractShape):\n",
    "    \"\"\"A class representing a circle.    \n",
    "    \"\"\"\n",
    "    \n",
    "    def __init__(self, centerx, centery, radius, color=\"black\"):\n",
    "        \"\"\"Initialize the circle.\n",
    "        \n",
    "        Args:\n",
    "            centerx: The x coordinate of the circle's center.\n",
    "            centery: The y coordinate of the circle's center.\n",
    "            radius: The radius of the circle.\n",
    "            color (str): The circle's color.\n",
    "        \"\"\"\n",
    "        self.centerx = centerx\n",
    "        self.centery = centery\n",
    "        self.radius = radius\n",
    "        self.color = color\n",
    "        \n",
    "    def area(self):\n",
    "        return pi * self.radius ** 2\n",
    "    \n",
    "    @property\n",
    "    def diameter(self):\n",
    "        \"\"\"Return the circle's diameter.\n",
    "        \"\"\"\n",
    "        return 2 * self.radius\n",
    "    \n",
    "    @diameter.setter\n",
    "    def diameter(self, diameter):\n",
    "        \"\"\"Set the diameter to the givem size.\n",
    "        \"\"\"\n",
    "        self.radius = diameter / 2\n",
    "    \n",
    "    def __repr__(self):\n",
    "        \"\"\"Return the string representation of the circle.\n",
    "        \"\"\"\n",
    "        return f\"Circle({self.centerx}, {self.centery}, {self.radius}, '{self.color}')\""
   ]
  },
  {
   "cell_type": "code",
   "execution_count": 3,
   "metadata": {
    "collapsed": true
   },
   "outputs": [],
   "source": [
    "from math import sqrt\n",
    "\n",
    "class Rectangle(AbstractShape):\n",
    "    \"\"\"A class representing a rectangle.\n",
    "    \n",
    "    The sides are assumed to be parallel with the X and Y axis.\n",
    "    \"\"\"\n",
    "    \n",
    "    def __init__(self, centerx, centery, width, height, color=\"black\"):\n",
    "        \"\"\"Initialize the rectangle.\n",
    "        \n",
    "        Args:\n",
    "            centerx: The x coordinate of the rectangle's center.\n",
    "            centery: The y coordinate of the rectangle's center.\n",
    "            width: The size of the rectangle's horizontal side.\n",
    "            height: The size of the rectangle's verticak side.\n",
    "            color (str): The rectangle's color.\n",
    "        \"\"\"\n",
    "        self.centerx = centerx\n",
    "        self.centery = centery\n",
    "        self.width = width\n",
    "        self.height = height\n",
    "        self.color = color\n",
    "        \n",
    "    def area(self):\n",
    "        return self.width * self.height\n",
    "    \n",
    "    @property\n",
    "    def diagonal(self):\n",
    "        \"\"\"Return the size of the rectangle's diagonal.\n",
    "        \"\"\"\n",
    "        return sqrt(self.width ** 2 + self.height ** 2)\n",
    "    \n",
    "    def __repr__(self):\n",
    "        \"\"\"Return the string representation of the rectangle.\n",
    "        \"\"\"\n",
    "        return f\"Rectangle({self.centerx}, {self.centery}, {self.width}, {self.height}, '{self.color}')\""
   ]
  },
  {
   "cell_type": "code",
   "execution_count": 4,
   "metadata": {},
   "outputs": [
    {
     "data": {
      "text/plain": [
       "Rectangle(0, 0, 4, 3, 'black')"
      ]
     },
     "execution_count": 4,
     "metadata": {},
     "output_type": "execute_result"
    }
   ],
   "source": [
    "r = Rectangle(0, 0, 4, 3)\n",
    "r"
   ]
  },
  {
   "cell_type": "code",
   "execution_count": 5,
   "metadata": {},
   "outputs": [
    {
     "data": {
      "text/plain": [
       "5.0"
      ]
     },
     "execution_count": 5,
     "metadata": {},
     "output_type": "execute_result"
    }
   ],
   "source": [
    "r.diagonal"
   ]
  },
  {
   "cell_type": "code",
   "execution_count": 6,
   "metadata": {},
   "outputs": [
    {
     "data": {
      "text/plain": [
       "12"
      ]
     },
     "execution_count": 6,
     "metadata": {},
     "output_type": "execute_result"
    }
   ],
   "source": [
    "r.area()"
   ]
  },
  {
   "cell_type": "code",
   "execution_count": 7,
   "metadata": {},
   "outputs": [
    {
     "data": {
      "text/plain": [
       "Rectangle(1, 1, 4, 3, 'black')"
      ]
     },
     "execution_count": 7,
     "metadata": {},
     "output_type": "execute_result"
    }
   ],
   "source": [
    "r.move_by(1,1)\n",
    "r"
   ]
  },
  {
   "cell_type": "code",
   "execution_count": 8,
   "metadata": {},
   "outputs": [
    {
     "name": "stdout",
     "output_type": "stream",
     "text": [
      "Circle(0, 0, 3, 'red')\n"
     ]
    },
    {
     "data": {
      "text/plain": [
       "28.274333882308138"
      ]
     },
     "execution_count": 8,
     "metadata": {},
     "output_type": "execute_result"
    }
   ],
   "source": [
    "c = Circle(0,0,3, \"red\")\n",
    "print(c)\n",
    "c.area()"
   ]
  },
  {
   "cell_type": "code",
   "execution_count": 9,
   "metadata": {},
   "outputs": [
    {
     "data": {
      "text/plain": [
       "Circle(0, 0, 10.0, 'red')"
      ]
     },
     "execution_count": 9,
     "metadata": {},
     "output_type": "execute_result"
    }
   ],
   "source": [
    "c.diameter = 20\n",
    "c"
   ]
  },
  {
   "cell_type": "markdown",
   "metadata": {},
   "source": [
    "# Pandas basics\n",
    "\n",
    "## Reading the data\n",
    "\n",
    "The dataset we will be using contains data about [Abalone shells](https://en.wikipedia.org/wiki/Abalone). (With some noise graciously added by us :-P\n",
    "\n",
    "<img src=\"https://upload.wikimedia.org/wikipedia/commons/thumb/4/4d/Haliotis_clathrata_01.JPG/367px-Haliotis_clathrata_01.JPG\">\n"
   ]
  },
  {
   "cell_type": "code",
   "execution_count": null,
   "metadata": {},
   "outputs": [],
   "source": [
    "!wget https://gitlab.com/andras.simonyi/10_days_AI_training_data/raw/master/abalone.csv"
   ]
  },
  {
   "cell_type": "markdown",
   "metadata": {},
   "source": [
    "\n",
    "The data is in the file \"abalone.csv\".\n",
    "\n",
    "**General info**\n",
    "\n",
    ">Predicting the age of abalone from physical measurements.  The age of\n",
    "   abalone is determined by cutting the shell through the cone, staining it,\n",
    "   and counting the number of rings through a microscope -- a boring and\n",
    "   time-consuming task.  Other measurements, which are easier to obtain, are\n",
    "   used to predict the age.  Further information, such as weather patterns\n",
    "   and location (hence food availability) may be required to solve the problem.\n",
    "   From the original data examples with missing values were removed (the\n",
    "   majority having the predicted value missing), and the ranges of the\n",
    "   continuous values have been scaled for use with an ANN (by dividing by 200).\n",
    "\n",
    "\n",
    "**Field info**\n",
    "\n",
    ">Sex / nominal / -- / M, F, and I (infant)\n",
    "\n",
    "> Length / continuous / mm / Longest shell measurement\n",
    "\n",
    "> Diameter / continuous / mm / perpendicular to length\n",
    "\n",
    "> Height / continuous / mm / with meat in shell\n",
    "> Whole weight / continuous / grams / whole abalone\n",
    "\n",
    "> Shucked weight / continuous / grams / weight of meat\n",
    "\n",
    "> Viscera weight / continuous / grams / gut weight\n",
    "\n",
    "> Shell weight / continuous / grams / after being dried\n",
    "\n",
    "> Rings / integer / -- / +1.5 gives the age in years "
   ]
  },
  {
   "cell_type": "code",
   "execution_count": 10,
   "metadata": {},
   "outputs": [
    {
     "data": {
      "text/html": [
       "<div>\n",
       "<style scoped>\n",
       "    .dataframe tbody tr th:only-of-type {\n",
       "        vertical-align: middle;\n",
       "    }\n",
       "\n",
       "    .dataframe tbody tr th {\n",
       "        vertical-align: top;\n",
       "    }\n",
       "\n",
       "    .dataframe thead th {\n",
       "        text-align: right;\n",
       "    }\n",
       "</style>\n",
       "<table border=\"1\" class=\"dataframe\">\n",
       "  <thead>\n",
       "    <tr style=\"text-align: right;\">\n",
       "      <th></th>\n",
       "      <th>Sex</th>\n",
       "      <th>Length</th>\n",
       "      <th>Diameter</th>\n",
       "      <th>Height</th>\n",
       "      <th>Whole weight</th>\n",
       "      <th>Shucked weight</th>\n",
       "      <th>Viscera weight</th>\n",
       "      <th>Shell weight</th>\n",
       "      <th>Rings</th>\n",
       "    </tr>\n",
       "  </thead>\n",
       "  <tbody>\n",
       "    <tr>\n",
       "      <th>0</th>\n",
       "      <td>M</td>\n",
       "      <td>0.455</td>\n",
       "      <td>0.365</td>\n",
       "      <td>0.095</td>\n",
       "      <td>0.5140</td>\n",
       "      <td>0.2245</td>\n",
       "      <td>0.1010</td>\n",
       "      <td>0.150</td>\n",
       "      <td>15.0</td>\n",
       "    </tr>\n",
       "    <tr>\n",
       "      <th>1</th>\n",
       "      <td>M</td>\n",
       "      <td>0.350</td>\n",
       "      <td>0.265</td>\n",
       "      <td>0.090</td>\n",
       "      <td>0.2255</td>\n",
       "      <td>0.0995</td>\n",
       "      <td>0.0485</td>\n",
       "      <td>0.070</td>\n",
       "      <td>7.0</td>\n",
       "    </tr>\n",
       "    <tr>\n",
       "      <th>2</th>\n",
       "      <td>F</td>\n",
       "      <td>0.530</td>\n",
       "      <td>0.420</td>\n",
       "      <td>0.135</td>\n",
       "      <td>0.6770</td>\n",
       "      <td>0.2565</td>\n",
       "      <td>0.1415</td>\n",
       "      <td>0.210</td>\n",
       "      <td>9.0</td>\n",
       "    </tr>\n",
       "    <tr>\n",
       "      <th>3</th>\n",
       "      <td>M</td>\n",
       "      <td>0.440</td>\n",
       "      <td>0.365</td>\n",
       "      <td>NaN</td>\n",
       "      <td>0.5160</td>\n",
       "      <td>0.2155</td>\n",
       "      <td>0.1140</td>\n",
       "      <td>0.155</td>\n",
       "      <td>10.0</td>\n",
       "    </tr>\n",
       "    <tr>\n",
       "      <th>4</th>\n",
       "      <td>I</td>\n",
       "      <td>0.330</td>\n",
       "      <td>0.255</td>\n",
       "      <td>0.080</td>\n",
       "      <td>0.2050</td>\n",
       "      <td>0.0895</td>\n",
       "      <td>0.0395</td>\n",
       "      <td>0.055</td>\n",
       "      <td>7.0</td>\n",
       "    </tr>\n",
       "  </tbody>\n",
       "</table>\n",
       "</div>"
      ],
      "text/plain": [
       "  Sex  Length  Diameter  Height  Whole weight  Shucked weight  Viscera weight  \\\n",
       "0   M   0.455     0.365   0.095        0.5140          0.2245          0.1010   \n",
       "1   M   0.350     0.265   0.090        0.2255          0.0995          0.0485   \n",
       "2   F   0.530     0.420   0.135        0.6770          0.2565          0.1415   \n",
       "3   M   0.440     0.365     NaN        0.5160          0.2155          0.1140   \n",
       "4   I   0.330     0.255   0.080        0.2050          0.0895          0.0395   \n",
       "\n",
       "   Shell weight  Rings  \n",
       "0         0.150   15.0  \n",
       "1         0.070    7.0  \n",
       "2         0.210    9.0  \n",
       "3         0.155   10.0  \n",
       "4         0.055    7.0  "
      ]
     },
     "execution_count": 10,
     "metadata": {},
     "output_type": "execute_result"
    }
   ],
   "source": [
    "import pandas as pd\n",
    "\n",
    "df = pd.read_csv(\"abalone.csv\", sep=\";\", decimal=\",\")\n",
    "\n",
    "df.head()"
   ]
  },
  {
   "cell_type": "code",
   "execution_count": 11,
   "metadata": {},
   "outputs": [
    {
     "data": {
      "text/plain": [
       "(4177, 9)"
      ]
     },
     "execution_count": 11,
     "metadata": {},
     "output_type": "execute_result"
    }
   ],
   "source": [
    "df.shape"
   ]
  },
  {
   "cell_type": "markdown",
   "metadata": {},
   "source": [
    "## Fixing the column names\n",
    "\n",
    "Fix the column names to be able to use \"dot syntax\" for columns."
   ]
  },
  {
   "cell_type": "code",
   "execution_count": 12,
   "metadata": {},
   "outputs": [
    {
     "data": {
      "text/html": [
       "<div>\n",
       "<style scoped>\n",
       "    .dataframe tbody tr th:only-of-type {\n",
       "        vertical-align: middle;\n",
       "    }\n",
       "\n",
       "    .dataframe tbody tr th {\n",
       "        vertical-align: top;\n",
       "    }\n",
       "\n",
       "    .dataframe thead th {\n",
       "        text-align: right;\n",
       "    }\n",
       "</style>\n",
       "<table border=\"1\" class=\"dataframe\">\n",
       "  <thead>\n",
       "    <tr style=\"text-align: right;\">\n",
       "      <th></th>\n",
       "      <th>sex</th>\n",
       "      <th>length</th>\n",
       "      <th>diameter</th>\n",
       "      <th>height</th>\n",
       "      <th>whole_weight</th>\n",
       "      <th>shucked_weight</th>\n",
       "      <th>viscera_weight</th>\n",
       "      <th>shell_weight</th>\n",
       "      <th>rings</th>\n",
       "    </tr>\n",
       "  </thead>\n",
       "  <tbody>\n",
       "    <tr>\n",
       "      <th>0</th>\n",
       "      <td>M</td>\n",
       "      <td>0.455</td>\n",
       "      <td>0.365</td>\n",
       "      <td>0.095</td>\n",
       "      <td>0.5140</td>\n",
       "      <td>0.2245</td>\n",
       "      <td>0.1010</td>\n",
       "      <td>0.150</td>\n",
       "      <td>15.0</td>\n",
       "    </tr>\n",
       "    <tr>\n",
       "      <th>1</th>\n",
       "      <td>M</td>\n",
       "      <td>0.350</td>\n",
       "      <td>0.265</td>\n",
       "      <td>0.090</td>\n",
       "      <td>0.2255</td>\n",
       "      <td>0.0995</td>\n",
       "      <td>0.0485</td>\n",
       "      <td>0.070</td>\n",
       "      <td>7.0</td>\n",
       "    </tr>\n",
       "    <tr>\n",
       "      <th>2</th>\n",
       "      <td>F</td>\n",
       "      <td>0.530</td>\n",
       "      <td>0.420</td>\n",
       "      <td>0.135</td>\n",
       "      <td>0.6770</td>\n",
       "      <td>0.2565</td>\n",
       "      <td>0.1415</td>\n",
       "      <td>0.210</td>\n",
       "      <td>9.0</td>\n",
       "    </tr>\n",
       "    <tr>\n",
       "      <th>3</th>\n",
       "      <td>M</td>\n",
       "      <td>0.440</td>\n",
       "      <td>0.365</td>\n",
       "      <td>NaN</td>\n",
       "      <td>0.5160</td>\n",
       "      <td>0.2155</td>\n",
       "      <td>0.1140</td>\n",
       "      <td>0.155</td>\n",
       "      <td>10.0</td>\n",
       "    </tr>\n",
       "    <tr>\n",
       "      <th>4</th>\n",
       "      <td>I</td>\n",
       "      <td>0.330</td>\n",
       "      <td>0.255</td>\n",
       "      <td>0.080</td>\n",
       "      <td>0.2050</td>\n",
       "      <td>0.0895</td>\n",
       "      <td>0.0395</td>\n",
       "      <td>0.055</td>\n",
       "      <td>7.0</td>\n",
       "    </tr>\n",
       "  </tbody>\n",
       "</table>\n",
       "</div>"
      ],
      "text/plain": [
       "  sex  length  diameter  height  whole_weight  shucked_weight  viscera_weight  \\\n",
       "0   M   0.455     0.365   0.095        0.5140          0.2245          0.1010   \n",
       "1   M   0.350     0.265   0.090        0.2255          0.0995          0.0485   \n",
       "2   F   0.530     0.420   0.135        0.6770          0.2565          0.1415   \n",
       "3   M   0.440     0.365     NaN        0.5160          0.2155          0.1140   \n",
       "4   I   0.330     0.255   0.080        0.2050          0.0895          0.0395   \n",
       "\n",
       "   shell_weight  rings  \n",
       "0         0.150   15.0  \n",
       "1         0.070    7.0  \n",
       "2         0.210    9.0  \n",
       "3         0.155   10.0  \n",
       "4         0.055    7.0  "
      ]
     },
     "execution_count": 12,
     "metadata": {},
     "output_type": "execute_result"
    }
   ],
   "source": [
    "def normalize_columnname(h):\n",
    "    \"\"\"Normalize a column name by downcasing and replacing spaces with '_'.\n",
    "    \"\"\"\n",
    "    h = h.split()\n",
    "    h = \"_\".join(h)\n",
    "    return h.lower()\n",
    "\n",
    "df.rename(columns=normalize_columnname, inplace=True)\n",
    "df.rename(columns=str.lower, inplace=True)\n",
    "df.head()"
   ]
  },
  {
   "cell_type": "code",
   "execution_count": 13,
   "metadata": {},
   "outputs": [
    {
     "data": {
      "text/plain": [
       "0    0.5140\n",
       "1    0.2255\n",
       "2    0.6770\n",
       "3    0.5160\n",
       "4    0.2050\n",
       "Name: whole_weight, dtype: float64"
      ]
     },
     "execution_count": 13,
     "metadata": {},
     "output_type": "execute_result"
    }
   ],
   "source": [
    "df.whole_weight.head()"
   ]
  },
  {
   "cell_type": "markdown",
   "metadata": {},
   "source": [
    "## Check and handle missing data\n",
    "\n",
    "Check whether there are missing data."
   ]
  },
  {
   "cell_type": "code",
   "execution_count": 14,
   "metadata": {},
   "outputs": [
    {
     "data": {
      "text/plain": [
       "sex               1\n",
       "length            0\n",
       "diameter          0\n",
       "height            1\n",
       "whole_weight      0\n",
       "shucked_weight    1\n",
       "viscera_weight    1\n",
       "shell_weight      1\n",
       "rings             1\n",
       "dtype: int64"
      ]
     },
     "execution_count": 14,
     "metadata": {},
     "output_type": "execute_result"
    }
   ],
   "source": [
    "df.isnull().sum()"
   ]
  },
  {
   "cell_type": "markdown",
   "metadata": {},
   "source": [
    "Drop rows with NaN values."
   ]
  },
  {
   "cell_type": "code",
   "execution_count": 15,
   "metadata": {},
   "outputs": [
    {
     "name": "stdout",
     "output_type": "stream",
     "text": [
      "(4177, 9)\n"
     ]
    },
    {
     "data": {
      "text/plain": [
       "(4171, 9)"
      ]
     },
     "execution_count": 15,
     "metadata": {},
     "output_type": "execute_result"
    }
   ],
   "source": [
    "print(df.shape)\n",
    "df.dropna(inplace=True)\n",
    "df.reset_index(inplace=True, drop=True) # Reset index since dropped rows create \"wholes\"\n",
    "df.shape"
   ]
  },
  {
   "cell_type": "markdown",
   "metadata": {},
   "source": [
    "## Convert floats to int"
   ]
  },
  {
   "cell_type": "code",
   "execution_count": 16,
   "metadata": {},
   "outputs": [
    {
     "data": {
      "text/html": [
       "<div>\n",
       "<style scoped>\n",
       "    .dataframe tbody tr th:only-of-type {\n",
       "        vertical-align: middle;\n",
       "    }\n",
       "\n",
       "    .dataframe tbody tr th {\n",
       "        vertical-align: top;\n",
       "    }\n",
       "\n",
       "    .dataframe thead th {\n",
       "        text-align: right;\n",
       "    }\n",
       "</style>\n",
       "<table border=\"1\" class=\"dataframe\">\n",
       "  <thead>\n",
       "    <tr style=\"text-align: right;\">\n",
       "      <th></th>\n",
       "      <th>sex</th>\n",
       "      <th>length</th>\n",
       "      <th>diameter</th>\n",
       "      <th>height</th>\n",
       "      <th>whole_weight</th>\n",
       "      <th>shucked_weight</th>\n",
       "      <th>viscera_weight</th>\n",
       "      <th>shell_weight</th>\n",
       "      <th>rings</th>\n",
       "    </tr>\n",
       "  </thead>\n",
       "  <tbody>\n",
       "    <tr>\n",
       "      <th>0</th>\n",
       "      <td>M</td>\n",
       "      <td>0.455</td>\n",
       "      <td>0.365</td>\n",
       "      <td>0.095</td>\n",
       "      <td>0.5140</td>\n",
       "      <td>0.2245</td>\n",
       "      <td>0.1010</td>\n",
       "      <td>0.150</td>\n",
       "      <td>15</td>\n",
       "    </tr>\n",
       "    <tr>\n",
       "      <th>1</th>\n",
       "      <td>M</td>\n",
       "      <td>0.350</td>\n",
       "      <td>0.265</td>\n",
       "      <td>0.090</td>\n",
       "      <td>0.2255</td>\n",
       "      <td>0.0995</td>\n",
       "      <td>0.0485</td>\n",
       "      <td>0.070</td>\n",
       "      <td>7</td>\n",
       "    </tr>\n",
       "    <tr>\n",
       "      <th>2</th>\n",
       "      <td>F</td>\n",
       "      <td>0.530</td>\n",
       "      <td>0.420</td>\n",
       "      <td>0.135</td>\n",
       "      <td>0.6770</td>\n",
       "      <td>0.2565</td>\n",
       "      <td>0.1415</td>\n",
       "      <td>0.210</td>\n",
       "      <td>9</td>\n",
       "    </tr>\n",
       "    <tr>\n",
       "      <th>3</th>\n",
       "      <td>I</td>\n",
       "      <td>0.330</td>\n",
       "      <td>0.255</td>\n",
       "      <td>0.080</td>\n",
       "      <td>0.2050</td>\n",
       "      <td>0.0895</td>\n",
       "      <td>0.0395</td>\n",
       "      <td>0.055</td>\n",
       "      <td>7</td>\n",
       "    </tr>\n",
       "    <tr>\n",
       "      <th>4</th>\n",
       "      <td>I</td>\n",
       "      <td>0.425</td>\n",
       "      <td>0.300</td>\n",
       "      <td>0.095</td>\n",
       "      <td>0.3515</td>\n",
       "      <td>0.1410</td>\n",
       "      <td>0.0775</td>\n",
       "      <td>0.120</td>\n",
       "      <td>8</td>\n",
       "    </tr>\n",
       "  </tbody>\n",
       "</table>\n",
       "</div>"
      ],
      "text/plain": [
       "  sex  length  diameter  height  whole_weight  shucked_weight  viscera_weight  \\\n",
       "0   M   0.455     0.365   0.095        0.5140          0.2245          0.1010   \n",
       "1   M   0.350     0.265   0.090        0.2255          0.0995          0.0485   \n",
       "2   F   0.530     0.420   0.135        0.6770          0.2565          0.1415   \n",
       "3   I   0.330     0.255   0.080        0.2050          0.0895          0.0395   \n",
       "4   I   0.425     0.300   0.095        0.3515          0.1410          0.0775   \n",
       "\n",
       "   shell_weight  rings  \n",
       "0         0.150     15  \n",
       "1         0.070      7  \n",
       "2         0.210      9  \n",
       "3         0.055      7  \n",
       "4         0.120      8  "
      ]
     },
     "execution_count": 16,
     "metadata": {},
     "output_type": "execute_result"
    }
   ],
   "source": [
    "df[\"rings\"] = df.rings.astype(\"int64\")\n",
    "df.head()"
   ]
  },
  {
   "cell_type": "markdown",
   "metadata": {},
   "source": [
    "## Descriptives"
   ]
  },
  {
   "cell_type": "code",
   "execution_count": 17,
   "metadata": {},
   "outputs": [
    {
     "data": {
      "text/html": [
       "<div>\n",
       "<style scoped>\n",
       "    .dataframe tbody tr th:only-of-type {\n",
       "        vertical-align: middle;\n",
       "    }\n",
       "\n",
       "    .dataframe tbody tr th {\n",
       "        vertical-align: top;\n",
       "    }\n",
       "\n",
       "    .dataframe thead th {\n",
       "        text-align: right;\n",
       "    }\n",
       "</style>\n",
       "<table border=\"1\" class=\"dataframe\">\n",
       "  <thead>\n",
       "    <tr style=\"text-align: right;\">\n",
       "      <th></th>\n",
       "      <th>length</th>\n",
       "      <th>diameter</th>\n",
       "      <th>height</th>\n",
       "      <th>whole_weight</th>\n",
       "      <th>shucked_weight</th>\n",
       "      <th>viscera_weight</th>\n",
       "      <th>shell_weight</th>\n",
       "      <th>rings</th>\n",
       "    </tr>\n",
       "  </thead>\n",
       "  <tbody>\n",
       "    <tr>\n",
       "      <th>count</th>\n",
       "      <td>4171.000000</td>\n",
       "      <td>4171.000000</td>\n",
       "      <td>4171.000000</td>\n",
       "      <td>4171.000000</td>\n",
       "      <td>4171.000000</td>\n",
       "      <td>4171.000000</td>\n",
       "      <td>4171.000000</td>\n",
       "      <td>4171.000000</td>\n",
       "    </tr>\n",
       "    <tr>\n",
       "      <th>mean</th>\n",
       "      <td>0.523969</td>\n",
       "      <td>0.407851</td>\n",
       "      <td>0.139507</td>\n",
       "      <td>0.828556</td>\n",
       "      <td>0.359304</td>\n",
       "      <td>0.180551</td>\n",
       "      <td>0.238778</td>\n",
       "      <td>9.931671</td>\n",
       "    </tr>\n",
       "    <tr>\n",
       "      <th>std</th>\n",
       "      <td>0.120120</td>\n",
       "      <td>0.099259</td>\n",
       "      <td>0.041841</td>\n",
       "      <td>0.490342</td>\n",
       "      <td>0.221960</td>\n",
       "      <td>0.109596</td>\n",
       "      <td>0.139176</td>\n",
       "      <td>3.222579</td>\n",
       "    </tr>\n",
       "    <tr>\n",
       "      <th>min</th>\n",
       "      <td>0.075000</td>\n",
       "      <td>0.055000</td>\n",
       "      <td>0.000000</td>\n",
       "      <td>0.002000</td>\n",
       "      <td>0.001000</td>\n",
       "      <td>0.000500</td>\n",
       "      <td>0.001500</td>\n",
       "      <td>1.000000</td>\n",
       "    </tr>\n",
       "    <tr>\n",
       "      <th>25%</th>\n",
       "      <td>0.450000</td>\n",
       "      <td>0.350000</td>\n",
       "      <td>0.115000</td>\n",
       "      <td>0.441250</td>\n",
       "      <td>0.186000</td>\n",
       "      <td>0.093250</td>\n",
       "      <td>0.130000</td>\n",
       "      <td>8.000000</td>\n",
       "    </tr>\n",
       "    <tr>\n",
       "      <th>50%</th>\n",
       "      <td>0.545000</td>\n",
       "      <td>0.425000</td>\n",
       "      <td>0.140000</td>\n",
       "      <td>0.799500</td>\n",
       "      <td>0.336000</td>\n",
       "      <td>0.171000</td>\n",
       "      <td>0.234000</td>\n",
       "      <td>9.000000</td>\n",
       "    </tr>\n",
       "    <tr>\n",
       "      <th>75%</th>\n",
       "      <td>0.615000</td>\n",
       "      <td>0.480000</td>\n",
       "      <td>0.165000</td>\n",
       "      <td>1.153000</td>\n",
       "      <td>0.501750</td>\n",
       "      <td>0.252750</td>\n",
       "      <td>0.328750</td>\n",
       "      <td>11.000000</td>\n",
       "    </tr>\n",
       "    <tr>\n",
       "      <th>max</th>\n",
       "      <td>0.815000</td>\n",
       "      <td>0.650000</td>\n",
       "      <td>1.130000</td>\n",
       "      <td>2.825500</td>\n",
       "      <td>1.488000</td>\n",
       "      <td>0.760000</td>\n",
       "      <td>1.005000</td>\n",
       "      <td>29.000000</td>\n",
       "    </tr>\n",
       "  </tbody>\n",
       "</table>\n",
       "</div>"
      ],
      "text/plain": [
       "            length     diameter       height  whole_weight  shucked_weight  \\\n",
       "count  4171.000000  4171.000000  4171.000000   4171.000000     4171.000000   \n",
       "mean      0.523969     0.407851     0.139507      0.828556        0.359304   \n",
       "std       0.120120     0.099259     0.041841      0.490342        0.221960   \n",
       "min       0.075000     0.055000     0.000000      0.002000        0.001000   \n",
       "25%       0.450000     0.350000     0.115000      0.441250        0.186000   \n",
       "50%       0.545000     0.425000     0.140000      0.799500        0.336000   \n",
       "75%       0.615000     0.480000     0.165000      1.153000        0.501750   \n",
       "max       0.815000     0.650000     1.130000      2.825500        1.488000   \n",
       "\n",
       "       viscera_weight  shell_weight        rings  \n",
       "count     4171.000000   4171.000000  4171.000000  \n",
       "mean         0.180551      0.238778     9.931671  \n",
       "std          0.109596      0.139176     3.222579  \n",
       "min          0.000500      0.001500     1.000000  \n",
       "25%          0.093250      0.130000     8.000000  \n",
       "50%          0.171000      0.234000     9.000000  \n",
       "75%          0.252750      0.328750    11.000000  \n",
       "max          0.760000      1.005000    29.000000  "
      ]
     },
     "execution_count": 17,
     "metadata": {},
     "output_type": "execute_result"
    }
   ],
   "source": [
    "df.describe()"
   ]
  },
  {
   "cell_type": "code",
   "execution_count": 18,
   "metadata": {},
   "outputs": [
    {
     "data": {
      "text/plain": [
       "count     4171\n",
       "unique       3\n",
       "top          M\n",
       "freq      1526\n",
       "Name: sex, dtype: object"
      ]
     },
     "execution_count": 18,
     "metadata": {},
     "output_type": "execute_result"
    }
   ],
   "source": [
    "df.sex.describe()"
   ]
  },
  {
   "cell_type": "markdown",
   "metadata": {},
   "source": [
    "Find the index of the examples with the maximal and minimal values."
   ]
  },
  {
   "cell_type": "code",
   "execution_count": 19,
   "metadata": {},
   "outputs": [
    {
     "data": {
      "text/plain": [
       "length            1422\n",
       "diameter          1422\n",
       "height            2045\n",
       "whole_weight       885\n",
       "shucked_weight    1203\n",
       "viscera_weight    1757\n",
       "shell_weight       160\n",
       "rings              475\n",
       "dtype: int64"
      ]
     },
     "execution_count": 19,
     "metadata": {},
     "output_type": "execute_result"
    }
   ],
   "source": [
    "df.loc[:, \"length\":].idxmax()"
   ]
  },
  {
   "cell_type": "code",
   "execution_count": 20,
   "metadata": {},
   "outputs": [
    {
     "data": {
      "text/plain": [
       "sex                    F\n",
       "length             0.815\n",
       "diameter            0.65\n",
       "height              0.25\n",
       "whole_weight       2.255\n",
       "shucked_weight    0.8905\n",
       "viscera_weight      0.42\n",
       "shell_weight      0.7975\n",
       "rings                 14\n",
       "Name: 1422, dtype: object"
      ]
     },
     "execution_count": 20,
     "metadata": {},
     "output_type": "execute_result"
    }
   ],
   "source": [
    "df.loc[1422]"
   ]
  },
  {
   "cell_type": "code",
   "execution_count": 21,
   "metadata": {},
   "outputs": [
    {
     "data": {
      "text/plain": [
       "length             231\n",
       "diameter           231\n",
       "height            1251\n",
       "whole_weight       231\n",
       "shucked_weight     231\n",
       "viscera_weight     231\n",
       "shell_weight       231\n",
       "rings              231\n",
       "dtype: int64"
      ]
     },
     "execution_count": 21,
     "metadata": {},
     "output_type": "execute_result"
    }
   ],
   "source": [
    "df.loc[:, \"length\":].idxmin()"
   ]
  },
  {
   "cell_type": "code",
   "execution_count": 22,
   "metadata": {},
   "outputs": [
    {
     "data": {
      "text/plain": [
       "sex                    I\n",
       "length             0.075\n",
       "diameter           0.055\n",
       "height              0.01\n",
       "whole_weight       0.002\n",
       "shucked_weight     0.001\n",
       "viscera_weight    0.0005\n",
       "shell_weight      0.0015\n",
       "rings                  1\n",
       "Name: 231, dtype: object"
      ]
     },
     "execution_count": 22,
     "metadata": {},
     "output_type": "execute_result"
    }
   ],
   "source": [
    "df.loc[231]"
   ]
  },
  {
   "cell_type": "markdown",
   "metadata": {},
   "source": [
    "## Standardization"
   ]
  },
  {
   "cell_type": "code",
   "execution_count": 23,
   "metadata": {},
   "outputs": [
    {
     "data": {
      "text/html": [
       "<div>\n",
       "<style scoped>\n",
       "    .dataframe tbody tr th:only-of-type {\n",
       "        vertical-align: middle;\n",
       "    }\n",
       "\n",
       "    .dataframe tbody tr th {\n",
       "        vertical-align: top;\n",
       "    }\n",
       "\n",
       "    .dataframe thead th {\n",
       "        text-align: right;\n",
       "    }\n",
       "</style>\n",
       "<table border=\"1\" class=\"dataframe\">\n",
       "  <thead>\n",
       "    <tr style=\"text-align: right;\">\n",
       "      <th></th>\n",
       "      <th>length</th>\n",
       "      <th>diameter</th>\n",
       "      <th>height</th>\n",
       "      <th>whole_weight</th>\n",
       "      <th>shucked_weight</th>\n",
       "      <th>viscera_weight</th>\n",
       "      <th>shell_weight</th>\n",
       "    </tr>\n",
       "  </thead>\n",
       "  <tbody>\n",
       "    <tr>\n",
       "      <th>0</th>\n",
       "      <td>0.455</td>\n",
       "      <td>0.365</td>\n",
       "      <td>0.095</td>\n",
       "      <td>0.5140</td>\n",
       "      <td>0.2245</td>\n",
       "      <td>0.1010</td>\n",
       "      <td>0.150</td>\n",
       "    </tr>\n",
       "    <tr>\n",
       "      <th>1</th>\n",
       "      <td>0.350</td>\n",
       "      <td>0.265</td>\n",
       "      <td>0.090</td>\n",
       "      <td>0.2255</td>\n",
       "      <td>0.0995</td>\n",
       "      <td>0.0485</td>\n",
       "      <td>0.070</td>\n",
       "    </tr>\n",
       "    <tr>\n",
       "      <th>2</th>\n",
       "      <td>0.530</td>\n",
       "      <td>0.420</td>\n",
       "      <td>0.135</td>\n",
       "      <td>0.6770</td>\n",
       "      <td>0.2565</td>\n",
       "      <td>0.1415</td>\n",
       "      <td>0.210</td>\n",
       "    </tr>\n",
       "    <tr>\n",
       "      <th>3</th>\n",
       "      <td>0.330</td>\n",
       "      <td>0.255</td>\n",
       "      <td>0.080</td>\n",
       "      <td>0.2050</td>\n",
       "      <td>0.0895</td>\n",
       "      <td>0.0395</td>\n",
       "      <td>0.055</td>\n",
       "    </tr>\n",
       "    <tr>\n",
       "      <th>4</th>\n",
       "      <td>0.425</td>\n",
       "      <td>0.300</td>\n",
       "      <td>0.095</td>\n",
       "      <td>0.3515</td>\n",
       "      <td>0.1410</td>\n",
       "      <td>0.0775</td>\n",
       "      <td>0.120</td>\n",
       "    </tr>\n",
       "  </tbody>\n",
       "</table>\n",
       "</div>"
      ],
      "text/plain": [
       "   length  diameter  height  whole_weight  shucked_weight  viscera_weight  \\\n",
       "0   0.455     0.365   0.095        0.5140          0.2245          0.1010   \n",
       "1   0.350     0.265   0.090        0.2255          0.0995          0.0485   \n",
       "2   0.530     0.420   0.135        0.6770          0.2565          0.1415   \n",
       "3   0.330     0.255   0.080        0.2050          0.0895          0.0395   \n",
       "4   0.425     0.300   0.095        0.3515          0.1410          0.0775   \n",
       "\n",
       "   shell_weight  \n",
       "0         0.150  \n",
       "1         0.070  \n",
       "2         0.210  \n",
       "3         0.055  \n",
       "4         0.120  "
      ]
     },
     "execution_count": 23,
     "metadata": {},
     "output_type": "execute_result"
    }
   ],
   "source": [
    "df_numeric = df.loc[:,\"length\":\"shell_weight\"]\n",
    "df_numeric.head()"
   ]
  },
  {
   "cell_type": "code",
   "execution_count": 24,
   "metadata": {},
   "outputs": [
    {
     "data": {
      "text/html": [
       "<div>\n",
       "<style scoped>\n",
       "    .dataframe tbody tr th:only-of-type {\n",
       "        vertical-align: middle;\n",
       "    }\n",
       "\n",
       "    .dataframe tbody tr th {\n",
       "        vertical-align: top;\n",
       "    }\n",
       "\n",
       "    .dataframe thead th {\n",
       "        text-align: right;\n",
       "    }\n",
       "</style>\n",
       "<table border=\"1\" class=\"dataframe\">\n",
       "  <thead>\n",
       "    <tr style=\"text-align: right;\">\n",
       "      <th></th>\n",
       "      <th>length</th>\n",
       "      <th>diameter</th>\n",
       "      <th>height</th>\n",
       "      <th>whole_weight</th>\n",
       "      <th>shucked_weight</th>\n",
       "      <th>viscera_weight</th>\n",
       "      <th>shell_weight</th>\n",
       "    </tr>\n",
       "  </thead>\n",
       "  <tbody>\n",
       "    <tr>\n",
       "      <th>0</th>\n",
       "      <td>-0.574168</td>\n",
       "      <td>-0.431707</td>\n",
       "      <td>-1.063723</td>\n",
       "      <td>-0.641504</td>\n",
       "      <td>-0.607334</td>\n",
       "      <td>-0.725855</td>\n",
       "      <td>-0.637880</td>\n",
       "    </tr>\n",
       "    <tr>\n",
       "      <th>1</th>\n",
       "      <td>-1.448294</td>\n",
       "      <td>-1.439175</td>\n",
       "      <td>-1.183223</td>\n",
       "      <td>-1.229868</td>\n",
       "      <td>-1.170499</td>\n",
       "      <td>-1.204887</td>\n",
       "      <td>-1.212693</td>\n",
       "    </tr>\n",
       "    <tr>\n",
       "      <th>2</th>\n",
       "      <td>0.050208</td>\n",
       "      <td>0.122401</td>\n",
       "      <td>-0.107725</td>\n",
       "      <td>-0.309083</td>\n",
       "      <td>-0.463164</td>\n",
       "      <td>-0.356315</td>\n",
       "      <td>-0.206771</td>\n",
       "    </tr>\n",
       "    <tr>\n",
       "      <th>3</th>\n",
       "      <td>-1.614794</td>\n",
       "      <td>-1.539922</td>\n",
       "      <td>-1.422223</td>\n",
       "      <td>-1.271675</td>\n",
       "      <td>-1.215552</td>\n",
       "      <td>-1.287007</td>\n",
       "      <td>-1.320470</td>\n",
       "    </tr>\n",
       "    <tr>\n",
       "      <th>4</th>\n",
       "      <td>-0.823918</td>\n",
       "      <td>-1.086561</td>\n",
       "      <td>-1.063723</td>\n",
       "      <td>-0.972905</td>\n",
       "      <td>-0.983528</td>\n",
       "      <td>-0.940279</td>\n",
       "      <td>-0.853435</td>\n",
       "    </tr>\n",
       "  </tbody>\n",
       "</table>\n",
       "</div>"
      ],
      "text/plain": [
       "     length  diameter    height  whole_weight  shucked_weight  viscera_weight  \\\n",
       "0 -0.574168 -0.431707 -1.063723     -0.641504       -0.607334       -0.725855   \n",
       "1 -1.448294 -1.439175 -1.183223     -1.229868       -1.170499       -1.204887   \n",
       "2  0.050208  0.122401 -0.107725     -0.309083       -0.463164       -0.356315   \n",
       "3 -1.614794 -1.539922 -1.422223     -1.271675       -1.215552       -1.287007   \n",
       "4 -0.823918 -1.086561 -1.063723     -0.972905       -0.983528       -0.940279   \n",
       "\n",
       "   shell_weight  \n",
       "0     -0.637880  \n",
       "1     -1.212693  \n",
       "2     -0.206771  \n",
       "3     -1.320470  \n",
       "4     -0.853435  "
      ]
     },
     "execution_count": 24,
     "metadata": {},
     "output_type": "execute_result"
    }
   ],
   "source": [
    "mean = df_numeric.mean()\n",
    "std = df_numeric.std()\n",
    "df_numeric_std = (df_numeric - mean) / std\n",
    "df_numeric_std.head()"
   ]
  },
  {
   "cell_type": "code",
   "execution_count": 25,
   "metadata": {},
   "outputs": [
    {
     "data": {
      "text/html": [
       "<div>\n",
       "<style scoped>\n",
       "    .dataframe tbody tr th:only-of-type {\n",
       "        vertical-align: middle;\n",
       "    }\n",
       "\n",
       "    .dataframe tbody tr th {\n",
       "        vertical-align: top;\n",
       "    }\n",
       "\n",
       "    .dataframe thead th {\n",
       "        text-align: right;\n",
       "    }\n",
       "</style>\n",
       "<table border=\"1\" class=\"dataframe\">\n",
       "  <thead>\n",
       "    <tr style=\"text-align: right;\">\n",
       "      <th></th>\n",
       "      <th>length</th>\n",
       "      <th>diameter</th>\n",
       "      <th>height</th>\n",
       "      <th>whole_weight</th>\n",
       "      <th>shucked_weight</th>\n",
       "      <th>viscera_weight</th>\n",
       "      <th>shell_weight</th>\n",
       "    </tr>\n",
       "  </thead>\n",
       "  <tbody>\n",
       "    <tr>\n",
       "      <th>count</th>\n",
       "      <td>4.171000e+03</td>\n",
       "      <td>4.171000e+03</td>\n",
       "      <td>4.171000e+03</td>\n",
       "      <td>4.171000e+03</td>\n",
       "      <td>4.171000e+03</td>\n",
       "      <td>4.171000e+03</td>\n",
       "      <td>4.171000e+03</td>\n",
       "    </tr>\n",
       "    <tr>\n",
       "      <th>mean</th>\n",
       "      <td>-3.921528e-15</td>\n",
       "      <td>-1.416486e-14</td>\n",
       "      <td>2.342014e-14</td>\n",
       "      <td>-4.923204e-15</td>\n",
       "      <td>4.129359e-15</td>\n",
       "      <td>-2.722242e-15</td>\n",
       "      <td>8.688008e-16</td>\n",
       "    </tr>\n",
       "    <tr>\n",
       "      <th>std</th>\n",
       "      <td>1.000000e+00</td>\n",
       "      <td>1.000000e+00</td>\n",
       "      <td>1.000000e+00</td>\n",
       "      <td>1.000000e+00</td>\n",
       "      <td>1.000000e+00</td>\n",
       "      <td>1.000000e+00</td>\n",
       "      <td>1.000000e+00</td>\n",
       "    </tr>\n",
       "    <tr>\n",
       "      <th>min</th>\n",
       "      <td>-3.737671e+00</td>\n",
       "      <td>-3.554858e+00</td>\n",
       "      <td>-3.334220e+00</td>\n",
       "      <td>-1.685672e+00</td>\n",
       "      <td>-1.614272e+00</td>\n",
       "      <td>-1.642860e+00</td>\n",
       "      <td>-1.704876e+00</td>\n",
       "    </tr>\n",
       "    <tr>\n",
       "      <th>25%</th>\n",
       "      <td>-6.157931e-01</td>\n",
       "      <td>-5.828268e-01</td>\n",
       "      <td>-5.857240e-01</td>\n",
       "      <td>-7.898692e-01</td>\n",
       "      <td>-7.807887e-01</td>\n",
       "      <td>-7.965691e-01</td>\n",
       "      <td>-7.815833e-01</td>\n",
       "    </tr>\n",
       "    <tr>\n",
       "      <th>50%</th>\n",
       "      <td>1.750826e-01</td>\n",
       "      <td>1.727744e-01</td>\n",
       "      <td>1.177522e-02</td>\n",
       "      <td>-5.925725e-02</td>\n",
       "      <td>-1.049914e-01</td>\n",
       "      <td>-8.714475e-02</td>\n",
       "      <td>-3.432716e-02</td>\n",
       "    </tr>\n",
       "    <tr>\n",
       "      <th>75%</th>\n",
       "      <td>7.578332e-01</td>\n",
       "      <td>7.268819e-01</td>\n",
       "      <td>6.092744e-01</td>\n",
       "      <td>6.616676e-01</td>\n",
       "      <td>6.417647e-01</td>\n",
       "      <td>6.587773e-01</td>\n",
       "      <td>6.464663e-01</td>\n",
       "    </tr>\n",
       "    <tr>\n",
       "      <th>max</th>\n",
       "      <td>2.422835e+00</td>\n",
       "      <td>2.439578e+00</td>\n",
       "      <td>2.367274e+01</td>\n",
       "      <td>4.072550e+00</td>\n",
       "      <td>5.085132e+00</td>\n",
       "      <td>5.287144e+00</td>\n",
       "      <td>5.505428e+00</td>\n",
       "    </tr>\n",
       "  </tbody>\n",
       "</table>\n",
       "</div>"
      ],
      "text/plain": [
       "             length      diameter        height  whole_weight  shucked_weight  \\\n",
       "count  4.171000e+03  4.171000e+03  4.171000e+03  4.171000e+03    4.171000e+03   \n",
       "mean  -3.921528e-15 -1.416486e-14  2.342014e-14 -4.923204e-15    4.129359e-15   \n",
       "std    1.000000e+00  1.000000e+00  1.000000e+00  1.000000e+00    1.000000e+00   \n",
       "min   -3.737671e+00 -3.554858e+00 -3.334220e+00 -1.685672e+00   -1.614272e+00   \n",
       "25%   -6.157931e-01 -5.828268e-01 -5.857240e-01 -7.898692e-01   -7.807887e-01   \n",
       "50%    1.750826e-01  1.727744e-01  1.177522e-02 -5.925725e-02   -1.049914e-01   \n",
       "75%    7.578332e-01  7.268819e-01  6.092744e-01  6.616676e-01    6.417647e-01   \n",
       "max    2.422835e+00  2.439578e+00  2.367274e+01  4.072550e+00    5.085132e+00   \n",
       "\n",
       "       viscera_weight  shell_weight  \n",
       "count    4.171000e+03  4.171000e+03  \n",
       "mean    -2.722242e-15  8.688008e-16  \n",
       "std      1.000000e+00  1.000000e+00  \n",
       "min     -1.642860e+00 -1.704876e+00  \n",
       "25%     -7.965691e-01 -7.815833e-01  \n",
       "50%     -8.714475e-02 -3.432716e-02  \n",
       "75%      6.587773e-01  6.464663e-01  \n",
       "max      5.287144e+00  5.505428e+00  "
      ]
     },
     "execution_count": 25,
     "metadata": {},
     "output_type": "execute_result"
    }
   ],
   "source": [
    "df_numeric_std.describe()"
   ]
  },
  {
   "cell_type": "code",
   "execution_count": 26,
   "metadata": {},
   "outputs": [
    {
     "data": {
      "text/html": [
       "<div>\n",
       "<style scoped>\n",
       "    .dataframe tbody tr th:only-of-type {\n",
       "        vertical-align: middle;\n",
       "    }\n",
       "\n",
       "    .dataframe tbody tr th {\n",
       "        vertical-align: top;\n",
       "    }\n",
       "\n",
       "    .dataframe thead th {\n",
       "        text-align: right;\n",
       "    }\n",
       "</style>\n",
       "<table border=\"1\" class=\"dataframe\">\n",
       "  <thead>\n",
       "    <tr style=\"text-align: right;\">\n",
       "      <th></th>\n",
       "      <th>sex</th>\n",
       "      <th>length</th>\n",
       "      <th>diameter</th>\n",
       "      <th>height</th>\n",
       "      <th>whole_weight</th>\n",
       "      <th>shucked_weight</th>\n",
       "      <th>viscera_weight</th>\n",
       "      <th>shell_weight</th>\n",
       "      <th>rings</th>\n",
       "    </tr>\n",
       "  </thead>\n",
       "  <tbody>\n",
       "    <tr>\n",
       "      <th>0</th>\n",
       "      <td>M</td>\n",
       "      <td>-0.574168</td>\n",
       "      <td>-0.431707</td>\n",
       "      <td>-1.063723</td>\n",
       "      <td>-0.641504</td>\n",
       "      <td>-0.607334</td>\n",
       "      <td>-0.725855</td>\n",
       "      <td>-0.637880</td>\n",
       "      <td>15</td>\n",
       "    </tr>\n",
       "    <tr>\n",
       "      <th>1</th>\n",
       "      <td>M</td>\n",
       "      <td>-1.448294</td>\n",
       "      <td>-1.439175</td>\n",
       "      <td>-1.183223</td>\n",
       "      <td>-1.229868</td>\n",
       "      <td>-1.170499</td>\n",
       "      <td>-1.204887</td>\n",
       "      <td>-1.212693</td>\n",
       "      <td>7</td>\n",
       "    </tr>\n",
       "    <tr>\n",
       "      <th>2</th>\n",
       "      <td>F</td>\n",
       "      <td>0.050208</td>\n",
       "      <td>0.122401</td>\n",
       "      <td>-0.107725</td>\n",
       "      <td>-0.309083</td>\n",
       "      <td>-0.463164</td>\n",
       "      <td>-0.356315</td>\n",
       "      <td>-0.206771</td>\n",
       "      <td>9</td>\n",
       "    </tr>\n",
       "    <tr>\n",
       "      <th>3</th>\n",
       "      <td>I</td>\n",
       "      <td>-1.614794</td>\n",
       "      <td>-1.539922</td>\n",
       "      <td>-1.422223</td>\n",
       "      <td>-1.271675</td>\n",
       "      <td>-1.215552</td>\n",
       "      <td>-1.287007</td>\n",
       "      <td>-1.320470</td>\n",
       "      <td>7</td>\n",
       "    </tr>\n",
       "    <tr>\n",
       "      <th>4</th>\n",
       "      <td>I</td>\n",
       "      <td>-0.823918</td>\n",
       "      <td>-1.086561</td>\n",
       "      <td>-1.063723</td>\n",
       "      <td>-0.972905</td>\n",
       "      <td>-0.983528</td>\n",
       "      <td>-0.940279</td>\n",
       "      <td>-0.853435</td>\n",
       "      <td>8</td>\n",
       "    </tr>\n",
       "  </tbody>\n",
       "</table>\n",
       "</div>"
      ],
      "text/plain": [
       "  sex    length  diameter    height  whole_weight  shucked_weight  \\\n",
       "0   M -0.574168 -0.431707 -1.063723     -0.641504       -0.607334   \n",
       "1   M -1.448294 -1.439175 -1.183223     -1.229868       -1.170499   \n",
       "2   F  0.050208  0.122401 -0.107725     -0.309083       -0.463164   \n",
       "3   I -1.614794 -1.539922 -1.422223     -1.271675       -1.215552   \n",
       "4   I -0.823918 -1.086561 -1.063723     -0.972905       -0.983528   \n",
       "\n",
       "   viscera_weight  shell_weight  rings  \n",
       "0       -0.725855     -0.637880     15  \n",
       "1       -1.204887     -1.212693      7  \n",
       "2       -0.356315     -0.206771      9  \n",
       "3       -1.287007     -1.320470      7  \n",
       "4       -0.940279     -0.853435      8  "
      ]
     },
     "execution_count": 26,
     "metadata": {},
     "output_type": "execute_result"
    }
   ],
   "source": [
    "df.loc[:,\"length\":\"shell_weight\"] = df_numeric_std\n",
    "df.head()"
   ]
  },
  {
   "cell_type": "code",
   "execution_count": 27,
   "metadata": {},
   "outputs": [
    {
     "data": {
      "text/html": [
       "<div>\n",
       "<style scoped>\n",
       "    .dataframe tbody tr th:only-of-type {\n",
       "        vertical-align: middle;\n",
       "    }\n",
       "\n",
       "    .dataframe tbody tr th {\n",
       "        vertical-align: top;\n",
       "    }\n",
       "\n",
       "    .dataframe thead th {\n",
       "        text-align: right;\n",
       "    }\n",
       "</style>\n",
       "<table border=\"1\" class=\"dataframe\">\n",
       "  <thead>\n",
       "    <tr style=\"text-align: right;\">\n",
       "      <th></th>\n",
       "      <th>length</th>\n",
       "      <th>diameter</th>\n",
       "      <th>height</th>\n",
       "      <th>whole_weight</th>\n",
       "      <th>shucked_weight</th>\n",
       "      <th>viscera_weight</th>\n",
       "      <th>shell_weight</th>\n",
       "      <th>rings</th>\n",
       "    </tr>\n",
       "  </thead>\n",
       "  <tbody>\n",
       "    <tr>\n",
       "      <th>count</th>\n",
       "      <td>4.171000e+03</td>\n",
       "      <td>4.171000e+03</td>\n",
       "      <td>4.171000e+03</td>\n",
       "      <td>4.171000e+03</td>\n",
       "      <td>4.171000e+03</td>\n",
       "      <td>4.171000e+03</td>\n",
       "      <td>4.171000e+03</td>\n",
       "      <td>4171.000000</td>\n",
       "    </tr>\n",
       "    <tr>\n",
       "      <th>mean</th>\n",
       "      <td>-3.921528e-15</td>\n",
       "      <td>-1.416486e-14</td>\n",
       "      <td>2.342014e-14</td>\n",
       "      <td>-4.923204e-15</td>\n",
       "      <td>4.129359e-15</td>\n",
       "      <td>-2.722242e-15</td>\n",
       "      <td>8.688008e-16</td>\n",
       "      <td>9.931671</td>\n",
       "    </tr>\n",
       "    <tr>\n",
       "      <th>std</th>\n",
       "      <td>1.000000e+00</td>\n",
       "      <td>1.000000e+00</td>\n",
       "      <td>1.000000e+00</td>\n",
       "      <td>1.000000e+00</td>\n",
       "      <td>1.000000e+00</td>\n",
       "      <td>1.000000e+00</td>\n",
       "      <td>1.000000e+00</td>\n",
       "      <td>3.222579</td>\n",
       "    </tr>\n",
       "    <tr>\n",
       "      <th>min</th>\n",
       "      <td>-3.737671e+00</td>\n",
       "      <td>-3.554858e+00</td>\n",
       "      <td>-3.334220e+00</td>\n",
       "      <td>-1.685672e+00</td>\n",
       "      <td>-1.614272e+00</td>\n",
       "      <td>-1.642860e+00</td>\n",
       "      <td>-1.704876e+00</td>\n",
       "      <td>1.000000</td>\n",
       "    </tr>\n",
       "    <tr>\n",
       "      <th>25%</th>\n",
       "      <td>-6.157931e-01</td>\n",
       "      <td>-5.828268e-01</td>\n",
       "      <td>-5.857240e-01</td>\n",
       "      <td>-7.898692e-01</td>\n",
       "      <td>-7.807887e-01</td>\n",
       "      <td>-7.965691e-01</td>\n",
       "      <td>-7.815833e-01</td>\n",
       "      <td>8.000000</td>\n",
       "    </tr>\n",
       "    <tr>\n",
       "      <th>50%</th>\n",
       "      <td>1.750826e-01</td>\n",
       "      <td>1.727744e-01</td>\n",
       "      <td>1.177522e-02</td>\n",
       "      <td>-5.925725e-02</td>\n",
       "      <td>-1.049914e-01</td>\n",
       "      <td>-8.714475e-02</td>\n",
       "      <td>-3.432716e-02</td>\n",
       "      <td>9.000000</td>\n",
       "    </tr>\n",
       "    <tr>\n",
       "      <th>75%</th>\n",
       "      <td>7.578332e-01</td>\n",
       "      <td>7.268819e-01</td>\n",
       "      <td>6.092744e-01</td>\n",
       "      <td>6.616676e-01</td>\n",
       "      <td>6.417647e-01</td>\n",
       "      <td>6.587773e-01</td>\n",
       "      <td>6.464663e-01</td>\n",
       "      <td>11.000000</td>\n",
       "    </tr>\n",
       "    <tr>\n",
       "      <th>max</th>\n",
       "      <td>2.422835e+00</td>\n",
       "      <td>2.439578e+00</td>\n",
       "      <td>2.367274e+01</td>\n",
       "      <td>4.072550e+00</td>\n",
       "      <td>5.085132e+00</td>\n",
       "      <td>5.287144e+00</td>\n",
       "      <td>5.505428e+00</td>\n",
       "      <td>29.000000</td>\n",
       "    </tr>\n",
       "  </tbody>\n",
       "</table>\n",
       "</div>"
      ],
      "text/plain": [
       "             length      diameter        height  whole_weight  shucked_weight  \\\n",
       "count  4.171000e+03  4.171000e+03  4.171000e+03  4.171000e+03    4.171000e+03   \n",
       "mean  -3.921528e-15 -1.416486e-14  2.342014e-14 -4.923204e-15    4.129359e-15   \n",
       "std    1.000000e+00  1.000000e+00  1.000000e+00  1.000000e+00    1.000000e+00   \n",
       "min   -3.737671e+00 -3.554858e+00 -3.334220e+00 -1.685672e+00   -1.614272e+00   \n",
       "25%   -6.157931e-01 -5.828268e-01 -5.857240e-01 -7.898692e-01   -7.807887e-01   \n",
       "50%    1.750826e-01  1.727744e-01  1.177522e-02 -5.925725e-02   -1.049914e-01   \n",
       "75%    7.578332e-01  7.268819e-01  6.092744e-01  6.616676e-01    6.417647e-01   \n",
       "max    2.422835e+00  2.439578e+00  2.367274e+01  4.072550e+00    5.085132e+00   \n",
       "\n",
       "       viscera_weight  shell_weight        rings  \n",
       "count    4.171000e+03  4.171000e+03  4171.000000  \n",
       "mean    -2.722242e-15  8.688008e-16     9.931671  \n",
       "std      1.000000e+00  1.000000e+00     3.222579  \n",
       "min     -1.642860e+00 -1.704876e+00     1.000000  \n",
       "25%     -7.965691e-01 -7.815833e-01     8.000000  \n",
       "50%     -8.714475e-02 -3.432716e-02     9.000000  \n",
       "75%      6.587773e-01  6.464663e-01    11.000000  \n",
       "max      5.287144e+00  5.505428e+00    29.000000  "
      ]
     },
     "execution_count": 27,
     "metadata": {},
     "output_type": "execute_result"
    }
   ],
   "source": [
    "df.describe()"
   ]
  },
  {
   "cell_type": "markdown",
   "metadata": {},
   "source": [
    "# Basic plotting"
   ]
  },
  {
   "cell_type": "code",
   "execution_count": 31,
   "metadata": {},
   "outputs": [
    {
     "data": {
      "image/png": "[encoded data removed]",
      "text/plain": [
       "<matplotlib.figure.Figure at 0x7f685c49f860>"
      ]
     },
     "metadata": {},
     "output_type": "display_data"
    }
   ],
   "source": [
    "df.length.plot.box(figsize=(8,8)); # the semicolon is to stop Jupyter from \"printing\" the figure as well"
   ]
  },
  {
   "cell_type": "code",
   "execution_count": 29,
   "metadata": {},
   "outputs": [
    {
     "data": {
      "image/png": "[encoded data removed]",
      "text/plain": [
       "<matplotlib.figure.Figure at 0x7f6864072c88>"
      ]
     },
     "metadata": {},
     "output_type": "display_data"
    }
   ],
   "source": [
    "df.length.plot.hist(bins=20);"
   ]
  },
  {
   "cell_type": "code",
   "execution_count": 30,
   "metadata": {},
   "outputs": [
    {
     "data": {
      "image/png": "[encoded data removed]",
      "text/plain": [
       "<matplotlib.figure.Figure at 0x7f685c776630>"
      ]
     },
     "metadata": {},
     "output_type": "display_data"
    }
   ],
   "source": [
    "df.plot.scatter(\"length\", \"rings\", figsize=(8,8));"
   ]
  }
 ],
 "metadata": {
  "kernelspec": {
   "display_name": "Python 3",
   "language": "python",
   "name": "python3"
  },
  "language_info": {
   "codemirror_mode": {
    "name": "ipython",
    "version": 3
   },
   "file_extension": ".py",
   "mimetype": "text/x-python",
   "name": "python",
   "nbconvert_exporter": "python",
   "pygments_lexer": "ipython3",
   "version": "3.6.6"
  },
  "toc": {
   "base_numbering": 1,
   "nav_menu": {},
   "number_sections": true,
   "sideBar": true,
   "skip_h1_title": false,
   "title_cell": "Table of Contents",
   "title_sidebar": "Contents",
   "toc_cell": false,
   "toc_position": {
    "height": "calc(100% - 180px)",
    "left": "10px",
    "top": "150px",
    "width": "261.667px"
   },
   "toc_section_display": true,
   "toc_window_display": true
  },
  "varInspector": {
   "cols": {
    "lenName": 16,
    "lenType": 16,
    "lenVar": 40
   },
   "kernels_config": {
    "python": {
     "delete_cmd_postfix": "",
     "delete_cmd_prefix": "del ",
     "library": "var_list.py",
     "varRefreshCmd": "print(var_dic_list())"
    },
    "r": {
     "delete_cmd_postfix": ") ",
     "delete_cmd_prefix": "rm(",
     "library": "var_list.r",
     "varRefreshCmd": "cat(var_dic_list()) "
    }
   },
   "position": {
    "height": "544px",
    "left": "1549px",
    "right": "7px",
    "top": "103px",
    "width": "362px"
   },
   "types_to_exclude": [
    "module",
    "function",
    "builtin_function_or_method",
    "instance",
    "_Feature"
   ],
   "window_display": false
  }
 },
 "nbformat": 4,
 "nbformat_minor": 2
}
