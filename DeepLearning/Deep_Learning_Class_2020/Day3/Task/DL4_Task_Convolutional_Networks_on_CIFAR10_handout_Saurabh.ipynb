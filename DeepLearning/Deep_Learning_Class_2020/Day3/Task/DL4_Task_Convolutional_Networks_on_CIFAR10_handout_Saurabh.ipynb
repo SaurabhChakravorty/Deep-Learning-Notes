{
  "nbformat": 4,
  "nbformat_minor": 0,
  "metadata": {
    "accelerator": "GPU",
    "colab": {
      "name": "DL4_Task_Convolutional_Networks_on_CIFAR10_handout_Saurabh.ipynb",
      "provenance": [],
      "collapsed_sections": []
    },
    "kernelspec": {
      "display_name": "Python 3",
      "language": "python",
      "name": "python3"
    },
    "language_info": {
      "codemirror_mode": {
        "name": "ipython",
        "version": 3
      },
      "file_extension": ".py",
      "mimetype": "text/x-python",
      "name": "python",
      "nbconvert_exporter": "python",
      "pygments_lexer": "ipython3",
      "version": "3.7.9"
    },
    "toc": {
      "base_numbering": 1,
      "nav_menu": {},
      "number_sections": true,
      "sideBar": true,
      "skip_h1_title": false,
      "title_cell": "Table of Contents",
      "title_sidebar": "Contents",
      "toc_cell": false,
      "toc_position": {},
      "toc_section_display": true,
      "toc_window_display": false
    },
    "varInspector": {
      "cols": {
        "lenName": 16,
        "lenType": 16,
        "lenVar": 40
      },
      "kernels_config": {
        "python": {
          "delete_cmd_postfix": "",
          "delete_cmd_prefix": "del ",
          "library": "var_list.py",
          "varRefreshCmd": "print(var_dic_list())"
        },
        "r": {
          "delete_cmd_postfix": ") ",
          "delete_cmd_prefix": "rm(",
          "library": "var_list.r",
          "varRefreshCmd": "cat(var_dic_list()) "
        }
      },
      "types_to_exclude": [
        "module",
        "function",
        "builtin_function_or_method",
        "instance",
        "_Feature"
      ],
      "window_display": false
    }
  },
  "cells": [
    {
      "cell_type": "markdown",
      "metadata": {
        "id": "eSHhdguTHm0N"
      },
      "source": [
        "# Task: CIFAR-10 classification\n",
        "\n",
        "The [CIFAR-10 dataset](https://www.cs.toronto.edu/~kriz/cifar.html)\n",
        "\n",
        "> \"consists of 60000 32x32 colour images in 10 classes, with 6000 images per class. There are 50000 training images and 10000 test images.\n",
        "\n",
        ">The dataset is divided into five training batches and one test batch, each with 10000 images. The test batch contains exactly 1000 randomly-selected images from each class. The training batches contain the remaining images in random order, but some training batches may contain more images from one class than another. Between them, the training batches contain exactly 5000 images from each class.\"\n",
        "\n",
        "<img src=\"http://drive.google.com/uc?export=view&id=1wlfkvZgS0oBDwxKicWmYgtsJmP3IcMdj\">\n",
        "\n",
        "### Categories:\n",
        "\n",
        "- airplane \t\t\t\t\t\t\t\t\t\t\n",
        "- automobile \t\t\t\t\t\t\t\t\t\t\n",
        "- bird \t\t\t\t\t\t\t\t\t\t\n",
        "- cat \t\t\t\t\t\t\t\t\t\t\n",
        "- deer \t\t\t\t\t\t\t\t\t\t\n",
        "- dog \t\t\t\t\t\t\t\t\t\t\n",
        "- frog \t\t\t\t\t\t\t\t\t\t\n",
        "- horse \t\t\t\t\t\t\t\t\t\t\n",
        "- ship \t\t\t\t\t\t\t\t\t\t\n",
        "- truck"
      ]
    },
    {
      "cell_type": "markdown",
      "metadata": {
        "id": "TIX2ehpiHm0S"
      },
      "source": [
        "# Preliminaries"
      ]
    },
    {
      "cell_type": "code",
      "metadata": {
        "ExecuteTime": {
          "end_time": "2019-05-01T08:39:01.205778Z",
          "start_time": "2019-05-01T08:39:00.058811Z"
        },
        "id": "sTT_MyHltNm4"
      },
      "source": [
        "import numpy as np\n",
        "import os\n",
        "\n",
        "import tensorflow as tf\n",
        "from tensorflow.keras.layers import Input, Dense, Dropout, Conv2D, MaxPool2D, Flatten\n",
        "from tensorflow.keras.models import Model\n",
        "from tensorflow.keras.optimizers import Adadelta, Adam, SGD\n",
        "from tensorflow.keras.losses import sparse_categorical_crossentropy\n",
        "from tensorflow.keras.regularizers import l1\n",
        "from tensorflow.keras.backend import clear_session\n",
        "from tensorflow.keras.callbacks import TensorBoard\n",
        "from tensorflow.keras.initializers import glorot_normal\n",
        "# from tensorboardcolab import TensorBoardColab \n",
        "\n",
        "# Fix seeds for (hopefully) reproducible results\n",
        "from numpy.random import seed\n",
        "seed(14)\n",
        "tf.random.set_seed(19)"
      ],
      "execution_count": 1,
      "outputs": []
    },
    {
      "cell_type": "markdown",
      "metadata": {
        "id": "7d9_yHMEtNnG"
      },
      "source": [
        "Download the data if necessary and load it:"
      ]
    },
    {
      "cell_type": "code",
      "metadata": {
        "ExecuteTime": {
          "end_time": "2019-05-01T08:39:36.264800Z",
          "start_time": "2019-05-01T08:39:01.207234Z"
        },
        "id": "jFmPQL0xM_4p",
        "outputId": "e94c7e9c-d09b-4015-cc3f-cca5cfd1baf1",
        "colab": {
          "base_uri": "https://localhost:8080/",
          "height": 54
        }
      },
      "source": [
        "train, test = tf.keras.datasets.cifar10.load_data()\n",
        "\n",
        "train_images, train_labels = train\n",
        "\n",
        "valid_test_images, valid_test_labels = test\n",
        "\n",
        "train_images = train_images / 255.\n",
        "\n",
        "valid_test_images = valid_test_images / 255.\n",
        "\n",
        "valid_images = valid_test_images[:5000]\n",
        "valid_labels = valid_test_labels[:5000]\n",
        "test_images = valid_test_images[5000:]\n",
        "test_labels = valid_test_labels[5000:]\n",
        "\n",
        "print(train_images.shape, valid_images.shape, test_images.shape)\n",
        "print(train_labels.shape, valid_labels.shape, test_labels.shape)"
      ],
      "execution_count": 2,
      "outputs": [
        {
          "output_type": "stream",
          "text": [
            "(50000, 32, 32, 3) (5000, 32, 32, 3) (5000, 32, 32, 3)\n",
            "(50000, 1) (5000, 1) (5000, 1)\n"
          ],
          "name": "stdout"
        }
      ]
    },
    {
      "cell_type": "markdown",
      "metadata": {
        "id": "QxyeFqibHm05"
      },
      "source": [
        "# Model\n",
        "\n",
        "## Parameters"
      ]
    },
    {
      "cell_type": "code",
      "metadata": {
        "ExecuteTime": {
          "end_time": "2019-05-01T08:39:36.268218Z",
          "start_time": "2019-05-01T08:39:36.266265Z"
        },
        "id": "S075_4a6tNna"
      },
      "source": [
        "n_classes = 10"
      ],
      "execution_count": 3,
      "outputs": []
    },
    {
      "cell_type": "code",
      "metadata": {
        "ExecuteTime": {
          "end_time": "2019-05-01T08:39:36.277888Z",
          "start_time": "2019-05-01T08:39:36.269933Z"
        },
        "id": "8mQXQrkwihAr"
      },
      "source": [
        "# TASK - Hyperparameters\n",
        "# Fill in the initial values!\n",
        "# Later, experiment!\n",
        "#############################\n",
        "\n",
        "\n",
        "# dropout - Something between 0.0 < dropout_rate < 1.0, think in \"tens of percentages\" as default\n",
        "# dropout rate for conv layers\n",
        "dropout_rate_1 = 0.25\n",
        "# dropout rate for fully connected layers\n",
        "dropout_rate_2 = 0.45\n",
        "\n",
        "# Choose an appropriate batch size for the training!\n",
        "batch_size = 128\n",
        "\n",
        "# Choose an appropriate number of epochs\n",
        "epoch_count = 30\n",
        "# These are the default parameters, you can experiment with learning rates, schedules, ..."
      ],
      "execution_count": 4,
      "outputs": []
    },
    {
      "cell_type": "markdown",
      "metadata": {
        "id": "ACdo3SEitNnl"
      },
      "source": [
        "## Network"
      ]
    },
    {
      "cell_type": "code",
      "metadata": {
        "ExecuteTime": {
          "end_time": "2019-05-01T08:39:36.404889Z",
          "start_time": "2019-05-01T08:39:36.282271Z"
        },
        "id": "o8OgyCFaHm1H",
        "outputId": "a717ab93-bd2c-4181-f81f-b479c8f4a4ad",
        "colab": {
          "base_uri": "https://localhost:8080/",
          "height": 635
        }
      },
      "source": [
        "# adapted from https://github.com/jtopor/CUNY-MSDA-661/blob/master/CIFAR-CNN/TF-Layers-CIFAR-GITHUB-v3.py\n",
        "\n",
        "\n",
        "tf.compat.v1.reset_default_graph() # It's good practice to clean and reset everything\n",
        "clear_session()          # even using Keras\n",
        "\n",
        "\n",
        "# WE USE FUNCTIONAL API!\n",
        "# (Could be different, but not now...)\n",
        "\n",
        "\n",
        "\n",
        "# Model\n",
        "#######\n",
        "\n",
        "# Define the input!\n",
        "# Remember, we have pictures with 32x32 pixels and 3 color channels\n",
        "# Disregard batch size, Keras will do that for us.\n",
        "x = Input((train_images.shape)[1:])\n",
        "\n",
        "# Convolutional Layer #1: (batch_size, 32, 32, 3) -> (batch_size, 32, 32, 64)\n",
        "# Define a \"normal\" convolutional layer for images (not a single sequence, so ?D)\n",
        "# There should be 64 convolutional units\n",
        "# The kernel should be 5 in width and heigth\n",
        "# There should be padding so that the input and output dimensions would be equivalent\n",
        "# The non-linearity should be ReLU\n",
        "conv1 =  Conv2D(filters=64,\n",
        "      kernel_size=[5,5],\n",
        "      padding=\"same\",\n",
        "      activation='relu')(x)\n",
        "# Pooling Layer #1: (batch_size, 32, 32, 64) -> (batch_size, 16, 16, 64)\n",
        "# Define a maximum based pooling layer with appropriate dimensions\n",
        "# The pooling size should be 2,2 and stride 2\n",
        "pool1 = MaxPool2D(pool_size =(2,2), strides=2)(conv1)\n",
        "\n",
        "# Define a dropout layer with using the first dropout rate parameter\n",
        "dropout1 = Dropout(rate=dropout_rate_1)(pool1)\n",
        "\n",
        "# Convolutional Layer #2: (batch_size, 16, 16, 64) -> (batch_size, 16, 16, 64)\n",
        "# Repeat the prior conv layer\n",
        "# Watch for the right input\n",
        "conv2 =  Conv2D(filters=64,\n",
        "      kernel_size=[5, 5],\n",
        "      padding=\"same\",\n",
        "      activation='relu')(dropout1)\n",
        " \n",
        "\n",
        "  \n",
        "# Pooling Layer #2: (batch_size, 16, 16, 64) -> (batch_size, 8, 8, 64)\n",
        "# Repeat the prior pooling layer\n",
        "# Watch for the right input\n",
        "pool2 = MaxPool2D(pool_size=[2, 2], strides=2)(conv2)\n",
        "\n",
        "# Define a dropout layer with using the FIRST dropout rate parameter\n",
        "dropout2 = Dropout(rate=dropout_rate_2)(pool2)\n",
        "\n",
        "\n",
        "# Convert tensors into vectors: (batch_size, 8, 8, 64) -> (batch_size, 4096)\n",
        "# Use a single KERAS function, NO numpy or reshape magic!\n",
        "# Hint: the result is not 2D but \"flat\"\n",
        "pool2_flat = Flatten()(dropout2)\n",
        "\n",
        "# Fully connected Layer #1: (batch_size, 4096)-> (batch_size, 512)\n",
        "# Define a fully connected layer with 512 nodes and ReLU\n",
        "dense1 = Dense(units=512, activation='relu',kernel_initializer=\"he_uniform\",bias_initializer='zeros',\n",
        "               kernel_regularizer=l1(0.0001))(pool2_flat)\n",
        "\n",
        "# Define a dropout layer with using the SECOND dropout rate parameter\n",
        "dropout3 =  Dropout(rate=dropout_rate_2)(dense1)\n",
        "\n",
        "# Dense Layer #1: (batch_size, 512)-> (batch_size, 256)\n",
        "# Define a fully connected layer with 256 nodes and ReLU\n",
        "dense2 = Dense( units=256, activation='relu',kernel_initializer=\"he_uniform\",bias_initializer='zeros',\n",
        "               kernel_regularizer=l1(0.0001))(dropout3)\n",
        "\n",
        "# Define a dropout layer with using the SECOND dropout rate parameter\n",
        "dropout4 = Dropout(rate=dropout_rate_2)(dense2)\n",
        "\n",
        "# Logits layer: (batch_size, 256) -> (batch_size, 10)\n",
        "# Define a fully connected layer with ??? nodes\n",
        "# Think about it, what shape should the output be?\n",
        "# What activation?\n",
        "# Think about it: we are in a classification problem!\n",
        "predictions =  Dense(units=10,,kernel_initializer=\"he_uniform\",activation=\"softmax\")(dropout4)\n",
        "\n",
        "# Full model\n",
        "# Instantiate (initialize) the model with inputs and outputs\n",
        "model = Model(x,predictions)\n",
        "\n",
        "model.summary()\n"
      ],
      "execution_count": 5,
      "outputs": [
        {
          "output_type": "stream",
          "text": [
            "Model: \"functional_1\"\n",
            "_________________________________________________________________\n",
            "Layer (type)                 Output Shape              Param #   \n",
            "=================================================================\n",
            "input_1 (InputLayer)         [(None, 32, 32, 3)]       0         \n",
            "_________________________________________________________________\n",
            "conv2d (Conv2D)              (None, 32, 32, 64)        4864      \n",
            "_________________________________________________________________\n",
            "max_pooling2d (MaxPooling2D) (None, 16, 16, 64)        0         \n",
            "_________________________________________________________________\n",
            "dropout (Dropout)            (None, 16, 16, 64)        0         \n",
            "_________________________________________________________________\n",
            "conv2d_1 (Conv2D)            (None, 16, 16, 64)        102464    \n",
            "_________________________________________________________________\n",
            "max_pooling2d_1 (MaxPooling2 (None, 8, 8, 64)          0         \n",
            "_________________________________________________________________\n",
            "dropout_1 (Dropout)          (None, 8, 8, 64)          0         \n",
            "_________________________________________________________________\n",
            "flatten (Flatten)            (None, 4096)              0         \n",
            "_________________________________________________________________\n",
            "dense (Dense)                (None, 512)               2097664   \n",
            "_________________________________________________________________\n",
            "dropout_2 (Dropout)          (None, 512)               0         \n",
            "_________________________________________________________________\n",
            "dense_1 (Dense)              (None, 256)               131328    \n",
            "_________________________________________________________________\n",
            "dropout_3 (Dropout)          (None, 256)               0         \n",
            "_________________________________________________________________\n",
            "dense_2 (Dense)              (None, 10)                2570      \n",
            "=================================================================\n",
            "Total params: 2,338,890\n",
            "Trainable params: 2,338,890\n",
            "Non-trainable params: 0\n",
            "_________________________________________________________________\n"
          ],
          "name": "stdout"
        }
      ]
    },
    {
      "cell_type": "markdown",
      "metadata": {
        "id": "LGKQ-8bmtNn1"
      },
      "source": [
        "## Loss, optimization and compilation"
      ]
    },
    {
      "cell_type": "markdown",
      "metadata": {
        "id": "mq6B3kf6gU7M"
      },
      "source": [
        ""
      ]
    },
    {
      "cell_type": "code",
      "metadata": {
        "ExecuteTime": {
          "end_time": "2019-05-01T08:39:36.473837Z",
          "start_time": "2019-05-01T08:39:36.407595Z"
        },
        "id": "j1UmvSzLHm1R"
      },
      "source": [
        "# Loss \n",
        "\n",
        "loss = sparse_categorical_crossentropy # we use this cross entropy variant as the input is not \n",
        "                                       # one-hot encoded\n",
        "\n",
        "# Optimizer\n",
        "# Choose an optimizer - adaptive ones work well here\n",
        "optimizer = Adam(learning_rate=0.0001)\n",
        " \n",
        "# Compilation\n",
        "#############\n",
        "\n",
        "model.compile(optimizer=optimizer, loss=loss, metrics=['accuracy'])"
      ],
      "execution_count": 6,
      "outputs": []
    },
    {
      "cell_type": "markdown",
      "metadata": {
        "id": "gkPe16fDtNoJ"
      },
      "source": [
        "## Training\n",
        "\n",
        "### Let's train the model on GPU\n",
        "- List the devices and put it in training with GPU\n",
        "- Manage the session to run\n"
      ]
    },
    {
      "cell_type": "code",
      "metadata": {
        "id": "EbntCN4C8yJR",
        "outputId": "1526cacb-fd50-4f03-f00d-6cd6ec4da6e3",
        "colab": {
          "base_uri": "https://localhost:8080/",
          "height": 581
        }
      },
      "source": [
        "from keras.utils import multi_gpu_model\n",
        "from tensorflow.python.client import device_lib\n",
        "import tensorflow as tf\n",
        "print(device_lib.list_local_devices())"
      ],
      "execution_count": 7,
      "outputs": [
        {
          "output_type": "stream",
          "text": [
            "[name: \"/device:CPU:0\"\n",
            "device_type: \"CPU\"\n",
            "memory_limit: 268435456\n",
            "locality {\n",
            "}\n",
            "incarnation: 17472238221523091722\n",
            ", name: \"/device:XLA_CPU:0\"\n",
            "device_type: \"XLA_CPU\"\n",
            "memory_limit: 17179869184\n",
            "locality {\n",
            "}\n",
            "incarnation: 10984159062404552735\n",
            "physical_device_desc: \"device: XLA_CPU device\"\n",
            ", name: \"/device:XLA_GPU:0\"\n",
            "device_type: \"XLA_GPU\"\n",
            "memory_limit: 17179869184\n",
            "locality {\n",
            "}\n",
            "incarnation: 7828282643699632717\n",
            "physical_device_desc: \"device: XLA_GPU device\"\n",
            ", name: \"/device:GPU:0\"\n",
            "device_type: \"GPU\"\n",
            "memory_limit: 14640891840\n",
            "locality {\n",
            "  bus_id: 1\n",
            "  links {\n",
            "  }\n",
            "}\n",
            "incarnation: 2943965181295894975\n",
            "physical_device_desc: \"device: 0, name: Tesla T4, pci bus id: 0000:00:04.0, compute capability: 7.5\"\n",
            "]\n"
          ],
          "name": "stdout"
        }
      ]
    },
    {
      "cell_type": "code",
      "metadata": {
        "ExecuteTime": {
          "end_time": "2019-05-01T08:51:59.029061Z",
          "start_time": "2019-05-01T08:39:36.475186Z"
        },
        "id": "zZ1d14lFtNoM",
        "outputId": "342f4176-e182-43e1-9e97-bc55cb8fe551",
        "colab": {
          "base_uri": "https://localhost:8080/",
          "height": 1000
        }
      },
      "source": [
        "# Running the model\n",
        "with tf.device('/gpu:0'):\n",
        " history = model.fit(x=train_images, y=train_labels,\n",
        "                    validation_data=(valid_images, valid_labels),\n",
        "                    epochs=epoch_count,\n",
        "                    batch_size=batch_size)"
      ],
      "execution_count": 11,
      "outputs": [
        {
          "output_type": "stream",
          "text": [
            "Epoch 1/30\n",
            "391/391 [==============================] - 4s 10ms/step - loss: 1.1086 - accuracy: 0.7343 - val_loss: 1.0441 - val_accuracy: 0.7558\n",
            "Epoch 2/30\n",
            "391/391 [==============================] - 4s 9ms/step - loss: 1.1034 - accuracy: 0.7327 - val_loss: 1.0470 - val_accuracy: 0.7568\n",
            "Epoch 3/30\n",
            "391/391 [==============================] - 4s 9ms/step - loss: 1.1032 - accuracy: 0.7351 - val_loss: 1.0461 - val_accuracy: 0.7574\n",
            "Epoch 4/30\n",
            "391/391 [==============================] - 4s 9ms/step - loss: 1.0971 - accuracy: 0.7370 - val_loss: 1.0524 - val_accuracy: 0.7554\n",
            "Epoch 5/30\n",
            "391/391 [==============================] - 4s 9ms/step - loss: 1.0944 - accuracy: 0.7389 - val_loss: 1.0422 - val_accuracy: 0.7608\n",
            "Epoch 6/30\n",
            "391/391 [==============================] - 4s 9ms/step - loss: 1.0875 - accuracy: 0.7404 - val_loss: 1.0478 - val_accuracy: 0.7542\n",
            "Epoch 7/30\n",
            "391/391 [==============================] - 4s 10ms/step - loss: 1.0843 - accuracy: 0.7410 - val_loss: 1.0363 - val_accuracy: 0.7580\n",
            "Epoch 8/30\n",
            "391/391 [==============================] - 4s 10ms/step - loss: 1.0849 - accuracy: 0.7413 - val_loss: 1.0312 - val_accuracy: 0.7598\n",
            "Epoch 9/30\n",
            "391/391 [==============================] - 4s 10ms/step - loss: 1.0743 - accuracy: 0.7448 - val_loss: 1.0519 - val_accuracy: 0.7534\n",
            "Epoch 10/30\n",
            "391/391 [==============================] - 4s 9ms/step - loss: 1.0801 - accuracy: 0.7433 - val_loss: 1.0421 - val_accuracy: 0.7584\n",
            "Epoch 11/30\n",
            "391/391 [==============================] - 4s 10ms/step - loss: 1.0707 - accuracy: 0.7488 - val_loss: 1.0363 - val_accuracy: 0.7580\n",
            "Epoch 12/30\n",
            "391/391 [==============================] - 4s 9ms/step - loss: 1.0691 - accuracy: 0.7488 - val_loss: 1.0369 - val_accuracy: 0.7586\n",
            "Epoch 13/30\n",
            "391/391 [==============================] - 4s 9ms/step - loss: 1.0664 - accuracy: 0.7489 - val_loss: 1.0211 - val_accuracy: 0.7642\n",
            "Epoch 14/30\n",
            "391/391 [==============================] - 4s 10ms/step - loss: 1.0654 - accuracy: 0.7497 - val_loss: 1.0273 - val_accuracy: 0.7638\n",
            "Epoch 15/30\n",
            "391/391 [==============================] - 4s 9ms/step - loss: 1.0614 - accuracy: 0.7544 - val_loss: 1.0371 - val_accuracy: 0.7590\n",
            "Epoch 16/30\n",
            "391/391 [==============================] - 4s 10ms/step - loss: 1.0569 - accuracy: 0.7534 - val_loss: 1.0300 - val_accuracy: 0.7658\n",
            "Epoch 17/30\n",
            "391/391 [==============================] - 4s 10ms/step - loss: 1.0600 - accuracy: 0.7512 - val_loss: 1.0415 - val_accuracy: 0.7616\n",
            "Epoch 18/30\n",
            "391/391 [==============================] - 4s 9ms/step - loss: 1.0520 - accuracy: 0.7537 - val_loss: 1.0253 - val_accuracy: 0.7652\n",
            "Epoch 19/30\n",
            "391/391 [==============================] - 4s 10ms/step - loss: 1.0498 - accuracy: 0.7557 - val_loss: 1.0247 - val_accuracy: 0.7668\n",
            "Epoch 20/30\n",
            "391/391 [==============================] - 4s 9ms/step - loss: 1.0421 - accuracy: 0.7586 - val_loss: 1.0183 - val_accuracy: 0.7636\n",
            "Epoch 21/30\n",
            "391/391 [==============================] - 4s 9ms/step - loss: 1.0474 - accuracy: 0.7578 - val_loss: 1.0205 - val_accuracy: 0.7634\n",
            "Epoch 22/30\n",
            "391/391 [==============================] - 4s 9ms/step - loss: 1.0392 - accuracy: 0.7606 - val_loss: 1.0293 - val_accuracy: 0.7650\n",
            "Epoch 23/30\n",
            "391/391 [==============================] - 4s 10ms/step - loss: 1.0417 - accuracy: 0.7591 - val_loss: 1.0366 - val_accuracy: 0.7646\n",
            "Epoch 24/30\n",
            "391/391 [==============================] - 4s 9ms/step - loss: 1.0342 - accuracy: 0.7625 - val_loss: 1.0135 - val_accuracy: 0.7700\n",
            "Epoch 25/30\n",
            "391/391 [==============================] - 4s 9ms/step - loss: 1.0358 - accuracy: 0.7628 - val_loss: 1.0126 - val_accuracy: 0.7696\n",
            "Epoch 26/30\n",
            "391/391 [==============================] - 4s 9ms/step - loss: 1.0280 - accuracy: 0.7660 - val_loss: 1.0204 - val_accuracy: 0.7680\n",
            "Epoch 27/30\n",
            "391/391 [==============================] - 4s 9ms/step - loss: 1.0233 - accuracy: 0.7671 - val_loss: 1.0196 - val_accuracy: 0.7774\n",
            "Epoch 28/30\n",
            "391/391 [==============================] - 4s 9ms/step - loss: 1.0268 - accuracy: 0.7674 - val_loss: 1.0169 - val_accuracy: 0.7662\n",
            "Epoch 29/30\n",
            "391/391 [==============================] - 4s 9ms/step - loss: 1.0295 - accuracy: 0.7641 - val_loss: 1.0245 - val_accuracy: 0.7684\n",
            "Epoch 30/30\n",
            "391/391 [==============================] - 4s 10ms/step - loss: 1.0261 - accuracy: 0.7668 - val_loss: 1.0034 - val_accuracy: 0.7740\n"
          ],
          "name": "stdout"
        }
      ]
    },
    {
      "cell_type": "code",
      "metadata": {
        "ExecuteTime": {
          "end_time": "2019-05-01T08:56:28.958057Z",
          "start_time": "2019-05-01T08:56:28.713031Z"
        },
        "id": "6GTGeChttNoi",
        "outputId": "8995ecbd-f074-4a37-a4d5-3186ee671287",
        "colab": {
          "base_uri": "https://localhost:8080/",
          "height": 573
        }
      },
      "source": [
        "from matplotlib import pyplot as plt\n",
        "\n",
        "def display_history(history):\n",
        "    \"\"\"Summarize history for accuracy and loss.\n",
        "    \"\"\"\n",
        "    plt.plot(history.history['accuracy'])\n",
        "    plt.plot(history.history['val_accuracy'])\n",
        "    plt.title('Model accuracy')\n",
        "    plt.ylabel('accuracy')\n",
        "    plt.xlabel('epoch')\n",
        "    plt.legend(['train', 'valid'], loc='upper left')\n",
        "    plt.show()\n",
        "    plt.plot(history.history['loss'])\n",
        "    plt.plot(history.history['val_loss'])\n",
        "    plt.title('Model loss')\n",
        "    plt.ylabel('loss')\n",
        "    plt.xlabel('epoch')\n",
        "    plt.legend(['train', 'valid'], loc='upper left')\n",
        "    plt.show()\n",
        "    \n",
        "display_history(history);"
      ],
      "execution_count": 12,
      "outputs": [
        {
          "output_type": "display_data",
          "data": {
            "image/png": "[encoded data removed]",
            "text/plain": [
              "<Figure size 432x288 with 1 Axes>"
            ]
          },
          "metadata": {
            "tags": [],
            "needs_background": "light"
          }
        },
        {
          "output_type": "display_data",
          "data": {
            "image/png": "[encoded data removed]",
            "text/plain": [
              "<Figure size 432x288 with 1 Axes>"
            ]
          },
          "metadata": {
            "tags": [],
            "needs_background": "light"
          }
        }
      ]
    },
    {
      "cell_type": "code",
      "metadata": {
        "ExecuteTime": {
          "end_time": "2019-05-01T08:52:07.228831Z",
          "start_time": "2019-05-01T08:52:07.222761Z"
        },
        "id": "VpPjQ3DmihA_"
      },
      "source": [
        "assert max(history.history['val_accuracy']) > 0.75"
      ],
      "execution_count": 13,
      "outputs": []
    },
    {
      "cell_type": "markdown",
      "metadata": {
        "id": "O7nD81aQtNo3"
      },
      "source": [
        "## Saving the model"
      ]
    },
    {
      "cell_type": "code",
      "metadata": {
        "ExecuteTime": {
          "end_time": "2019-05-01T08:52:10.803767Z",
          "start_time": "2019-05-01T08:52:10.663477Z"
        },
        "id": "XcFR3MkStNo5"
      },
      "source": [
        "model.save('my_model.h5')  # creates a HDF5 file 'my_model.h5'"
      ],
      "execution_count": 14,
      "outputs": []
    },
    {
      "cell_type": "code",
      "metadata": {
        "id": "ns5g54Wdjc2F"
      },
      "source": [
        ""
      ],
      "execution_count": null,
      "outputs": []
    }
  ]
}