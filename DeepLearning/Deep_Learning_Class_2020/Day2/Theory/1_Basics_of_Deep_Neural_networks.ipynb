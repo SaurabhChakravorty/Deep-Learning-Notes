{
 "cells": [
  {
   "cell_type": "markdown",
   "metadata": {
    "colab_type": "text",
    "id": "6hv4C2GUAix4"
   },
   "source": [
    "<a id=\"historyagain\"></a>\n",
    "# History revisited\n",
    "\n",
    "- During \"winter\" for neural models, some researchers worked - mainly in isolation - on problems regarding neural models\n",
    "- Results paved way for a later \"revolution\"\n",
    "\n",
    "- Amongst them [Georg Cybenko](https://en.wikipedia.org/wiki/George_Cybenko) \n",
    "- Proof of  \"universal approximaiton theorem\" (see below)\n",
    "- Together with the backpropagation algorithm applied by Hinton, gave new hope to research in multi layer neural networks\n",
    "\n",
    "<img src=\"https://c1.staticflickr.com/9/8568/15881996631_f9029074d5_b.jpg\" width=600 heigth=600>\n",
    "\n",
    "(After the theorem, Cybenko shifted his attention to other areas and problems of mathematics, and thus is not part of the \"deep learning movement\".)  "
   ]
  },
  {
   "cell_type": "markdown",
   "metadata": {
    "colab_type": "text",
    "id": "iAy-KLGKVgdO"
   },
   "source": [
    "## Universal approximation theorem (Cybenko, 1989)\n",
    "\n",
    "Let $F$ be a continuous function on a closed and bounded subset of $\\mathbb R^n$ and $\\sigma$ any sigmoid-like function, that is, $\\sigma:\\mathbb R\\rightarrow\\mathbb R$, continuous and $\\lim_{x \\to -\\infty} \\sigma(x) = 0$ and $\\lim_{x \\to \\infty} \\sigma(x) = 1$. Then for any $\\epsilon>0$ there exists a $\\hat{f}$ finite neural network with a single hidden layer whose activation function is $\\sigma$  and which is closer to $f$ than $\\epsilon$, that is,\n",
    "\n",
    "$$\\forall \\mathbf x \\in \\mathrm{Dom}(f): \\left|~f(\\mathbf x) - \\hat{f}(\\mathbf x)\\right|< \\epsilon$$\n",
    "\n",
    "Original paper: https://www.dartmouth.edu/~gvc/Cybenko_MCSS.pdf. Somewhat clearer version of the original proof: http://mcneela.github.io/machine_learning/2017/03/21/Universal-Approximation-Theorem.html.\n",
    "\n",
    "Illustration:\n",
    "\n",
    "<img src=\"http://drive.google.com/uc?export=view&id=1xIKYRXMchV6B6C9WmhwK0qCENbkIYGiv\" style=\"width: 45%;\">\n",
    "\n",
    "[Source](http://citeseerx.ist.psu.edu/viewdoc/download?doi=10.1.1.101.2647&rep=rep1&type=pdf)\n",
    "\n",
    "\n",
    "### Some generalizations\n",
    "\n",
    "- Hornik, 1990: The theorem also holds for continuous, bounded and not constant activation functions: http://zmjones.com/static/statistical-learning/hornik-nn-1991.pdf\n",
    "\n",
    "- Leshno et al, 1993: It is enough to require piecewise continuity and so called local boundedness if the function is not polynomial.\n"
   ]
  },
  {
   "cell_type": "markdown",
   "metadata": {
    "colab_type": "text",
    "id": "n2B0tCZqR1I8"
   },
   "source": [
    "### Intuitive explanation\n",
    "\n",
    "- Intuitive explanation of the theorem can be found in [Chapter 4 of Neural Networks and Deep Learning]\n",
    "- Function approximations can be put together from basic blocks of linear functions and sigmoid-like nonlinearities (http://neuralnetworksanddeeplearning.com/chap4.html)."
   ]
  },
  {
   "cell_type": "markdown",
   "metadata": {},
   "source": [
    "## Learning method for deep architectures: Backpropagation\n",
    "\n",
    "Parameter optimization with Gradient Descent requires at every step of the process the calculation of\n",
    "+ The loss: value of  $L$ loss function on the training data set $D=\\{d_1,\\dots,d_N\\}$ with actual parameters $\\theta$: $$L_D(\\theta)$$\n",
    "+ The gradient of the loss in respect to a change for the actual parameters:\n",
    "$$\\frac{\\partial L_D(\\theta)}{\\partial \\theta}.$$\n",
    "\n",
    "Since the loss is typically the average of losses on the examples of the dataset, both calculation tasks can be reformulated in terms of the loss and gradient on individual examples:\n",
    "\n",
    "$$L_D(\\theta) = \\frac{1}{N}\\sum_d L_d(\\theta)$$\n",
    "\n",
    " $$\\frac{\\partial L_D(\\theta)}{\\partial \\theta}=\\frac{1}{N}\\sum_d\\frac{\\partial L_d(\\theta)}{\\partial \\theta}$$\n",
    "\n",
    "\n",
    "Note: derivation task is NOT symbolic -> not interested in derivative of $L$ in general (e.g. as a symbolic formula) but only its numerical value for the actual parameters.\n",
    "\n",
    "\n",
    "Key for the solution is that we can build a circuit-like _computational graph_ for the loss:\n",
    "- Parameters and training data are inputs entering at the leaves \n",
    "- Nodes are simple _mathematical operations_ that act as gates transforming their numeric inputs to outputs\n",
    "- Mathematical operations in question typically (at least piecemeal) differentiable functions of inputs\n",
    "\n",
    "-> Repeated functional transformation\n",
    "\n",
    "\n",
    "### A toy example\n",
    "\n",
    "Regression task with training data  $\\langle  x_1,y_1\\rangle, \\dots,\\langle x_N,y_N\\rangle$ using the \"network\"\n",
    "\n",
    "<img src=\"http://drive.google.com/uc?export=view&id=1xbYaI7j7AcBFvOyI80XJAlWmkeuxOCfH\" width=\"150\">\n",
    "\n",
    "which computes \n",
    "\n",
    "$$\\hat{y} = w\\cdot x  + b$$\n",
    "\n",
    "as a prediction for an $x$ input. Using squared loss, loss for a single $d=\\langle x, y\\rangle$ example:\n",
    "\n",
    "$$L_d(\\langle w, b \\rangle) = (\\hat y -y)^2 = (wx + b - y)^2\n",
    "$$\n",
    "corresponding computational graph can be \n",
    "\n",
    "<img src=\"http://drive.google.com/uc?export=view&id=1517qyzShAbQ5flRIVXErIxmwI1GFwmDS\" width=\"500\">\n",
    "\n",
    "### Forward pass\n",
    "\n",
    "Assume current parameter values are $w = 3$ and $b = 2$, and the current example is $x = 4, y = 5$. To calculate loss on this training example, have to calculate final output of graph by calculating output of all internal operation nodes/gates as values flow from left to right:\n",
    "\n",
    "<img src=\"http://drive.google.com/uc?export=view&id=1YRkPfxLl8vkaKANFz0yoxhv-jmY2fPrD\" width=\"500px\">"
   ]
  },
  {
   "cell_type": "code",
   "execution_count": 1,
   "metadata": {
    "ExecuteTime": {
     "end_time": "2020-10-04T08:26:41.348152Z",
     "start_time": "2020-10-04T08:26:41.002423Z"
    },
    "colab": {},
    "colab_type": "code",
    "id": "jTp7VCbAyBu9"
   },
   "outputs": [],
   "source": [
    "import numpy as np\n",
    "import matplotlib.pyplot as plt\n",
    "import scipy as sp\n",
    "import scipy.stats\n",
    "plt.rcParams['axes.labelsize'] = 14\n",
    "plt.rcParams['xtick.labelsize'] = 12\n",
    "plt.rcParams['ytick.labelsize'] = 12\n",
    "import warnings\n",
    "warnings.filterwarnings(\"ignore\")\n",
    "%matplotlib inline"
   ]
  },
  {
   "cell_type": "code",
   "execution_count": 2,
   "metadata": {
    "ExecuteTime": {
     "end_time": "2020-10-04T08:26:41.352082Z",
     "start_time": "2020-10-04T08:26:41.349176Z"
    }
   },
   "outputs": [
    {
     "name": "stdout",
     "output_type": "stream",
     "text": [
      "The loss for w=3, b=2, x=4 and y=5 is 81.\n"
     ]
    }
   ],
   "source": [
    "x = 4; y = 5; w = 3; b = 2\n",
    "prod = x * w\n",
    "y_hat  = prod + b\n",
    "error = y_hat - y\n",
    "loss = error ** 2\n",
    "print(f\"The loss for w={w}, b={b}, x={x} and y={y} is {loss}.\")"
   ]
  },
  {
   "cell_type": "markdown",
   "metadata": {},
   "source": [
    "And that is all for the __forward pass__ on our computational graph.\n",
    "\n",
    "### Backpropagation\n",
    "\n",
    "Having calculated the value of the loss function for the current example, our next task is to compute the gradient of the parameters:\n",
    "\n",
    "$$\\frac{\\partial L_d(\\theta)}{\\partial \\theta}= \\left\\langle \\frac{\\partial L_d(w)}{\\partial w}, \\frac{\\partial L_d(b)}{\\partial b}\\right\\rangle\n",
    "$$\n",
    "\n",
    "for which we have to calculate the partial derivative of the loss with respect to $w$ and $b$. Somewhat surprisingly, in this case we can work backwards, from right to left by computing partial derivatives with respect to the operation outputs until we reach the partial derivatives of $L$ we are interested in, with respect to $w$ and $b$. (This is the so called \"backpropagation of error\" [although \"backpropagation of loss\" would be more precise on our case]).\n",
    "\n",
    "The mathematical ground for doing so is the **chain rule** for derivatives, according to which\n",
    "\n",
    "$$\n",
    "\\frac{\\partial F}{\\partial \\alpha} = \\frac{\\partial F}{\\partial \\beta} \\cdot \\frac{\\partial \\beta}{\\partial \\alpha}\n",
    "$$\n",
    "which, for our purposes, means that we can calculate the derivative of the loss with respect to any value $\\alpha$ in the computational graph which is the input of an $f$ operation with the $\\beta$ output simply as\n",
    "\n",
    "$$\n",
    "\\frac{\\partial L}{\\partial \\alpha} = \\frac{\\partial L}{\\partial \\beta} \\cdot \\frac{\\partial \\beta}{\\partial \\alpha} = \n",
    "\\frac{\\partial L}{\\partial \\beta} \\cdot \\frac{\\partial f(\\alpha)}{\\partial \\alpha}\n",
    "$$\n",
    "\n",
    "To do that, we need to know the derivative of the operations in the graph, which are, fortunately, very simple:\n",
    "\n",
    "$$\n",
    "\\frac{\\partial x^2}{\\partial x} = 2x\n",
    "$$\n",
    "\n",
    "$$\n",
    "\\frac{\\partial (x - y)}{\\partial x} = 1, \\frac{\\partial (x - y)}{\\partial y} = -1\n",
    "$$\n",
    "\n",
    "$$\n",
    "\\frac{\\partial (x + y)}{\\partial x} = 1, \\frac{\\partial (x + y)}{\\partial y} = 1\n",
    "$$\n",
    "\n",
    "$$\n",
    "\\frac{\\partial (x \\cdot y)}{\\partial x} = y, \\frac{\\partial (x \\cdot y)}{\\partial y} = x\n",
    "$$\n",
    "\n",
    "\n",
    "\n",
    "\n",
    "Using these derivatives and applying the chain rule step by step the loss derivatives can be calculated as\n",
    "\n",
    "<img src=\"http://drive.google.com/uc?export=view&id=1johrny_RNeV14iatNruZ0h_jXhb6kCyj\" width=\"500px\">"
   ]
  },
  {
   "cell_type": "code",
   "execution_count": 3,
   "metadata": {
    "ExecuteTime": {
     "end_time": "2020-10-04T08:26:41.355991Z",
     "start_time": "2020-10-04T08:26:41.353253Z"
    }
   },
   "outputs": [
    {
     "name": "stdout",
     "output_type": "stream",
     "text": [
      "d_b is 18\n",
      "d_w is 72\n"
     ]
    }
   ],
   "source": [
    "d_error = 2 * error # for the first operation node we can directly calculate the derivative\n",
    "d_y_hat = d_error * 1\n",
    "d_b = d_y_hat * 1\n",
    "print(f\"d_b is {d_b}\")\n",
    "d_prod = d_y_hat * 1\n",
    "d_w = d_prod * x\n",
    "print(f\"d_w is {d_w}\")"
   ]
  },
  {
   "cell_type": "markdown",
   "metadata": {},
   "source": [
    "### Generalization\n",
    "- Method of computing loss and its gradient with recursive forward pass and backpropagation on a computational graph with simpler differentiable operations as nodes can be used to efficiently implement Gradient Descent for feed-forward neural networks in general. \n",
    "- All modern neural network frameworks use variants of this approach to implement gradient decent. \n",
    "- Important difference to our toy example is that \"real life\" computational graphs for neural networks mostly contain operations with higher dimensional (vector/matrix/tensor) arguments\n",
    "- Frameworks have to provide efficient implementations of the derivatives of these operations, e.g., that of matrix multiplication. \n",
    "\n",
    "Simple example of a __vectorized__ computational graph, consider the following network with a hidden layer:\n",
    "\n",
    "<img src=\"http://drive.google.com/uc?export=view&id=1F4TOpCCuRKh8Bvh7FJRKEXq7Ex-OS2Nr\" width=\"350px\">\n",
    "\n",
    "\n",
    "Mathematically, if the hidden layer's weights are $\\mathbf W = \\begin{bmatrix} w_{11} & w_{12} & w_{13} \\\\ w_{21} & w_{22} & w_{23}\\end{bmatrix}$, its biases are  $\\mathbf {b}^h = \\begin{bmatrix}b^h_1 \\\\ b^h_2 \\end{bmatrix}$, the output layer's weights are $\\mathbf v =\\begin{bmatrix}v_1 & v_2\\end{bmatrix}$ and its bias is $b$ then the network's output for an $\\mathbf x = \\begin{bmatrix}x_1 \\\\ x_2 \\\\ x_3\\end{bmatrix}$ input is \n",
    "\n",
    "$$ \\hat y = \\begin{bmatrix}v_1 & v_2\\end{bmatrix}\\cdot \\sigma \\left ( \\begin{bmatrix} w_{11} & w_{12} & w_{13} \\\\ w_{21} & w_{22} & w_{23}\\end{bmatrix} \\cdot \\begin{bmatrix}x_1 \\\\ x_2 \\\\ x_3\\end{bmatrix} + \\begin{bmatrix}b^h_1 \\\\ b^h_2 \\end{bmatrix}\\right ) + b = \\mathbf v \\cdot \\sigma(\\mathbf W\\cdot \\mathbf x  + \\mathbf {b}^h) + b $$\n",
    "\n",
    "Accordingly, the corresponding computational graph in terms of matrices and vectors is along the lines of \n",
    "\n",
    "<img src=\"http://drive.google.com/uc?export=view&id=1HO9C0srDTZTT6ZYAQmCRhLj89yFwd03d\" width=\"500px\">\n"
   ]
  },
  {
   "cell_type": "markdown",
   "metadata": {
    "colab_type": "text",
    "id": "Ir42bJ2Lz9Xp"
   },
   "source": [
    "<a id=\"vanish\"></a>\n",
    "### The problem of vanishing gradients\n",
    "- Deep networks consisting of a large number of stacked dense layers and sigmoid-like nonlinearities have so-called \"vanishing gradients\" problem\n",
    "- Gradients for weights in deep layers become very small\n",
    "- Consequently, the weights do not really change during gradient decent -- neurons in the deep layers \"don't learn\".\n"
   ]
  },
  {
   "cell_type": "markdown",
   "metadata": {},
   "source": [
    "Take the simples possible of a \"deep network\" with $n$ hidden and one output layer and without biases:\n",
    "\n",
    "$$\n",
    "\\hat y = w^o\\cdot(\\sigma(w_n\\dots\\sigma(w_3\\cdot\\sigma(w_2\\cdot\\sigma(w_1\\cdot x)))\\dots)\n",
    "$$\n",
    "\n",
    "for a scalar input.\n",
    "\n",
    "Consider, again, the gradient for the $L$ squared error loss on the $\\langle x, y\\rangle$ example. The computational graph  looks like\n",
    "\n",
    "<img src=\"http://drive.google.com/uc?export=view&id=1MVpM7AgyLZtYYi43dLDgm6rf3USmy-6d\" width=\"800px\">"
   ]
  },
  {
   "cell_type": "markdown",
   "metadata": {},
   "source": [
    "and using the chain rule for a $w_k$ hidden layer weight the corresponding gradient of $L$ is:\n",
    "\n",
    "$$\n",
    "\\frac{\\partial L}{\\partial w_k} = \\frac{\\partial z_k}{\\partial w_k}\\cdot \\frac{\\partial a_{k}}{\\partial z_{k}} \\cdot \\frac{\\partial z_{k+1}}{\\partial a_{k}} \\cdot  \\frac{a_{k+1}}{z_{k+1}}\\cdot \\cdots \\cdot \\frac{\\partial z_{n}}{\\partial a_{n-1}}\\cdot \\frac{\\partial a_{n}}{\\partial z_{n}}\\cdot \\frac{\\partial \\hat y}{\\partial a_{n}} \\cdot \\frac{\\partial L}{\\partial \\hat y} = \n",
    "$$\n",
    "\n"
   ]
  },
  {
   "cell_type": "markdown",
   "metadata": {},
   "source": [
    "$$\n",
    "=   a_{k-1} \\cdot  \\sigma'(z_{k}) \\cdot w_{k+1}\\cdot\\sigma'(z_{k+1}) \\cdot\\cdots \\cdot  w_{n} \\cdot  \\sigma'(z_{n})\\cdot w^o \\cdot 2e\n",
    "$$\n",
    "\n",
    "$$\n",
    "=  a_{k-1} \\cdot \\sigma'(z_k)\\cdot \\left ( \\prod_{i=k+1}^{n}  w_{i} \\cdot \\sigma'(z_i) \\right ) \\cdot w^o \\cdot 2e\n",
    "$$"
   ]
  },
  {
   "cell_type": "markdown",
   "metadata": {},
   "source": [
    "the gradient for the $k$-th weight is a product containing the four factors $ a_{k-1}, \\sigma'(z_k), w^o , 2e$ and the $n-k$ factors  $w_{i} \\cdot \\sigma'(z_i)$ for all hidden layers \"above\" the weight in question. Taking a look at the derivative of the sigmoid function:"
   ]
  },
  {
   "cell_type": "code",
   "execution_count": 4,
   "metadata": {
    "ExecuteTime": {
     "end_time": "2020-10-04T08:26:42.297229Z",
     "start_time": "2020-10-04T08:26:42.022583Z"
    }
   },
   "outputs": [
    {
     "data": {
      "image/png": "[encoded data removed]",
      "text/plain": [
       "<Figure size 504x360 with 1 Axes>"
      ]
     },
     "metadata": {
      "needs_background": "light"
     },
     "output_type": "display_data"
    }
   ],
   "source": [
    "def derivative_sigmoid(x):\n",
    "  return sigmoid_array(x)*(1-sigmoid_array(x))\n",
    "\n",
    "def sigmoid_array(x):                                        \n",
    "   return 1 / (1 + np.exp(-x))\n",
    "  \n",
    "X = np.arange(-6.0,6.0,0.05)\n",
    "Y_derivative_sig = derivative_sigmoid(X)\n",
    "plt.figure(figsize=(7,5))\n",
    "plt.plot(X,Y_derivative_sig,'-')\n",
    "plt.ylim(0,0.3); plt.grid(), plt.xlabel('$x$', fontsize=22); plt.ylabel(\"$σ'(x)$\", fontsize=22)\n",
    "plt.show()\n"
   ]
  },
  {
   "cell_type": "markdown",
   "metadata": {},
   "source": [
    "its value is always in the $(0,\\frac{1}{4}]$ interval and quickly approaches 0 in both directions_ \n",
    "- Weights are typically randomly initialized with a $\\mathcal N(\\mu = 0, \\sigma^2=1)$ normal distribution.\n",
    "- Can expect that -- at least in the beginning -- majority of weights in $[-1,1]$ interval.\n",
    "- Can thus estimate absolute value of individual factors related to higher hidden layers as:\n",
    "\n",
    "$$\n",
    "| w_{i} \\cdot \\sigma'(z_i) | \\leq \\frac{1}{4}\n",
    "$$\n",
    "from which the factor corresponding to all higher layers together can be estimated as \n",
    "$$\n",
    "\\left |\\prod_{i=k+1}^{n}  w_{i} \\cdot \\sigma'(z_i)\\right | \\leq \\left(\\frac{1}{4}\\right )^{n-k}.\n",
    "$$"
   ]
  },
  {
   "cell_type": "markdown",
   "metadata": {},
   "source": [
    "- Since the $n-k$ exponent is exactly the __depth__ of $w_k$ in the hidden layer hierarchy, on average, the weight gradients shrinks exponentially as depth grows -- gradients are vanishing. \n",
    "- Problem can become especially acute when a large number of the higher neurons **saturate**, their weights cause their $z_i$ to have a high absolute value for which $\\sigma'(z_i)$ is very close to 0.\n",
    "\n",
    "#### Generality and solutions \n",
    "\n",
    "Can be shown by similar arguments that deep networks of stacked hidden sigmoid-like layers are in general susceptible to the vanishing gradients problem because of the multiplication factors that are added by the higher layers to the weight gradient.\n",
    "\n",
    "\n",
    "A large number of tools/techniques were developed to mitigate the problem including new\n",
    "\n",
    "+ weight initialization regimes,\n",
    "+ network topologies,\n",
    "+ activation functions,\n",
    "+ regularization methods"
   ]
  },
  {
   "cell_type": "markdown",
   "metadata": {},
   "source": [
    "### Further reading\n",
    "\n",
    "+ The above exposition of backpropagation was inspired by [that of Andrej Karpathy](http://cs231n.github.io/optimization-2/), which is worth reading.\n",
    "+ Detailed but nonetheless easy to follow explanations of backpropagation and the vanishing gradients problem can be found in chapters [2](http://neuralnetworksanddeeplearning.com/chap2.html) and [5](http://neuralnetworksanddeeplearning.com/chap5.html) of the online [Neural Networks and Deep Learing book](http://neuralnetworksanddeeplearning.com/)."
   ]
  },
  {
   "cell_type": "markdown",
   "metadata": {},
   "source": [
    "## Sidenote: Was backprop and universality enough?\n",
    "\n",
    "How come, that although by the late 80s the important intellectual breakthroughs were there, deep learning only became a success in 2012 ovwards?\n",
    "\n",
    "Hinton himself argues, that there are three major factors "
   ]
  },
  {
   "cell_type": "code",
   "execution_count": 5,
   "metadata": {
    "ExecuteTime": {
     "end_time": "2020-10-04T08:26:42.564828Z",
     "start_time": "2020-10-04T08:26:42.561030Z"
    },
    "hide_input": true
   },
   "outputs": [
    {
     "data": {
      "text/html": [
       "<iframe width=\"560\" height=\"315\" src=\"https://www.youtube.com/embed/o8otywnWwKc?rel=0&amp;start=287&end=368\" frameborder=\"0\" allow=\"autoplay; encrypted-media\" allowfullscreen></iframe>"
      ],
      "text/plain": [
       "<IPython.core.display.HTML object>"
      ]
     },
     "execution_count": 5,
     "metadata": {},
     "output_type": "execute_result"
    }
   ],
   "source": [
    "\n",
    "from IPython.display import HTML\n",
    "HTML('<iframe width=\"560\" height=\"315\" src=\"https://www.youtube.com/embed/o8otywnWwKc?rel=0&amp;start=287&end=368\" frameborder=\"0\" allow=\"autoplay; encrypted-media\" allowfullscreen></iframe>')"
   ]
  },
  {
   "cell_type": "markdown",
   "metadata": {},
   "source": [
    "We are inclined to accept his views on the paramount importance of abundant data and computational power. We can say, that the success of deep learning rests on them, thus the development of data capital and computational power is paramount to the advancement of deep learninig.\n",
    "\n",
    "<img src=\"https://upload.wikimedia.org/wikipedia/commons/9/9d/Moore%27s_Law_Transistor_Count_1971-2016.png\" width=600 heigth=600>\n",
    "\n",
    "(And as [\"Moore's law seems to end\"](https://www.analyticsindiamag.com/moores-law-is-dead-and-the-tech-giants-had-clearly-anticipated-it/), a big race starts for custom AI hardware again.)\n",
    "\n",
    "What we should add, though, that \"some technical advances\" are also essential, so we will use the rest of the course to elaborate on them in detail. :-)\n",
    "\n",
    "### How much is enough data?\n",
    "\n",
    "A nice experiment can shed some light on how much is \"enough\" from data in case of an **extremely simple problem** and a **very simple neural net**. This may add some feeling about \"proportions\".\n",
    "\n",
    "- Two inputs\n",
    "- 25 nodes in the hidden layer, and one output\n",
    "- A rectified linear activation function used for the nodes in the hidden layer\n",
    "- Binary classification problem so the model can use the sigmoid activation function on the output layer to predict the probability of a sample belonging to class 0 or 1.\n",
    "\n",
    "The original experiment can be found here: \n",
    "[\"Impact of Dataset Size on Deep Learning Model Skill And Performance Estimates\"](https://machinelearningmastery.com/impact-of-dataset-size-on-deep-learning-model-skill-and-performance-estimates/)\n",
    "\n",
    "- Separate to noisy \"circles\"\n",
    "- \"...two inputs, 25 nodes in the hidden layer, and one output...\"\n",
    "\n",
    "<img src=\"https://3qeqpr26caki16dnhd19sv6by6v-wpengine.netdna-ssl.com/wp-content/uploads/2018/10/Four-Scatter-Plots-of-the-Circles-Dataset-Varied-by-the-Amount-of-Samples.png\" width=55%>\n",
    "\n",
    "**Results:**\n",
    "\n",
    "<img src=\"https://3qeqpr26caki16dnhd19sv6by6v-wpengine.netdna-ssl.com/wp-content/uploads/2018/10/Box-and-Whisker-Plots-of-Test-Set-Accuracy-of-MLPs-Trained-with-Different-Sized-Training-Sets-on-the-Circles-Problem.png\" width=55%>\n",
    "\n",
    "Sharp increase in stability from 100 to 1000 training examples for such really simple task."
   ]
  },
  {
   "cell_type": "markdown",
   "metadata": {
    "colab_type": "text",
    "id": "G-sPnB9sAix7"
   },
   "source": [
    "<a id=\"vanish\"></a>\n",
    "# Activation functions\n"
   ]
  },
  {
   "cell_type": "markdown",
   "metadata": {
    "colab_type": "text",
    "id": "W9N3pe-WobU4"
   },
   "source": [
    "## General characterization\n",
    "\n",
    "We have seen that during backpropagation we have to compute the partial derivative of the loss for our training data, which involves the computation of the derivative of the activations on the data $\\Longrightarrow$ The efficiency of backpropagation depends on the structure of the derivative, which in turn largely depends on the properties of the derivatives of the used activation functions.\n",
    "\n",
    "### Some definitions\n",
    "\n",
    "*Activation function*: $f: R\\rightarrow R$ is almost everywhere differentiable\n",
    "\n",
    "*Saturation*: $f(x)$ (right) saturates if $$\\lim_{x\\to\\infty} f'(x)=0$$\n",
    "\n",
    "*Hard saturation*:  $f(x)$ \"hard\" saturates if  $\\exists c$, such that $x>c \\rightarrow f'(x)=0$\n",
    "\n",
    "If a function saturates but does not hard saturate (like the sigmoid) then it \"soft\" saturates.\n",
    "\n",
    "Activation functions are somtimes also knowns as transfer functions\n",
    "\n",
    "### Important properties\n",
    "\n",
    "- Boundedness\n",
    "- Range -- is it zero centered?\n",
    "- Ability to discriminate\n",
    "- Continuity, differentiability\n",
    "- Computational requirements\n",
    "- Functions that are bounded within an upper and lower limit are squashing functions - they transfer (squash) and input to a value with the bounds\n",
    "\n",
    "### What is the ideal activation function like?\n",
    "- It should have good discriminative properties, i.e., should work as a binary classifier: should return radically different (e.g. small vs large) values below and above a  certain threshold.\n",
    "- Its range should be bounded to avoid computational problems with too large/small values.\n",
    "\n",
    "If these were the only requirements then the step function (say, with 1 and -1 values) would be the ideal activation function, but backpropagation requires some other (partly conflicting properties):\n",
    "\n",
    "- Saturation is a huge problem for backpropagation since the gradient vanishes\n",
    "- Traditionally total continuity and differentiability was a requirement (relaxed nowadays)\n",
    "\n",
    "\n"
   ]
  },
  {
   "cell_type": "markdown",
   "metadata": {
    "colab_type": "text",
    "id": "XRA_5KjT1eKq"
   },
   "source": [
    "## The most important activation functions\n",
    "### Sigmoid\n",
    "\n",
    "We have already met the sigmoid function, which was exclusively used as a nonlinearity in neural nets for a long time:\n",
    "\n",
    "$\\sigma(x) = \\frac{ e^x }{1 + e^x}$"
   ]
  },
  {
   "cell_type": "code",
   "execution_count": 6,
   "metadata": {
    "ExecuteTime": {
     "end_time": "2020-10-04T08:26:43.301819Z",
     "start_time": "2020-10-04T08:26:43.072629Z"
    },
    "colab": {
     "base_uri": "https://localhost:8080/",
     "height": 685
    },
    "colab_type": "code",
    "id": "-_wCGCwcylLX",
    "outputId": "7b9c59c5-1667-4f13-fe34-f71b0a74c0d1"
   },
   "outputs": [
    {
     "data": {
      "image/png": "[encoded data removed]",
      "text/plain": [
       "<Figure size 504x360 with 1 Axes>"
      ]
     },
     "metadata": {
      "needs_background": "light"
     },
     "output_type": "display_data"
    },
    {
     "data": {
      "image/png": "[encoded data removed]",
      "text/plain": [
       "<Figure size 504x360 with 1 Axes>"
      ]
     },
     "metadata": {
      "needs_background": "light"
     },
     "output_type": "display_data"
    }
   ],
   "source": [
    "# Sigmoid function and its derivative\n",
    "def sigmoid_array(x):                                      \n",
    "    return 1 / (1 + np.exp(-x))\n",
    "\n",
    "def derivative_sigmoid(x):\n",
    "  return sigmoid_array(x)*(1-sigmoid_array(x))\n",
    "\n",
    "X = np.arange(-6.0,6.0,0.05)\n",
    "Y_sig = sigmoid_array(X)\n",
    "plt.figure(figsize=(7,5))\n",
    "plt.plot(X,Y_sig,'-')\n",
    "plt.ylim(-0.1,1); plt.grid(); plt.xlabel('$x$', fontsize=22); plt.ylabel('$σ(x)$', fontsize=22)\n",
    "plt.show()\n",
    "\n",
    "\n",
    "plt.figure(figsize=(7,5))\n",
    "plt.plot(X,Y_derivative_sig,'-')\n",
    "plt.ylim(0,0.3); plt.grid(), plt.xlabel('$x$', fontsize=22); plt.ylabel(\"$σ'(x)$\", fontsize=22)\n",
    "plt.show()\n"
   ]
  },
  {
   "cell_type": "markdown",
   "metadata": {
    "colab_type": "text",
    "id": "0uy59iZDykRX"
   },
   "source": [
    "##### Properties\n",
    "\n",
    "* **+** nonlinear\n",
    "* **+** \"squashing function\" -- its range is bounded (0,1)\n",
    "* **+** derivable everywhere\n",
    "* **-** (soft) saturation. For larger inputs the derivative is very small (its maximum is 0.25), the network does not learn. (Furthermore these small derivatives are multiplied in deep networks.)\n",
    "* **-** Not 0 centered (=odd function, f(-x)=-f(x) )\n",
    "* **-** slow convergence\n",
    "* **-** computationally expensive because of the exponential function\n",
    "\n",
    "### Tanh\n",
    "\n",
    "Closely related to the sigmoid function:\n",
    "\n",
    "$$\\tanh(x) = \\frac{e^{2x}-1}{e^{2x}+1} = 2 \\sigma(2x) - 1$$"
   ]
  },
  {
   "cell_type": "code",
   "execution_count": 7,
   "metadata": {
    "ExecuteTime": {
     "end_time": "2020-10-04T08:26:43.522084Z",
     "start_time": "2020-10-04T08:26:43.302854Z"
    },
    "colab": {
     "base_uri": "https://localhost:8080/",
     "height": 677
    },
    "colab_type": "code",
    "id": "3Ygeo4cNXywU",
    "outputId": "3edd7b3f-f5b9-480c-b927-945c8d6ecdc6"
   },
   "outputs": [
    {
     "data": {
      "image/png": "[encoded data removed]",
      "text/plain": [
       "<Figure size 504x360 with 1 Axes>"
      ]
     },
     "metadata": {
      "needs_background": "light"
     },
     "output_type": "display_data"
    },
    {
     "data": {
      "image/png": "[encoded data removed]",
      "text/plain": [
       "<Figure size 504x360 with 1 Axes>"
      ]
     },
     "metadata": {
      "needs_background": "light"
     },
     "output_type": "display_data"
    }
   ],
   "source": [
    "# tanh and its derivative\n",
    "def tanh_array(x):\n",
    "  return 2*sigmoid_array(2*x)-1\n",
    "\n",
    "Y_tanh = tanh_array(X)\n",
    "\n",
    "plt.figure(figsize=(7,5))\n",
    "plt.plot(X,Y_tanh,'-')\n",
    "plt.ylim(-1.1,1.1); plt.grid(); plt.xlabel('$x$', fontsize=22); plt.ylabel('$tanh(x)$', fontsize=22)\n",
    "plt.show()\n",
    "\n",
    "def derivative_tanh(x):\n",
    "  return 1-tanh_array(x)*tanh_array(x)\n",
    "\n",
    "plt.figure(figsize=(7,5))\n",
    "Y_derivative_tanh = derivative_tanh(X)\n",
    "plt.plot(X, Y_derivative_tanh)\n",
    "plt.ylim(-0.1,1.1); plt.grid(); plt.xlabel('$x$', fontsize=22); plt.ylabel(\"$tanh'(x)$\", fontsize=22)\n",
    "plt.show()"
   ]
  },
  {
   "cell_type": "markdown",
   "metadata": {
    "colab_type": "text",
    "id": "ebrZizpZbV_j"
   },
   "source": [
    "#### Properties\n",
    "\n",
    "* **+** nonlinear\n",
    "* **+** \"squashing function\" to the bounded (-1,1) range\n",
    "* **+** antisymmetric: f(x)=-f(-x)\n",
    "* **+** everywhere differentiable\n",
    "* **+** 0 centered\n",
    "* **+** steeper derivative\n",
    "* **-** (soft) saturation -- vanishing gradient problem.\n",
    "* **-** computationally expensive because of the exponential function\n",
    "\n",
    "###  Rectified Linear Unit, ReLU\n",
    "\n",
    "### $ReLU(x) = \\max(0, x)$\n",
    "\n"
   ]
  },
  {
   "cell_type": "code",
   "execution_count": 8,
   "metadata": {
    "ExecuteTime": {
     "end_time": "2020-10-04T08:26:43.737359Z",
     "start_time": "2020-10-04T08:26:43.523514Z"
    },
    "colab": {
     "base_uri": "https://localhost:8080/",
     "height": 699
    },
    "colab_type": "code",
    "id": "NBkk2gBcpNwm",
    "outputId": "1502171b-f102-4129-aeef-9784c53d6422"
   },
   "outputs": [
    {
     "data": {
      "text/plain": [
       "<matplotlib.legend.Legend at 0x2337e29ca58>"
      ]
     },
     "execution_count": 8,
     "metadata": {},
     "output_type": "execute_result"
    },
    {
     "data": {
      "image/png": "[encoded data removed]",
      "text/plain": [
       "<Figure size 504x360 with 1 Axes>"
      ]
     },
     "metadata": {
      "needs_background": "light"
     },
     "output_type": "display_data"
    },
    {
     "data": {
      "image/png": "[encoded data removed]",
      "text/plain": [
       "<Figure size 504x360 with 1 Axes>"
      ]
     },
     "metadata": {
      "needs_background": "light"
     },
     "output_type": "display_data"
    }
   ],
   "source": [
    "# ReLU and its derivative\n",
    "def relu_array(x):\n",
    "    return np.maximum(0,x)\n",
    "  \n",
    "\n",
    "Y = relu_array(X)\n",
    "\n",
    "plt.figure(figsize=(7,5))\n",
    "plt.plot(X,Y,'-')\n",
    "plt.ylim(-1,5); plt.grid(); plt.xlabel('$x$', fontsize=22); plt.ylabel('ReLU(x)', fontsize=22)\n",
    "\n",
    "plt.figure(figsize=(7,5))\n",
    "plt.plot(X,np.sign(Y))\n",
    "plt.plot(0,0,'or',label='$ReLU \\'(x)=0$ by definiton') \n",
    "plt.ylim(-1.2,1.2); plt.grid(); plt.xlabel('$x$', fontsize=22); plt.ylabel(\"ReLU'(x)\", fontsize=22)\n",
    "plt.legend(loc='best', fontsize=16)"
   ]
  },
  {
   "cell_type": "markdown",
   "metadata": {
    "colab_type": "text",
    "id": "NgbJrXisq3T3"
   },
   "source": [
    "* **+** nonlinear\n",
    "* **+** it solves (half of the) vanishing gradient problem, good for deep networks\n",
    "* **+** not intensive computationally\n",
    "* **+** decreases the number of active neurons -- learns sparse representations\n",
    "* **-** The average activity is not 0, which causes a \"bias shift\" in the next layer -- this can slow down learning.\n",
    "* **-** Neurons can \"die\", they stop learning. This happens especially when the learning rate is too large.\n",
    "* **-** Output for positive values not squashed, may initially get very large values, which take long to learn (no squashing) -- need to normalize inputs\n",
    "\n",
    "\n",
    "### Improved ReLU variants\n",
    "\n",
    "#### Leaky ReLU\n",
    "\n",
    "$$lrelu(x) = \\max(ax,x)$$\n",
    "where  $a \\in (0,1)$ value, say,  0.1.\n"
   ]
  },
  {
   "cell_type": "code",
   "execution_count": 9,
   "metadata": {
    "ExecuteTime": {
     "end_time": "2020-10-04T08:26:43.959951Z",
     "start_time": "2020-10-04T08:26:43.738777Z"
    },
    "colab": {
     "base_uri": "https://localhost:8080/",
     "height": 703
    },
    "colab_type": "code",
    "id": "dBiJR0flmF0a",
    "outputId": "cb699897-7325-47ae-a56d-2e99c9147e52"
   },
   "outputs": [
    {
     "data": {
      "text/plain": [
       "Text(0, 0.5, \"$LReLU'(x)$\")"
      ]
     },
     "execution_count": 9,
     "metadata": {},
     "output_type": "execute_result"
    },
    {
     "data": {
      "image/png": "[encoded data removed]",
      "text/plain": [
       "<Figure size 504x360 with 1 Axes>"
      ]
     },
     "metadata": {
      "needs_background": "light"
     },
     "output_type": "display_data"
    },
    {
     "data": {
      "image/png": "[encoded data removed]",
      "text/plain": [
       "<Figure size 504x360 with 1 Axes>"
      ]
     },
     "metadata": {
      "needs_background": "light"
     },
     "output_type": "display_data"
    }
   ],
   "source": [
    "# Leaky ReLU and its derivative\n",
    "def lrelu_array(x,a=0.1):\n",
    "    return np.maximum(a*x,x)\n",
    "  \n",
    "\n",
    "Y_lrelu = lrelu_array(X)\n",
    "\n",
    "plt.figure(figsize=(7,5))\n",
    "plt.plot(X,Y_lrelu,'-')\n",
    "plt.ylim(-1,5); plt.grid(); plt.xlabel('$x$', fontsize=22); plt.ylabel('$LReLU(x)$', fontsize=22)\n",
    "\n",
    "\n",
    "def derivative_lrelu(x,a=0.1):\n",
    "  return np.where(x<0,a,1)\n",
    " \n",
    "\n",
    "Y_derivative_lrelu =derivative_lrelu(X)\n",
    "\n",
    "plt.figure(figsize=(7,5))\n",
    "plt.plot(X,Y_derivative_lrelu)\n",
    "plt.ylim(-0.2,1.2); plt.grid(); plt.xlabel('$x$', fontsize=22); plt.ylabel(\"$LReLU'(x)$\", fontsize=22)\n"
   ]
  },
  {
   "cell_type": "markdown",
   "metadata": {
    "colab_type": "text",
    "id": "d-5jQSrum1YM"
   },
   "source": [
    "Compared to basic ReLU\n",
    "* **+** The derivative is not 0 in the negative range, so there are no \"dead\" neurons, the effective capacity of the network increases.\n",
    "\n",
    "#### Parametric ReLU\n",
    "\n",
    "In this variant the $a$ parameter of leaky ReLU is treated as a parameter that is learned during the training.\n",
    "\n",
    "####  Exponential Linear Unit, ELU\n",
    "\n",
    "A smoothed variant of ReLU\n",
    "\n",
    "\\begin{equation}\n",
    "  elu(x)\\begin{cases}\n",
    "    x, & \\text{if $x>0$}.\\\\\n",
    "    \\alpha e^x -\\alpha, & \\text{if $x\\leq0$}.\n",
    "  \\end{cases}\n",
    "\\end{equation}"
   ]
  },
  {
   "cell_type": "code",
   "execution_count": 10,
   "metadata": {
    "ExecuteTime": {
     "end_time": "2020-10-04T08:26:44.214682Z",
     "start_time": "2020-10-04T08:26:43.961179Z"
    },
    "colab": {
     "base_uri": "https://localhost:8080/",
     "height": 703
    },
    "colab_type": "code",
    "id": "MarZZBF_My72",
    "outputId": "93ed1051-35d9-4c24-e672-e63f0ef0be7f"
   },
   "outputs": [
    {
     "data": {
      "image/png": "[encoded data removed]",
      "text/plain": [
       "<Figure size 504x360 with 1 Axes>"
      ]
     },
     "metadata": {
      "needs_background": "light"
     },
     "output_type": "display_data"
    },
    {
     "data": {
      "text/plain": [
       "Text(0, 0.5, \"$ELU'(x)$\")"
      ]
     },
     "execution_count": 10,
     "metadata": {},
     "output_type": "execute_result"
    },
    {
     "data": {
      "image/png": "[encoded data removed]",
      "text/plain": [
       "<Figure size 504x360 with 1 Axes>"
      ]
     },
     "metadata": {
      "needs_background": "light"
     },
     "output_type": "display_data"
    }
   ],
   "source": [
    "def elu_array(x, alpha=1):\n",
    "    return np.where(x < 0, alpha * (np.exp(x) - 1), x)\n",
    "  \n",
    "X = np.arange(-5.0,3.0,0.05)\n",
    "Y_elu = elu_array(X)\n",
    "plt.figure(figsize=(7,5))\n",
    "plt.plot(X,Y_elu,'-')\n",
    "plt.ylim(-1.8,3); plt.grid(); plt.xlabel('$x$', fontsize=22); plt.ylabel('$ELU(x)$', fontsize=22)\n",
    "plt.show()\n",
    "\n",
    "def derivative_elu(x,alpha=1):\n",
    "  return np.where(x<0,elu_array(x,alpha)+alpha,1)\n",
    "\n",
    "Y_derivative_elu =derivative_elu(X,alpha=1)\n",
    "\n",
    "plt.figure(figsize=(7,5))\n",
    "plt.plot(X,Y_derivative_elu)\n",
    "plt.ylim(-0.2,1.2); plt.grid(); plt.xlabel('$x$', fontsize=22); plt.ylabel(\"$ELU'(x)$\", fontsize=22)\n"
   ]
  },
  {
   "cell_type": "markdown",
   "metadata": {
    "colab_type": "text",
    "id": "xAUndzu8NYop"
   },
   "source": [
    "#### Properties\n",
    "\n",
    "* **+** Solves the vanishing gradient problem\n",
    "* **+** In certain cases it generalizes better than RELU\n",
    "* **-** The exponential makes it computationally more expensive\n",
    "\n",
    "## Noisy activation functions\n",
    "\n",
    "An interesting proposal to have strong discriminativity without vanishing gradients: Take a hard saturating, piecewise linear activation function, such as hard tanh (the tanh function's \"hardened\" (piecewise linear) counterpart):\n",
    "\n",
    "\\begin{equation}\n",
    "  hardtanh(x)\\begin{cases}\n",
    "    -1 & \\text{if $x<-1$}.\\\\\n",
    "    x  & \\text{if $-1 \\leq x \\leq 1$}\\\\\n",
    "    1 &  \\text{if $x > 1$}\n",
    "  \\end{cases}\n",
    "\\end{equation}"
   ]
  },
  {
   "cell_type": "markdown",
   "metadata": {
    "colab_type": "text",
    "id": "9BYhLwCtVlkK"
   },
   "source": [
    "and add noise to it ( preferably with saturation dependent variation):\n",
    "\n",
    "<img src=\"https://ai2-s2-public.s3.amazonaws.com/figures/2017-08-08/6362bcef47714b0e0a9f2ded413925ce42720c7a/5-Figure4-1.png\" height=\"400\">\n",
    "\n",
    "Properties:\n",
    "\n",
    "- **+** the gradient explores even in the saturation intervals\n",
    "- **+** regularization effect\n",
    "- **-** complex, computationally intensive\n",
    "\n",
    "See the [paper](https://arxiv.org/pdf/1603.00391.pdf) for details."
   ]
  },
  {
   "cell_type": "markdown",
   "metadata": {
    "colab_type": "text",
    "id": "fUt_wmwfaEoA"
   },
   "source": [
    "## SWISH: self-gating activation function (from Google Brain)\n",
    "\n",
    "$$\\text{Swish}(x) = x*\\sigma(x)$$\n",
    "\n",
    "It was found by an exhaustive search in the function space!! (See https://arxiv.org/pdf/1710.05941.pdf)"
   ]
  },
  {
   "cell_type": "code",
   "execution_count": 11,
   "metadata": {
    "ExecuteTime": {
     "end_time": "2020-10-04T08:26:44.461695Z",
     "start_time": "2020-10-04T08:26:44.216106Z"
    },
    "colab": {
     "base_uri": "https://localhost:8080/",
     "height": 685
    },
    "colab_type": "code",
    "id": "6adcXkfLpq79",
    "outputId": "d67d1ae6-12b5-4b85-b91d-f095e9965a89",
    "scrolled": true
   },
   "outputs": [
    {
     "data": {
      "image/png": "[encoded data removed]",
      "text/plain": [
       "<Figure size 504x360 with 1 Axes>"
      ]
     },
     "metadata": {
      "needs_background": "light"
     },
     "output_type": "display_data"
    },
    {
     "data": {
      "image/png": "[encoded data removed]",
      "text/plain": [
       "<Figure size 504x360 with 1 Axes>"
      ]
     },
     "metadata": {
      "needs_background": "light"
     },
     "output_type": "display_data"
    }
   ],
   "source": [
    "# SWISH fv és deriváltja\n",
    "def swish_array(x):                                        \n",
    "   return x*sigmoid_array(x)\n",
    "  \n",
    "X = np.arange(-5.0,3.0,0.05)\n",
    "Y_swish = swish_array(X)\n",
    "plt.figure(figsize=(7,5))\n",
    "plt.plot(X,Y_swish,'-')\n",
    "plt.ylim(-0.3,3); plt.grid(); plt.xlabel('$x$', fontsize=22); plt.ylabel('$swish(x)$', fontsize=22)\n",
    "plt.show()\n",
    "\n",
    "def derivative_swish(x):\n",
    "  return swish_array(x)+sigmoid_array(x)*(1-swish_array(x))\n",
    "\n",
    "X = np.arange(-6.0,6.0,0.05)\n",
    "Y_derivative_swish = derivative_swish(X)\n",
    "plt.figure(figsize=(7,5))\n",
    "plt.plot(X,Y_derivative_swish,'-')\n",
    "plt.ylim(-0.2,1.2); plt.grid(); plt.xlabel('$x$', fontsize=22); plt.ylabel(\"$swish'(x)$\", fontsize=22)\n",
    "plt.show()\n",
    "  "
   ]
  },
  {
   "cell_type": "markdown",
   "metadata": {
    "colab_type": "text",
    "id": "3wV2Uvp6p9ce"
   },
   "source": [
    "__Properties__\n",
    "\n",
    "* **+** Not bounded from above: no vanishing gradient (especially on the right, but provides some gradient on the left as well)\n",
    "* **+** Downward bounded, and left saturates, which has regulative effect\n",
    "* **+** not monotone, which reduces the sensitivity to learning rate and initialization\n",
    "* **+** smooth, everywhere differentiable\n",
    "* **-** computation intensive\n",
    "\n",
    "* ** ** Output for positive values not squashed, may initially get very large values, which take long to learn (no squashing) -- need to normalize inputs\n",
    "\n"
   ]
  },
  {
   "cell_type": "markdown",
   "metadata": {},
   "source": [
    "## MISH: self-gating activation function (from Google Brain)\n",
    "$$\n",
    "f(x)=x \\tanh (\\operatorname{softplus}(x))=x \\tanh \\left(\\ln \\left(1+e^{x}\\right)\\right)\n",
    "$$\n",
    "\n",
    "As a development of SWISH (See https://arxiv.org/pdf/1908.08681.pdf)\n",
    "\n"
   ]
  },
  {
   "cell_type": "markdown",
   "metadata": {},
   "source": [
    "While not evident at first sight, Mish is closely related to Swish, as it can be observed in the first derivative:\n",
    "$$\n",
    "\\begin{array}{c}\n",
    "f^{\\prime}(x)=\\operatorname{sech}^{2}(\\operatorname{soft} \\operatorname{plus}(x)) x \\operatorname{sig} \\operatorname{moid}(x)+\\frac{f(x)}{x} \\\\\n",
    "=\\Delta(x) \\operatorname{swish}(x)+\\frac{f(x)}{x}\n",
    "\\end{array}\n",
    "$$\n",
    "where soft plus$(x)=\\ln \\left(1+e^{x}\\right)$ and $\\operatorname{sigmoid}(x)=1 /\\left(1+e^{-x}\\right)$\n",
    "\n",
    "From experimental observations, we speculate that the D(x) parameter acts like a preconditioner, making the gradient smoother\n",
    "\n"
   ]
  },
  {
   "cell_type": "code",
   "execution_count": 12,
   "metadata": {
    "ExecuteTime": {
     "end_time": "2020-10-04T08:26:44.693120Z",
     "start_time": "2020-10-04T08:26:44.462900Z"
    }
   },
   "outputs": [
    {
     "data": {
      "image/png": "[encoded data removed]",
      "text/plain": [
       "<Figure size 504x360 with 1 Axes>"
      ]
     },
     "metadata": {
      "needs_background": "light"
     },
     "output_type": "display_data"
    },
    {
     "data": {
      "image/png": "[encoded data removed]",
      "text/plain": [
       "<Figure size 504x360 with 1 Axes>"
      ]
     },
     "metadata": {
      "needs_background": "light"
     },
     "output_type": "display_data"
    }
   ],
   "source": [
    "# SWISH fv és deriváltja\n",
    "def mish_array(x):                                        \n",
    "   return x*np.tanh(np.log(1+np.exp(x)))\n",
    "  \n",
    "   #  xtanh(softplus(x))$$\n",
    "\n",
    "\n",
    "\n",
    "#where soft plus$(x)=\\ln \\left(1+e^{x}\\right)$\n",
    "    \n",
    "    \n",
    "X = np.arange(-5.0,3.0,0.05)\n",
    "Y_mish = mish_array(X)\n",
    "plt.figure(figsize=(7,5))\n",
    "plt.plot(X,Y_swish,'-')\n",
    "plt.ylim(-0.3,3); plt.grid(); plt.xlabel('$x$', fontsize=22); plt.ylabel('$mish(x)$', fontsize=22)\n",
    "plt.show()\n",
    "\n",
    "#def derivative_mish(x):\n",
    " # return mish_array(x)+sigmoid_array(x)*(1-mish_array(x))\n",
    "\n",
    "\n",
    "def derivative_mish(x):\n",
    "    omega = np.exp(3*x) + 4*np.exp(2*x) + (6+4*x)*np.exp(x) + 4*(1 + x)\n",
    "    delta = 1 + pow((np.exp(x) + 1), 2)\n",
    "    derivative = np.exp(x) * omega / pow(delta, 2)\n",
    "    return derivative\n",
    "\n",
    "\n",
    "X = np.arange(-6.0,6.0,0.05)\n",
    "Y_derivative_swish = derivative_mish(X)\n",
    "plt.figure(figsize=(7,5))\n",
    "plt.plot(X,Y_derivative_swish,'-')\n",
    "plt.ylim(-0.2,1.2); plt.grid(); plt.xlabel('$x$', fontsize=22); plt.ylabel(\"$mish'(x)$\", fontsize=22)\n",
    "plt.show()\n",
    "  "
   ]
  },
  {
   "cell_type": "markdown",
   "metadata": {},
   "source": [
    "**Similarities between SWISH and MISH**\n",
    "\n",
    "While not evident at first sight, Mish is closely related to Swish, as it can be observed in the first derivative:\n",
    "$$\n",
    "\\begin{array}{c}\n",
    "f^{\\prime}(x)=\\operatorname{sech}^{2}(\\text {soft plus}(x)) x \\operatorname{sigmoid}(x)+\\frac{f(x)}{x} \\\\\n",
    "=\\Delta(x) \\operatorname{swish}(x)+\\frac{f(x)}{x}\n",
    "\\end{array}\n",
    "$$\n",
    "\n",
    "\n",
    "where soft plus$(x)=\\ln \\left(1+e^{x}\\right)$ and sigmoid $(x)=1 /\\left(1+e^{-x}\\right)$.\n",
    "\n",
    "\n",
    "The $\\Delta(x)$ parameter mimics the behavior of a preconditioner. It provides a strong\n",
    "regularization effect and helps make gradients smoother, which corresponds to easier to optimize function contour, which is possibly why Mish outperforms Swish in increasingly deep\n",
    "and complex neural net architectures.\n"
   ]
  },
  {
   "cell_type": "markdown",
   "metadata": {},
   "source": [
    "__Properties__\n",
    "* **+** self-regularized non-monotonic activation function which can be mathematically defined \n",
    "* **+**  self gating\n",
    "* **+** ability to preserve small negative weights, and asmooth profile, have been a recurring discussion bounded below unboundedabove\n",
    "    \n",
    "    \n",
    "    \n",
    "    "
   ]
  },
  {
   "cell_type": "markdown",
   "metadata": {
    "colab_type": "text",
    "id": "l7mz5mFpVgdR"
   },
   "source": [
    "# Nonlinearity for the output layer: Softmax\n",
    "\n",
    "## Squashing linear output into a probability distribution\n",
    "\n",
    "We already met the problem of squashing linear output to a probability and used the sigmoid function:\n",
    "\n",
    "## $\\sigma(x) = \\frac{ e^x }{1 + e^x}$\n",
    "\n",
    "the rational being that we consider the linear output as the *logarithm* of the *odds ratio* corresponding to the probability we are looking for. How can we do the same for more than two outcomes?\n",
    "\n",
    "###  Solution: Softmax function\n",
    "\n",
    "Let's assume that the output from a linear layer is a series of logarithmic odds (frequently called *logits*  in the literature): \n",
    "\n",
    "$$x_0, \\dots, x_n$$\n",
    "\n",
    "then the odds themselves are\n",
    "\n",
    "$$ e^{x_0},\\dots,e^{x_n}$$\n",
    "\n",
    "and the probabilities will be \n",
    "\n",
    "$$\\frac{e^{x_0}}{\\sum_{i=0}^{n} e^{x_i}},\\dots,\\frac{e^{x_n}}{\\sum_{i=0}^{n} e^{x_i}}$$\n",
    "\n",
    "Accordingly, for $n$ dimension we define the $n$-dimensional softmax function Softmax$^{(n)}$ to be\n",
    "\n",
    "$$\\mathrm{Softmax}^{(n)}(\\langle x_0,\\dots,x_n\\rangle) = \\left\\langle \\frac{e^{x_0}}{\\sum_{i=0}^{n} e^{x_i}},\\dots,\\frac{e^{x_n}}{\\sum_{i=0}^{n} e^{x_i}}\\right\\rangle$$\n",
    "\n",
    "The softmax function can be considered to be the generalization of the sigmoid function from 1 to n-dimensional domain. **Advantages:**\n",
    "- Differentiable\n",
    "- It squashes  input into the  $[0,1]^n$ $n$-dimensional \"unit hypercube\"\n",
    "- For all $\\langle y_1,\\dots,y_n\\rangle$ value $\\sum_{i=0}^{n}y_i = 1$\n",
    "\n",
    "It is typically used for classification tasks with more than two classes.\n",
    "\n",
    "\n",
    "###  Softmax why this functional form rather than another? - Normalization, probability distribution and weighing\n",
    "- Want normalization function - all values squashed into a fixed interval\n",
    "- Converts values into probabilities: 1<=P>=0\n",
    "- Probability distribution where  $\\sum\\limits_{i=1}^n P(x)=1$\n",
    "\n",
    "*There are a number of functions that could full fill the above criteria*\n",
    "\n",
    "e.g.\n",
    "\n",
    "\n",
    "$$\\frac{x_0}{\\sum_{i=0}^{n} x_i},\\dots,\\frac{x_n}{\\sum_{i=0}^{n} x_i}$$\n",
    "\n",
    "which would also produce probabilities between 0 and 1 and where the sum of all probabilities is 1, so it would fulfill the above criteria\n",
    "\n",
    "\n",
    "So why take the exponential function?\n",
    "\n",
    "(1) Weighing - soft*max*, so we give a higher value to\n",
    "\n",
    "(2) Everywhere differentiable, nowhere <0\n",
    "\n",
    "\n",
    "\n",
    "\n",
    "<img src=\"http://drive.google.com/uc?export=view&id=17R92t5bbDE6dSED5JgT24JnRSB-C7cPS\" width=\"65%\">\n",
    "\n",
    "\n",
    "The derivative of $e^x$ is:\n",
    "\n",
    "$$\\frac{d}{d x} e^{x}=e^{x}$$\n",
    "\n",
    "so we have a non-linear mapping, where larger values get a larger weight!\n",
    "\n",
    "\n",
    "\n",
    "\n",
    "\n",
    "\n",
    "###  Temperature parameter\n",
    "\n",
    "If other functions would fit the above criteria of normalization, weighing larger values more heavily, summing to one, being differentiable everywhere, and having and >0, a number of functions might potentially fit this. \n",
    "\n",
    "One factor we can vary, is how much more weight will be given to larger values. This results in different shapes of distributions, which is relevant in a number of applications in machine learning. The shape of the distribution is varied through a so called temperature parameter (higher temperature = wider distributions).\n",
    "\n",
    "\n",
    "$$\\operatorname{softmax}(x)_{i}=\\frac{e^{\\frac{y_{i}}{T}}}{\\Sigma_{j}^{N} e^{\\frac{y_{j}}{T}}}$$\n",
    "\n",
    "\n",
    "\n",
    "The different temperatures results in different weighings\n",
    "<img src=\"http://drive.google.com/uc?export=view&id=1TxoVoA87aLS5jV9VY6Kbhrpvpv40Z2Tp\" width=\"65%\">\n",
    "\n",
    "<img src=\"http://drive.google.com/uc?export=view&id=1ozAUuZAysFKpOLCUkEauVOfGWc-CcEpP\" width=\"65%\">\n",
    "\n",
    "In turn leading to wider and narrower distributions\n",
    "<img src=\"http://drive.google.com/uc?export=view&id=1WwJsSncSA5Vb6fJ6SJ2hhy_KAKyv_KuK\" width=\"65%\">\n",
    "\n",
    "\n",
    "\n",
    "\n",
    "### Cheaper softmax alternatives\n",
    "\n",
    "When the linear layer is very wide (e.g., there are a lot of classes in a classification task) computing the full softmax is expensive because even to compute the probability of single output the exponentials of all outputs has to be computed. \"Cheaper\" alternatives have been developed, e.g. \n",
    "\n",
    "####  Hiearchical Softmax\n",
    "\n",
    "Here we treat the softmax layer as a binary classification tree for a multiclass classification problem, and the linear outputs are at the internal nodes of the tree, where they are interpreted as the logarithms of odds for the classes on the left and right sides of the corresponding subtree:\n",
    "\n",
    "<img src=\"https://i.stack.imgur.com/L6siJ.png\" width=\"45%\">\n",
    "\n",
    "To calculate the probability of turning right:\n",
    "\n",
    "$$ p(\\text{right} | n, c) = \\sigma (h^\\top v'_{n}) $$\n",
    "\n",
    "Consequently the probability of turning left is:\n",
    "\n",
    "$$ 1 - p(  \\text{right}   |    n,c) $$,\n",
    "\n",
    "where n stands for node and c denotes the outcome we are interested in.\n",
    "\n",
    "\n",
    "To calculate the probability corresponding to an individual class one simply multiplies the probabilities belonging to the nodes on the path, e.g. for class $w_2$\n",
    "\n",
    "$$P(w_2) = (1-\\sigma(n(w_2,1)))(1-\\sigma(n(w_2,2)))\\sigma(n(w_2,3))$$\n",
    "\n",
    "$$= \\sigma(-n(w_2,1))\\sigma(-n(w_2,2))\\sigma(n(w_2,3))$$\n",
    "\n",
    "In general, it is enough to compute $\\log V$ exponentials to calculate the probability of a single item in the layer.\n",
    "\n",
    "Since (as we will soon see) during training it's typically enough to calculate the probability of one item, this can significantly speed up training. In contrast, there is typically no speedup for prediction, when all probabilities need to be calculated.\n",
    "\n",
    "See [Ruder's summary](http://ruder.io/word-embeddings-softmax/) about other alternatives.\n",
    "\n",
    "## Using probabilities in a loss function: entropy and cross entropy\n",
    "\n",
    "How should we express the difference between the real distribution and our prediction? We need to be able to measure the \"distance\" between probability distributions.\n",
    "\n",
    "### Entropy  \n",
    "\n",
    "An $E$ event's _information content_ (measured in bits)\n",
    "$$I(E)=-\\log_2 P(E).$$\n",
    "\n",
    "- Log just introduced as way to give higher weighing to more unlikely events as they contain more information (larger degree of surprise)\n",
    "- For most applications basis of logarithm does not matter as long as it is kept fix\n",
    "- From now on we drop it -- typical choices are 2, 10 and $e$ -- Euler's number.\n",
    "\n",
    "If $X$ is a discrete random variable with values $x_1,\\dots,x_n$ then its $X$ _entropy_, $H(X)$ is its  _expected information content_\n",
    "\n",
    "$$H(X) = \\mathbb E(I(X))=\\sum_{i=1}^{n}P(X=x_i)I(X=x_i)=-\\sum_{i=1}^{n}P(X=x_i)\\log P(X=x_i).$$\n",
    "\n",
    "The idea of entropy is derived from the optimal encoding of messages. If somebody tries to transfer messages about the values of identically distributed and independent random variables on a (noiseless) binary channel then the optimal coding of the messages (which uses the minimum necessary amount of bits) will encode each possible variable value with a series of bits whose length corresponds to the value's information content, and, as a consequence, the optimal average (expected) message length will be the variable's entropy.\n",
    "\n",
    "\n"
   ]
  },
  {
   "cell_type": "markdown",
   "metadata": {},
   "source": [
    "<img src=\"https://upload.wikimedia.org/wikipedia/commons/1/17/Binary_logarithm_plot_with_ticks.svg\" width=45%>\n"
   ]
  },
  {
   "cell_type": "markdown",
   "metadata": {},
   "source": [
    "### Cross entropy\n",
    "\n",
    "If $P$ and $\\hat{P}$ are two prob. distributions for discrete random variable $X$  then their cross entropy is\n",
    "\n",
    "$$H(P, \\hat{P}) = -\\sum_{i=1}^{n}P(X=x_i)\\log \\hat P(X=x_i).$$\n",
    "\n",
    "Useful interpretation: if the real distribution is $P$ and the predicted/assumed distribution is $\\hat P$, then $H(P, \\hat P)$ is the expected average message length with the coding that would be optimal if the assumed $\\hat P$ was indeed the real distribution. Since $H(P)$ is the minimal necessary average message length, $H(P,\\hat P)\\geq H(P)$. \n",
    "\n",
    "See https://rdipietro.github.io/friendly-intro-to-cross-entropy-loss/ for some  more details."
   ]
  },
  {
   "cell_type": "markdown",
   "metadata": {
    "colab_type": "text",
    "id": "FTPxVBephvAs"
   },
   "source": [
    "#### Cross entropy with \"trivial\"/\"one hot\" distributions\n",
    "\n",
    "An important special case for us: if the basis (\"real\") $P$ distribution has 1 probability for an $x_k$ value  of the variable (and, consequently, 0 for all others) then the cross entropy between $P$ and a predicted $\\hat P$ is simply \n",
    "\n",
    "$$H(P, \\hat{P})=-\\log\\hat P(X=x_k)$$\n",
    "\n"
   ]
  },
  {
   "cell_type": "markdown",
   "metadata": {},
   "source": [
    "<img src=\"https://ml-cheatsheet.readthedocs.io/en/latest/_images/cross_entropy.png\" width=45%>"
   ]
  },
  {
   "cell_type": "markdown",
   "metadata": {
    "colab_type": "text",
    "id": "0PhwixkJcbLg"
   },
   "source": [
    "### Kullback-Leibler divergence aka relative entropy\n",
    "\n",
    "A closely related, frequently used metric for comparing two probability distributions $P$ and $Q$ is the Kullback-Leibler divergence, which is simply the difference between the cross-entropy between $P$ and $Q$ and $P$'s entropy:\n",
    "\n",
    "$$\n",
    "D_{KL}(P \\| Q) = H(P, Q) - H(P) =\\sum_{i=1}^{n}P(X=x_i)\\log \\frac{P(X=x_i)}{Q(X=x_i)}.\n",
    "$$\n",
    "\n",
    "Important: KL divergence is __not__  symmetric -- in most cases $D_{KL}(P \\| Q) \\neq D_{KL}(Q \\| P)$."
   ]
  }
 ],
 "metadata": {
  "colab": {
   "collapsed_sections": [],
   "name": "Day6-Theory.ipynb",
   "provenance": [],
   "version": "0.3.2"
  },
  "kernelspec": {
   "display_name": "Python 3",
   "language": "python",
   "name": "python3"
  },
  "language_info": {
   "codemirror_mode": {
    "name": "ipython",
    "version": 3
   },
   "file_extension": ".py",
   "mimetype": "text/x-python",
   "name": "python",
   "nbconvert_exporter": "python",
   "pygments_lexer": "ipython3",
   "version": "3.7.3"
  },
  "toc": {
   "base_numbering": 1,
   "nav_menu": {},
   "number_sections": true,
   "sideBar": true,
   "skip_h1_title": false,
   "title_cell": "Table of Contents",
   "title_sidebar": "Contents",
   "toc_cell": false,
   "toc_position": {
    "height": "calc(100% - 180px)",
    "left": "10px",
    "top": "150px",
    "width": "165px"
   },
   "toc_section_display": true,
   "toc_window_display": false
  },
  "varInspector": {
   "cols": {
    "lenName": 16,
    "lenType": 16,
    "lenVar": 40
   },
   "kernels_config": {
    "python": {
     "delete_cmd_postfix": "",
     "delete_cmd_prefix": "del ",
     "library": "var_list.py",
     "varRefreshCmd": "print(var_dic_list())"
    },
    "r": {
     "delete_cmd_postfix": ") ",
     "delete_cmd_prefix": "rm(",
     "library": "var_list.r",
     "varRefreshCmd": "cat(var_dic_list()) "
    }
   },
   "types_to_exclude": [
    "module",
    "function",
    "builtin_function_or_method",
    "instance",
    "_Feature"
   ],
   "window_display": false
  }
 },
 "nbformat": 4,
 "nbformat_minor": 4
}
