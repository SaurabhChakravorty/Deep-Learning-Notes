{
  "nbformat": 4,
  "nbformat_minor": 0,
  "metadata": {
    "accelerator": "GPU",
    "colab": {
      "name": "DL2_Day2-Task1_Sentiment_classification_handout_Saurabh.ipynb",
      "provenance": []
    },
    "kernelspec": {
      "display_name": "Python 3",
      "language": "python",
      "name": "python3"
    },
    "language_info": {
      "codemirror_mode": {
        "name": "ipython",
        "version": 3
      },
      "file_extension": ".py",
      "mimetype": "text/x-python",
      "name": "python",
      "nbconvert_exporter": "python",
      "pygments_lexer": "ipython3",
      "version": "3.7.9"
    },
    "toc": {
      "base_numbering": 1,
      "nav_menu": {},
      "number_sections": true,
      "sideBar": true,
      "skip_h1_title": false,
      "title_cell": "Table of Contents",
      "title_sidebar": "Contents",
      "toc_cell": false,
      "toc_position": {},
      "toc_section_display": true,
      "toc_window_display": false
    },
    "varInspector": {
      "cols": {
        "lenName": 16,
        "lenType": 16,
        "lenVar": 40
      },
      "kernels_config": {
        "python": {
          "delete_cmd_postfix": "",
          "delete_cmd_prefix": "del ",
          "library": "var_list.py",
          "varRefreshCmd": "print(var_dic_list())"
        },
        "r": {
          "delete_cmd_postfix": ") ",
          "delete_cmd_prefix": "rm(",
          "library": "var_list.r",
          "varRefreshCmd": "cat(var_dic_list()) "
        }
      },
      "types_to_exclude": [
        "module",
        "function",
        "builtin_function_or_method",
        "instance",
        "_Feature"
      ],
      "window_display": false
    }
  },
  "cells": [
    {
      "cell_type": "code",
      "metadata": {
        "id": "mH8yC7Z1-ya5",
        "outputId": "1f1dba37-810d-4468-a9b5-7bdccc4347d5",
        "colab": {
          "base_uri": "https://localhost:8080/",
          "height": 734
        }
      },
      "source": [
        "! python -m spacy download en\n",
        "! pip install wordcloud\n",
        "! wget https://gitlab.com/andras.simonyi/10_days_AI_training_data/raw/master/sentiment.tsv?inline=false -O sentiment.tsv"
      ],
      "execution_count": 25,
      "outputs": [
        {
          "output_type": "stream",
          "text": [
            "Requirement already satisfied: en_core_web_sm==2.2.5 from https://github.com/explosion/spacy-models/releases/download/en_core_web_sm-2.2.5/en_core_web_sm-2.2.5.tar.gz#egg=en_core_web_sm==2.2.5 in /usr/local/lib/python3.6/dist-packages (2.2.5)\n",
            "Requirement already satisfied: spacy>=2.2.2 in /usr/local/lib/python3.6/dist-packages (from en_core_web_sm==2.2.5) (2.2.4)\n",
            "Requirement already satisfied: requests<3.0.0,>=2.13.0 in /usr/local/lib/python3.6/dist-packages (from spacy>=2.2.2->en_core_web_sm==2.2.5) (2.23.0)\n",
            "Requirement already satisfied: numpy>=1.15.0 in /usr/local/lib/python3.6/dist-packages (from spacy>=2.2.2->en_core_web_sm==2.2.5) (1.18.5)\n",
            "Requirement already satisfied: cymem<2.1.0,>=2.0.2 in /usr/local/lib/python3.6/dist-packages (from spacy>=2.2.2->en_core_web_sm==2.2.5) (2.0.3)\n",
            "Requirement already satisfied: setuptools in /usr/local/lib/python3.6/dist-packages (from spacy>=2.2.2->en_core_web_sm==2.2.5) (50.3.0)\n",
            "Requirement already satisfied: murmurhash<1.1.0,>=0.28.0 in /usr/local/lib/python3.6/dist-packages (from spacy>=2.2.2->en_core_web_sm==2.2.5) (1.0.2)\n",
            "Requirement already satisfied: blis<0.5.0,>=0.4.0 in /usr/local/lib/python3.6/dist-packages (from spacy>=2.2.2->en_core_web_sm==2.2.5) (0.4.1)\n",
            "Requirement already satisfied: wasabi<1.1.0,>=0.4.0 in /usr/local/lib/python3.6/dist-packages (from spacy>=2.2.2->en_core_web_sm==2.2.5) (0.8.0)\n",
            "Requirement already satisfied: thinc==7.4.0 in /usr/local/lib/python3.6/dist-packages (from spacy>=2.2.2->en_core_web_sm==2.2.5) (7.4.0)\n",
            "Requirement already satisfied: tqdm<5.0.0,>=4.38.0 in /usr/local/lib/python3.6/dist-packages (from spacy>=2.2.2->en_core_web_sm==2.2.5) (4.41.1)\n",
            "Requirement already satisfied: catalogue<1.1.0,>=0.0.7 in /usr/local/lib/python3.6/dist-packages (from spacy>=2.2.2->en_core_web_sm==2.2.5) (1.0.0)\n",
            "Requirement already satisfied: plac<1.2.0,>=0.9.6 in /usr/local/lib/python3.6/dist-packages (from spacy>=2.2.2->en_core_web_sm==2.2.5) (1.1.3)\n",
            "Requirement already satisfied: srsly<1.1.0,>=1.0.2 in /usr/local/lib/python3.6/dist-packages (from spacy>=2.2.2->en_core_web_sm==2.2.5) (1.0.2)\n",
            "Requirement already satisfied: preshed<3.1.0,>=3.0.2 in /usr/local/lib/python3.6/dist-packages (from spacy>=2.2.2->en_core_web_sm==2.2.5) (3.0.2)\n",
            "Requirement already satisfied: certifi>=2017.4.17 in /usr/local/lib/python3.6/dist-packages (from requests<3.0.0,>=2.13.0->spacy>=2.2.2->en_core_web_sm==2.2.5) (2020.6.20)\n",
            "Requirement already satisfied: idna<3,>=2.5 in /usr/local/lib/python3.6/dist-packages (from requests<3.0.0,>=2.13.0->spacy>=2.2.2->en_core_web_sm==2.2.5) (2.10)\n",
            "Requirement already satisfied: urllib3!=1.25.0,!=1.25.1,<1.26,>=1.21.1 in /usr/local/lib/python3.6/dist-packages (from requests<3.0.0,>=2.13.0->spacy>=2.2.2->en_core_web_sm==2.2.5) (1.24.3)\n",
            "Requirement already satisfied: chardet<4,>=3.0.2 in /usr/local/lib/python3.6/dist-packages (from requests<3.0.0,>=2.13.0->spacy>=2.2.2->en_core_web_sm==2.2.5) (3.0.4)\n",
            "Requirement already satisfied: importlib-metadata>=0.20; python_version < \"3.8\" in /usr/local/lib/python3.6/dist-packages (from catalogue<1.1.0,>=0.0.7->spacy>=2.2.2->en_core_web_sm==2.2.5) (2.0.0)\n",
            "Requirement already satisfied: zipp>=0.5 in /usr/local/lib/python3.6/dist-packages (from importlib-metadata>=0.20; python_version < \"3.8\"->catalogue<1.1.0,>=0.0.7->spacy>=2.2.2->en_core_web_sm==2.2.5) (3.2.0)\n",
            "\u001b[38;5;2m✔ Download and installation successful\u001b[0m\n",
            "You can now load the model via spacy.load('en_core_web_sm')\n",
            "\u001b[38;5;2m✔ Linking successful\u001b[0m\n",
            "/usr/local/lib/python3.6/dist-packages/en_core_web_sm -->\n",
            "/usr/local/lib/python3.6/dist-packages/spacy/data/en\n",
            "You can now load the model via spacy.load('en')\n",
            "Requirement already satisfied: wordcloud in /usr/local/lib/python3.6/dist-packages (1.5.0)\n",
            "Requirement already satisfied: numpy>=1.6.1 in /usr/local/lib/python3.6/dist-packages (from wordcloud) (1.18.5)\n",
            "Requirement already satisfied: pillow in /usr/local/lib/python3.6/dist-packages (from wordcloud) (7.0.0)\n",
            "--2020-10-12 10:04:22--  https://gitlab.com/andras.simonyi/10_days_AI_training_data/raw/master/sentiment.tsv?inline=false\n",
            "Resolving gitlab.com (gitlab.com)... 172.65.251.78, 2606:4700:90:0:f22e:fbec:5bed:a9b9\n",
            "Connecting to gitlab.com (gitlab.com)|172.65.251.78|:443... connected.\n",
            "HTTP request sent, awaiting response... 200 OK\n",
            "Length: unspecified [text/plain]\n",
            "Saving to: ‘sentiment.tsv’\n",
            "\n",
            "sentiment.tsv           [ <=>                ] 437.05K  --.-KB/s    in 0.1s    \n",
            "\n",
            "2020-10-12 10:04:23 (3.09 MB/s) - ‘sentiment.tsv’ saved [447540]\n",
            "\n"
          ],
          "name": "stdout"
        }
      ]
    },
    {
      "cell_type": "markdown",
      "metadata": {
        "id": "yKNqb75Iy-Yw"
      },
      "source": [
        "# Task: sentiment classification\n",
        "\n",
        "The task is to classify one-sentence long movie reviews/opinions according to the sentiment they express. There are only two categories: positive and negative sentiment.\n",
        "\n",
        "\n",
        "> \"Data source: [UMICH SI650 - Sentiment Classification](https://www.kaggle.com/c/si650winter11/data)\n",
        "\n",
        "> Training data: 7086 lines. \n",
        "  \n",
        "> Format: 1|0 (tab) sentence\n",
        "\n",
        "> Test data: 33052 lines, each contains one sentence. \n",
        "\n",
        "> The data was originally collected from opinmind.com (which is no longer active).\"\n",
        "\n",
        "The data is in the file \"sentiment.tsv\"."
      ]
    },
    {
      "cell_type": "markdown",
      "metadata": {
        "id": "qWjIpjZBy-Y2"
      },
      "source": [
        "# Loading the data"
      ]
    },
    {
      "cell_type": "code",
      "metadata": {
        "id": "S9liEvjzy-Y7",
        "outputId": "70af4850-ff01-4a70-e9a0-2f8d5a1287d2",
        "colab": {
          "base_uri": "https://localhost:8080/",
          "height": 204
        }
      },
      "source": [
        "import pandas as pd\n",
        "\n",
        "df = pd.read_csv('sentiment.tsv', sep='\\t', \n",
        "                 quoting=3, # Quotes are _never_ field separators\n",
        "                 header=None)\n",
        "\n",
        "df.head()"
      ],
      "execution_count": 26,
      "outputs": [
        {
          "output_type": "execute_result",
          "data": {
            "text/html": [
              "<div>\n",
              "<style scoped>\n",
              "    .dataframe tbody tr th:only-of-type {\n",
              "        vertical-align: middle;\n",
              "    }\n",
              "\n",
              "    .dataframe tbody tr th {\n",
              "        vertical-align: top;\n",
              "    }\n",
              "\n",
              "    .dataframe thead th {\n",
              "        text-align: right;\n",
              "    }\n",
              "</style>\n",
              "<table border=\"1\" class=\"dataframe\">\n",
              "  <thead>\n",
              "    <tr style=\"text-align: right;\">\n",
              "      <th></th>\n",
              "      <th>0</th>\n",
              "      <th>1</th>\n",
              "    </tr>\n",
              "  </thead>\n",
              "  <tbody>\n",
              "    <tr>\n",
              "      <th>0</th>\n",
              "      <td>1</td>\n",
              "      <td>The Da Vinci Code book is just awesome.</td>\n",
              "    </tr>\n",
              "    <tr>\n",
              "      <th>1</th>\n",
              "      <td>1</td>\n",
              "      <td>this was the first clive cussler i've ever rea...</td>\n",
              "    </tr>\n",
              "    <tr>\n",
              "      <th>2</th>\n",
              "      <td>1</td>\n",
              "      <td>i liked the Da Vinci Code a lot.</td>\n",
              "    </tr>\n",
              "    <tr>\n",
              "      <th>3</th>\n",
              "      <td>1</td>\n",
              "      <td>i liked the Da Vinci Code a lot.</td>\n",
              "    </tr>\n",
              "    <tr>\n",
              "      <th>4</th>\n",
              "      <td>1</td>\n",
              "      <td>I liked the Da Vinci Code but it ultimatly did...</td>\n",
              "    </tr>\n",
              "  </tbody>\n",
              "</table>\n",
              "</div>"
            ],
            "text/plain": [
              "   0                                                  1\n",
              "0  1            The Da Vinci Code book is just awesome.\n",
              "1  1  this was the first clive cussler i've ever rea...\n",
              "2  1                   i liked the Da Vinci Code a lot.\n",
              "3  1                   i liked the Da Vinci Code a lot.\n",
              "4  1  I liked the Da Vinci Code but it ultimatly did..."
            ]
          },
          "metadata": {
            "tags": []
          },
          "execution_count": 26
        }
      ]
    },
    {
      "cell_type": "code",
      "metadata": {
        "id": "HRLzOOkny-ZO",
        "outputId": "859bd5dd-e767-4ce0-ac34-15e694d69375",
        "colab": {
          "base_uri": "https://localhost:8080/",
          "height": 204
        }
      },
      "source": [
        "df = df[[1,0]] # rearrange columns\n",
        "\n",
        "df.rename(columns={1:\"text\", 0:\"sentiment\"}, inplace=True) # rename columns\n",
        "\n",
        "df.head()"
      ],
      "execution_count": 27,
      "outputs": [
        {
          "output_type": "execute_result",
          "data": {
            "text/html": [
              "<div>\n",
              "<style scoped>\n",
              "    .dataframe tbody tr th:only-of-type {\n",
              "        vertical-align: middle;\n",
              "    }\n",
              "\n",
              "    .dataframe tbody tr th {\n",
              "        vertical-align: top;\n",
              "    }\n",
              "\n",
              "    .dataframe thead th {\n",
              "        text-align: right;\n",
              "    }\n",
              "</style>\n",
              "<table border=\"1\" class=\"dataframe\">\n",
              "  <thead>\n",
              "    <tr style=\"text-align: right;\">\n",
              "      <th></th>\n",
              "      <th>text</th>\n",
              "      <th>sentiment</th>\n",
              "    </tr>\n",
              "  </thead>\n",
              "  <tbody>\n",
              "    <tr>\n",
              "      <th>0</th>\n",
              "      <td>The Da Vinci Code book is just awesome.</td>\n",
              "      <td>1</td>\n",
              "    </tr>\n",
              "    <tr>\n",
              "      <th>1</th>\n",
              "      <td>this was the first clive cussler i've ever rea...</td>\n",
              "      <td>1</td>\n",
              "    </tr>\n",
              "    <tr>\n",
              "      <th>2</th>\n",
              "      <td>i liked the Da Vinci Code a lot.</td>\n",
              "      <td>1</td>\n",
              "    </tr>\n",
              "    <tr>\n",
              "      <th>3</th>\n",
              "      <td>i liked the Da Vinci Code a lot.</td>\n",
              "      <td>1</td>\n",
              "    </tr>\n",
              "    <tr>\n",
              "      <th>4</th>\n",
              "      <td>I liked the Da Vinci Code but it ultimatly did...</td>\n",
              "      <td>1</td>\n",
              "    </tr>\n",
              "  </tbody>\n",
              "</table>\n",
              "</div>"
            ],
            "text/plain": [
              "                                                text  sentiment\n",
              "0            The Da Vinci Code book is just awesome.          1\n",
              "1  this was the first clive cussler i've ever rea...          1\n",
              "2                   i liked the Da Vinci Code a lot.          1\n",
              "3                   i liked the Da Vinci Code a lot.          1\n",
              "4  I liked the Da Vinci Code but it ultimatly did...          1"
            ]
          },
          "metadata": {
            "tags": []
          },
          "execution_count": 27
        }
      ]
    },
    {
      "cell_type": "markdown",
      "metadata": {
        "id": "-urvA8RDy-Zc"
      },
      "source": [
        "# Splitting into train, validation and test"
      ]
    },
    {
      "cell_type": "markdown",
      "metadata": {
        "id": "BS5wjfjEy-Ze"
      },
      "source": [
        "Before doing anything else (!) we divide our data into train, validation and test parts,"
      ]
    },
    {
      "cell_type": "code",
      "metadata": {
        "id": "S7MV9KUbSkCs",
        "outputId": "3c273101-7335-4671-bd8f-21b943f571ca",
        "colab": {
          "base_uri": "https://localhost:8080/",
          "height": 419
        }
      },
      "source": [
        "# Import the necessary function from Scikit\n",
        "from sklearn.model_selection import train_test_split\n",
        "train_test_split(df, test_size=0.1,random_state=13)[1]"
      ],
      "execution_count": 28,
      "outputs": [
        {
          "output_type": "execute_result",
          "data": {
            "text/html": [
              "<div>\n",
              "<style scoped>\n",
              "    .dataframe tbody tr th:only-of-type {\n",
              "        vertical-align: middle;\n",
              "    }\n",
              "\n",
              "    .dataframe tbody tr th {\n",
              "        vertical-align: top;\n",
              "    }\n",
              "\n",
              "    .dataframe thead th {\n",
              "        text-align: right;\n",
              "    }\n",
              "</style>\n",
              "<table border=\"1\" class=\"dataframe\">\n",
              "  <thead>\n",
              "    <tr style=\"text-align: right;\">\n",
              "      <th></th>\n",
              "      <th>text</th>\n",
              "      <th>sentiment</th>\n",
              "    </tr>\n",
              "  </thead>\n",
              "  <tbody>\n",
              "    <tr>\n",
              "      <th>4840</th>\n",
              "      <td>by the way, the Da Vinci Code sucked, just let...</td>\n",
              "      <td>0</td>\n",
              "    </tr>\n",
              "    <tr>\n",
              "      <th>5810</th>\n",
              "      <td>I think I hate Harry Potter because it outshin...</td>\n",
              "      <td>0</td>\n",
              "    </tr>\n",
              "    <tr>\n",
              "      <th>1101</th>\n",
              "      <td>went to see Mission Impossible 3 which is AWES...</td>\n",
              "      <td>1</td>\n",
              "    </tr>\n",
              "    <tr>\n",
              "      <th>6916</th>\n",
              "      <td>Brokeback Mountain is fucking horrible..</td>\n",
              "      <td>0</td>\n",
              "    </tr>\n",
              "    <tr>\n",
              "      <th>566</th>\n",
              "      <td>The Da Vinci Code is awesome..</td>\n",
              "      <td>1</td>\n",
              "    </tr>\n",
              "    <tr>\n",
              "      <th>...</th>\n",
              "      <td>...</td>\n",
              "      <td>...</td>\n",
              "    </tr>\n",
              "    <tr>\n",
              "      <th>1997</th>\n",
              "      <td>I love politics and Harry Potter...</td>\n",
              "      <td>1</td>\n",
              "    </tr>\n",
              "    <tr>\n",
              "      <th>6770</th>\n",
              "      <td>Oh, and Brokeback Mountain is a TERRIBLE movie...</td>\n",
              "      <td>0</td>\n",
              "    </tr>\n",
              "    <tr>\n",
              "      <th>5150</th>\n",
              "      <td>I hate Harry Potter..</td>\n",
              "      <td>0</td>\n",
              "    </tr>\n",
              "    <tr>\n",
              "      <th>167</th>\n",
              "      <td>I agree with you, I loved Da Vinci Code, I jus...</td>\n",
              "      <td>1</td>\n",
              "    </tr>\n",
              "    <tr>\n",
              "      <th>4614</th>\n",
              "      <td>friday hung out with kelsie and we went and sa...</td>\n",
              "      <td>0</td>\n",
              "    </tr>\n",
              "  </tbody>\n",
              "</table>\n",
              "<p>709 rows × 2 columns</p>\n",
              "</div>"
            ],
            "text/plain": [
              "                                                   text  sentiment\n",
              "4840  by the way, the Da Vinci Code sucked, just let...          0\n",
              "5810  I think I hate Harry Potter because it outshin...          0\n",
              "1101  went to see Mission Impossible 3 which is AWES...          1\n",
              "6916           Brokeback Mountain is fucking horrible..          0\n",
              "566                      The Da Vinci Code is awesome..          1\n",
              "...                                                 ...        ...\n",
              "1997                I love politics and Harry Potter...          1\n",
              "6770  Oh, and Brokeback Mountain is a TERRIBLE movie...          0\n",
              "5150                              I hate Harry Potter..          0\n",
              "167   I agree with you, I loved Da Vinci Code, I jus...          1\n",
              "4614  friday hung out with kelsie and we went and sa...          0\n",
              "\n",
              "[709 rows x 2 columns]"
            ]
          },
          "metadata": {
            "tags": []
          },
          "execution_count": 28
        }
      ]
    },
    {
      "cell_type": "code",
      "metadata": {
        "id": "xcMx4I5gy-Zh",
        "outputId": "28a509fc-2d71-4d9e-a48f-923256ddedae",
        "colab": {
          "base_uri": "https://localhost:8080/",
          "height": 34
        }
      },
      "source": [
        "# Import the necessary function from Scikit\n",
        "from sklearn.model_selection import train_test_split\n",
        "\n",
        "# Please observe, that we can only do a split into two\n",
        "# hence our best option is to call the function twice in a chain\n",
        "# Don't forget to fix the random seed also, eg to 13, since that is a lucky number! :-)\n",
        "df_train, df_test_valid = train_test_split(df, test_size=0.2,random_state=13)\n",
        "df_test, df_valid       = train_test_split(df_test_valid, test_size=0.5,random_state=13)\n",
        "\n",
        "assert len(df_train)==5668 and len(df_valid)==709 and len(df_test)==709\n",
        "print(len(df_train), len(df_valid), len(df_test))"
      ],
      "execution_count": 29,
      "outputs": [
        {
          "output_type": "stream",
          "text": [
            "5668 709 709\n"
          ],
          "name": "stdout"
        }
      ]
    },
    {
      "cell_type": "code",
      "metadata": {
        "id": "RDgqZ2GscFs3",
        "outputId": "e3675c6b-5b99-4297-dc74-96151700f3c3",
        "colab": {
          "base_uri": "https://localhost:8080/",
          "height": 419
        }
      },
      "source": [
        "train_test_split(df, test_size=0.1,random_state=13)[1]"
      ],
      "execution_count": 30,
      "outputs": [
        {
          "output_type": "execute_result",
          "data": {
            "text/html": [
              "<div>\n",
              "<style scoped>\n",
              "    .dataframe tbody tr th:only-of-type {\n",
              "        vertical-align: middle;\n",
              "    }\n",
              "\n",
              "    .dataframe tbody tr th {\n",
              "        vertical-align: top;\n",
              "    }\n",
              "\n",
              "    .dataframe thead th {\n",
              "        text-align: right;\n",
              "    }\n",
              "</style>\n",
              "<table border=\"1\" class=\"dataframe\">\n",
              "  <thead>\n",
              "    <tr style=\"text-align: right;\">\n",
              "      <th></th>\n",
              "      <th>text</th>\n",
              "      <th>sentiment</th>\n",
              "    </tr>\n",
              "  </thead>\n",
              "  <tbody>\n",
              "    <tr>\n",
              "      <th>4840</th>\n",
              "      <td>by the way, the Da Vinci Code sucked, just let...</td>\n",
              "      <td>0</td>\n",
              "    </tr>\n",
              "    <tr>\n",
              "      <th>5810</th>\n",
              "      <td>I think I hate Harry Potter because it outshin...</td>\n",
              "      <td>0</td>\n",
              "    </tr>\n",
              "    <tr>\n",
              "      <th>1101</th>\n",
              "      <td>went to see Mission Impossible 3 which is AWES...</td>\n",
              "      <td>1</td>\n",
              "    </tr>\n",
              "    <tr>\n",
              "      <th>6916</th>\n",
              "      <td>Brokeback Mountain is fucking horrible..</td>\n",
              "      <td>0</td>\n",
              "    </tr>\n",
              "    <tr>\n",
              "      <th>566</th>\n",
              "      <td>The Da Vinci Code is awesome..</td>\n",
              "      <td>1</td>\n",
              "    </tr>\n",
              "    <tr>\n",
              "      <th>...</th>\n",
              "      <td>...</td>\n",
              "      <td>...</td>\n",
              "    </tr>\n",
              "    <tr>\n",
              "      <th>1997</th>\n",
              "      <td>I love politics and Harry Potter...</td>\n",
              "      <td>1</td>\n",
              "    </tr>\n",
              "    <tr>\n",
              "      <th>6770</th>\n",
              "      <td>Oh, and Brokeback Mountain is a TERRIBLE movie...</td>\n",
              "      <td>0</td>\n",
              "    </tr>\n",
              "    <tr>\n",
              "      <th>5150</th>\n",
              "      <td>I hate Harry Potter..</td>\n",
              "      <td>0</td>\n",
              "    </tr>\n",
              "    <tr>\n",
              "      <th>167</th>\n",
              "      <td>I agree with you, I loved Da Vinci Code, I jus...</td>\n",
              "      <td>1</td>\n",
              "    </tr>\n",
              "    <tr>\n",
              "      <th>4614</th>\n",
              "      <td>friday hung out with kelsie and we went and sa...</td>\n",
              "      <td>0</td>\n",
              "    </tr>\n",
              "  </tbody>\n",
              "</table>\n",
              "<p>709 rows × 2 columns</p>\n",
              "</div>"
            ],
            "text/plain": [
              "                                                   text  sentiment\n",
              "4840  by the way, the Da Vinci Code sucked, just let...          0\n",
              "5810  I think I hate Harry Potter because it outshin...          0\n",
              "1101  went to see Mission Impossible 3 which is AWES...          1\n",
              "6916           Brokeback Mountain is fucking horrible..          0\n",
              "566                      The Da Vinci Code is awesome..          1\n",
              "...                                                 ...        ...\n",
              "1997                I love politics and Harry Potter...          1\n",
              "6770  Oh, and Brokeback Mountain is a TERRIBLE movie...          0\n",
              "5150                              I hate Harry Potter..          0\n",
              "167   I agree with you, I loved Da Vinci Code, I jus...          1\n",
              "4614  friday hung out with kelsie and we went and sa...          0\n",
              "\n",
              "[709 rows x 2 columns]"
            ]
          },
          "metadata": {
            "tags": []
          },
          "execution_count": 30
        }
      ]
    },
    {
      "cell_type": "markdown",
      "metadata": {
        "id": "UCbUUTBty-Zq"
      },
      "source": [
        "# Inspecting the data"
      ]
    },
    {
      "cell_type": "code",
      "metadata": {
        "id": "pMZv_My5y-Zt",
        "outputId": "128cb394-281c-4e43-fe38-2280797a4a59",
        "colab": {
          "base_uri": "https://localhost:8080/",
          "height": 297
        }
      },
      "source": [
        "df_train.describe()"
      ],
      "execution_count": 31,
      "outputs": [
        {
          "output_type": "execute_result",
          "data": {
            "text/html": [
              "<div>\n",
              "<style scoped>\n",
              "    .dataframe tbody tr th:only-of-type {\n",
              "        vertical-align: middle;\n",
              "    }\n",
              "\n",
              "    .dataframe tbody tr th {\n",
              "        vertical-align: top;\n",
              "    }\n",
              "\n",
              "    .dataframe thead th {\n",
              "        text-align: right;\n",
              "    }\n",
              "</style>\n",
              "<table border=\"1\" class=\"dataframe\">\n",
              "  <thead>\n",
              "    <tr style=\"text-align: right;\">\n",
              "      <th></th>\n",
              "      <th>sentiment</th>\n",
              "    </tr>\n",
              "  </thead>\n",
              "  <tbody>\n",
              "    <tr>\n",
              "      <th>count</th>\n",
              "      <td>5668.000000</td>\n",
              "    </tr>\n",
              "    <tr>\n",
              "      <th>mean</th>\n",
              "      <td>0.559104</td>\n",
              "    </tr>\n",
              "    <tr>\n",
              "      <th>std</th>\n",
              "      <td>0.496538</td>\n",
              "    </tr>\n",
              "    <tr>\n",
              "      <th>min</th>\n",
              "      <td>0.000000</td>\n",
              "    </tr>\n",
              "    <tr>\n",
              "      <th>25%</th>\n",
              "      <td>0.000000</td>\n",
              "    </tr>\n",
              "    <tr>\n",
              "      <th>50%</th>\n",
              "      <td>1.000000</td>\n",
              "    </tr>\n",
              "    <tr>\n",
              "      <th>75%</th>\n",
              "      <td>1.000000</td>\n",
              "    </tr>\n",
              "    <tr>\n",
              "      <th>max</th>\n",
              "      <td>1.000000</td>\n",
              "    </tr>\n",
              "  </tbody>\n",
              "</table>\n",
              "</div>"
            ],
            "text/plain": [
              "         sentiment\n",
              "count  5668.000000\n",
              "mean      0.559104\n",
              "std       0.496538\n",
              "min       0.000000\n",
              "25%       0.000000\n",
              "50%       1.000000\n",
              "75%       1.000000\n",
              "max       1.000000"
            ]
          },
          "metadata": {
            "tags": []
          },
          "execution_count": 31
        }
      ]
    },
    {
      "cell_type": "markdown",
      "metadata": {
        "id": "MhMtyNyGy-Z4"
      },
      "source": [
        "We can examine the lengths of sentences as well."
      ]
    },
    {
      "cell_type": "code",
      "metadata": {
        "id": "I_a-pzhcy-Z7",
        "outputId": "4b7ccacd-0d57-4719-a186-40a92e3dd899",
        "colab": {
          "base_uri": "https://localhost:8080/",
          "height": 170
        }
      },
      "source": [
        "n_chars = df_train.text.apply(lambda x: len(x))\n",
        "\n",
        "n_chars.describe()"
      ],
      "execution_count": 32,
      "outputs": [
        {
          "output_type": "execute_result",
          "data": {
            "text/plain": [
              "count    5668.000000\n",
              "mean       60.100565\n",
              "std        37.931478\n",
              "min        18.000000\n",
              "25%        32.000000\n",
              "50%        48.000000\n",
              "75%        77.000000\n",
              "max       203.000000\n",
              "Name: text, dtype: float64"
            ]
          },
          "metadata": {
            "tags": []
          },
          "execution_count": 32
        }
      ]
    },
    {
      "cell_type": "markdown",
      "metadata": {
        "id": "UalJeEyOy-aJ"
      },
      "source": [
        "The first sentence with the maximal length:"
      ]
    },
    {
      "cell_type": "code",
      "metadata": {
        "id": "tujl0aK-y-aO",
        "outputId": "800610ce-9cca-4bf4-fe56-901a369159a2",
        "colab": {
          "base_uri": "https://localhost:8080/",
          "height": 52
        }
      },
      "source": [
        "long_sentence = df_train.loc[n_chars.idxmax(), \"text\"]\n",
        "long_sentence"
      ],
      "execution_count": 33,
      "outputs": [
        {
          "output_type": "execute_result",
          "data": {
            "application/vnd.google.colaboratory.intrinsic+json": {
              "type": "string"
            },
            "text/plain": [
              "'A mother in Georgia wants her local school board to take Harry Potter out of the schools and libraries because, in her opinion, reading Harry Potter leads to witchcraft, which according to her is evil...'"
            ]
          },
          "metadata": {
            "tags": []
          },
          "execution_count": 33
        }
      ]
    },
    {
      "cell_type": "markdown",
      "metadata": {
        "id": "fr0k2LGsy-ag"
      },
      "source": [
        "# Extra task: Let's do a word cloud!\n",
        "\n",
        "Let us visualize together and separately (by category) the sentences!\n",
        "\n",
        "Tool: https://github.com/amueller/word_cloud\n",
        "\n",
        "\n",
        "Good example: https://github.com/amueller/word_cloud/blob/master/examples/simple.py\n",
        "\n"
      ]
    },
    {
      "cell_type": "code",
      "metadata": {
        "id": "_Wo1OyNdy-ak"
      },
      "source": [
        "# Helper function for displaying a word cloud\n",
        "# Input: one _UNIFIED_, space separated string!\n",
        "# Protip: https://www.tutorialspoint.com/python/string_join.\n",
        "from wordcloud import WordCloud, STOPWORDS\n",
        "def do_wordcloud(text):\n",
        "    # Generate a word cloud image\n",
        "    wordcloud = WordCloud(width = 800, height = 800, \n",
        "                background_color ='white', \n",
        "                stopwords = stopwords, \n",
        "                min_font_size = 10).generate(text)\n",
        "\n",
        "    # Display the generated image:\n",
        "    # the matplotlib way:\n",
        "    import matplotlib.pyplot as plt\n",
        "\n",
        "    # lower max_font_size\n",
        "    wordcloud = WordCloud(max_font_size=40).generate(text)\n",
        "    plt.figure()\n",
        "    plt.imshow(wordcloud, interpolation=\"bilinear\")\n",
        "    plt.axis(\"off\")\n",
        "    plt.show()\n"
      ],
      "execution_count": 34,
      "outputs": []
    },
    {
      "cell_type": "code",
      "metadata": {
        "id": "B8vuQclYy-av",
        "outputId": "bfb4f6cc-f54e-4a7c-9118-cbd05a06750b",
        "colab": {
          "base_uri": "https://localhost:8080/",
          "height": 198
        }
      },
      "source": [
        "### TASK !!! ####\n",
        "#Put here the world cloud!\n",
        "comment_words = '' \n",
        "stopwords = set(STOPWORDS)\n",
        "for val in df.text: \n",
        "    # typecaste each val to string \n",
        "    val = str(val) \n",
        "  \n",
        "    # split the value \n",
        "    tokens = val.split() \n",
        "      \n",
        "    # Converts each token into lowercase \n",
        "    for i in range(len(tokens)): \n",
        "        tokens[i] = tokens[i].lower() \n",
        "      \n",
        "    comment_words += \" \".join(tokens)+\" \"\n",
        "do_wordcloud(comment_words)"
      ],
      "execution_count": 35,
      "outputs": [
        {
          "output_type": "display_data",
          "data": {
            "image/png": "[encoded data removed]",
            "text/plain": [
              "<Figure size 432x288 with 1 Axes>"
            ]
          },
          "metadata": {
            "tags": [],
            "needs_background": "light"
          }
        }
      ]
    },
    {
      "cell_type": "code",
      "metadata": {
        "id": "S2j3sI2Dy-a0",
        "outputId": "1f2364af-5f41-4e44-89ac-1ee34d3e5f2c",
        "colab": {
          "base_uri": "https://localhost:8080/",
          "height": 198
        }
      },
      "source": [
        "### TASK !!! ####\n",
        "# Here only the cloud for sentences with negative sentiment!\n",
        "# Help: the shape of the DataFrame with only the negative sentences is: (2975, 2)\n",
        "# Source: https://pandas.pydata.org/pandas-docs/stable/indexing.html\n",
        "comment_words = '' \n",
        "stopwords = set(STOPWORDS)\n",
        "for val in df[df['sentiment'] == 0].text: \n",
        "    # typecaste each val to string \n",
        "    val = str(val) \n",
        "  \n",
        "    # split the value \n",
        "    tokens = val.split() \n",
        "      \n",
        "    # Converts each token into lowercase \n",
        "    for i in range(len(tokens)): \n",
        "        tokens[i] = tokens[i].lower() \n",
        "      \n",
        "    comment_words += \" \".join(tokens)+\" \"\n",
        "do_wordcloud(comment_words)\n"
      ],
      "execution_count": 36,
      "outputs": [
        {
          "output_type": "display_data",
          "data": {
            "image/png": "[encoded data removed]",
            "text/plain": [
              "<Figure size 432x288 with 1 Axes>"
            ]
          },
          "metadata": {
            "tags": [],
            "needs_background": "light"
          }
        }
      ]
    },
    {
      "cell_type": "markdown",
      "metadata": {
        "id": "M-GafZ4Py-a9"
      },
      "source": [
        "# Bag of words (BoW) representation of the texts\n",
        "\n",
        "We will represent each text as a (sparse) vector of lemma (word root) counts for frequent lemmas in the training data. \n",
        "\n",
        "For tokenization and lemmatization we use [spaCy](https://spacy.io/), an open source Python NLP library, which can produce a list of unique lemma ids from the text."
      ]
    },
    {
      "cell_type": "code",
      "metadata": {
        "id": "msjbzya6y-a_"
      },
      "source": [
        "import spacy\n",
        "\n",
        "nlp = spacy.load(\"en\", disable=[\"parser\", \"ner\"]) \n",
        "# We only need the tokenizer, all higher functions are now unnecessary."
      ],
      "execution_count": 37,
      "outputs": []
    },
    {
      "cell_type": "markdown",
      "metadata": {
        "id": "8-wKS3rZy-bE"
      },
      "source": [
        "spaCy can produce spaCy Doc objects from texts that contain their linguistic analysis, among others lemmas and their unique spaCy string ids."
      ]
    },
    {
      "cell_type": "code",
      "metadata": {
        "id": "0mNl6cRyy-bH",
        "outputId": "dc1887a3-0c16-40c3-f084-f9bbce5e529f",
        "colab": {
          "base_uri": "https://localhost:8080/",
          "height": 34
        }
      },
      "source": [
        "doc = nlp(long_sentence)\n",
        "type(doc)"
      ],
      "execution_count": 38,
      "outputs": [
        {
          "output_type": "execute_result",
          "data": {
            "text/plain": [
              "spacy.tokens.doc.Doc"
            ]
          },
          "metadata": {
            "tags": []
          },
          "execution_count": 38
        }
      ]
    },
    {
      "cell_type": "code",
      "metadata": {
        "id": "RDVWmOamy-bP",
        "outputId": "35b34fac-cdc1-4077-904f-ce530022d5d8",
        "colab": {
          "base_uri": "https://localhost:8080/",
          "height": 54
        }
      },
      "source": [
        "print([token.lemma_ for token in doc ]) # Lemmas"
      ],
      "execution_count": 39,
      "outputs": [
        {
          "output_type": "stream",
          "text": [
            "['a', 'mother', 'in', 'Georgia', 'want', '-PRON-', 'local', 'school', 'board', 'to', 'take', 'Harry', 'Potter', 'out', 'of', 'the', 'school', 'and', 'library', 'because', ',', 'in', '-PRON-', 'opinion', ',', 'read', 'Harry', 'Potter', 'lead', 'to', 'witchcraft', ',', 'which', 'accord', 'to', '-PRON-', 'be', 'evil', '...']\n"
          ],
          "name": "stdout"
        }
      ]
    },
    {
      "cell_type": "code",
      "metadata": {
        "id": "kklNRbxey-bX",
        "outputId": "a7b8e48b-cdad-4725-e2a2-c7f4caa56a1f",
        "colab": {
          "base_uri": "https://localhost:8080/",
          "height": 54
        }
      },
      "source": [
        "print([token.lemma for token in doc]) # Connected unique ID-s"
      ],
      "execution_count": 40,
      "outputs": [
        {
          "output_type": "stream",
          "text": [
            "[11901859001352538922, 7963322251145911254, 3002984154512732771, 309210702643012516, 7597692042947428029, 561228191312463089, 16319852998319793599, 13293160603192985325, 14899812206273857344, 3791531372978436496, 6789454535283781228, 5164779919001708464, 2416965663249996073, 1696981056005371314, 886050111519832510, 7425985699627899538, 13293160603192985325, 2283656566040971221, 1785747669126016609, 16950148841647037698, 2593208677638477497, 3002984154512732771, 561228191312463089, 14536103007527724270, 2593208677638477497, 11792590063656742891, 5164779919001708464, 2416965663249996073, 82546335403996757, 3791531372978436496, 17905374590688478165, 2593208677638477497, 7063653163634019529, 701735504652304602, 3791531372978436496, 561228191312463089, 10382539506755952630, 15036397985088571056, 10875615029400813363]\n"
          ],
          "name": "stdout"
        }
      ]
    },
    {
      "cell_type": "markdown",
      "metadata": {
        "id": "qVDIxcI_y-br"
      },
      "source": [
        "Now we have to convert these lists into BoW vectors. We could \"roll our own\", but, fortunately, scikit-learn has a feature extractor doing exactly that, the [CountVectorizer](http://scikit-learn.org/stable/modules/generated/sklearn.feature_extraction.text.CountVectorizer.html#sklearn.feature_extraction.text.CountVectorizer) so, for the sake of simplicity, we will use that along with spaCy."
      ]
    },
    {
      "cell_type": "code",
      "metadata": {
        "id": "EIPLl6eDy-bx",
        "outputId": "97d83b02-da1a-4742-bb8b-86222615713d",
        "colab": {
          "base_uri": "https://localhost:8080/",
          "height": 136
        }
      },
      "source": [
        "from sklearn.feature_extraction.text import CountVectorizer\n",
        "\n",
        "cv = CountVectorizer(analyzer=lambda s: [token.lemma for token in nlp(s)], #spaCy for analysis\n",
        "                     min_df= 0.001) # We ignore the lemmas with low document frequency\n",
        "cv"
      ],
      "execution_count": 41,
      "outputs": [
        {
          "output_type": "execute_result",
          "data": {
            "text/plain": [
              "CountVectorizer(analyzer=<function <lambda> at 0x7f1405cb2488>, binary=False,\n",
              "                decode_error='strict', dtype=<class 'numpy.int64'>,\n",
              "                encoding='utf-8', input='content', lowercase=True, max_df=1.0,\n",
              "                max_features=None, min_df=0.001, ngram_range=(1, 1),\n",
              "                preprocessor=None, stop_words=None, strip_accents=None,\n",
              "                token_pattern='(?u)\\\\b\\\\w\\\\w+\\\\b', tokenizer=None,\n",
              "                vocabulary=None)"
            ]
          },
          "metadata": {
            "tags": []
          },
          "execution_count": 41
        }
      ]
    },
    {
      "cell_type": "code",
      "metadata": {
        "id": "Ye0Hc8hOy-cP",
        "outputId": "c878b287-bfb5-4e02-f1b8-7410192d9c4e",
        "colab": {
          "base_uri": "https://localhost:8080/",
          "height": 51
        }
      },
      "source": [
        "sents = [\"I hate this movie.\", \"The movie is the worst I've seen.\"]\n",
        "bows = cv.fit_transform(sents).toarray() \n",
        "# A CountVectorizer produces a sparse matrix, we convert to ndarray\n",
        "bows"
      ],
      "execution_count": 42,
      "outputs": [
        {
          "output_type": "execute_result",
          "data": {
            "text/plain": [
              "array([[1, 1, 0, 1, 0, 0, 0, 1, 0, 1],\n",
              "       [1, 0, 2, 0, 1, 1, 1, 1, 1, 1]])"
            ]
          },
          "metadata": {
            "tags": []
          },
          "execution_count": 42
        }
      ]
    },
    {
      "cell_type": "markdown",
      "metadata": {
        "id": "9BMQTcX5y-cg"
      },
      "source": [
        "Using the CountVectorizer we convert the text columns of our train, validation and  test data into three sparse matrices."
      ]
    },
    {
      "cell_type": "code",
      "metadata": {
        "id": "eo9nOv7jy-ci",
        "outputId": "62480eae-66a7-4c24-dfe2-ec95bf056d02",
        "colab": {
          "base_uri": "https://localhost:8080/",
          "height": 68
        }
      },
      "source": [
        "bows_train = cv.fit_transform(df_train.text)\n",
        "bows_train.sort_indices() # comes from TF2.0 sparse implementation, obscure requirement\n",
        "bow_length = bows_train.shape[1]\n",
        "print(\"BoW length:\", bow_length)\n",
        "bows_train"
      ],
      "execution_count": 43,
      "outputs": [
        {
          "output_type": "stream",
          "text": [
            "BoW length: 374\n"
          ],
          "name": "stdout"
        },
        {
          "output_type": "execute_result",
          "data": {
            "text/plain": [
              "<5668x374 sparse matrix of type '<class 'numpy.int64'>'\n",
              "\twith 63241 stored elements in Compressed Sparse Row format>"
            ]
          },
          "metadata": {
            "tags": []
          },
          "execution_count": 43
        }
      ]
    },
    {
      "cell_type": "code",
      "metadata": {
        "id": "CLd4g4oMy-cz"
      },
      "source": [
        "bows_valid = cv.transform(df_valid.text)\n",
        "bows_valid.sort_indices() # comes from TF2.0 sparse implementation, obscure requirement\n",
        "bows_test = cv.transform(df_test.text)\n",
        "bows_test.sort_indices() # comes from TF2.0 sparse implementation, obscure requirement"
      ],
      "execution_count": 44,
      "outputs": []
    },
    {
      "cell_type": "markdown",
      "metadata": {
        "id": "57_ybJKay-c5"
      },
      "source": [
        "# Task: The model\n",
        "\n",
        "We build a feed-forward neural network in Keras for our binary classification task, which will be trained with cross-entropy loss and minibatch SGD."
      ]
    },
    {
      "cell_type": "code",
      "metadata": {
        "id": "FqDlhUvTc4PT",
        "outputId": "15d79c8d-1dde-4643-866c-ebc607cfac3f",
        "colab": {
          "base_uri": "https://localhost:8080/",
          "height": 255
        }
      },
      "source": [
        "from tensorflow.keras.layers import Input, Dense\n",
        "from tensorflow.keras.models import Model\n",
        "from tensorflow.keras.optimizers import SGD\n",
        "\n",
        "\n",
        "# USE KERAS FUNKTIONAl API!\n",
        "\n",
        "\n",
        "# Parameters\n",
        "############\n",
        "\n",
        "hidden_size = 100\n",
        "\n",
        "# Model\n",
        "#######\n",
        "# Define (instantiate) the input layer!\n",
        "# Give the shape parameter the length of a BoW vector as length\n",
        "# WARNING: shape only accepts a tuple, even is one dimensional!\n",
        "# Input layer\n",
        "inputs = Input((bow_length,))\n",
        "\n",
        "# Hidden layer\n",
        "##############\n",
        "# Define a fully connected hidden layer that can be modified by the parameters above!\n",
        "# Use the ReLU activation function\n",
        "# Give the inputs to the hidden layer\n",
        "# Please be aware, that in Keras Functional, the parameters defining the layer are \n",
        "# \"instantiation\" parameters, but the input of the layer is already a \"call\" parameter!\n",
        "# (The magic lies in the brackets... ;-)\n",
        "\n",
        "hidden_output = Dense(units=hidden_size, activation = 'relu')(inputs)\n",
        "\n",
        "# Softmax \n",
        "#########\n",
        "# Define the output softmax\n",
        "# (Which is a fully connected layer with activation accordingly...)\n",
        "# Please remember, we have exactly two classes! \n",
        "# (We choose to use this generalized, Softmax approach...)\n",
        "# We feed the layer with the output of the hidden one.\n",
        "\n",
        "predictions =  Dense(units=2,activation = 'softmax')(hidden_output)\n",
        "\n",
        "# Whole model\n",
        "##############\n",
        "# Nothing more is left, than to instantiate the model\n",
        "# Please ensure input and output is right!\n",
        "\n",
        "model = Model(inputs,predictions)\n",
        "\n",
        "# Optimization\n",
        "##############\n",
        "# For now, we stick to this.\n",
        "optimizer = SGD(lr=0.01)\n",
        " \n",
        "\n",
        "# Compilation and teaching\n",
        "##########################\n",
        "\n",
        "model.compile(optimizer=optimizer,\n",
        "              loss='sparse_categorical_crossentropy', # use this cross entropy variant\n",
        "                                                      # since the input is not one-hot encoded\n",
        "              metrics=['accuracy']) #We measure and print accuracy during training\n",
        "model.summary()"
      ],
      "execution_count": 45,
      "outputs": [
        {
          "output_type": "stream",
          "text": [
            "Model: \"functional_5\"\n",
            "_________________________________________________________________\n",
            "Layer (type)                 Output Shape              Param #   \n",
            "=================================================================\n",
            "input_3 (InputLayer)         [(None, 374)]             0         \n",
            "_________________________________________________________________\n",
            "dense_4 (Dense)              (None, 100)               37500     \n",
            "_________________________________________________________________\n",
            "dense_5 (Dense)              (None, 2)                 202       \n",
            "=================================================================\n",
            "Total params: 37,702\n",
            "Trainable params: 37,702\n",
            "Non-trainable params: 0\n",
            "_________________________________________________________________\n"
          ],
          "name": "stdout"
        }
      ]
    },
    {
      "cell_type": "markdown",
      "metadata": {
        "id": "S0eFeywbc4PX"
      },
      "source": [
        "# Training"
      ]
    },
    {
      "cell_type": "markdown",
      "metadata": {
        "id": "FTR0wBPl3XaQ"
      },
      "source": [
        "## Let's train the model on GPU\n",
        "- List the devices and put it in training with GPU\n",
        "- Manage the session to run"
      ]
    },
    {
      "cell_type": "code",
      "metadata": {
        "id": "bgdxGc7XzbuL",
        "outputId": "8bf97c56-013e-44dd-c95d-a64f2f744532",
        "colab": {
          "base_uri": "https://localhost:8080/",
          "height": 544
        }
      },
      "source": [
        "from keras.utils import multi_gpu_model\n",
        "from tensorflow.python.client import device_lib\n",
        "import tensorflow as tf\n",
        "print(device_lib.list_local_devices())"
      ],
      "execution_count": 46,
      "outputs": [
        {
          "output_type": "stream",
          "text": [
            "[name: \"/device:CPU:0\"\n",
            "device_type: \"CPU\"\n",
            "memory_limit: 268435456\n",
            "locality {\n",
            "}\n",
            "incarnation: 2908284386185590696\n",
            ", name: \"/device:XLA_CPU:0\"\n",
            "device_type: \"XLA_CPU\"\n",
            "memory_limit: 17179869184\n",
            "locality {\n",
            "}\n",
            "incarnation: 16621486255508903760\n",
            "physical_device_desc: \"device: XLA_CPU device\"\n",
            ", name: \"/device:XLA_GPU:0\"\n",
            "device_type: \"XLA_GPU\"\n",
            "memory_limit: 17179869184\n",
            "locality {\n",
            "}\n",
            "incarnation: 8299494628277493626\n",
            "physical_device_desc: \"device: XLA_GPU device\"\n",
            ", name: \"/device:GPU:0\"\n",
            "device_type: \"GPU\"\n",
            "memory_limit: 15689635648\n",
            "locality {\n",
            "  bus_id: 1\n",
            "  links {\n",
            "  }\n",
            "}\n",
            "incarnation: 6636717995422126462\n",
            "physical_device_desc: \"device: 0, name: Tesla P100-PCIE-16GB, pci bus id: 0000:00:04.0, compute capability: 6.0\"\n",
            "]\n"
          ],
          "name": "stdout"
        }
      ]
    },
    {
      "cell_type": "code",
      "metadata": {
        "id": "hFttSLFlc4PX",
        "outputId": "e2d4b82e-c067-4773-d722-3f482a5172fd",
        "colab": {
          "base_uri": "https://localhost:8080/",
          "height": 1000
        }
      },
      "source": [
        "with tf.device('/gpu:0'):\n",
        "    model.fit(x=bows_train, \n",
        "            y=df_train.sentiment.values,\n",
        "            validation_data=(bows_valid, df_valid.sentiment.values),\n",
        "            epochs=50,\n",
        "            batch_size=200)\n",
        "\n",
        "# Please don't just run, understand!"
      ],
      "execution_count": 47,
      "outputs": [
        {
          "output_type": "stream",
          "text": [
            "Epoch 1/50\n",
            "29/29 [==============================] - 0s 6ms/step - loss: 0.6854 - accuracy: 0.6253 - val_loss: 0.6606 - val_accuracy: 0.6728\n",
            "Epoch 2/50\n",
            "29/29 [==============================] - 0s 3ms/step - loss: 0.6444 - accuracy: 0.6861 - val_loss: 0.6240 - val_accuracy: 0.7278\n",
            "Epoch 3/50\n",
            "29/29 [==============================] - 0s 3ms/step - loss: 0.6134 - accuracy: 0.7292 - val_loss: 0.5948 - val_accuracy: 0.7898\n",
            "Epoch 4/50\n",
            "29/29 [==============================] - 0s 3ms/step - loss: 0.5861 - accuracy: 0.7788 - val_loss: 0.5681 - val_accuracy: 0.8237\n",
            "Epoch 5/50\n",
            "29/29 [==============================] - 0s 2ms/step - loss: 0.5608 - accuracy: 0.8072 - val_loss: 0.5431 - val_accuracy: 0.8449\n",
            "Epoch 6/50\n",
            "29/29 [==============================] - 0s 3ms/step - loss: 0.5366 - accuracy: 0.8497 - val_loss: 0.5196 - val_accuracy: 0.8843\n",
            "Epoch 7/50\n",
            "29/29 [==============================] - 0s 3ms/step - loss: 0.5132 - accuracy: 0.8689 - val_loss: 0.4970 - val_accuracy: 0.8858\n",
            "Epoch 8/50\n",
            "29/29 [==============================] - 0s 2ms/step - loss: 0.4906 - accuracy: 0.8866 - val_loss: 0.4750 - val_accuracy: 0.9111\n",
            "Epoch 9/50\n",
            "29/29 [==============================] - 0s 2ms/step - loss: 0.4686 - accuracy: 0.9042 - val_loss: 0.4535 - val_accuracy: 0.9224\n",
            "Epoch 10/50\n",
            "29/29 [==============================] - 0s 2ms/step - loss: 0.4469 - accuracy: 0.9312 - val_loss: 0.4327 - val_accuracy: 0.9520\n",
            "Epoch 11/50\n",
            "29/29 [==============================] - 0s 3ms/step - loss: 0.4256 - accuracy: 0.9465 - val_loss: 0.4121 - val_accuracy: 0.9520\n",
            "Epoch 12/50\n",
            "29/29 [==============================] - 0s 3ms/step - loss: 0.4049 - accuracy: 0.9483 - val_loss: 0.3922 - val_accuracy: 0.9520\n",
            "Epoch 13/50\n",
            "29/29 [==============================] - 0s 3ms/step - loss: 0.3850 - accuracy: 0.9485 - val_loss: 0.3732 - val_accuracy: 0.9549\n",
            "Epoch 14/50\n",
            "29/29 [==============================] - 0s 2ms/step - loss: 0.3660 - accuracy: 0.9531 - val_loss: 0.3552 - val_accuracy: 0.9676\n",
            "Epoch 15/50\n",
            "29/29 [==============================] - 0s 3ms/step - loss: 0.3478 - accuracy: 0.9612 - val_loss: 0.3380 - val_accuracy: 0.9690\n",
            "Epoch 16/50\n",
            "29/29 [==============================] - 0s 2ms/step - loss: 0.3306 - accuracy: 0.9628 - val_loss: 0.3217 - val_accuracy: 0.9690\n",
            "Epoch 17/50\n",
            "29/29 [==============================] - 0s 2ms/step - loss: 0.3144 - accuracy: 0.9642 - val_loss: 0.3063 - val_accuracy: 0.9690\n",
            "Epoch 18/50\n",
            "29/29 [==============================] - 0s 3ms/step - loss: 0.2990 - accuracy: 0.9654 - val_loss: 0.2915 - val_accuracy: 0.9690\n",
            "Epoch 19/50\n",
            "29/29 [==============================] - 0s 2ms/step - loss: 0.2844 - accuracy: 0.9670 - val_loss: 0.2778 - val_accuracy: 0.9690\n",
            "Epoch 20/50\n",
            "29/29 [==============================] - 0s 3ms/step - loss: 0.2707 - accuracy: 0.9677 - val_loss: 0.2649 - val_accuracy: 0.9690\n",
            "Epoch 21/50\n",
            "29/29 [==============================] - 0s 2ms/step - loss: 0.2580 - accuracy: 0.9679 - val_loss: 0.2528 - val_accuracy: 0.9704\n",
            "Epoch 22/50\n",
            "29/29 [==============================] - 0s 3ms/step - loss: 0.2462 - accuracy: 0.9684 - val_loss: 0.2416 - val_accuracy: 0.9704\n",
            "Epoch 23/50\n",
            "29/29 [==============================] - 0s 2ms/step - loss: 0.2351 - accuracy: 0.9693 - val_loss: 0.2312 - val_accuracy: 0.9704\n",
            "Epoch 24/50\n",
            "29/29 [==============================] - 0s 2ms/step - loss: 0.2250 - accuracy: 0.9695 - val_loss: 0.2215 - val_accuracy: 0.9704\n",
            "Epoch 25/50\n",
            "29/29 [==============================] - 0s 3ms/step - loss: 0.2154 - accuracy: 0.9698 - val_loss: 0.2125 - val_accuracy: 0.9718\n",
            "Epoch 26/50\n",
            "29/29 [==============================] - 0s 2ms/step - loss: 0.2066 - accuracy: 0.9698 - val_loss: 0.2041 - val_accuracy: 0.9718\n",
            "Epoch 27/50\n",
            "29/29 [==============================] - 0s 3ms/step - loss: 0.1984 - accuracy: 0.9700 - val_loss: 0.1963 - val_accuracy: 0.9718\n",
            "Epoch 28/50\n",
            "29/29 [==============================] - 0s 2ms/step - loss: 0.1908 - accuracy: 0.9705 - val_loss: 0.1890 - val_accuracy: 0.9718\n",
            "Epoch 29/50\n",
            "29/29 [==============================] - 0s 3ms/step - loss: 0.1837 - accuracy: 0.9705 - val_loss: 0.1821 - val_accuracy: 0.9718\n",
            "Epoch 30/50\n",
            "29/29 [==============================] - 0s 3ms/step - loss: 0.1771 - accuracy: 0.9711 - val_loss: 0.1757 - val_accuracy: 0.9718\n",
            "Epoch 31/50\n",
            "29/29 [==============================] - 0s 3ms/step - loss: 0.1709 - accuracy: 0.9714 - val_loss: 0.1697 - val_accuracy: 0.9718\n",
            "Epoch 32/50\n",
            "29/29 [==============================] - 0s 3ms/step - loss: 0.1651 - accuracy: 0.9721 - val_loss: 0.1638 - val_accuracy: 0.9732\n",
            "Epoch 33/50\n",
            "29/29 [==============================] - 0s 2ms/step - loss: 0.1596 - accuracy: 0.9727 - val_loss: 0.1585 - val_accuracy: 0.9732\n",
            "Epoch 34/50\n",
            "29/29 [==============================] - 0s 3ms/step - loss: 0.1546 - accuracy: 0.9727 - val_loss: 0.1536 - val_accuracy: 0.9732\n",
            "Epoch 35/50\n",
            "29/29 [==============================] - 0s 2ms/step - loss: 0.1498 - accuracy: 0.9727 - val_loss: 0.1490 - val_accuracy: 0.9732\n",
            "Epoch 36/50\n",
            "29/29 [==============================] - 0s 2ms/step - loss: 0.1453 - accuracy: 0.9732 - val_loss: 0.1446 - val_accuracy: 0.9732\n",
            "Epoch 37/50\n",
            "29/29 [==============================] - 0s 2ms/step - loss: 0.1411 - accuracy: 0.9734 - val_loss: 0.1405 - val_accuracy: 0.9732\n",
            "Epoch 38/50\n",
            "29/29 [==============================] - 0s 3ms/step - loss: 0.1371 - accuracy: 0.9735 - val_loss: 0.1366 - val_accuracy: 0.9732\n",
            "Epoch 39/50\n",
            "29/29 [==============================] - 0s 3ms/step - loss: 0.1334 - accuracy: 0.9744 - val_loss: 0.1329 - val_accuracy: 0.9732\n",
            "Epoch 40/50\n",
            "29/29 [==============================] - 0s 3ms/step - loss: 0.1298 - accuracy: 0.9746 - val_loss: 0.1295 - val_accuracy: 0.9732\n",
            "Epoch 41/50\n",
            "29/29 [==============================] - 0s 3ms/step - loss: 0.1265 - accuracy: 0.9744 - val_loss: 0.1262 - val_accuracy: 0.9732\n",
            "Epoch 42/50\n",
            "29/29 [==============================] - 0s 2ms/step - loss: 0.1233 - accuracy: 0.9746 - val_loss: 0.1231 - val_accuracy: 0.9746\n",
            "Epoch 43/50\n",
            "29/29 [==============================] - 0s 2ms/step - loss: 0.1203 - accuracy: 0.9744 - val_loss: 0.1202 - val_accuracy: 0.9746\n",
            "Epoch 44/50\n",
            "29/29 [==============================] - 0s 2ms/step - loss: 0.1174 - accuracy: 0.9749 - val_loss: 0.1174 - val_accuracy: 0.9760\n",
            "Epoch 45/50\n",
            "29/29 [==============================] - 0s 2ms/step - loss: 0.1147 - accuracy: 0.9753 - val_loss: 0.1148 - val_accuracy: 0.9746\n",
            "Epoch 46/50\n",
            "29/29 [==============================] - 0s 2ms/step - loss: 0.1122 - accuracy: 0.9755 - val_loss: 0.1123 - val_accuracy: 0.9746\n",
            "Epoch 47/50\n",
            "29/29 [==============================] - 0s 2ms/step - loss: 0.1097 - accuracy: 0.9758 - val_loss: 0.1099 - val_accuracy: 0.9746\n",
            "Epoch 48/50\n",
            "29/29 [==============================] - 0s 3ms/step - loss: 0.1074 - accuracy: 0.9760 - val_loss: 0.1077 - val_accuracy: 0.9732\n",
            "Epoch 49/50\n",
            "29/29 [==============================] - 0s 3ms/step - loss: 0.1052 - accuracy: 0.9762 - val_loss: 0.1056 - val_accuracy: 0.9732\n",
            "Epoch 50/50\n",
            "29/29 [==============================] - 0s 3ms/step - loss: 0.1030 - accuracy: 0.9765 - val_loss: 0.1035 - val_accuracy: 0.9732\n"
          ],
          "name": "stdout"
        }
      ]
    },
    {
      "cell_type": "markdown",
      "metadata": {
        "id": "a-m7HwQJc4Pb"
      },
      "source": [
        "# Prediction"
      ]
    },
    {
      "cell_type": "code",
      "metadata": {
        "id": "rWjDZG2Gc4Pb",
        "outputId": "edacb90e-024e-4639-8799-b203bd801074",
        "colab": {
          "base_uri": "https://localhost:8080/",
          "height": 85
        }
      },
      "source": [
        "print(\"=== INTERACTIVE DEMO ===\")\n",
        "while True:\n",
        "    s = input(\"Enter a short text to evaluate or press return to quit: \")\n",
        "    if s == \"\":\n",
        "        break\n",
        "    else:\n",
        "        bow = cv.transform([s])\n",
        "        prob_pred = model.predict(bow[0])\n",
        "        print(f\"Positive vs negative sentiment probability: {prob_pred[0,1]} vs {prob_pred[0,0]}\")"
      ],
      "execution_count": 49,
      "outputs": [
        {
          "output_type": "stream",
          "text": [
            "=== INTERACTIVE DEMO ===\n",
            "Enter a short text to evaluate or press return to quit: \"Professor Florian is the best\" \n",
            "Positive vs negative sentiment probability: 0.7569841742515564 vs 0.2430158257484436\n",
            "Enter a short text to evaluate or press return to quit: \n"
          ],
          "name": "stdout"
        }
      ]
    },
    {
      "cell_type": "code",
      "metadata": {
        "id": "BdRRscQzfB3H"
      },
      "source": [
        ""
      ],
      "execution_count": 48,
      "outputs": []
    }
  ]
}