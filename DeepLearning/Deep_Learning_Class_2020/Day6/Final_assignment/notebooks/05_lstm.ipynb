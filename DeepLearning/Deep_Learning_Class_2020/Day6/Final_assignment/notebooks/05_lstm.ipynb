{
 "cells": [
  {
   "cell_type": "markdown",
   "metadata": {},
   "source": [
    "## Long Short Term Model (LSTM)"
   ]
  },
  {
   "cell_type": "markdown",
   "metadata": {},
   "source": [
    "### General Motivation\n",
    "\n",
    "- The general idea is to capture non-linear relationship of the time series model.\n",
    "- We aim to acheive, deep time series forecasting of the next hour of electricity using our standard time series window\n",
    "- Since most of the traditional time series model, don't incur the sequential time modelling we use LSTM to take into account the rolling time window approach\n",
    "\n",
    "\n",
    "### Core implementation\n",
    "\n",
    "- We use the empirical mode decomposition (EEMD) LSTM for the modelling our time series data\n",
    "- This approach takes into account that more we add randomness in the data the better we learn in the deep neural network layer\n",
    "- We also add time distributed dense layer to learn the distribution in the span of window size as well\n",
    "\n",
    "### Let's implement it......\n",
    "### Load Data\n",
    "Add the path where you keep your data files, "
   ]
  },
  {
   "cell_type": "code",
   "execution_count": 1,
   "metadata": {},
   "outputs": [],
   "source": [
    "# To reload libraries after we make changes to them in real time without restarting the Kernel\n",
    "%load_ext autoreload\n",
    "%autoreload 2"
   ]
  },
  {
   "cell_type": "code",
   "execution_count": 2,
   "metadata": {},
   "outputs": [],
   "source": [
    "# Add path to the location of our library. \n",
    "import sys\n",
    "sys.path.append('../src/')\n",
    "import lib"
   ]
  },
  {
   "cell_type": "markdown",
   "metadata": {},
   "source": [
    "Import some basic libraries, "
   ]
  },
  {
   "cell_type": "code",
   "execution_count": 3,
   "metadata": {},
   "outputs": [],
   "source": [
    "import pandas as pd\n",
    "import numpy as np\n",
    "import matplotlib.pyplot as plt\n",
    "\n",
    "import plotly.express as px\n",
    "import plotly.graph_objects as go\n",
    "from plotly.subplots import make_subplots"
   ]
  },
  {
   "cell_type": "markdown",
   "metadata": {},
   "source": [
    "Set a random seed for reproducibility. "
   ]
  },
  {
   "cell_type": "code",
   "execution_count": 4,
   "metadata": {},
   "outputs": [],
   "source": [
    "np.random.seed(42)"
   ]
  },
  {
   "cell_type": "markdown",
   "metadata": {},
   "source": [
    "### Load Data"
   ]
  },
  {
   "cell_type": "markdown",
   "metadata": {},
   "source": [
    "Add the path where you keep your data files, "
   ]
  },
  {
   "cell_type": "code",
   "execution_count": 5,
   "metadata": {},
   "outputs": [],
   "source": [
    "data_path = '../data/'"
   ]
  },
  {
   "cell_type": "markdown",
   "metadata": {},
   "source": [
    "For the model, I will load price OHLC data where the volume is summed. "
   ]
  },
  {
   "cell_type": "code",
   "execution_count": 6,
   "metadata": {
    "scrolled": false
   },
   "outputs": [
    {
     "data": {
      "text/html": [
       "<div>\n",
       "<style scoped>\n",
       "    .dataframe tbody tr th:only-of-type {\n",
       "        vertical-align: middle;\n",
       "    }\n",
       "\n",
       "    .dataframe tbody tr th {\n",
       "        vertical-align: top;\n",
       "    }\n",
       "\n",
       "    .dataframe thead tr th {\n",
       "        text-align: left;\n",
       "    }\n",
       "</style>\n",
       "<table border=\"1\" class=\"dataframe\">\n",
       "  <thead>\n",
       "    <tr>\n",
       "      <th></th>\n",
       "      <th>contractId</th>\n",
       "      <th colspan=\"6\" halign=\"left\">qty</th>\n",
       "      <th colspan=\"5\" halign=\"left\">px</th>\n",
       "      <th>hour</th>\n",
       "      <th>air_temp</th>\n",
       "      <th>rel_humidity</th>\n",
       "      <th>wind_speed</th>\n",
       "      <th>wind_dir</th>\n",
       "      <th>n_prev_hour_contracts</th>\n",
       "    </tr>\n",
       "    <tr>\n",
       "      <th></th>\n",
       "      <th>contractId</th>\n",
       "      <th>open</th>\n",
       "      <th>high</th>\n",
       "      <th>low</th>\n",
       "      <th>close</th>\n",
       "      <th>sum</th>\n",
       "      <th>var</th>\n",
       "      <th>open</th>\n",
       "      <th>high</th>\n",
       "      <th>low</th>\n",
       "      <th>close</th>\n",
       "      <th>var</th>\n",
       "      <th></th>\n",
       "      <th></th>\n",
       "      <th></th>\n",
       "      <th></th>\n",
       "      <th></th>\n",
       "      <th></th>\n",
       "    </tr>\n",
       "  </thead>\n",
       "  <tbody>\n",
       "    <tr>\n",
       "      <th>2020-03-01 11:00:00</th>\n",
       "      <td>11629792</td>\n",
       "      <td>0.5</td>\n",
       "      <td>3.0</td>\n",
       "      <td>0.1</td>\n",
       "      <td>0.2</td>\n",
       "      <td>7.3</td>\n",
       "      <td>1.933667</td>\n",
       "      <td>-0.99</td>\n",
       "      <td>-0.99</td>\n",
       "      <td>-1.00</td>\n",
       "      <td>-1.00</td>\n",
       "      <td>0.000027</td>\n",
       "      <td>0.000000</td>\n",
       "      <td>0.246006</td>\n",
       "      <td>0.646465</td>\n",
       "      <td>0.619048</td>\n",
       "      <td>0.583333</td>\n",
       "      <td>0.146341</td>\n",
       "    </tr>\n",
       "    <tr>\n",
       "      <th>2020-03-01 11:00:00</th>\n",
       "      <td>11629866</td>\n",
       "      <td>6.0</td>\n",
       "      <td>6.0</td>\n",
       "      <td>1.0</td>\n",
       "      <td>5.0</td>\n",
       "      <td>28.0</td>\n",
       "      <td>3.466667</td>\n",
       "      <td>1.30</td>\n",
       "      <td>1.71</td>\n",
       "      <td>1.30</td>\n",
       "      <td>1.41</td>\n",
       "      <td>0.022627</td>\n",
       "      <td>0.000000</td>\n",
       "      <td>0.246006</td>\n",
       "      <td>0.646465</td>\n",
       "      <td>0.619048</td>\n",
       "      <td>0.583333</td>\n",
       "      <td>0.146341</td>\n",
       "    </tr>\n",
       "    <tr>\n",
       "      <th>2020-03-01 12:00:00</th>\n",
       "      <td>11629866</td>\n",
       "      <td>0.5</td>\n",
       "      <td>30.0</td>\n",
       "      <td>0.1</td>\n",
       "      <td>2.4</td>\n",
       "      <td>1755.3</td>\n",
       "      <td>11.694814</td>\n",
       "      <td>1.71</td>\n",
       "      <td>18.00</td>\n",
       "      <td>-5.57</td>\n",
       "      <td>-5.57</td>\n",
       "      <td>38.008268</td>\n",
       "      <td>0.035714</td>\n",
       "      <td>0.255591</td>\n",
       "      <td>0.636364</td>\n",
       "      <td>0.619048</td>\n",
       "      <td>0.527778</td>\n",
       "      <td>0.146341</td>\n",
       "    </tr>\n",
       "    <tr>\n",
       "      <th>2020-03-01 11:00:00</th>\n",
       "      <td>11629920</td>\n",
       "      <td>1.0</td>\n",
       "      <td>6.0</td>\n",
       "      <td>0.2</td>\n",
       "      <td>0.2</td>\n",
       "      <td>20.7</td>\n",
       "      <td>6.846190</td>\n",
       "      <td>18.50</td>\n",
       "      <td>18.50</td>\n",
       "      <td>18.50</td>\n",
       "      <td>18.50</td>\n",
       "      <td>0.000000</td>\n",
       "      <td>0.000000</td>\n",
       "      <td>0.246006</td>\n",
       "      <td>0.646465</td>\n",
       "      <td>0.619048</td>\n",
       "      <td>0.583333</td>\n",
       "      <td>0.146341</td>\n",
       "    </tr>\n",
       "    <tr>\n",
       "      <th>2020-03-01 12:00:00</th>\n",
       "      <td>11629920</td>\n",
       "      <td>1.0</td>\n",
       "      <td>20.0</td>\n",
       "      <td>0.1</td>\n",
       "      <td>3.0</td>\n",
       "      <td>1005.3</td>\n",
       "      <td>11.378282</td>\n",
       "      <td>18.11</td>\n",
       "      <td>19.00</td>\n",
       "      <td>16.21</td>\n",
       "      <td>17.20</td>\n",
       "      <td>0.468105</td>\n",
       "      <td>0.035714</td>\n",
       "      <td>0.255591</td>\n",
       "      <td>0.636364</td>\n",
       "      <td>0.619048</td>\n",
       "      <td>0.527778</td>\n",
       "      <td>0.146341</td>\n",
       "    </tr>\n",
       "    <tr>\n",
       "      <th>...</th>\n",
       "      <td>...</td>\n",
       "      <td>...</td>\n",
       "      <td>...</td>\n",
       "      <td>...</td>\n",
       "      <td>...</td>\n",
       "      <td>...</td>\n",
       "      <td>...</td>\n",
       "      <td>...</td>\n",
       "      <td>...</td>\n",
       "      <td>...</td>\n",
       "      <td>...</td>\n",
       "      <td>...</td>\n",
       "      <td>...</td>\n",
       "      <td>...</td>\n",
       "      <td>...</td>\n",
       "      <td>...</td>\n",
       "      <td>...</td>\n",
       "      <td>...</td>\n",
       "    </tr>\n",
       "    <tr>\n",
       "      <th>2020-08-25 07:00:00</th>\n",
       "      <td>11877196</td>\n",
       "      <td>1.0</td>\n",
       "      <td>25.0</td>\n",
       "      <td>0.1</td>\n",
       "      <td>1.6</td>\n",
       "      <td>2240.2</td>\n",
       "      <td>8.645283</td>\n",
       "      <td>35.00</td>\n",
       "      <td>50.55</td>\n",
       "      <td>5.00</td>\n",
       "      <td>38.53</td>\n",
       "      <td>6.497054</td>\n",
       "      <td>0.571429</td>\n",
       "      <td>0.437700</td>\n",
       "      <td>0.969697</td>\n",
       "      <td>0.142857</td>\n",
       "      <td>0.194444</td>\n",
       "      <td>0.341463</td>\n",
       "    </tr>\n",
       "    <tr>\n",
       "      <th>2020-08-24 19:00:00</th>\n",
       "      <td>11879762</td>\n",
       "      <td>4.5</td>\n",
       "      <td>4.5</td>\n",
       "      <td>4.5</td>\n",
       "      <td>4.5</td>\n",
       "      <td>4.5</td>\n",
       "      <td>-1.000000</td>\n",
       "      <td>38.95</td>\n",
       "      <td>38.95</td>\n",
       "      <td>38.95</td>\n",
       "      <td>38.95</td>\n",
       "      <td>-1.000000</td>\n",
       "      <td>0.000000</td>\n",
       "      <td>0.472843</td>\n",
       "      <td>0.929293</td>\n",
       "      <td>0.238095</td>\n",
       "      <td>0.166667</td>\n",
       "      <td>0.634146</td>\n",
       "    </tr>\n",
       "    <tr>\n",
       "      <th>2020-08-24 20:00:00</th>\n",
       "      <td>11879762</td>\n",
       "      <td>10.5</td>\n",
       "      <td>10.5</td>\n",
       "      <td>10.5</td>\n",
       "      <td>10.5</td>\n",
       "      <td>10.5</td>\n",
       "      <td>-1.000000</td>\n",
       "      <td>38.95</td>\n",
       "      <td>38.95</td>\n",
       "      <td>38.95</td>\n",
       "      <td>38.95</td>\n",
       "      <td>-1.000000</td>\n",
       "      <td>0.035714</td>\n",
       "      <td>0.476038</td>\n",
       "      <td>0.939394</td>\n",
       "      <td>0.238095</td>\n",
       "      <td>0.194444</td>\n",
       "      <td>0.658537</td>\n",
       "    </tr>\n",
       "    <tr>\n",
       "      <th>2020-08-24 19:00:00</th>\n",
       "      <td>11879763</td>\n",
       "      <td>11.0</td>\n",
       "      <td>11.0</td>\n",
       "      <td>11.0</td>\n",
       "      <td>11.0</td>\n",
       "      <td>11.0</td>\n",
       "      <td>-1.000000</td>\n",
       "      <td>34.95</td>\n",
       "      <td>34.95</td>\n",
       "      <td>34.95</td>\n",
       "      <td>34.95</td>\n",
       "      <td>-1.000000</td>\n",
       "      <td>0.000000</td>\n",
       "      <td>0.472843</td>\n",
       "      <td>0.929293</td>\n",
       "      <td>0.238095</td>\n",
       "      <td>0.166667</td>\n",
       "      <td>0.634146</td>\n",
       "    </tr>\n",
       "    <tr>\n",
       "      <th>2020-08-24 20:00:00</th>\n",
       "      <td>11879813</td>\n",
       "      <td>52.5</td>\n",
       "      <td>52.5</td>\n",
       "      <td>52.5</td>\n",
       "      <td>52.5</td>\n",
       "      <td>52.5</td>\n",
       "      <td>-1.000000</td>\n",
       "      <td>37.98</td>\n",
       "      <td>37.98</td>\n",
       "      <td>37.98</td>\n",
       "      <td>37.98</td>\n",
       "      <td>-1.000000</td>\n",
       "      <td>0.000000</td>\n",
       "      <td>0.476038</td>\n",
       "      <td>0.939394</td>\n",
       "      <td>0.238095</td>\n",
       "      <td>0.194444</td>\n",
       "      <td>0.658537</td>\n",
       "    </tr>\n",
       "  </tbody>\n",
       "</table>\n",
       "<p>63451 rows × 18 columns</p>\n",
       "</div>"
      ],
      "text/plain": [
       "                    contractId   qty                                       \\\n",
       "                    contractId  open  high   low close     sum        var   \n",
       "2020-03-01 11:00:00   11629792   0.5   3.0   0.1   0.2     7.3   1.933667   \n",
       "2020-03-01 11:00:00   11629866   6.0   6.0   1.0   5.0    28.0   3.466667   \n",
       "2020-03-01 12:00:00   11629866   0.5  30.0   0.1   2.4  1755.3  11.694814   \n",
       "2020-03-01 11:00:00   11629920   1.0   6.0   0.2   0.2    20.7   6.846190   \n",
       "2020-03-01 12:00:00   11629920   1.0  20.0   0.1   3.0  1005.3  11.378282   \n",
       "...                        ...   ...   ...   ...   ...     ...        ...   \n",
       "2020-08-25 07:00:00   11877196   1.0  25.0   0.1   1.6  2240.2   8.645283   \n",
       "2020-08-24 19:00:00   11879762   4.5   4.5   4.5   4.5     4.5  -1.000000   \n",
       "2020-08-24 20:00:00   11879762  10.5  10.5  10.5  10.5    10.5  -1.000000   \n",
       "2020-08-24 19:00:00   11879763  11.0  11.0  11.0  11.0    11.0  -1.000000   \n",
       "2020-08-24 20:00:00   11879813  52.5  52.5  52.5  52.5    52.5  -1.000000   \n",
       "\n",
       "                        px                                      hour  \\\n",
       "                      open   high    low  close        var             \n",
       "2020-03-01 11:00:00  -0.99  -0.99  -1.00  -1.00   0.000027  0.000000   \n",
       "2020-03-01 11:00:00   1.30   1.71   1.30   1.41   0.022627  0.000000   \n",
       "2020-03-01 12:00:00   1.71  18.00  -5.57  -5.57  38.008268  0.035714   \n",
       "2020-03-01 11:00:00  18.50  18.50  18.50  18.50   0.000000  0.000000   \n",
       "2020-03-01 12:00:00  18.11  19.00  16.21  17.20   0.468105  0.035714   \n",
       "...                    ...    ...    ...    ...        ...       ...   \n",
       "2020-08-25 07:00:00  35.00  50.55   5.00  38.53   6.497054  0.571429   \n",
       "2020-08-24 19:00:00  38.95  38.95  38.95  38.95  -1.000000  0.000000   \n",
       "2020-08-24 20:00:00  38.95  38.95  38.95  38.95  -1.000000  0.035714   \n",
       "2020-08-24 19:00:00  34.95  34.95  34.95  34.95  -1.000000  0.000000   \n",
       "2020-08-24 20:00:00  37.98  37.98  37.98  37.98  -1.000000  0.000000   \n",
       "\n",
       "                     air_temp rel_humidity wind_speed  wind_dir  \\\n",
       "                                                                  \n",
       "2020-03-01 11:00:00  0.246006     0.646465   0.619048  0.583333   \n",
       "2020-03-01 11:00:00  0.246006     0.646465   0.619048  0.583333   \n",
       "2020-03-01 12:00:00  0.255591     0.636364   0.619048  0.527778   \n",
       "2020-03-01 11:00:00  0.246006     0.646465   0.619048  0.583333   \n",
       "2020-03-01 12:00:00  0.255591     0.636364   0.619048  0.527778   \n",
       "...                       ...          ...        ...       ...   \n",
       "2020-08-25 07:00:00  0.437700     0.969697   0.142857  0.194444   \n",
       "2020-08-24 19:00:00  0.472843     0.929293   0.238095  0.166667   \n",
       "2020-08-24 20:00:00  0.476038     0.939394   0.238095  0.194444   \n",
       "2020-08-24 19:00:00  0.472843     0.929293   0.238095  0.166667   \n",
       "2020-08-24 20:00:00  0.476038     0.939394   0.238095  0.194444   \n",
       "\n",
       "                    n_prev_hour_contracts  \n",
       "                                           \n",
       "2020-03-01 11:00:00              0.146341  \n",
       "2020-03-01 11:00:00              0.146341  \n",
       "2020-03-01 12:00:00              0.146341  \n",
       "2020-03-01 11:00:00              0.146341  \n",
       "2020-03-01 12:00:00              0.146341  \n",
       "...                                   ...  \n",
       "2020-08-25 07:00:00              0.341463  \n",
       "2020-08-24 19:00:00              0.634146  \n",
       "2020-08-24 20:00:00              0.658537  \n",
       "2020-08-24 19:00:00              0.634146  \n",
       "2020-08-24 20:00:00              0.658537  \n",
       "\n",
       "[63451 rows x 18 columns]"
      ]
     },
     "execution_count": 6,
     "metadata": {},
     "output_type": "execute_result"
    }
   ],
   "source": [
    "resampled_df = pd.read_pickle(data_path+'hourly_resampled_contracts_ohlcsv_weather.pkl')\n",
    "resampled_df"
   ]
  },
  {
   "cell_type": "markdown",
   "metadata": {},
   "source": [
    "That's all for now! "
   ]
  },
  {
   "cell_type": "markdown",
   "metadata": {},
   "source": [
    "## Basic API calls"
   ]
  },
  {
   "cell_type": "markdown",
   "metadata": {},
   "source": [
    "One of the easiest thing to try with the library is to forecast a Random Forest model with default hyperparameters. To begin, first import the library, "
   ]
  },
  {
   "cell_type": "code",
   "execution_count": 10,
   "metadata": {},
   "outputs": [],
   "source": [
    "from classes import Forecasting"
   ]
  },
  {
   "cell_type": "markdown",
   "metadata": {},
   "source": [
    "### Step 1.1: Rolling Windows"
   ]
  },
  {
   "cell_type": "markdown",
   "metadata": {},
   "source": [
    "The class first calculates rolling windows based on the `WINDOW_SIZE` and adds `features` to the data based on the list provided. The name of the available features can be found in the `lib.create_features()` function. The `ohlc` flag specifies if your data has ohlc values, as compared to data having only close prices (c.f. *data/hourly_resampled_contracts.pkl*). "
   ]
  },
  {
   "cell_type": "markdown",
   "metadata": {},
   "source": [
    "<div class=\"alert alert-block alert-danger\">\n",
    "<b>On feature selection:</b> Only select those features that can be calculated using the dataframe you provide above. Features like 'act_px_open' cannot be calculated as we don't have actual prices in the data we have loaded above. Also, order matters! Give the name of the functions in the same order as they appear in the function. \n",
    "</div>"
   ]
  },
  {
   "cell_type": "markdown",
   "metadata": {},
   "source": [
    "To reduce computation time, we have provided a `recalculate` flag. Suppose you have already calculated rolling windows for a set of features. Since the calculation is computationally expensive, setting the flag to *False* means that it will try to load the previously computed windows, based on the `ohlc` flag and `WINDOW_SIZE`. If you set the `recalculate` flag to False and it cannot find your file based on your params, it will recompute automatically. However, the file name cannot tell you which features it has. It is on you to make sure the pkl file you want to load has the features you want to use for your analysis. **Whenever in doubt, just recalculate.**"
   ]
  },
  {
   "cell_type": "code",
   "execution_count": 11,
   "metadata": {},
   "outputs": [],
   "source": [
    "WINDOW_SIZE = 5\n",
    "features = ['t', 'weekday_sin', 'weekday_cos', 'run_hour', \n",
    "            'n_prev_hour_contracts', 'hour_sin', 'hour_cos', \n",
    "            'air_temp', 'rel_humidity', 'wind_speed', 'wind_dir',\n",
    "            'holidays', 'qty_open', 'qty_high', 'qty_low', 'qty_close',\n",
    "            'qty_var' ,'qty_sum', 'px_open','px_high', 'px_low', 'px_var']\n",
    "ohlc = True\n",
    "recalculate = False\n",
    "save_to_pickle = False"
   ]
  },
  {
   "cell_type": "markdown",
   "metadata": {},
   "source": [
    "### Step 1.2: Data Split"
   ]
  },
  {
   "cell_type": "markdown",
   "metadata": {},
   "source": [
    "Based on the rolling windows generated above, we now compute a Train-Valid-Test split. The `test_set` flag controls if you want a test set. If False, we only have a Train-Valid split. You might not want a test set in cases where you don't have cross-validation. The first split percentage creates a Train-Test from rolling windows and the second carves out another Train-Test from the Test set of first split. "
   ]
  },
  {
   "cell_type": "code",
   "execution_count": 12,
   "metadata": {},
   "outputs": [],
   "source": [
    "test_set = True\n",
    "split_pct_1 = 0.1\n",
    "split_pct_2 = 0.5"
   ]
  },
  {
   "cell_type": "markdown",
   "metadata": {},
   "source": [
    "### Step 1.3 Model Selection"
   ]
  },
  {
   "cell_type": "markdown",
   "metadata": {},
   "source": [
    "Finally, you specify the `regressor` you want to use. The exact naming convention for a specific regressor is in the docstring of the class. `params` accepts a dictionary of model parameters and the `grid_search` is a flag to use `GridSearchCV`. Presently, we support only Scikit-Learn regressors for grid search. If `grid_search` is True, `params` is expected to be a dictionary of parameters to do grid search on (as should be obvious). "
   ]
  },
  {
   "cell_type": "markdown",
   "metadata": {},
   "source": [
    "The model is automatically initialised and fitted. A set of regression metrics are calculated and made available. There is also an option to plot feature-importance for some regressors. "
   ]
  },
  {
   "cell_type": "code",
   "execution_count": 13,
   "metadata": {},
   "outputs": [],
   "source": [
    "regressor = 'lstm' \n",
    "params = {'lstm_layer':[100,75,64,1], 'batch_size':256, 'dropout': 0.25, 'epochs': 15}\n",
    "grid_search = False "
   ]
  },
  {
   "cell_type": "markdown",
   "metadata": {},
   "source": [
    "### Step 1.4: Call the API"
   ]
  },
  {
   "cell_type": "markdown",
   "metadata": {},
   "source": [
    "Now that we have our paramters set up, we can make the API call to the Forecasting class. "
   ]
  },
  {
   "cell_type": "code",
   "execution_count": null,
   "metadata": {},
   "outputs": [
    {
     "name": "stdout",
     "output_type": "stream",
     "text": [
      "Fitting model...\n",
      "Epoch 1/15\n",
      "157/157 [==============================] - 23s 149ms/step - loss: 10.8155 - mse: 264.8038 - mae: 10.8155 - coeff_determination: 0.0272 - val_loss: 4.4334 - val_mse: 75.2307 - val_mae: 4.4334 - val_coeff_determination: 0.7145\n",
      "Epoch 2/15\n",
      "157/157 [==============================] - 19s 122ms/step - loss: 4.4414 - mse: 73.0990 - mae: 4.4414 - coeff_determination: 0.7332 - val_loss: 3.8679 - val_mse: 53.0356 - val_mae: 3.8679 - val_coeff_determination: 0.7950\n",
      "Epoch 3/15\n",
      "157/157 [==============================] - 19s 124ms/step - loss: 4.0661 - mse: 58.8584 - mae: 4.0661 - coeff_determination: 0.7837 - val_loss: 3.6000 - val_mse: 46.0438 - val_mae: 3.6000 - val_coeff_determination: 0.8209\n",
      "Epoch 4/15\n",
      "157/157 [==============================] - 18s 115ms/step - loss: 3.8497 - mse: 52.6666 - mae: 3.8497 - coeff_determination: 0.8037 - val_loss: 3.4207 - val_mse: 42.7289 - val_mae: 3.4207 - val_coeff_determination: 0.8344\n",
      "Epoch 5/15\n",
      "157/157 [==============================] - 17s 111ms/step - loss: 3.7357 - mse: 50.5555 - mae: 3.7357 - coeff_determination: 0.8115 - val_loss: 3.2641 - val_mse: 40.1601 - val_mae: 3.2641 - val_coeff_determination: 0.8438\n",
      "Epoch 6/15\n",
      "157/157 [==============================] - 17s 107ms/step - loss: 3.6515 - mse: 49.2835 - mae: 3.6515 - coeff_determination: 0.8174 - val_loss: 3.2368 - val_mse: 40.2104 - val_mae: 3.2368 - val_coeff_determination: 0.8440\n",
      "Epoch 7/15\n",
      "157/157 [==============================] - 13s 81ms/step - loss: 3.6295 - mse: 48.6739 - mae: 3.6295 - coeff_determination: 0.8191 - val_loss: 3.1540 - val_mse: 39.4595 - val_mae: 3.1540 - val_coeff_determination: 0.8473\n",
      "Epoch 8/15\n",
      "157/157 [==============================] - 15s 92ms/step - loss: 3.5407 - mse: 46.9543 - mae: 3.5407 - coeff_determination: 0.8266 - val_loss: 3.3698 - val_mse: 40.8964 - val_mae: 3.3698 - val_coeff_determination: 0.8414\n",
      "Epoch 9/15\n",
      "157/157 [==============================] - 18s 116ms/step - loss: 3.4846 - mse: 46.8866 - mae: 3.4846 - coeff_determination: 0.8273 - val_loss: 3.1016 - val_mse: 40.2387 - val_mae: 3.1016 - val_coeff_determination: 0.8433\n",
      "Epoch 10/15\n",
      "157/157 [==============================] - 14s 92ms/step - loss: 3.4539 - mse: 45.9826 - mae: 3.4539 - coeff_determination: 0.8280 - val_loss: 3.4156 - val_mse: 42.9075 - val_mae: 3.4156 - val_coeff_determination: 0.8343\n",
      "Epoch 11/15\n",
      "157/157 [==============================] - 13s 81ms/step - loss: 3.4382 - mse: 45.5286 - mae: 3.4382 - coeff_determination: 0.8318 - val_loss: 3.0438 - val_mse: 38.7405 - val_mae: 3.0438 - val_coeff_determination: 0.8507\n",
      "Epoch 12/15\n",
      "157/157 [==============================] - 16s 100ms/step - loss: 3.3944 - mse: 44.7556 - mae: 3.3944 - coeff_determination: 0.8336 - val_loss: 3.0839 - val_mse: 39.5971 - val_mae: 3.0839 - val_coeff_determination: 0.8469\n",
      "Epoch 13/15\n",
      "157/157 [==============================] - 21s 134ms/step - loss: 3.3667 - mse: 44.4449 - mae: 3.3667 - coeff_determination: 0.8343 - val_loss: 3.1058 - val_mse: 39.0201 - val_mae: 3.1058 - val_coeff_determination: 0.8493\n",
      "Epoch 14/15\n",
      "157/157 [==============================] - 22s 140ms/step - loss: 3.3312 - mse: 43.8982 - mae: 3.3312 - coeff_determination: 0.8359 - val_loss: 3.1221 - val_mse: 40.7493 - val_mae: 3.1221 - val_coeff_determination: 0.8419\n",
      "Epoch 15/15\n",
      "126/157 [=======================>......] - ETA: 4s - loss: 3.3452 - mse: 45.3878 - mae: 3.3452 - coeff_determination: 0.8333"
     ]
    }
   ],
   "source": [
    "x = Forecasting(resampled_df, window_size=WINDOW_SIZE, features=features, ohlc=ohlc, \n",
    "                recalculate=recalculate, test_set=test_set, split_pct_1=split_pct_1,\n",
    "                split_pct_2=split_pct_2, regressor=regressor, params=params, \n",
    "                grid_search=grid_search, save_to_pickle=save_to_pickle)"
   ]
  },
  {
   "cell_type": "code",
   "execution_count": 38,
   "metadata": {},
   "outputs": [
    {
     "data": {
      "text/html": [
       "<div>\n",
       "<style scoped>\n",
       "    .dataframe tbody tr th:only-of-type {\n",
       "        vertical-align: middle;\n",
       "    }\n",
       "\n",
       "    .dataframe tbody tr th {\n",
       "        vertical-align: top;\n",
       "    }\n",
       "\n",
       "    .dataframe thead th {\n",
       "        text-align: right;\n",
       "    }\n",
       "</style>\n",
       "<table border=\"1\" class=\"dataframe\">\n",
       "  <thead>\n",
       "    <tr style=\"text-align: right;\">\n",
       "      <th></th>\n",
       "      <th>value</th>\n",
       "    </tr>\n",
       "  </thead>\n",
       "  <tbody>\n",
       "    <tr>\n",
       "      <th>MSE</th>\n",
       "      <td>29.115072</td>\n",
       "    </tr>\n",
       "    <tr>\n",
       "      <th>RMSE</th>\n",
       "      <td>5.395838</td>\n",
       "    </tr>\n",
       "    <tr>\n",
       "      <th>MAE</th>\n",
       "      <td>2.637505</td>\n",
       "    </tr>\n",
       "    <tr>\n",
       "      <th>R2</th>\n",
       "      <td>0.883393</td>\n",
       "    </tr>\n",
       "  </tbody>\n",
       "</table>\n",
       "</div>"
      ],
      "text/plain": [
       "          value\n",
       "MSE   29.115072\n",
       "RMSE   5.395838\n",
       "MAE    2.637505\n",
       "R2     0.883393"
      ]
     },
     "execution_count": 38,
     "metadata": {},
     "output_type": "execute_result"
    }
   ],
   "source": [
    "x.metrics"
   ]
  },
  {
   "cell_type": "code",
   "execution_count": null,
   "metadata": {},
   "outputs": [],
   "source": []
  }
 ],
 "metadata": {
  "kernelspec": {
   "display_name": "Python 3",
   "language": "python",
   "name": "python3"
  },
  "language_info": {
   "codemirror_mode": {
    "name": "ipython",
    "version": 3
   },
   "file_extension": ".py",
   "mimetype": "text/x-python",
   "name": "python",
   "nbconvert_exporter": "python",
   "pygments_lexer": "ipython3",
   "version": "3.7.6"
  }
 },
 "nbformat": 4,
 "nbformat_minor": 4
}
