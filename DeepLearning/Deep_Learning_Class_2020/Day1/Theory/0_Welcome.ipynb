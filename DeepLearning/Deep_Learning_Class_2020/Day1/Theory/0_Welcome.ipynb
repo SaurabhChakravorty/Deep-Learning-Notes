{
 "cells": [
  {
   "cell_type": "markdown",
   "metadata": {},
   "source": [
    "# Welcome to the course\n",
    "\n",
    "## Goals\n",
    " - Basic introduction to deep learning\n",
    " - Main concepts and intuition of artifical neural networks and deep learning\n",
    " - Central topics to make deep learning work: \n",
    "         - Optimization\n",
    "         - Expressivness and how to control it (how well the networks learn)/ generalization\n",
    "         - Right architecture for the right kind of problem\n",
    " - Intuition based -> not too formal\n",
    " - Practical focus -> implement every day!\n",
    "\n",
    "\n",
    "## Limits\n",
    "- Basic introduction, tip of the ice-berg\n",
    "- Foundation for more advanced topics such as Natural Language Processing, AI the frontier\n",
    "- Intense, short time frame\n",
    " \n",
    "## After this class you should be able to..\n",
    "- Implement deep learning for a variety of problems: time series, images, some (basic) language related problems\n",
    "- Chose and craft the architecture of feed forward, Long Short Term Memory and Convolutional Neural Networks in line with the problem your are facing and initialize and optimize the networks \n",
    "- Complete a basic data-science project that involves deep learning end to end\n",
    "\n"
   ]
  },
  {
   "cell_type": "markdown",
   "metadata": {},
   "source": [
    "# General structure\n",
    "\n",
    "## Topics of the days\n",
    "\n",
    "- see __[link HERE](https://docs.google.com/spreadsheets/d/14eo_Tnvg44-Im8hss5Li0NGrbE1L73LpAfpB0UghrJM/edit?usp=sharing)__    \n",
    "\n",
    "\n",
    "## What will a day look like?\n",
    "(1) Theory\n",
    "<br>\n",
    "(2) Coding/implementation\n",
    "<br>\n",
    "(3) Exercises/assessment\n",
    "\n",
    "\n",
    "\n",
    "# Access to training material\n",
    "\n",
    "## What is Google Colaboratory?\n",
    "- Jupyter notebooks for Google\n",
    "- One GPU for up to 12 hours\n",
    "\n",
    "## Where to find the shared material?\n",
    "\n",
    "\n",
    "see __[link HERE](https://drive.google.com/drive/folders/1lSBW-9q6mJyTk7l2hh0hy-dHrhEZW5yk?usp=sharing)__\n",
    "\n",
    "**Please don't forget to \"Make a copy to my drive!!!\" - since if you don't, all your modifications will be temporary, you will loose your work!**"
   ]
  },
  {
   "cell_type": "markdown",
   "metadata": {},
   "source": [
    "# Measurement of performance\n",
    "\n",
    "\n",
    "## Class assignments (and their submission)\n",
    "- For each day there is at least one assignment (continuous assessment), which you should usually be able to complete within the class\n",
    "- The continuous assessments have to be uploaded in canvas (a pdf of the relevant Jupyter Notebook), no later than 14 days after the respective class has been held as.  \n",
    "- You pass the assignment, when you have passed the basic assertions, which you can see as part of the assignment\n",
    "\n",
    "- Do not worry too much about the continuous assessment. We are there to help you, and we will spend time on the assignments during the class. \n",
    "- You can help each other out with the continuous assessment, e.g. help a colleague to debug their code, but *you must not directly copy and paste code from others*. Such behaviour is plagiarism and will be awarded 0 marks\n",
    "\n",
    "Total number of marks:\n",
    "Continuous assessment  \t60\tThroughout the course\n",
    "Group work              60  4 Weeks after the course has finished\n",
    "\n",
    "## Final assignment (group submission)\n",
    "- see __[link HERE](https://docs.google.com/document/d/1z61P_UgvLTbnpC_EChVkVzwI4N8pt4vPpQvKYebRtF4/edit?usp=sharing)__"
   ]
  },
  {
   "cell_type": "code",
   "execution_count": null,
   "metadata": {
    "collapsed": true
   },
   "outputs": [],
   "source": []
  }
 ],
 "metadata": {
  "kernelspec": {
   "display_name": "Python 3",
   "language": "python",
   "name": "python3"
  },
  "language_info": {
   "codemirror_mode": {
    "name": "ipython",
    "version": 3
   },
   "file_extension": ".py",
   "mimetype": "text/x-python",
   "name": "python",
   "nbconvert_exporter": "python",
   "pygments_lexer": "ipython3",
   "version": "3.7.9"
  },
  "toc": {
   "base_numbering": 1,
   "nav_menu": {},
   "number_sections": true,
   "sideBar": true,
   "skip_h1_title": false,
   "title_cell": "Table of Contents",
   "title_sidebar": "Contents",
   "toc_cell": false,
   "toc_position": {},
   "toc_section_display": true,
   "toc_window_display": false
  },
  "varInspector": {
   "cols": {
    "lenName": 16,
    "lenType": 16,
    "lenVar": 40
   },
   "kernels_config": {
    "python": {
     "delete_cmd_postfix": "",
     "delete_cmd_prefix": "del ",
     "library": "var_list.py",
     "varRefreshCmd": "print(var_dic_list())"
    },
    "r": {
     "delete_cmd_postfix": ") ",
     "delete_cmd_prefix": "rm(",
     "library": "var_list.r",
     "varRefreshCmd": "cat(var_dic_list()) "
    }
   },
   "types_to_exclude": [
    "module",
    "function",
    "builtin_function_or_method",
    "instance",
    "_Feature"
   ],
   "window_display": false
  }
 },
 "nbformat": 4,
 "nbformat_minor": 2
}
