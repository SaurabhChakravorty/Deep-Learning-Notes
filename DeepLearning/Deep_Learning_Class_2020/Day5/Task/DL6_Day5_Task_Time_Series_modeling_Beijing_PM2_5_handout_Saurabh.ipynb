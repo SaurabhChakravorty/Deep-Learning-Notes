{
  "nbformat": 4,
  "nbformat_minor": 0,
  "metadata": {
    "kernelspec": {
      "display_name": "Python 3",
      "language": "python",
      "name": "python3"
    },
    "language_info": {
      "codemirror_mode": {
        "name": "ipython",
        "version": 3
      },
      "file_extension": ".py",
      "mimetype": "text/x-python",
      "name": "python",
      "nbconvert_exporter": "python",
      "pygments_lexer": "ipython3",
      "version": "3.7.9"
    },
    "toc": {
      "base_numbering": 1,
      "nav_menu": {},
      "number_sections": true,
      "sideBar": true,
      "skip_h1_title": false,
      "title_cell": "Table of Contents",
      "title_sidebar": "Contents",
      "toc_cell": false,
      "toc_position": {},
      "toc_section_display": true,
      "toc_window_display": false
    },
    "varInspector": {
      "cols": {
        "lenName": 16,
        "lenType": 16,
        "lenVar": 40
      },
      "kernels_config": {
        "python": {
          "delete_cmd_postfix": "",
          "delete_cmd_prefix": "del ",
          "library": "var_list.py",
          "varRefreshCmd": "print(var_dic_list())"
        },
        "r": {
          "delete_cmd_postfix": ") ",
          "delete_cmd_prefix": "rm(",
          "library": "var_list.r",
          "varRefreshCmd": "cat(var_dic_list()) "
        }
      },
      "types_to_exclude": [
        "module",
        "function",
        "builtin_function_or_method",
        "instance",
        "_Feature"
      ],
      "window_display": false
    },
    "colab": {
      "name": "DL6_Day5-Task-Time_Series_modeling_Beijing_PM2.5_handout_Saurabh.ipynb",
      "provenance": [],
      "collapsed_sections": []
    }
  },
  "cells": [
    {
      "cell_type": "markdown",
      "metadata": {
        "id": "V_i6ZiwzjXhN"
      },
      "source": [
        "# Modeling air pollution\n",
        "\n",
        "Let us try to predict Beijing's air pollution, especially [PM2.5](https://en.wikipedia.org/wiki/Particulates) values in advance!\n",
        "\n",
        "\n",
        "Inspiration comes from [here](https://machinelearningmastery.com/multivariate-time-series-forecasting-lstms-keras/).\n",
        "\n",
        "## Dataset\n",
        "\n",
        "[Beijing PM2.5 Data Data Set](https://archive.ics.uci.edu/ml/datasets/Beijing+PM2.5+Data)\n",
        "\n",
        "### Columns of the dataset:\n",
        "\n",
        "**No:** row number\n",
        "\n",
        "**year:** year of data in this row\n",
        "\n",
        "**month:** month of data in this row\n",
        "\n",
        "**day:** day of data in this row\n",
        "\n",
        "**hour:** hour of data in this row\n",
        "\n",
        "**pm2.5:** PM2.5 concentration\n",
        "\n",
        "**DEWP:** Dew Point\n",
        "\n",
        "**TEMP:** Temperature\n",
        "\n",
        "**PRES:** Pressure\n",
        "\n",
        "**cbwd:** Combined wind direction\n",
        "\n",
        "**Iws:** Cumulated wind speed\n",
        "\n",
        "**Is:** Cumulated hours of snow\n",
        "\n",
        "**Ir:** Cumulated hours of rain"
      ]
    },
    {
      "cell_type": "code",
      "metadata": {
        "ExecuteTime": {
          "end_time": "2019-05-02T15:24:58.995243Z",
          "start_time": "2019-05-02T15:24:58.033983Z"
        },
        "id": "jcjDC8CCjXhO",
        "outputId": "4e0617a3-c0f5-4701-d48f-6155c3d104c9",
        "colab": {
          "base_uri": "https://localhost:8080/",
          "height": 217
        }
      },
      "source": [
        "!wget https://raw.githubusercontent.com/jbrownlee/Datasets/master/pollution.csv"
      ],
      "execution_count": 2,
      "outputs": [
        {
          "output_type": "stream",
          "text": [
            "--2020-10-12 11:49:38--  https://raw.githubusercontent.com/jbrownlee/Datasets/master/pollution.csv\n",
            "Resolving raw.githubusercontent.com (raw.githubusercontent.com)... 151.101.0.133, 151.101.64.133, 151.101.128.133, ...\n",
            "Connecting to raw.githubusercontent.com (raw.githubusercontent.com)|151.101.0.133|:443... connected.\n",
            "HTTP request sent, awaiting response... 200 OK\n",
            "Length: 2010492 (1.9M) [text/plain]\n",
            "Saving to: ‘pollution.csv’\n",
            "\n",
            "pollution.csv       100%[===================>]   1.92M  9.13MB/s    in 0.2s    \n",
            "\n",
            "2020-10-12 11:49:39 (9.13 MB/s) - ‘pollution.csv’ saved [2010492/2010492]\n",
            "\n"
          ],
          "name": "stdout"
        }
      ]
    },
    {
      "cell_type": "code",
      "metadata": {
        "ExecuteTime": {
          "end_time": "2019-05-02T15:25:00.287408Z",
          "start_time": "2019-05-02T15:24:59.003580Z"
        },
        "id": "j64rBUqvjXhU",
        "outputId": "ac1dd7bf-0605-466e-a30f-adba7c20d103",
        "colab": {
          "base_uri": "https://localhost:8080/",
          "height": 201
        }
      },
      "source": [
        "!pip install seglearn"
      ],
      "execution_count": 3,
      "outputs": [
        {
          "output_type": "stream",
          "text": [
            "Collecting seglearn\n",
            "\u001b[?25l  Downloading https://files.pythonhosted.org/packages/ca/ed/434d43124650e14c5ae1f79618faa5dfd80ebc59eb7850185f7a9f5fbb2d/seglearn-1.2.1-py3-none-any.whl (11.3MB)\n",
            "\u001b[K     |████████████████████████████████| 11.3MB 351kB/s \n",
            "\u001b[?25hRequirement already satisfied: numpy in /usr/local/lib/python3.6/dist-packages (from seglearn) (1.18.5)\n",
            "Requirement already satisfied: scipy in /usr/local/lib/python3.6/dist-packages (from seglearn) (1.4.1)\n",
            "Requirement already satisfied: scikit-learn>=0.21.3 in /usr/local/lib/python3.6/dist-packages (from seglearn) (0.22.2.post1)\n",
            "Requirement already satisfied: joblib>=0.11 in /usr/local/lib/python3.6/dist-packages (from scikit-learn>=0.21.3->seglearn) (0.16.0)\n",
            "Installing collected packages: seglearn\n",
            "Successfully installed seglearn-1.2.1\n"
          ],
          "name": "stdout"
        }
      ]
    },
    {
      "cell_type": "code",
      "metadata": {
        "ExecuteTime": {
          "end_time": "2019-05-02T15:25:00.659548Z",
          "start_time": "2019-05-02T15:25:00.294723Z"
        },
        "id": "jcA1L5E9jXhY"
      },
      "source": [
        "import pandas as pd \n",
        "import csv\n",
        "import numpy as np \n",
        "import matplotlib.pyplot as plt\n",
        "\n",
        "#import warnings\n",
        "#warnings.filterwarnings(\"ignore\")\n"
      ],
      "execution_count": 4,
      "outputs": []
    },
    {
      "cell_type": "code",
      "metadata": {
        "ExecuteTime": {
          "end_time": "2019-05-02T15:25:00.665793Z",
          "start_time": "2019-05-02T15:25:00.661169Z"
        },
        "id": "z7z4EO2UjXhc"
      },
      "source": [
        "def sniff_format(location):\n",
        "    with open(location, newline='') as csvfile:\n",
        "        sniffer = csv.Sniffer()\n",
        "        sample = csvfile.read(1024)\n",
        "        dialect = sniffer.sniff(sample)\n",
        "        header = sniffer.has_header(sample)\n",
        "        if header:\n",
        "            header=0\n",
        "        else:\n",
        "            header=None\n",
        "\n",
        "    return {\"dialect\":dialect, \"header\":header}\n",
        "\n",
        "def describe_full(df):\n",
        "    #pd.options.display.float_format = '{:.2f}'.format\n",
        "    dtypes_description=pd.DataFrame(dict(df.dtypes),[\"dtypes\"])\n",
        "    na_description = pd.DataFrame(dict(df.isna().sum()),[\"NA-s\"])\n",
        "    na_percent = ((pd.DataFrame(dict(df.isna().sum()),[\"NA%\"])/len(df))*100).round(decimals=2)\n",
        "    description = df.describe(include='all')\n",
        "    full_description = dtypes_description.append(na_description).append(na_percent).append(description).replace(np.nan, '', regex=True)\n",
        "\n",
        "    mask = full_description.loc[\"freq\",:]==1\n",
        "    full_description.at[[\"top\"],mask.index[mask]]=\"\"\n",
        "    #TODO: scientific notation - could be nicer\n",
        "    \n",
        "    return full_description"
      ],
      "execution_count": 5,
      "outputs": []
    },
    {
      "cell_type": "code",
      "metadata": {
        "ExecuteTime": {
          "end_time": "2019-05-02T15:25:00.835900Z",
          "start_time": "2019-05-02T15:25:00.667466Z"
        },
        "id": "Ryx8rhCzjXhg",
        "outputId": "419d9ff0-1681-453b-ec88-6445df59cab1",
        "colab": {
          "base_uri": "https://localhost:8080/",
          "height": 468
        }
      },
      "source": [
        "csv_format = sniff_format(\"pollution.csv\")\n",
        "\n",
        "df = pd.read_csv(\"pollution.csv\",header=csv_format[\"header\"],dialect=csv_format[\"dialect\"])\n",
        "#print(df.head())\n",
        "#There is a warning that would be worth investigationg, but for now, let's ignore it\n",
        "import warnings\n",
        "warnings.filterwarnings(\"ignore\")\n",
        "\n",
        "describe_full(df)"
      ],
      "execution_count": 6,
      "outputs": [
        {
          "output_type": "execute_result",
          "data": {
            "text/html": [
              "<div>\n",
              "<style scoped>\n",
              "    .dataframe tbody tr th:only-of-type {\n",
              "        vertical-align: middle;\n",
              "    }\n",
              "\n",
              "    .dataframe tbody tr th {\n",
              "        vertical-align: top;\n",
              "    }\n",
              "\n",
              "    .dataframe thead th {\n",
              "        text-align: right;\n",
              "    }\n",
              "</style>\n",
              "<table border=\"1\" class=\"dataframe\">\n",
              "  <thead>\n",
              "    <tr style=\"text-align: right;\">\n",
              "      <th></th>\n",
              "      <th>No</th>\n",
              "      <th>year</th>\n",
              "      <th>month</th>\n",
              "      <th>day</th>\n",
              "      <th>hour</th>\n",
              "      <th>pm2.5</th>\n",
              "      <th>DEWP</th>\n",
              "      <th>TEMP</th>\n",
              "      <th>PRES</th>\n",
              "      <th>cbwd</th>\n",
              "      <th>Iws</th>\n",
              "      <th>Is</th>\n",
              "      <th>Ir</th>\n",
              "    </tr>\n",
              "  </thead>\n",
              "  <tbody>\n",
              "    <tr>\n",
              "      <th>dtypes</th>\n",
              "      <td>int64</td>\n",
              "      <td>int64</td>\n",
              "      <td>int64</td>\n",
              "      <td>int64</td>\n",
              "      <td>int64</td>\n",
              "      <td>float64</td>\n",
              "      <td>int64</td>\n",
              "      <td>float64</td>\n",
              "      <td>float64</td>\n",
              "      <td>object</td>\n",
              "      <td>float64</td>\n",
              "      <td>int64</td>\n",
              "      <td>int64</td>\n",
              "    </tr>\n",
              "    <tr>\n",
              "      <th>NA-s</th>\n",
              "      <td>0</td>\n",
              "      <td>0</td>\n",
              "      <td>0</td>\n",
              "      <td>0</td>\n",
              "      <td>0</td>\n",
              "      <td>2067</td>\n",
              "      <td>0</td>\n",
              "      <td>0</td>\n",
              "      <td>0</td>\n",
              "      <td>0</td>\n",
              "      <td>0</td>\n",
              "      <td>0</td>\n",
              "      <td>0</td>\n",
              "    </tr>\n",
              "    <tr>\n",
              "      <th>NA%</th>\n",
              "      <td>0</td>\n",
              "      <td>0</td>\n",
              "      <td>0</td>\n",
              "      <td>0</td>\n",
              "      <td>0</td>\n",
              "      <td>4.72</td>\n",
              "      <td>0</td>\n",
              "      <td>0</td>\n",
              "      <td>0</td>\n",
              "      <td>0</td>\n",
              "      <td>0</td>\n",
              "      <td>0</td>\n",
              "      <td>0</td>\n",
              "    </tr>\n",
              "    <tr>\n",
              "      <th>count</th>\n",
              "      <td>43824</td>\n",
              "      <td>43824</td>\n",
              "      <td>43824</td>\n",
              "      <td>43824</td>\n",
              "      <td>43824</td>\n",
              "      <td>41757</td>\n",
              "      <td>43824</td>\n",
              "      <td>43824</td>\n",
              "      <td>43824</td>\n",
              "      <td>43824</td>\n",
              "      <td>43824</td>\n",
              "      <td>43824</td>\n",
              "      <td>43824</td>\n",
              "    </tr>\n",
              "    <tr>\n",
              "      <th>unique</th>\n",
              "      <td></td>\n",
              "      <td></td>\n",
              "      <td></td>\n",
              "      <td></td>\n",
              "      <td></td>\n",
              "      <td></td>\n",
              "      <td></td>\n",
              "      <td></td>\n",
              "      <td></td>\n",
              "      <td>4</td>\n",
              "      <td></td>\n",
              "      <td></td>\n",
              "      <td></td>\n",
              "    </tr>\n",
              "    <tr>\n",
              "      <th>top</th>\n",
              "      <td></td>\n",
              "      <td></td>\n",
              "      <td></td>\n",
              "      <td></td>\n",
              "      <td></td>\n",
              "      <td></td>\n",
              "      <td></td>\n",
              "      <td></td>\n",
              "      <td></td>\n",
              "      <td>SE</td>\n",
              "      <td></td>\n",
              "      <td></td>\n",
              "      <td></td>\n",
              "    </tr>\n",
              "    <tr>\n",
              "      <th>freq</th>\n",
              "      <td></td>\n",
              "      <td></td>\n",
              "      <td></td>\n",
              "      <td></td>\n",
              "      <td></td>\n",
              "      <td></td>\n",
              "      <td></td>\n",
              "      <td></td>\n",
              "      <td></td>\n",
              "      <td>15290</td>\n",
              "      <td></td>\n",
              "      <td></td>\n",
              "      <td></td>\n",
              "    </tr>\n",
              "    <tr>\n",
              "      <th>mean</th>\n",
              "      <td>21912.5</td>\n",
              "      <td>2012</td>\n",
              "      <td>6.52355</td>\n",
              "      <td>15.7278</td>\n",
              "      <td>11.5</td>\n",
              "      <td>98.6132</td>\n",
              "      <td>1.81725</td>\n",
              "      <td>12.4485</td>\n",
              "      <td>1016.45</td>\n",
              "      <td></td>\n",
              "      <td>23.8891</td>\n",
              "      <td>0.0527337</td>\n",
              "      <td>0.194916</td>\n",
              "    </tr>\n",
              "    <tr>\n",
              "      <th>std</th>\n",
              "      <td>12651</td>\n",
              "      <td>1.41384</td>\n",
              "      <td>3.44857</td>\n",
              "      <td>8.79942</td>\n",
              "      <td>6.92227</td>\n",
              "      <td>92.0504</td>\n",
              "      <td>14.4334</td>\n",
              "      <td>12.1986</td>\n",
              "      <td>10.2687</td>\n",
              "      <td></td>\n",
              "      <td>50.0106</td>\n",
              "      <td>0.760375</td>\n",
              "      <td>1.41587</td>\n",
              "    </tr>\n",
              "    <tr>\n",
              "      <th>min</th>\n",
              "      <td>1</td>\n",
              "      <td>2010</td>\n",
              "      <td>1</td>\n",
              "      <td>1</td>\n",
              "      <td>0</td>\n",
              "      <td>0</td>\n",
              "      <td>-40</td>\n",
              "      <td>-19</td>\n",
              "      <td>991</td>\n",
              "      <td></td>\n",
              "      <td>0.45</td>\n",
              "      <td>0</td>\n",
              "      <td>0</td>\n",
              "    </tr>\n",
              "    <tr>\n",
              "      <th>25%</th>\n",
              "      <td>10956.8</td>\n",
              "      <td>2011</td>\n",
              "      <td>4</td>\n",
              "      <td>8</td>\n",
              "      <td>5.75</td>\n",
              "      <td>29</td>\n",
              "      <td>-10</td>\n",
              "      <td>2</td>\n",
              "      <td>1008</td>\n",
              "      <td></td>\n",
              "      <td>1.79</td>\n",
              "      <td>0</td>\n",
              "      <td>0</td>\n",
              "    </tr>\n",
              "    <tr>\n",
              "      <th>50%</th>\n",
              "      <td>21912.5</td>\n",
              "      <td>2012</td>\n",
              "      <td>7</td>\n",
              "      <td>16</td>\n",
              "      <td>11.5</td>\n",
              "      <td>72</td>\n",
              "      <td>2</td>\n",
              "      <td>14</td>\n",
              "      <td>1016</td>\n",
              "      <td></td>\n",
              "      <td>5.37</td>\n",
              "      <td>0</td>\n",
              "      <td>0</td>\n",
              "    </tr>\n",
              "    <tr>\n",
              "      <th>75%</th>\n",
              "      <td>32868.2</td>\n",
              "      <td>2013</td>\n",
              "      <td>10</td>\n",
              "      <td>23</td>\n",
              "      <td>17.25</td>\n",
              "      <td>137</td>\n",
              "      <td>15</td>\n",
              "      <td>23</td>\n",
              "      <td>1025</td>\n",
              "      <td></td>\n",
              "      <td>21.91</td>\n",
              "      <td>0</td>\n",
              "      <td>0</td>\n",
              "    </tr>\n",
              "    <tr>\n",
              "      <th>max</th>\n",
              "      <td>43824</td>\n",
              "      <td>2014</td>\n",
              "      <td>12</td>\n",
              "      <td>31</td>\n",
              "      <td>23</td>\n",
              "      <td>994</td>\n",
              "      <td>28</td>\n",
              "      <td>42</td>\n",
              "      <td>1046</td>\n",
              "      <td></td>\n",
              "      <td>585.6</td>\n",
              "      <td>27</td>\n",
              "      <td>36</td>\n",
              "    </tr>\n",
              "  </tbody>\n",
              "</table>\n",
              "</div>"
            ],
            "text/plain": [
              "             No     year    month  ...      Iws         Is        Ir\n",
              "dtypes    int64    int64    int64  ...  float64      int64     int64\n",
              "NA-s          0        0        0  ...        0          0         0\n",
              "NA%           0        0        0  ...        0          0         0\n",
              "count     43824    43824    43824  ...    43824      43824     43824\n",
              "unique                             ...                              \n",
              "top                                ...                              \n",
              "freq                               ...                              \n",
              "mean    21912.5     2012  6.52355  ...  23.8891  0.0527337  0.194916\n",
              "std       12651  1.41384  3.44857  ...  50.0106   0.760375   1.41587\n",
              "min           1     2010        1  ...     0.45          0         0\n",
              "25%     10956.8     2011        4  ...     1.79          0         0\n",
              "50%     21912.5     2012        7  ...     5.37          0         0\n",
              "75%     32868.2     2013       10  ...    21.91          0         0\n",
              "max       43824     2014       12  ...    585.6         27        36\n",
              "\n",
              "[14 rows x 13 columns]"
            ]
          },
          "metadata": {
            "tags": []
          },
          "execution_count": 6
        }
      ]
    },
    {
      "cell_type": "code",
      "metadata": {
        "ExecuteTime": {
          "end_time": "2019-05-02T15:25:00.845590Z",
          "start_time": "2019-05-02T15:25:00.837373Z"
        },
        "id": "eo9KY2O5jXhk"
      },
      "source": [
        "#Safety assertions to ensure, that No is as it seems an index column sorted, series\n",
        "pd.testing.assert_series_equal(df.No,df.No.sort_values())\n",
        "np.testing.assert_array_equal((df.No-df.No[0]).values, np.arange(0,df.shape[0],1))\n",
        "#Don't really need these if we decide to go for date based indexing"
      ],
      "execution_count": 7,
      "outputs": []
    },
    {
      "cell_type": "code",
      "metadata": {
        "ExecuteTime": {
          "end_time": "2019-05-02T15:25:00.992198Z",
          "start_time": "2019-05-02T15:25:00.847885Z"
        },
        "id": "6NKawVwejXho",
        "outputId": "d1736074-6c17-4745-b12e-49303b791aa0",
        "colab": {
          "base_uri": "https://localhost:8080/",
          "height": 378
        }
      },
      "source": [
        "df.drop(\"No\",axis=1, inplace=True)\n",
        "df[\"date\"]= pd.to_datetime(df['year'].astype(str)+'-'+df['month'].astype(str)+\"-\"+df[\"day\"].astype(str)+\"T\"+df[\"hour\"].astype(str).apply(lambda x: x.zfill(2)+\":00\"))\n",
        "df.set_index(df.date, inplace=True)\n",
        "df.drop(\"date\", axis=1, inplace=True)\n",
        "df.head(10)"
      ],
      "execution_count": 8,
      "outputs": [
        {
          "output_type": "execute_result",
          "data": {
            "text/html": [
              "<div>\n",
              "<style scoped>\n",
              "    .dataframe tbody tr th:only-of-type {\n",
              "        vertical-align: middle;\n",
              "    }\n",
              "\n",
              "    .dataframe tbody tr th {\n",
              "        vertical-align: top;\n",
              "    }\n",
              "\n",
              "    .dataframe thead th {\n",
              "        text-align: right;\n",
              "    }\n",
              "</style>\n",
              "<table border=\"1\" class=\"dataframe\">\n",
              "  <thead>\n",
              "    <tr style=\"text-align: right;\">\n",
              "      <th></th>\n",
              "      <th>year</th>\n",
              "      <th>month</th>\n",
              "      <th>day</th>\n",
              "      <th>hour</th>\n",
              "      <th>pm2.5</th>\n",
              "      <th>DEWP</th>\n",
              "      <th>TEMP</th>\n",
              "      <th>PRES</th>\n",
              "      <th>cbwd</th>\n",
              "      <th>Iws</th>\n",
              "      <th>Is</th>\n",
              "      <th>Ir</th>\n",
              "    </tr>\n",
              "    <tr>\n",
              "      <th>date</th>\n",
              "      <th></th>\n",
              "      <th></th>\n",
              "      <th></th>\n",
              "      <th></th>\n",
              "      <th></th>\n",
              "      <th></th>\n",
              "      <th></th>\n",
              "      <th></th>\n",
              "      <th></th>\n",
              "      <th></th>\n",
              "      <th></th>\n",
              "      <th></th>\n",
              "    </tr>\n",
              "  </thead>\n",
              "  <tbody>\n",
              "    <tr>\n",
              "      <th>2010-01-01 00:00:00</th>\n",
              "      <td>2010</td>\n",
              "      <td>1</td>\n",
              "      <td>1</td>\n",
              "      <td>0</td>\n",
              "      <td>NaN</td>\n",
              "      <td>-21</td>\n",
              "      <td>-11.0</td>\n",
              "      <td>1021.0</td>\n",
              "      <td>NW</td>\n",
              "      <td>1.79</td>\n",
              "      <td>0</td>\n",
              "      <td>0</td>\n",
              "    </tr>\n",
              "    <tr>\n",
              "      <th>2010-01-01 01:00:00</th>\n",
              "      <td>2010</td>\n",
              "      <td>1</td>\n",
              "      <td>1</td>\n",
              "      <td>1</td>\n",
              "      <td>NaN</td>\n",
              "      <td>-21</td>\n",
              "      <td>-12.0</td>\n",
              "      <td>1020.0</td>\n",
              "      <td>NW</td>\n",
              "      <td>4.92</td>\n",
              "      <td>0</td>\n",
              "      <td>0</td>\n",
              "    </tr>\n",
              "    <tr>\n",
              "      <th>2010-01-01 02:00:00</th>\n",
              "      <td>2010</td>\n",
              "      <td>1</td>\n",
              "      <td>1</td>\n",
              "      <td>2</td>\n",
              "      <td>NaN</td>\n",
              "      <td>-21</td>\n",
              "      <td>-11.0</td>\n",
              "      <td>1019.0</td>\n",
              "      <td>NW</td>\n",
              "      <td>6.71</td>\n",
              "      <td>0</td>\n",
              "      <td>0</td>\n",
              "    </tr>\n",
              "    <tr>\n",
              "      <th>2010-01-01 03:00:00</th>\n",
              "      <td>2010</td>\n",
              "      <td>1</td>\n",
              "      <td>1</td>\n",
              "      <td>3</td>\n",
              "      <td>NaN</td>\n",
              "      <td>-21</td>\n",
              "      <td>-14.0</td>\n",
              "      <td>1019.0</td>\n",
              "      <td>NW</td>\n",
              "      <td>9.84</td>\n",
              "      <td>0</td>\n",
              "      <td>0</td>\n",
              "    </tr>\n",
              "    <tr>\n",
              "      <th>2010-01-01 04:00:00</th>\n",
              "      <td>2010</td>\n",
              "      <td>1</td>\n",
              "      <td>1</td>\n",
              "      <td>4</td>\n",
              "      <td>NaN</td>\n",
              "      <td>-20</td>\n",
              "      <td>-12.0</td>\n",
              "      <td>1018.0</td>\n",
              "      <td>NW</td>\n",
              "      <td>12.97</td>\n",
              "      <td>0</td>\n",
              "      <td>0</td>\n",
              "    </tr>\n",
              "    <tr>\n",
              "      <th>2010-01-01 05:00:00</th>\n",
              "      <td>2010</td>\n",
              "      <td>1</td>\n",
              "      <td>1</td>\n",
              "      <td>5</td>\n",
              "      <td>NaN</td>\n",
              "      <td>-19</td>\n",
              "      <td>-10.0</td>\n",
              "      <td>1017.0</td>\n",
              "      <td>NW</td>\n",
              "      <td>16.10</td>\n",
              "      <td>0</td>\n",
              "      <td>0</td>\n",
              "    </tr>\n",
              "    <tr>\n",
              "      <th>2010-01-01 06:00:00</th>\n",
              "      <td>2010</td>\n",
              "      <td>1</td>\n",
              "      <td>1</td>\n",
              "      <td>6</td>\n",
              "      <td>NaN</td>\n",
              "      <td>-19</td>\n",
              "      <td>-9.0</td>\n",
              "      <td>1017.0</td>\n",
              "      <td>NW</td>\n",
              "      <td>19.23</td>\n",
              "      <td>0</td>\n",
              "      <td>0</td>\n",
              "    </tr>\n",
              "    <tr>\n",
              "      <th>2010-01-01 07:00:00</th>\n",
              "      <td>2010</td>\n",
              "      <td>1</td>\n",
              "      <td>1</td>\n",
              "      <td>7</td>\n",
              "      <td>NaN</td>\n",
              "      <td>-19</td>\n",
              "      <td>-9.0</td>\n",
              "      <td>1017.0</td>\n",
              "      <td>NW</td>\n",
              "      <td>21.02</td>\n",
              "      <td>0</td>\n",
              "      <td>0</td>\n",
              "    </tr>\n",
              "    <tr>\n",
              "      <th>2010-01-01 08:00:00</th>\n",
              "      <td>2010</td>\n",
              "      <td>1</td>\n",
              "      <td>1</td>\n",
              "      <td>8</td>\n",
              "      <td>NaN</td>\n",
              "      <td>-19</td>\n",
              "      <td>-9.0</td>\n",
              "      <td>1017.0</td>\n",
              "      <td>NW</td>\n",
              "      <td>24.15</td>\n",
              "      <td>0</td>\n",
              "      <td>0</td>\n",
              "    </tr>\n",
              "    <tr>\n",
              "      <th>2010-01-01 09:00:00</th>\n",
              "      <td>2010</td>\n",
              "      <td>1</td>\n",
              "      <td>1</td>\n",
              "      <td>9</td>\n",
              "      <td>NaN</td>\n",
              "      <td>-20</td>\n",
              "      <td>-8.0</td>\n",
              "      <td>1017.0</td>\n",
              "      <td>NW</td>\n",
              "      <td>27.28</td>\n",
              "      <td>0</td>\n",
              "      <td>0</td>\n",
              "    </tr>\n",
              "  </tbody>\n",
              "</table>\n",
              "</div>"
            ],
            "text/plain": [
              "                     year  month  day  hour  pm2.5  ...    PRES  cbwd    Iws Is  Ir\n",
              "date                                                ...                            \n",
              "2010-01-01 00:00:00  2010      1    1     0    NaN  ...  1021.0    NW   1.79  0   0\n",
              "2010-01-01 01:00:00  2010      1    1     1    NaN  ...  1020.0    NW   4.92  0   0\n",
              "2010-01-01 02:00:00  2010      1    1     2    NaN  ...  1019.0    NW   6.71  0   0\n",
              "2010-01-01 03:00:00  2010      1    1     3    NaN  ...  1019.0    NW   9.84  0   0\n",
              "2010-01-01 04:00:00  2010      1    1     4    NaN  ...  1018.0    NW  12.97  0   0\n",
              "2010-01-01 05:00:00  2010      1    1     5    NaN  ...  1017.0    NW  16.10  0   0\n",
              "2010-01-01 06:00:00  2010      1    1     6    NaN  ...  1017.0    NW  19.23  0   0\n",
              "2010-01-01 07:00:00  2010      1    1     7    NaN  ...  1017.0    NW  21.02  0   0\n",
              "2010-01-01 08:00:00  2010      1    1     8    NaN  ...  1017.0    NW  24.15  0   0\n",
              "2010-01-01 09:00:00  2010      1    1     9    NaN  ...  1017.0    NW  27.28  0   0\n",
              "\n",
              "[10 rows x 12 columns]"
            ]
          },
          "metadata": {
            "tags": []
          },
          "execution_count": 8
        }
      ]
    },
    {
      "cell_type": "markdown",
      "metadata": {
        "id": "rVMvHaLCjXhs"
      },
      "source": [
        "## Encoding day of week\n",
        "\n",
        "We explicitly encode the day of week, since we assume that weekends and workdays behave differently."
      ]
    },
    {
      "cell_type": "code",
      "metadata": {
        "ExecuteTime": {
          "end_time": "2019-05-02T15:25:01.000339Z",
          "start_time": "2019-05-02T15:25:00.993439Z"
        },
        "id": "XF2U8dUSjXht"
      },
      "source": [
        "df[\"dayofweek\"]=df.index.dayofweek+1"
      ],
      "execution_count": 9,
      "outputs": []
    },
    {
      "cell_type": "markdown",
      "metadata": {
        "id": "UfvnBstajXhx"
      },
      "source": [
        "# Decision about NaN-s"
      ]
    },
    {
      "cell_type": "code",
      "metadata": {
        "ExecuteTime": {
          "end_time": "2019-05-02T15:25:01.354703Z",
          "start_time": "2019-05-02T15:25:01.001819Z"
        },
        "id": "UNlA7DSMjXhx",
        "outputId": "66f92e15-2063-4143-8976-d83746045c50",
        "colab": {
          "base_uri": "https://localhost:8080/",
          "height": 460
        }
      },
      "source": [
        "fig = plt.gcf()\n",
        "fig.set_size_inches(10,7)\n",
        "df[\"pm2.5\"].isnull().astype(float).plot()"
      ],
      "execution_count": 10,
      "outputs": [
        {
          "output_type": "execute_result",
          "data": {
            "text/plain": [
              "<matplotlib.axes._subplots.AxesSubplot at 0x7f014d87a6a0>"
            ]
          },
          "metadata": {
            "tags": []
          },
          "execution_count": 10
        },
        {
          "output_type": "display_data",
          "data": {
            "image/png": "[encoded data removed]",
            "text/plain": [
              "<Figure size 720x504 with 1 Axes>"
            ]
          },
          "metadata": {
            "tags": [],
            "needs_background": "light"
          }
        }
      ]
    },
    {
      "cell_type": "code",
      "metadata": {
        "ExecuteTime": {
          "end_time": "2019-05-02T15:25:01.432487Z",
          "start_time": "2019-05-02T15:25:01.356144Z"
        },
        "id": "pvAxvBoHjXh2",
        "outputId": "c11e81ca-7be1-4f16-cc2d-e71d457ef5ab",
        "colab": {
          "base_uri": "https://localhost:8080/",
          "height": 1000
        }
      },
      "source": [
        "def isnullsum(df):\n",
        "    return df.isnull().sum()\n",
        "print(\"1-----\")\n",
        "print(\"% NaN datapoints per year:\",(df.groupby(df.index.year)[\"pm2.5\"].apply(isnullsum)/df.groupby(df.index.year)[\"pm2.5\"].count())*100.0)\n",
        "\n",
        "print(\"2--------------------------------\")\n",
        "\n",
        "\n",
        "print(\"% NaN datapoints per month:\",(df.groupby(df.index.month)[\"pm2.5\"].apply(isnullsum)/df.groupby(df.index.month)[\"pm2.5\"].count())*100.0)\n",
        "\n",
        "print(\"3--------------------------------\")\n",
        "\n",
        "print(\"% NaN datapoints per dayofweek:\",(df.groupby(df.index.dayofweek)[\"pm2.5\"].apply(isnullsum)/df.groupby(df.index.dayofweek)[\"pm2.5\"].count())*100.0)\n",
        "\n",
        "print(\"4--------------------------------\")\n",
        "print(\"% NaN datapoints per hour:\",(df.groupby(df.index.hour)[\"pm2.5\"].apply(isnullsum)/df.groupby(df.index.hour)[\"pm2.5\"].count())*100.0)\n"
      ],
      "execution_count": 11,
      "outputs": [
        {
          "output_type": "stream",
          "text": [
            "1-----\n",
            "% NaN datapoints per year: date\n",
            "2010    8.268446\n",
            "2011    9.063745\n",
            "2012    5.895118\n",
            "2013    0.944918\n",
            "2014    1.143055\n",
            "Name: pm2.5, dtype: float64\n",
            "2--------------------------------\n",
            "% NaN datapoints per month: date\n",
            "1      7.173725\n",
            "2      0.326119\n",
            "3      4.611924\n",
            "4      5.726872\n",
            "5      3.075644\n",
            "6      5.726872\n",
            "7      2.001645\n",
            "8     11.477375\n",
            "9      8.010801\n",
            "10     3.939648\n",
            "11     2.827763\n",
            "12     5.055069\n",
            "Name: pm2.5, dtype: float64\n",
            "3--------------------------------\n",
            "% NaN datapoints per dayofweek: date\n",
            "0    5.757218\n",
            "1    5.596763\n",
            "2    4.591752\n",
            "3    3.809682\n",
            "4    4.070444\n",
            "5    4.977376\n",
            "6    5.882353\n",
            "Name: pm2.5, dtype: float64\n",
            "4--------------------------------\n",
            "% NaN datapoints per hour: date\n",
            "0     5.244957\n",
            "1     4.641834\n",
            "2     5.002875\n",
            "3     4.641834\n",
            "4     4.701835\n",
            "5     4.942529\n",
            "6     4.942529\n",
            "7     5.002875\n",
            "8     5.063291\n",
            "9     5.002875\n",
            "10    5.305652\n",
            "11    5.732484\n",
            "12    5.488157\n",
            "13    4.402516\n",
            "14    5.123777\n",
            "15    5.002875\n",
            "16    5.123777\n",
            "17    4.822044\n",
            "18    4.283267\n",
            "19    4.822044\n",
            "20    4.942529\n",
            "21    4.882252\n",
            "22    4.882252\n",
            "23    4.822044\n",
            "Name: pm2.5, dtype: float64\n"
          ],
          "name": "stdout"
        }
      ]
    },
    {
      "cell_type": "markdown",
      "metadata": {
        "id": "9U4dOGjQjXh7"
      },
      "source": [
        "After examining the NaN values in pm2.5, we see no obvious temporal pattern. This is cause for worry, since by simply dropping the rows with NaN values, we can destroy the temporal coherence of the data, hence **data imputation is desirable.**\n",
        "\n",
        "The autocorrelation charts below imply, that it is not unreasonable to take the previous value to fill NaN-s (high autocorrelation with the previous timestep)."
      ]
    },
    {
      "cell_type": "code",
      "metadata": {
        "ExecuteTime": {
          "end_time": "2019-05-02T15:25:01.471480Z",
          "start_time": "2019-05-02T15:25:01.433895Z"
        },
        "id": "db0PySLCjXh7",
        "outputId": "876064a8-e51f-448b-8ef1-6aa2dd3a3c5c",
        "colab": {
          "base_uri": "https://localhost:8080/",
          "height": 526
        }
      },
      "source": [
        "\n",
        "df.fillna(method='ffill', inplace=True)\n",
        "\n",
        "print(df.isnull().sum())\n",
        "\n",
        "df.dropna(inplace=True)\n",
        "\n",
        "print(df.isnull().sum())\n"
      ],
      "execution_count": 12,
      "outputs": [
        {
          "output_type": "stream",
          "text": [
            "year          0\n",
            "month         0\n",
            "day           0\n",
            "hour          0\n",
            "pm2.5        24\n",
            "DEWP          0\n",
            "TEMP          0\n",
            "PRES          0\n",
            "cbwd          0\n",
            "Iws           0\n",
            "Is            0\n",
            "Ir            0\n",
            "dayofweek     0\n",
            "dtype: int64\n",
            "year         0\n",
            "month        0\n",
            "day          0\n",
            "hour         0\n",
            "pm2.5        0\n",
            "DEWP         0\n",
            "TEMP         0\n",
            "PRES         0\n",
            "cbwd         0\n",
            "Iws          0\n",
            "Is           0\n",
            "Ir           0\n",
            "dayofweek    0\n",
            "dtype: int64\n"
          ],
          "name": "stdout"
        }
      ]
    },
    {
      "cell_type": "markdown",
      "metadata": {
        "id": "obV1U7gLjXiB"
      },
      "source": [
        "# Examining autocorrelations"
      ]
    },
    {
      "cell_type": "code",
      "metadata": {
        "ExecuteTime": {
          "end_time": "2019-05-02T15:25:25.702761Z",
          "start_time": "2019-05-02T15:25:01.472908Z"
        },
        "id": "sRAlF3VQjXiC",
        "outputId": "6be5842b-225e-4779-b50f-72c1d92455f3",
        "colab": {
          "base_uri": "https://localhost:8080/",
          "height": 1000
        }
      },
      "source": [
        "from statsmodels.graphics.tsaplots import plot_pacf\n",
        "\n",
        "#columns = [] #use this for speedup\n",
        "columns = [\"pm2.5\",\"DEWP\",\"TEMP\",\"PRES\",\"Iws\",\"Is\",\"Ir\"]\n",
        "\n",
        "for col in columns:\n",
        "    plt.figure()\n",
        "    plot_pacf(df[col].dropna(), lags=200, zero=False)\n",
        "    \n",
        "plt.show()\n"
      ],
      "execution_count": 13,
      "outputs": [
        {
          "output_type": "display_data",
          "data": {
            "text/plain": [
              "<Figure size 432x288 with 0 Axes>"
            ]
          },
          "metadata": {
            "tags": []
          }
        },
        {
          "output_type": "display_data",
          "data": {
            "image/png": "[encoded data removed]",
            "text/plain": [
              "<Figure size 432x288 with 1 Axes>"
            ]
          },
          "metadata": {
            "tags": [],
            "needs_background": "light"
          }
        },
        {
          "output_type": "display_data",
          "data": {
            "text/plain": [
              "<Figure size 432x288 with 0 Axes>"
            ]
          },
          "metadata": {
            "tags": []
          }
        },
        {
          "output_type": "display_data",
          "data": {
            "image/png": "[encoded data removed]",
            "text/plain": [
              "<Figure size 432x288 with 1 Axes>"
            ]
          },
          "metadata": {
            "tags": [],
            "needs_background": "light"
          }
        },
        {
          "output_type": "display_data",
          "data": {
            "text/plain": [
              "<Figure size 432x288 with 0 Axes>"
            ]
          },
          "metadata": {
            "tags": []
          }
        },
        {
          "output_type": "display_data",
          "data": {
            "image/png": "[encoded data removed]",
            "text/plain": [
              "<Figure size 432x288 with 1 Axes>"
            ]
          },
          "metadata": {
            "tags": [],
            "needs_background": "light"
          }
        },
        {
          "output_type": "display_data",
          "data": {
            "text/plain": [
              "<Figure size 432x288 with 0 Axes>"
            ]
          },
          "metadata": {
            "tags": []
          }
        },
        {
          "output_type": "display_data",
          "data": {
            "image/png": "[encoded data removed]",
            "text/plain": [
              "<Figure size 432x288 with 1 Axes>"
            ]
          },
          "metadata": {
            "tags": [],
            "needs_background": "light"
          }
        },
        {
          "output_type": "display_data",
          "data": {
            "text/plain": [
              "<Figure size 432x288 with 0 Axes>"
            ]
          },
          "metadata": {
            "tags": []
          }
        },
        {
          "output_type": "display_data",
          "data": {
            "image/png": "[encoded data removed]",
            "text/plain": [
              "<Figure size 432x288 with 1 Axes>"
            ]
          },
          "metadata": {
            "tags": [],
            "needs_background": "light"
          }
        },
        {
          "output_type": "display_data",
          "data": {
            "text/plain": [
              "<Figure size 432x288 with 0 Axes>"
            ]
          },
          "metadata": {
            "tags": []
          }
        },
        {
          "output_type": "display_data",
          "data": {
            "image/png": "[encoded data removed]",
            "text/plain": [
              "<Figure size 432x288 with 1 Axes>"
            ]
          },
          "metadata": {
            "tags": [],
            "needs_background": "light"
          }
        },
        {
          "output_type": "display_data",
          "data": {
            "text/plain": [
              "<Figure size 432x288 with 0 Axes>"
            ]
          },
          "metadata": {
            "tags": []
          }
        },
        {
          "output_type": "display_data",
          "data": {
            "image/png": "[encoded data removed]",
            "text/plain": [
              "<Figure size 432x288 with 1 Axes>"
            ]
          },
          "metadata": {
            "tags": [],
            "needs_background": "light"
          }
        }
      ]
    },
    {
      "cell_type": "markdown",
      "metadata": {
        "id": "cyinwes9jXiH"
      },
      "source": [
        "## What do we see?\n",
        "\n",
        "Well, the fact, that we don't see.\n",
        "\n",
        "Or more precisely: smog (and weather) is slow to move, it is extremely strongly autocorrelated with itself one-two hours before, so in order to at least be able to see some autocorrelation structure beyond this, we need to filter out the first some hours from our autocorrelation analysis.\n",
        "\n",
        "(By the way, that's why we don't stick to the prediction of the next hour as in the original \"inspiration\" blogpost. Would not be too relevant...)"
      ]
    },
    {
      "cell_type": "code",
      "metadata": {
        "ExecuteTime": {
          "end_time": "2019-05-02T15:25:25.715038Z",
          "start_time": "2019-05-02T15:25:25.705295Z"
        },
        "id": "KfS8KJJfjXiI"
      },
      "source": [
        "from statsmodels.graphics.tsaplots import _prepare_data_corr_plot, _plot_corr\n",
        "import statsmodels.graphics.utils as utils\n",
        "from statsmodels.tsa.stattools import pacf\n",
        "\n",
        "def plot_pacf_drop(x, ax=None, lags=None, alpha=.05, method='ywunbiased',\n",
        "              use_vlines=True, title='Partial Autocorrelation', zero=True,\n",
        "              vlines_kwargs=None, drop_no=0, **kwargs):\n",
        "    \n",
        "    lags_orig=lags\n",
        "    fig, ax = utils.create_mpl_ax(ax)\n",
        "    vlines_kwargs = {} if vlines_kwargs is None else vlines_kwargs\n",
        "    lags, nlags, irregular = _prepare_data_corr_plot(x, lags, zero)\n",
        "    confint = None\n",
        "    if alpha is None:\n",
        "        acf_x = pacf(x, nlags=nlags, alpha=alpha, method=method)\n",
        "    else:\n",
        "        acf_x, confint = pacf(x, nlags=nlags, alpha=alpha, method=method)\n",
        "\n",
        "    if drop_no:\n",
        "        acf_x = acf_x[drop_no+1:]\n",
        "        confint = confint[drop_no+1:]\n",
        "        lags, nlags, irregular = _prepare_data_corr_plot(x, lags_orig-drop_no, zero)\n",
        "        \n",
        "    _plot_corr(ax, title, acf_x, confint, lags, False, use_vlines,\n",
        "               vlines_kwargs, **kwargs)\n",
        "\n",
        "    return fig"
      ],
      "execution_count": 14,
      "outputs": []
    },
    {
      "cell_type": "code",
      "metadata": {
        "ExecuteTime": {
          "end_time": "2019-05-02T15:25:56.406955Z",
          "start_time": "2019-05-02T15:25:25.718313Z"
        },
        "scrolled": false,
        "id": "GbLufIMGjXiM",
        "outputId": "06d58772-2d0b-47ed-aca6-240c07cad83a",
        "colab": {
          "base_uri": "https://localhost:8080/",
          "height": 1000
        }
      },
      "source": [
        "import matplotlib.pyplot as plt\n",
        "\n",
        "#columns = [] #use this for speedup\n",
        "columns = [\"pm2.5\",\"DEWP\",\"TEMP\",\"PRES\",\"Iws\",\"Is\",\"Ir\"]\n",
        "\n",
        "for col in columns:\n",
        "    plt.figure()\n",
        "    plot_pacf_drop(df[col].dropna(), lags=200, drop_no=3, zero=False)\n",
        "    \n",
        "plt.show()\n"
      ],
      "execution_count": 15,
      "outputs": [
        {
          "output_type": "display_data",
          "data": {
            "text/plain": [
              "<Figure size 432x288 with 0 Axes>"
            ]
          },
          "metadata": {
            "tags": []
          }
        },
        {
          "output_type": "display_data",
          "data": {
            "image/png": "[encoded data removed]",
            "text/plain": [
              "<Figure size 432x288 with 1 Axes>"
            ]
          },
          "metadata": {
            "tags": [],
            "needs_background": "light"
          }
        },
        {
          "output_type": "display_data",
          "data": {
            "text/plain": [
              "<Figure size 432x288 with 0 Axes>"
            ]
          },
          "metadata": {
            "tags": []
          }
        },
        {
          "output_type": "display_data",
          "data": {
            "image/png": "[encoded data removed]",
            "text/plain": [
              "<Figure size 432x288 with 1 Axes>"
            ]
          },
          "metadata": {
            "tags": [],
            "needs_background": "light"
          }
        },
        {
          "output_type": "display_data",
          "data": {
            "text/plain": [
              "<Figure size 432x288 with 0 Axes>"
            ]
          },
          "metadata": {
            "tags": []
          }
        },
        {
          "output_type": "display_data",
          "data": {
            "image/png": "[encoded data removed]",
            "text/plain": [
              "<Figure size 432x288 with 1 Axes>"
            ]
          },
          "metadata": {
            "tags": [],
            "needs_background": "light"
          }
        },
        {
          "output_type": "display_data",
          "data": {
            "text/plain": [
              "<Figure size 432x288 with 0 Axes>"
            ]
          },
          "metadata": {
            "tags": []
          }
        },
        {
          "output_type": "display_data",
          "data": {
            "image/png": "[encoded data removed]",
            "text/plain": [
              "<Figure size 432x288 with 1 Axes>"
            ]
          },
          "metadata": {
            "tags": [],
            "needs_background": "light"
          }
        },
        {
          "output_type": "display_data",
          "data": {
            "text/plain": [
              "<Figure size 432x288 with 0 Axes>"
            ]
          },
          "metadata": {
            "tags": []
          }
        },
        {
          "output_type": "display_data",
          "data": {
            "image/png": "[encoded data removed]",
            "text/plain": [
              "<Figure size 432x288 with 1 Axes>"
            ]
          },
          "metadata": {
            "tags": [],
            "needs_background": "light"
          }
        },
        {
          "output_type": "display_data",
          "data": {
            "text/plain": [
              "<Figure size 432x288 with 0 Axes>"
            ]
          },
          "metadata": {
            "tags": []
          }
        },
        {
          "output_type": "display_data",
          "data": {
            "image/png": "[encoded data removed]",
            "text/plain": [
              "<Figure size 432x288 with 1 Axes>"
            ]
          },
          "metadata": {
            "tags": [],
            "needs_background": "light"
          }
        },
        {
          "output_type": "display_data",
          "data": {
            "text/plain": [
              "<Figure size 432x288 with 0 Axes>"
            ]
          },
          "metadata": {
            "tags": []
          }
        },
        {
          "output_type": "display_data",
          "data": {
            "image/png": "[encoded data removed]",
            "text/plain": [
              "<Figure size 432x288 with 1 Axes>"
            ]
          },
          "metadata": {
            "tags": [],
            "needs_background": "light"
          }
        }
      ]
    },
    {
      "cell_type": "markdown",
      "metadata": {
        "id": "VMqgyFO2jXiT"
      },
      "source": [
        "Studying even the filtered charts leaves us in doubt about the possible window for modeling (in case of the classical models), so we will keep 100 as the modeling window (nearly two weeks). This is a parameter that is worth empirically studying later on.\n",
        "\n",
        "It is worth mentioning, that the `pacf` charts would definitely change drastically if we would use some differencing. Since down below we decide not to, we keep it as it is."
      ]
    },
    {
      "cell_type": "markdown",
      "metadata": {
        "id": "On1i9RerjXiU"
      },
      "source": [
        "## Seasonal decomposition and the question of trends"
      ]
    },
    {
      "cell_type": "code",
      "metadata": {
        "ExecuteTime": {
          "end_time": "2019-05-02T15:25:57.851934Z",
          "start_time": "2019-05-02T15:25:56.409704Z"
        },
        "id": "lFYqsJ3EjXiU",
        "outputId": "29554608-4727-4092-8a79-2fad26094dc2",
        "colab": {
          "base_uri": "https://localhost:8080/",
          "height": 297
        }
      },
      "source": [
        "from statsmodels.tsa.seasonal import seasonal_decompose\n",
        "from statsmodels.tsa.tsatools import freq_to_period\n",
        "import matplotlib.pyplot as plt\n",
        "\n",
        "analysis = seasonal_decompose(df[\"pm2.5\"], freq=freq_to_period(df.index.inferred_freq))\n",
        "\n",
        "analysis.plot()\n",
        "plt.show()"
      ],
      "execution_count": 16,
      "outputs": [
        {
          "output_type": "display_data",
          "data": {
            "image/png": "[encoded data removed]",
            "text/plain": [
              "<Figure size 432x288 with 4 Axes>"
            ]
          },
          "metadata": {
            "tags": [],
            "needs_background": "light"
          }
        }
      ]
    },
    {
      "cell_type": "markdown",
      "metadata": {
        "id": "J-zE0n77jXiY"
      },
      "source": [
        "Well, the default setting (infer periods - hourly) is rather uninformative, so it is maybe worth using some domain knowledge here, and use yearly frequency."
      ]
    },
    {
      "cell_type": "code",
      "metadata": {
        "ExecuteTime": {
          "end_time": "2019-05-02T15:25:59.931549Z",
          "start_time": "2019-05-02T15:25:57.854582Z"
        },
        "id": "pLAUHTVLjXiY",
        "outputId": "c2ef797b-d634-48cb-8a65-61b36ed17c7b",
        "colab": {
          "base_uri": "https://localhost:8080/",
          "height": 297
        }
      },
      "source": [
        "analysis = seasonal_decompose(df[\"pm2.5\"], freq=24*365)\n",
        "\n",
        "analysis.plot()\n",
        "plt.show()"
      ],
      "execution_count": 17,
      "outputs": [
        {
          "output_type": "display_data",
          "data": {
            "image/png": "[encoded data removed]",
            "text/plain": [
              "<Figure size 432x288 with 4 Axes>"
            ]
          },
          "metadata": {
            "tags": [],
            "needs_background": "light"
          }
        }
      ]
    },
    {
      "cell_type": "markdown",
      "metadata": {
        "id": "-ngq6EY3jXic"
      },
      "source": [
        "We do get the first impression, that there is no overarching simple trend, as well as there are non-trivial seasonal patterns. At a later stage we should investigate differencing regimes, but for now, we leave the data as is."
      ]
    },
    {
      "cell_type": "markdown",
      "metadata": {
        "id": "oA9_ZkoWjXid"
      },
      "source": [
        "# Train, valid, test split - before normalization\n",
        "\n",
        "Contamination by the normalization values is a distant possibility, but let's stick to paranoid practices."
      ]
    },
    {
      "cell_type": "code",
      "metadata": {
        "ExecuteTime": {
          "end_time": "2019-05-02T15:25:59.936881Z",
          "start_time": "2019-05-02T15:25:59.933655Z"
        },
        "id": "tWpQw5NZjXid"
      },
      "source": [
        "VALID_AND_TEST_SIZE=0.1"
      ],
      "execution_count": 18,
      "outputs": []
    },
    {
      "cell_type": "code",
      "metadata": {
        "ExecuteTime": {
          "end_time": "2019-05-02T15:26:00.056548Z",
          "start_time": "2019-05-02T15:25:59.940082Z"
        },
        "id": "zF89cYvujXij"
      },
      "source": [
        "from sklearn.model_selection import train_test_split\n",
        "\n",
        "X_train, X_else, y_train, y_else = train_test_split(df, df[\"pm2.5\"], test_size=VALID_AND_TEST_SIZE*2, shuffle=False)\n",
        "X_valid, X_test, y_valid, y_test = train_test_split(X_else, y_else, test_size=0.5, shuffle=False)\n"
      ],
      "execution_count": 19,
      "outputs": []
    },
    {
      "cell_type": "markdown",
      "metadata": {
        "id": "MAgpz3dWjXim"
      },
      "source": [
        "We could have used `temporal_split` from `seglearn`, but that would have cast everything to numpy, so it was more convenient this way for now. Using `seglearn` is encouraged - if we would like to go into classical modeling."
      ]
    },
    {
      "cell_type": "markdown",
      "metadata": {
        "ExecuteTime": {
          "end_time": "2019-04-28T08:49:44.040034Z",
          "start_time": "2019-04-28T08:49:43.994879Z"
        },
        "id": "toRYvmznjXin"
      },
      "source": [
        "# Data normalization\n",
        "\n",
        "Our default assumption is to use Scikit's minmax scaler for easier learning by neural models."
      ]
    },
    {
      "cell_type": "markdown",
      "metadata": {
        "ExecuteTime": {
          "end_time": "2019-04-28T08:49:44.040034Z",
          "start_time": "2019-04-28T08:49:43.994879Z"
        },
        "id": "o6UO7Q-bjXio"
      },
      "source": [
        "But there are some exceptions:\n",
        "\n",
        "## How to normalize dates?\n",
        "\n",
        "For the year it is more tricky, it is basically an ordinal.\n",
        "Subtracting the first year is nice, but how to handle the normalization to 0,1?\n",
        "\n",
        "We could use 2018 as a max, but **WE WOULD HAVE TO WRITE A BIG CAVEAT MESSAGE FOR DEPLOY PEOPLE!**\n",
        "\n",
        "So it should be something like  `(df.year - (df.year.min())-1)/((df.year.max()-df.year.min())*2)` (-1 is for avoiding zero, making the life of the network more easy...)\n",
        "\n",
        "For now we stick to the minmax scaler (living risky... :-)\n",
        "\n",
        "For month, day, hour default assumption is, scikit's minmax scaler could work, but we will choose a more elaborate solution from [here](https://ianlondon.github.io/blog/encoding-cyclical-features-24hour-time/). This capitalizes on the circular nature of these quasi ordinals.\n"
      ]
    },
    {
      "cell_type": "code",
      "metadata": {
        "ExecuteTime": {
          "end_time": "2019-05-02T15:26:00.065112Z",
          "start_time": "2019-05-02T15:26:00.059198Z"
        },
        "id": "LUOlyeYtjXip"
      },
      "source": [
        "from sklearn.preprocessing import MinMaxScaler\n",
        "import warnings\n",
        "from sklearn.exceptions import DataConversionWarning\n",
        "warnings.filterwarnings(action='ignore', category=DataConversionWarning)\n",
        "# I literally hate when a standard Scikit function throws big bunches of warnings \n",
        "# - though suppressing them is a dangerous practice. Hence this comment. \n",
        "\n",
        "def minmax_scale(df_x,series_y, normalizers=None):\n",
        "    features_to_minmax = [\"year\",\"pm2.5\",\"DEWP\",\"TEMP\",\"PRES\",\"Iws\",\"Is\",\"Ir\"]\n",
        "\n",
        "    if not normalizers:\n",
        "        normalizers = {}\n",
        "\n",
        "    for feat in features_to_minmax:\n",
        "        if feat not in normalizers:\n",
        "            normalizers[feat] = MinMaxScaler()\n",
        "            normalizers[feat].fit(df_x[feat].values.reshape(-1, 1))\n",
        "        \n",
        "        df_x[feat] = normalizers[feat].transform(df_x[feat].values.reshape(-1, 1))\n",
        "\n",
        "    series_y=normalizers[\"pm2.5\"].transform(series_y.values.reshape(-1, 1))\n",
        "\n",
        "    return df_x, series_y, normalizers"
      ],
      "execution_count": 20,
      "outputs": []
    },
    {
      "cell_type": "code",
      "metadata": {
        "ExecuteTime": {
          "end_time": "2019-05-02T15:26:00.964633Z",
          "start_time": "2019-05-02T15:26:00.067037Z"
        },
        "id": "wsngNifEjXis"
      },
      "source": [
        "\n",
        "X_train_norm, y_train_norm, normalizers = minmax_scale(X_train, y_train)\n",
        "X_valid_norm, y_valid_norm, _ = minmax_scale(X_valid, y_valid, normalizers=normalizers)\n",
        "X_test_norm, y_test_norm, _ = minmax_scale(X_test, y_test, normalizers=normalizers)\n"
      ],
      "execution_count": 21,
      "outputs": []
    },
    {
      "cell_type": "markdown",
      "metadata": {
        "ExecuteTime": {
          "end_time": "2019-04-28T08:49:44.040034Z",
          "start_time": "2019-04-28T08:49:43.994879Z"
        },
        "id": "tZ68Z_AJjXiw"
      },
      "source": [
        "## Encoding of ordinals\n",
        "\n",
        "The encoding of `cbwd` is interesting, since it is an ordinal again, or better to say not even that, it has a nice circular topology, so we will use the same sin-cos solution.\n",
        "\n",
        "Problem is, that there is a valid \"zero\" value, marked \"cv\" in there. We are tempted to replace that with 0."
      ]
    },
    {
      "cell_type": "code",
      "metadata": {
        "ExecuteTime": {
          "end_time": "2019-05-02T15:26:00.974581Z",
          "start_time": "2019-05-02T15:26:00.966574Z"
        },
        "id": "Mz9F3WZrjXiy"
      },
      "source": [
        "\n",
        "def encode_cyclicals(df_x):\n",
        "    #\"month\",\"day\",\"hour\", \"cdbw\", \"dayofweek\"\n",
        "    \n",
        "    DIRECTIONS = {\"N\":1.0,\"NE\":2.0, \"E\":3.0, \"SE\":4.0, \"S\":5.0, \"SW\":6.0, \"W\":7.0, \"NW\":8.0, \"cv\":np.nan}\n",
        "\n",
        "    df_x['month_sin'] = np.sin(2*np.pi*df_x.month/12)\n",
        "    df_x['month_cos'] = np.cos(2*np.pi*df_x.month/12)\n",
        "    df_x.drop('month', axis=1, inplace=True)\n",
        "    \n",
        "    df_x['day_sin'] = np.sin(2*np.pi*df_x.day/31)\n",
        "    df_x['day_cos'] = np.cos(2*np.pi*df_x.day/31)\n",
        "    df_x.drop('day', axis=1, inplace=True)\n",
        "\n",
        "    df_x['dayofweek_sin'] = np.sin(2*np.pi*df_x.dayofweek/7)\n",
        "    df_x['dayofweek_cos'] = np.cos(2*np.pi*df_x.dayofweek/7)\n",
        "    df_x.drop('dayofweek', axis=1, inplace=True)\n",
        "    \n",
        "    df_x['hour_sin'] = np.sin(2*np.pi*df_x.hour/24)\n",
        "    df_x['hour_cos'] = np.cos(2*np.pi*df_x.hour/24)\n",
        "    df_x.drop('hour', axis=1, inplace=True)\n",
        "    \n",
        "    df_x.replace({'cbwd': DIRECTIONS}, inplace=True)\n",
        "    df_x['cbwd'] = df_x['cbwd'].astype(np.float64) \n",
        "\n",
        "    df_x['cbwd_sin'] = np.sin(2.0*np.pi*df_x.cbwd/8.0)\n",
        "    df_x['cbwd_sin'].replace(np.nan, 0.0, inplace=True) #Let's handle the case with no wind specially\n",
        "    df_x['cbwd_cos'] = np.cos(2.0*np.pi*df_x.cbwd/8.0)\n",
        "    df_x['cbwd_cos'].replace(np.nan, 0.0, inplace=True) #Let's handle the case with no wind specially\n",
        "    df_x.drop('cbwd', axis=1, inplace=True)\n",
        "    \n",
        "    return df_x"
      ],
      "execution_count": 22,
      "outputs": []
    },
    {
      "cell_type": "code",
      "metadata": {
        "ExecuteTime": {
          "end_time": "2019-05-02T15:26:03.103910Z",
          "start_time": "2019-05-02T15:26:00.977468Z"
        },
        "id": "rxZH1AqdjXi4"
      },
      "source": [
        "X_train_norm = encode_cyclicals(X_train_norm)\n",
        "X_valid_norm = encode_cyclicals(X_valid_norm)\n",
        "X_test_norm = encode_cyclicals(X_test_norm)"
      ],
      "execution_count": 23,
      "outputs": []
    },
    {
      "cell_type": "code",
      "metadata": {
        "ExecuteTime": {
          "end_time": "2019-05-02T15:26:03.164598Z",
          "start_time": "2019-05-02T15:26:03.159269Z"
        },
        "id": "ohJw1XHejXjA"
      },
      "source": [
        "#Just in case to ensure we did everything right\n",
        "assert all(x==np.float64 for x in list(X_train_norm.dtypes))"
      ],
      "execution_count": 25,
      "outputs": []
    },
    {
      "cell_type": "markdown",
      "metadata": {
        "id": "RYxJ7mvFjXjG"
      },
      "source": [
        "It would be worth checking with some assertions that the manual normalizers work well. Let's leave it to later work."
      ]
    },
    {
      "cell_type": "markdown",
      "metadata": {
        "id": "0mb7yPUnjXjH"
      },
      "source": [
        "It is also worth noting, that the normalizers should be saved and used in production."
      ]
    },
    {
      "cell_type": "markdown",
      "metadata": {
        "id": "C6Xp3jyMjXjH"
      },
      "source": [
        "# Creating target (y) and \"windows\" (X) for modeling\n",
        "\n",
        "By default we use the next 24 hour value of \"pm2.5\" for prediction, that is, I would like to predict what the pm2.5 will be like **at this hour 24 hours from now.**\n",
        "\n",
        "We use the quite handy **seglearn** package for this."
      ]
    },
    {
      "cell_type": "markdown",
      "metadata": {
        "id": "fGWt02AWjXjI"
      },
      "source": [
        "Because of computational reasons, we **use the window of 100 hours** to predict. Classical models would have hard time to accommodate substantially (like 5-10x) context windows, LSTM-s would suffer from the challenge of long term memory. After a basic run of modeling the next big challenge would be to investigate PACF structure more and use eg. stateful LSTM modeling to try to accommodate the large \"lookback\".   "
      ]
    },
    {
      "cell_type": "code",
      "metadata": {
        "ExecuteTime": {
          "end_time": "2019-05-02T15:26:03.169133Z",
          "start_time": "2019-05-02T15:26:03.165982Z"
        },
        "id": "GEaUm6BTjXjI"
      },
      "source": [
        "TIME_WINDOW=100\n",
        "FORECAST_DISTANCE=24"
      ],
      "execution_count": 26,
      "outputs": []
    },
    {
      "cell_type": "code",
      "metadata": {
        "ExecuteTime": {
          "end_time": "2019-05-02T15:26:05.135398Z",
          "start_time": "2019-05-02T15:26:03.170483Z"
        },
        "id": "WLqkKSk4jXjV"
      },
      "source": [
        "from seglearn.transform import FeatureRep, SegmentXYForecast, last\n",
        "\n",
        "segmenter = SegmentXYForecast(width=TIME_WINDOW, step=1, y_func=last, forecast=FORECAST_DISTANCE)\n",
        "\n",
        "X_train_rolled, y_train_rolled,_=segmenter.fit_transform([X_train_norm.values],[y_train_norm.flatten()])"
      ],
      "execution_count": 27,
      "outputs": []
    },
    {
      "cell_type": "markdown",
      "metadata": {
        "id": "LeQIRJDwjXje"
      },
      "source": [
        "# For non-sequence models \n",
        "\n",
        "We have to \"flatten\" the data to be able to use classical, non-sequence regression models from Scikit.\n",
        "\n",
        "**We only need to do this for X, any transformation of y is unnecessary.**"
      ]
    },
    {
      "cell_type": "code",
      "metadata": {
        "ExecuteTime": {
          "end_time": "2019-05-02T15:26:05.161443Z",
          "start_time": "2019-05-02T15:26:05.156594Z"
        },
        "id": "klUbkzTyjXjp",
        "outputId": "dd563216-a056-49aa-e741-a5a417a0caf6",
        "colab": {
          "base_uri": "https://localhost:8080/",
          "height": 35
        }
      },
      "source": [
        "shape = X_train_rolled.shape\n",
        "X_train_flattened = X_train_rolled.reshape(shape[0],shape[1]*shape[2])\n",
        "X_train_flattened.shape"
      ],
      "execution_count": 28,
      "outputs": [
        {
          "output_type": "execute_result",
          "data": {
            "text/plain": [
              "(34917, 1800)"
            ]
          },
          "metadata": {
            "tags": []
          },
          "execution_count": 28
        }
      ]
    },
    {
      "cell_type": "code",
      "metadata": {
        "ExecuteTime": {
          "end_time": "2019-05-02T15:26:05.405298Z",
          "start_time": "2019-05-02T15:26:05.163304Z"
        },
        "id": "mC1cgj0ojXjt"
      },
      "source": [
        "X_valid_rolled, y_valid_rolled,_=segmenter.fit_transform([X_valid_norm.values],[y_valid_norm.flatten()])\n",
        "\n",
        "shape = X_valid_rolled.shape\n",
        "X_valid_flattened = X_valid_rolled.reshape(shape[0],shape[1]*shape[2])"
      ],
      "execution_count": 29,
      "outputs": []
    },
    {
      "cell_type": "markdown",
      "metadata": {
        "id": "zr4VRJeLjXjz"
      },
      "source": [
        "# Evaluation helper\n",
        "\n",
        "Use this function to evaluate your models **on validation data.**\n",
        "\n",
        "This assumes that your model has the `predict()` function, which is true for **Scikit-learn, XGBoost** and **Keras**, so you can can hand over any of those. \n",
        "\n",
        "A special issue by models optimized by iterative methods is to **get the final model**. **Early stopping and / or model save and reload** can help there.  \n",
        "\n",
        "**WARNING: This is just a basic evaluation scheme, more thorough investigation needed in the future!**"
      ]
    },
    {
      "cell_type": "code",
      "metadata": {
        "ExecuteTime": {
          "end_time": "2019-05-02T15:26:05.414032Z",
          "start_time": "2019-05-02T15:26:05.407874Z"
        },
        "id": "bJRWtit_jXj1"
      },
      "source": [
        "from sklearn.metrics import mean_squared_error\n",
        "from math import sqrt\n",
        "\n",
        "def evaluate_model(model, X_valid, y_valid_true):\n",
        "    predictions = model.predict(X_valid)\n",
        "    rms = sqrt(mean_squared_error(y_valid_true, predictions))\n",
        "    print(\"Root mean squared error on valid:\",rms)\n",
        "    normalized_rms = normalizers[\"pm2.5\"].inverse_transform(np.array([rms]).reshape(1, -1))[0][0]\n",
        "    print(\"Root mean squared error on valid inverse transformed from normalization:\",normalized_rms)\n",
        "    return normalized_rms"
      ],
      "execution_count": 30,
      "outputs": []
    },
    {
      "cell_type": "markdown",
      "metadata": {
        "id": "YiWtKnJAjXj5"
      },
      "source": [
        "# Classical modeling\n",
        "\n",
        "In \"classical\" modeling we assume a multiple regression case, so we **DO NOT USE time series as such, but the \"flat\" versions of the data** as input. Output is the same. "
      ]
    },
    {
      "cell_type": "markdown",
      "metadata": {
        "id": "V0ied83CjXj6"
      },
      "source": [
        "## Baseline - DummyPredictor\n",
        "\n",
        "**TASK Create a dummy predictor as a baseline. Use Scikit-learn's builtin capability to do dummy models in regression case. Use the default setting, that is the prediction of the mean value.**"
      ]
    },
    {
      "cell_type": "code",
      "metadata": {
        "ExecuteTime": {
          "end_time": "2019-05-02T15:26:05.425330Z",
          "start_time": "2019-05-02T15:26:05.416635Z"
        },
        "id": "Hd2JptmxjXj6",
        "outputId": "d3186b25-f7ac-4bbc-b38e-f6eb846444cd",
        "colab": {
          "base_uri": "https://localhost:8080/",
          "height": 35
        }
      },
      "source": [
        "from sklearn.dummy import DummyRegressor\n",
        "dummy_model = DummyRegressor(strategy=\"mean\")\n",
        "dummy_model.fit(X_train_flattened,y_train_rolled)"
      ],
      "execution_count": 31,
      "outputs": [
        {
          "output_type": "execute_result",
          "data": {
            "text/plain": [
              "DummyRegressor(constant=None, quantile=None, strategy='mean')"
            ]
          },
          "metadata": {
            "tags": []
          },
          "execution_count": 31
        }
      ]
    },
    {
      "cell_type": "markdown",
      "metadata": {
        "id": "zpsxLFj2jXj-"
      },
      "source": [
        "### Evaluation"
      ]
    },
    {
      "cell_type": "code",
      "metadata": {
        "ExecuteTime": {
          "end_time": "2019-05-02T15:26:05.433386Z",
          "start_time": "2019-05-02T15:26:05.428185Z"
        },
        "id": "dwohIeF_jXj_",
        "outputId": "b984e6b6-d8f2-47df-9ad8-392d889d8f17",
        "colab": {
          "base_uri": "https://localhost:8080/",
          "height": 54
        }
      },
      "source": [
        "result = evaluate_model(dummy_model,X_valid_flattened,y_valid_rolled)"
      ],
      "execution_count": 32,
      "outputs": [
        {
          "output_type": "stream",
          "text": [
            "Root mean squared error on valid: 0.0986950073704243\n",
            "Root mean squared error on valid inverse transformed from normalization: 98.10283732620175\n"
          ],
          "name": "stdout"
        }
      ]
    },
    {
      "cell_type": "markdown",
      "metadata": {
        "id": "63blkYCEjXkC"
      },
      "source": [
        "## Fitting a RandomForest on raw data\n",
        "\n",
        "**TASK: Fit a RandomForest from Scikit. Please be aware, that the number of trees in the model is having a strong influence on training time.** \n",
        "\n",
        "**Suggestion:** use couple of tens of trees, definitely << 100 to be able to wait it out...\n",
        "\n",
        "**Pro tip:** To utilize all the CPU cores, use the right setting of n_jobs. That speeds things up."
      ]
    },
    {
      "cell_type": "code",
      "metadata": {
        "ExecuteTime": {
          "end_time": "2019-05-02T15:26:05.455678Z",
          "start_time": "2019-05-02T15:26:05.436188Z"
        },
        "id": "6PLKIdG0jXkD"
      },
      "source": [
        "from sklearn.ensemble import RandomForestRegressor\n",
        "\n",
        "N_ESTIMATORS = 55\n",
        "RANDOM_STATE = 452543634"
      ],
      "execution_count": 33,
      "outputs": []
    },
    {
      "cell_type": "code",
      "metadata": {
        "ExecuteTime": {
          "end_time": "2019-05-02T15:31:10.504738Z",
          "start_time": "2019-05-02T15:26:05.457739Z"
        },
        "id": "hMKTzM_2jXkM",
        "outputId": "86d0fa7e-c67f-4f36-a562-b05dc79ffc8c",
        "colab": {
          "base_uri": "https://localhost:8080/",
          "height": 145
        }
      },
      "source": [
        "RF_base_model = RandomForestRegressor(max_depth=5, n_estimators= N_ESTIMATORS ,random_state=RANDOM_STATE,n_jobs = -1)\n",
        "RF_base_model.fit(X_train_flattened,y_train_rolled)"
      ],
      "execution_count": 34,
      "outputs": [
        {
          "output_type": "execute_result",
          "data": {
            "text/plain": [
              "RandomForestRegressor(bootstrap=True, ccp_alpha=0.0, criterion='mse',\n",
              "                      max_depth=5, max_features='auto', max_leaf_nodes=None,\n",
              "                      max_samples=None, min_impurity_decrease=0.0,\n",
              "                      min_impurity_split=None, min_samples_leaf=1,\n",
              "                      min_samples_split=2, min_weight_fraction_leaf=0.0,\n",
              "                      n_estimators=55, n_jobs=-1, oob_score=False,\n",
              "                      random_state=452543634, verbose=0, warm_start=False)"
            ]
          },
          "metadata": {
            "tags": []
          },
          "execution_count": 34
        }
      ]
    },
    {
      "cell_type": "markdown",
      "metadata": {
        "id": "8de6QZiejXkS"
      },
      "source": [
        "### Evaluation\n"
      ]
    },
    {
      "cell_type": "code",
      "metadata": {
        "ExecuteTime": {
          "end_time": "2019-05-02T15:31:10.647413Z",
          "start_time": "2019-05-02T15:31:10.507882Z"
        },
        "id": "R2yVQOG6jXkS",
        "outputId": "143d19cd-aef3-4e0b-ca28-d52439fea2f8",
        "colab": {
          "base_uri": "https://localhost:8080/",
          "height": 54
        }
      },
      "source": [
        "result = evaluate_model(RF_base_model,X_valid_flattened,y_valid_rolled)"
      ],
      "execution_count": 37,
      "outputs": [
        {
          "output_type": "stream",
          "text": [
            "Root mean squared error on valid: 0.08569687293763306\n",
            "Root mean squared error on valid inverse transformed from normalization: 85.18269170000725\n"
          ],
          "name": "stdout"
        }
      ]
    },
    {
      "cell_type": "markdown",
      "metadata": {
        "id": "Sntge88_jXkb"
      },
      "source": [
        "## Fitting a RandomForest on feature transformed data\n",
        "\n",
        "**TASK: Since we use `seglearn`, we can try to capitalize on it's functionality to calculate features from the time time series. Use `FeatureRep` from `seglearn` to transform features, fit a RandomForest and hope for the best!**"
      ]
    },
    {
      "cell_type": "code",
      "metadata": {
        "ExecuteTime": {
          "end_time": "2019-05-02T15:32:02.592160Z",
          "start_time": "2019-05-02T15:31:10.654979Z"
        },
        "id": "ERsWcj2OjXkb",
        "outputId": "76a6004c-74b5-455d-ad51-2a39220fceeb",
        "colab": {
          "base_uri": "https://localhost:8080/",
          "height": 145
        }
      },
      "source": [
        "RF_feature_model = RandomForestRegressor(max_depth=5, n_estimators= N_ESTIMATORS ,random_state=RANDOM_STATE,n_jobs = -1)\n",
        "feature_converter = FeatureRep(features='default', verbose=False).fit_transform(X_train_flattened)\n",
        "RF_feature_model.fit(feature_converter,y_train_rolled)"
      ],
      "execution_count": 38,
      "outputs": [
        {
          "output_type": "execute_result",
          "data": {
            "text/plain": [
              "RandomForestRegressor(bootstrap=True, ccp_alpha=0.0, criterion='mse',\n",
              "                      max_depth=5, max_features='auto', max_leaf_nodes=None,\n",
              "                      max_samples=None, min_impurity_decrease=0.0,\n",
              "                      min_impurity_split=None, min_samples_leaf=1,\n",
              "                      min_samples_split=2, min_weight_fraction_leaf=0.0,\n",
              "                      n_estimators=55, n_jobs=-1, oob_score=False,\n",
              "                      random_state=452543634, verbose=0, warm_start=False)"
            ]
          },
          "metadata": {
            "tags": []
          },
          "execution_count": 38
        }
      ]
    },
    {
      "cell_type": "markdown",
      "metadata": {
        "id": "YP6Yfvk7jXkf"
      },
      "source": [
        "### Evaluation\n",
        "\n",
        "WARNING: This is just a basic evaluation scheme, more thorough investigation needed!"
      ]
    },
    {
      "cell_type": "code",
      "metadata": {
        "ExecuteTime": {
          "end_time": "2019-05-02T15:32:04.242528Z",
          "start_time": "2019-05-02T15:32:02.598939Z"
        },
        "id": "l-mPjnWSjXkg",
        "outputId": "9a5585a9-2ef0-46eb-a05f-275d3e040893",
        "colab": {
          "base_uri": "https://localhost:8080/",
          "height": 54
        }
      },
      "source": [
        "test_feature_converter = FeatureRep(features='default', verbose=False).fit_transform(X_valid_flattened)\n",
        "result = evaluate_model(RF_feature_model,test_feature_converter,y_valid_rolled)"
      ],
      "execution_count": 39,
      "outputs": [
        {
          "output_type": "stream",
          "text": [
            "Root mean squared error on valid: 0.10576719885341893\n",
            "Root mean squared error on valid inverse transformed from normalization: 105.1325956602984\n"
          ],
          "name": "stdout"
        }
      ]
    },
    {
      "cell_type": "markdown",
      "metadata": {
        "id": "gBteZ3gejXko"
      },
      "source": [
        "## XGBoost for speedup\n",
        "\n",
        "Use the XGBoost library to fit gradient boosted trees to the problem. They are usually way quicker to learn and many times at least on par with RandomForests, or better. Let's see!"
      ]
    },
    {
      "cell_type": "code",
      "metadata": {
        "ExecuteTime": {
          "end_time": "2019-05-02T15:32:05.234439Z",
          "start_time": "2019-05-02T15:32:04.248920Z"
        },
        "id": "1dvC9189jXkp"
      },
      "source": [
        "import xgboost as xgb\n",
        "# If in trouble, use !pip install xgboost\n",
        "\n",
        "# XGBoost needs it's custom data format to run quickly\n",
        "dmatrix_train = xgb.DMatrix(data=X_train_flattened,label=y_train_rolled)\n",
        "dmatrix_valid = xgb.DMatrix(data=X_valid_flattened,label=y_valid_rolled)"
      ],
      "execution_count": 40,
      "outputs": []
    },
    {
      "cell_type": "code",
      "metadata": {
        "ExecuteTime": {
          "end_time": "2019-05-02T15:32:13.647736Z",
          "start_time": "2019-05-02T15:32:05.237071Z"
        },
        "id": "DDFOwPqBjXks",
        "outputId": "6a5cfbce-c773-4b15-a4d5-15d300d6e26a",
        "colab": {
          "base_uri": "https://localhost:8080/",
          "height": 35
        }
      },
      "source": [
        "params = {'objective': 'reg:linear', 'eval_metric': 'rmse', 'n_estimators': N_ESTIMATORS}\n",
        "\n",
        "evallist = [(dmatrix_valid, 'eval'), (dmatrix_train, 'train')]\n",
        "\n",
        "num_round = 0.2 #Can easily overfit, experiment with it!\n",
        "\n",
        "xg_reg = xgb.train(params, dmatrix_train)"
      ],
      "execution_count": 41,
      "outputs": [
        {
          "output_type": "stream",
          "text": [
            "[11:57:43] WARNING: /workspace/src/objective/regression_obj.cu:152: reg:linear is now deprecated in favor of reg:squarederror.\n"
          ],
          "name": "stdout"
        }
      ]
    },
    {
      "cell_type": "code",
      "metadata": {
        "ExecuteTime": {
          "end_time": "2019-05-02T15:32:13.654770Z",
          "start_time": "2019-05-02T15:32:13.649668Z"
        },
        "id": "QBVZlX8JjXk0",
        "outputId": "dcb23033-a93a-479a-97ee-6d48d05093b9",
        "colab": {
          "base_uri": "https://localhost:8080/",
          "height": 54
        }
      },
      "source": [
        "result = evaluate_model(xg_reg,dmatrix_valid,y_valid_rolled)"
      ],
      "execution_count": 42,
      "outputs": [
        {
          "output_type": "stream",
          "text": [
            "Root mean squared error on valid: 0.09091051091119827\n",
            "Root mean squared error on valid inverse transformed from normalization: 90.36504784573107\n"
          ],
          "name": "stdout"
        }
      ]
    },
    {
      "cell_type": "markdown",
      "metadata": {
        "id": "LmTKw3XfjXk6"
      },
      "source": [
        "# Building an LSTM model\n",
        "\n",
        "## Modeling assumptions\n",
        "\n",
        "**TASK:** We believe, that the time dependent structure of this dataset is complex, so we try to use LSTM models from Keras. We are not explicitly utilizing **statefulness**, that is a **major area to be investigated later on**.\n",
        "\n",
        "More information on statefulness can be found [here](https://philipperemy.github.io/keras-stateful-lstm/).\n",
        "\n",
        "\n",
        "Fit an LSTM model **on the time series - non-flat - data!**.\n",
        "\n",
        "Use:\n",
        "1. At least 1 LSTM layer\n",
        "2. A dense layer for output - think about activation! This is a regression case!\n",
        "\n",
        "**Very advisable** - but optional - to use Dropout. You can not use it everywhere, though... Experiment!\n",
        "\n",
        "You are allowed to use functional API, but for this **Sequential API is sufficient.**\n",
        "\n",
        "You **can use LeraningRateScheduler** if you like."
      ]
    },
    {
      "cell_type": "code",
      "metadata": {
        "id": "NhWHD7MCdnKw"
      },
      "source": [
        "from tensorflow.keras import Sequential\n",
        "from tensorflow.keras.layers import Dense, Dropout, LSTM\n",
        "from tensorflow.keras import backend as be\n",
        "from tensorflow.keras.callbacks import ModelCheckpoint, LearningRateScheduler\n",
        "from tensorflow.keras.optimizers import Adadelta, Adam\n",
        "from tensorflow.keras.regularizers import l1"
      ],
      "execution_count": 80,
      "outputs": []
    },
    {
      "cell_type": "code",
      "metadata": {
        "id": "hjcRChLfiyH7"
      },
      "source": [
        "# reshape input to be [samples, time steps, features]\n",
        "trainX = np.reshape(X_train_flattened, (X_train_flattened.shape[0], 1, X_train_flattened.shape[1]))\n",
        "testX = np.reshape(X_valid_flattened, (X_valid_flattened.shape[0], 1, X_valid_flattened.shape[1]))"
      ],
      "execution_count": 81,
      "outputs": []
    },
    {
      "cell_type": "code",
      "metadata": {
        "id": "I5V6Bmebu9rT"
      },
      "source": [
        "LSTM_CELL_SIZE=2\n",
        "BATCH_SIZE = 256\n",
        "EPOCHS = 30\n",
        "DROPOUT_RATE=0.05"
      ],
      "execution_count": 196,
      "outputs": []
    },
    {
      "cell_type": "code",
      "metadata": {
        "ExecuteTime": {
          "end_time": "2019-05-02T15:43:36.343431Z",
          "start_time": "2019-05-02T15:36:43.007323Z"
        },
        "id": "hVi1aXQijXk-",
        "outputId": "c38330f9-c31f-4262-a3a9-543b805ff332",
        "colab": {
          "base_uri": "https://localhost:8080/",
          "height": 308
        }
      },
      "source": [
        "column_count=len(X_train.columns) #Remember,column count before rolling...\n",
        "\n",
        "be.clear_session()\n",
        "\n",
        "# You might very well be needing it!\n",
        "# Remeber to save only what is worth it from validation perspective...\n",
        "# model_saver = ModelCheckpoint(...)\n",
        "\n",
        "# If you need it...\n",
        "def schedule(epoch, lr):\n",
        "  if epoch < 20:\n",
        "    return lr\n",
        "  else:\n",
        "    return lr * tf.math.exp(-0.1)\n",
        "\n",
        "\n",
        "lr_scheduler = LearningRateScheduler(schedule)\n",
        "\n",
        "# Build your whole LSTM model here!\n",
        "\n",
        "# create and fit the LSTM network\n",
        "model = Sequential()\n",
        "model.add(LSTM(LSTM_CELL_SIZE,activation='tanh',input_shape=(1,trainX.shape[2])))\n",
        "model.add(Dense(5,activation='relu',kernel_initializer=\"he_uniform\",bias_initializer='zeros',\n",
        "                  kernel_regularizer=l1(0.001)))\n",
        "model.add(Dropout(DROPOUT_RATE))\n",
        "model.add(Dense(1))\n",
        "\n",
        "\n",
        "#For shape remeber, we have a variable defining the \"window\" and the features in the window...\n",
        "\n",
        "model.compile(loss='mean_squared_error', optimizer=Adam(learning_rate=0.0001),metrics=['accuracy'])\n",
        "# Fit on the train data\n",
        "# USE the batch size parameter!\n",
        "# Use validation data - warning, a tuple of stuff!\n",
        "# Epochs as deemed necessary...\n",
        "# You should avoid shuffling the data maybe.\n",
        "# You can use the callbacks for LR schedule or model saving as seems fit.\n",
        "model.summary()"
      ],
      "execution_count": 197,
      "outputs": [
        {
          "output_type": "stream",
          "text": [
            "Model: \"sequential\"\n",
            "_________________________________________________________________\n",
            "Layer (type)                 Output Shape              Param #   \n",
            "=================================================================\n",
            "lstm (LSTM)                  (None, 2)                 14424     \n",
            "_________________________________________________________________\n",
            "dense (Dense)                (None, 5)                 15        \n",
            "_________________________________________________________________\n",
            "dropout (Dropout)            (None, 5)                 0         \n",
            "_________________________________________________________________\n",
            "dense_1 (Dense)              (None, 1)                 6         \n",
            "=================================================================\n",
            "Total params: 14,445\n",
            "Trainable params: 14,445\n",
            "Non-trainable params: 0\n",
            "_________________________________________________________________\n"
          ],
          "name": "stdout"
        }
      ]
    },
    {
      "cell_type": "markdown",
      "metadata": {
        "id": "TAG2SQeWpGSX"
      },
      "source": [
        "## Training\n",
        "\n",
        "### Let's train the model on GPU\n",
        "- List the devices and put it in training with GPU\n",
        "- Manage the session to run"
      ]
    },
    {
      "cell_type": "code",
      "metadata": {
        "id": "M1KGj7DjjgYG",
        "outputId": "a2b005e1-e2e0-41b3-e076-6725aa2de7fa",
        "colab": {
          "base_uri": "https://localhost:8080/",
          "height": 1000
        }
      },
      "source": [
        "from keras.utils import multi_gpu_model\n",
        "from tensorflow.python.client import device_lib\n",
        "import tensorflow as tf\n",
        "print(device_lib.list_local_devices())\n",
        "with tf.device('/gpu:0'):\n",
        "    history = model.fit(trainX, y_train_rolled,validation_data=(testX, y_valid_rolled),epochs=EPOCHS, batch_size=BATCH_SIZE,\n",
        "                        callbacks=[lr_scheduler])"
      ],
      "execution_count": 198,
      "outputs": [
        {
          "output_type": "stream",
          "text": [
            "[name: \"/device:CPU:0\"\n",
            "device_type: \"CPU\"\n",
            "memory_limit: 268435456\n",
            "locality {\n",
            "}\n",
            "incarnation: 11841202831449222995\n",
            ", name: \"/device:XLA_CPU:0\"\n",
            "device_type: \"XLA_CPU\"\n",
            "memory_limit: 17179869184\n",
            "locality {\n",
            "}\n",
            "incarnation: 13021450786747591074\n",
            "physical_device_desc: \"device: XLA_CPU device\"\n",
            "]\n",
            "Epoch 1/30\n",
            "137/137 [==============================] - 1s 8ms/step - loss: 0.0206 - accuracy: 5.7279e-05 - val_loss: 0.0183 - val_accuracy: 0.0000e+00\n",
            "Epoch 2/30\n",
            "137/137 [==============================] - 1s 5ms/step - loss: 0.0166 - accuracy: 5.7279e-05 - val_loss: 0.0176 - val_accuracy: 0.0000e+00\n",
            "Epoch 3/30\n",
            "137/137 [==============================] - 1s 5ms/step - loss: 0.0160 - accuracy: 5.7279e-05 - val_loss: 0.0169 - val_accuracy: 0.0000e+00\n",
            "Epoch 4/30\n",
            "137/137 [==============================] - 1s 5ms/step - loss: 0.0156 - accuracy: 5.7279e-05 - val_loss: 0.0164 - val_accuracy: 0.0000e+00\n",
            "Epoch 5/30\n",
            "137/137 [==============================] - 1s 5ms/step - loss: 0.0153 - accuracy: 5.7279e-05 - val_loss: 0.0160 - val_accuracy: 0.0000e+00\n",
            "Epoch 6/30\n",
            "137/137 [==============================] - 1s 5ms/step - loss: 0.0150 - accuracy: 5.7279e-05 - val_loss: 0.0157 - val_accuracy: 0.0000e+00\n",
            "Epoch 7/30\n",
            "137/137 [==============================] - 1s 5ms/step - loss: 0.0148 - accuracy: 5.7279e-05 - val_loss: 0.0156 - val_accuracy: 0.0000e+00\n",
            "Epoch 8/30\n",
            "137/137 [==============================] - 1s 5ms/step - loss: 0.0146 - accuracy: 5.7279e-05 - val_loss: 0.0153 - val_accuracy: 0.0000e+00\n",
            "Epoch 9/30\n",
            "137/137 [==============================] - 1s 5ms/step - loss: 0.0143 - accuracy: 5.7279e-05 - val_loss: 0.0151 - val_accuracy: 0.0000e+00\n",
            "Epoch 10/30\n",
            "137/137 [==============================] - 1s 6ms/step - loss: 0.0141 - accuracy: 5.7279e-05 - val_loss: 0.0147 - val_accuracy: 0.0000e+00\n",
            "Epoch 11/30\n",
            "137/137 [==============================] - 1s 5ms/step - loss: 0.0139 - accuracy: 5.7279e-05 - val_loss: 0.0147 - val_accuracy: 0.0000e+00\n",
            "Epoch 12/30\n",
            "137/137 [==============================] - 1s 5ms/step - loss: 0.0137 - accuracy: 5.7279e-05 - val_loss: 0.0147 - val_accuracy: 0.0000e+00\n",
            "Epoch 13/30\n",
            "137/137 [==============================] - 1s 5ms/step - loss: 0.0135 - accuracy: 5.7279e-05 - val_loss: 0.0145 - val_accuracy: 0.0000e+00\n",
            "Epoch 14/30\n",
            "137/137 [==============================] - 1s 5ms/step - loss: 0.0134 - accuracy: 5.7279e-05 - val_loss: 0.0144 - val_accuracy: 0.0000e+00\n",
            "Epoch 15/30\n",
            "137/137 [==============================] - 1s 5ms/step - loss: 0.0132 - accuracy: 5.7279e-05 - val_loss: 0.0143 - val_accuracy: 0.0000e+00\n",
            "Epoch 16/30\n",
            "137/137 [==============================] - 1s 5ms/step - loss: 0.0130 - accuracy: 5.7279e-05 - val_loss: 0.0140 - val_accuracy: 0.0000e+00\n",
            "Epoch 17/30\n",
            "137/137 [==============================] - 1s 5ms/step - loss: 0.0129 - accuracy: 5.7279e-05 - val_loss: 0.0141 - val_accuracy: 0.0000e+00\n",
            "Epoch 18/30\n",
            "137/137 [==============================] - 1s 5ms/step - loss: 0.0128 - accuracy: 5.7279e-05 - val_loss: 0.0137 - val_accuracy: 0.0000e+00\n",
            "Epoch 19/30\n",
            "137/137 [==============================] - 1s 5ms/step - loss: 0.0126 - accuracy: 5.7279e-05 - val_loss: 0.0137 - val_accuracy: 0.0000e+00\n",
            "Epoch 20/30\n",
            "137/137 [==============================] - 1s 5ms/step - loss: 0.0124 - accuracy: 5.7279e-05 - val_loss: 0.0135 - val_accuracy: 0.0000e+00\n",
            "Epoch 21/30\n",
            "137/137 [==============================] - 1s 6ms/step - loss: 0.0123 - accuracy: 5.7279e-05 - val_loss: 0.0136 - val_accuracy: 0.0000e+00\n",
            "Epoch 22/30\n",
            "137/137 [==============================] - 1s 5ms/step - loss: 0.0121 - accuracy: 5.7279e-05 - val_loss: 0.0136 - val_accuracy: 0.0000e+00\n",
            "Epoch 23/30\n",
            "137/137 [==============================] - 1s 5ms/step - loss: 0.0120 - accuracy: 5.7279e-05 - val_loss: 0.0132 - val_accuracy: 0.0000e+00\n",
            "Epoch 24/30\n",
            "137/137 [==============================] - 1s 5ms/step - loss: 0.0119 - accuracy: 5.7279e-05 - val_loss: 0.0132 - val_accuracy: 0.0000e+00\n",
            "Epoch 25/30\n",
            "137/137 [==============================] - 1s 5ms/step - loss: 0.0118 - accuracy: 5.7279e-05 - val_loss: 0.0131 - val_accuracy: 0.0000e+00\n",
            "Epoch 26/30\n",
            "137/137 [==============================] - 1s 5ms/step - loss: 0.0118 - accuracy: 5.7279e-05 - val_loss: 0.0130 - val_accuracy: 0.0000e+00\n",
            "Epoch 27/30\n",
            "137/137 [==============================] - 1s 5ms/step - loss: 0.0117 - accuracy: 5.7279e-05 - val_loss: 0.0130 - val_accuracy: 0.0000e+00\n",
            "Epoch 28/30\n",
            "137/137 [==============================] - 1s 5ms/step - loss: 0.0116 - accuracy: 5.7279e-05 - val_loss: 0.0130 - val_accuracy: 0.0000e+00\n",
            "Epoch 29/30\n",
            "137/137 [==============================] - 1s 5ms/step - loss: 0.0116 - accuracy: 5.7279e-05 - val_loss: 0.0130 - val_accuracy: 0.0000e+00\n",
            "Epoch 30/30\n",
            "137/137 [==============================] - 1s 5ms/step - loss: 0.0115 - accuracy: 5.7279e-05 - val_loss: 0.0127 - val_accuracy: 0.0000e+00\n"
          ],
          "name": "stdout"
        }
      ]
    },
    {
      "cell_type": "code",
      "metadata": {
        "ExecuteTime": {
          "end_time": "2019-05-02T15:43:36.500553Z",
          "start_time": "2019-05-02T15:43:36.347851Z"
        },
        "id": "eYOTWX-XjXlB",
        "outputId": "27025d04-fc80-46af-88ed-595ff3cd80df",
        "colab": {
          "base_uri": "https://localhost:8080/",
          "height": 265
        }
      },
      "source": [
        "plt.plot(history.history['loss'], label='train')\n",
        "plt.plot(history.history['val_loss'], label='test')\n",
        "plt.legend()\n",
        "plt.show()"
      ],
      "execution_count": 199,
      "outputs": [
        {
          "output_type": "display_data",
          "data": {
            "image/png": "[encoded data removed]",
            "text/plain": [
              "<Figure size 432x288 with 1 Axes>"
            ]
          },
          "metadata": {
            "tags": [],
            "needs_background": "light"
          }
        }
      ]
    },
    {
      "cell_type": "code",
      "metadata": {
        "ExecuteTime": {
          "end_time": "2019-05-02T15:43:44.053319Z",
          "start_time": "2019-05-02T15:43:36.503640Z"
        },
        "id": "M0N13q03jXlL",
        "outputId": "823b8ec0-a593-48e1-a39b-9d6819fd6f3f",
        "colab": {
          "base_uri": "https://localhost:8080/",
          "height": 54
        }
      },
      "source": [
        "# You can use the early stopped model OR load it. \n",
        "# For that you have to import the load function...\n",
        "# IF AND ONLY IF loading, it is good practice to throw out the trash from the graph...\n",
        "# be.clear_session()\n",
        "result = evaluate_model(model,testX, y_valid_rolled)"
      ],
      "execution_count": 201,
      "outputs": [
        {
          "output_type": "stream",
          "text": [
            "Root mean squared error on valid: 0.08490811331123906\n",
            "Root mean squared error on valid inverse transformed from normalization: 84.39866463137162\n"
          ],
          "name": "stdout"
        }
      ]
    },
    {
      "cell_type": "code",
      "metadata": {
        "ExecuteTime": {
          "end_time": "2019-05-02T15:43:44.057870Z",
          "start_time": "2019-05-02T15:43:44.055366Z"
        },
        "id": "-cyQgiMUjXlP"
      },
      "source": [
        "assert result < 86.0"
      ],
      "execution_count": 202,
      "outputs": []
    },
    {
      "cell_type": "markdown",
      "metadata": {
        "id": "Bah-XQnojXlV"
      },
      "source": [
        "# Things that should be improved\n",
        "\n",
        "- More conclusive investigation of PACF for better time window estimate\n",
        "    - It can well be, that long windows do not add that much to the performance\n",
        "- More interesting features for XGBoost (like from [tsfresh](https://tsfresh.readthedocs.io/en/latest/)), since present features are a disaster\n",
        "- MOST IMPORTANT: **More thorough error / prediction analysis!!!**\n",
        "- LSTM with **Custom iterator with stateful model**\n",
        "- Investigation of different loss function (eg. MAE) for training. (And with it, think abut the importance of extreme values: do we think they are outliers? Are they interesing to predict?)\n",
        "- Investigation of \"teacher forcing\" for LSTM-s in Keras (if it makes sense)\n",
        "\n",
        "# Conclusion\n",
        "\n",
        "Even with decent amount of struggle, the \"dummy\" of always using the mean is very appealing, so it seems, this is not that easy of a task 24 hours in advance. Further investigation of classical as well as neural models remains open!\n"
      ]
    },
    {
      "cell_type": "markdown",
      "metadata": {
        "id": "E-exl9v9jXlW"
      },
      "source": [
        "# Final test\n",
        "\n",
        "We did not use the final test, since our investigations are not concluded yet. Remember: using it once before project \"go live\" is a good practice!"
      ]
    }
  ]
}