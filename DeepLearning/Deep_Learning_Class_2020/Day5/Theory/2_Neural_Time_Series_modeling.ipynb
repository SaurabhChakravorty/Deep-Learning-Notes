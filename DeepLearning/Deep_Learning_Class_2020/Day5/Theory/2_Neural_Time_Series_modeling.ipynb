{
 "cells": [
  {
   "cell_type": "markdown",
   "metadata": {},
   "source": [
    "<a id=\"motivation\"></a>\n",
    "# Motivation: Can neural networks be used for time series modelig?\n"
   ]
  },
  {
   "cell_type": "markdown",
   "metadata": {},
   "source": [
    "## But why?\n",
    "\n",
    "There can be several reasons for using neural models for time series prediction:\n",
    "- We assume, that beside the trend and periodic signals there are other patterns that we could try to extract and use (think about the \"residuals\" in case of decomposition)\n",
    "- We don't want to do manual feature engineering, looking for wavelets, etc. we are more into end-to-end learning\n",
    "- There is a Hungarian proverb: \"Whoever has a hammer, sees nails everywhere.\" :-P\n",
    "\n",
    "## First step: Feedforward networks for time series\n",
    "\n",
    "Let us get back to the Airline Passengers dataset from the Time Series class for illustration.\n",
    "\n",
    "**Source: [Monthly Airline Passenger Numbers (in thousands) 1949-1960](https://stat.ethz.ch/R-manual/R-devel/library/datasets/html/AirPassengers.html)**\n",
    "\n",
    "(Box, G. E. P., Jenkins, G. M. and Reinsel, G. C. (1976) Time Series Analysis, Forecasting and Control. \n",
    "Third Edition. Holden-Day. Series G.)\n",
    "\n",
    "\n",
    "Direct  link [here](https://www.analyticsvidhya.com/wp-content/uploads/2016/02/AirPassengers.csv)\n"
   ]
  },
  {
   "cell_type": "code",
   "execution_count": null,
   "metadata": {
    "ExecuteTime": {
     "end_time": "2018-10-10T20:52:07.188064Z",
     "start_time": "2018-10-10T20:52:03.338752Z"
    },
    "collapsed": true
   },
   "outputs": [],
   "source": [
    "import numpy as np\n",
    "import pandas as pd\n",
    "\n",
    "import blaze as bz\n",
    "\n",
    "import tensorflow as tf\n",
    "import os\n",
    "\n",
    "from sklearn.model_selection import train_test_split\n",
    "import matplotlib.pyplot as plt\n"
   ]
  },
  {
   "cell_type": "code",
   "execution_count": null,
   "metadata": {
    "ExecuteTime": {
     "end_time": "2018-10-10T20:53:16.344871Z",
     "start_time": "2018-10-10T20:53:14.822624Z"
    },
    "collapsed": true
   },
   "outputs": [],
   "source": [
    "!wget https://gitlab.com/andras.simonyi/10_days_AI_training_data/raw/master/AirPassengers.csv"
   ]
  },
  {
   "cell_type": "code",
   "execution_count": 4,
   "metadata": {
    "ExecuteTime": {
     "end_time": "2018-10-10T20:53:25.093118Z",
     "start_time": "2018-10-10T20:53:25.073107Z"
    },
    "collapsed": true
   },
   "outputs": [],
   "source": [
    "df = pd.read_csv(\"AirPassengers.csv\",header=0)"
   ]
  },
  {
   "cell_type": "code",
   "execution_count": 7,
   "metadata": {
    "ExecuteTime": {
     "end_time": "2018-10-10T20:54:37.637438Z",
     "start_time": "2018-10-10T20:54:37.515454Z"
    }
   },
   "outputs": [
    {
     "data": {
      "image/png": "[encoded data removed]",
      "text/plain": [
       "<Figure size 432x288 with 1 Axes>"
      ]
     },
     "metadata": {},
     "output_type": "display_data"
    }
   ],
   "source": [
    "df[\"#Passengers\"].plot();"
   ]
  },
  {
   "cell_type": "markdown",
   "metadata": {},
   "source": [
    "### Preparing the data\n",
    "\n",
    "If we would like to work with a feedforward network, we have to make the data acceptable for a model with a fixed input width (in this case \"length\", in time).\n",
    "\n",
    "The most widespread solution for this is to use a *\"sliding window\"*, where we transform the data so as to create for each time point (considered as $y$) a fixed $x$ - with `window_size`, so we get a dataframe with row number: timesteps minus window size and columns and window size columns as $x$, and a vector with timsteps minus window size length as $y$ value.\n",
    "\n",
    "|   Step     | Variable | Dimension  |  Variable | Dimension |\n",
    "|:------------- |:------------| :----- |:-------------|:-----|\n",
    "|**in**| df|**[data_length, 1]**|window_size| **[scalar]**|\n",
    "|**out**| x|**[data_length-window_size, window_size]** |y| **[data_length-window_size, 1]** |\n",
    "\n",
    "In this case we use a sliding window of 10, though 13-14 could also be interesting (if we think back to the PACF analysis of this data). The majority of \"signal\" is persumed to lie inside the ~10 months range.\n",
    "\n",
    "We will fit a tiny two layered NN on the data with L1 regularization and Adamm optimizer.\n",
    "\n",
    "\n",
    "|   Paremeter     | Value | \n",
    "|:------------- |:------------| \n",
    "|n_hidden_1 | 17 |\n",
    "| n_hidden_2 | 9 |\n",
    "| n_input | 10 (window_size) | \n",
    "|training_epochs | 100000|\n",
    "|Optimizer| Adamm|\n",
    "|learning_rate | 0.01|\n",
    "|Regularizer| L1|\n",
    "| l1_lambda |0.00015|\n",
    "\n",
    "\n",
    "### Let's see the code!"
   ]
  },
  {
   "cell_type": "markdown",
   "metadata": {},
   "source": [
    "#### Preparing the data"
   ]
  },
  {
   "cell_type": "code",
   "execution_count": 3,
   "metadata": {
    "collapsed": true,
    "scrolled": true
   },
   "outputs": [],
   "source": [
    "#Shameless copy of https://stackoverflow.com/questions/27852343/split-python-sequence-time-series-array-into-subsequences-with-overlap \n",
    "\n",
    "def rolling_window(a, window):\n",
    "    shape = a.shape[:-1] + (a.shape[-1] - window + 1, window)\n",
    "    strides = a.strides + (a.strides[-1],)\n",
    "    return np.lib.stride_tricks.as_strided(a, shape=shape, strides=strides)\n",
    "\n",
    "window_size = 10\n",
    "\n",
    "\n",
    "rolled_data = rolling_window(df[\"#Passengers\"].values, window_size+1)\n",
    "\n",
    "rolled_train_data, rolled_test_data = train_test_split(rolled_data, test_size=0.1, shuffle=False)\n",
    "\n",
    "rolled_train_y = rolled_train_data[:,window_size]\n",
    "rolled_train_x = rolled_train_data[:,:window_size]\n",
    "\n",
    "rolled_test_y = rolled_test_data[:,window_size]\n",
    "rolled_test_x = rolled_test_data[:,:window_size]\n"
   ]
  },
  {
   "cell_type": "markdown",
   "metadata": {},
   "source": [
    "Let us ensure that the dimensions are ok!"
   ]
  },
  {
   "cell_type": "code",
   "execution_count": 4,
   "metadata": {
    "scrolled": false
   },
   "outputs": [
    {
     "name": "stdout",
     "output_type": "stream",
     "text": [
      "(14, 10)\n",
      "(14,)\n"
     ]
    }
   ],
   "source": [
    "print(rolled_test_x.shape)\n",
    "print(rolled_test_y.shape)"
   ]
  },
  {
   "cell_type": "markdown",
   "metadata": {},
   "source": [
    "#### Model fit"
   ]
  },
  {
   "cell_type": "code",
   "execution_count": 5,
   "metadata": {
    "hideOutput": true,
    "scrolled": false
   },
   "outputs": [
    {
     "name": "stdout",
     "output_type": "stream",
     "text": [
      "Epoch: 0001  train cost= 7183987.500  test cost= 9117260.000  overfit= 1933272.500\n",
      "Epoch: 5001  train cost= 289.883  test cost= 1363.207  overfit= 1073.324\n",
      "Epoch: 10001  train cost= 137.152  test cost= 961.873  overfit= 824.721\n",
      "Epoch: 15001  train cost= 93.068  test cost= 705.474  overfit= 612.406\n",
      "Epoch: 20001  train cost= 77.009  test cost= 790.625  overfit= 713.616\n",
      "Epoch: 25001  train cost= 160.139  test cost= 754.649  overfit= 594.510\n",
      "Epoch: 30001  train cost= 80.231  test cost= 964.559  overfit= 884.328\n",
      "Epoch: 35001  train cost= 93.763  test cost= 525.269  overfit= 431.506\n",
      "Epoch: 40001  train cost= 71.932  test cost= 479.388  overfit= 407.456\n",
      "Epoch: 45001  train cost= 72.894  test cost= 566.959  overfit= 494.065\n",
      "Epoch: 50001  train cost= 58.885  test cost= 490.242  overfit= 431.358\n",
      "Epoch: 55001  train cost= 49.035  test cost= 338.017  overfit= 288.982\n",
      "Epoch: 60001  train cost= 37.172  test cost= 404.465  overfit= 367.293\n",
      "Epoch: 65001  train cost= 35.855  test cost= 345.891  overfit= 310.036\n",
      "Epoch: 70001  train cost= 93.148  test cost= 496.473  overfit= 403.325\n",
      "Epoch: 75001  train cost= 62.582  test cost= 489.823  overfit= 427.241\n",
      "Epoch: 80001  train cost= 63.613  test cost= 466.462  overfit= 402.849\n",
      "Epoch: 85001  train cost= 71.227  test cost= 528.590  overfit= 457.363\n",
      "Epoch: 90001  train cost= 78.849  test cost= 350.668  overfit= 271.819\n",
      "Epoch: 95001  train cost= 62.954  test cost= 319.256  overfit= 256.302\n",
      "Optimization Finished!\n",
      "CPU times: user 4min 8s, sys: 27.9 s, total: 4min 36s\n",
      "Wall time: 2min 19s\n"
     ]
    }
   ],
   "source": [
    "%%time\n",
    "# Jupyter magic for measuring runtime of the cell, worth using!\n",
    "\n",
    "# Network Parameters\n",
    "n_hidden_1 = 17 # 1st layer number of features\n",
    "n_hidden_2 = 9 # 2nd layer number of features\n",
    "n_input = window_size \n",
    "training_epochs = 100000\n",
    "learning_rate = 0.01\n",
    "l1_lambda = 0.00015\n",
    "\n",
    "# Always good practide to clean up debris from the graphs\n",
    "tf.reset_default_graph()\n",
    "# And set random seed for reproducibility\n",
    "tf.set_random_seed(12233344556)\n",
    "\n",
    "# Inputs\n",
    "X = tf.placeholder(\"float\", [None, n_input])\n",
    "y = tf.placeholder(\"float\", [None, 1]) # will be regression\n",
    "\n",
    "# Network weights and biases to be trained\n",
    "weights = {\n",
    "    'h1': tf.Variable(tf.random_normal([n_input, n_hidden_1])),\n",
    "    'h2': tf.Variable(tf.random_normal([n_hidden_1, n_hidden_2])),\n",
    "    'out': tf.Variable(tf.random_normal([n_hidden_2, 1]))\n",
    "}\n",
    "biases = {\n",
    "    'b1': tf.Variable(tf.random_normal([n_hidden_1])),\n",
    "    'b2': tf.Variable(tf.random_normal([n_hidden_2])),\n",
    "    'out': tf.Variable(tf.random_normal([1]))\n",
    "}\n",
    "\n",
    "#Two layer neural network with ReLU activations\n",
    "layer_1 = tf.add(tf.matmul(X, weights['h1']), biases['b1'])\n",
    "layer_1 = tf.nn.relu(layer_1)\n",
    "\n",
    "layer_2 = tf.add(tf.matmul(layer_1, weights['h2']), biases['b2'])\n",
    "layer_2 = tf.nn.relu(layer_2)\n",
    "\n",
    "# Linear output layer\n",
    "out_layer = tf.matmul(layer_2, weights['out']) + biases['out']\n",
    "\n",
    "# Preventing overfitting by using a basic L1 regularizer\n",
    "l1_regularizer = tf.contrib.layers.l1_regularizer(scale=l1_lambda, scope=None)\n",
    "# Fetching weights\n",
    "weights = tf.trainable_variables() # all vars of your graph\n",
    "#Calculating L1 penaly\n",
    "regularization_penalty = tf.contrib.layers.apply_regularization(l1_regularizer, weights)\n",
    "\n",
    "# Mean squared error is a standard one, though outliers can hurt it, in such cases logcosh can be useful\n",
    "cost = tf.losses.mean_squared_error(y,out_layer)+regularization_penalty\n",
    "\n",
    "# Using Adamm for robust convergence\n",
    "optimizer = tf.train.AdamOptimizer(learning_rate=learning_rate).minimize(cost)\n",
    "\n",
    "#Never forget... to initialize...\n",
    "init = tf.global_variables_initializer()\n",
    "\n",
    "# Initialize TF session, use it as default context (will disappear after indent ends)\n",
    "with tf.Session() as sess:\n",
    "    \n",
    "    # Run the initializer op\n",
    "    sess.run(init)\n",
    "\n",
    "    # Main training cycle, \"full GD\", one \"epoch\" is the whole \"\"huge\"\" dataset  \n",
    "    for epoch in range(training_epochs):\n",
    "        \n",
    "        avg_cost = 0.\n",
    "        \n",
    "        # Do the training\n",
    "        _, c, out_layer_result_train = sess.run([optimizer, cost, out_layer], feed_dict={X: rolled_train_x, y: np.expand_dims(rolled_train_y, axis=1)})\n",
    "      \n",
    "        # Display logs per every 5000 epoch step\n",
    "        if epoch % 5000 == 0:\n",
    "            \n",
    "            # Do the validation run\n",
    "            out_layer_result_test, c_test = sess.run([out_layer,cost], feed_dict={X: rolled_test_x, y: np.expand_dims(rolled_test_y, axis=1)})\n",
    "            \n",
    "            overfit = c_test-c\n",
    "\n",
    "            print(\"Epoch:\", '%04d' % (epoch+1), \" train cost=\", \"{:.3f}\".format(c),  \" test cost=\", \"{:.3f}\".format(c_test),  \" overfit=\", \"{:.3f}\".format(overfit))\n",
    "            \n",
    "    print(\"Optimization Finished!\")\n"
   ]
  },
  {
   "cell_type": "markdown",
   "metadata": {},
   "source": [
    "### And let's check the result!"
   ]
  },
  {
   "cell_type": "code",
   "execution_count": 9,
   "metadata": {
    "scrolled": true
   },
   "outputs": [
    {
     "name": "stderr",
     "output_type": "stream",
     "text": [
      "/home/alatus/anaconda3/envs/10_days_AI/lib/python3.6/site-packages/matplotlib/cbook/deprecation.py:107: MatplotlibDeprecationWarning: Adding an axes using the same arguments as a previous axes currently reuses the earlier instance.  In a future version, a new instance will always be created and returned.  Meanwhile, this warning can be suppressed, and the future behavior ensured, by passing a unique label to each axes instance.\n",
      "  warnings.warn(message, mplDeprecation, stacklevel=1)\n"
     ]
    },
    {
     "data": {
      "image/png": "[encoded data removed]",
      "text/plain": [
       "<Figure size 432x288 with 1 Axes>"
      ]
     },
     "metadata": {},
     "output_type": "display_data"
    }
   ],
   "source": [
    "train_data, test_data = train_test_split(df, test_size=0.1, shuffle=False)\n",
    "out_layer_result_train = pd.Series(out_layer_result_train.flatten())\n",
    "out_layer_result_test = pd.Series(out_layer_result_test.flatten())\n",
    "\n",
    "idx = train_data.index[10:]\n",
    "idx = list(idx)\n",
    "idx.append(train_data.index[-1]+1)\n",
    "\n",
    "# Don't ask why this index shit is necessary :-(\n",
    "\n",
    "out_layer_result_train.index = pd.Index(idx)\n",
    "\n",
    "out_layer_result_test.index =test_data.index[1:] \n",
    "\n",
    "\n",
    "plt.close()\n",
    "plt.plot(train_data[\"#Passengers\"], label=\"Train data\", color=\"black\")\n",
    "plt.plot(out_layer_result_train, label=\"Train prediction\", color=\"purple\")\n",
    "plt.plot(out_layer_result_test, label=\"Predictions\", color=\"orange\")\n",
    "plt.plot(test_data[\"#Passengers\"], label=\"Test data\", color=\"blue\")\n",
    "\n",
    "ax = plt.axes()\n",
    "ax.annotate('train first window ends', xy=(10, 140), xytext=(10, 210),\n",
    "            arrowprops=dict(facecolor='red', shrink=0.05),)\n",
    "ax.annotate('test first window ends', xy=(130, 340), xytext=(122, 270),\n",
    "            arrowprops=dict(facecolor='red', shrink=0.05),)\n",
    "\n",
    "plt.legend()\n",
    "plt.show()"
   ]
  },
  {
   "cell_type": "markdown",
   "metadata": {},
   "source": [
    "On this absurdly small dataset and a ridiculously small NN we reached quite a nice result!\n",
    "\n",
    "But what if we look into more complex data?"
   ]
  },
  {
   "cell_type": "markdown",
   "metadata": {},
   "source": [
    "<a id=\"basicrnn\"></a>\n",
    "# Basic recurrence \n"
   ]
  },
  {
   "cell_type": "markdown",
   "metadata": {},
   "source": [
    "## Recurrent neural networks\n",
    "\n",
    "### Motivation\n",
    "\n",
    "Our unquestioned assumption (that even caused some headache in the prior data preparation case) is that for every neural model the dimensionality of the input has to be fixed, or only small deviations were allowed (for example in ConvNets we could use some padding, but not too much).\n",
    "\n",
    "What if my data is not of uniform length, dynamically sized - for example because it comes from a (time) series of non-fixed or unknown length?\n",
    "\n",
    "Or as an alternative formulation of this: From  prior knowledge we know, that just as in case of ConvNets for spatial invariance, we have a time series, that implies that has a temporal structure we would like to learn.\n",
    "\n",
    "As defined before, we interpret our data as time series in the form of $\\{x_{t_0}, x_{t_1}, x_{t_2} ... x_{t_n}\\}$."
   ]
  },
  {
   "cell_type": "markdown",
   "metadata": {},
   "source": [
    "### Structure of recurrent networks - \"classic\" or \"vanilla\" RNN\n",
    "\n",
    "We would like to define a neural network architecture, that in case of an input data point  $x_{t}$ can take into account the effect of prior datapoints without providing those as explicit inputs (as in the feedforward case), but as **(hidden) state**, using the activations of the NN itslef.\n",
    "\n",
    "Till this point we only used the activation for backpropagation, but now we'll use it also for something else.\n",
    "\n",
    "**Basic idea:**\n",
    "\n",
    "<img src=\"https://cdn-images-1.medium.com/max/1400/1*lQ4izz9ZbhKYD8NClZpsmQ.png\">\n",
    "\n",
    "As a naive solution we could store the activations at $x_{t_-1}$ for all neurons and use a common $\\lambda$ \"dampening factor\" before adding them to the activations arising at $x_{t}$\n",
    "\n",
    "$$ f(x_t) = \\sigma(w x_t +\\lambda a_{t-1} + b)$$ \n",
    "\n",
    "This is not a complete recurrent network, but something along that direction (it's worth trying whether it works :-)\n",
    "\n",
    "But if we have a complete neural architecture with weight matrices, why shouldn't we do this in a more clever way?\n",
    "\n",
    "### Elman network\n",
    "\n",
    "The first real recurrent network:\n",
    "\n",
    "[Elman 1990](https://crl.ucsd.edu/~elman/Papers/fsit.pdf): \n",
    "Jeffrey L. Elman: Finding structure in time, Cognitive Science 14, p179-p211\n",
    "<img src=\"https://cdn-images-1.medium.com/max/1400/1*E6OMkLY8vbPdJ7b5R27FQA.jpeg\">\n",
    "\n",
    "**The general notation for recurrent networks:**\n",
    "\n",
    "**$$h_t=\\sigma(Wx_t+Uh_{t-1})$$**\n",
    "\n",
    "\"Legend\":\n",
    "\n",
    "|Symbol| Meaning|\n",
    "|:---|:---|\n",
    "|$h_t$| \"hidden state\" at time $t$ |\n",
    "|$\\sigma$| activation function (typically sigmoid or tanh)|\n",
    "|$x_t$| input at time $t$ |\n",
    "|$W$| input to hidden weigth matrix|\n",
    "|$U$| hidden to hidden weigth matrix|\n",
    "|$h_{t-1}$| \"hidden state\" at time $t-1$ |\n",
    "\n",
    "\n",
    "**In this model we learn two weigth matrices $W$ and $U$.**\n",
    "\n",
    "Summary  [here](https://medium.com/lingvo-masino/introduction-to-recurrent-neural-network-d77a3fe2c56c)."
   ]
  },
  {
   "cell_type": "markdown",
   "metadata": {},
   "source": [
    "### Small sidenote: Echo state networks\n",
    "\n",
    "We take a randomly initialized neural system which may _not_ be ordered in layer structures. Inputs just \"perturb\" the inner state of these networks, we leave some \"settle time\" for it to get to a stable state, and use a learned one layer feedforward network to generate predictions (maybe with some \"skip\" connections from the input).\n",
    "\n",
    "<img src=\"http://www.simbrain.net/Documentation/docs/Images/ESNDiagram.png\" heigth=500 width=500>\n",
    "\n",
    "As a metaphor we can understand that this method has some resemblance to decomposition methods, since it builds up a kind of **\"reservoir\"** of oscillators (hence the alternative name \"reservoir computing\"), and the last layer learns only a weighting scheme over the decomposition produced by the oscillators.\n",
    "\n",
    "Formally the idea was never disproven to work, but the tuning of \"settle time\", or even more the fact that it was extremely hard to ensure that a diverse and stable set of oscillators are formed during random initialization made it unpopular (though much effort has been invested in solving these issues without a simple and general solution).\n",
    "\n",
    "The method has some deep connections with [Bolzmann machines](https://en.wikipedia.org/wiki/Boltzmann_machine), but those are out of scope for this training.\n",
    "\n",
    "Interestingly ESN-s were nearly forgotten, but in 2017 they have found their way into some interesting physics applications modeling chaotic processes like [this](https://arxiv.org/abs/1710.07313)."
   ]
  },
  {
   "cell_type": "markdown",
   "metadata": {},
   "source": [
    "## Backpropagation through time (BPTT)\n",
    "\n",
    "Question: How can we teach recurrent neural networks?\n",
    "\n",
    "Luckily enough, the gradient based methods we have learned are appropriate for this - only with a slight modification.\n",
    "\n",
    "### \"Unrolling\"\n",
    "\n",
    "In order to understand the gradient calculation of recurrent nets we can imagine RNN-s as deep feedforward neural nets \"unrolled\" in time.\n",
    "\n",
    "<img src=\"https://cdn-images-1.medium.com/max/1400/1*icP_8Q-I87k4Nyq0vdSl8A.png\">\n",
    "\n",
    "This is all the more useful, since traditionally we implement RNN-s in this \"unrolled\" way. Nowdays this is not necessarily true, or at least depends on the framework we utilize for training, since some of them solves it with iterations.\n",
    "\n",
    "In the \"unrolled\" network $U$ and $W$ parameters are the same, so we can understand this as a form of \"weight sharing\", just as in case of ConvNets, but not through space, but through time.\n",
    "\n",
    "Sensible description [here](https://machinelearningmastery.com/gentle-introduction-backpropagation-time/).\n",
    "\n",
    "### Problems with this approach\n",
    "\n",
    "In default case we calculate through the whole unrolled network for each and every timestep.\n",
    "\n",
    "This has quite serious implications:\n",
    "1. We have to \"see\" the whole data at once (very \"un-streaming like\")\n",
    "2. The number of calculated gradients - thus the amount of calculation - rises exponentially with the length of the dataset. This easily makes training intractable."
   ]
  },
  {
   "cell_type": "markdown",
   "metadata": {},
   "source": [
    "<a id=\"vanish\"></a>\n",
    "# Exploding and vanishing gradients\n",
    "\n",
    "(The hard problems)\n",
    "\n",
    "<img src=\"http://www.wildml.com/wp-content/uploads/2015/10/rnn-bptt-with-gradients.png\" height=400 width=400>\n",
    "\n",
    "But the exploding computational need is just only one part of the problems with RNNs. Since they are extremely deep (in temporal sense) the gradient flow being propagated backward **\"vanishes\"** most of the time. In practice it results in the effect of signals far away in the past to disappear, as well as for convergence to grind to a halt.\n",
    "\n",
    "The flipside of this is the effect of **exploding gradients** where the gradient signal gets multiplied while moving backwards in time, getting practically infinite.\n",
    "\n",
    "These problems in practice are the same as in case of very deep feedforward networks.\n",
    "\n",
    "A good description can be found [here](http://www.wildml.com/2015/10/recurrent-neural-networks-tutorial-part-3-backpropagation-through-time-and-vanishing-gradients/)\n",
    "\n",
    "### Suggested solutions\n",
    "\n",
    "#### Careful initialization\n",
    "\n",
    "Multiple scholars, amongst them one of Hinton's famous collaborators Quoc Le suggested a solution for RNN-s composed of ReLU nodes whereby we inicialize the $U$ matrix with a scaled version of the identity matrix.\n",
    "\n",
    "<img src=\"https://wikimedia.org/api/rest_v1/media/math/render/svg/e1a4218ab6975ad1809415aa168ab6371b91bafc\" heigth=300 width=300>\n",
    "\n",
    "Details can be found [here](https://arxiv.org/abs/1504.00941)\n",
    "\n",
    "#### Gradient clipping\n",
    "\n",
    "As the name implies, it is a procedure whereby we artificially limit, \"clip\" the gradients during backprop. This is kind of  a\"brute force\" and semi-effective solution.\n",
    "\n",
    "<img src=\"http://drive.google.com/uc?export=view&id=1jK47FvUp7TcUlB2hC4rWDXoxfQNrqhRr\" heigth=300 width=300>\n",
    "\n",
    "[Pascanu and Mikolov 2012](https://arxiv.org/pdf/1211.5063.pdf)\n",
    "\n",
    "\n",
    "#### Teacher forcing\n",
    "\n",
    "Originally, the concept was to let the hidden state of the network \"travel\" in time, so that during the learning procedure the network can learn to memorize relevant data. In practice, if we always feed back the prediction of the network to itself, it can \"drift away\" from target.\n",
    "\n",
    "Here is where teacher forcing comes in:\n",
    "\n",
    "\"Teacher forcing works by using the **actual or expected output from the training dataset** at the current time step $y_t$ as input in the next time step $X_{t+1}$, **rather than the output generated by the network $\\hat{y_t}$**.\"\n",
    "\n",
    "<img src=\"http://cnyah.com/2017/11/01/professor-forcing/non-teacher-teacher-forcing.png\" width=45%>\n",
    "\n",
    "Though in practice this makes convergence easier, but as a tradeoff it also limits the usage of memory capacity. It can work well with unbounded memory capacity models (see later).\n",
    "\n",
    "For it to work it is necessary for the data to be defined in each step.\n",
    "\n",
    "It can be considered a move away from the Recursive Multi-step Forecast strategy.\n",
    "\n",
    "A good walkthrough of teacher forcing can be found [here](https://machinelearningmastery.com/teacher-forcing-for-recurrent-neural-networks/).\n",
    "\n",
    "#### Truncated BPTT\n",
    "\n",
    "The main idea of this approach is that we should not be so fanaticly following signals back into the past, we can do $k1$ steps of forward passes, then do backprop only for the last $k2$ steps back in time, that is:\n",
    "- We show $k1$ steps for the network\n",
    "- We unroll the net and calculate $k2$ steps back and aggregate gradients\n",
    "- We roll up the net and update weigths\n",
    "\n",
    "**Two parameters:**\n",
    "- $k1$ decides how many forward passes happen between backprops (kind of \"batch size\") and influences the speed of training (as well as many other factors, **for the newest research in regard to batch size see: [Smith, Kindermans, Ying and Lee 2017](https://arxiv.org/abs/1711.00489)**\n",
    "- $k2$ influences the temporal depth of backprop. If too small, our \"window\" will not contain all relevant timesteps, if too big, gradients can vanish.\n",
    "\n",
    "A nice summary again [here](https://machinelearningmastery.com/gentle-introduction-backpropagation-time/).\n",
    "\n",
    "**Notice, that we could not effectively get rid of those ugly windows!!**"
   ]
  },
  {
   "cell_type": "markdown",
   "metadata": {},
   "source": [
    "If someone would like to analyse a TensorFlow RNN implementation in detail, it can be done [here](https://www.kdnuggets.com/2017/04/build-recurrent-neural-network-tensorflow.html).\n",
    "\n",
    "##### Fair warning:\n",
    "\n",
    "Though BPTT would be a theoretically more sound solution, practically it is quite unfeasible. And event he truncated version is implemented sometimes in really strange ways, eg. not letting you control over $k1$ and $k2$ separately, so in practice, much of the potential of LSTM-s may get \"sabotaged\".\n",
    "\n",
    "For example you can read about the struggles with Truncated BPTT in Keras [here](https://machinelearningmastery.com/truncated-backpropagation-through-time-in-keras/). \n"
   ]
  },
  {
   "cell_type": "markdown",
   "metadata": {},
   "source": [
    "#### Anticipated Reweighted Backpropagation through time (ARTBP)\n",
    "\n",
    "As we might have guessed, the Truncated BPTT approach gives no chance for gradients to flow from the really distant past - outside of the truncation window, so we have to come up with something.\n",
    "\n",
    "A recent approach is **Anticipated Reweighted Backpropagation through time**\n",
    "\n",
    "<img src=\"http://drive.google.com/uc?export=view&id=1AAS4b6-T1Cxl3l_U2DNpDcoUBa4z7jLJ\" heigth=900 width=900>\n",
    "\n",
    "\"Like truncated BPTT, ARTBP splits the initial sequence into subsequences, and only performs backpropagation through time on subsequences. However, contrary to the latter, it **does not split the sequence evenly**. The length of each subsequence is sampled according to a specific probability distribution. Then the backpropagation equation is modified by introducing a suitable reweighting factor at every step to ensure unbiasedness.\n",
    "\n",
    "In ARTBP, since random truncations are introduced, gradient computations flow from $t$ to $t'$ with a certain probability, decreasing with $t − t'$. To restore balance, ARTBP rescales gradient flows by their inverse probability. Informally, if a flow has a probability $p$ to occur, multiplication of the flow by $1/p$ restores balance on average.\"\n",
    "\n",
    "Full paper [here](https://arxiv.org/pdf/1705.08209.pdf).\n"
   ]
  },
  {
   "cell_type": "markdown",
   "metadata": {},
   "source": [
    "<a id=\"lstm\"></a>\n",
    "# Long short-term memory networks (LSTM)\n",
    "\n",
    "Get ready to be Schmidhubered! :-)\n",
    "\n",
    "<img src=\"https://www.xing.com/img/custom/content/klartext/asset_images/images/000/157/804/x137/image.png?1453288186\">\n",
    "\n",
    "Or more famously [Hochreiter and Schmidhuber 1997](http://www.bioinf.jku.at/publications/older/2604.pdf), in which the heroes are strongly inspired by human short term memory, and would like to create a network which can store signals for arbitrary, but learned length of time, enabling it to effectively infinitely \"memorize\" them.\n",
    "\n",
    "(The joke term \"to be Schmidhubered\" comes from the fact that Prof. Schmidhuber has a long time feud with the Hinton group, and he tries to diminish the importance of their findings, claiming that others - amongst them he-  invented key methods before the \"deep learning conspiracy\". Disturbingly he is sometimes even right. see [this](http://people.idsia.ch/~juergen/deep-learning-conspiracy.html) :-)"
   ]
  },
  {
   "cell_type": "markdown",
   "metadata": {},
   "source": [
    "## Architecture\n",
    "\n",
    "**Gold standard explanation: [Colah's Blog](https://colah.github.io/posts/2015-08-Understanding-LSTMs/)** The personal blog of the researcher Chris Olah.\n",
    "\n",
    "<img src=\"https://colah.github.io/posts/2015-08-Understanding-LSTMs/img/LSTM3-chain.png\" heigth=300 width=600>\n",
    "\n",
    "### Preliminaries\n",
    "\n",
    "Cell state \"travels\" through the process.\n",
    "<img src=\"https://colah.github.io/posts/2015-08-Understanding-LSTMs/img/LSTM3-C-line.png\">\n",
    "\n",
    "\"Gates\" are to be understood as combinations of non-linearities (sigmoid or tanh) and pointwise operations (addition or multiplication).\n",
    "\n",
    "<img src=\"https://colah.github.io/posts/2015-08-Understanding-LSTMs/img/LSTM3-gate.png\">\n",
    "\n",
    "**Some help: Let us imagine if a vector gets multiplied pointwise with something between 0 and 1, this is equivalent to \"deleting\" (0) or \"leaving intact\" (1) some parts of the data.**\n",
    "\n",
    "### 1. step: What would we like to \"forget\"?\n",
    "\n",
    "<img src=\"https://colah.github.io/posts/2015-08-Understanding-LSTMs/img/LSTM3-focus-f.png\">\n",
    "\n",
    "### 2. step: What and where would we like to store?\n",
    "\n",
    "<img src=\"https://colah.github.io/posts/2015-08-Understanding-LSTMs/img/LSTM3-focus-i.png\">\n",
    "\n",
    "### 3. step: Update the cell state!\n",
    "\n",
    "<img src=\"https://colah.github.io/posts/2015-08-Understanding-LSTMs/img/LSTM3-focus-C.png\">\n",
    "\n",
    "### 4. step: Choose and produce the output!\n",
    "\n",
    "<img src=\"https://colah.github.io/posts/2015-08-Understanding-LSTMs/img/LSTM3-focus-o.png\">\n",
    "\n",
    "#### Alternative explanation [here](http://adventuresinmachinelearning.com/recurrent-neural-networks-lstm-tutorial-tensorflow/)\n",
    "\n",
    "This may be worth reading through, since it shows in detail each vector's dimensionality."
   ]
  },
  {
   "cell_type": "markdown",
   "metadata": {},
   "source": [
    "## Properties\n",
    "\n",
    "- \"Unreasonably effective\" Andrej Karpathy's famous blogpost [here](https://karpathy.github.io/2015/05/21/rnn-effectiveness/)\n",
    "\n",
    "\n",
    "- Not jsut effective, but \"Turing complete\"\n",
    "\n",
    "Based on this Jann LeCun (the pioneer of \"backpropaganda\" and big name in ConvNets) talks not just about \"deep learning\", but \"differentiable computing\". LSTM blocks combined - amongst themselves or ConvNets, seq2seq models or memory networks (see later) are making this position more and more plausible.)\n",
    "\n",
    "- It's inner state can effectively summarize long sequences of signals\n",
    "\n",
    "We can imagine it that way, as the final hidden state of activation of an LSTM at the end of a sequence is the dense vector representation summarizing the totality of singals for that sequence. This is a _huge_ advantage for us (for sequence classification or for more advanced operations - see seqseq class).\n",
    "\n",
    "- Does not formally solve exploding gradients, but for that we have brute force grad clipping."
   ]
  },
  {
   "cell_type": "markdown",
   "metadata": {
    "collapsed": true
   },
   "source": [
    "## Variants\n",
    "\n",
    "### \"Peephole connections\"\n",
    "[Recurrent nets that time and count](http://ieeexplore.ieee.org/document/861302/)\n",
    "\n",
    "<img src=\"https://colah.github.io/posts/2015-08-Understanding-LSTMs/img/LSTM3-var-peepholes.png\">\n",
    "\n",
    "The idea is really similar to \"highway\" or \"skip\" connections in case of ConvNets, essentially easing the gradient flow with direct links, as well as adding information for the local decisions of the gates.\n",
    "\n",
    "Details again at the [blog of Chris Olah](https://colah.github.io/posts/2015-08-Understanding-LSTMs/).\n",
    "\n",
    "### Gated recurrent unit\n",
    "\n",
    "<img src=\"https://colah.github.io/posts/2015-08-Understanding-LSTMs/img/LSTM3-var-GRU.png\">\n",
    "\n",
    "[Cho et al. 2014](https://arxiv.org/abs/1406.1078)\n",
    "\n",
    "+ combines the forget gate and input gate into an \"update gate\"\n",
    "+ merges the cell state and hidden state\n"
   ]
  },
  {
   "cell_type": "markdown",
   "metadata": {},
   "source": [
    "## Basic LSTM example\n",
    "\n",
    "Let us go through a **basic** LSTM  example based on a [publicly available property manintenance dataset](# https://combed.github.io/).\n",
    "\n",
    "**This is _not_ a full datascience project, only the demonstration of some data preparation and training concepts!**"
   ]
  },
  {
   "cell_type": "code",
   "execution_count": null,
   "metadata": {
    "collapsed": true
   },
   "outputs": [],
   "source": [
    "!wget https://gitlab.com/andras.simonyi/10_days_AI_training_data/raw/master/Power.csv"
   ]
  },
  {
   "cell_type": "code",
   "execution_count": 10,
   "metadata": {
    "scrolled": true
   },
   "outputs": [
    {
     "data": {
      "text/html": [
       "<div>\n",
       "<style scoped>\n",
       "    .dataframe tbody tr th:only-of-type {\n",
       "        vertical-align: middle;\n",
       "    }\n",
       "\n",
       "    .dataframe tbody tr th {\n",
       "        vertical-align: top;\n",
       "    }\n",
       "\n",
       "    .dataframe thead th {\n",
       "        text-align: right;\n",
       "    }\n",
       "</style>\n",
       "<table border=\"1\" class=\"dataframe\">\n",
       "  <thead>\n",
       "    <tr style=\"text-align: right;\">\n",
       "      <th></th>\n",
       "      <th>Timestamp</th>\n",
       "      <th>Power</th>\n",
       "    </tr>\n",
       "  </thead>\n",
       "  <tbody>\n",
       "    <tr>\n",
       "      <th>0</th>\n",
       "      <td>1.401595e+12</td>\n",
       "      <td>58.694874</td>\n",
       "    </tr>\n",
       "    <tr>\n",
       "      <th>1</th>\n",
       "      <td>1.401595e+12</td>\n",
       "      <td>58.465698</td>\n",
       "    </tr>\n",
       "    <tr>\n",
       "      <th>2</th>\n",
       "      <td>1.401595e+12</td>\n",
       "      <td>58.090099</td>\n",
       "    </tr>\n",
       "    <tr>\n",
       "      <th>3</th>\n",
       "      <td>1.401595e+12</td>\n",
       "      <td>58.260864</td>\n",
       "    </tr>\n",
       "    <tr>\n",
       "      <th>4</th>\n",
       "      <td>1.401595e+12</td>\n",
       "      <td>58.002567</td>\n",
       "    </tr>\n",
       "  </tbody>\n",
       "</table>\n",
       "</div>"
      ],
      "text/plain": [
       "      Timestamp      Power\n",
       "0  1.401595e+12  58.694874\n",
       "1  1.401595e+12  58.465698\n",
       "2  1.401595e+12  58.090099\n",
       "3  1.401595e+12  58.260864\n",
       "4  1.401595e+12  58.002567"
      ]
     },
     "execution_count": 10,
     "metadata": {},
     "output_type": "execute_result"
    }
   ],
   "source": [
    "# Source: Dataset / Academic / Power sockets / 3\n",
    "\n",
    "df = pd.read_csv(\"Power.csv\", header=None)\n",
    "df.columns = [\"Timestamp\",\"Power\"]\n",
    "df.head()"
   ]
  },
  {
   "cell_type": "code",
   "execution_count": 11,
   "metadata": {
    "scrolled": true
   },
   "outputs": [
    {
     "data": {
      "image/png": "[encoded data removed]",
      "text/plain": [
       "<Figure size 432x288 with 1 Axes>"
      ]
     },
     "metadata": {},
     "output_type": "display_data"
    }
   ],
   "source": [
    "df.Power.plot()\n",
    "plt.show()"
   ]
  },
  {
   "cell_type": "code",
   "execution_count": 12,
   "metadata": {
    "scrolled": true
   },
   "outputs": [
    {
     "name": "stdout",
     "output_type": "stream",
     "text": [
      "Shape:  (86200, 2)\n"
     ]
    }
   ],
   "source": [
    "print(\"Shape: \",df.shape)"
   ]
  },
  {
   "cell_type": "code",
   "execution_count": 13,
   "metadata": {
    "scrolled": true
   },
   "outputs": [
    {
     "data": {
      "image/png": "[encoded data removed]",
      "text/plain": [
       "<Figure size 432x288 with 1 Axes>"
      ]
     },
     "metadata": {},
     "output_type": "display_data"
    },
    {
     "data": {
      "image/png": "[encoded data removed]",
      "text/plain": [
       "<Figure size 432x288 with 1 Axes>"
      ]
     },
     "metadata": {},
     "output_type": "display_data"
    },
    {
     "name": "stdout",
     "output_type": "stream",
     "text": [
      "---\n"
     ]
    }
   ],
   "source": [
    "from statsmodels.graphics.tsaplots import plot_pacf, plot_acf\n",
    "\n",
    "plot_acf(df.Power, lags=100, zero=False)\n",
    "plot_pacf(df.Power, lags=100, zero=False)\n",
    "plt.show()\n",
    "print(\"---\")"
   ]
  },
  {
   "cell_type": "code",
   "execution_count": 23,
   "metadata": {
    "collapsed": true,
    "scrolled": true
   },
   "outputs": [],
   "source": [
    "#---- Hyperparams and settings ----\n",
    "\n",
    "num_epochs = 6\n",
    "batch_size = 200\n",
    "learning_rate = 0.01\n",
    "LSTM_SIZE = 300\n",
    "random_seed = 12233344556 # For reproducibility, we keep this fixed\n",
    "\n"
   ]
  },
  {
   "cell_type": "code",
   "execution_count": 15,
   "metadata": {
    "scrolled": true
   },
   "outputs": [
    {
     "name": "stdout",
     "output_type": "stream",
     "text": [
      "(77578, 2)\n",
      "(8620, 2)\n"
     ]
    }
   ],
   "source": [
    "#---- Generate x and y from the raw DataFrame -----\n",
    "\n",
    "# Use timestamp as index and later drop it as separate column - Pandas.DataFrame has index property\n",
    "df = df.set_index(df.Timestamp)\n",
    "\n",
    "# Generate y by shifting x one into the future\n",
    "df[\"y\"] = df.Power.shift(-1)\n",
    "\n",
    "# As said, we don'\"t need this as separate column\n",
    "df.drop(\"Timestamp\",axis=1, inplace=True)\n",
    "\n",
    "# Nor do we need the last rows, where there might be no x or y (NaN) because of the shift\n",
    "df.drop(df.head(1).index, inplace=True)\n",
    "df.drop(df.tail(1).index, inplace=True)\n",
    "\n",
    "# For nicety\n",
    "df.rename(columns={'Power':'x'}, inplace=True)\n",
    "\n",
    "# Just to be sure that we did what we wanted to do. This is good practice!\n",
    "assert df.x.iloc[1] == df.y.iloc[0] \n",
    "assert not df.isnull().values.any()\n",
    "\n",
    "# Use the power and sklearn.model_selection.train_test_split\n",
    "train_df, valid_df = train_test_split(df, test_size=0.1, random_state=random_seed, shuffle=False)\n",
    "\n",
    "# For further reference\n",
    "epoch_length = train_df.shape[0] // batch_size\n",
    "valid_length = valid_df.shape[0] // batch_size\n",
    "\n",
    "#Looks about right doesn't it?\n",
    "print(train_df.shape)\n",
    "print(valid_df.shape)\n"
   ]
  },
  {
   "cell_type": "code",
   "execution_count": 16,
   "metadata": {
    "collapsed": true,
    "scrolled": true
   },
   "outputs": [],
   "source": [
    "# Again magic, comes from the package Blaze, and especially Odo, as a data transformation library\n",
    "# we love oneliners don't we? :-)\n",
    "# See: http://blaze.pydata.org/\n",
    "# And specifically: https://stackoverflow.com/questions/25699439/how-to-iterate-over-consecutive-chunks-of-pandas-dataframe-efficiently\n",
    "# Goal: decompose the training_df into batch-size sized chunks\n",
    "# WARN: only works with: conda install networkx=1.11 blaze odo USE STRCIT VERSION!!!\n",
    "chunks =  bz.odo(train_df, target=bz.chunks(pd.DataFrame), chunksize=batch_size)\n",
    "\n",
    "valid_chunks =  bz.odo(valid_df, target=bz.chunks(pd.DataFrame), chunksize=batch_size)\n"
   ]
  },
  {
   "cell_type": "code",
   "execution_count": 18,
   "metadata": {
    "collapsed": true,
    "scrolled": true
   },
   "outputs": [],
   "source": [
    "import itertools\n",
    "\n",
    "# Another magic, comes from Python's Itertools\n",
    "# see under: https://docs.python.org/3/library/itertools.html#itertools.cycle\n",
    "# Goal: do an infinitely looping iterator over the chunks, \n",
    "# so one call with next(data_iterator) will yieald a minibatch\n",
    "data_iterator = itertools.cycle(chunks)\n",
    "\n",
    "valid_data_iterator = iter(valid_chunks)"
   ]
  },
  {
   "cell_type": "code",
   "execution_count": 24,
   "metadata": {
    "scrolled": true
   },
   "outputs": [
    {
     "name": "stdout",
     "output_type": "stream",
     "text": [
      "Epoch: 0000  full train loss = 8.362  summed valid cost = 4666.559\n",
      "Epoch: 0001  full train loss = 6813.941  summed valid cost = 2833.264\n",
      "Epoch: 0002  full train loss = 5848.980  summed valid cost = 2302.487\n",
      "Epoch: 0003  full train loss = 5060.577  summed valid cost = 2159.358\n",
      "Epoch: 0004  full train loss = 4994.671  summed valid cost = 2312.817\n",
      "Epoch: 0005  full train loss = 4901.423  summed valid cost = 2010.649\n",
      "Optimization Finished!\n",
      "CPU times: user 2min 32s, sys: 14.5 s, total: 2min 47s\n",
      "Wall time: 2min 44s\n"
     ]
    }
   ],
   "source": [
    "%%time\n",
    "\n",
    "# --- Graph definition ----\n",
    "\n",
    "# First things first, clear all possible debris from TF\n",
    "tf.reset_default_graph()\n",
    "# Again for reproducibility reasons, set random seed\n",
    "tf.set_random_seed(random_seed)\n",
    "\n",
    "\n",
    "# Placeholders for feeding in one batch of data\n",
    "x = tf.placeholder(tf.float32, [batch_size,1])\n",
    "y = tf.placeholder(tf.float32, [batch_size,1])\n",
    "\n",
    "\n",
    "# LSTM cell accepting the data as input\n",
    "# there is a more elaborate LSTM implementation under https://www.tensorflow.org/api_docs/python/tf/contrib/rnn/LSTMCell\n",
    "# but we stick to the basics\n",
    "lstm_cell = tf.contrib.rnn.BasicLSTMCell(LSTM_SIZE)\n",
    "\n",
    "# Well, the thing itself\n",
    "outputs, _ = tf.contrib.rnn.static_rnn(lstm_cell, tf.unstack(tf.expand_dims(x, 1), axis=0), dtype=tf.float32)\n",
    "\n",
    "# Linear layer on top of LSTM output for prediction\n",
    "weight = tf.Variable(tf.random_normal([LSTM_SIZE, 1]))\n",
    "bias = tf.Variable(tf.random_normal([1]))\n",
    "# Doing linear \"layer\", getting predictions\n",
    "predictions = tf.matmul(tf.reshape(outputs,[batch_size,LSTM_SIZE]), weight) + bias\n",
    "\n",
    "# Calculate loss. \n",
    "loss = tf.losses.mean_squared_error(y, predictions)\n",
    "\n",
    "# We use Adamm for convenience, but please refer to the optimization class...\n",
    "optimizer = tf.train.AdamOptimizer(learning_rate=learning_rate).minimize(loss)\n",
    "\n",
    "# We need those variables to become really existent\n",
    "init = tf.global_variables_initializer()\n",
    "\n",
    "#--- Main training cycle ---\n",
    "\n",
    "with tf.Session() as sess:\n",
    "    \n",
    "    # I mean REALLY! :-D\n",
    "    sess.run(init)\n",
    "\n",
    "    sum_train_loss=0\n",
    "    \n",
    "    # --- Training cycle ---\n",
    "    for batch_num in range(num_epochs*epoch_length):\n",
    "        \n",
    "        # Get next batch of training data from the infinite iterator\n",
    "        batch = next(data_iterator)\n",
    "        \n",
    "        if batch.x.shape[0]!= batch_size:\n",
    "            #FIXME: implement zero paddign\n",
    "            batch = next(data_iterator)\n",
    "        \n",
    "        # Run the training on the batch\n",
    "        _, batch_loss = sess.run([optimizer, loss], feed_dict={x: np.expand_dims(batch.x.values, axis=1), y: np.expand_dims(batch.y.values, axis=1)})\n",
    "        sum_train_loss += batch_loss\n",
    "        \n",
    "        # at approximate epoch end, integer mod 0\n",
    "        if batch_num % epoch_length == 0:\n",
    "            \n",
    "            sum_valid_loss = 0\n",
    "            full_valid_predictions = []\n",
    "            \n",
    "            for valid_batch in valid_data_iterator:\n",
    "                if valid_batch.x.shape[0]==batch_size:\n",
    "                    # Run the forward pass for one batch on the validation data\n",
    "                    valid_loss, valid_predictions = sess.run([loss, predictions], feed_dict={x: np.expand_dims(valid_batch.x.values,axis=1), y: np.expand_dims(valid_batch.y.values, axis=1)})\n",
    "                    # Collect the loss and predictions of that batch\n",
    "                    sum_valid_loss += valid_loss\n",
    "                    full_valid_predictions.extend(valid_predictions)\n",
    "                else:\n",
    "                    #Fixme: padding\n",
    "                    # \"Resetting\" iterator to be used - there is no explicit reset in default itertools\n",
    "                    valid_data_iterator = iter(valid_chunks)\n",
    "            print(\"Epoch:\", '%04d' % (batch_num // epoch_length), \" full train loss =\", \"{:.3f}\".format(sum_train_loss/epoch_length),  \" summed valid cost =\", \"{:.3f}\".format(sum_valid_loss/valid_length))\n",
    "            #print(\"Epoch:\", '%04d' % (batch_num // epoch_length), \" full train loss (length normalized)=\", \"{:.3f}\".format(sum_train_loss/train_df.shape[0]),  \" summed valid cost (length normalized)=\", \"{:.3f}\".format(sum_valid_loss/valid_df.shape[0]))\n",
    "            sum_train_loss = 0\n",
    "            \n",
    "    print(\"Optimization Finished!\")\n"
   ]
  },
  {
   "cell_type": "code",
   "execution_count": 25,
   "metadata": {
    "scrolled": true
   },
   "outputs": [
    {
     "data": {
      "image/png": "[encoded data removed]",
      "text/plain": [
       "<Figure size 432x288 with 1 Axes>"
      ]
     },
     "metadata": {},
     "output_type": "display_data"
    }
   ],
   "source": [
    "plt.plot(full_valid_predictions)\n",
    "plt.plot(valid_df.y.values)\n",
    "plt.show()\n"
   ]
  },
  {
   "cell_type": "markdown",
   "metadata": {},
   "source": [
    "## How is this model to be improved?\n",
    "\n",
    "In many ways this model is too basic, needs heavy improvement.\n",
    "\n",
    "1. Data loader is not the most effective, is not good for GPU computation. Better use the new [Data API](https://www.tensorflow.org/api_docs/python/tf/data) of TensorFlow\n",
    "2. Does not use regularization at all, Dropout should be added. The question is where to put it in RNNs, for this see [here](http://dx.doi.org/10.1109/ICDAR.2015.7333848) and [here](https://arxiv.org/abs/1512.05287)\n",
    "3. Should use some data normalization, details can be found [here](https://machinelearningmastery.com/normalize-standardize-time-series-data-python/)\n",
    "4. It does not solve the transfer of inner **states between minibatches** and on epoch begin (called \"statefulness\" and \"warmup\" respectively). Tips for **Warmup** [here](https://arxiv.org/pdf/1710.03222.pdf), for statefullness [here](https://stackoverflow.com/questions/38241410/tensorflow-remember-lstm-state-for-next-batch-stateful-lstm?utm_medium=organic&utm_source=google_rich_qa&utm_campaign=google_rich_qa)\n",
    "5. It does not even use train-valid-test split, no validation at all!!! Tips can be found [here](https://machinelearningmastery.com/backtest-machine-learning-models-time-series-forecasting/)\n",
    "6. Hyperparameters could be optimized manually or with search techniques\n",
    "7. [Dynamic_rnn](https://www.tensorflow.org/api_docs/python/tf/nn/dynamic_rnn) model can be used from TensorFlow instead of the static one\n",
    "8. Multiple LSTM layers can be stacked upon each-other\n",
    "9. Even zero padding can be used not to drop batches at the end of epochs\n",
    "\n",
    "As said, a really basic model..."
   ]
  }
 ],
 "metadata": {
  "kernelspec": {
   "display_name": "Python 3",
   "language": "python",
   "name": "python3"
  },
  "language_info": {
   "codemirror_mode": {
    "name": "ipython",
    "version": 3
   },
   "file_extension": ".py",
   "mimetype": "text/x-python",
   "name": "python",
   "nbconvert_exporter": "python",
   "pygments_lexer": "ipython3",
   "version": "3.6.8"
  },
  "toc": {
   "base_numbering": 1,
   "nav_menu": {},
   "number_sections": true,
   "sideBar": true,
   "skip_h1_title": false,
   "title_cell": "Table of Contents",
   "title_sidebar": "Contents",
   "toc_cell": false,
   "toc_position": {},
   "toc_section_display": true,
   "toc_window_display": false
  },
  "varInspector": {
   "cols": {
    "lenName": 16,
    "lenType": 16,
    "lenVar": 40
   },
   "kernels_config": {
    "python": {
     "delete_cmd_postfix": "",
     "delete_cmd_prefix": "del ",
     "library": "var_list.py",
     "varRefreshCmd": "print(var_dic_list())"
    },
    "r": {
     "delete_cmd_postfix": ") ",
     "delete_cmd_prefix": "rm(",
     "library": "var_list.r",
     "varRefreshCmd": "cat(var_dic_list()) "
    }
   },
   "types_to_exclude": [
    "module",
    "function",
    "builtin_function_or_method",
    "instance",
    "_Feature"
   ],
   "window_display": false
  }
 },
 "nbformat": 4,
 "nbformat_minor": 2
}
